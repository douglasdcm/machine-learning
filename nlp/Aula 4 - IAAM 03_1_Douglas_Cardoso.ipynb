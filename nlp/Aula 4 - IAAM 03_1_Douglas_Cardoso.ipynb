{
 "cells": [
  {
   "cell_type": "code",
   "execution_count": 1,
   "metadata": {
    "id": "QFrKIJMwE_Yx"
   },
   "outputs": [
    {
     "name": "stdout",
     "output_type": "stream",
     "text": [
      "Defaulting to user installation because normal site-packages is not writeable\n",
      "Requirement already satisfied: pt_core_news_sm==2.3.0 from https://github.com/explosion/spacy-models/releases/download/pt_core_news_sm-2.3.0/pt_core_news_sm-2.3.0.tar.gz#egg=pt_core_news_sm==2.3.0 in /home/douglas/.local/lib/python3.8/site-packages (2.3.0)\n",
      "Requirement already satisfied: spacy<2.4.0,>=2.3.0 in /home/douglas/.local/lib/python3.8/site-packages (from pt_core_news_sm==2.3.0) (2.3.2)\n",
      "Requirement already satisfied: requests<3.0.0,>=2.13.0 in /usr/lib/python3/dist-packages (from spacy<2.4.0,>=2.3.0->pt_core_news_sm==2.3.0) (2.22.0)\n",
      "Requirement already satisfied: thinc==7.4.1 in /home/douglas/.local/lib/python3.8/site-packages (from spacy<2.4.0,>=2.3.0->pt_core_news_sm==2.3.0) (7.4.1)\n",
      "Requirement already satisfied: catalogue<1.1.0,>=0.0.7 in /home/douglas/.local/lib/python3.8/site-packages (from spacy<2.4.0,>=2.3.0->pt_core_news_sm==2.3.0) (1.0.0)\n",
      "Requirement already satisfied: preshed<3.1.0,>=3.0.2 in /home/douglas/.local/lib/python3.8/site-packages (from spacy<2.4.0,>=2.3.0->pt_core_news_sm==2.3.0) (3.0.2)\n",
      "Requirement already satisfied: tqdm<5.0.0,>=4.38.0 in /home/douglas/.local/lib/python3.8/site-packages (from spacy<2.4.0,>=2.3.0->pt_core_news_sm==2.3.0) (4.50.2)\n",
      "Requirement already satisfied: murmurhash<1.1.0,>=0.28.0 in /home/douglas/.local/lib/python3.8/site-packages (from spacy<2.4.0,>=2.3.0->pt_core_news_sm==2.3.0) (1.0.2)\n",
      "Requirement already satisfied: numpy>=1.15.0 in /home/douglas/.local/lib/python3.8/site-packages (from spacy<2.4.0,>=2.3.0->pt_core_news_sm==2.3.0) (1.19.2)\n",
      "Requirement already satisfied: cymem<2.1.0,>=2.0.2 in /home/douglas/.local/lib/python3.8/site-packages (from spacy<2.4.0,>=2.3.0->pt_core_news_sm==2.3.0) (2.0.3)\n",
      "Requirement already satisfied: blis<0.5.0,>=0.4.0 in /home/douglas/.local/lib/python3.8/site-packages (from spacy<2.4.0,>=2.3.0->pt_core_news_sm==2.3.0) (0.4.1)\n",
      "Requirement already satisfied: wasabi<1.1.0,>=0.4.0 in /home/douglas/.local/lib/python3.8/site-packages (from spacy<2.4.0,>=2.3.0->pt_core_news_sm==2.3.0) (0.8.0)\n",
      "Requirement already satisfied: plac<1.2.0,>=0.9.6 in /home/douglas/.local/lib/python3.8/site-packages (from spacy<2.4.0,>=2.3.0->pt_core_news_sm==2.3.0) (1.1.3)\n",
      "Requirement already satisfied: srsly<1.1.0,>=1.0.2 in /home/douglas/.local/lib/python3.8/site-packages (from spacy<2.4.0,>=2.3.0->pt_core_news_sm==2.3.0) (1.0.2)\n",
      "Requirement already satisfied: setuptools in /usr/lib/python3/dist-packages (from spacy<2.4.0,>=2.3.0->pt_core_news_sm==2.3.0) (45.2.0)\n",
      "\u001b[38;5;2m✔ Download and installation successful\u001b[0m\n",
      "You can now load the model via spacy.load('pt_core_news_sm')\n",
      "\u001b[38;5;2m✔ Linking successful\u001b[0m\n",
      "/home/douglas/.local/lib/python3.8/site-packages/pt_core_news_sm -->\n",
      "/home/douglas/.local/lib/python3.8/site-packages/spacy/data/pt\n",
      "You can now load the model via spacy.load('pt')\n",
      "Defaulting to user installation because normal site-packages is not writeable\n",
      "Requirement already satisfied: en_core_web_sm==2.3.1 from https://github.com/explosion/spacy-models/releases/download/en_core_web_sm-2.3.1/en_core_web_sm-2.3.1.tar.gz#egg=en_core_web_sm==2.3.1 in /home/douglas/.local/lib/python3.8/site-packages (2.3.1)\n",
      "Requirement already satisfied: spacy<2.4.0,>=2.3.0 in /home/douglas/.local/lib/python3.8/site-packages (from en_core_web_sm==2.3.1) (2.3.2)\n",
      "Requirement already satisfied: setuptools in /usr/lib/python3/dist-packages (from spacy<2.4.0,>=2.3.0->en_core_web_sm==2.3.1) (45.2.0)\n",
      "Requirement already satisfied: requests<3.0.0,>=2.13.0 in /usr/lib/python3/dist-packages (from spacy<2.4.0,>=2.3.0->en_core_web_sm==2.3.1) (2.22.0)\n",
      "Requirement already satisfied: plac<1.2.0,>=0.9.6 in /home/douglas/.local/lib/python3.8/site-packages (from spacy<2.4.0,>=2.3.0->en_core_web_sm==2.3.1) (1.1.3)\n",
      "Requirement already satisfied: wasabi<1.1.0,>=0.4.0 in /home/douglas/.local/lib/python3.8/site-packages (from spacy<2.4.0,>=2.3.0->en_core_web_sm==2.3.1) (0.8.0)\n",
      "Requirement already satisfied: cymem<2.1.0,>=2.0.2 in /home/douglas/.local/lib/python3.8/site-packages (from spacy<2.4.0,>=2.3.0->en_core_web_sm==2.3.1) (2.0.3)\n",
      "Requirement already satisfied: tqdm<5.0.0,>=4.38.0 in /home/douglas/.local/lib/python3.8/site-packages (from spacy<2.4.0,>=2.3.0->en_core_web_sm==2.3.1) (4.50.2)\n",
      "Requirement already satisfied: preshed<3.1.0,>=3.0.2 in /home/douglas/.local/lib/python3.8/site-packages (from spacy<2.4.0,>=2.3.0->en_core_web_sm==2.3.1) (3.0.2)\n",
      "Requirement already satisfied: srsly<1.1.0,>=1.0.2 in /home/douglas/.local/lib/python3.8/site-packages (from spacy<2.4.0,>=2.3.0->en_core_web_sm==2.3.1) (1.0.2)\n",
      "Requirement already satisfied: murmurhash<1.1.0,>=0.28.0 in /home/douglas/.local/lib/python3.8/site-packages (from spacy<2.4.0,>=2.3.0->en_core_web_sm==2.3.1) (1.0.2)\n",
      "Requirement already satisfied: numpy>=1.15.0 in /home/douglas/.local/lib/python3.8/site-packages (from spacy<2.4.0,>=2.3.0->en_core_web_sm==2.3.1) (1.19.2)\n",
      "Requirement already satisfied: catalogue<1.1.0,>=0.0.7 in /home/douglas/.local/lib/python3.8/site-packages (from spacy<2.4.0,>=2.3.0->en_core_web_sm==2.3.1) (1.0.0)\n",
      "Requirement already satisfied: thinc==7.4.1 in /home/douglas/.local/lib/python3.8/site-packages (from spacy<2.4.0,>=2.3.0->en_core_web_sm==2.3.1) (7.4.1)\n",
      "Requirement already satisfied: blis<0.5.0,>=0.4.0 in /home/douglas/.local/lib/python3.8/site-packages (from spacy<2.4.0,>=2.3.0->en_core_web_sm==2.3.1) (0.4.1)\n",
      "\u001b[38;5;2m✔ Download and installation successful\u001b[0m\n",
      "You can now load the model via spacy.load('en_core_web_sm')\n",
      "\u001b[38;5;2m✔ Linking successful\u001b[0m\n",
      "/home/douglas/.local/lib/python3.8/site-packages/en_core_web_sm -->\n",
      "/home/douglas/.local/lib/python3.8/site-packages/spacy/data/en\n",
      "You can now load the model via spacy.load('en')\n",
      "Requirement already up-to-date: spacy in /home/douglas/.local/lib/python3.8/site-packages (2.3.2)\n",
      "Requirement already satisfied, skipping upgrade: srsly<1.1.0,>=1.0.2 in /home/douglas/.local/lib/python3.8/site-packages (from spacy) (1.0.2)\n",
      "Requirement already satisfied, skipping upgrade: catalogue<1.1.0,>=0.0.7 in /home/douglas/.local/lib/python3.8/site-packages (from spacy) (1.0.0)\n",
      "Requirement already satisfied, skipping upgrade: tqdm<5.0.0,>=4.38.0 in /home/douglas/.local/lib/python3.8/site-packages (from spacy) (4.50.2)\n",
      "Requirement already satisfied, skipping upgrade: thinc==7.4.1 in /home/douglas/.local/lib/python3.8/site-packages (from spacy) (7.4.1)\n",
      "Requirement already satisfied, skipping upgrade: blis<0.5.0,>=0.4.0 in /home/douglas/.local/lib/python3.8/site-packages (from spacy) (0.4.1)\n",
      "Requirement already satisfied, skipping upgrade: numpy>=1.15.0 in /home/douglas/.local/lib/python3.8/site-packages (from spacy) (1.19.2)\n",
      "Requirement already satisfied, skipping upgrade: murmurhash<1.1.0,>=0.28.0 in /home/douglas/.local/lib/python3.8/site-packages (from spacy) (1.0.2)\n",
      "Requirement already satisfied, skipping upgrade: preshed<3.1.0,>=3.0.2 in /home/douglas/.local/lib/python3.8/site-packages (from spacy) (3.0.2)\n",
      "Requirement already satisfied, skipping upgrade: setuptools in /usr/lib/python3/dist-packages (from spacy) (45.2.0)\n",
      "Requirement already satisfied, skipping upgrade: wasabi<1.1.0,>=0.4.0 in /home/douglas/.local/lib/python3.8/site-packages (from spacy) (0.8.0)\n",
      "Requirement already satisfied, skipping upgrade: cymem<2.1.0,>=2.0.2 in /home/douglas/.local/lib/python3.8/site-packages (from spacy) (2.0.3)\n",
      "Requirement already satisfied, skipping upgrade: plac<1.2.0,>=0.9.6 in /home/douglas/.local/lib/python3.8/site-packages (from spacy) (1.1.3)\n",
      "Requirement already satisfied, skipping upgrade: requests<3.0.0,>=2.13.0 in /usr/lib/python3/dist-packages (from spacy) (2.22.0)\n",
      "Defaulting to user installation because normal site-packages is not writeable\n",
      "Requirement already satisfied: pt_core_news_sm==2.3.0 from https://github.com/explosion/spacy-models/releases/download/pt_core_news_sm-2.3.0/pt_core_news_sm-2.3.0.tar.gz#egg=pt_core_news_sm==2.3.0 in /home/douglas/.local/lib/python3.8/site-packages (2.3.0)\n",
      "Requirement already satisfied: spacy<2.4.0,>=2.3.0 in /home/douglas/.local/lib/python3.8/site-packages (from pt_core_news_sm==2.3.0) (2.3.2)\n",
      "Requirement already satisfied: plac<1.2.0,>=0.9.6 in /home/douglas/.local/lib/python3.8/site-packages (from spacy<2.4.0,>=2.3.0->pt_core_news_sm==2.3.0) (1.1.3)\n"
     ]
    },
    {
     "name": "stdout",
     "output_type": "stream",
     "text": [
      "Requirement already satisfied: murmurhash<1.1.0,>=0.28.0 in /home/douglas/.local/lib/python3.8/site-packages (from spacy<2.4.0,>=2.3.0->pt_core_news_sm==2.3.0) (1.0.2)\n",
      "Requirement already satisfied: srsly<1.1.0,>=1.0.2 in /home/douglas/.local/lib/python3.8/site-packages (from spacy<2.4.0,>=2.3.0->pt_core_news_sm==2.3.0) (1.0.2)\n",
      "Requirement already satisfied: cymem<2.1.0,>=2.0.2 in /home/douglas/.local/lib/python3.8/site-packages (from spacy<2.4.0,>=2.3.0->pt_core_news_sm==2.3.0) (2.0.3)\n",
      "Requirement already satisfied: wasabi<1.1.0,>=0.4.0 in /home/douglas/.local/lib/python3.8/site-packages (from spacy<2.4.0,>=2.3.0->pt_core_news_sm==2.3.0) (0.8.0)\n",
      "Requirement already satisfied: catalogue<1.1.0,>=0.0.7 in /home/douglas/.local/lib/python3.8/site-packages (from spacy<2.4.0,>=2.3.0->pt_core_news_sm==2.3.0) (1.0.0)\n",
      "Requirement already satisfied: setuptools in /usr/lib/python3/dist-packages (from spacy<2.4.0,>=2.3.0->pt_core_news_sm==2.3.0) (45.2.0)\n",
      "Requirement already satisfied: blis<0.5.0,>=0.4.0 in /home/douglas/.local/lib/python3.8/site-packages (from spacy<2.4.0,>=2.3.0->pt_core_news_sm==2.3.0) (0.4.1)\n",
      "Requirement already satisfied: tqdm<5.0.0,>=4.38.0 in /home/douglas/.local/lib/python3.8/site-packages (from spacy<2.4.0,>=2.3.0->pt_core_news_sm==2.3.0) (4.50.2)\n",
      "Requirement already satisfied: numpy>=1.15.0 in /home/douglas/.local/lib/python3.8/site-packages (from spacy<2.4.0,>=2.3.0->pt_core_news_sm==2.3.0) (1.19.2)\n",
      "Requirement already satisfied: requests<3.0.0,>=2.13.0 in /usr/lib/python3/dist-packages (from spacy<2.4.0,>=2.3.0->pt_core_news_sm==2.3.0) (2.22.0)\n",
      "Requirement already satisfied: preshed<3.1.0,>=3.0.2 in /home/douglas/.local/lib/python3.8/site-packages (from spacy<2.4.0,>=2.3.0->pt_core_news_sm==2.3.0) (3.0.2)\n",
      "Requirement already satisfied: thinc==7.4.1 in /home/douglas/.local/lib/python3.8/site-packages (from spacy<2.4.0,>=2.3.0->pt_core_news_sm==2.3.0) (7.4.1)\n",
      "\u001b[38;5;2m✔ Download and installation successful\u001b[0m\n",
      "You can now load the model via spacy.load('pt_core_news_sm')\n",
      "Defaulting to user installation because normal site-packages is not writeable\n",
      "Requirement already satisfied: en_core_web_sm==2.3.1 from https://github.com/explosion/spacy-models/releases/download/en_core_web_sm-2.3.1/en_core_web_sm-2.3.1.tar.gz#egg=en_core_web_sm==2.3.1 in /home/douglas/.local/lib/python3.8/site-packages (2.3.1)\n",
      "Requirement already satisfied: spacy<2.4.0,>=2.3.0 in /home/douglas/.local/lib/python3.8/site-packages (from en_core_web_sm==2.3.1) (2.3.2)\n",
      "Requirement already satisfied: cymem<2.1.0,>=2.0.2 in /home/douglas/.local/lib/python3.8/site-packages (from spacy<2.4.0,>=2.3.0->en_core_web_sm==2.3.1) (2.0.3)\n",
      "Requirement already satisfied: wasabi<1.1.0,>=0.4.0 in /home/douglas/.local/lib/python3.8/site-packages (from spacy<2.4.0,>=2.3.0->en_core_web_sm==2.3.1) (0.8.0)\n",
      "Requirement already satisfied: numpy>=1.15.0 in /home/douglas/.local/lib/python3.8/site-packages (from spacy<2.4.0,>=2.3.0->en_core_web_sm==2.3.1) (1.19.2)\n",
      "Requirement already satisfied: plac<1.2.0,>=0.9.6 in /home/douglas/.local/lib/python3.8/site-packages (from spacy<2.4.0,>=2.3.0->en_core_web_sm==2.3.1) (1.1.3)\n",
      "Requirement already satisfied: requests<3.0.0,>=2.13.0 in /usr/lib/python3/dist-packages (from spacy<2.4.0,>=2.3.0->en_core_web_sm==2.3.1) (2.22.0)\n",
      "Requirement already satisfied: thinc==7.4.1 in /home/douglas/.local/lib/python3.8/site-packages (from spacy<2.4.0,>=2.3.0->en_core_web_sm==2.3.1) (7.4.1)\n",
      "Requirement already satisfied: blis<0.5.0,>=0.4.0 in /home/douglas/.local/lib/python3.8/site-packages (from spacy<2.4.0,>=2.3.0->en_core_web_sm==2.3.1) (0.4.1)\n",
      "Requirement already satisfied: tqdm<5.0.0,>=4.38.0 in /home/douglas/.local/lib/python3.8/site-packages (from spacy<2.4.0,>=2.3.0->en_core_web_sm==2.3.1) (4.50.2)\n",
      "Requirement already satisfied: catalogue<1.1.0,>=0.0.7 in /home/douglas/.local/lib/python3.8/site-packages (from spacy<2.4.0,>=2.3.0->en_core_web_sm==2.3.1) (1.0.0)\n",
      "Requirement already satisfied: murmurhash<1.1.0,>=0.28.0 in /home/douglas/.local/lib/python3.8/site-packages (from spacy<2.4.0,>=2.3.0->en_core_web_sm==2.3.1) (1.0.2)\n",
      "Requirement already satisfied: srsly<1.1.0,>=1.0.2 in /home/douglas/.local/lib/python3.8/site-packages (from spacy<2.4.0,>=2.3.0->en_core_web_sm==2.3.1) (1.0.2)\n",
      "Requirement already satisfied: preshed<3.1.0,>=3.0.2 in /home/douglas/.local/lib/python3.8/site-packages (from spacy<2.4.0,>=2.3.0->en_core_web_sm==2.3.1) (3.0.2)\n",
      "Requirement already satisfied: setuptools in /usr/lib/python3/dist-packages (from spacy<2.4.0,>=2.3.0->en_core_web_sm==2.3.1) (45.2.0)\n",
      "\u001b[38;5;2m✔ Download and installation successful\u001b[0m\n",
      "You can now load the model via spacy.load('en_core_web_sm')\n",
      "Requirement already satisfied: spacy in /home/douglas/.local/lib/python3.8/site-packages (2.3.2)\n",
      "Requirement already satisfied: catalogue<1.1.0,>=0.0.7 in /home/douglas/.local/lib/python3.8/site-packages (from spacy) (1.0.0)\n",
      "Requirement already satisfied: blis<0.5.0,>=0.4.0 in /home/douglas/.local/lib/python3.8/site-packages (from spacy) (0.4.1)\n",
      "Requirement already satisfied: murmurhash<1.1.0,>=0.28.0 in /home/douglas/.local/lib/python3.8/site-packages (from spacy) (1.0.2)\n",
      "Requirement already satisfied: wasabi<1.1.0,>=0.4.0 in /home/douglas/.local/lib/python3.8/site-packages (from spacy) (0.8.0)\n",
      "Requirement already satisfied: preshed<3.1.0,>=3.0.2 in /home/douglas/.local/lib/python3.8/site-packages (from spacy) (3.0.2)\n",
      "Requirement already satisfied: setuptools in /usr/lib/python3/dist-packages (from spacy) (45.2.0)\n",
      "Requirement already satisfied: thinc==7.4.1 in /home/douglas/.local/lib/python3.8/site-packages (from spacy) (7.4.1)\n",
      "Requirement already satisfied: cymem<2.1.0,>=2.0.2 in /home/douglas/.local/lib/python3.8/site-packages (from spacy) (2.0.3)\n",
      "Requirement already satisfied: tqdm<5.0.0,>=4.38.0 in /home/douglas/.local/lib/python3.8/site-packages (from spacy) (4.50.2)\n",
      "Requirement already satisfied: requests<3.0.0,>=2.13.0 in /usr/lib/python3/dist-packages (from spacy) (2.22.0)\n",
      "Requirement already satisfied: numpy>=1.15.0 in /home/douglas/.local/lib/python3.8/site-packages (from spacy) (1.19.2)\n",
      "Requirement already satisfied: plac<1.2.0,>=0.9.6 in /home/douglas/.local/lib/python3.8/site-packages (from spacy) (1.1.3)\n",
      "Requirement already satisfied: srsly<1.1.0,>=1.0.2 in /home/douglas/.local/lib/python3.8/site-packages (from spacy) (1.0.2)\n",
      "Requirement already satisfied: beautifulsoup4 in /home/douglas/.local/lib/python3.8/site-packages (4.9.3)\n",
      "Requirement already satisfied: soupsieve>1.2; python_version >= \"3.0\" in /home/douglas/.local/lib/python3.8/site-packages (from beautifulsoup4) (2.0.1)\n"
     ]
    }
   ],
   "source": [
    "!python3 -m spacy download pt\n",
    "!python3 -m spacy download en\n",
    "!pip3 install -U spacy\n",
    "!python3 -m spacy download pt_core_news_sm\n",
    "!python3 -m spacy download en_core_web_sm\n",
    "!pip3 install spacy\n",
    "!pip3 install beautifulsoup4\n",
    "!pip3 install html5lib"
   ]
  },
  {
   "cell_type": "code",
   "execution_count": 2,
   "metadata": {
    "id": "srgJOcF_E_Y4",
    "outputId": "81217aeb-557d-43b3-8229-4ec02a50b6d9"
   },
   "outputs": [],
   "source": [
    "import nltk\n",
    "import spacy\n",
    "from spacy import displacy \n",
    "import tqdm\n",
    "import operator\n",
    "import requests\n",
    "from bs4 import BeautifulSoup\n",
    "import re\n",
    "import pt_core_news_sm\n",
    "import en_core_web_sm\n",
    "from collections import Counter\n",
    "import random\n",
    "import operator\n",
    "import matplotlib.pyplot as plt\n",
    "import html5lib"
   ]
  },
  {
   "cell_type": "markdown",
   "metadata": {
    "id": "4xX0c3nBE_ZA"
   },
   "source": [
    "# Pos tagging"
   ]
  },
  {
   "cell_type": "markdown",
   "metadata": {
    "id": "B7qiO_RUE_ZB"
   },
   "source": [
    "## Abordagem Manual\n",
    "\n",
    "Em empresas, quando queremos construir/usar um POS Tagging, estamos buscando uma ferramenta para trabalhar em algum cenário específico e direcionado ao negócio. Por exemplo, recuperar todos os verbos de um texto, para analisar de forma geral as ações que um cliente conecta com a marca no Twitter. Nesse sentido, podemos usar duas abordagens:\n",
    "\n",
    "    1 - Construir um modelo próprio que resolva esse cenário\n",
    "    2 - Usar modelos que já existem e, se necessário, treiná-los para melhor performance no nosso cenário\n",
    "\n",
    "Para esse exercício, vamos simular esse cenário de recuperar verbos de um texto. Apesar da abordagem 2 parecer mais interessante, vamos tentar construir nosso próprio modelo e aprender um pouco sobre a complexidade do problema.\n",
    "\n",
    "Inicialmente, vamos reduzir bem nosso escopo, focando em\n",
    "\n",
    "    - REGEX com NamedGoups\n",
    "    - Verbos simples, como estudar\n",
    "    \n",
    "Use o método abaixo para verificar quais grupos foram identificados pela expressão regular:\n",
    "\n",
    "```python\n",
    "def print_found_groups(pattern, phrase):\n",
    "    regex = re.compile(pattern)\n",
    "    for m in regex.finditer(phrase):\n",
    "        print({k:v for(k,v) in m.groupdict().items() if v is not None})\n",
    "```\n",
    "\n",
    "Mais informações de regex: https://docs.python.org/pt-br/3.8/howto/regex.html"
   ]
  },
  {
   "cell_type": "code",
   "execution_count": 7,
   "metadata": {
    "id": "44VqvRf5E_ZC"
   },
   "outputs": [],
   "source": [
    "def print_found_groups(pattern, phrase):\n",
    "    regex = re.compile(pattern)\n",
    "    for m in regex.finditer(phrase):\n",
    "        print({k:v for(k,v) in m.groupdict().items() if v is not None})"
   ]
  },
  {
   "cell_type": "code",
   "execution_count": 8,
   "metadata": {
    "id": "_Zal3TCIE_ZH"
   },
   "outputs": [],
   "source": [
    "phrase1 = \"eu estudo, você estuda, nós estudamos e vc sabe como é... estudos em todo lugar \""
   ]
  },
  {
   "cell_type": "code",
   "execution_count": 13,
   "metadata": {
    "id": "g3pukzn_E_ZL"
   },
   "outputs": [],
   "source": [
    "estudar_pattern_try1 = r'(?P<VERB_ESTUDAR>\\bestud\\w?\\b)'"
   ]
  },
  {
   "cell_type": "code",
   "execution_count": 14,
   "metadata": {
    "id": "57k1JsbtE_ZQ",
    "outputId": "75f16af8-1e82-4f65-fb1c-7a80ac1b2dc1"
   },
   "outputs": [
    {
     "name": "stdout",
     "output_type": "stream",
     "text": [
      "{'VERB_ESTUDAR': 'estudo'}\n",
      "{'VERB_ESTUDAR': 'estuda'}\n"
     ]
    }
   ],
   "source": [
    "print_found_groups(estudar_pattern_try1, phrase1)"
   ]
  },
  {
   "cell_type": "markdown",
   "metadata": {
    "id": "VLGxoUwgE_ZU"
   },
   "source": [
    "<b> Atividade </b>\n",
    "\n",
    "1) Modifique o padrão da regex para conseguir reconhecer todas as conjugações do verbo estudar na 'phrase1'"
   ]
  },
  {
   "cell_type": "code",
   "execution_count": 15,
   "metadata": {
    "id": "25H2yQHvE_ZW"
   },
   "outputs": [],
   "source": [
    "estudar_pattern_try1 = r'(?P<VERB_ESTUDAR>\\bestud\\w*?\\b)'"
   ]
  },
  {
   "cell_type": "code",
   "execution_count": 16,
   "metadata": {},
   "outputs": [
    {
     "name": "stdout",
     "output_type": "stream",
     "text": [
      "{'VERB_ESTUDAR': 'estudo'}\n",
      "{'VERB_ESTUDAR': 'estuda'}\n",
      "{'VERB_ESTUDAR': 'estudamos'}\n",
      "{'VERB_ESTUDAR': 'estudos'}\n"
     ]
    }
   ],
   "source": [
    "print_found_groups(estudar_pattern_try1, phrase1)"
   ]
  },
  {
   "cell_type": "markdown",
   "metadata": {
    "id": "uG-4wO3yE_Za"
   },
   "source": [
    "<b> Atividade </b>\n",
    "\n",
    "2) A solução da atividade 1 trouxe todos verbos? Todas as palavras eram verbos? "
   ]
  },
  {
   "cell_type": "code",
   "execution_count": null,
   "metadata": {
    "id": "GozH1L--E_Zb"
   },
   "outputs": [],
   "source": [
    "Sim, mas o \"estudo\" que é um substantivo foi retornado como um verbo."
   ]
  },
  {
   "cell_type": "markdown",
   "metadata": {
    "id": "9iw96PaGE_Zf"
   },
   "source": [
    "<b> Atividade </b>\n",
    "\n",
    "3) Modifique o padrão da regex para identificar todos os verbos da frase abaixo. \n",
    "\n",
    "```python\n",
    "phrase2 = \"O principal uso que fazemos do canvas é ver e entregar exercícios, além de acessar os materiais postados pelos professores. É importante realizar o acesso todos os dias.\"\n",
    "```\n",
    "\n",
    "Observe que 'acessar' e 'acesso', apesar de serem palavras semelhantes, despenham papéis diferentes. O 'acesso' é um caso claro de polissemia. Observe as duas frases abaixo que isto ficará mais claro:\n",
    "\n",
    "    - Meu acesso funcionou -> Aqui é substantivo\n",
    "    - Eu acesso a aula -> Aqui é verbo\n",
    "\n",
    "Utilize o método abaixo para retornar os grupos de acordo com a expressão regular construída:\n",
    "```python\n",
    "def get_found_groups(pattern, phrase):\n",
    "    regex = re.compile(pattern)\n",
    "    return {v:k for m in regex.finditer(phrase) for(k,v) in m.groupdict().items() if v is not None }\n",
    "```"
   ]
  },
  {
   "cell_type": "code",
   "execution_count": 41,
   "metadata": {
    "id": "6R9e3wF8E_Zg"
   },
   "outputs": [],
   "source": [
    "phrase2 = \"O principal uso que fazemos do canvas é ver e entregar exercícios, além de acessar os materiais postados pelos professores. É importante realizar o acesso todos os dias.\""
   ]
  },
  {
   "cell_type": "code",
   "execution_count": 42,
   "metadata": {},
   "outputs": [],
   "source": [
    "def get_found_groups(pattern, phrase):\n",
    "    regex = re.compile(pattern)\n",
    "    return {v:k for m in regex.finditer(phrase) for(k,v) in m.groupdict().items() if v is not None }"
   ]
  },
  {
   "cell_type": "code",
   "execution_count": 43,
   "metadata": {
    "id": "c6U-gQ6DE_Zk"
   },
   "outputs": [
    {
     "data": {
      "text/plain": [
       "'O principal uso que fazemos do canvas é ver e entregar exercícios, além de acessar os materiais postados pelos professores. É importante realizar o acesso todos os dias.'"
      ]
     },
     "execution_count": 43,
     "metadata": {},
     "output_type": "execute_result"
    }
   ],
   "source": [
    "phrase2"
   ]
  },
  {
   "cell_type": "code",
   "execution_count": 44,
   "metadata": {
    "id": "xwTPSaTrE_Zp"
   },
   "outputs": [],
   "source": [
    "lista_verbos = [\"uso\", \"faz\\{0,4}\", \"é\", \"entregar\", \"acess\\w{1,2}\", \"realizar\"]"
   ]
  },
  {
   "cell_type": "code",
   "execution_count": 45,
   "metadata": {},
   "outputs": [],
   "source": [
    "verbos_string = '|'.join(lista_verbos)"
   ]
  },
  {
   "cell_type": "code",
   "execution_count": 46,
   "metadata": {},
   "outputs": [
    {
     "data": {
      "text/plain": [
       "'uso|faz\\\\{0,4}|é|entregar|acess\\\\w{1,2}|realizar'"
      ]
     },
     "execution_count": 46,
     "metadata": {},
     "output_type": "execute_result"
    }
   ],
   "source": [
    "verbos_string"
   ]
  },
  {
   "cell_type": "code",
   "execution_count": 47,
   "metadata": {},
   "outputs": [],
   "source": [
    "padrao1 =  r'(?P<VERB>'+verbos_string+')'"
   ]
  },
  {
   "cell_type": "code",
   "execution_count": 48,
   "metadata": {},
   "outputs": [
    {
     "data": {
      "text/plain": [
       "{'uso': 'VERB',\n",
       " 'é': 'VERB',\n",
       " 'entregar': 'VERB',\n",
       " 'acessar': 'VERB',\n",
       " 'realizar': 'VERB',\n",
       " 'acesso': 'VERB'}"
      ]
     },
     "execution_count": 48,
     "metadata": {},
     "output_type": "execute_result"
    }
   ],
   "source": [
    "get_found_groups(padrao1, phrase2)"
   ]
  },
  {
   "cell_type": "markdown",
   "metadata": {
    "id": "d1eG9d9mE_Zx"
   },
   "source": [
    "<b> Atividade </b>\n",
    "\n",
    "4) Modifique o padrão da regex para identificar todos os substantivos da frase abaixo. \n",
    "\n",
    "```python\n",
    "phrase2 = \"O principal uso que fazemos do canvas é ver e entregar exercícios, além de acessar os materiais postados pelos professores. É importante realizar o acesso todos os dias.\"\n",
    "```\n",
    "\n",
    "Utilize o método abaixo para retornar os grupos de acordo com a expressão regular construída:\n",
    "```python\n",
    "def get_found_groups(pattern, phrase):\n",
    "    regex = re.compile(pattern)\n",
    "    return {v:k for m in regex.finditer(phrase) for(k,v) in m.groupdict().items() if v is not None }\n",
    "```"
   ]
  },
  {
   "cell_type": "code",
   "execution_count": 49,
   "metadata": {},
   "outputs": [],
   "source": [
    "phrase2 = \"O principal uso que fazemos do canvas é ver e entregar exercícios, além de acessar os materiais postados pelos professores. É importante realizar o acesso todos os dias.\""
   ]
  },
  {
   "cell_type": "code",
   "execution_count": 50,
   "metadata": {
    "id": "6_98okQ7E_Zx"
   },
   "outputs": [],
   "source": [
    "lista_subs = [\"canvas\",\"exercício\\w{0,1}\",\"materia\\w{0,2}\",\"professor\\w{0,2}\",\"acesso\"]"
   ]
  },
  {
   "cell_type": "code",
   "execution_count": 51,
   "metadata": {},
   "outputs": [
    {
     "data": {
      "text/plain": [
       "['canvas',\n",
       " 'exercício\\\\w{0,1}',\n",
       " 'materia\\\\w{0,2}',\n",
       " 'professor\\\\w{0,2}',\n",
       " 'acesso']"
      ]
     },
     "execution_count": 51,
     "metadata": {},
     "output_type": "execute_result"
    }
   ],
   "source": [
    "lista_subs"
   ]
  },
  {
   "cell_type": "code",
   "execution_count": 52,
   "metadata": {},
   "outputs": [],
   "source": [
    "subs_string = '|'.join(lista_subs)"
   ]
  },
  {
   "cell_type": "code",
   "execution_count": 53,
   "metadata": {},
   "outputs": [
    {
     "data": {
      "text/plain": [
       "'canvas|exercício\\\\w{0,1}|materia\\\\w{0,2}|professor\\\\w{0,2}|acesso'"
      ]
     },
     "execution_count": 53,
     "metadata": {},
     "output_type": "execute_result"
    }
   ],
   "source": [
    "subs_string"
   ]
  },
  {
   "cell_type": "code",
   "execution_count": 58,
   "metadata": {},
   "outputs": [],
   "source": [
    "padrao2 =  r'(?P<SUBS>'+subs_string+')'"
   ]
  },
  {
   "cell_type": "code",
   "execution_count": 59,
   "metadata": {
    "id": "1M20s2XPE_Z1"
   },
   "outputs": [
    {
     "data": {
      "text/plain": [
       "{'canvas': 'SUBS',\n",
       " 'exercícios': 'SUBS',\n",
       " 'materiais': 'SUBS',\n",
       " 'professores': 'SUBS',\n",
       " 'acesso': 'SUBS'}"
      ]
     },
     "execution_count": 59,
     "metadata": {},
     "output_type": "execute_result"
    }
   ],
   "source": [
    "get_found_groups(padrao2, phrase2)"
   ]
  },
  {
   "cell_type": "markdown",
   "metadata": {
    "id": "s9ZpeTTFE_Z6"
   },
   "source": [
    "<b> Atividade </b>\n",
    "\n",
    "5) Essa abordagem de construção da regex para taggear as palavras é uma tarefa simples? Qual o valor/aplicação você consegue enxergar para ela?"
   ]
  },
  {
   "cell_type": "code",
   "execution_count": null,
   "metadata": {
    "id": "NXS6HZM8E_Z8"
   },
   "outputs": [],
   "source": [
    "Não. O esforço de mapeamento das palaras é grande. Ela pode ser aplicada para tagueamento em contextos específicos."
   ]
  },
  {
   "cell_type": "markdown",
   "metadata": {
    "id": "YL57ryVDE_Z_"
   },
   "source": [
    "<b> Atividade </b>\n",
    "\n",
    "6) Nas atividades 3 e 4 você retornou todos os substantivos e verbos da phrase2. Agora marque-os na frase.  O retorno esperado da frase é: \n",
    "\n",
    "``O principal uso_VERB que fazemos_VERB do canvas é ver_VERB e entregar_VERB exercícios, além de acessar_VERB os materiais postados pelos professores. É importante realizar_VERB o acesso_SUBS|VERB todos os dias.``\n",
    "\n",
    "Observe que a palavra acesso tem duas tags = SUBS e VERB."
   ]
  },
  {
   "cell_type": "code",
   "execution_count": null,
   "metadata": {},
   "outputs": [],
   "source": []
  },
  {
   "cell_type": "markdown",
   "metadata": {
    "id": "PZT_N2z4E_aJ"
   },
   "source": [
    "## Mac_Morpho com NLTK"
   ]
  },
  {
   "cell_type": "code",
   "execution_count": 83,
   "metadata": {
    "id": "fvQXSBarE_aJ",
    "outputId": "ec27288b-6325-4c55-8e09-074d44fc7a09"
   },
   "outputs": [
    {
     "name": "stderr",
     "output_type": "stream",
     "text": [
      "[nltk_data] Downloading package mac_morpho to\n",
      "[nltk_data]     /home/douglas/nltk_data...\n",
      "[nltk_data]   Package mac_morpho is already up-to-date!\n"
     ]
    },
    {
     "name": "stdout",
     "output_type": "stream",
     "text": [
      "WORDS  [('Jersei', 'N'), ('atinge', 'V'), ('média', 'N'), ...]\n",
      "______________\n",
      "SENTS  [[('Jersei', 'N'), ('atinge', 'V'), ('média', 'N'), ('de', 'PREP'), ('Cr$', 'CUR'), ('1,4', 'NUM'), ('milhão', 'N'), ('em', 'PREP|+'), ('a', 'ART'), ('venda', 'N'), ('de', 'PREP|+'), ('a', 'ART'), ('Pinhal', 'NPROP'), ('em', 'PREP'), ('São', 'NPROP'), ('Paulo', 'NPROP')], [('Programe', 'V'), ('sua', 'PROADJ'), ('viagem', 'N'), ('a', 'PREP|+'), ('a', 'ART'), ('Exposição', 'NPROP'), ('Nacional', 'NPROP'), ('do', 'NPROP'), ('Zebu', 'NPROP'), (',', ','), ('que', 'PRO-KS-REL'), ('começa', 'V'), ('dia', 'N'), ('25', 'N|AP')], ...]\n"
     ]
    }
   ],
   "source": [
    "nltk.download('mac_morpho')\n",
    "print(\"WORDS \", nltk.corpus.mac_morpho.tagged_words())\n",
    "print(\"______________\")\n",
    "print(\"SENTS \",nltk.corpus.mac_morpho.tagged_sents())"
   ]
  },
  {
   "cell_type": "code",
   "execution_count": 84,
   "metadata": {
    "id": "5UgJQWATE_aN"
   },
   "outputs": [],
   "source": [
    "words_tagged = nltk.corpus.mac_morpho.tagged_words()"
   ]
  },
  {
   "cell_type": "markdown",
   "metadata": {
    "id": "HsX2TEENE_aQ"
   },
   "source": [
    "<b> Atividade </b>\n",
    "\n",
    "7) Gere a quantidade de itens de cada tag no mac_morpho"
   ]
  },
  {
   "cell_type": "code",
   "execution_count": 86,
   "metadata": {},
   "outputs": [],
   "source": [
    "tags = {}"
   ]
  },
  {
   "cell_type": "code",
   "execution_count": 87,
   "metadata": {
    "id": "XClZNCt3E_aQ"
   },
   "outputs": [],
   "source": [
    "for palavra in words_tagged:\n",
    "    if palavra[1] not in tags.keys():\n",
    "        tags[palavra[1]] = 1\n",
    "    else:\n",
    "        tags[palavra[1]] += 1"
   ]
  },
  {
   "cell_type": "code",
   "execution_count": 89,
   "metadata": {
    "id": "_t_kcKloE_aT"
   },
   "outputs": [
    {
     "data": {
      "text/plain": [
       "[('VAUX|!', 1),\n",
       " ('IN|EST', 1),\n",
       " ('V|!', 1),\n",
       " ('NUM|TEL', 2),\n",
       " ('PREP|', 2),\n",
       " ('KC|EST', 2),\n",
       " ('PROADJ|+', 2),\n",
       " ('PROPESS|EST', 2),\n",
       " ('PDEN|EST', 2),\n",
       " ('PROPESS|+', 2),\n",
       " ('KC|+', 2),\n",
       " ('NPRO', 3),\n",
       " ('PREP|EST', 3),\n",
       " ('`', 3),\n",
       " ('ART|EST', 4),\n",
       " ('KS|]', 4),\n",
       " ('V|EST', 5),\n",
       " ('KS|[', 5),\n",
       " ('ART|+', 7),\n",
       " ('PREP|+]', 7),\n",
       " ('PROP', 7),\n",
       " ('ADV|+', 8),\n",
       " ('PREP|]', 9),\n",
       " ('ADV|EST', 9),\n",
       " ('ADV|HOR', 9),\n",
       " ('((', 10),\n",
       " ('))', 10),\n",
       " ('ADJ|+', 11),\n",
       " ('ADV|]', 13),\n",
       " ('=', 14),\n",
       " ('ADV|[', 18),\n",
       " ('PREP|[', 20),\n",
       " ('[', 23),\n",
       " ('NPROP|+', 35),\n",
       " ('$', 60),\n",
       " ('.', 82),\n",
       " ('...', 84),\n",
       " ('/', 95),\n",
       " ('VAUX|+', 99),\n",
       " ('KC|]', 133),\n",
       " ('KC|[', 143),\n",
       " ('ADJ|EST', 174),\n",
       " ('N|DAD', 255),\n",
       " ('N|DAT', 285),\n",
       " ('ADV-KS', 392),\n",
       " ('IN', 415),\n",
       " (\"'\", 510),\n",
       " ('N|TEL', 866),\n",
       " ('ADV-KS-REL', 898),\n",
       " ('N|HOR', 913),\n",
       " ('!', 919),\n",
       " (';', 1376),\n",
       " ('?', 1510),\n",
       " ('PRO-KS', 2150),\n",
       " ('V|+', 2373),\n",
       " ('CUR', 2706),\n",
       " ('N|EST', 2807),\n",
       " ('-', 3117),\n",
       " ('N|AP', 4350),\n",
       " (':', 6736),\n",
       " ('PDEN', 6786),\n",
       " ('(', 7713),\n",
       " (')', 7741),\n",
       " ('PROSUB', 8598),\n",
       " ('PRO-KS-REL', 11347),\n",
       " ('KS', 14320),\n",
       " ('PROPESS', 14718),\n",
       " ('VAUX', 17832),\n",
       " ('NUM', 18110),\n",
       " ('PROADJ', 20919),\n",
       " ('\"', 21069),\n",
       " ('PCP', 23092),\n",
       " ('KC', 28262),\n",
       " ('ADV', 30653),\n",
       " ('ADJ', 53372),\n",
       " (',', 68494),\n",
       " ('PREP|+', 78274),\n",
       " ('V', 98056),\n",
       " ('PREP', 104364),\n",
       " ('NPROP', 114318),\n",
       " ('ART', 151891),\n",
       " ('N', 236462)]"
      ]
     },
     "execution_count": 89,
     "metadata": {},
     "output_type": "execute_result"
    }
   ],
   "source": [
    "sorted(tags.items(), key=operator.itemgetter(1))"
   ]
  },
  {
   "cell_type": "markdown",
   "metadata": {
    "id": "9XFQU0cdE_aY"
   },
   "source": [
    "8) Quais são as tags mais com maior frequência? E quais com menor? Esse resultado faz sentido?"
   ]
  },
  {
   "cell_type": "code",
   "execution_count": null,
   "metadata": {
    "id": "oJBydea5E_aY"
   },
   "outputs": [],
   "source": [
    "As tags com maior frequência são N (substantivo), Artigo, Nome Própiro, Preposição e Verbo. Faz sentido, pois no são palaras com costumam ocorrer com maior frequências em textos."
   ]
  },
  {
   "cell_type": "markdown",
   "metadata": {
    "id": "JT2wA46DE_ac"
   },
   "source": [
    "## POS Tagging com Spacy - Desambiguando frases\n",
    "\n",
    "Uma das aplicações do pos tagging é auxiliar na desambiguação de palavras. Uma mesma palavra pode desempenhar funções semântias diferentes, dependendo do contexto.\n",
    "\n",
    "<b> Atividade </b>\n",
    "\n",
    "9) Considere as frases abaixo:\n",
    "\n",
    "9.1) frases grupo1:\n",
    "```python\n",
    "frase0=\"Ele foi andar\"\n",
    "frase1=\"O andar estava triste\"\n",
    "```\n",
    "\n",
    "9.2) frase grupo2:\n",
    "```python\n",
    "frase2=\"Essa cola cola papel\"\n",
    "```\n",
    "9.3) frases grupo3:\n",
    "```python\n",
    "frase3=\"Hora de fazer imposto de renda\"\n",
    "frase4=\"Aquilo foi imposto pelo chefe\"\n",
    "```\n",
    "\n",
    "9.4) frases grupo4:\n",
    "```python\n",
    "frase5=\"Hora de fazer imposto de renda\"\n",
    "frase6=\"Aquilo foi imposto pelo chefe\"\n",
    "```\n",
    "\n",
    "9.5) frases grupo5:\n",
    "```python\n",
    "frase7=\"Todo dia eu caminho\"\n",
    "frase8=\"Esse é o caminho mais fácil\"\n",
    "```\n",
    "\n",
    "Utilizando o modelo ``pt_core_news_sm`` da biblioteca spacy faça as seguinte análises. Para cada token:\n",
    "\n",
    "- a) imprima a função sintática (pos-tagging) em texto\n",
    "- b) relação de dependência sintática em texto\n",
    "- c) gera uma imagem das relações acims utilizando o método abaixo:\n",
    "- d) análise a palavra em comum, descreva a diferença sintática encontrada e responda se é gramaticamente correta\n",
    "\n",
    "```python\n",
    "#Para imprimir detalhes\n",
    "displacy.render(doc, style='dep',jupyter=True)\n",
    "\n",
    "```\n",
    "\n",
    "Dica: https://spacy.io/api/annotation"
   ]
  },
  {
   "cell_type": "code",
   "execution_count": null,
   "metadata": {
    "id": "2Ahv15TkE_ad"
   },
   "outputs": [],
   "source": []
  },
  {
   "cell_type": "markdown",
   "metadata": {
    "id": "fynfQ8BTE_ag"
   },
   "source": [
    "<b> Atividade </b>\n",
    "\n",
    "9.1 Frases Grupo 1"
   ]
  },
  {
   "cell_type": "code",
   "execution_count": 4,
   "metadata": {
    "id": "t1HXoDVpE_ah"
   },
   "outputs": [],
   "source": [
    "txt0=\"Ele foi andar\"\n",
    "txt1=\"O andar estava triste\""
   ]
  },
  {
   "cell_type": "code",
   "execution_count": 5,
   "metadata": {
    "id": "bL1lPXA0E_an"
   },
   "outputs": [
    {
     "data": {
      "text/plain": [
       "'Ele foi andar'"
      ]
     },
     "execution_count": 5,
     "metadata": {},
     "output_type": "execute_result"
    }
   ],
   "source": [
    "txt0"
   ]
  },
  {
   "cell_type": "code",
   "execution_count": 6,
   "metadata": {},
   "outputs": [],
   "source": [
    "nlp = spacy.load('pt_core_news_sm')"
   ]
  },
  {
   "cell_type": "code",
   "execution_count": 7,
   "metadata": {},
   "outputs": [],
   "source": [
    "texto_nlp = nlp(txt0)"
   ]
  },
  {
   "cell_type": "code",
   "execution_count": 20,
   "metadata": {},
   "outputs": [],
   "source": [
    "def analisa(texto):\n",
    "    texto_nlp = nlp(texto)\n",
    "    for token in texto_nlp:\n",
    "        print(\"Token: \", token.text, \"a) TAG \", token.pos_, \"b) \", token.dep_)\n",
    "    print(\"c) \")\n",
    "    displacy.render(texto_nlp, style='dep',jupyter=True)          "
   ]
  },
  {
   "cell_type": "code",
   "execution_count": 21,
   "metadata": {},
   "outputs": [
    {
     "name": "stdout",
     "output_type": "stream",
     "text": [
      "Token:  Ele a) TAG  PRON b)  nsubj\n",
      "Token:  foi a) TAG  AUX b)  aux\n",
      "Token:  andar a) TAG  VERB b)  ROOT\n",
      "c) \n"
     ]
    },
    {
     "data": {
      "text/html": [
       "<span class=\"tex2jax_ignore\"><svg xmlns=\"http://www.w3.org/2000/svg\" xmlns:xlink=\"http://www.w3.org/1999/xlink\" xml:lang=\"pt\" id=\"622bff6567474371bc76bf6ea4b7b3a4-0\" class=\"displacy\" width=\"575\" height=\"312.0\" direction=\"ltr\" style=\"max-width: none; height: 312.0px; color: #000000; background: #ffffff; font-family: Arial; direction: ltr\">\n",
       "<text class=\"displacy-token\" fill=\"currentColor\" text-anchor=\"middle\" y=\"222.0\">\n",
       "    <tspan class=\"displacy-word\" fill=\"currentColor\" x=\"50\">Ele</tspan>\n",
       "    <tspan class=\"displacy-tag\" dy=\"2em\" fill=\"currentColor\" x=\"50\">PRON</tspan>\n",
       "</text>\n",
       "\n",
       "<text class=\"displacy-token\" fill=\"currentColor\" text-anchor=\"middle\" y=\"222.0\">\n",
       "    <tspan class=\"displacy-word\" fill=\"currentColor\" x=\"225\">foi</tspan>\n",
       "    <tspan class=\"displacy-tag\" dy=\"2em\" fill=\"currentColor\" x=\"225\">AUX</tspan>\n",
       "</text>\n",
       "\n",
       "<text class=\"displacy-token\" fill=\"currentColor\" text-anchor=\"middle\" y=\"222.0\">\n",
       "    <tspan class=\"displacy-word\" fill=\"currentColor\" x=\"400\">andar</tspan>\n",
       "    <tspan class=\"displacy-tag\" dy=\"2em\" fill=\"currentColor\" x=\"400\">VERB</tspan>\n",
       "</text>\n",
       "\n",
       "<g class=\"displacy-arrow\">\n",
       "    <path class=\"displacy-arc\" id=\"arrow-622bff6567474371bc76bf6ea4b7b3a4-0-0\" stroke-width=\"2px\" d=\"M70,177.0 C70,2.0 400.0,2.0 400.0,177.0\" fill=\"none\" stroke=\"currentColor\"/>\n",
       "    <text dy=\"1.25em\" style=\"font-size: 0.8em; letter-spacing: 1px\">\n",
       "        <textPath xlink:href=\"#arrow-622bff6567474371bc76bf6ea4b7b3a4-0-0\" class=\"displacy-label\" startOffset=\"50%\" side=\"left\" fill=\"currentColor\" text-anchor=\"middle\">nsubj</textPath>\n",
       "    </text>\n",
       "    <path class=\"displacy-arrowhead\" d=\"M70,179.0 L62,167.0 78,167.0\" fill=\"currentColor\"/>\n",
       "</g>\n",
       "\n",
       "<g class=\"displacy-arrow\">\n",
       "    <path class=\"displacy-arc\" id=\"arrow-622bff6567474371bc76bf6ea4b7b3a4-0-1\" stroke-width=\"2px\" d=\"M245,177.0 C245,89.5 395.0,89.5 395.0,177.0\" fill=\"none\" stroke=\"currentColor\"/>\n",
       "    <text dy=\"1.25em\" style=\"font-size: 0.8em; letter-spacing: 1px\">\n",
       "        <textPath xlink:href=\"#arrow-622bff6567474371bc76bf6ea4b7b3a4-0-1\" class=\"displacy-label\" startOffset=\"50%\" side=\"left\" fill=\"currentColor\" text-anchor=\"middle\">aux</textPath>\n",
       "    </text>\n",
       "    <path class=\"displacy-arrowhead\" d=\"M245,179.0 L237,167.0 253,167.0\" fill=\"currentColor\"/>\n",
       "</g>\n",
       "</svg></span>"
      ],
      "text/plain": [
       "<IPython.core.display.HTML object>"
      ]
     },
     "metadata": {},
     "output_type": "display_data"
    }
   ],
   "source": [
    "analisa(txt0)"
   ]
  },
  {
   "cell_type": "code",
   "execution_count": 22,
   "metadata": {},
   "outputs": [
    {
     "name": "stdout",
     "output_type": "stream",
     "text": [
      "Token:  O a) TAG  DET b)  det\n",
      "Token:  andar a) TAG  NOUN b)  nsubj\n",
      "Token:  estava a) TAG  AUX b)  cop\n",
      "Token:  triste a) TAG  NOUN b)  ROOT\n",
      "c) \n"
     ]
    },
    {
     "data": {
      "text/html": [
       "<span class=\"tex2jax_ignore\"><svg xmlns=\"http://www.w3.org/2000/svg\" xmlns:xlink=\"http://www.w3.org/1999/xlink\" xml:lang=\"pt\" id=\"f813ed39743b4d598b80271152bcf5fa-0\" class=\"displacy\" width=\"750\" height=\"312.0\" direction=\"ltr\" style=\"max-width: none; height: 312.0px; color: #000000; background: #ffffff; font-family: Arial; direction: ltr\">\n",
       "<text class=\"displacy-token\" fill=\"currentColor\" text-anchor=\"middle\" y=\"222.0\">\n",
       "    <tspan class=\"displacy-word\" fill=\"currentColor\" x=\"50\">O</tspan>\n",
       "    <tspan class=\"displacy-tag\" dy=\"2em\" fill=\"currentColor\" x=\"50\">DET</tspan>\n",
       "</text>\n",
       "\n",
       "<text class=\"displacy-token\" fill=\"currentColor\" text-anchor=\"middle\" y=\"222.0\">\n",
       "    <tspan class=\"displacy-word\" fill=\"currentColor\" x=\"225\">andar</tspan>\n",
       "    <tspan class=\"displacy-tag\" dy=\"2em\" fill=\"currentColor\" x=\"225\">NOUN</tspan>\n",
       "</text>\n",
       "\n",
       "<text class=\"displacy-token\" fill=\"currentColor\" text-anchor=\"middle\" y=\"222.0\">\n",
       "    <tspan class=\"displacy-word\" fill=\"currentColor\" x=\"400\">estava</tspan>\n",
       "    <tspan class=\"displacy-tag\" dy=\"2em\" fill=\"currentColor\" x=\"400\">AUX</tspan>\n",
       "</text>\n",
       "\n",
       "<text class=\"displacy-token\" fill=\"currentColor\" text-anchor=\"middle\" y=\"222.0\">\n",
       "    <tspan class=\"displacy-word\" fill=\"currentColor\" x=\"575\">triste</tspan>\n",
       "    <tspan class=\"displacy-tag\" dy=\"2em\" fill=\"currentColor\" x=\"575\">NOUN</tspan>\n",
       "</text>\n",
       "\n",
       "<g class=\"displacy-arrow\">\n",
       "    <path class=\"displacy-arc\" id=\"arrow-f813ed39743b4d598b80271152bcf5fa-0-0\" stroke-width=\"2px\" d=\"M70,177.0 C70,89.5 220.0,89.5 220.0,177.0\" fill=\"none\" stroke=\"currentColor\"/>\n",
       "    <text dy=\"1.25em\" style=\"font-size: 0.8em; letter-spacing: 1px\">\n",
       "        <textPath xlink:href=\"#arrow-f813ed39743b4d598b80271152bcf5fa-0-0\" class=\"displacy-label\" startOffset=\"50%\" side=\"left\" fill=\"currentColor\" text-anchor=\"middle\">det</textPath>\n",
       "    </text>\n",
       "    <path class=\"displacy-arrowhead\" d=\"M70,179.0 L62,167.0 78,167.0\" fill=\"currentColor\"/>\n",
       "</g>\n",
       "\n",
       "<g class=\"displacy-arrow\">\n",
       "    <path class=\"displacy-arc\" id=\"arrow-f813ed39743b4d598b80271152bcf5fa-0-1\" stroke-width=\"2px\" d=\"M245,177.0 C245,2.0 575.0,2.0 575.0,177.0\" fill=\"none\" stroke=\"currentColor\"/>\n",
       "    <text dy=\"1.25em\" style=\"font-size: 0.8em; letter-spacing: 1px\">\n",
       "        <textPath xlink:href=\"#arrow-f813ed39743b4d598b80271152bcf5fa-0-1\" class=\"displacy-label\" startOffset=\"50%\" side=\"left\" fill=\"currentColor\" text-anchor=\"middle\">nsubj</textPath>\n",
       "    </text>\n",
       "    <path class=\"displacy-arrowhead\" d=\"M245,179.0 L237,167.0 253,167.0\" fill=\"currentColor\"/>\n",
       "</g>\n",
       "\n",
       "<g class=\"displacy-arrow\">\n",
       "    <path class=\"displacy-arc\" id=\"arrow-f813ed39743b4d598b80271152bcf5fa-0-2\" stroke-width=\"2px\" d=\"M420,177.0 C420,89.5 570.0,89.5 570.0,177.0\" fill=\"none\" stroke=\"currentColor\"/>\n",
       "    <text dy=\"1.25em\" style=\"font-size: 0.8em; letter-spacing: 1px\">\n",
       "        <textPath xlink:href=\"#arrow-f813ed39743b4d598b80271152bcf5fa-0-2\" class=\"displacy-label\" startOffset=\"50%\" side=\"left\" fill=\"currentColor\" text-anchor=\"middle\">cop</textPath>\n",
       "    </text>\n",
       "    <path class=\"displacy-arrowhead\" d=\"M420,179.0 L412,167.0 428,167.0\" fill=\"currentColor\"/>\n",
       "</g>\n",
       "</svg></span>"
      ],
      "text/plain": [
       "<IPython.core.display.HTML object>"
      ]
     },
     "metadata": {},
     "output_type": "display_data"
    }
   ],
   "source": [
    "analisa(txt1)"
   ]
  },
  {
   "cell_type": "code",
   "execution_count": null,
   "metadata": {},
   "outputs": [],
   "source": []
  },
  {
   "cell_type": "code",
   "execution_count": null,
   "metadata": {},
   "outputs": [],
   "source": []
  },
  {
   "cell_type": "markdown",
   "metadata": {
    "id": "tjWa6G1uE_aq"
   },
   "source": [
    "<b> d) Disucussão Grupo 1: </b>\n",
    "Na primeira análise o \"andar\" foi classificado corretamento como verbo. Na segundo foi classificado corretamente como substantivo.  "
   ]
  },
  {
   "cell_type": "markdown",
   "metadata": {
    "id": "U71xhqKCE_ar"
   },
   "source": [
    "<b> Atividade </b>\n",
    "\n",
    "9.2. Frase Grupo 2"
   ]
  },
  {
   "cell_type": "code",
   "execution_count": 23,
   "metadata": {
    "id": "I41C69WiE_as"
   },
   "outputs": [],
   "source": [
    "txt2=\"Essa cola cola papel\""
   ]
  },
  {
   "cell_type": "code",
   "execution_count": 24,
   "metadata": {
    "id": "S1HK3GrXE_av"
   },
   "outputs": [
    {
     "name": "stdout",
     "output_type": "stream",
     "text": [
      "Token:  Essa a) TAG  DET b)  det\n",
      "Token:  cola a) TAG  NOUN b)  nsubj\n",
      "Token:  cola a) TAG  ADJ b)  ROOT\n",
      "Token:  papel a) TAG  NOUN b)  obj\n",
      "c) \n"
     ]
    },
    {
     "data": {
      "text/html": [
       "<span class=\"tex2jax_ignore\"><svg xmlns=\"http://www.w3.org/2000/svg\" xmlns:xlink=\"http://www.w3.org/1999/xlink\" xml:lang=\"pt\" id=\"338709628caf49b88e4d96193bf4cb1e-0\" class=\"displacy\" width=\"750\" height=\"224.5\" direction=\"ltr\" style=\"max-width: none; height: 224.5px; color: #000000; background: #ffffff; font-family: Arial; direction: ltr\">\n",
       "<text class=\"displacy-token\" fill=\"currentColor\" text-anchor=\"middle\" y=\"134.5\">\n",
       "    <tspan class=\"displacy-word\" fill=\"currentColor\" x=\"50\">Essa</tspan>\n",
       "    <tspan class=\"displacy-tag\" dy=\"2em\" fill=\"currentColor\" x=\"50\">DET</tspan>\n",
       "</text>\n",
       "\n",
       "<text class=\"displacy-token\" fill=\"currentColor\" text-anchor=\"middle\" y=\"134.5\">\n",
       "    <tspan class=\"displacy-word\" fill=\"currentColor\" x=\"225\">cola</tspan>\n",
       "    <tspan class=\"displacy-tag\" dy=\"2em\" fill=\"currentColor\" x=\"225\">NOUN</tspan>\n",
       "</text>\n",
       "\n",
       "<text class=\"displacy-token\" fill=\"currentColor\" text-anchor=\"middle\" y=\"134.5\">\n",
       "    <tspan class=\"displacy-word\" fill=\"currentColor\" x=\"400\">cola</tspan>\n",
       "    <tspan class=\"displacy-tag\" dy=\"2em\" fill=\"currentColor\" x=\"400\">ADJ</tspan>\n",
       "</text>\n",
       "\n",
       "<text class=\"displacy-token\" fill=\"currentColor\" text-anchor=\"middle\" y=\"134.5\">\n",
       "    <tspan class=\"displacy-word\" fill=\"currentColor\" x=\"575\">papel</tspan>\n",
       "    <tspan class=\"displacy-tag\" dy=\"2em\" fill=\"currentColor\" x=\"575\">NOUN</tspan>\n",
       "</text>\n",
       "\n",
       "<g class=\"displacy-arrow\">\n",
       "    <path class=\"displacy-arc\" id=\"arrow-338709628caf49b88e4d96193bf4cb1e-0-0\" stroke-width=\"2px\" d=\"M70,89.5 C70,2.0 225.0,2.0 225.0,89.5\" fill=\"none\" stroke=\"currentColor\"/>\n",
       "    <text dy=\"1.25em\" style=\"font-size: 0.8em; letter-spacing: 1px\">\n",
       "        <textPath xlink:href=\"#arrow-338709628caf49b88e4d96193bf4cb1e-0-0\" class=\"displacy-label\" startOffset=\"50%\" side=\"left\" fill=\"currentColor\" text-anchor=\"middle\">det</textPath>\n",
       "    </text>\n",
       "    <path class=\"displacy-arrowhead\" d=\"M70,91.5 L62,79.5 78,79.5\" fill=\"currentColor\"/>\n",
       "</g>\n",
       "\n",
       "<g class=\"displacy-arrow\">\n",
       "    <path class=\"displacy-arc\" id=\"arrow-338709628caf49b88e4d96193bf4cb1e-0-1\" stroke-width=\"2px\" d=\"M245,89.5 C245,2.0 400.0,2.0 400.0,89.5\" fill=\"none\" stroke=\"currentColor\"/>\n",
       "    <text dy=\"1.25em\" style=\"font-size: 0.8em; letter-spacing: 1px\">\n",
       "        <textPath xlink:href=\"#arrow-338709628caf49b88e4d96193bf4cb1e-0-1\" class=\"displacy-label\" startOffset=\"50%\" side=\"left\" fill=\"currentColor\" text-anchor=\"middle\">nsubj</textPath>\n",
       "    </text>\n",
       "    <path class=\"displacy-arrowhead\" d=\"M245,91.5 L237,79.5 253,79.5\" fill=\"currentColor\"/>\n",
       "</g>\n",
       "\n",
       "<g class=\"displacy-arrow\">\n",
       "    <path class=\"displacy-arc\" id=\"arrow-338709628caf49b88e4d96193bf4cb1e-0-2\" stroke-width=\"2px\" d=\"M420,89.5 C420,2.0 575.0,2.0 575.0,89.5\" fill=\"none\" stroke=\"currentColor\"/>\n",
       "    <text dy=\"1.25em\" style=\"font-size: 0.8em; letter-spacing: 1px\">\n",
       "        <textPath xlink:href=\"#arrow-338709628caf49b88e4d96193bf4cb1e-0-2\" class=\"displacy-label\" startOffset=\"50%\" side=\"left\" fill=\"currentColor\" text-anchor=\"middle\">obj</textPath>\n",
       "    </text>\n",
       "    <path class=\"displacy-arrowhead\" d=\"M575.0,91.5 L583.0,79.5 567.0,79.5\" fill=\"currentColor\"/>\n",
       "</g>\n",
       "</svg></span>"
      ],
      "text/plain": [
       "<IPython.core.display.HTML object>"
      ]
     },
     "metadata": {},
     "output_type": "display_data"
    }
   ],
   "source": [
    "analisa(txt2)"
   ]
  },
  {
   "cell_type": "markdown",
   "metadata": {
    "id": "BejM_3ohE_ay"
   },
   "source": [
    "<b> d) Disucussão Grupo 2: </b>\n",
    "A prmeira ocorrência de \"cola\" foi classificada corretamente como substantivo, mas a segunda foi classificada incorretamente como adjetivo. Deveria ter sido classificado como verbo."
   ]
  },
  {
   "cell_type": "markdown",
   "metadata": {
    "id": "kn4VeTQKE_az"
   },
   "source": [
    "<b> Atividade </b>\n",
    "\n",
    "9.3. Frases Grupo 3"
   ]
  },
  {
   "cell_type": "code",
   "execution_count": 25,
   "metadata": {
    "id": "GjQxo190E_a0"
   },
   "outputs": [],
   "source": [
    "txt3=\"Segundo o que me disseram, ele estava triste\"\n",
    "txt4=\"No segundo dia de trabalho ela gastou menos\""
   ]
  },
  {
   "cell_type": "code",
   "execution_count": 26,
   "metadata": {
    "id": "FAL2V_BQE_a4"
   },
   "outputs": [
    {
     "name": "stdout",
     "output_type": "stream",
     "text": [
      "Token:  Segundo a) TAG  ADP b)  case\n",
      "Token:  o a) TAG  PRON b)  obl\n",
      "Token:  que a) TAG  PRON b)  nsubj\n",
      "Token:  me a) TAG  PRON b)  obj\n",
      "Token:  disseram a) TAG  VERB b)  acl:relcl\n",
      "Token:  , a) TAG  PUNCT b)  punct\n",
      "Token:  ele a) TAG  PRON b)  nsubj\n",
      "Token:  estava a) TAG  AUX b)  cop\n",
      "Token:  triste a) TAG  NOUN b)  ROOT\n",
      "c) \n"
     ]
    },
    {
     "data": {
      "text/html": [
       "<span class=\"tex2jax_ignore\"><svg xmlns=\"http://www.w3.org/2000/svg\" xmlns:xlink=\"http://www.w3.org/1999/xlink\" xml:lang=\"pt\" id=\"8994df7f5e0a4eb09866f661a869f487-0\" class=\"displacy\" width=\"1450\" height=\"487.0\" direction=\"ltr\" style=\"max-width: none; height: 487.0px; color: #000000; background: #ffffff; font-family: Arial; direction: ltr\">\n",
       "<text class=\"displacy-token\" fill=\"currentColor\" text-anchor=\"middle\" y=\"397.0\">\n",
       "    <tspan class=\"displacy-word\" fill=\"currentColor\" x=\"50\">Segundo</tspan>\n",
       "    <tspan class=\"displacy-tag\" dy=\"2em\" fill=\"currentColor\" x=\"50\">ADP</tspan>\n",
       "</text>\n",
       "\n",
       "<text class=\"displacy-token\" fill=\"currentColor\" text-anchor=\"middle\" y=\"397.0\">\n",
       "    <tspan class=\"displacy-word\" fill=\"currentColor\" x=\"225\">o</tspan>\n",
       "    <tspan class=\"displacy-tag\" dy=\"2em\" fill=\"currentColor\" x=\"225\">PRON</tspan>\n",
       "</text>\n",
       "\n",
       "<text class=\"displacy-token\" fill=\"currentColor\" text-anchor=\"middle\" y=\"397.0\">\n",
       "    <tspan class=\"displacy-word\" fill=\"currentColor\" x=\"400\">que</tspan>\n",
       "    <tspan class=\"displacy-tag\" dy=\"2em\" fill=\"currentColor\" x=\"400\">PRON</tspan>\n",
       "</text>\n",
       "\n",
       "<text class=\"displacy-token\" fill=\"currentColor\" text-anchor=\"middle\" y=\"397.0\">\n",
       "    <tspan class=\"displacy-word\" fill=\"currentColor\" x=\"575\">me</tspan>\n",
       "    <tspan class=\"displacy-tag\" dy=\"2em\" fill=\"currentColor\" x=\"575\">PRON</tspan>\n",
       "</text>\n",
       "\n",
       "<text class=\"displacy-token\" fill=\"currentColor\" text-anchor=\"middle\" y=\"397.0\">\n",
       "    <tspan class=\"displacy-word\" fill=\"currentColor\" x=\"750\">disseram,</tspan>\n",
       "    <tspan class=\"displacy-tag\" dy=\"2em\" fill=\"currentColor\" x=\"750\">VERB</tspan>\n",
       "</text>\n",
       "\n",
       "<text class=\"displacy-token\" fill=\"currentColor\" text-anchor=\"middle\" y=\"397.0\">\n",
       "    <tspan class=\"displacy-word\" fill=\"currentColor\" x=\"925\">ele</tspan>\n",
       "    <tspan class=\"displacy-tag\" dy=\"2em\" fill=\"currentColor\" x=\"925\">PRON</tspan>\n",
       "</text>\n",
       "\n",
       "<text class=\"displacy-token\" fill=\"currentColor\" text-anchor=\"middle\" y=\"397.0\">\n",
       "    <tspan class=\"displacy-word\" fill=\"currentColor\" x=\"1100\">estava</tspan>\n",
       "    <tspan class=\"displacy-tag\" dy=\"2em\" fill=\"currentColor\" x=\"1100\">AUX</tspan>\n",
       "</text>\n",
       "\n",
       "<text class=\"displacy-token\" fill=\"currentColor\" text-anchor=\"middle\" y=\"397.0\">\n",
       "    <tspan class=\"displacy-word\" fill=\"currentColor\" x=\"1275\">triste</tspan>\n",
       "    <tspan class=\"displacy-tag\" dy=\"2em\" fill=\"currentColor\" x=\"1275\">NOUN</tspan>\n",
       "</text>\n",
       "\n",
       "<g class=\"displacy-arrow\">\n",
       "    <path class=\"displacy-arc\" id=\"arrow-8994df7f5e0a4eb09866f661a869f487-0-0\" stroke-width=\"2px\" d=\"M70,352.0 C70,264.5 210.0,264.5 210.0,352.0\" fill=\"none\" stroke=\"currentColor\"/>\n",
       "    <text dy=\"1.25em\" style=\"font-size: 0.8em; letter-spacing: 1px\">\n",
       "        <textPath xlink:href=\"#arrow-8994df7f5e0a4eb09866f661a869f487-0-0\" class=\"displacy-label\" startOffset=\"50%\" side=\"left\" fill=\"currentColor\" text-anchor=\"middle\">case</textPath>\n",
       "    </text>\n",
       "    <path class=\"displacy-arrowhead\" d=\"M70,354.0 L62,342.0 78,342.0\" fill=\"currentColor\"/>\n",
       "</g>\n",
       "\n",
       "<g class=\"displacy-arrow\">\n",
       "    <path class=\"displacy-arc\" id=\"arrow-8994df7f5e0a4eb09866f661a869f487-0-1\" stroke-width=\"2px\" d=\"M245,352.0 C245,2.0 1275.0,2.0 1275.0,352.0\" fill=\"none\" stroke=\"currentColor\"/>\n",
       "    <text dy=\"1.25em\" style=\"font-size: 0.8em; letter-spacing: 1px\">\n",
       "        <textPath xlink:href=\"#arrow-8994df7f5e0a4eb09866f661a869f487-0-1\" class=\"displacy-label\" startOffset=\"50%\" side=\"left\" fill=\"currentColor\" text-anchor=\"middle\">obl</textPath>\n",
       "    </text>\n",
       "    <path class=\"displacy-arrowhead\" d=\"M245,354.0 L237,342.0 253,342.0\" fill=\"currentColor\"/>\n",
       "</g>\n",
       "\n",
       "<g class=\"displacy-arrow\">\n",
       "    <path class=\"displacy-arc\" id=\"arrow-8994df7f5e0a4eb09866f661a869f487-0-2\" stroke-width=\"2px\" d=\"M420,352.0 C420,177.0 740.0,177.0 740.0,352.0\" fill=\"none\" stroke=\"currentColor\"/>\n",
       "    <text dy=\"1.25em\" style=\"font-size: 0.8em; letter-spacing: 1px\">\n",
       "        <textPath xlink:href=\"#arrow-8994df7f5e0a4eb09866f661a869f487-0-2\" class=\"displacy-label\" startOffset=\"50%\" side=\"left\" fill=\"currentColor\" text-anchor=\"middle\">nsubj</textPath>\n",
       "    </text>\n",
       "    <path class=\"displacy-arrowhead\" d=\"M420,354.0 L412,342.0 428,342.0\" fill=\"currentColor\"/>\n",
       "</g>\n",
       "\n",
       "<g class=\"displacy-arrow\">\n",
       "    <path class=\"displacy-arc\" id=\"arrow-8994df7f5e0a4eb09866f661a869f487-0-3\" stroke-width=\"2px\" d=\"M595,352.0 C595,264.5 735.0,264.5 735.0,352.0\" fill=\"none\" stroke=\"currentColor\"/>\n",
       "    <text dy=\"1.25em\" style=\"font-size: 0.8em; letter-spacing: 1px\">\n",
       "        <textPath xlink:href=\"#arrow-8994df7f5e0a4eb09866f661a869f487-0-3\" class=\"displacy-label\" startOffset=\"50%\" side=\"left\" fill=\"currentColor\" text-anchor=\"middle\">obj</textPath>\n",
       "    </text>\n",
       "    <path class=\"displacy-arrowhead\" d=\"M595,354.0 L587,342.0 603,342.0\" fill=\"currentColor\"/>\n",
       "</g>\n",
       "\n",
       "<g class=\"displacy-arrow\">\n",
       "    <path class=\"displacy-arc\" id=\"arrow-8994df7f5e0a4eb09866f661a869f487-0-4\" stroke-width=\"2px\" d=\"M245,352.0 C245,89.5 745.0,89.5 745.0,352.0\" fill=\"none\" stroke=\"currentColor\"/>\n",
       "    <text dy=\"1.25em\" style=\"font-size: 0.8em; letter-spacing: 1px\">\n",
       "        <textPath xlink:href=\"#arrow-8994df7f5e0a4eb09866f661a869f487-0-4\" class=\"displacy-label\" startOffset=\"50%\" side=\"left\" fill=\"currentColor\" text-anchor=\"middle\">acl:relcl</textPath>\n",
       "    </text>\n",
       "    <path class=\"displacy-arrowhead\" d=\"M745.0,354.0 L753.0,342.0 737.0,342.0\" fill=\"currentColor\"/>\n",
       "</g>\n",
       "\n",
       "<g class=\"displacy-arrow\">\n",
       "    <path class=\"displacy-arc\" id=\"arrow-8994df7f5e0a4eb09866f661a869f487-0-5\" stroke-width=\"2px\" d=\"M945,352.0 C945,177.0 1265.0,177.0 1265.0,352.0\" fill=\"none\" stroke=\"currentColor\"/>\n",
       "    <text dy=\"1.25em\" style=\"font-size: 0.8em; letter-spacing: 1px\">\n",
       "        <textPath xlink:href=\"#arrow-8994df7f5e0a4eb09866f661a869f487-0-5\" class=\"displacy-label\" startOffset=\"50%\" side=\"left\" fill=\"currentColor\" text-anchor=\"middle\">nsubj</textPath>\n",
       "    </text>\n",
       "    <path class=\"displacy-arrowhead\" d=\"M945,354.0 L937,342.0 953,342.0\" fill=\"currentColor\"/>\n",
       "</g>\n",
       "\n",
       "<g class=\"displacy-arrow\">\n",
       "    <path class=\"displacy-arc\" id=\"arrow-8994df7f5e0a4eb09866f661a869f487-0-6\" stroke-width=\"2px\" d=\"M1120,352.0 C1120,264.5 1260.0,264.5 1260.0,352.0\" fill=\"none\" stroke=\"currentColor\"/>\n",
       "    <text dy=\"1.25em\" style=\"font-size: 0.8em; letter-spacing: 1px\">\n",
       "        <textPath xlink:href=\"#arrow-8994df7f5e0a4eb09866f661a869f487-0-6\" class=\"displacy-label\" startOffset=\"50%\" side=\"left\" fill=\"currentColor\" text-anchor=\"middle\">cop</textPath>\n",
       "    </text>\n",
       "    <path class=\"displacy-arrowhead\" d=\"M1120,354.0 L1112,342.0 1128,342.0\" fill=\"currentColor\"/>\n",
       "</g>\n",
       "</svg></span>"
      ],
      "text/plain": [
       "<IPython.core.display.HTML object>"
      ]
     },
     "metadata": {},
     "output_type": "display_data"
    }
   ],
   "source": [
    "analisa(txt3)"
   ]
  },
  {
   "cell_type": "code",
   "execution_count": 27,
   "metadata": {},
   "outputs": [
    {
     "name": "stdout",
     "output_type": "stream",
     "text": [
      "Token:  No a) TAG  DET b)  case\n",
      "Token:  segundo a) TAG  ADJ b)  amod\n",
      "Token:  dia a) TAG  NOUN b)  obl\n",
      "Token:  de a) TAG  ADP b)  case\n",
      "Token:  trabalho a) TAG  NOUN b)  nmod\n",
      "Token:  ela a) TAG  PRON b)  nsubj\n",
      "Token:  gastou a) TAG  VERB b)  ROOT\n",
      "Token:  menos a) TAG  ADV b)  advmod\n",
      "c) \n"
     ]
    },
    {
     "data": {
      "text/html": [
       "<span class=\"tex2jax_ignore\"><svg xmlns=\"http://www.w3.org/2000/svg\" xmlns:xlink=\"http://www.w3.org/1999/xlink\" xml:lang=\"pt\" id=\"e39185a209ba4e239967abaf621fa7c8-0\" class=\"displacy\" width=\"1450\" height=\"399.5\" direction=\"ltr\" style=\"max-width: none; height: 399.5px; color: #000000; background: #ffffff; font-family: Arial; direction: ltr\">\n",
       "<text class=\"displacy-token\" fill=\"currentColor\" text-anchor=\"middle\" y=\"309.5\">\n",
       "    <tspan class=\"displacy-word\" fill=\"currentColor\" x=\"50\">No</tspan>\n",
       "    <tspan class=\"displacy-tag\" dy=\"2em\" fill=\"currentColor\" x=\"50\">DET</tspan>\n",
       "</text>\n",
       "\n",
       "<text class=\"displacy-token\" fill=\"currentColor\" text-anchor=\"middle\" y=\"309.5\">\n",
       "    <tspan class=\"displacy-word\" fill=\"currentColor\" x=\"225\">segundo</tspan>\n",
       "    <tspan class=\"displacy-tag\" dy=\"2em\" fill=\"currentColor\" x=\"225\">ADJ</tspan>\n",
       "</text>\n",
       "\n",
       "<text class=\"displacy-token\" fill=\"currentColor\" text-anchor=\"middle\" y=\"309.5\">\n",
       "    <tspan class=\"displacy-word\" fill=\"currentColor\" x=\"400\">dia</tspan>\n",
       "    <tspan class=\"displacy-tag\" dy=\"2em\" fill=\"currentColor\" x=\"400\">NOUN</tspan>\n",
       "</text>\n",
       "\n",
       "<text class=\"displacy-token\" fill=\"currentColor\" text-anchor=\"middle\" y=\"309.5\">\n",
       "    <tspan class=\"displacy-word\" fill=\"currentColor\" x=\"575\">de</tspan>\n",
       "    <tspan class=\"displacy-tag\" dy=\"2em\" fill=\"currentColor\" x=\"575\">ADP</tspan>\n",
       "</text>\n",
       "\n",
       "<text class=\"displacy-token\" fill=\"currentColor\" text-anchor=\"middle\" y=\"309.5\">\n",
       "    <tspan class=\"displacy-word\" fill=\"currentColor\" x=\"750\">trabalho</tspan>\n",
       "    <tspan class=\"displacy-tag\" dy=\"2em\" fill=\"currentColor\" x=\"750\">NOUN</tspan>\n",
       "</text>\n",
       "\n",
       "<text class=\"displacy-token\" fill=\"currentColor\" text-anchor=\"middle\" y=\"309.5\">\n",
       "    <tspan class=\"displacy-word\" fill=\"currentColor\" x=\"925\">ela</tspan>\n",
       "    <tspan class=\"displacy-tag\" dy=\"2em\" fill=\"currentColor\" x=\"925\">PRON</tspan>\n",
       "</text>\n",
       "\n",
       "<text class=\"displacy-token\" fill=\"currentColor\" text-anchor=\"middle\" y=\"309.5\">\n",
       "    <tspan class=\"displacy-word\" fill=\"currentColor\" x=\"1100\">gastou</tspan>\n",
       "    <tspan class=\"displacy-tag\" dy=\"2em\" fill=\"currentColor\" x=\"1100\">VERB</tspan>\n",
       "</text>\n",
       "\n",
       "<text class=\"displacy-token\" fill=\"currentColor\" text-anchor=\"middle\" y=\"309.5\">\n",
       "    <tspan class=\"displacy-word\" fill=\"currentColor\" x=\"1275\">menos</tspan>\n",
       "    <tspan class=\"displacy-tag\" dy=\"2em\" fill=\"currentColor\" x=\"1275\">ADV</tspan>\n",
       "</text>\n",
       "\n",
       "<g class=\"displacy-arrow\">\n",
       "    <path class=\"displacy-arc\" id=\"arrow-e39185a209ba4e239967abaf621fa7c8-0-0\" stroke-width=\"2px\" d=\"M70,264.5 C70,89.5 395.0,89.5 395.0,264.5\" fill=\"none\" stroke=\"currentColor\"/>\n",
       "    <text dy=\"1.25em\" style=\"font-size: 0.8em; letter-spacing: 1px\">\n",
       "        <textPath xlink:href=\"#arrow-e39185a209ba4e239967abaf621fa7c8-0-0\" class=\"displacy-label\" startOffset=\"50%\" side=\"left\" fill=\"currentColor\" text-anchor=\"middle\">case</textPath>\n",
       "    </text>\n",
       "    <path class=\"displacy-arrowhead\" d=\"M70,266.5 L62,254.5 78,254.5\" fill=\"currentColor\"/>\n",
       "</g>\n",
       "\n",
       "<g class=\"displacy-arrow\">\n",
       "    <path class=\"displacy-arc\" id=\"arrow-e39185a209ba4e239967abaf621fa7c8-0-1\" stroke-width=\"2px\" d=\"M245,264.5 C245,177.0 390.0,177.0 390.0,264.5\" fill=\"none\" stroke=\"currentColor\"/>\n",
       "    <text dy=\"1.25em\" style=\"font-size: 0.8em; letter-spacing: 1px\">\n",
       "        <textPath xlink:href=\"#arrow-e39185a209ba4e239967abaf621fa7c8-0-1\" class=\"displacy-label\" startOffset=\"50%\" side=\"left\" fill=\"currentColor\" text-anchor=\"middle\">amod</textPath>\n",
       "    </text>\n",
       "    <path class=\"displacy-arrowhead\" d=\"M245,266.5 L237,254.5 253,254.5\" fill=\"currentColor\"/>\n",
       "</g>\n",
       "\n",
       "<g class=\"displacy-arrow\">\n",
       "    <path class=\"displacy-arc\" id=\"arrow-e39185a209ba4e239967abaf621fa7c8-0-2\" stroke-width=\"2px\" d=\"M420,264.5 C420,2.0 1100.0,2.0 1100.0,264.5\" fill=\"none\" stroke=\"currentColor\"/>\n",
       "    <text dy=\"1.25em\" style=\"font-size: 0.8em; letter-spacing: 1px\">\n",
       "        <textPath xlink:href=\"#arrow-e39185a209ba4e239967abaf621fa7c8-0-2\" class=\"displacy-label\" startOffset=\"50%\" side=\"left\" fill=\"currentColor\" text-anchor=\"middle\">obl</textPath>\n",
       "    </text>\n",
       "    <path class=\"displacy-arrowhead\" d=\"M420,266.5 L412,254.5 428,254.5\" fill=\"currentColor\"/>\n",
       "</g>\n",
       "\n",
       "<g class=\"displacy-arrow\">\n",
       "    <path class=\"displacy-arc\" id=\"arrow-e39185a209ba4e239967abaf621fa7c8-0-3\" stroke-width=\"2px\" d=\"M595,264.5 C595,177.0 740.0,177.0 740.0,264.5\" fill=\"none\" stroke=\"currentColor\"/>\n",
       "    <text dy=\"1.25em\" style=\"font-size: 0.8em; letter-spacing: 1px\">\n",
       "        <textPath xlink:href=\"#arrow-e39185a209ba4e239967abaf621fa7c8-0-3\" class=\"displacy-label\" startOffset=\"50%\" side=\"left\" fill=\"currentColor\" text-anchor=\"middle\">case</textPath>\n",
       "    </text>\n",
       "    <path class=\"displacy-arrowhead\" d=\"M595,266.5 L587,254.5 603,254.5\" fill=\"currentColor\"/>\n",
       "</g>\n",
       "\n",
       "<g class=\"displacy-arrow\">\n",
       "    <path class=\"displacy-arc\" id=\"arrow-e39185a209ba4e239967abaf621fa7c8-0-4\" stroke-width=\"2px\" d=\"M420,264.5 C420,89.5 745.0,89.5 745.0,264.5\" fill=\"none\" stroke=\"currentColor\"/>\n",
       "    <text dy=\"1.25em\" style=\"font-size: 0.8em; letter-spacing: 1px\">\n",
       "        <textPath xlink:href=\"#arrow-e39185a209ba4e239967abaf621fa7c8-0-4\" class=\"displacy-label\" startOffset=\"50%\" side=\"left\" fill=\"currentColor\" text-anchor=\"middle\">nmod</textPath>\n",
       "    </text>\n",
       "    <path class=\"displacy-arrowhead\" d=\"M745.0,266.5 L753.0,254.5 737.0,254.5\" fill=\"currentColor\"/>\n",
       "</g>\n",
       "\n",
       "<g class=\"displacy-arrow\">\n",
       "    <path class=\"displacy-arc\" id=\"arrow-e39185a209ba4e239967abaf621fa7c8-0-5\" stroke-width=\"2px\" d=\"M945,264.5 C945,177.0 1090.0,177.0 1090.0,264.5\" fill=\"none\" stroke=\"currentColor\"/>\n",
       "    <text dy=\"1.25em\" style=\"font-size: 0.8em; letter-spacing: 1px\">\n",
       "        <textPath xlink:href=\"#arrow-e39185a209ba4e239967abaf621fa7c8-0-5\" class=\"displacy-label\" startOffset=\"50%\" side=\"left\" fill=\"currentColor\" text-anchor=\"middle\">nsubj</textPath>\n",
       "    </text>\n",
       "    <path class=\"displacy-arrowhead\" d=\"M945,266.5 L937,254.5 953,254.5\" fill=\"currentColor\"/>\n",
       "</g>\n",
       "\n",
       "<g class=\"displacy-arrow\">\n",
       "    <path class=\"displacy-arc\" id=\"arrow-e39185a209ba4e239967abaf621fa7c8-0-6\" stroke-width=\"2px\" d=\"M1120,264.5 C1120,177.0 1265.0,177.0 1265.0,264.5\" fill=\"none\" stroke=\"currentColor\"/>\n",
       "    <text dy=\"1.25em\" style=\"font-size: 0.8em; letter-spacing: 1px\">\n",
       "        <textPath xlink:href=\"#arrow-e39185a209ba4e239967abaf621fa7c8-0-6\" class=\"displacy-label\" startOffset=\"50%\" side=\"left\" fill=\"currentColor\" text-anchor=\"middle\">advmod</textPath>\n",
       "    </text>\n",
       "    <path class=\"displacy-arrowhead\" d=\"M1265.0,266.5 L1273.0,254.5 1257.0,254.5\" fill=\"currentColor\"/>\n",
       "</g>\n",
       "</svg></span>"
      ],
      "text/plain": [
       "<IPython.core.display.HTML object>"
      ]
     },
     "metadata": {},
     "output_type": "display_data"
    }
   ],
   "source": [
    "analisa(txt4)"
   ]
  },
  {
   "cell_type": "markdown",
   "metadata": {
    "id": "aJoXV-vLE_a_"
   },
   "source": [
    "<b> d) Disucussão Grupo 3: </b>Na txt3 a palavra \"triste\" foi classificada com substantivo, mas deveria ter sido classificada como adjetivo.\n",
    "No txt4 todas as palavras foram classificadas corretamente."
   ]
  },
  {
   "cell_type": "markdown",
   "metadata": {
    "id": "SSUBYhzaE_bA"
   },
   "source": [
    "<b> Atividade </b>\n",
    "\n",
    "9.4. Frases Grupo 4"
   ]
  },
  {
   "cell_type": "code",
   "execution_count": 28,
   "metadata": {
    "id": "1-1Ikv-GE_bB"
   },
   "outputs": [],
   "source": [
    "txt5=\"Hora de fazer imposto de renda\"\n",
    "txt6=\"Aquilo foi imposto pelo chefe\""
   ]
  },
  {
   "cell_type": "code",
   "execution_count": 29,
   "metadata": {
    "id": "5W7oiz8HE_bE"
   },
   "outputs": [
    {
     "name": "stdout",
     "output_type": "stream",
     "text": [
      "Token:  Hora a) TAG  NOUN b)  ROOT\n",
      "Token:  de a) TAG  SCONJ b)  mark\n",
      "Token:  fazer a) TAG  VERB b)  acl\n",
      "Token:  imposto a) TAG  NOUN b)  obj\n",
      "Token:  de a) TAG  ADP b)  case\n",
      "Token:  renda a) TAG  NOUN b)  nmod\n",
      "c) \n"
     ]
    },
    {
     "data": {
      "text/html": [
       "<span class=\"tex2jax_ignore\"><svg xmlns=\"http://www.w3.org/2000/svg\" xmlns:xlink=\"http://www.w3.org/1999/xlink\" xml:lang=\"pt\" id=\"2c2b274da5ef433fbe2b81dafbc33e29-0\" class=\"displacy\" width=\"1100\" height=\"312.0\" direction=\"ltr\" style=\"max-width: none; height: 312.0px; color: #000000; background: #ffffff; font-family: Arial; direction: ltr\">\n",
       "<text class=\"displacy-token\" fill=\"currentColor\" text-anchor=\"middle\" y=\"222.0\">\n",
       "    <tspan class=\"displacy-word\" fill=\"currentColor\" x=\"50\">Hora</tspan>\n",
       "    <tspan class=\"displacy-tag\" dy=\"2em\" fill=\"currentColor\" x=\"50\">NOUN</tspan>\n",
       "</text>\n",
       "\n",
       "<text class=\"displacy-token\" fill=\"currentColor\" text-anchor=\"middle\" y=\"222.0\">\n",
       "    <tspan class=\"displacy-word\" fill=\"currentColor\" x=\"225\">de</tspan>\n",
       "    <tspan class=\"displacy-tag\" dy=\"2em\" fill=\"currentColor\" x=\"225\">SCONJ</tspan>\n",
       "</text>\n",
       "\n",
       "<text class=\"displacy-token\" fill=\"currentColor\" text-anchor=\"middle\" y=\"222.0\">\n",
       "    <tspan class=\"displacy-word\" fill=\"currentColor\" x=\"400\">fazer</tspan>\n",
       "    <tspan class=\"displacy-tag\" dy=\"2em\" fill=\"currentColor\" x=\"400\">VERB</tspan>\n",
       "</text>\n",
       "\n",
       "<text class=\"displacy-token\" fill=\"currentColor\" text-anchor=\"middle\" y=\"222.0\">\n",
       "    <tspan class=\"displacy-word\" fill=\"currentColor\" x=\"575\">imposto</tspan>\n",
       "    <tspan class=\"displacy-tag\" dy=\"2em\" fill=\"currentColor\" x=\"575\">NOUN</tspan>\n",
       "</text>\n",
       "\n",
       "<text class=\"displacy-token\" fill=\"currentColor\" text-anchor=\"middle\" y=\"222.0\">\n",
       "    <tspan class=\"displacy-word\" fill=\"currentColor\" x=\"750\">de</tspan>\n",
       "    <tspan class=\"displacy-tag\" dy=\"2em\" fill=\"currentColor\" x=\"750\">ADP</tspan>\n",
       "</text>\n",
       "\n",
       "<text class=\"displacy-token\" fill=\"currentColor\" text-anchor=\"middle\" y=\"222.0\">\n",
       "    <tspan class=\"displacy-word\" fill=\"currentColor\" x=\"925\">renda</tspan>\n",
       "    <tspan class=\"displacy-tag\" dy=\"2em\" fill=\"currentColor\" x=\"925\">NOUN</tspan>\n",
       "</text>\n",
       "\n",
       "<g class=\"displacy-arrow\">\n",
       "    <path class=\"displacy-arc\" id=\"arrow-2c2b274da5ef433fbe2b81dafbc33e29-0-0\" stroke-width=\"2px\" d=\"M245,177.0 C245,89.5 395.0,89.5 395.0,177.0\" fill=\"none\" stroke=\"currentColor\"/>\n",
       "    <text dy=\"1.25em\" style=\"font-size: 0.8em; letter-spacing: 1px\">\n",
       "        <textPath xlink:href=\"#arrow-2c2b274da5ef433fbe2b81dafbc33e29-0-0\" class=\"displacy-label\" startOffset=\"50%\" side=\"left\" fill=\"currentColor\" text-anchor=\"middle\">mark</textPath>\n",
       "    </text>\n",
       "    <path class=\"displacy-arrowhead\" d=\"M245,179.0 L237,167.0 253,167.0\" fill=\"currentColor\"/>\n",
       "</g>\n",
       "\n",
       "<g class=\"displacy-arrow\">\n",
       "    <path class=\"displacy-arc\" id=\"arrow-2c2b274da5ef433fbe2b81dafbc33e29-0-1\" stroke-width=\"2px\" d=\"M70,177.0 C70,2.0 400.0,2.0 400.0,177.0\" fill=\"none\" stroke=\"currentColor\"/>\n",
       "    <text dy=\"1.25em\" style=\"font-size: 0.8em; letter-spacing: 1px\">\n",
       "        <textPath xlink:href=\"#arrow-2c2b274da5ef433fbe2b81dafbc33e29-0-1\" class=\"displacy-label\" startOffset=\"50%\" side=\"left\" fill=\"currentColor\" text-anchor=\"middle\">acl</textPath>\n",
       "    </text>\n",
       "    <path class=\"displacy-arrowhead\" d=\"M400.0,179.0 L408.0,167.0 392.0,167.0\" fill=\"currentColor\"/>\n",
       "</g>\n",
       "\n",
       "<g class=\"displacy-arrow\">\n",
       "    <path class=\"displacy-arc\" id=\"arrow-2c2b274da5ef433fbe2b81dafbc33e29-0-2\" stroke-width=\"2px\" d=\"M420,177.0 C420,89.5 570.0,89.5 570.0,177.0\" fill=\"none\" stroke=\"currentColor\"/>\n",
       "    <text dy=\"1.25em\" style=\"font-size: 0.8em; letter-spacing: 1px\">\n",
       "        <textPath xlink:href=\"#arrow-2c2b274da5ef433fbe2b81dafbc33e29-0-2\" class=\"displacy-label\" startOffset=\"50%\" side=\"left\" fill=\"currentColor\" text-anchor=\"middle\">obj</textPath>\n",
       "    </text>\n",
       "    <path class=\"displacy-arrowhead\" d=\"M570.0,179.0 L578.0,167.0 562.0,167.0\" fill=\"currentColor\"/>\n",
       "</g>\n",
       "\n",
       "<g class=\"displacy-arrow\">\n",
       "    <path class=\"displacy-arc\" id=\"arrow-2c2b274da5ef433fbe2b81dafbc33e29-0-3\" stroke-width=\"2px\" d=\"M770,177.0 C770,89.5 920.0,89.5 920.0,177.0\" fill=\"none\" stroke=\"currentColor\"/>\n",
       "    <text dy=\"1.25em\" style=\"font-size: 0.8em; letter-spacing: 1px\">\n",
       "        <textPath xlink:href=\"#arrow-2c2b274da5ef433fbe2b81dafbc33e29-0-3\" class=\"displacy-label\" startOffset=\"50%\" side=\"left\" fill=\"currentColor\" text-anchor=\"middle\">case</textPath>\n",
       "    </text>\n",
       "    <path class=\"displacy-arrowhead\" d=\"M770,179.0 L762,167.0 778,167.0\" fill=\"currentColor\"/>\n",
       "</g>\n",
       "\n",
       "<g class=\"displacy-arrow\">\n",
       "    <path class=\"displacy-arc\" id=\"arrow-2c2b274da5ef433fbe2b81dafbc33e29-0-4\" stroke-width=\"2px\" d=\"M595,177.0 C595,2.0 925.0,2.0 925.0,177.0\" fill=\"none\" stroke=\"currentColor\"/>\n",
       "    <text dy=\"1.25em\" style=\"font-size: 0.8em; letter-spacing: 1px\">\n",
       "        <textPath xlink:href=\"#arrow-2c2b274da5ef433fbe2b81dafbc33e29-0-4\" class=\"displacy-label\" startOffset=\"50%\" side=\"left\" fill=\"currentColor\" text-anchor=\"middle\">nmod</textPath>\n",
       "    </text>\n",
       "    <path class=\"displacy-arrowhead\" d=\"M925.0,179.0 L933.0,167.0 917.0,167.0\" fill=\"currentColor\"/>\n",
       "</g>\n",
       "</svg></span>"
      ],
      "text/plain": [
       "<IPython.core.display.HTML object>"
      ]
     },
     "metadata": {},
     "output_type": "display_data"
    }
   ],
   "source": [
    "analisa(txt5)"
   ]
  },
  {
   "cell_type": "code",
   "execution_count": 30,
   "metadata": {},
   "outputs": [
    {
     "name": "stdout",
     "output_type": "stream",
     "text": [
      "Token:  Aquilo a) TAG  PRON b)  nsubj:pass\n",
      "Token:  foi a) TAG  AUX b)  aux:pass\n",
      "Token:  imposto a) TAG  VERB b)  ROOT\n",
      "Token:  pelo a) TAG  DET b)  case\n",
      "Token:  chefe a) TAG  NOUN b)  obl:agent\n",
      "c) \n"
     ]
    },
    {
     "data": {
      "text/html": [
       "<span class=\"tex2jax_ignore\"><svg xmlns=\"http://www.w3.org/2000/svg\" xmlns:xlink=\"http://www.w3.org/1999/xlink\" xml:lang=\"pt\" id=\"cc7cbc6e90f349109b8c2fd89bb171c1-0\" class=\"displacy\" width=\"925\" height=\"312.0\" direction=\"ltr\" style=\"max-width: none; height: 312.0px; color: #000000; background: #ffffff; font-family: Arial; direction: ltr\">\n",
       "<text class=\"displacy-token\" fill=\"currentColor\" text-anchor=\"middle\" y=\"222.0\">\n",
       "    <tspan class=\"displacy-word\" fill=\"currentColor\" x=\"50\">Aquilo</tspan>\n",
       "    <tspan class=\"displacy-tag\" dy=\"2em\" fill=\"currentColor\" x=\"50\">PRON</tspan>\n",
       "</text>\n",
       "\n",
       "<text class=\"displacy-token\" fill=\"currentColor\" text-anchor=\"middle\" y=\"222.0\">\n",
       "    <tspan class=\"displacy-word\" fill=\"currentColor\" x=\"225\">foi</tspan>\n",
       "    <tspan class=\"displacy-tag\" dy=\"2em\" fill=\"currentColor\" x=\"225\">AUX</tspan>\n",
       "</text>\n",
       "\n",
       "<text class=\"displacy-token\" fill=\"currentColor\" text-anchor=\"middle\" y=\"222.0\">\n",
       "    <tspan class=\"displacy-word\" fill=\"currentColor\" x=\"400\">imposto</tspan>\n",
       "    <tspan class=\"displacy-tag\" dy=\"2em\" fill=\"currentColor\" x=\"400\">VERB</tspan>\n",
       "</text>\n",
       "\n",
       "<text class=\"displacy-token\" fill=\"currentColor\" text-anchor=\"middle\" y=\"222.0\">\n",
       "    <tspan class=\"displacy-word\" fill=\"currentColor\" x=\"575\">pelo</tspan>\n",
       "    <tspan class=\"displacy-tag\" dy=\"2em\" fill=\"currentColor\" x=\"575\">DET</tspan>\n",
       "</text>\n",
       "\n",
       "<text class=\"displacy-token\" fill=\"currentColor\" text-anchor=\"middle\" y=\"222.0\">\n",
       "    <tspan class=\"displacy-word\" fill=\"currentColor\" x=\"750\">chefe</tspan>\n",
       "    <tspan class=\"displacy-tag\" dy=\"2em\" fill=\"currentColor\" x=\"750\">NOUN</tspan>\n",
       "</text>\n",
       "\n",
       "<g class=\"displacy-arrow\">\n",
       "    <path class=\"displacy-arc\" id=\"arrow-cc7cbc6e90f349109b8c2fd89bb171c1-0-0\" stroke-width=\"2px\" d=\"M70,177.0 C70,2.0 400.0,2.0 400.0,177.0\" fill=\"none\" stroke=\"currentColor\"/>\n",
       "    <text dy=\"1.25em\" style=\"font-size: 0.8em; letter-spacing: 1px\">\n",
       "        <textPath xlink:href=\"#arrow-cc7cbc6e90f349109b8c2fd89bb171c1-0-0\" class=\"displacy-label\" startOffset=\"50%\" side=\"left\" fill=\"currentColor\" text-anchor=\"middle\">nsubj:pass</textPath>\n",
       "    </text>\n",
       "    <path class=\"displacy-arrowhead\" d=\"M70,179.0 L62,167.0 78,167.0\" fill=\"currentColor\"/>\n",
       "</g>\n",
       "\n",
       "<g class=\"displacy-arrow\">\n",
       "    <path class=\"displacy-arc\" id=\"arrow-cc7cbc6e90f349109b8c2fd89bb171c1-0-1\" stroke-width=\"2px\" d=\"M245,177.0 C245,89.5 395.0,89.5 395.0,177.0\" fill=\"none\" stroke=\"currentColor\"/>\n",
       "    <text dy=\"1.25em\" style=\"font-size: 0.8em; letter-spacing: 1px\">\n",
       "        <textPath xlink:href=\"#arrow-cc7cbc6e90f349109b8c2fd89bb171c1-0-1\" class=\"displacy-label\" startOffset=\"50%\" side=\"left\" fill=\"currentColor\" text-anchor=\"middle\">aux:pass</textPath>\n",
       "    </text>\n",
       "    <path class=\"displacy-arrowhead\" d=\"M245,179.0 L237,167.0 253,167.0\" fill=\"currentColor\"/>\n",
       "</g>\n",
       "\n",
       "<g class=\"displacy-arrow\">\n",
       "    <path class=\"displacy-arc\" id=\"arrow-cc7cbc6e90f349109b8c2fd89bb171c1-0-2\" stroke-width=\"2px\" d=\"M595,177.0 C595,89.5 745.0,89.5 745.0,177.0\" fill=\"none\" stroke=\"currentColor\"/>\n",
       "    <text dy=\"1.25em\" style=\"font-size: 0.8em; letter-spacing: 1px\">\n",
       "        <textPath xlink:href=\"#arrow-cc7cbc6e90f349109b8c2fd89bb171c1-0-2\" class=\"displacy-label\" startOffset=\"50%\" side=\"left\" fill=\"currentColor\" text-anchor=\"middle\">case</textPath>\n",
       "    </text>\n",
       "    <path class=\"displacy-arrowhead\" d=\"M595,179.0 L587,167.0 603,167.0\" fill=\"currentColor\"/>\n",
       "</g>\n",
       "\n",
       "<g class=\"displacy-arrow\">\n",
       "    <path class=\"displacy-arc\" id=\"arrow-cc7cbc6e90f349109b8c2fd89bb171c1-0-3\" stroke-width=\"2px\" d=\"M420,177.0 C420,2.0 750.0,2.0 750.0,177.0\" fill=\"none\" stroke=\"currentColor\"/>\n",
       "    <text dy=\"1.25em\" style=\"font-size: 0.8em; letter-spacing: 1px\">\n",
       "        <textPath xlink:href=\"#arrow-cc7cbc6e90f349109b8c2fd89bb171c1-0-3\" class=\"displacy-label\" startOffset=\"50%\" side=\"left\" fill=\"currentColor\" text-anchor=\"middle\">obl:agent</textPath>\n",
       "    </text>\n",
       "    <path class=\"displacy-arrowhead\" d=\"M750.0,179.0 L758.0,167.0 742.0,167.0\" fill=\"currentColor\"/>\n",
       "</g>\n",
       "</svg></span>"
      ],
      "text/plain": [
       "<IPython.core.display.HTML object>"
      ]
     },
     "metadata": {},
     "output_type": "display_data"
    }
   ],
   "source": [
    "analisa(txt6)"
   ]
  },
  {
   "cell_type": "markdown",
   "metadata": {
    "id": "-7kMIbTCE_bI"
   },
   "source": [
    "<b> d) Disucussão Grupo 4: </b> Tanto no txt5 como no txt6 todas as palavras foram classificadas corretamente."
   ]
  },
  {
   "cell_type": "markdown",
   "metadata": {
    "id": "CLrHpae9E_bJ"
   },
   "source": [
    "<b> Atividade </b>\n",
    "\n",
    "9.5. Frases Grupo 5"
   ]
  },
  {
   "cell_type": "code",
   "execution_count": 31,
   "metadata": {
    "id": "twKc9JVAE_bK"
   },
   "outputs": [],
   "source": [
    "txt7=\"Todo dia eu caminho\"\n",
    "txt8=\"Esse é o caminho mais fácil\""
   ]
  },
  {
   "cell_type": "code",
   "execution_count": 32,
   "metadata": {
    "id": "_wz6uub2E_bO"
   },
   "outputs": [
    {
     "name": "stdout",
     "output_type": "stream",
     "text": [
      "Token:  Todo a) TAG  DET b)  nummod\n",
      "Token:  dia a) TAG  NOUN b)  obl\n",
      "Token:  eu a) TAG  PRON b)  nsubj\n",
      "Token:  caminho a) TAG  VERB b)  ROOT\n",
      "c) \n"
     ]
    },
    {
     "data": {
      "text/html": [
       "<span class=\"tex2jax_ignore\"><svg xmlns=\"http://www.w3.org/2000/svg\" xmlns:xlink=\"http://www.w3.org/1999/xlink\" xml:lang=\"pt\" id=\"3e4c5a92d579410aae161c7ee019789c-0\" class=\"displacy\" width=\"750\" height=\"312.0\" direction=\"ltr\" style=\"max-width: none; height: 312.0px; color: #000000; background: #ffffff; font-family: Arial; direction: ltr\">\n",
       "<text class=\"displacy-token\" fill=\"currentColor\" text-anchor=\"middle\" y=\"222.0\">\n",
       "    <tspan class=\"displacy-word\" fill=\"currentColor\" x=\"50\">Todo</tspan>\n",
       "    <tspan class=\"displacy-tag\" dy=\"2em\" fill=\"currentColor\" x=\"50\">DET</tspan>\n",
       "</text>\n",
       "\n",
       "<text class=\"displacy-token\" fill=\"currentColor\" text-anchor=\"middle\" y=\"222.0\">\n",
       "    <tspan class=\"displacy-word\" fill=\"currentColor\" x=\"225\">dia</tspan>\n",
       "    <tspan class=\"displacy-tag\" dy=\"2em\" fill=\"currentColor\" x=\"225\">NOUN</tspan>\n",
       "</text>\n",
       "\n",
       "<text class=\"displacy-token\" fill=\"currentColor\" text-anchor=\"middle\" y=\"222.0\">\n",
       "    <tspan class=\"displacy-word\" fill=\"currentColor\" x=\"400\">eu</tspan>\n",
       "    <tspan class=\"displacy-tag\" dy=\"2em\" fill=\"currentColor\" x=\"400\">PRON</tspan>\n",
       "</text>\n",
       "\n",
       "<text class=\"displacy-token\" fill=\"currentColor\" text-anchor=\"middle\" y=\"222.0\">\n",
       "    <tspan class=\"displacy-word\" fill=\"currentColor\" x=\"575\">caminho</tspan>\n",
       "    <tspan class=\"displacy-tag\" dy=\"2em\" fill=\"currentColor\" x=\"575\">VERB</tspan>\n",
       "</text>\n",
       "\n",
       "<g class=\"displacy-arrow\">\n",
       "    <path class=\"displacy-arc\" id=\"arrow-3e4c5a92d579410aae161c7ee019789c-0-0\" stroke-width=\"2px\" d=\"M70,177.0 C70,89.5 220.0,89.5 220.0,177.0\" fill=\"none\" stroke=\"currentColor\"/>\n",
       "    <text dy=\"1.25em\" style=\"font-size: 0.8em; letter-spacing: 1px\">\n",
       "        <textPath xlink:href=\"#arrow-3e4c5a92d579410aae161c7ee019789c-0-0\" class=\"displacy-label\" startOffset=\"50%\" side=\"left\" fill=\"currentColor\" text-anchor=\"middle\">nummod</textPath>\n",
       "    </text>\n",
       "    <path class=\"displacy-arrowhead\" d=\"M70,179.0 L62,167.0 78,167.0\" fill=\"currentColor\"/>\n",
       "</g>\n",
       "\n",
       "<g class=\"displacy-arrow\">\n",
       "    <path class=\"displacy-arc\" id=\"arrow-3e4c5a92d579410aae161c7ee019789c-0-1\" stroke-width=\"2px\" d=\"M245,177.0 C245,2.0 575.0,2.0 575.0,177.0\" fill=\"none\" stroke=\"currentColor\"/>\n",
       "    <text dy=\"1.25em\" style=\"font-size: 0.8em; letter-spacing: 1px\">\n",
       "        <textPath xlink:href=\"#arrow-3e4c5a92d579410aae161c7ee019789c-0-1\" class=\"displacy-label\" startOffset=\"50%\" side=\"left\" fill=\"currentColor\" text-anchor=\"middle\">obl</textPath>\n",
       "    </text>\n",
       "    <path class=\"displacy-arrowhead\" d=\"M245,179.0 L237,167.0 253,167.0\" fill=\"currentColor\"/>\n",
       "</g>\n",
       "\n",
       "<g class=\"displacy-arrow\">\n",
       "    <path class=\"displacy-arc\" id=\"arrow-3e4c5a92d579410aae161c7ee019789c-0-2\" stroke-width=\"2px\" d=\"M420,177.0 C420,89.5 570.0,89.5 570.0,177.0\" fill=\"none\" stroke=\"currentColor\"/>\n",
       "    <text dy=\"1.25em\" style=\"font-size: 0.8em; letter-spacing: 1px\">\n",
       "        <textPath xlink:href=\"#arrow-3e4c5a92d579410aae161c7ee019789c-0-2\" class=\"displacy-label\" startOffset=\"50%\" side=\"left\" fill=\"currentColor\" text-anchor=\"middle\">nsubj</textPath>\n",
       "    </text>\n",
       "    <path class=\"displacy-arrowhead\" d=\"M420,179.0 L412,167.0 428,167.0\" fill=\"currentColor\"/>\n",
       "</g>\n",
       "</svg></span>"
      ],
      "text/plain": [
       "<IPython.core.display.HTML object>"
      ]
     },
     "metadata": {},
     "output_type": "display_data"
    }
   ],
   "source": [
    "analisa(txt7)"
   ]
  },
  {
   "cell_type": "code",
   "execution_count": 33,
   "metadata": {},
   "outputs": [
    {
     "name": "stdout",
     "output_type": "stream",
     "text": [
      "Token:  Esse a) TAG  PRON b)  nsubj\n",
      "Token:  é a) TAG  AUX b)  cop\n",
      "Token:  o a) TAG  DET b)  det\n",
      "Token:  caminho a) TAG  NOUN b)  ROOT\n",
      "Token:  mais a) TAG  ADV b)  advmod\n",
      "Token:  fácil a) TAG  ADJ b)  amod\n",
      "c) \n"
     ]
    },
    {
     "data": {
      "text/html": [
       "<span class=\"tex2jax_ignore\"><svg xmlns=\"http://www.w3.org/2000/svg\" xmlns:xlink=\"http://www.w3.org/1999/xlink\" xml:lang=\"pt\" id=\"dc813561b63e4cbe9e33931329bc9110-0\" class=\"displacy\" width=\"1100\" height=\"399.5\" direction=\"ltr\" style=\"max-width: none; height: 399.5px; color: #000000; background: #ffffff; font-family: Arial; direction: ltr\">\n",
       "<text class=\"displacy-token\" fill=\"currentColor\" text-anchor=\"middle\" y=\"309.5\">\n",
       "    <tspan class=\"displacy-word\" fill=\"currentColor\" x=\"50\">Esse</tspan>\n",
       "    <tspan class=\"displacy-tag\" dy=\"2em\" fill=\"currentColor\" x=\"50\">PRON</tspan>\n",
       "</text>\n",
       "\n",
       "<text class=\"displacy-token\" fill=\"currentColor\" text-anchor=\"middle\" y=\"309.5\">\n",
       "    <tspan class=\"displacy-word\" fill=\"currentColor\" x=\"225\">é</tspan>\n",
       "    <tspan class=\"displacy-tag\" dy=\"2em\" fill=\"currentColor\" x=\"225\">AUX</tspan>\n",
       "</text>\n",
       "\n",
       "<text class=\"displacy-token\" fill=\"currentColor\" text-anchor=\"middle\" y=\"309.5\">\n",
       "    <tspan class=\"displacy-word\" fill=\"currentColor\" x=\"400\">o</tspan>\n",
       "    <tspan class=\"displacy-tag\" dy=\"2em\" fill=\"currentColor\" x=\"400\">DET</tspan>\n",
       "</text>\n",
       "\n",
       "<text class=\"displacy-token\" fill=\"currentColor\" text-anchor=\"middle\" y=\"309.5\">\n",
       "    <tspan class=\"displacy-word\" fill=\"currentColor\" x=\"575\">caminho</tspan>\n",
       "    <tspan class=\"displacy-tag\" dy=\"2em\" fill=\"currentColor\" x=\"575\">NOUN</tspan>\n",
       "</text>\n",
       "\n",
       "<text class=\"displacy-token\" fill=\"currentColor\" text-anchor=\"middle\" y=\"309.5\">\n",
       "    <tspan class=\"displacy-word\" fill=\"currentColor\" x=\"750\">mais</tspan>\n",
       "    <tspan class=\"displacy-tag\" dy=\"2em\" fill=\"currentColor\" x=\"750\">ADV</tspan>\n",
       "</text>\n",
       "\n",
       "<text class=\"displacy-token\" fill=\"currentColor\" text-anchor=\"middle\" y=\"309.5\">\n",
       "    <tspan class=\"displacy-word\" fill=\"currentColor\" x=\"925\">fácil</tspan>\n",
       "    <tspan class=\"displacy-tag\" dy=\"2em\" fill=\"currentColor\" x=\"925\">ADJ</tspan>\n",
       "</text>\n",
       "\n",
       "<g class=\"displacy-arrow\">\n",
       "    <path class=\"displacy-arc\" id=\"arrow-dc813561b63e4cbe9e33931329bc9110-0-0\" stroke-width=\"2px\" d=\"M70,264.5 C70,2.0 575.0,2.0 575.0,264.5\" fill=\"none\" stroke=\"currentColor\"/>\n",
       "    <text dy=\"1.25em\" style=\"font-size: 0.8em; letter-spacing: 1px\">\n",
       "        <textPath xlink:href=\"#arrow-dc813561b63e4cbe9e33931329bc9110-0-0\" class=\"displacy-label\" startOffset=\"50%\" side=\"left\" fill=\"currentColor\" text-anchor=\"middle\">nsubj</textPath>\n",
       "    </text>\n",
       "    <path class=\"displacy-arrowhead\" d=\"M70,266.5 L62,254.5 78,254.5\" fill=\"currentColor\"/>\n",
       "</g>\n",
       "\n",
       "<g class=\"displacy-arrow\">\n",
       "    <path class=\"displacy-arc\" id=\"arrow-dc813561b63e4cbe9e33931329bc9110-0-1\" stroke-width=\"2px\" d=\"M245,264.5 C245,89.5 570.0,89.5 570.0,264.5\" fill=\"none\" stroke=\"currentColor\"/>\n",
       "    <text dy=\"1.25em\" style=\"font-size: 0.8em; letter-spacing: 1px\">\n",
       "        <textPath xlink:href=\"#arrow-dc813561b63e4cbe9e33931329bc9110-0-1\" class=\"displacy-label\" startOffset=\"50%\" side=\"left\" fill=\"currentColor\" text-anchor=\"middle\">cop</textPath>\n",
       "    </text>\n",
       "    <path class=\"displacy-arrowhead\" d=\"M245,266.5 L237,254.5 253,254.5\" fill=\"currentColor\"/>\n",
       "</g>\n",
       "\n",
       "<g class=\"displacy-arrow\">\n",
       "    <path class=\"displacy-arc\" id=\"arrow-dc813561b63e4cbe9e33931329bc9110-0-2\" stroke-width=\"2px\" d=\"M420,264.5 C420,177.0 565.0,177.0 565.0,264.5\" fill=\"none\" stroke=\"currentColor\"/>\n",
       "    <text dy=\"1.25em\" style=\"font-size: 0.8em; letter-spacing: 1px\">\n",
       "        <textPath xlink:href=\"#arrow-dc813561b63e4cbe9e33931329bc9110-0-2\" class=\"displacy-label\" startOffset=\"50%\" side=\"left\" fill=\"currentColor\" text-anchor=\"middle\">det</textPath>\n",
       "    </text>\n",
       "    <path class=\"displacy-arrowhead\" d=\"M420,266.5 L412,254.5 428,254.5\" fill=\"currentColor\"/>\n",
       "</g>\n",
       "\n",
       "<g class=\"displacy-arrow\">\n",
       "    <path class=\"displacy-arc\" id=\"arrow-dc813561b63e4cbe9e33931329bc9110-0-3\" stroke-width=\"2px\" d=\"M770,264.5 C770,177.0 915.0,177.0 915.0,264.5\" fill=\"none\" stroke=\"currentColor\"/>\n",
       "    <text dy=\"1.25em\" style=\"font-size: 0.8em; letter-spacing: 1px\">\n",
       "        <textPath xlink:href=\"#arrow-dc813561b63e4cbe9e33931329bc9110-0-3\" class=\"displacy-label\" startOffset=\"50%\" side=\"left\" fill=\"currentColor\" text-anchor=\"middle\">advmod</textPath>\n",
       "    </text>\n",
       "    <path class=\"displacy-arrowhead\" d=\"M770,266.5 L762,254.5 778,254.5\" fill=\"currentColor\"/>\n",
       "</g>\n",
       "\n",
       "<g class=\"displacy-arrow\">\n",
       "    <path class=\"displacy-arc\" id=\"arrow-dc813561b63e4cbe9e33931329bc9110-0-4\" stroke-width=\"2px\" d=\"M595,264.5 C595,89.5 920.0,89.5 920.0,264.5\" fill=\"none\" stroke=\"currentColor\"/>\n",
       "    <text dy=\"1.25em\" style=\"font-size: 0.8em; letter-spacing: 1px\">\n",
       "        <textPath xlink:href=\"#arrow-dc813561b63e4cbe9e33931329bc9110-0-4\" class=\"displacy-label\" startOffset=\"50%\" side=\"left\" fill=\"currentColor\" text-anchor=\"middle\">amod</textPath>\n",
       "    </text>\n",
       "    <path class=\"displacy-arrowhead\" d=\"M920.0,266.5 L928.0,254.5 912.0,254.5\" fill=\"currentColor\"/>\n",
       "</g>\n",
       "</svg></span>"
      ],
      "text/plain": [
       "<IPython.core.display.HTML object>"
      ]
     },
     "metadata": {},
     "output_type": "display_data"
    }
   ],
   "source": [
    "analisa(txt8)"
   ]
  },
  {
   "cell_type": "markdown",
   "metadata": {
    "id": "AcSP3dy6E_bT"
   },
   "source": [
    "<b> d) Disucussão Grupo 5: </b> Todas as palavras do txt7 e txt8 foram classificadas corretamente."
   ]
  },
  {
   "cell_type": "markdown",
   "metadata": {
    "id": "SWCxjMuDE_bU"
   },
   "source": [
    "<b> Esse modelo do spacy para português, em 79,94 de acurácia no pos-tagging</b>\n",
    "\n",
    "<b> Atividade </b>\n",
    "\n",
    "10) Sabendo que o modelo que estamos utulizando possui acurácia de 79,94 no pos-tagging, encontre um exemplo que ele falhe."
   ]
  },
  {
   "cell_type": "code",
   "execution_count": 36,
   "metadata": {
    "id": "iVEZFNSPE_bV"
   },
   "outputs": [],
   "source": [
    "txt_curto = \"Curto texto curto\""
   ]
  },
  {
   "cell_type": "code",
   "execution_count": 37,
   "metadata": {},
   "outputs": [
    {
     "name": "stdout",
     "output_type": "stream",
     "text": [
      "Token:  Curto a) TAG  ADJ b)  amod\n",
      "Token:  texto a) TAG  NOUN b)  ROOT\n",
      "Token:  curto a) TAG  ADJ b)  amod\n",
      "c) \n"
     ]
    },
    {
     "data": {
      "text/html": [
       "<span class=\"tex2jax_ignore\"><svg xmlns=\"http://www.w3.org/2000/svg\" xmlns:xlink=\"http://www.w3.org/1999/xlink\" xml:lang=\"pt\" id=\"551a190e00594c3da41d4a997f978d70-0\" class=\"displacy\" width=\"575\" height=\"224.5\" direction=\"ltr\" style=\"max-width: none; height: 224.5px; color: #000000; background: #ffffff; font-family: Arial; direction: ltr\">\n",
       "<text class=\"displacy-token\" fill=\"currentColor\" text-anchor=\"middle\" y=\"134.5\">\n",
       "    <tspan class=\"displacy-word\" fill=\"currentColor\" x=\"50\">Curto</tspan>\n",
       "    <tspan class=\"displacy-tag\" dy=\"2em\" fill=\"currentColor\" x=\"50\">ADJ</tspan>\n",
       "</text>\n",
       "\n",
       "<text class=\"displacy-token\" fill=\"currentColor\" text-anchor=\"middle\" y=\"134.5\">\n",
       "    <tspan class=\"displacy-word\" fill=\"currentColor\" x=\"225\">texto</tspan>\n",
       "    <tspan class=\"displacy-tag\" dy=\"2em\" fill=\"currentColor\" x=\"225\">NOUN</tspan>\n",
       "</text>\n",
       "\n",
       "<text class=\"displacy-token\" fill=\"currentColor\" text-anchor=\"middle\" y=\"134.5\">\n",
       "    <tspan class=\"displacy-word\" fill=\"currentColor\" x=\"400\">curto</tspan>\n",
       "    <tspan class=\"displacy-tag\" dy=\"2em\" fill=\"currentColor\" x=\"400\">ADJ</tspan>\n",
       "</text>\n",
       "\n",
       "<g class=\"displacy-arrow\">\n",
       "    <path class=\"displacy-arc\" id=\"arrow-551a190e00594c3da41d4a997f978d70-0-0\" stroke-width=\"2px\" d=\"M70,89.5 C70,2.0 225.0,2.0 225.0,89.5\" fill=\"none\" stroke=\"currentColor\"/>\n",
       "    <text dy=\"1.25em\" style=\"font-size: 0.8em; letter-spacing: 1px\">\n",
       "        <textPath xlink:href=\"#arrow-551a190e00594c3da41d4a997f978d70-0-0\" class=\"displacy-label\" startOffset=\"50%\" side=\"left\" fill=\"currentColor\" text-anchor=\"middle\">amod</textPath>\n",
       "    </text>\n",
       "    <path class=\"displacy-arrowhead\" d=\"M70,91.5 L62,79.5 78,79.5\" fill=\"currentColor\"/>\n",
       "</g>\n",
       "\n",
       "<g class=\"displacy-arrow\">\n",
       "    <path class=\"displacy-arc\" id=\"arrow-551a190e00594c3da41d4a997f978d70-0-1\" stroke-width=\"2px\" d=\"M245,89.5 C245,2.0 400.0,2.0 400.0,89.5\" fill=\"none\" stroke=\"currentColor\"/>\n",
       "    <text dy=\"1.25em\" style=\"font-size: 0.8em; letter-spacing: 1px\">\n",
       "        <textPath xlink:href=\"#arrow-551a190e00594c3da41d4a997f978d70-0-1\" class=\"displacy-label\" startOffset=\"50%\" side=\"left\" fill=\"currentColor\" text-anchor=\"middle\">amod</textPath>\n",
       "    </text>\n",
       "    <path class=\"displacy-arrowhead\" d=\"M400.0,91.5 L408.0,79.5 392.0,79.5\" fill=\"currentColor\"/>\n",
       "</g>\n",
       "</svg></span>"
      ],
      "text/plain": [
       "<IPython.core.display.HTML object>"
      ]
     },
     "metadata": {},
     "output_type": "display_data"
    }
   ],
   "source": [
    "analisa(txt_curto)"
   ]
  },
  {
   "cell_type": "markdown",
   "metadata": {
    "id": "HRYDMmL9E_bY"
   },
   "source": [
    "No exemplo acima, a primeira ocorrência de \"curto\" foi classificada como adjetivo, mas na verdade é um verbo."
   ]
  },
  {
   "cell_type": "markdown",
   "metadata": {
    "id": "OM-_I65lE_bd"
   },
   "source": [
    "# Named Entity Recognition"
   ]
  },
  {
   "cell_type": "markdown",
   "metadata": {
    "id": "7DCsgEwhE_bd"
   },
   "source": [
    "## Recomendação de sites"
   ]
  },
  {
   "cell_type": "markdown",
   "metadata": {
    "id": "MCJtetA3E_be"
   },
   "source": [
    "<b> Atividade </b>\n",
    "\n",
    "11) Capture o texto de cada notícia abaixo:\n",
    "\n",
    "- 0 -> https://g1.globo.com/sp/sao-paulo/noticia/2020/03/03/cai-para-130-numero-de-casos-suspeitos-de-coronavirus-no-estado-de-sao-paulo.ghtml\n",
    "- 1 -> https://g1.globo.com/sp/sao-paulo/noticia/2020/03/04/ministerio-da-saude-confirma-terceiro-paciente-com-coronavirus-em-sp-um-quarto-caso-aguarda-contraprova.ghtml\n",
    "- 2 -> https://g1.globo.com/bemestar/coronavirus/noticia/2020/03/04/ultimas-noticias-de-coronavirus-de-4-de-marco.ghtml\n",
    "- 3 -> https://g1.globo.com/economia/noticia/2020/03/04/projetos-reduzem-em-r-96-bilhoes-emendas-parlamentares-no-orcamento-2020-diz-governo.ghtml\n",
    "- 4 -> https://g1.globo.com/politica/noticia/2020/03/04/documento-liga-assessor-de-eduardo-bolsonaro-a-conta-em-rede-social-para-ataques-pessoais.ghtml\n",
    "- 5 -> https://g1.globo.com/rj/rio-de-janeiro/noticia/2020/03/04/flavio-bolsonaro-entra-com-recurso-para-tentar-paralisar-investigacao-sobre-suspeita-de-rachadinha.ghtml\n",
    "- 6 -> https://g1.globo.com/economia/noticia/2020/03/04/pib-do-brasil-cresce-11percent-em-2019.ghtml\n",
    "- 7 -> https://g1.globo.com/economia/noticia/2020/03/04/tudo-dentro-do-previsto-diz-paulo-guedes-sobre-resultado-do-pib.ghtml\n",
    "- 8 -> https://g1.globo.com/sp/santos-regiao/noticia/2020/03/04/sobe-numero-de-mortos-apos-temporal-na-baixada-santista.ghtml\n",
    "- 9 -> https://g1.globo.com/sp/sao-paulo/noticia/2020/03/04/ministerio-da-saude-confirma-terceiro-paciente-com-coronavirus-em-sp-um-quarto-caso-aguarda-contraprova.ghtml\n",
    "\n",
    "Para isto utilize o código abaixo:\n",
    "```python\n",
    "def match_class(target):                                                        \n",
    "    def do_match(tag):                                                          \n",
    "        classes = tag.get('class', [])                                          \n",
    "        return all(c in classes for c in target)                                \n",
    "    return do_match \n",
    "\n",
    "def get_text_url(url):\n",
    "    res = requests.get(url)\n",
    "    html = res.text\n",
    "    soup = BeautifulSoup(html, 'html5lib')\n",
    "    #remove marcações de scripts e style\n",
    "    texto = soup.find_all(match_class([\"content-text__container\"]))\n",
    "    all_text = \"\"\n",
    "    for t in texto:\n",
    "        all_text += t.get_text()\n",
    "    return all_text\n",
    "```"
   ]
  },
  {
   "cell_type": "code",
   "execution_count": 3,
   "metadata": {
    "id": "4d3iRrzEE_bf"
   },
   "outputs": [],
   "source": [
    "oce"
   ]
  },
  {
   "cell_type": "code",
   "execution_count": 4,
   "metadata": {
    "id": "Wj0QBGVVE_bl"
   },
   "outputs": [],
   "source": [
    "noticias = {}\n",
    "noticias[0] = \"https://g1.globo.com/sp/sao-paulo/noticia/2020/03/03/cai-para-130-numero-de-casos-suspeitos-de-coronavirus-no-estado-de-sao-paulo.ghtml\"\n",
    "noticias[1] = \"https://g1.globo.com/sp/sao-paulo/noticia/2020/03/04/ministerio-da-saude-confirma-terceiro-paciente-com-coronavirus-em-sp-um-quarto-caso-aguarda-contraprova.ghtml\"\n",
    "noticias[2] = \"https://g1.globo.com/bemestar/coronavirus/noticia/2020/03/04/ultimas-noticias-de-coronavirus-de-4-de-marco.ghtml\"\n",
    "noticias[3] = \"https://g1.globo.com/economia/noticia/2020/03/04/projetos-reduzem-em-r-96-bilhoes-emendas-parlamentares-no-orcamento-2020-diz-governo.ghtml\"\n",
    "noticias[4] = \"https://g1.globo.com/politica/noticia/2020/03/04/documento-liga-assessor-de-eduardo-bolsonaro-a-conta-em-rede-social-para-ataques-pessoais.ghtml\"\n",
    "noticias[5] = \"https://g1.globo.com/rj/rio-de-janeiro/noticia/2020/03/04/flavio-bolsonaro-entra-com-recurso-para-tentar-paralisar-investigacao-sobre-suspeita-de-rachadinha.ghtml\"\n",
    "noticias[6] = \"https://g1.globo.com/economia/noticia/2020/03/04/pib-do-brasil-cresce-11percent-em-2019.ghtml\"\n",
    "noticias[7] = \"https://g1.globo.com/economia/noticia/2020/03/04/tudo-dentro-do-previsto-diz-paulo-guedes-sobre-resultado-do-pib.ghtml\"\n",
    "noticias[8] = \"https://g1.globo.com/sp/santos-regiao/noticia/2020/03/04/sobe-numero-de-mortos-apos-temporal-na-baixada-santista.ghtml\"\n",
    "noticias[9] = \"https://g1.globo.com/sp/sao-paulo/noticia/2020/03/04/ministerio-da-saude-confirma-terceiro-paciente-com-coronavirus-em-sp-um-quarto-caso-aguarda-contraprova.ghtml\""
   ]
  },
  {
   "cell_type": "code",
   "execution_count": 5,
   "metadata": {},
   "outputs": [
    {
     "data": {
      "text/plain": [
       "{0: 'https://g1.globo.com/sp/sao-paulo/noticia/2020/03/03/cai-para-130-numero-de-casos-suspeitos-de-coronavirus-no-estado-de-sao-paulo.ghtml',\n",
       " 1: 'https://g1.globo.com/sp/sao-paulo/noticia/2020/03/04/ministerio-da-saude-confirma-terceiro-paciente-com-coronavirus-em-sp-um-quarto-caso-aguarda-contraprova.ghtml',\n",
       " 2: 'https://g1.globo.com/bemestar/coronavirus/noticia/2020/03/04/ultimas-noticias-de-coronavirus-de-4-de-marco.ghtml',\n",
       " 3: 'https://g1.globo.com/economia/noticia/2020/03/04/projetos-reduzem-em-r-96-bilhoes-emendas-parlamentares-no-orcamento-2020-diz-governo.ghtml',\n",
       " 4: 'https://g1.globo.com/politica/noticia/2020/03/04/documento-liga-assessor-de-eduardo-bolsonaro-a-conta-em-rede-social-para-ataques-pessoais.ghtml',\n",
       " 5: 'https://g1.globo.com/rj/rio-de-janeiro/noticia/2020/03/04/flavio-bolsonaro-entra-com-recurso-para-tentar-paralisar-investigacao-sobre-suspeita-de-rachadinha.ghtml',\n",
       " 6: 'https://g1.globo.com/economia/noticia/2020/03/04/pib-do-brasil-cresce-11percent-em-2019.ghtml',\n",
       " 7: 'https://g1.globo.com/economia/noticia/2020/03/04/tudo-dentro-do-previsto-diz-paulo-guedes-sobre-resultado-do-pib.ghtml',\n",
       " 8: 'https://g1.globo.com/sp/santos-regiao/noticia/2020/03/04/sobe-numero-de-mortos-apos-temporal-na-baixada-santista.ghtml',\n",
       " 9: 'https://g1.globo.com/sp/sao-paulo/noticia/2020/03/04/ministerio-da-saude-confirma-terceiro-paciente-com-coronavirus-em-sp-um-quarto-caso-aguarda-contraprova.ghtml'}"
      ]
     },
     "execution_count": 5,
     "metadata": {},
     "output_type": "execute_result"
    }
   ],
   "source": [
    "noticias"
   ]
  },
  {
   "cell_type": "code",
   "execution_count": 6,
   "metadata": {},
   "outputs": [
    {
     "data": {
      "text/plain": [
       "' O Ministério da Saúde, em conjunto com as secretarias estadual e municipal de São Paulo, confirmou nesta quarta-feira (4) o terceiro caso de coronavírus no Brasil. O homem é natural da Colômbia, tem 46 anos, é administrador de empresas, mora em São Paulo, e viajou para a Itália, Áustria, Alemanha e Espanha.  Ele desembarcou no Brasil no dia 1º de março, procurou atendimento médico com sintomas de tosse, coriza e desconforto na garganta e teve a confirmação para COVID-19 nesta quarta-feira (4) no Hospital Albert Einstein, na Zona Sul de São Paulo.  (O G1 informou, com base em informações do coordenador do Centro de Contingência de São Paulo, David Uip, que o terceiro paciente confirmado é uma criança que viajou para a Itália. Na verdade, trata-se de um homem que viajou para países da Europa. A informação foi corrigida às 17h45).   Os dois primeiros casos também foram confirmados no Einstein. Todos os três pacientes estão bem, em isolamento domiciliar, e tiveram histórico de viagem para a Europa. Em nota, o ministério e as pastas afirmam que o caso é importado, ou seja, veio de fora do Brasil.  O Ministério da Saúde também acompanha outro caso em São Paulo: é o de uma paciente de 13 anos que viajou ao exterior, com passagem por Portugal e Itália. A adolescente teve uma lesão durante a viagem e, ao voltar, procurou atendimento médico no Hospital Beneficência Portuguesa, na capital paulista.  Mesmo sem apresentar sintomas, os médicos coletaram amostras para teste para coronavírus executado em um laboratório privado. O exame deu positivo e agora a contraprova será feita pelo Instituto Adolfo Lutz.  De acordo com Uip, o terceiro paciente confirmado não tem relação com os dois primeiros casos. \"A priori nenhum [se tem relação com os outros dois casos], são casos diferentes. Não está acontecendo nada de inesperado, nós vamos ter novos casos. A maioria dos casos vão ser assintomáticos, ou pouco sintomáticos, como toda doença viral, especialmente vírus que fazem a síndrome respiratória, então, é dentro do esperado e há certeza que nós estamos preparados para isso\", disse.  O último balanço divulgado pela Secretaria Estadual de Saúde aponta 135 casos suspeitos da doença no estado de São Paulo, outros 131 foram descartados por meio de análise laboratorial.  Mesmo com a segunda confirmação, não houve mudança da situação nacional, pois não existem evidências de circulação sustentada do vírus em território brasileiro.  Segundo a metodologia da Secretaria Estadual de Saúde, para um caso ser considerado suspeito é necessário que o paciente tenha apresentado, além dos sintomas, histórico de viagem ou contato com caso suspeito.  No último sábado (29), a Secretaria de Saúde do Estado de São Paulo e o Ministério da Saúde confirmaram  o segundo caso de coronavírus no estado. Trata-se de um homem de 32 anos que reside em São Paulo e que chegou de Milão, na Itália, na quinta-feira (27).  O primeiro caso foi confirmado na quarta-feira (26). Trata-se de um homem que também reside em São Paulo e possui 61 anos. Ele retornou de Turim, no norte da Itália, na sexta-feira (21).  Paulo Menezes, coordenador do comitê de operações emergenciais (COE) da Secretaria Estadual de Saúde afirmou na terça-feira (3) que os pacientes continuam em quarentena domiciliar.  \"Os dois confirmados estão evoluindo bem clinicamente, mas ainda têm alguns sintomas que fazem com que eles continuem em isolamento domiciliar\", disse em coletiva de imprensa.  O número de pessoas que tiveram contato com o segundo caso confirmado não foi divulgado pela secretaria. No primeiro caso confirmado, eram 34 pessoas, entre passageiros do voo e familiares do paciente.  “Existem contactantes [do segundo caso], eles estão sendo monitorados, mas a gente não está divulgando mais números de contactantes por conta da privacidade das pessoas”, disse Menezes.  Segundo Uip, o Centro de Contingência contra a doença criado no estado, o laboratório Adolfo Lutz, onde os testes são realizados, irá \"qualificar outros laboratórios\" para realizar o exame de confirmação.  A tendência é que, a partir dos próximos dias, o padrão de identificação dos casos suspeitos mude. Segundo Menezes, \"daqui a alguns dias nós vamos trabalhar por gravidade e não por procedência pra fazer a identificação dos casos suspeitos\".  \"Eu concordo com o ministério da Saúde: eu acho que estamos em um momento de pandemia há dias. Meu sentimento pessoal é de que estamos em um momento pandêmico\", salientou Uip.  A Organização Mundial de Saúde (OMS) é que define os critérios e se a doença é caracterizada ou não como pandemia.  O governo estadual lançou uma cartilha de orientação e prevenção do coronavírus em cinco idiomas - português, inglês, espanhol, italiano e chinês - na versão impressa e eletrônica. O governador João Doria (PSDB) afirmou que irá liberar R$ 30 milhões em recursos para as ações de prevenção e informação.  Nesta quinta-feira (27), o governo federal anunciou que vai antecipar para 23 de março a Campanha Nacional de Vacinação contra a gripe – anteriormente, a abertura estava prevista para a segunda quinzena de abril.  A vacina contra a gripe não protege contra o novo coronavírus, mas, sim, contra tipos de influenza (família à qual pertence o H1N1, por exemplo). E justamente por isso pode ajudar profissionais de saúde a diagnosticar – por eliminação – eventuais casos de Covid-19.  Quem for viajar aos locais com circulação do vírus deve evitar contato com pessoas doentes, animais (vivos ou mortos), e a circulação em mercados de animais e seus produtos. '"
      ]
     },
     "execution_count": 6,
     "metadata": {},
     "output_type": "execute_result"
    }
   ],
   "source": [
    "get_text_url(\"https://g1.globo.com/sp/sao-paulo/noticia/2020/03/04/ministerio-da-saude-confirma-terceiro-paciente-com-coronavirus-em-sp-um-quarto-caso-aguarda-contraprova.ghtml\")"
   ]
  },
  {
   "cell_type": "code",
   "execution_count": 7,
   "metadata": {},
   "outputs": [],
   "source": [
    "texto_noticias = {i:get_text_url(noticias[i]) for i in noticias.keys()}"
   ]
  },
  {
   "cell_type": "code",
   "execution_count": 90,
   "metadata": {},
   "outputs": [
    {
     "data": {
      "text/plain": [
       "' A Secretaria Estadual de Saúde de São Paulo divulgou nesta terça-feira (3) que caiu o número de pacientes com suspeita de coronavírus no estado. Enquanto na segunda-feira (2) eram 163 casos suspeitos, nesta terça são 130.  Foram descartados, ao todo, 104 casos no estado, destes, 56 foram nas últimas 24 horas. Entretanto, segundo informou a pasta, entre segunda (2) e terça (3), 23 novos surgiram.  Permanecem confirmados apenas 2 casos da doença no país, ambos no estado de São Paulo. Os pacientes estão em quarentena domiciliar. Ambos estiveram em viagem na Itália.  \"Os dois confirmados estão evoluindo bem clinicamente, mas ainda têm alguns sintomas que fazem com que eles continuem em isolamento domiciliar\", salientou Paulo Menezes, coordenador do comitê de operações emergenciais (COE) da Secretaria Estadual de Saúde.  O número de pessoas que tiveram contato com o segundo caso confirmado não foi divulgado pela secretaria. No primeiro caso confirmado, eram 34 pessoas, entre passageiros do voo e familiares do paciente.  “Existem contactantes [do segundo caso], eles estão sendo monitorados, mas a gente não está divulgando mais números de contactantes por conta da privacidade das pessoas”, disse Paulo Menezes, coordenador do comitê de operações emergenciais (COE) do estado.  O secretário estadual de saúde destaca ainda que o segundo paciente confirmado foi cauteloso assim que percebeu os primeiros sintomas. “Ele foi muito cuidadoso colocou máscara antes do voo e foi pro hospital”, disse o secretário José Henrique Germann.  Participaram do evento também o coordenador do Centro de Contingenciamento de Emergências para o coronavírus do estado, o médico David Uip, o secretário estadual de saúde, José Henrique Germann, e Helena Sato, coordenadora do Centro de Vigilância Epidemiológica (CVE) estadual.  Segundo Uip, o laboratório Adolfo Lutz, onde os testes são realizados, irá \"qualificar outros laboratórios\" para realizar o exame.  \"De ontem pra hoje, nós descartamos 56 daqueles 163. Já tiveram seus exames negativos. E tivemos a inclusão de notificações de 23 novas pessoas. Então somamos 130 casos suspeitos. São todos viajantes. Os casos suspeitos que tínhamos de contactantes dos casos confirmados já foram descartados\", disse Menezes.  Segundo a metodologia da Secretaria Estadual de Saúde, para um caso ser considerado suspeito é necessário que o paciente tenha apresentado, além dos sintomas, histórico de viagem ou contato com caso suspeito.  No sábado (29), a Secretaria Estadual de Saúde e o Ministério da Saúde confirmaram o segundo caso de coronavírus no estado. Trata-se de um homem de 32 anos que reside em São Paulo e que chegou de Milão, na Itália, na quinta-feira (27).  Mesmo com a segunda confirmação, não há mudança da situação nacional, pois não existem evidências de circulação sustentada do vírus em território brasileiro.  A tendência é que, a partir dos próximos dias, o padrão de identificação dos casos suspeitos mude. Segundo Menezes, \"daqui a alguns dias nós vamos trabalhar por gravidade e não por procedência pra fazer a identificação dos casos suspeitos\".  \"Eu concordo com o ministério da Saúde: eu acho que estamos em um momento de pandemia há dias. Meu sentimento pessoal é de que estamos em um momento pandêmico\", salientou Uip.  A Organização Mundial de Saúde (OMS) é que define os critérios e se a doença é caracterizada ou não como pandemia.  O governo estadual lançou uma cartilha de orientação e prevenção do coronavírus em cinco idiomas - português, inglês, espanhol, italiano e chinês - na versão impressa e eletrônica. O estado irá liberar R$ 30 milhões em recursos para as ações de prevenção e informação.  Após a confirmação de um caso, o governo estadual anunciou a criação de um centro de contingência para monitorar casos de coronavírus no estado. A função do centro de contingência é coordenar ações contra a propagação do Covid-19. O grupo é presidido pelo infectologista David Uip e conta com profissionais do Instituto Butantan e médicos das redes pública e privada, sob a supervisão do Secretário de Estado da Saúde, José Henrique Germann.  Nesta quinta-feira (27), o governo federal anunciou que vai antecipar para 23 de março a Campanha Nacional de Vacinação contra a gripe – anteriormente, a abertura estava prevista para a segunda quinzena de abril.  A vacina contra a gripe não protege contra o novo coronavírus, mas, sim, contra tipos de influenza (família à qual pertence o H1N1, por exemplo). E justamente por isso pode ajudar profissionais de saúde a diagnosticar – por eliminação – eventuais casos de Covid-19.  Quem for viajar aos locais com circulação do vírus deve evitar contato com pessoas doentes, animais (vivos ou mortos), e a circulação em mercados de animais e seus produtos. '"
      ]
     },
     "execution_count": 90,
     "metadata": {},
     "output_type": "execute_result"
    }
   ],
   "source": [
    "texto_noticias[0]"
   ]
  },
  {
   "cell_type": "markdown",
   "metadata": {
    "id": "uZjMxCRYE_bp"
   },
   "source": [
    "<b> Atividade </b>\n",
    "\n",
    "12) Capture as entidades de cada uma das notícias utilizando o modelo ``pt_core_news_sm`` do spacy.\n",
    "\n",
    "<i> Dica: ents retorna as entidades de um texto </i>"
   ]
  },
  {
   "cell_type": "code",
   "execution_count": 9,
   "metadata": {
    "id": "Tp7vKyU_E_bq"
   },
   "outputs": [],
   "source": [
    "nlp = pt_core_news_sm.load()"
   ]
  },
  {
   "cell_type": "code",
   "execution_count": 14,
   "metadata": {},
   "outputs": [],
   "source": [
    "texto_noticias_nlp = {i:nlp(texto_noticias[i]) for i in noticias.keys()}"
   ]
  },
  {
   "cell_type": "code",
   "execution_count": 95,
   "metadata": {},
   "outputs": [],
   "source": [
    "entidades = {i:set(map(str,nlp(texto_noticias[i]).ents)) for i in noticias.keys()}"
   ]
  },
  {
   "cell_type": "code",
   "execution_count": 96,
   "metadata": {},
   "outputs": [
    {
     "data": {
      "text/plain": [
       "{'A Organização Mundial de Saúde',\n",
       " 'A Secretaria Estadual de Saúde de São Paulo',\n",
       " 'Adolfo Lutz',\n",
       " 'COE',\n",
       " 'CVE',\n",
       " 'Campanha Nacional de Vacinação',\n",
       " 'Centro de Contingenciamento de Emergências',\n",
       " 'Centro de Vigilância Epidemiológica',\n",
       " 'Covid-19',\n",
       " 'David Uip',\n",
       " 'H1N1',\n",
       " 'Helena Sato',\n",
       " 'Instituto Butantan',\n",
       " 'Itália',\n",
       " 'José Henrique Germann',\n",
       " 'Menezes',\n",
       " 'Milão',\n",
       " 'Ministério da Saúde',\n",
       " 'OMS',\n",
       " 'Paulo Menezes',\n",
       " 'Permanecem',\n",
       " 'Saúde',\n",
       " 'Secretaria Estadual de Saúde',\n",
       " 'Secretário de Estado da Saúde',\n",
       " 'São Paulo',\n",
       " 'Uip',\n",
       " 'estado de São Paulo'}"
      ]
     },
     "execution_count": 96,
     "metadata": {},
     "output_type": "execute_result"
    }
   ],
   "source": [
    "entidades[0]"
   ]
  },
  {
   "cell_type": "code",
   "execution_count": null,
   "metadata": {},
   "outputs": [],
   "source": []
  },
  {
   "cell_type": "markdown",
   "metadata": {
    "id": "nCwf0QiNE_bu"
   },
   "source": [
    "<b> Atividade </b>\n",
    "\n",
    "13) Quais são as 5 entidades que mais apareceram nas notíciais? Critique esse resultado, ele faz sentido?"
   ]
  },
  {
   "cell_type": "code",
   "execution_count": 17,
   "metadata": {
    "id": "cpR3mDURE_bw"
   },
   "outputs": [],
   "source": [
    "todas_entidades = []"
   ]
  },
  {
   "cell_type": "code",
   "execution_count": 19,
   "metadata": {},
   "outputs": [],
   "source": [
    "for k in entidades.keys():\n",
    "    todas_entidades.extend(entidades[k])"
   ]
  },
  {
   "cell_type": "code",
   "execution_count": 22,
   "metadata": {},
   "outputs": [
    {
     "data": {
      "text/plain": [
       "{'Centro de Contingência': 10,\n",
       " 'Covid-19': 10,\n",
       " 'PSDB': 10,\n",
       " 'OMS': 10,\n",
       " 'Hospital Albert Einstein': 10,\n",
       " 'Áustria': 10,\n",
       " 'de São Paulo': 10,\n",
       " 'H1N1': 10,\n",
       " 'Campanha Nacional de Vacinação': 10,\n",
       " 'Instituto Adolfo Lutz': 10,\n",
       " 'Brasil': 10,\n",
       " 'João Doria': 10,\n",
       " 'Itália': 10,\n",
       " 'O Ministério da Saúde': 10,\n",
       " 'A Organização Mundial de Saúde': 10,\n",
       " 'Europa': 10,\n",
       " 'Milão': 10,\n",
       " 'Ministério da Saúde': 10,\n",
       " 'Einstein': 10,\n",
       " 'Centro de Contingência de São Paulo': 10,\n",
       " 'Colômbia': 10,\n",
       " 'Menezes': 10,\n",
       " 'David Uip': 10,\n",
       " 'Turim': 10,\n",
       " 'Zona Sul de São Paulo': 10,\n",
       " 'Saúde': 10,\n",
       " 'Espanha': 10,\n",
       " 'G1': 10,\n",
       " 'Paulo Menezes': 10,\n",
       " 'São Paulo': 10,\n",
       " 'A tendência': 10,\n",
       " 'estado de São Paulo': 10,\n",
       " 'Adolfo Lutz': 10,\n",
       " 'Portugal': 10,\n",
       " 'Secretaria Estadual de Saúde': 10,\n",
       " 'COE': 10,\n",
       " 'Secretaria de Saúde do Estado de São Paulo': 10,\n",
       " 'Uip': 10,\n",
       " 'Alemanha': 10,\n",
       " 'Hospital Beneficência Portuguesa': 10}"
      ]
     },
     "execution_count": 22,
     "metadata": {},
     "output_type": "execute_result"
    }
   ],
   "source": [
    "dict(Counter(todas_entidades))"
   ]
  },
  {
   "cell_type": "markdown",
   "metadata": {},
   "source": [
    "O resultado faz sentido, pois as noticias são relacionas ao início da pandemia de COVID. São Paulo e Itália são muito citados nos textos."
   ]
  },
  {
   "cell_type": "markdown",
   "metadata": {
    "id": "4BAsLzS0E_b2"
   },
   "source": [
    "<b> Atividade </b>\n",
    "\n",
    "14) Para a notítica 0, imprima quais foram os tipos das entidades encontradas e plote um gráfico com esses dados.\n",
    "Faça uma análise desse resultado\n",
    "\n",
    "<i> Dica: label_ retorna o nome da entidade </i>"
   ]
  },
  {
   "cell_type": "code",
   "execution_count": 23,
   "metadata": {
    "id": "qGQ1Zx-DE_b3"
   },
   "outputs": [
    {
     "data": {
      "text/plain": [
       "'MISC'"
      ]
     },
     "execution_count": 23,
     "metadata": {},
     "output_type": "execute_result"
    }
   ],
   "source": [
    "texto_noticias_nlp[0].ents[0].label_"
   ]
  },
  {
   "cell_type": "code",
   "execution_count": 25,
   "metadata": {},
   "outputs": [],
   "source": [
    "labels = [entidade.label_ for entidade in texto_noticias_nlp[0].ents]"
   ]
  },
  {
   "cell_type": "code",
   "execution_count": 29,
   "metadata": {},
   "outputs": [],
   "source": [
    "labels = Counter(labels)"
   ]
  },
  {
   "cell_type": "code",
   "execution_count": 30,
   "metadata": {},
   "outputs": [
    {
     "data": {
      "text/plain": [
       "<BarContainer object of 4 artists>"
      ]
     },
     "execution_count": 30,
     "metadata": {},
     "output_type": "execute_result"
    },
    {
     "data": {
      "image/png": "[encoded data removed]",
      "text/plain": [
       "<Figure size 432x288 with 1 Axes>"
      ]
     },
     "metadata": {
      "needs_background": "light"
     },
     "output_type": "display_data"
    }
   ],
   "source": [
    "plt.bar(labels.keys(), labels.values())"
   ]
  },
  {
   "cell_type": "markdown",
   "metadata": {
    "id": "R-BVhj_3E_b8"
   },
   "source": [
    "<b> Atividade </b>\n",
    "\n",
    "15) Plote um gráfico com esses dados com todos os tipos das entidades de todas as notícias. Compare este resultado com o resultado da notícia 0."
   ]
  },
  {
   "cell_type": "code",
   "execution_count": 73,
   "metadata": {
    "id": "hI9qnPOOE_b8"
   },
   "outputs": [],
   "source": [
    "labels = []"
   ]
  },
  {
   "cell_type": "code",
   "execution_count": 74,
   "metadata": {},
   "outputs": [],
   "source": [
    "for i in range(len(texto_noticias_nlp)):\n",
    "    temp = [entidade.label_ for entidade in texto_noticias_nlp[i].ents]\n",
    "    labels.append(temp)"
   ]
  },
  {
   "cell_type": "code",
   "execution_count": 75,
   "metadata": {},
   "outputs": [],
   "source": [
    "dict_counter = [dict(Counter(label)) for label in labels]"
   ]
  },
  {
   "cell_type": "code",
   "execution_count": 76,
   "metadata": {},
   "outputs": [
    {
     "data": {
      "text/plain": [
       "[{'MISC': 9, 'LOC': 12, 'PER': 11, 'ORG': 6},\n",
       " {'MISC': 11, 'LOC': 32, 'ORG': 6, 'PER': 7},\n",
       " {'LOC': 9, 'PER': 1},\n",
       " {'LOC': 11, 'MISC': 11, 'PER': 5, 'ORG': 4},\n",
       " {'PER': 21, 'ORG': 3, 'MISC': 11, 'LOC': 9},\n",
       " {'PER': 2, 'ORG': 1, 'LOC': 8},\n",
       " {'MISC': 11, 'LOC': 13, 'PER': 5, 'ORG': 3},\n",
       " {'PER': 7, 'ORG': 3, 'LOC': 13, 'MISC': 3},\n",
       " {'LOC': 50, 'ORG': 4, 'MISC': 4, 'PER': 1},\n",
       " {'MISC': 11, 'LOC': 32, 'ORG': 6, 'PER': 7}]"
      ]
     },
     "execution_count": 76,
     "metadata": {},
     "output_type": "execute_result"
    }
   ],
   "source": [
    "dict_counter"
   ]
  },
  {
   "cell_type": "code",
   "execution_count": 77,
   "metadata": {},
   "outputs": [],
   "source": [
    "dict_all = {}"
   ]
  },
  {
   "cell_type": "code",
   "execution_count": 78,
   "metadata": {},
   "outputs": [],
   "source": [
    "for dictionary in dict_counter:\n",
    "    for k in dictionary.keys():\n",
    "        if k not in dict_all:\n",
    "            dict_all[k] = dictionary[k]\n",
    "        else:\n",
    "            dict_all[k] += dictionary[k]"
   ]
  },
  {
   "cell_type": "code",
   "execution_count": 79,
   "metadata": {},
   "outputs": [
    {
     "data": {
      "text/plain": [
       "{'MISC': 71, 'LOC': 189, 'PER': 67, 'ORG': 36}"
      ]
     },
     "execution_count": 79,
     "metadata": {},
     "output_type": "execute_result"
    }
   ],
   "source": [
    "dict_all"
   ]
  },
  {
   "cell_type": "code",
   "execution_count": 80,
   "metadata": {},
   "outputs": [
    {
     "data": {
      "text/plain": [
       "<BarContainer object of 4 artists>"
      ]
     },
     "execution_count": 80,
     "metadata": {},
     "output_type": "execute_result"
    },
    {
     "data": {
      "image/png": "[encoded data removed]",
      "text/plain": [
       "<Figure size 432x288 with 1 Axes>"
      ]
     },
     "metadata": {
      "needs_background": "light"
     },
     "output_type": "display_data"
    }
   ],
   "source": [
    "plt.bar(dict_all.keys(), dict_all.values())"
   ]
  },
  {
   "cell_type": "markdown",
   "metadata": {},
   "source": [
    "As tags de localidade são predominantes nos textos. Possivelmente por conter várias referências à lugares São Paulo, locais físicos como centros de saúde e Itália."
   ]
  },
  {
   "cell_type": "markdown",
   "metadata": {
    "id": "xmReLMKJE_cF"
   },
   "source": [
    "<b> Atividade </b>\n",
    "\n",
    "16) Imprima a notícia 0, colorindo as entidades encontradas, para isto utilize o método abaixo:\n",
    "\n",
    "```python\n",
    "displacy.render(doc, jupyter=True, style='ent')\n",
    "```\n",
    "\n",
    "<i> Dica: entidades que existem no spacy https://spacy.io/api/annotation#section-named-entities \n",
    "\n",
    "Caso tenha dúvida sobre alguma marcalçao use:</i>\n",
    "\n",
    "```python\n",
    "spacy.explain(\"MISC\")\n",
    "```"
   ]
  },
  {
   "cell_type": "code",
   "execution_count": 81,
   "metadata": {
    "id": "9CgPMNVWE_cG"
   },
   "outputs": [
    {
     "data": {
      "text/html": [
       "<span class=\"tex2jax_ignore\"><div class=\"entities\" style=\"line-height: 2.5; direction: ltr\"> \n",
       "<mark class=\"entity\" style=\"background: #ddd; padding: 0.45em 0.6em; margin: 0 0.25em; line-height: 1; border-radius: 0.35em;\">\n",
       "    A Secretaria Estadual de Saúde de São Paulo\n",
       "    <span style=\"font-size: 0.8em; font-weight: bold; line-height: 1; border-radius: 0.35em; text-transform: uppercase; vertical-align: middle; margin-left: 0.5rem\">MISC</span>\n",
       "</mark>\n",
       " divulgou nesta terça-feira (3) que caiu o número de pacientes com suspeita de coronavírus no estado. Enquanto na segunda-feira (2) eram 163 casos suspeitos, nesta terça são 130.  Foram descartados, ao todo, 104 casos no estado, destes, 56 foram nas últimas 24 horas. Entretanto, segundo informou a pasta, entre segunda (2) e terça (3), 23 novos surgiram.  \n",
       "<mark class=\"entity\" style=\"background: #ddd; padding: 0.45em 0.6em; margin: 0 0.25em; line-height: 1; border-radius: 0.35em;\">\n",
       "    Permanecem\n",
       "    <span style=\"font-size: 0.8em; font-weight: bold; line-height: 1; border-radius: 0.35em; text-transform: uppercase; vertical-align: middle; margin-left: 0.5rem\">MISC</span>\n",
       "</mark>\n",
       " confirmados apenas 2 casos da doença no país, ambos no \n",
       "<mark class=\"entity\" style=\"background: #ff9561; padding: 0.45em 0.6em; margin: 0 0.25em; line-height: 1; border-radius: 0.35em;\">\n",
       "    estado de São Paulo\n",
       "    <span style=\"font-size: 0.8em; font-weight: bold; line-height: 1; border-radius: 0.35em; text-transform: uppercase; vertical-align: middle; margin-left: 0.5rem\">LOC</span>\n",
       "</mark>\n",
       ". Os pacientes estão em quarentena domiciliar. Ambos estiveram em viagem na \n",
       "<mark class=\"entity\" style=\"background: #ff9561; padding: 0.45em 0.6em; margin: 0 0.25em; line-height: 1; border-radius: 0.35em;\">\n",
       "    Itália\n",
       "    <span style=\"font-size: 0.8em; font-weight: bold; line-height: 1; border-radius: 0.35em; text-transform: uppercase; vertical-align: middle; margin-left: 0.5rem\">LOC</span>\n",
       "</mark>\n",
       ".  &quot;Os dois confirmados estão evoluindo bem clinicamente, mas ainda têm alguns sintomas que fazem com que eles continuem em isolamento domiciliar&quot;, salientou \n",
       "<mark class=\"entity\" style=\"background: #ddd; padding: 0.45em 0.6em; margin: 0 0.25em; line-height: 1; border-radius: 0.35em;\">\n",
       "    Paulo Menezes\n",
       "    <span style=\"font-size: 0.8em; font-weight: bold; line-height: 1; border-radius: 0.35em; text-transform: uppercase; vertical-align: middle; margin-left: 0.5rem\">PER</span>\n",
       "</mark>\n",
       ", coordenador do comitê de operações emergenciais (\n",
       "<mark class=\"entity\" style=\"background: #7aecec; padding: 0.45em 0.6em; margin: 0 0.25em; line-height: 1; border-radius: 0.35em;\">\n",
       "    COE\n",
       "    <span style=\"font-size: 0.8em; font-weight: bold; line-height: 1; border-radius: 0.35em; text-transform: uppercase; vertical-align: middle; margin-left: 0.5rem\">ORG</span>\n",
       "</mark>\n",
       ") da \n",
       "<mark class=\"entity\" style=\"background: #ddd; padding: 0.45em 0.6em; margin: 0 0.25em; line-height: 1; border-radius: 0.35em;\">\n",
       "    Secretaria Estadual de Saúde\n",
       "    <span style=\"font-size: 0.8em; font-weight: bold; line-height: 1; border-radius: 0.35em; text-transform: uppercase; vertical-align: middle; margin-left: 0.5rem\">MISC</span>\n",
       "</mark>\n",
       ".  O número de pessoas que tiveram contato com o segundo caso confirmado não foi divulgado pela secretaria. No primeiro caso confirmado, eram 34 pessoas, entre passageiros do voo e familiares do paciente.  “Existem contactantes [do segundo caso], eles estão sendo monitorados, mas a gente não está divulgando mais números de contactantes por conta da privacidade das pessoas”, disse \n",
       "<mark class=\"entity\" style=\"background: #ddd; padding: 0.45em 0.6em; margin: 0 0.25em; line-height: 1; border-radius: 0.35em;\">\n",
       "    Paulo Menezes\n",
       "    <span style=\"font-size: 0.8em; font-weight: bold; line-height: 1; border-radius: 0.35em; text-transform: uppercase; vertical-align: middle; margin-left: 0.5rem\">PER</span>\n",
       "</mark>\n",
       ", coordenador do comitê de operações emergenciais (\n",
       "<mark class=\"entity\" style=\"background: #7aecec; padding: 0.45em 0.6em; margin: 0 0.25em; line-height: 1; border-radius: 0.35em;\">\n",
       "    COE\n",
       "    <span style=\"font-size: 0.8em; font-weight: bold; line-height: 1; border-radius: 0.35em; text-transform: uppercase; vertical-align: middle; margin-left: 0.5rem\">ORG</span>\n",
       "</mark>\n",
       ") do estado.  O secretário estadual de saúde destaca ainda que o segundo paciente confirmado foi cauteloso assim que percebeu os primeiros sintomas. “Ele foi muito cuidadoso colocou máscara antes do voo e foi pro hospital”, disse o secretário \n",
       "<mark class=\"entity\" style=\"background: #ddd; padding: 0.45em 0.6em; margin: 0 0.25em; line-height: 1; border-radius: 0.35em;\">\n",
       "    José Henrique Germann\n",
       "    <span style=\"font-size: 0.8em; font-weight: bold; line-height: 1; border-radius: 0.35em; text-transform: uppercase; vertical-align: middle; margin-left: 0.5rem\">PER</span>\n",
       "</mark>\n",
       ".  Participaram do evento também o coordenador do \n",
       "<mark class=\"entity\" style=\"background: #ff9561; padding: 0.45em 0.6em; margin: 0 0.25em; line-height: 1; border-radius: 0.35em;\">\n",
       "    Centro de Contingenciamento de Emergências\n",
       "    <span style=\"font-size: 0.8em; font-weight: bold; line-height: 1; border-radius: 0.35em; text-transform: uppercase; vertical-align: middle; margin-left: 0.5rem\">LOC</span>\n",
       "</mark>\n",
       " para o coronavírus do estado, o médico \n",
       "<mark class=\"entity\" style=\"background: #ddd; padding: 0.45em 0.6em; margin: 0 0.25em; line-height: 1; border-radius: 0.35em;\">\n",
       "    David Uip\n",
       "    <span style=\"font-size: 0.8em; font-weight: bold; line-height: 1; border-radius: 0.35em; text-transform: uppercase; vertical-align: middle; margin-left: 0.5rem\">PER</span>\n",
       "</mark>\n",
       ", o secretário estadual de saúde, \n",
       "<mark class=\"entity\" style=\"background: #ddd; padding: 0.45em 0.6em; margin: 0 0.25em; line-height: 1; border-radius: 0.35em;\">\n",
       "    José Henrique Germann\n",
       "    <span style=\"font-size: 0.8em; font-weight: bold; line-height: 1; border-radius: 0.35em; text-transform: uppercase; vertical-align: middle; margin-left: 0.5rem\">PER</span>\n",
       "</mark>\n",
       ", e \n",
       "<mark class=\"entity\" style=\"background: #ddd; padding: 0.45em 0.6em; margin: 0 0.25em; line-height: 1; border-radius: 0.35em;\">\n",
       "    Helena Sato\n",
       "    <span style=\"font-size: 0.8em; font-weight: bold; line-height: 1; border-radius: 0.35em; text-transform: uppercase; vertical-align: middle; margin-left: 0.5rem\">PER</span>\n",
       "</mark>\n",
       ", coordenadora do \n",
       "<mark class=\"entity\" style=\"background: #7aecec; padding: 0.45em 0.6em; margin: 0 0.25em; line-height: 1; border-radius: 0.35em;\">\n",
       "    Centro de Vigilância Epidemiológica\n",
       "    <span style=\"font-size: 0.8em; font-weight: bold; line-height: 1; border-radius: 0.35em; text-transform: uppercase; vertical-align: middle; margin-left: 0.5rem\">ORG</span>\n",
       "</mark>\n",
       " (\n",
       "<mark class=\"entity\" style=\"background: #7aecec; padding: 0.45em 0.6em; margin: 0 0.25em; line-height: 1; border-radius: 0.35em;\">\n",
       "    CVE\n",
       "    <span style=\"font-size: 0.8em; font-weight: bold; line-height: 1; border-radius: 0.35em; text-transform: uppercase; vertical-align: middle; margin-left: 0.5rem\">ORG</span>\n",
       "</mark>\n",
       ") estadual.  Segundo \n",
       "<mark class=\"entity\" style=\"background: #ff9561; padding: 0.45em 0.6em; margin: 0 0.25em; line-height: 1; border-radius: 0.35em;\">\n",
       "    Uip\n",
       "    <span style=\"font-size: 0.8em; font-weight: bold; line-height: 1; border-radius: 0.35em; text-transform: uppercase; vertical-align: middle; margin-left: 0.5rem\">LOC</span>\n",
       "</mark>\n",
       ", o laboratório \n",
       "<mark class=\"entity\" style=\"background: #ddd; padding: 0.45em 0.6em; margin: 0 0.25em; line-height: 1; border-radius: 0.35em;\">\n",
       "    Adolfo Lutz\n",
       "    <span style=\"font-size: 0.8em; font-weight: bold; line-height: 1; border-radius: 0.35em; text-transform: uppercase; vertical-align: middle; margin-left: 0.5rem\">PER</span>\n",
       "</mark>\n",
       ", onde os testes são realizados, irá &quot;qualificar outros laboratórios&quot; para realizar o exame.  &quot;De ontem pra hoje, nós descartamos 56 daqueles 163. Já tiveram seus exames negativos. E tivemos a inclusão de notificações de 23 novas pessoas. Então somamos 130 casos suspeitos. São todos viajantes. Os casos suspeitos que tínhamos de contactantes dos casos confirmados já foram descartados&quot;, disse \n",
       "<mark class=\"entity\" style=\"background: #ddd; padding: 0.45em 0.6em; margin: 0 0.25em; line-height: 1; border-radius: 0.35em;\">\n",
       "    Menezes\n",
       "    <span style=\"font-size: 0.8em; font-weight: bold; line-height: 1; border-radius: 0.35em; text-transform: uppercase; vertical-align: middle; margin-left: 0.5rem\">PER</span>\n",
       "</mark>\n",
       ".  Segundo a metodologia da \n",
       "<mark class=\"entity\" style=\"background: #ddd; padding: 0.45em 0.6em; margin: 0 0.25em; line-height: 1; border-radius: 0.35em;\">\n",
       "    Secretaria Estadual de Saúde\n",
       "    <span style=\"font-size: 0.8em; font-weight: bold; line-height: 1; border-radius: 0.35em; text-transform: uppercase; vertical-align: middle; margin-left: 0.5rem\">MISC</span>\n",
       "</mark>\n",
       ", para um caso ser considerado suspeito é necessário que o paciente tenha apresentado, além dos sintomas, histórico de viagem ou contato com caso suspeito.  No sábado (29), a \n",
       "<mark class=\"entity\" style=\"background: #ddd; padding: 0.45em 0.6em; margin: 0 0.25em; line-height: 1; border-radius: 0.35em;\">\n",
       "    Secretaria Estadual de Saúde\n",
       "    <span style=\"font-size: 0.8em; font-weight: bold; line-height: 1; border-radius: 0.35em; text-transform: uppercase; vertical-align: middle; margin-left: 0.5rem\">MISC</span>\n",
       "</mark>\n",
       " e o \n",
       "<mark class=\"entity\" style=\"background: #ff9561; padding: 0.45em 0.6em; margin: 0 0.25em; line-height: 1; border-radius: 0.35em;\">\n",
       "    Ministério da Saúde\n",
       "    <span style=\"font-size: 0.8em; font-weight: bold; line-height: 1; border-radius: 0.35em; text-transform: uppercase; vertical-align: middle; margin-left: 0.5rem\">LOC</span>\n",
       "</mark>\n",
       " confirmaram o segundo caso de coronavírus no estado. Trata-se de um homem de 32 anos que reside em \n",
       "<mark class=\"entity\" style=\"background: #ff9561; padding: 0.45em 0.6em; margin: 0 0.25em; line-height: 1; border-radius: 0.35em;\">\n",
       "    São Paulo\n",
       "    <span style=\"font-size: 0.8em; font-weight: bold; line-height: 1; border-radius: 0.35em; text-transform: uppercase; vertical-align: middle; margin-left: 0.5rem\">LOC</span>\n",
       "</mark>\n",
       " e que chegou de \n",
       "<mark class=\"entity\" style=\"background: #ff9561; padding: 0.45em 0.6em; margin: 0 0.25em; line-height: 1; border-radius: 0.35em;\">\n",
       "    Milão\n",
       "    <span style=\"font-size: 0.8em; font-weight: bold; line-height: 1; border-radius: 0.35em; text-transform: uppercase; vertical-align: middle; margin-left: 0.5rem\">LOC</span>\n",
       "</mark>\n",
       ", na \n",
       "<mark class=\"entity\" style=\"background: #ff9561; padding: 0.45em 0.6em; margin: 0 0.25em; line-height: 1; border-radius: 0.35em;\">\n",
       "    Itália\n",
       "    <span style=\"font-size: 0.8em; font-weight: bold; line-height: 1; border-radius: 0.35em; text-transform: uppercase; vertical-align: middle; margin-left: 0.5rem\">LOC</span>\n",
       "</mark>\n",
       ", na quinta-feira (27).  Mesmo com a segunda confirmação, não há mudança da situação nacional, pois não existem evidências de circulação sustentada do vírus em território brasileiro.  A tendência é que, a partir dos próximos dias, o padrão de identificação dos casos suspeitos mude. Segundo \n",
       "<mark class=\"entity\" style=\"background: #ddd; padding: 0.45em 0.6em; margin: 0 0.25em; line-height: 1; border-radius: 0.35em;\">\n",
       "    Menezes\n",
       "    <span style=\"font-size: 0.8em; font-weight: bold; line-height: 1; border-radius: 0.35em; text-transform: uppercase; vertical-align: middle; margin-left: 0.5rem\">PER</span>\n",
       "</mark>\n",
       ", &quot;daqui a alguns dias nós vamos trabalhar por gravidade e não por procedência pra fazer a identificação dos casos suspeitos&quot;.  &quot;Eu concordo com o ministério da \n",
       "<mark class=\"entity\" style=\"background: #ff9561; padding: 0.45em 0.6em; margin: 0 0.25em; line-height: 1; border-radius: 0.35em;\">\n",
       "    Saúde\n",
       "    <span style=\"font-size: 0.8em; font-weight: bold; line-height: 1; border-radius: 0.35em; text-transform: uppercase; vertical-align: middle; margin-left: 0.5rem\">LOC</span>\n",
       "</mark>\n",
       ": eu acho que estamos em um momento de pandemia há dias. Meu sentimento pessoal é de que estamos em um momento pandêmico&quot;, salientou \n",
       "<mark class=\"entity\" style=\"background: #ff9561; padding: 0.45em 0.6em; margin: 0 0.25em; line-height: 1; border-radius: 0.35em;\">\n",
       "    Uip\n",
       "    <span style=\"font-size: 0.8em; font-weight: bold; line-height: 1; border-radius: 0.35em; text-transform: uppercase; vertical-align: middle; margin-left: 0.5rem\">LOC</span>\n",
       "</mark>\n",
       ".  \n",
       "<mark class=\"entity\" style=\"background: #ddd; padding: 0.45em 0.6em; margin: 0 0.25em; line-height: 1; border-radius: 0.35em;\">\n",
       "    A Organização Mundial de Saúde\n",
       "    <span style=\"font-size: 0.8em; font-weight: bold; line-height: 1; border-radius: 0.35em; text-transform: uppercase; vertical-align: middle; margin-left: 0.5rem\">MISC</span>\n",
       "</mark>\n",
       " (\n",
       "<mark class=\"entity\" style=\"background: #7aecec; padding: 0.45em 0.6em; margin: 0 0.25em; line-height: 1; border-radius: 0.35em;\">\n",
       "    OMS\n",
       "    <span style=\"font-size: 0.8em; font-weight: bold; line-height: 1; border-radius: 0.35em; text-transform: uppercase; vertical-align: middle; margin-left: 0.5rem\">ORG</span>\n",
       "</mark>\n",
       ") é que define os critérios e se a doença é caracterizada ou não como pandemia.  O governo estadual lançou uma cartilha de orientação e prevenção do coronavírus em cinco idiomas - português, inglês, espanhol, italiano e chinês - na versão impressa e eletrônica. O estado irá liberar R$ 30 milhões em recursos para as ações de prevenção e informação.  Após a confirmação de um caso, o governo estadual anunciou a criação de um centro de contingência para monitorar casos de coronavírus no estado. A função do centro de contingência é coordenar ações contra a propagação do \n",
       "<mark class=\"entity\" style=\"background: #ddd; padding: 0.45em 0.6em; margin: 0 0.25em; line-height: 1; border-radius: 0.35em;\">\n",
       "    Covid-19\n",
       "    <span style=\"font-size: 0.8em; font-weight: bold; line-height: 1; border-radius: 0.35em; text-transform: uppercase; vertical-align: middle; margin-left: 0.5rem\">MISC</span>\n",
       "</mark>\n",
       ". O grupo é presidido pelo infectologista \n",
       "<mark class=\"entity\" style=\"background: #ddd; padding: 0.45em 0.6em; margin: 0 0.25em; line-height: 1; border-radius: 0.35em;\">\n",
       "    David Uip\n",
       "    <span style=\"font-size: 0.8em; font-weight: bold; line-height: 1; border-radius: 0.35em; text-transform: uppercase; vertical-align: middle; margin-left: 0.5rem\">PER</span>\n",
       "</mark>\n",
       " e conta com profissionais do \n",
       "<mark class=\"entity\" style=\"background: #ff9561; padding: 0.45em 0.6em; margin: 0 0.25em; line-height: 1; border-radius: 0.35em;\">\n",
       "    Instituto Butantan\n",
       "    <span style=\"font-size: 0.8em; font-weight: bold; line-height: 1; border-radius: 0.35em; text-transform: uppercase; vertical-align: middle; margin-left: 0.5rem\">LOC</span>\n",
       "</mark>\n",
       " e médicos das redes pública e privada, sob a supervisão do \n",
       "<mark class=\"entity\" style=\"background: #7aecec; padding: 0.45em 0.6em; margin: 0 0.25em; line-height: 1; border-radius: 0.35em;\">\n",
       "    Secretário de Estado da Saúde\n",
       "    <span style=\"font-size: 0.8em; font-weight: bold; line-height: 1; border-radius: 0.35em; text-transform: uppercase; vertical-align: middle; margin-left: 0.5rem\">ORG</span>\n",
       "</mark>\n",
       ", \n",
       "<mark class=\"entity\" style=\"background: #ddd; padding: 0.45em 0.6em; margin: 0 0.25em; line-height: 1; border-radius: 0.35em;\">\n",
       "    José Henrique Germann\n",
       "    <span style=\"font-size: 0.8em; font-weight: bold; line-height: 1; border-radius: 0.35em; text-transform: uppercase; vertical-align: middle; margin-left: 0.5rem\">PER</span>\n",
       "</mark>\n",
       ".  Nesta quinta-feira (27), o governo federal anunciou que vai antecipar para 23 de março a \n",
       "<mark class=\"entity\" style=\"background: #ff9561; padding: 0.45em 0.6em; margin: 0 0.25em; line-height: 1; border-radius: 0.35em;\">\n",
       "    Campanha Nacional de Vacinação\n",
       "    <span style=\"font-size: 0.8em; font-weight: bold; line-height: 1; border-radius: 0.35em; text-transform: uppercase; vertical-align: middle; margin-left: 0.5rem\">LOC</span>\n",
       "</mark>\n",
       " contra a gripe – anteriormente, a abertura estava prevista para a segunda quinzena de abril.  A vacina contra a gripe não protege contra o novo coronavírus, mas, sim, contra tipos de influenza (família à qual pertence o \n",
       "<mark class=\"entity\" style=\"background: #ddd; padding: 0.45em 0.6em; margin: 0 0.25em; line-height: 1; border-radius: 0.35em;\">\n",
       "    H1N1\n",
       "    <span style=\"font-size: 0.8em; font-weight: bold; line-height: 1; border-radius: 0.35em; text-transform: uppercase; vertical-align: middle; margin-left: 0.5rem\">MISC</span>\n",
       "</mark>\n",
       ", por exemplo). E justamente por isso pode ajudar profissionais de saúde a diagnosticar – por eliminação – eventuais casos de \n",
       "<mark class=\"entity\" style=\"background: #ddd; padding: 0.45em 0.6em; margin: 0 0.25em; line-height: 1; border-radius: 0.35em;\">\n",
       "    Covid-19\n",
       "    <span style=\"font-size: 0.8em; font-weight: bold; line-height: 1; border-radius: 0.35em; text-transform: uppercase; vertical-align: middle; margin-left: 0.5rem\">MISC</span>\n",
       "</mark>\n",
       ".  Quem for viajar aos locais com circulação do vírus deve evitar contato com pessoas doentes, animais (vivos ou mortos), e a circulação em mercados de animais e seus produtos. </div></span>"
      ],
      "text/plain": [
       "<IPython.core.display.HTML object>"
      ]
     },
     "metadata": {},
     "output_type": "display_data"
    }
   ],
   "source": [
    "displacy.render(texto_noticias_nlp[0], jupyter=True, style='ent')"
   ]
  },
  {
   "cell_type": "code",
   "execution_count": null,
   "metadata": {
    "id": "tz8dJ8EBE_cJ"
   },
   "outputs": [],
   "source": []
  },
  {
   "cell_type": "markdown",
   "metadata": {
    "id": "TWevegwzE_cL"
   },
   "source": [
    "<b> Atividade </b>\n",
    "\n",
    "17) Seja o documento 0 sua referência. Calcule a similaridade das entidades do documento 0 com todos outros 9. Para calcular a similaridade utilize o método jacard (implementado na aula 3). "
   ]
  },
  {
   "cell_type": "code",
   "execution_count": 82,
   "metadata": {
    "id": "ZdcJPSpLE_cM"
   },
   "outputs": [],
   "source": [
    "def jaccard_similarity(f1, f2):\n",
    "    f1 = set(f1)\n",
    "    f2 = set(f2)\n",
    "    \n",
    "    intersecao = f1.intersection(f2)\n",
    "    uniao = f1.union(f2)\n",
    "    \n",
    "    return len(intersecao) / len(uniao)"
   ]
  },
  {
   "cell_type": "code",
   "execution_count": 86,
   "metadata": {},
   "outputs": [
    {
     "data": {
      "text/plain": [
       "{'A Organização Mundial de Saúde',\n",
       " 'A tendência',\n",
       " 'Adolfo Lutz',\n",
       " 'Alemanha',\n",
       " 'Brasil',\n",
       " 'COE',\n",
       " 'Campanha Nacional de Vacinação',\n",
       " 'Centro de Contingência',\n",
       " 'Centro de Contingência de São Paulo',\n",
       " 'Colômbia',\n",
       " 'Covid-19',\n",
       " 'David Uip',\n",
       " 'Einstein',\n",
       " 'Espanha',\n",
       " 'Europa',\n",
       " 'G1',\n",
       " 'H1N1',\n",
       " 'Hospital Albert Einstein',\n",
       " 'Hospital Beneficência Portuguesa',\n",
       " 'Instituto Adolfo Lutz',\n",
       " 'Itália',\n",
       " 'João Doria',\n",
       " 'Menezes',\n",
       " 'Milão',\n",
       " 'Ministério da Saúde',\n",
       " 'O Ministério da Saúde',\n",
       " 'OMS',\n",
       " 'PSDB',\n",
       " 'Paulo Menezes',\n",
       " 'Portugal',\n",
       " 'Saúde',\n",
       " 'Secretaria Estadual de Saúde',\n",
       " 'Secretaria de Saúde do Estado de São Paulo',\n",
       " 'São Paulo',\n",
       " 'Turim',\n",
       " 'Uip',\n",
       " 'Zona Sul de São Paulo',\n",
       " 'de São Paulo',\n",
       " 'estado de São Paulo',\n",
       " 'Áustria'}"
      ]
     },
     "execution_count": 86,
     "metadata": {},
     "output_type": "execute_result"
    }
   ],
   "source": [
    "entidades[1]"
   ]
  },
  {
   "cell_type": "code",
   "execution_count": 98,
   "metadata": {},
   "outputs": [
    {
     "name": "stdout",
     "output_type": "stream",
     "text": [
      "1.0\n",
      "0.3673469387755102\n",
      "0.03125\n",
      "0.0\n",
      "0.0\n",
      "0.0\n",
      "0.0\n",
      "0.0\n",
      "0.016666666666666666\n",
      "0.3673469387755102\n"
     ]
    }
   ],
   "source": [
    "for i in range(0,10):\n",
    "    print(jaccard_similarity(entidades[0], entidades[i]))"
   ]
  },
  {
   "cell_type": "markdown",
   "metadata": {
    "id": "k_ETxdiVE_cU"
   },
   "source": [
    "<b> Atividade </b>\n",
    "\n",
    "18) Com os cálculos da questão anterior, responda: quais foram os três documentos com maior similaridade? Eles posssuem conteúdos semelhantes? E qual o documento com menor similaridade? Este documento faz sentido?"
   ]
  },
  {
   "cell_type": "code",
   "execution_count": null,
   "metadata": {
    "id": "7p6e8A2SE_cV"
   },
   "outputs": [],
   "source": []
  },
  {
   "cell_type": "code",
   "execution_count": null,
   "metadata": {
    "id": "RnH5mhhXE_ce"
   },
   "outputs": [],
   "source": []
  },
  {
   "cell_type": "markdown",
   "metadata": {
    "id": "At6CyFbSE_ch"
   },
   "source": [
    "## Retreino NER\n",
    "\n",
    "Aqui nós iremos ilustrar como treinar um modelo NER no spacy"
   ]
  },
  {
   "cell_type": "code",
   "execution_count": 99,
   "metadata": {
    "id": "FFl2EfdmE_ch"
   },
   "outputs": [],
   "source": [
    "nlp = spacy.load(\"pt_core_news_sm\")"
   ]
  },
  {
   "cell_type": "code",
   "execution_count": 100,
   "metadata": {
    "id": "rKWG44ZHE_cl"
   },
   "outputs": [],
   "source": [
    "texto = \"João nasceu em Paris em 01/01/2000\""
   ]
  },
  {
   "cell_type": "code",
   "execution_count": 101,
   "metadata": {
    "id": "fyqBbBK2E_cn"
   },
   "outputs": [],
   "source": [
    "texto_nlp = nlp(texto)"
   ]
  },
  {
   "cell_type": "code",
   "execution_count": null,
   "metadata": {
    "id": "J86O5tC2E_cq",
    "outputId": "714d32a6-f53d-46df-a93f-5bd8c040529f"
   },
   "outputs": [
    {
     "data": {
      "text/html": [
       "<div class=\"entities\" style=\"line-height: 2.5; direction: ltr\">\n",
       "<mark class=\"entity\" style=\"background: #ddd; padding: 0.45em 0.6em; margin: 0 0.25em; line-height: 1; border-radius: 0.35em;\">\n",
       "    João\n",
       "    <span style=\"font-size: 0.8em; font-weight: bold; line-height: 1; border-radius: 0.35em; text-transform: uppercase; vertical-align: middle; margin-left: 0.5rem\">PER</span>\n",
       "</mark>\n",
       " nasceu no \n",
       "<mark class=\"entity\" style=\"background: #ff9561; padding: 0.45em 0.6em; margin: 0 0.25em; line-height: 1; border-radius: 0.35em;\">\n",
       "    Paris\n",
       "    <span style=\"font-size: 0.8em; font-weight: bold; line-height: 1; border-radius: 0.35em; text-transform: uppercase; vertical-align: middle; margin-left: 0.5rem\">LOC</span>\n",
       "</mark>\n",
       " em 01/01/2000</div>"
      ],
      "text/plain": [
       "<IPython.core.display.HTML object>"
      ]
     },
     "metadata": {
      "tags": []
     },
     "output_type": "display_data"
    }
   ],
   "source": [
    "displacy.render(texto_nlp, style='ent',jupyter=True)"
   ]
  },
  {
   "cell_type": "markdown",
   "metadata": {
    "id": "v73Glcd-E_ct"
   },
   "source": [
    "Observe que o modelo identifica <b> João </b> como pessoa e <b> Paris </b> como localidade.\n",
    "\n",
    "Apesar do modelo ter identificado essas duas entidades ele naõ identificou a <b> data </b>.\n",
    "\n",
    "Assim, aqui iremos mostrar como retreinar o modelo para capturar também a data.\n"
   ]
  },
  {
   "cell_type": "code",
   "execution_count": 102,
   "metadata": {
    "id": "P7PcfwCvE_cv"
   },
   "outputs": [],
   "source": [
    "#dados de treino. Note que para cada frase, a posição de uma determinada entidade.\n",
    "train_data = [\n",
    "(\"Em 04/12/1992 nasceu Joana\", {'entities':[(3, 13, \"DATE\"), (21,26, \"PER\")]}),\n",
    "(\"Data de início: 10/01/2018\", {'entities':[(16, 26, \"DATE\")]}),\n",
    "(\"Maria se mudou para Paris\", {'entities':[(20,26, \"LOC\")]}),\n",
    "(\"Paris cidade das luzes\", {'entities':[(0,5, \"LOC\")]}),    \n",
    "(\"Maria nasceu em Contagem no dia 07/05/2018\", {'entities':[(0,5,\"PER\"),(16,24,\"LOC\"),(32,42, \"DATE\")]})\n",
    "]"
   ]
  },
  {
   "cell_type": "markdown",
   "metadata": {
    "id": "oCF4zOHYE_cy"
   },
   "source": [
    "### Retreino\n",
    "\n",
    "- explosion/spaCy/master/examples/training/train_ner.py -> O spcay disponibiliza esse código para treinamentos.\n",
    "- Mais informações? https://spacy.io/usage/training"
   ]
  },
  {
   "cell_type": "code",
   "execution_count": 103,
   "metadata": {
    "id": "49SQ4pMGE_cz"
   },
   "outputs": [],
   "source": [
    "def train_spacy(data, iterations):\n",
    "    TRAIN_DATA = data\n",
    "    nlp = spacy.blank('pt')  # create blank Language class\n",
    "    # create the built-in pipeline components and add them to the pipeline\n",
    "    # nlp.create_pipe works for built-ins that are registered with spaCy\n",
    "    if 'ner' not in nlp.pipe_names:\n",
    "        ner = nlp.create_pipe('ner')\n",
    "        nlp.add_pipe(ner, last=True)\n",
    "       \n",
    "\n",
    "    # add labels\n",
    "    for _, annotations in TRAIN_DATA:\n",
    "         for ent in annotations.get('entities'):\n",
    "            ner.add_label(ent[2])\n",
    "\n",
    "    # get names of other pipes to disable them during training\n",
    "    other_pipes = [pipe for pipe in nlp.pipe_names if pipe != 'ner']\n",
    "    with nlp.disable_pipes(*other_pipes):  # only train NER\n",
    "        optimizer = nlp.begin_training()\n",
    "        for itn in range(iterations):\n",
    "            random.shuffle(TRAIN_DATA)\n",
    "            losses = {}\n",
    "            for text, annotations in TRAIN_DATA:\n",
    "                nlp.update(\n",
    "                    [text],  # batch of texts\n",
    "                    [annotations],  # batch of annotations\n",
    "                    drop=0.2,  # dropout - make it harder to memorise data\n",
    "                    sgd=optimizer,  # callable to update weights\n",
    "                    losses=losses)           \n",
    "    return nlp"
   ]
  },
  {
   "cell_type": "code",
   "execution_count": 104,
   "metadata": {
    "id": "s5nsnx5oE_c2"
   },
   "outputs": [
    {
     "name": "stderr",
     "output_type": "stream",
     "text": [
      "/home/douglas/.local/lib/python3.8/site-packages/spacy/language.py:635: UserWarning: [W033] Training a new parser or NER using a model with no lexeme normalization table. This may degrade the performance of the model to some degree. If this is intentional or the language you're using doesn't have a normalization table, please ignore this warning. If this is surprising, make sure you have the spacy-lookups-data package installed. The languages with lexeme normalization tables are currently: da, de, el, en, id, lb, pt, ru, sr, ta, th.\n",
      "  proc.begin_training(\n",
      "/home/douglas/.local/lib/python3.8/site-packages/spacy/language.py:482: UserWarning: [W030] Some entities could not be aligned in the text \"Maria se mudou para Paris\" with entities \"[(20, 26, 'LOC')]\". Use `spacy.gold.biluo_tags_from_offsets(nlp.make_doc(text), entities)` to check the alignment. Misaligned entities ('-') will be ignored during training.\n",
      "  gold = GoldParse(doc, **gold)\n"
     ]
    }
   ],
   "source": [
    "modelo_novo = train_spacy(train_data, 30)"
   ]
  },
  {
   "cell_type": "code",
   "execution_count": 105,
   "metadata": {
    "id": "bFxNgYl6E_c4"
   },
   "outputs": [],
   "source": [
    "modelo_novo.to_disk(\"modelo_novo_NER\")"
   ]
  },
  {
   "cell_type": "markdown",
   "metadata": {
    "id": "57SndPG4E_c7"
   },
   "source": [
    "<b> Atividade </b>\n",
    "\n",
    "19) O ``modelo_novo`` já foi criado. Aplique o texto em que demonstramos que a data não foi identificada e depois imprima utilizando o ``displacy``.\n",
    "O problema foi resolvido? E se mudarmos o formato da data, ele reconhce? Quais outras entidades o modelo não consegue reconhecer? "
   ]
  },
  {
   "cell_type": "code",
   "execution_count": 107,
   "metadata": {},
   "outputs": [],
   "source": [
    "texto_nlp = modelo_novo(texto)"
   ]
  },
  {
   "cell_type": "code",
   "execution_count": 108,
   "metadata": {
    "id": "aGl6dMmYE_c7"
   },
   "outputs": [
    {
     "data": {
      "text/html": [
       "<span class=\"tex2jax_ignore\"><div class=\"entities\" style=\"line-height: 2.5; direction: ltr\">\n",
       "<mark class=\"entity\" style=\"background: #ddd; padding: 0.45em 0.6em; margin: 0 0.25em; line-height: 1; border-radius: 0.35em;\">\n",
       "    João\n",
       "    <span style=\"font-size: 0.8em; font-weight: bold; line-height: 1; border-radius: 0.35em; text-transform: uppercase; vertical-align: middle; margin-left: 0.5rem\">PER</span>\n",
       "</mark>\n",
       " nasceu em \n",
       "<mark class=\"entity\" style=\"background: #ff9561; padding: 0.45em 0.6em; margin: 0 0.25em; line-height: 1; border-radius: 0.35em;\">\n",
       "    Paris\n",
       "    <span style=\"font-size: 0.8em; font-weight: bold; line-height: 1; border-radius: 0.35em; text-transform: uppercase; vertical-align: middle; margin-left: 0.5rem\">LOC</span>\n",
       "</mark>\n",
       " em \n",
       "<mark class=\"entity\" style=\"background: #bfe1d9; padding: 0.45em 0.6em; margin: 0 0.25em; line-height: 1; border-radius: 0.35em;\">\n",
       "    01/01/2000\n",
       "    <span style=\"font-size: 0.8em; font-weight: bold; line-height: 1; border-radius: 0.35em; text-transform: uppercase; vertical-align: middle; margin-left: 0.5rem\">DATE</span>\n",
       "</mark>\n",
       "</div></span>"
      ],
      "text/plain": [
       "<IPython.core.display.HTML object>"
      ]
     },
     "metadata": {},
     "output_type": "display_data"
    }
   ],
   "source": [
    "displacy.render(texto_nlp, style='ent',jupyter=True)"
   ]
  },
  {
   "cell_type": "code",
   "execution_count": null,
   "metadata": {
    "id": "U57H4z3WE_c9"
   },
   "outputs": [],
   "source": []
  }
 ],
 "metadata": {
  "colab": {
   "collapsed_sections": [
    "oCF4zOHYE_cy"
   ],
   "name": "Aula 4 - IAAM 03_1.ipynb",
   "provenance": []
  },
  "kernelspec": {
   "display_name": "Python 3",
   "language": "python",
   "name": "python3"
  },
  "language_info": {
   "codemirror_mode": {
    "name": "ipython",
    "version": 3
   },
   "file_extension": ".py",
   "mimetype": "text/x-python",
   "name": "python",
   "nbconvert_exporter": "python",
   "pygments_lexer": "ipython3",
   "version": "3.8.5"
  }
 },
 "nbformat": 4,
 "nbformat_minor": 1
}
