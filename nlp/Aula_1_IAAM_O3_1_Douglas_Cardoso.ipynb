{
  "nbformat": 4,
  "nbformat_minor": 0,
  "metadata": {
    "kernelspec": {
      "display_name": "nlp-class",
      "language": "python",
      "name": "nlp-class"
    },
    "language_info": {
      "codemirror_mode": {
        "name": "ipython",
        "version": 3
      },
      "file_extension": ".py",
      "mimetype": "text/x-python",
      "name": "python",
      "nbconvert_exporter": "python",
      "pygments_lexer": "ipython3",
      "version": "3.6.5"
    },
    "colab": {
      "name": "Aula 1 - IAAM O3_1_Douglas_Cardoso.ipynb",
      "provenance": [],
      "collapsed_sections": []
    }
  },
  "cells": [
    {
      "cell_type": "code",
      "metadata": {
        "id": "q5gScmrSE2SB",
        "outputId": "3dfb57a4-e092-43b9-cb83-5c5fa8a210dd",
        "colab": {
          "base_uri": "https://localhost:8080/",
          "height": 1000
        }
      },
      "source": [
        "!pip install unidecode\n",
        "!pip install wikipedia\n",
        "!pip install spacy\n",
        "!python -m spacy download en\n",
        "!python -m spacy download pt"
      ],
      "execution_count": 1,
      "outputs": [
        {
          "output_type": "stream",
          "text": [
            "Collecting unidecode\n",
            "\u001b[?25l  Downloading https://files.pythonhosted.org/packages/d0/42/d9edfed04228bacea2d824904cae367ee9efd05e6cce7ceaaedd0b0ad964/Unidecode-1.1.1-py2.py3-none-any.whl (238kB)\n",
            "\r\u001b[K     |█▍                              | 10kB 19.5MB/s eta 0:00:01\r\u001b[K     |██▊                             | 20kB 1.7MB/s eta 0:00:01\r\u001b[K     |████▏                           | 30kB 2.2MB/s eta 0:00:01\r\u001b[K     |█████▌                          | 40kB 2.5MB/s eta 0:00:01\r\u001b[K     |██████▉                         | 51kB 2.0MB/s eta 0:00:01\r\u001b[K     |████████▎                       | 61kB 2.2MB/s eta 0:00:01\r\u001b[K     |█████████▋                      | 71kB 2.5MB/s eta 0:00:01\r\u001b[K     |███████████                     | 81kB 2.7MB/s eta 0:00:01\r\u001b[K     |████████████▍                   | 92kB 2.9MB/s eta 0:00:01\r\u001b[K     |█████████████▊                  | 102kB 2.7MB/s eta 0:00:01\r\u001b[K     |███████████████▏                | 112kB 2.7MB/s eta 0:00:01\r\u001b[K     |████████████████▌               | 122kB 2.7MB/s eta 0:00:01\r\u001b[K     |█████████████████▉              | 133kB 2.7MB/s eta 0:00:01\r\u001b[K     |███████████████████▎            | 143kB 2.7MB/s eta 0:00:01\r\u001b[K     |████████████████████▋           | 153kB 2.7MB/s eta 0:00:01\r\u001b[K     |██████████████████████          | 163kB 2.7MB/s eta 0:00:01\r\u001b[K     |███████████████████████▍        | 174kB 2.7MB/s eta 0:00:01\r\u001b[K     |████████████████████████▊       | 184kB 2.7MB/s eta 0:00:01\r\u001b[K     |██████████████████████████▏     | 194kB 2.7MB/s eta 0:00:01\r\u001b[K     |███████████████████████████▌    | 204kB 2.7MB/s eta 0:00:01\r\u001b[K     |████████████████████████████▉   | 215kB 2.7MB/s eta 0:00:01\r\u001b[K     |██████████████████████████████▎ | 225kB 2.7MB/s eta 0:00:01\r\u001b[K     |███████████████████████████████▋| 235kB 2.7MB/s eta 0:00:01\r\u001b[K     |████████████████████████████████| 245kB 2.7MB/s \n",
            "\u001b[?25hInstalling collected packages: unidecode\n",
            "Successfully installed unidecode-1.1.1\n",
            "Collecting wikipedia\n",
            "  Downloading https://files.pythonhosted.org/packages/67/35/25e68fbc99e672127cc6fbb14b8ec1ba3dfef035bf1e4c90f78f24a80b7d/wikipedia-1.4.0.tar.gz\n",
            "Requirement already satisfied: beautifulsoup4 in /usr/local/lib/python3.6/dist-packages (from wikipedia) (4.6.3)\n",
            "Requirement already satisfied: requests<3.0.0,>=2.0.0 in /usr/local/lib/python3.6/dist-packages (from wikipedia) (2.23.0)\n",
            "Requirement already satisfied: chardet<4,>=3.0.2 in /usr/local/lib/python3.6/dist-packages (from requests<3.0.0,>=2.0.0->wikipedia) (3.0.4)\n",
            "Requirement already satisfied: urllib3!=1.25.0,!=1.25.1,<1.26,>=1.21.1 in /usr/local/lib/python3.6/dist-packages (from requests<3.0.0,>=2.0.0->wikipedia) (1.24.3)\n",
            "Requirement already satisfied: idna<3,>=2.5 in /usr/local/lib/python3.6/dist-packages (from requests<3.0.0,>=2.0.0->wikipedia) (2.10)\n",
            "Requirement already satisfied: certifi>=2017.4.17 in /usr/local/lib/python3.6/dist-packages (from requests<3.0.0,>=2.0.0->wikipedia) (2020.6.20)\n",
            "Building wheels for collected packages: wikipedia\n",
            "  Building wheel for wikipedia (setup.py) ... \u001b[?25l\u001b[?25hdone\n",
            "  Created wheel for wikipedia: filename=wikipedia-1.4.0-cp36-none-any.whl size=11686 sha256=ffafa199294405b5addceb6dab505109c37506c4d69eaf6282fd4800eec54413\n",
            "  Stored in directory: /root/.cache/pip/wheels/87/2a/18/4e471fd96d12114d16fe4a446d00c3b38fb9efcb744bd31f4a\n",
            "Successfully built wikipedia\n",
            "Installing collected packages: wikipedia\n",
            "Successfully installed wikipedia-1.4.0\n",
            "Requirement already satisfied: spacy in /usr/local/lib/python3.6/dist-packages (2.2.4)\n",
            "Requirement already satisfied: catalogue<1.1.0,>=0.0.7 in /usr/local/lib/python3.6/dist-packages (from spacy) (1.0.0)\n",
            "Requirement already satisfied: thinc==7.4.0 in /usr/local/lib/python3.6/dist-packages (from spacy) (7.4.0)\n",
            "Requirement already satisfied: preshed<3.1.0,>=3.0.2 in /usr/local/lib/python3.6/dist-packages (from spacy) (3.0.2)\n",
            "Requirement already satisfied: tqdm<5.0.0,>=4.38.0 in /usr/local/lib/python3.6/dist-packages (from spacy) (4.41.1)\n",
            "Requirement already satisfied: numpy>=1.15.0 in /usr/local/lib/python3.6/dist-packages (from spacy) (1.18.5)\n",
            "Requirement already satisfied: wasabi<1.1.0,>=0.4.0 in /usr/local/lib/python3.6/dist-packages (from spacy) (0.8.0)\n",
            "Requirement already satisfied: srsly<1.1.0,>=1.0.2 in /usr/local/lib/python3.6/dist-packages (from spacy) (1.0.2)\n",
            "Requirement already satisfied: requests<3.0.0,>=2.13.0 in /usr/local/lib/python3.6/dist-packages (from spacy) (2.23.0)\n",
            "Requirement already satisfied: cymem<2.1.0,>=2.0.2 in /usr/local/lib/python3.6/dist-packages (from spacy) (2.0.3)\n",
            "Requirement already satisfied: setuptools in /usr/local/lib/python3.6/dist-packages (from spacy) (50.3.0)\n",
            "Requirement already satisfied: blis<0.5.0,>=0.4.0 in /usr/local/lib/python3.6/dist-packages (from spacy) (0.4.1)\n",
            "Requirement already satisfied: plac<1.2.0,>=0.9.6 in /usr/local/lib/python3.6/dist-packages (from spacy) (1.1.3)\n",
            "Requirement already satisfied: murmurhash<1.1.0,>=0.28.0 in /usr/local/lib/python3.6/dist-packages (from spacy) (1.0.2)\n",
            "Requirement already satisfied: importlib-metadata>=0.20; python_version < \"3.8\" in /usr/local/lib/python3.6/dist-packages (from catalogue<1.1.0,>=0.0.7->spacy) (1.7.0)\n",
            "Requirement already satisfied: chardet<4,>=3.0.2 in /usr/local/lib/python3.6/dist-packages (from requests<3.0.0,>=2.13.0->spacy) (3.0.4)\n",
            "Requirement already satisfied: urllib3!=1.25.0,!=1.25.1,<1.26,>=1.21.1 in /usr/local/lib/python3.6/dist-packages (from requests<3.0.0,>=2.13.0->spacy) (1.24.3)\n",
            "Requirement already satisfied: certifi>=2017.4.17 in /usr/local/lib/python3.6/dist-packages (from requests<3.0.0,>=2.13.0->spacy) (2020.6.20)\n",
            "Requirement already satisfied: idna<3,>=2.5 in /usr/local/lib/python3.6/dist-packages (from requests<3.0.0,>=2.13.0->spacy) (2.10)\n",
            "Requirement already satisfied: zipp>=0.5 in /usr/local/lib/python3.6/dist-packages (from importlib-metadata>=0.20; python_version < \"3.8\"->catalogue<1.1.0,>=0.0.7->spacy) (3.1.0)\n",
            "Requirement already satisfied: en_core_web_sm==2.2.5 from https://github.com/explosion/spacy-models/releases/download/en_core_web_sm-2.2.5/en_core_web_sm-2.2.5.tar.gz#egg=en_core_web_sm==2.2.5 in /usr/local/lib/python3.6/dist-packages (2.2.5)\n",
            "Requirement already satisfied: spacy>=2.2.2 in /usr/local/lib/python3.6/dist-packages (from en_core_web_sm==2.2.5) (2.2.4)\n",
            "Requirement already satisfied: murmurhash<1.1.0,>=0.28.0 in /usr/local/lib/python3.6/dist-packages (from spacy>=2.2.2->en_core_web_sm==2.2.5) (1.0.2)\n",
            "Requirement already satisfied: srsly<1.1.0,>=1.0.2 in /usr/local/lib/python3.6/dist-packages (from spacy>=2.2.2->en_core_web_sm==2.2.5) (1.0.2)\n",
            "Requirement already satisfied: requests<3.0.0,>=2.13.0 in /usr/local/lib/python3.6/dist-packages (from spacy>=2.2.2->en_core_web_sm==2.2.5) (2.23.0)\n",
            "Requirement already satisfied: wasabi<1.1.0,>=0.4.0 in /usr/local/lib/python3.6/dist-packages (from spacy>=2.2.2->en_core_web_sm==2.2.5) (0.8.0)\n",
            "Requirement already satisfied: plac<1.2.0,>=0.9.6 in /usr/local/lib/python3.6/dist-packages (from spacy>=2.2.2->en_core_web_sm==2.2.5) (1.1.3)\n",
            "Requirement already satisfied: numpy>=1.15.0 in /usr/local/lib/python3.6/dist-packages (from spacy>=2.2.2->en_core_web_sm==2.2.5) (1.18.5)\n",
            "Requirement already satisfied: preshed<3.1.0,>=3.0.2 in /usr/local/lib/python3.6/dist-packages (from spacy>=2.2.2->en_core_web_sm==2.2.5) (3.0.2)\n",
            "Requirement already satisfied: thinc==7.4.0 in /usr/local/lib/python3.6/dist-packages (from spacy>=2.2.2->en_core_web_sm==2.2.5) (7.4.0)\n",
            "Requirement already satisfied: tqdm<5.0.0,>=4.38.0 in /usr/local/lib/python3.6/dist-packages (from spacy>=2.2.2->en_core_web_sm==2.2.5) (4.41.1)\n",
            "Requirement already satisfied: cymem<2.1.0,>=2.0.2 in /usr/local/lib/python3.6/dist-packages (from spacy>=2.2.2->en_core_web_sm==2.2.5) (2.0.3)\n",
            "Requirement already satisfied: setuptools in /usr/local/lib/python3.6/dist-packages (from spacy>=2.2.2->en_core_web_sm==2.2.5) (50.3.0)\n",
            "Requirement already satisfied: catalogue<1.1.0,>=0.0.7 in /usr/local/lib/python3.6/dist-packages (from spacy>=2.2.2->en_core_web_sm==2.2.5) (1.0.0)\n",
            "Requirement already satisfied: blis<0.5.0,>=0.4.0 in /usr/local/lib/python3.6/dist-packages (from spacy>=2.2.2->en_core_web_sm==2.2.5) (0.4.1)\n",
            "Requirement already satisfied: certifi>=2017.4.17 in /usr/local/lib/python3.6/dist-packages (from requests<3.0.0,>=2.13.0->spacy>=2.2.2->en_core_web_sm==2.2.5) (2020.6.20)\n",
            "Requirement already satisfied: chardet<4,>=3.0.2 in /usr/local/lib/python3.6/dist-packages (from requests<3.0.0,>=2.13.0->spacy>=2.2.2->en_core_web_sm==2.2.5) (3.0.4)\n",
            "Requirement already satisfied: idna<3,>=2.5 in /usr/local/lib/python3.6/dist-packages (from requests<3.0.0,>=2.13.0->spacy>=2.2.2->en_core_web_sm==2.2.5) (2.10)\n",
            "Requirement already satisfied: urllib3!=1.25.0,!=1.25.1,<1.26,>=1.21.1 in /usr/local/lib/python3.6/dist-packages (from requests<3.0.0,>=2.13.0->spacy>=2.2.2->en_core_web_sm==2.2.5) (1.24.3)\n",
            "Requirement already satisfied: importlib-metadata>=0.20; python_version < \"3.8\" in /usr/local/lib/python3.6/dist-packages (from catalogue<1.1.0,>=0.0.7->spacy>=2.2.2->en_core_web_sm==2.2.5) (1.7.0)\n",
            "Requirement already satisfied: zipp>=0.5 in /usr/local/lib/python3.6/dist-packages (from importlib-metadata>=0.20; python_version < \"3.8\"->catalogue<1.1.0,>=0.0.7->spacy>=2.2.2->en_core_web_sm==2.2.5) (3.1.0)\n",
            "\u001b[38;5;2m✔ Download and installation successful\u001b[0m\n",
            "You can now load the model via spacy.load('en_core_web_sm')\n",
            "\u001b[38;5;2m✔ Linking successful\u001b[0m\n",
            "/usr/local/lib/python3.6/dist-packages/en_core_web_sm -->\n",
            "/usr/local/lib/python3.6/dist-packages/spacy/data/en\n",
            "You can now load the model via spacy.load('en')\n",
            "Collecting pt_core_news_sm==2.2.5\n",
            "\u001b[?25l  Downloading https://github.com/explosion/spacy-models/releases/download/pt_core_news_sm-2.2.5/pt_core_news_sm-2.2.5.tar.gz (21.2MB)\n",
            "\u001b[K     |████████████████████████████████| 21.2MB 1.2MB/s \n",
            "\u001b[?25hRequirement already satisfied: spacy>=2.2.2 in /usr/local/lib/python3.6/dist-packages (from pt_core_news_sm==2.2.5) (2.2.4)\n",
            "Requirement already satisfied: plac<1.2.0,>=0.9.6 in /usr/local/lib/python3.6/dist-packages (from spacy>=2.2.2->pt_core_news_sm==2.2.5) (1.1.3)\n",
            "Requirement already satisfied: preshed<3.1.0,>=3.0.2 in /usr/local/lib/python3.6/dist-packages (from spacy>=2.2.2->pt_core_news_sm==2.2.5) (3.0.2)\n",
            "Requirement already satisfied: wasabi<1.1.0,>=0.4.0 in /usr/local/lib/python3.6/dist-packages (from spacy>=2.2.2->pt_core_news_sm==2.2.5) (0.8.0)\n",
            "Requirement already satisfied: numpy>=1.15.0 in /usr/local/lib/python3.6/dist-packages (from spacy>=2.2.2->pt_core_news_sm==2.2.5) (1.18.5)\n",
            "Requirement already satisfied: thinc==7.4.0 in /usr/local/lib/python3.6/dist-packages (from spacy>=2.2.2->pt_core_news_sm==2.2.5) (7.4.0)\n",
            "Requirement already satisfied: requests<3.0.0,>=2.13.0 in /usr/local/lib/python3.6/dist-packages (from spacy>=2.2.2->pt_core_news_sm==2.2.5) (2.23.0)\n",
            "Requirement already satisfied: setuptools in /usr/local/lib/python3.6/dist-packages (from spacy>=2.2.2->pt_core_news_sm==2.2.5) (50.3.0)\n",
            "Requirement already satisfied: murmurhash<1.1.0,>=0.28.0 in /usr/local/lib/python3.6/dist-packages (from spacy>=2.2.2->pt_core_news_sm==2.2.5) (1.0.2)\n",
            "Requirement already satisfied: srsly<1.1.0,>=1.0.2 in /usr/local/lib/python3.6/dist-packages (from spacy>=2.2.2->pt_core_news_sm==2.2.5) (1.0.2)\n",
            "Requirement already satisfied: cymem<2.1.0,>=2.0.2 in /usr/local/lib/python3.6/dist-packages (from spacy>=2.2.2->pt_core_news_sm==2.2.5) (2.0.3)\n",
            "Requirement already satisfied: tqdm<5.0.0,>=4.38.0 in /usr/local/lib/python3.6/dist-packages (from spacy>=2.2.2->pt_core_news_sm==2.2.5) (4.41.1)\n",
            "Requirement already satisfied: catalogue<1.1.0,>=0.0.7 in /usr/local/lib/python3.6/dist-packages (from spacy>=2.2.2->pt_core_news_sm==2.2.5) (1.0.0)\n",
            "Requirement already satisfied: blis<0.5.0,>=0.4.0 in /usr/local/lib/python3.6/dist-packages (from spacy>=2.2.2->pt_core_news_sm==2.2.5) (0.4.1)\n",
            "Requirement already satisfied: chardet<4,>=3.0.2 in /usr/local/lib/python3.6/dist-packages (from requests<3.0.0,>=2.13.0->spacy>=2.2.2->pt_core_news_sm==2.2.5) (3.0.4)\n",
            "Requirement already satisfied: idna<3,>=2.5 in /usr/local/lib/python3.6/dist-packages (from requests<3.0.0,>=2.13.0->spacy>=2.2.2->pt_core_news_sm==2.2.5) (2.10)\n",
            "Requirement already satisfied: certifi>=2017.4.17 in /usr/local/lib/python3.6/dist-packages (from requests<3.0.0,>=2.13.0->spacy>=2.2.2->pt_core_news_sm==2.2.5) (2020.6.20)\n",
            "Requirement already satisfied: urllib3!=1.25.0,!=1.25.1,<1.26,>=1.21.1 in /usr/local/lib/python3.6/dist-packages (from requests<3.0.0,>=2.13.0->spacy>=2.2.2->pt_core_news_sm==2.2.5) (1.24.3)\n",
            "Requirement already satisfied: importlib-metadata>=0.20; python_version < \"3.8\" in /usr/local/lib/python3.6/dist-packages (from catalogue<1.1.0,>=0.0.7->spacy>=2.2.2->pt_core_news_sm==2.2.5) (1.7.0)\n",
            "Requirement already satisfied: zipp>=0.5 in /usr/local/lib/python3.6/dist-packages (from importlib-metadata>=0.20; python_version < \"3.8\"->catalogue<1.1.0,>=0.0.7->spacy>=2.2.2->pt_core_news_sm==2.2.5) (3.1.0)\n",
            "Building wheels for collected packages: pt-core-news-sm\n",
            "  Building wheel for pt-core-news-sm (setup.py) ... \u001b[?25l\u001b[?25hdone\n",
            "  Created wheel for pt-core-news-sm: filename=pt_core_news_sm-2.2.5-cp36-none-any.whl size=21186282 sha256=e13d3fc3e64bfff707dc4fc340e00eddf0607a76fa8e923bccfdb01cdf009416\n",
            "  Stored in directory: /tmp/pip-ephem-wheel-cache-klhknv8e/wheels/ea/94/74/ec9be8418e9231b471be5dc7e1b45dd670019a376a6b5bc1c0\n",
            "Successfully built pt-core-news-sm\n",
            "Installing collected packages: pt-core-news-sm\n",
            "Successfully installed pt-core-news-sm-2.2.5\n",
            "\u001b[38;5;2m✔ Download and installation successful\u001b[0m\n",
            "You can now load the model via spacy.load('pt_core_news_sm')\n",
            "\u001b[38;5;2m✔ Linking successful\u001b[0m\n",
            "/usr/local/lib/python3.6/dist-packages/pt_core_news_sm -->\n",
            "/usr/local/lib/python3.6/dist-packages/spacy/data/pt\n",
            "You can now load the model via spacy.load('pt')\n"
          ],
          "name": "stdout"
        }
      ]
    },
    {
      "cell_type": "markdown",
      "metadata": {
        "id": "lt-GgQqeE2SH"
      },
      "source": [
        "# Expressões Regulares\n",
        "\n",
        "- O Pacote que permite utilizar ER é <b>re</b>\n",
        "- Existem vários métodos para utilizar expressões regulares em python., alguns deles para <b>buscar</b> padrões são:\n",
        "\n",
        "|   Método   |                                      Descrição                                     |\n",
        "|:----------:|:----------------------------------------------------------------------------------:|\n",
        "| match()    | Determina se a RE combina com o início da string.                                  |\n",
        "| search()   | Varre toda a string, procurando qualquer local onde esta RE tem correspondência.   |\n",
        "| findall()  | Encontra todas as substrings onde a RE corresponde, e as retorna como uma lista.   |\n",
        "| finditer() | Encontra todas as substrings onde a RE corresponde, e as retorna como um iterador. |\n",
        "\n",
        "- Métodos para modificar strings:\n",
        "\n",
        "| Método  | Descrição                                                                                            |\n",
        "|---------|------------------------------------------------------------------------------------------------------|\n",
        "| split() | Divide a string em uma lista, dividindo-a onde quer que haja correspondência com a RE                |\n",
        "| sub()   | Encontra todas as substrings que correspondem com a RE e faz a substituição por uma string diferente |\n",
        "| subn()  |  É o mesmo que o método sub(), mas retorna a nova string e o número de substituições                 |\n",
        "\n",
        "\n",
        "Link: https://docs.python.org/pt-br/3.8/howto/regex.html\n",
        "\n",
        "Agora vamos exemplificar cada um desses métodos:"
      ]
    },
    {
      "cell_type": "code",
      "metadata": {
        "id": "-RuY3ajmE2SH"
      },
      "source": [
        "import re\n",
        "import datetime"
      ],
      "execution_count": 2,
      "outputs": []
    },
    {
      "cell_type": "code",
      "metadata": {
        "id": "u06mxHTsE2SM"
      },
      "source": [
        "texto = \"Vamos encontrar Padrões nesta string!! \\nAgora é a nossa primeira prática de NLP!! Vamos aprender a procurar padrões!! \\nBelo Horizonte, \"+ str(datetime.datetime.now().date())+\".\""
      ],
      "execution_count": 3,
      "outputs": []
    },
    {
      "cell_type": "code",
      "metadata": {
        "id": "Ba2kbQcBE2SR",
        "outputId": "47969fea-5ed6-46ee-fc27-cbdffdcb725f",
        "colab": {
          "base_uri": "https://localhost:8080/",
          "height": 66
        }
      },
      "source": [
        "print(texto)"
      ],
      "execution_count": 4,
      "outputs": [
        {
          "output_type": "stream",
          "text": [
            "Vamos encontrar Padrões nesta string!! \n",
            "Agora é a nossa primeira prática de NLP!! Vamos aprender a procurar padrões!! \n",
            "Belo Horizonte, 2020-09-29.\n"
          ],
          "name": "stdout"
        }
      ]
    },
    {
      "cell_type": "markdown",
      "metadata": {
        "id": "ssoK3Vd_E2SV"
      },
      "source": [
        "## Match\n",
        "Determina se a RE combina com o início da string"
      ]
    },
    {
      "cell_type": "code",
      "metadata": {
        "id": "ByKonDoCE2SW",
        "outputId": "4c529c2e-ec8c-4a74-a9e8-f08e14b46eb2",
        "colab": {
          "base_uri": "https://localhost:8080/",
          "height": 33
        }
      },
      "source": [
        "re.match(\"Vamos\", texto)"
      ],
      "execution_count": 5,
      "outputs": [
        {
          "output_type": "execute_result",
          "data": {
            "text/plain": [
              "<_sre.SRE_Match object; span=(0, 5), match='Vamos'>"
            ]
          },
          "metadata": {
            "tags": []
          },
          "execution_count": 5
        }
      ]
    },
    {
      "cell_type": "code",
      "metadata": {
        "id": "nTRtigOPE2Sa"
      },
      "source": [
        "re.match(\"nesta\", texto)"
      ],
      "execution_count": 6,
      "outputs": []
    },
    {
      "cell_type": "markdown",
      "metadata": {
        "id": "kWgXERIqE2Se"
      },
      "source": [
        "é case sensitive"
      ]
    },
    {
      "cell_type": "code",
      "metadata": {
        "id": "U6nAhURVE2Sf"
      },
      "source": [
        "re.match(r\"vamos\", texto)"
      ],
      "execution_count": 7,
      "outputs": []
    },
    {
      "cell_type": "markdown",
      "metadata": {
        "id": "b-vfSwKdE2Sj"
      },
      "source": [
        "## Search\n",
        "Varre toda a string, procurando qualquer local onde esta RE tem correspondência"
      ]
    },
    {
      "cell_type": "code",
      "metadata": {
        "id": "CGwwWNFlE2Sk",
        "outputId": "0928710f-d67c-4220-bf9d-ac9f37f0c96a",
        "colab": {
          "base_uri": "https://localhost:8080/",
          "height": 33
        }
      },
      "source": [
        "re.search(\"Vamos\", texto)"
      ],
      "execution_count": 8,
      "outputs": [
        {
          "output_type": "execute_result",
          "data": {
            "text/plain": [
              "<_sre.SRE_Match object; span=(0, 5), match='Vamos'>"
            ]
          },
          "metadata": {
            "tags": []
          },
          "execution_count": 8
        }
      ]
    },
    {
      "cell_type": "code",
      "metadata": {
        "id": "GpfXeIsXE2Sn",
        "outputId": "b75a234a-d49f-4693-874e-adc50417aae9",
        "colab": {
          "base_uri": "https://localhost:8080/",
          "height": 33
        }
      },
      "source": [
        "re.search(\"encontrar\", texto)"
      ],
      "execution_count": 9,
      "outputs": [
        {
          "output_type": "execute_result",
          "data": {
            "text/plain": [
              "<_sre.SRE_Match object; span=(6, 15), match='encontrar'>"
            ]
          },
          "metadata": {
            "tags": []
          },
          "execution_count": 9
        }
      ]
    },
    {
      "cell_type": "markdown",
      "metadata": {
        "id": "NW85D7HYE2Sr"
      },
      "source": [
        "o default é case-sensitive"
      ]
    },
    {
      "cell_type": "code",
      "metadata": {
        "id": "Mcm5_FhyE2Ss",
        "outputId": "0f96a7ed-90cb-4747-d336-d1a5d8567688",
        "colab": {
          "base_uri": "https://localhost:8080/",
          "height": 33
        }
      },
      "source": [
        "re.search(\"padrões\", texto)"
      ],
      "execution_count": 10,
      "outputs": [
        {
          "output_type": "execute_result",
          "data": {
            "text/plain": [
              "<_sre.SRE_Match object; span=(108, 115), match='padrões'>"
            ]
          },
          "metadata": {
            "tags": []
          },
          "execution_count": 10
        }
      ]
    },
    {
      "cell_type": "code",
      "metadata": {
        "id": "tlzw89bWE2Sv",
        "outputId": "537504fd-3d99-4928-8bf4-d237f754e783",
        "colab": {
          "base_uri": "https://localhost:8080/",
          "height": 33
        }
      },
      "source": [
        "re.search(\"Padrões\", texto)"
      ],
      "execution_count": 11,
      "outputs": [
        {
          "output_type": "execute_result",
          "data": {
            "text/plain": [
              "<_sre.SRE_Match object; span=(16, 23), match='Padrões'>"
            ]
          },
          "metadata": {
            "tags": []
          },
          "execution_count": 11
        }
      ]
    },
    {
      "cell_type": "markdown",
      "metadata": {
        "id": "TcwH5pX1E2S0"
      },
      "source": [
        "podemos ignorar case-sensitive"
      ]
    },
    {
      "cell_type": "code",
      "metadata": {
        "id": "J3Ol_N-xE2S1",
        "outputId": "588c5e25-49ba-4fde-9aee-04a533a3c9f3",
        "colab": {
          "base_uri": "https://localhost:8080/",
          "height": 33
        }
      },
      "source": [
        "re.search(\"padrões\", texto, re.IGNORECASE)"
      ],
      "execution_count": 12,
      "outputs": [
        {
          "output_type": "execute_result",
          "data": {
            "text/plain": [
              "<_sre.SRE_Match object; span=(16, 23), match='Padrões'>"
            ]
          },
          "metadata": {
            "tags": []
          },
          "execution_count": 12
        }
      ]
    },
    {
      "cell_type": "markdown",
      "metadata": {
        "id": "7c_d3n-ZE2S4"
      },
      "source": [
        "## Findall\n",
        "Encontra todas as substrings onde a RE corresponde, e as retorna como uma lista"
      ]
    },
    {
      "cell_type": "code",
      "metadata": {
        "id": "5RL7Pn6sE2S5",
        "outputId": "7798eef8-afb7-4aaf-dc0f-dcfe7008320e",
        "colab": {
          "base_uri": "https://localhost:8080/",
          "height": 33
        }
      },
      "source": [
        "re.findall(\"Vamos\", texto)"
      ],
      "execution_count": 13,
      "outputs": [
        {
          "output_type": "execute_result",
          "data": {
            "text/plain": [
              "['Vamos', 'Vamos']"
            ]
          },
          "metadata": {
            "tags": []
          },
          "execution_count": 13
        }
      ]
    },
    {
      "cell_type": "code",
      "metadata": {
        "id": "RwkAevIaE2S9",
        "outputId": "b869a6b6-6bad-4c97-a500-ca54ed498c68",
        "colab": {
          "base_uri": "https://localhost:8080/",
          "height": 33
        }
      },
      "source": [
        "re.findall(\"padrões\", texto)"
      ],
      "execution_count": 14,
      "outputs": [
        {
          "output_type": "execute_result",
          "data": {
            "text/plain": [
              "['padrões']"
            ]
          },
          "metadata": {
            "tags": []
          },
          "execution_count": 14
        }
      ]
    },
    {
      "cell_type": "markdown",
      "metadata": {
        "id": "0-jU3fAQE2TA"
      },
      "source": [
        "re.I é igal re.IGNORECASE"
      ]
    },
    {
      "cell_type": "code",
      "metadata": {
        "id": "kwcBrGrxE2TB",
        "outputId": "609d3a73-e4c8-4123-cfe7-156283c0809f",
        "colab": {
          "base_uri": "https://localhost:8080/",
          "height": 33
        }
      },
      "source": [
        "re.findall(\"padrões\", texto, re.I)"
      ],
      "execution_count": 15,
      "outputs": [
        {
          "output_type": "execute_result",
          "data": {
            "text/plain": [
              "['Padrões', 'padrões']"
            ]
          },
          "metadata": {
            "tags": []
          },
          "execution_count": 15
        }
      ]
    },
    {
      "cell_type": "code",
      "metadata": {
        "id": "UxS4PHcpE2TF",
        "outputId": "b69b4ca3-ce45-4e63-a716-e1acf3eaf1ec",
        "colab": {
          "base_uri": "https://localhost:8080/",
          "height": 33
        }
      },
      "source": [
        "#quando uso o + o padrão é 1 ou mais. Assim todas string que tem a no meio de outras letras  são retornadas\n",
        "re.findall(r'\\w+a\\w+', texto)"
      ],
      "execution_count": 16,
      "outputs": [
        {
          "output_type": "execute_result",
          "data": {
            "text/plain": [
              "['Vamos', 'encontrar', 'Padrões', 'Vamos', 'procurar', 'padrões']"
            ]
          },
          "metadata": {
            "tags": []
          },
          "execution_count": 16
        }
      ]
    },
    {
      "cell_type": "code",
      "metadata": {
        "id": "uy1DWTFCE2TJ",
        "outputId": "8c1dbcb1-3da8-45d6-b8e0-e0e05c6f3a27",
        "colab": {
          "base_uri": "https://localhost:8080/",
          "height": 245
        }
      },
      "source": [
        "#quando uso o * o padrão é 0 ou mais. Assim todas string que tem a no meio, ou no início ou no fim são retornadas\n",
        "re.findall(r'\\w*a\\w*', texto)"
      ],
      "execution_count": 17,
      "outputs": [
        {
          "output_type": "execute_result",
          "data": {
            "text/plain": [
              "['Vamos',\n",
              " 'encontrar',\n",
              " 'Padrões',\n",
              " 'nesta',\n",
              " 'Agora',\n",
              " 'a',\n",
              " 'nossa',\n",
              " 'primeira',\n",
              " 'prática',\n",
              " 'Vamos',\n",
              " 'aprender',\n",
              " 'a',\n",
              " 'procurar',\n",
              " 'padrões']"
            ]
          },
          "metadata": {
            "tags": []
          },
          "execution_count": 17
        }
      ]
    },
    {
      "cell_type": "markdown",
      "metadata": {
        "id": "CpfoYKAaE2TM"
      },
      "source": [
        "## Finditer\n",
        "Encontra todas as substrings onde a RE corresponde, e as retorna como um iterador."
      ]
    },
    {
      "cell_type": "code",
      "metadata": {
        "id": "Npmyb-XsE2TN",
        "outputId": "d001d184-c2a8-49a7-8ca4-fd98de87da07",
        "colab": {
          "base_uri": "https://localhost:8080/",
          "height": 33
        }
      },
      "source": [
        "re.finditer(\"Vamos\", texto)"
      ],
      "execution_count": 18,
      "outputs": [
        {
          "output_type": "execute_result",
          "data": {
            "text/plain": [
              "<callable_iterator at 0x7f47b0f15518>"
            ]
          },
          "metadata": {
            "tags": []
          },
          "execution_count": 18
        }
      ]
    },
    {
      "cell_type": "code",
      "metadata": {
        "id": "8BzmQAsvE2TQ",
        "outputId": "063db57c-8b7a-4c3d-aa16-bd292c2dd23a",
        "colab": {
          "base_uri": "https://localhost:8080/",
          "height": 50
        }
      },
      "source": [
        "res = re.finditer(\"Vamos\", texto)\n",
        "[r for r in res]"
      ],
      "execution_count": 19,
      "outputs": [
        {
          "output_type": "execute_result",
          "data": {
            "text/plain": [
              "[<_sre.SRE_Match object; span=(0, 5), match='Vamos'>,\n",
              " <_sre.SRE_Match object; span=(82, 87), match='Vamos'>]"
            ]
          },
          "metadata": {
            "tags": []
          },
          "execution_count": 19
        }
      ]
    },
    {
      "cell_type": "code",
      "metadata": {
        "id": "Ul95OtbkE2TT",
        "outputId": "3a2abd77-6f43-42c1-b68b-850b93e6fe06",
        "colab": {
          "base_uri": "https://localhost:8080/",
          "height": 33
        }
      },
      "source": [
        "re.finditer(\"padrões\", texto)"
      ],
      "execution_count": 20,
      "outputs": [
        {
          "output_type": "execute_result",
          "data": {
            "text/plain": [
              "<callable_iterator at 0x7f47b0f15470>"
            ]
          },
          "metadata": {
            "tags": []
          },
          "execution_count": 20
        }
      ]
    },
    {
      "cell_type": "code",
      "metadata": {
        "id": "_MWvOPBNE2TX",
        "outputId": "e7a1998f-ae94-4b26-e99c-dc9479280e46",
        "colab": {
          "base_uri": "https://localhost:8080/",
          "height": 33
        }
      },
      "source": [
        "re.finditer(\"padrões\", texto, re.I)"
      ],
      "execution_count": 21,
      "outputs": [
        {
          "output_type": "execute_result",
          "data": {
            "text/plain": [
              "<callable_iterator at 0x7f47b0f15898>"
            ]
          },
          "metadata": {
            "tags": []
          },
          "execution_count": 21
        }
      ]
    },
    {
      "cell_type": "markdown",
      "metadata": {
        "id": "2NTIYrv2E2Tb"
      },
      "source": [
        "## Split"
      ]
    },
    {
      "cell_type": "code",
      "metadata": {
        "id": "zs7VXjcKE2Tc",
        "outputId": "e34b50f2-0861-4f15-e25c-624ca508b5d1",
        "colab": {
          "base_uri": "https://localhost:8080/",
          "height": 66
        }
      },
      "source": [
        "re.split('\\n',texto)"
      ],
      "execution_count": 22,
      "outputs": [
        {
          "output_type": "execute_result",
          "data": {
            "text/plain": [
              "['Vamos encontrar Padrões nesta string!! ',\n",
              " 'Agora é a nossa primeira prática de NLP!! Vamos aprender a procurar padrões!! ',\n",
              " 'Belo Horizonte, 2020-09-29.']"
            ]
          },
          "metadata": {
            "tags": []
          },
          "execution_count": 22
        }
      ]
    },
    {
      "cell_type": "code",
      "metadata": {
        "id": "7moeTtMWE2Tf",
        "outputId": "f7c156e2-a22d-4cf2-9c71-199f8d3f9da3",
        "colab": {
          "base_uri": "https://localhost:8080/",
          "height": 33
        }
      },
      "source": [
        "texto.split(\"\\s+\")"
      ],
      "execution_count": 23,
      "outputs": [
        {
          "output_type": "execute_result",
          "data": {
            "text/plain": [
              "['Vamos encontrar Padrões nesta string!! \\nAgora é a nossa primeira prática de NLP!! Vamos aprender a procurar padrões!! \\nBelo Horizonte, 2020-09-29.']"
            ]
          },
          "metadata": {
            "tags": []
          },
          "execution_count": 23
        }
      ]
    },
    {
      "cell_type": "code",
      "metadata": {
        "id": "wjv2o5TSE2Tl",
        "outputId": "af5e1350-75f2-4384-a4e4-e628edec4905",
        "colab": {
          "base_uri": "https://localhost:8080/",
          "height": 358
        }
      },
      "source": [
        "(re.split(r'\\s+',texto))"
      ],
      "execution_count": 24,
      "outputs": [
        {
          "output_type": "execute_result",
          "data": {
            "text/plain": [
              "['Vamos',\n",
              " 'encontrar',\n",
              " 'Padrões',\n",
              " 'nesta',\n",
              " 'string!!',\n",
              " 'Agora',\n",
              " 'é',\n",
              " 'a',\n",
              " 'nossa',\n",
              " 'primeira',\n",
              " 'prática',\n",
              " 'de',\n",
              " 'NLP!!',\n",
              " 'Vamos',\n",
              " 'aprender',\n",
              " 'a',\n",
              " 'procurar',\n",
              " 'padrões!!',\n",
              " 'Belo',\n",
              " 'Horizonte,',\n",
              " '2020-09-29.']"
            ]
          },
          "metadata": {
            "tags": []
          },
          "execution_count": 24
        }
      ]
    },
    {
      "cell_type": "markdown",
      "metadata": {
        "id": "1Q5VxGluE2Tq"
      },
      "source": [
        "## Sub"
      ]
    },
    {
      "cell_type": "code",
      "metadata": {
        "id": "UfQcny0cE2Tq",
        "outputId": "7986817a-3050-458a-c102-f9abfe91f07b",
        "colab": {
          "base_uri": "https://localhost:8080/",
          "height": 35
        }
      },
      "source": [
        "re.sub('\\w+a\\w+', 'a-word', texto)"
      ],
      "execution_count": 25,
      "outputs": [
        {
          "output_type": "execute_result",
          "data": {
            "application/vnd.google.colaboratory.intrinsic+json": {
              "type": "string"
            },
            "text/plain": [
              "'a-word a-word a-word nesta string!! \\nAgora é a nossa primeira prática de NLP!! a-word aprender a a-word a-word!! \\nBelo Horizonte, 2020-09-29.'"
            ]
          },
          "metadata": {
            "tags": []
          },
          "execution_count": 25
        }
      ]
    },
    {
      "cell_type": "markdown",
      "metadata": {
        "id": "wlWiVFncE2Tu"
      },
      "source": [
        "## Subn"
      ]
    },
    {
      "cell_type": "code",
      "metadata": {
        "id": "X2955Lc9E2Tu",
        "outputId": "712feff4-21a4-4b9c-89f9-220485bace16",
        "colab": {
          "base_uri": "https://localhost:8080/",
          "height": 50
        }
      },
      "source": [
        "re.subn('\\w+a\\w+', 'a-word', texto)"
      ],
      "execution_count": 26,
      "outputs": [
        {
          "output_type": "execute_result",
          "data": {
            "text/plain": [
              "('a-word a-word a-word nesta string!! \\nAgora é a nossa primeira prática de NLP!! a-word aprender a a-word a-word!! \\nBelo Horizonte, 2020-09-29.',\n",
              " 6)"
            ]
          },
          "metadata": {
            "tags": []
          },
          "execution_count": 26
        }
      ]
    },
    {
      "cell_type": "markdown",
      "metadata": {
        "id": "0nQT6mCwE2T4"
      },
      "source": [
        "# Exercícios"
      ]
    },
    {
      "cell_type": "markdown",
      "metadata": {
        "id": "t4o97T52E2T5"
      },
      "source": [
        "1. Escreva uma expressão regular para verificar se uma string contém apenas um determinado conjunto de caracteres (neste caso, a-z, A-Z e 0-9)."
      ]
    },
    {
      "cell_type": "code",
      "metadata": {
        "id": "djXPdCENE2T5"
      },
      "source": [
        "string1 = \"ABCDEFabcdef123450\"\n",
        "string2 = \"*&%@#!}{\""
      ],
      "execution_count": 27,
      "outputs": []
    },
    {
      "cell_type": "code",
      "metadata": {
        "id": "RREg_VDTE2T9",
        "outputId": "14659101-db0d-40cd-d974-6f47397a9320",
        "colab": {
          "base_uri": "https://localhost:8080/",
          "height": 33
        }
      },
      "source": [
        "bool(re.search(\"\\w\", string1))"
      ],
      "execution_count": 29,
      "outputs": [
        {
          "output_type": "execute_result",
          "data": {
            "text/plain": [
              "True"
            ]
          },
          "metadata": {
            "tags": []
          },
          "execution_count": 29
        }
      ]
    },
    {
      "cell_type": "code",
      "metadata": {
        "id": "1WIU7PGfeaFe",
        "outputId": "5ef1bbe6-1c43-4ff1-f7fe-8fe253cb1173",
        "colab": {
          "base_uri": "https://localhost:8080/",
          "height": 33
        }
      },
      "source": [
        "bool(re.search(\"\\w\", string2))"
      ],
      "execution_count": 30,
      "outputs": [
        {
          "output_type": "execute_result",
          "data": {
            "text/plain": [
              "False"
            ]
          },
          "metadata": {
            "tags": []
          },
          "execution_count": 30
        }
      ]
    },
    {
      "cell_type": "markdown",
      "metadata": {
        "id": "GpQZWR75E2UB"
      },
      "source": [
        "2. Escreva uma expressão regular que corresponda a uma sequência que tenha um a seguido por zero ou mais b's."
      ]
    },
    {
      "cell_type": "code",
      "metadata": {
        "id": "clu3aaOQE2UB"
      },
      "source": [
        "string1 = \"abc\"\n",
        "string2 = \"aacb\"\n",
        "string3 = \"abbc\"\n",
        "string4 = \"bb\""
      ],
      "execution_count": 48,
      "outputs": []
    },
    {
      "cell_type": "code",
      "metadata": {
        "id": "fZNCfIh7fkdW"
      },
      "source": [
        "def check_regex(string):\n",
        "  return bool(re.match(\"ab*\" , string))"
      ],
      "execution_count": 53,
      "outputs": []
    },
    {
      "cell_type": "code",
      "metadata": {
        "id": "qDkahkQpE2UE",
        "outputId": "1f1240d0-8ca3-4e79-88fa-d95d8bc96c2d",
        "colab": {
          "base_uri": "https://localhost:8080/",
          "height": 82
        }
      },
      "source": [
        "print(check_regex(string1))\n",
        "print(check_regex(string2))\n",
        "print(check_regex(string3))\n",
        "print(check_regex(string4))"
      ],
      "execution_count": 59,
      "outputs": [
        {
          "output_type": "stream",
          "text": [
            "True\n",
            "True\n",
            "True\n",
            "False\n"
          ],
          "name": "stdout"
        }
      ]
    },
    {
      "cell_type": "markdown",
      "metadata": {
        "id": "GCEwqVNEE2UJ"
      },
      "source": [
        "3. Escreva um expressão regular que corresponda a uma sequência que tenha um a seguido por um ou mais b's."
      ]
    },
    {
      "cell_type": "code",
      "metadata": {
        "id": "wLIBnksTE2UK"
      },
      "source": [
        "string1 = \"abc\"\n",
        "string2 = \"aacb\"\n",
        "string3 = \"abbc\"\n",
        "string4 = \"bb\""
      ],
      "execution_count": 60,
      "outputs": []
    },
    {
      "cell_type": "code",
      "metadata": {
        "id": "lmzRqypfE2UO"
      },
      "source": [
        "def check_regex(string):\n",
        "  return bool(re.match(\"ab+\" , string))"
      ],
      "execution_count": 61,
      "outputs": []
    },
    {
      "cell_type": "code",
      "metadata": {
        "id": "tqTGaYdog0Mr",
        "outputId": "0e093983-4d66-413e-854f-5fcf8c297d67",
        "colab": {
          "base_uri": "https://localhost:8080/",
          "height": 82
        }
      },
      "source": [
        "print(check_regex(string1))\n",
        "print(check_regex(string2))\n",
        "print(check_regex(string3))\n",
        "print(check_regex(string4))"
      ],
      "execution_count": 62,
      "outputs": [
        {
          "output_type": "stream",
          "text": [
            "True\n",
            "False\n",
            "True\n",
            "False\n"
          ],
          "name": "stdout"
        }
      ]
    },
    {
      "cell_type": "markdown",
      "metadata": {
        "id": "dNE6awcvE2US"
      },
      "source": [
        "4. Escreva uma expressão regular para converter uma data do formato aaaa-mm-dd para o formato dd-mm-aaaa."
      ]
    },
    {
      "cell_type": "code",
      "metadata": {
        "id": "w3-uuyaNE2US"
      },
      "source": [
        "data1 = \"2026-01-02\"\n",
        "data2 = \"26-01-02\""
      ],
      "execution_count": 64,
      "outputs": []
    },
    {
      "cell_type": "code",
      "metadata": {
        "id": "nj6O5YplE2UW",
        "outputId": "1bd91f53-1b12-4e6a-d007-00654e07411a",
        "colab": {
          "base_uri": "https://localhost:8080/",
          "height": 35
        }
      },
      "source": [
        "re.sub(r\"(\\d{2,4})-(\\d{1,2})-(\\d{1,2})\", \"\\\\3-\\\\2-\\\\1\", data1)"
      ],
      "execution_count": 70,
      "outputs": [
        {
          "output_type": "execute_result",
          "data": {
            "application/vnd.google.colaboratory.intrinsic+json": {
              "type": "string"
            },
            "text/plain": [
              "'02-01-2026'"
            ]
          },
          "metadata": {
            "tags": []
          },
          "execution_count": 70
        }
      ]
    },
    {
      "cell_type": "code",
      "metadata": {
        "id": "XXUQO2aaisRz",
        "outputId": "0a7a1f60-6d93-4e2d-eaf5-cb6e59c3d7d0",
        "colab": {
          "base_uri": "https://localhost:8080/",
          "height": 35
        }
      },
      "source": [
        "re.sub(r\"(\\d{2,4})-(\\d{1,2})-(\\d{1,2})\", \"\\\\3-\\\\2-\\\\1\", data2)"
      ],
      "execution_count": 69,
      "outputs": [
        {
          "output_type": "execute_result",
          "data": {
            "application/vnd.google.colaboratory.intrinsic+json": {
              "type": "string"
            },
            "text/plain": [
              "'02-01-26'"
            ]
          },
          "metadata": {
            "tags": []
          },
          "execution_count": 69
        }
      ]
    },
    {
      "cell_type": "markdown",
      "metadata": {
        "id": "B-ipfjt3E2Ub"
      },
      "source": [
        "5. Escreva uma expressão para remover o excesso de espaço"
      ]
    },
    {
      "cell_type": "code",
      "metadata": {
        "id": "qS0_qEuME2Uc"
      },
      "source": [
        "string = \"Exercídios     Expressão    Regular\""
      ],
      "execution_count": 71,
      "outputs": []
    },
    {
      "cell_type": "code",
      "metadata": {
        "id": "IjfvI0gWE2Uf",
        "outputId": "66ce4d5d-cbdb-468c-b75a-476c43b0e4b3",
        "colab": {
          "base_uri": "https://localhost:8080/",
          "height": 35
        }
      },
      "source": [
        "re.sub(\"\\s+\", \" \", string)"
      ],
      "execution_count": 72,
      "outputs": [
        {
          "output_type": "execute_result",
          "data": {
            "application/vnd.google.colaboratory.intrinsic+json": {
              "type": "string"
            },
            "text/plain": [
              "'Exercídios Expressão Regular'"
            ]
          },
          "metadata": {
            "tags": []
          },
          "execution_count": 72
        }
      ]
    },
    {
      "cell_type": "markdown",
      "metadata": {
        "id": "d0Hmo0vgE2Uj"
      },
      "source": [
        "6. Escreva uma expressão para dividir uma string em letras maiúsculas"
      ]
    },
    {
      "cell_type": "code",
      "metadata": {
        "id": "ODUJ9cftE2Uk"
      },
      "source": [
        "string = \"ExercídiosExpressãoRegularAA\""
      ],
      "execution_count": 73,
      "outputs": []
    },
    {
      "cell_type": "code",
      "metadata": {
        "id": "tMJUMezGE2Up",
        "outputId": "8290353a-3ea7-4fa6-eecf-6151e5f5b1a7",
        "colab": {
          "base_uri": "https://localhost:8080/",
          "height": 33
        }
      },
      "source": [
        "re.findall(r\"[A-Z][^A-Z]*\",string)"
      ],
      "execution_count": 76,
      "outputs": [
        {
          "output_type": "execute_result",
          "data": {
            "text/plain": [
              "['Exercídios', 'Expressão', 'Regular', 'A', 'A']"
            ]
          },
          "metadata": {
            "tags": []
          },
          "execution_count": 76
        }
      ]
    },
    {
      "cell_type": "markdown",
      "metadata": {
        "id": "vhDy3v6dE2Us"
      },
      "source": [
        "7. Escreva uma expressão regular para remover a área de parênteses em uma string\n",
        "\n",
        "\n",
        "- Amostra de Entrada: \n",
        "> * [\"example (.br)\", \"w3resource\", \"github (.com)\", \"stackoverflow (.com)\"] </br>\n",
        "* Saída Esperada: \n",
        "> * example\n",
        "> * w3resource\n",
        "> * github\n",
        "> * stackoverflow"
      ]
    },
    {
      "cell_type": "code",
      "metadata": {
        "id": "FPYMid0HE2Ut"
      },
      "source": [
        "strings = [\"example (.br)\", \"w3resource\", \"github (.com)\", \"stackoverflow (.??)\"]"
      ],
      "execution_count": 78,
      "outputs": []
    },
    {
      "cell_type": "code",
      "metadata": {
        "id": "qAcZMsWyE2Uz",
        "outputId": "1b04e662-2eb9-48fd-dd8c-e3e7ea01654a",
        "colab": {
          "base_uri": "https://localhost:8080/",
          "height": 33
        }
      },
      "source": [
        "[re.sub(\"\\(.*\\)\", \"\", r) for r in strings]"
      ],
      "execution_count": 80,
      "outputs": [
        {
          "output_type": "execute_result",
          "data": {
            "text/plain": [
              "['example ', 'w3resource', 'github ', 'stackoverflow ']"
            ]
          },
          "metadata": {
            "tags": []
          },
          "execution_count": 80
        }
      ]
    },
    {
      "cell_type": "markdown",
      "metadata": {
        "id": "806dfF6gE2U4"
      },
      "source": [
        "8. Escreva um programa para quebrar um texto em sentenças"
      ]
    },
    {
      "cell_type": "code",
      "metadata": {
        "id": "gJrjbSJZE2U5"
      },
      "source": [
        "string = \"Vamos encontrar Padrões nesta string!! Agora é a nossa primeira prática de NLP!! Vamos aprender a procurar padrões!! Belo Horizonte 2020.\""
      ],
      "execution_count": 84,
      "outputs": []
    },
    {
      "cell_type": "code",
      "metadata": {
        "id": "gURnxE_hE2U_",
        "outputId": "02b6e2b8-24c4-4cee-fdb5-39f481f1014d",
        "colab": {
          "base_uri": "https://localhost:8080/",
          "height": 98
        }
      },
      "source": [
        "re.split(\"[!.]+\", string)"
      ],
      "execution_count": 89,
      "outputs": [
        {
          "output_type": "execute_result",
          "data": {
            "text/plain": [
              "['Vamos encontrar Padrões nesta string',\n",
              " ' Agora é a nossa primeira prática de NLP',\n",
              " ' Vamos aprender a procurar padrões',\n",
              " ' Belo Horizonte 2020',\n",
              " '']"
            ]
          },
          "metadata": {
            "tags": []
          },
          "execution_count": 89
        }
      ]
    },
    {
      "cell_type": "markdown",
      "metadata": {
        "id": "zCmVDDmaE2VC"
      },
      "source": [
        "9. Escreva um código para remover os zeros iniciais do IP 216.08.094.196"
      ]
    },
    {
      "cell_type": "code",
      "metadata": {
        "id": "FFWwhn1gE2VD"
      },
      "source": [
        "ip = \"216.08.094.196\""
      ],
      "execution_count": 90,
      "outputs": []
    },
    {
      "cell_type": "code",
      "metadata": {
        "id": "RfZkpPi8E2VG",
        "outputId": "4c2b8f6c-9485-452c-e822-f51e15b49aa4",
        "colab": {
          "base_uri": "https://localhost:8080/",
          "height": 35
        }
      },
      "source": [
        "re.sub(\"\\.0\", \".\", ip)"
      ],
      "execution_count": 91,
      "outputs": [
        {
          "output_type": "execute_result",
          "data": {
            "application/vnd.google.colaboratory.intrinsic+json": {
              "type": "string"
            },
            "text/plain": [
              "'216.8.94.196'"
            ]
          },
          "metadata": {
            "tags": []
          },
          "execution_count": 91
        }
      ]
    },
    {
      "cell_type": "markdown",
      "metadata": {
        "id": "MjxxTNmyE2VI"
      },
      "source": [
        "10. Recupere todos os \"Twitter\" do arquivo http://humanstxt.org/humans.txt\n",
        "\n",
        "Exemplo de como recuperar o texto dete arquivo web:\n",
        "\n",
        "```python\n",
        "import requests\n",
        "response = requests.get('http://humanstxt.org/humans.txt')\n",
        "print(response.text)\n",
        "```\n",
        "\n",
        "Imprima a quantidade de twitters e todos twitters encontrados."
      ]
    },
    {
      "cell_type": "code",
      "metadata": {
        "id": "6uYm4GRRE2VJ"
      },
      "source": [
        "import requests\n",
        "response = requests.get('http://humanstxt.org/humans.txt')\n",
        "print(response.text)"
      ],
      "execution_count": null,
      "outputs": []
    },
    {
      "cell_type": "code",
      "metadata": {
        "id": "a4wtG0nFmLuk"
      },
      "source": [
        "t = re.findall(r\"@\\w+\", response.text)"
      ],
      "execution_count": 99,
      "outputs": []
    },
    {
      "cell_type": "code",
      "metadata": {
        "id": "6LDmG6_1mtqt",
        "outputId": "985ae2e0-dc5f-4402-a583-acea01079c48",
        "colab": {
          "base_uri": "https://localhost:8080/",
          "height": 33
        }
      },
      "source": [
        "len(t)"
      ],
      "execution_count": 100,
      "outputs": [
        {
          "output_type": "execute_result",
          "data": {
            "text/plain": [
              "15"
            ]
          },
          "metadata": {
            "tags": []
          },
          "execution_count": 100
        }
      ]
    },
    {
      "cell_type": "markdown",
      "metadata": {
        "id": "6sYrkoReE2VL"
      },
      "source": [
        "# Técnicas de Pré-processamento"
      ]
    },
    {
      "cell_type": "code",
      "metadata": {
        "id": "bXbwa_tqE2VM",
        "outputId": "f1550f2d-6a0b-49b7-c401-b2a05ded4766",
        "colab": {
          "base_uri": "https://localhost:8080/",
          "height": 1000
        }
      },
      "source": [
        "import nltk\n",
        "import wikipedia\n",
        "import re\n",
        "import spacy\n",
        "from nltk.probability import FreqDist\n",
        "import pt_core_news_sm\n",
        "import en_core_web_sm\n",
        "nltk.download()"
      ],
      "execution_count": 101,
      "outputs": [
        {
          "output_type": "stream",
          "text": [
            "NLTK Downloader\n",
            "---------------------------------------------------------------------------\n",
            "    d) Download   l) List    u) Update   c) Config   h) Help   q) Quit\n",
            "---------------------------------------------------------------------------\n",
            "Downloader> all\n",
            "Command 'all' unrecognized\n",
            "\n",
            "---------------------------------------------------------------------------\n",
            "    d) Download   l) List    u) Update   c) Config   h) Help   q) Quit\n",
            "---------------------------------------------------------------------------\n",
            "Downloader> d\n",
            "\n",
            "Download which package (l=list; x=cancel)?\n",
            "  Identifier> all\n",
            "    Downloading collection 'all'\n",
            "       | \n",
            "       | Downloading package abc to /root/nltk_data...\n",
            "       |   Unzipping corpora/abc.zip.\n",
            "       | Downloading package alpino to /root/nltk_data...\n",
            "       |   Unzipping corpora/alpino.zip.\n",
            "       | Downloading package biocreative_ppi to /root/nltk_data...\n",
            "       |   Unzipping corpora/biocreative_ppi.zip.\n",
            "       | Downloading package brown to /root/nltk_data...\n",
            "       |   Unzipping corpora/brown.zip.\n",
            "       | Downloading package brown_tei to /root/nltk_data...\n",
            "       |   Unzipping corpora/brown_tei.zip.\n",
            "       | Downloading package cess_cat to /root/nltk_data...\n",
            "       |   Unzipping corpora/cess_cat.zip.\n",
            "       | Downloading package cess_esp to /root/nltk_data...\n",
            "       |   Unzipping corpora/cess_esp.zip.\n",
            "       | Downloading package chat80 to /root/nltk_data...\n",
            "       |   Unzipping corpora/chat80.zip.\n",
            "       | Downloading package city_database to /root/nltk_data...\n",
            "       |   Unzipping corpora/city_database.zip.\n",
            "       | Downloading package cmudict to /root/nltk_data...\n",
            "       |   Unzipping corpora/cmudict.zip.\n",
            "       | Downloading package comparative_sentences to\n",
            "       |     /root/nltk_data...\n",
            "       |   Unzipping corpora/comparative_sentences.zip.\n",
            "       | Downloading package comtrans to /root/nltk_data...\n",
            "       | Downloading package conll2000 to /root/nltk_data...\n",
            "       |   Unzipping corpora/conll2000.zip.\n",
            "       | Downloading package conll2002 to /root/nltk_data...\n",
            "       |   Unzipping corpora/conll2002.zip.\n",
            "       | Downloading package conll2007 to /root/nltk_data...\n",
            "       | Downloading package crubadan to /root/nltk_data...\n",
            "       |   Unzipping corpora/crubadan.zip.\n",
            "       | Downloading package dependency_treebank to /root/nltk_data...\n",
            "       |   Unzipping corpora/dependency_treebank.zip.\n",
            "       | Downloading package dolch to /root/nltk_data...\n",
            "       |   Unzipping corpora/dolch.zip.\n",
            "       | Downloading package europarl_raw to /root/nltk_data...\n",
            "       |   Unzipping corpora/europarl_raw.zip.\n",
            "       | Downloading package floresta to /root/nltk_data...\n",
            "       |   Unzipping corpora/floresta.zip.\n",
            "       | Downloading package framenet_v15 to /root/nltk_data...\n",
            "       |   Unzipping corpora/framenet_v15.zip.\n",
            "       | Downloading package framenet_v17 to /root/nltk_data...\n",
            "       |   Unzipping corpora/framenet_v17.zip.\n",
            "       | Downloading package gazetteers to /root/nltk_data...\n",
            "       |   Unzipping corpora/gazetteers.zip.\n",
            "       | Downloading package genesis to /root/nltk_data...\n",
            "       |   Unzipping corpora/genesis.zip.\n",
            "       | Downloading package gutenberg to /root/nltk_data...\n",
            "       |   Unzipping corpora/gutenberg.zip.\n",
            "       | Downloading package ieer to /root/nltk_data...\n",
            "       |   Unzipping corpora/ieer.zip.\n",
            "       | Downloading package inaugural to /root/nltk_data...\n",
            "       |   Unzipping corpora/inaugural.zip.\n",
            "       | Downloading package indian to /root/nltk_data...\n",
            "       |   Unzipping corpora/indian.zip.\n",
            "       | Downloading package jeita to /root/nltk_data...\n",
            "       | Downloading package kimmo to /root/nltk_data...\n",
            "       |   Unzipping corpora/kimmo.zip.\n",
            "       | Downloading package knbc to /root/nltk_data...\n",
            "       | Downloading package lin_thesaurus to /root/nltk_data...\n",
            "       |   Unzipping corpora/lin_thesaurus.zip.\n",
            "       | Downloading package mac_morpho to /root/nltk_data...\n",
            "       |   Unzipping corpora/mac_morpho.zip.\n",
            "       | Downloading package machado to /root/nltk_data...\n",
            "       | Downloading package masc_tagged to /root/nltk_data...\n",
            "       | Downloading package moses_sample to /root/nltk_data...\n",
            "       |   Unzipping models/moses_sample.zip.\n",
            "       | Downloading package movie_reviews to /root/nltk_data...\n",
            "       |   Unzipping corpora/movie_reviews.zip.\n",
            "       | Downloading package names to /root/nltk_data...\n",
            "       |   Unzipping corpora/names.zip.\n",
            "       | Downloading package nombank.1.0 to /root/nltk_data...\n",
            "       | Downloading package nps_chat to /root/nltk_data...\n",
            "       |   Unzipping corpora/nps_chat.zip.\n",
            "       | Downloading package omw to /root/nltk_data...\n",
            "       |   Unzipping corpora/omw.zip.\n",
            "       | Downloading package opinion_lexicon to /root/nltk_data...\n",
            "       |   Unzipping corpora/opinion_lexicon.zip.\n",
            "       | Downloading package paradigms to /root/nltk_data...\n",
            "       |   Unzipping corpora/paradigms.zip.\n",
            "       | Downloading package pil to /root/nltk_data...\n",
            "       |   Unzipping corpora/pil.zip.\n",
            "       | Downloading package pl196x to /root/nltk_data...\n",
            "       |   Unzipping corpora/pl196x.zip.\n",
            "       | Downloading package ppattach to /root/nltk_data...\n",
            "       |   Unzipping corpora/ppattach.zip.\n",
            "       | Downloading package problem_reports to /root/nltk_data...\n",
            "       |   Unzipping corpora/problem_reports.zip.\n",
            "       | Downloading package propbank to /root/nltk_data...\n",
            "       | Downloading package ptb to /root/nltk_data...\n",
            "       |   Unzipping corpora/ptb.zip.\n",
            "       | Downloading package product_reviews_1 to /root/nltk_data...\n",
            "       |   Unzipping corpora/product_reviews_1.zip.\n",
            "       | Downloading package product_reviews_2 to /root/nltk_data...\n",
            "       |   Unzipping corpora/product_reviews_2.zip.\n",
            "       | Downloading package pros_cons to /root/nltk_data...\n",
            "       |   Unzipping corpora/pros_cons.zip.\n",
            "       | Downloading package qc to /root/nltk_data...\n",
            "       |   Unzipping corpora/qc.zip.\n",
            "       | Downloading package reuters to /root/nltk_data...\n",
            "       | Downloading package rte to /root/nltk_data...\n",
            "       |   Unzipping corpora/rte.zip.\n",
            "       | Downloading package semcor to /root/nltk_data...\n",
            "       | Downloading package senseval to /root/nltk_data...\n",
            "       |   Unzipping corpora/senseval.zip.\n",
            "       | Downloading package sentiwordnet to /root/nltk_data...\n",
            "       |   Unzipping corpora/sentiwordnet.zip.\n",
            "       | Downloading package sentence_polarity to /root/nltk_data...\n",
            "       |   Unzipping corpora/sentence_polarity.zip.\n",
            "       | Downloading package shakespeare to /root/nltk_data...\n",
            "       |   Unzipping corpora/shakespeare.zip.\n",
            "       | Downloading package sinica_treebank to /root/nltk_data...\n",
            "       |   Unzipping corpora/sinica_treebank.zip.\n",
            "       | Downloading package smultron to /root/nltk_data...\n",
            "       |   Unzipping corpora/smultron.zip.\n",
            "       | Downloading package state_union to /root/nltk_data...\n",
            "       |   Unzipping corpora/state_union.zip.\n",
            "       | Downloading package stopwords to /root/nltk_data...\n",
            "       |   Unzipping corpora/stopwords.zip.\n",
            "       | Downloading package subjectivity to /root/nltk_data...\n",
            "       |   Unzipping corpora/subjectivity.zip.\n",
            "       | Downloading package swadesh to /root/nltk_data...\n",
            "       |   Unzipping corpora/swadesh.zip.\n",
            "       | Downloading package switchboard to /root/nltk_data...\n",
            "       |   Unzipping corpora/switchboard.zip.\n",
            "       | Downloading package timit to /root/nltk_data...\n",
            "       |   Unzipping corpora/timit.zip.\n",
            "       | Downloading package toolbox to /root/nltk_data...\n",
            "       |   Unzipping corpora/toolbox.zip.\n",
            "       | Downloading package treebank to /root/nltk_data...\n",
            "       |   Unzipping corpora/treebank.zip.\n",
            "       | Downloading package twitter_samples to /root/nltk_data...\n",
            "       |   Unzipping corpora/twitter_samples.zip.\n",
            "       | Downloading package udhr to /root/nltk_data...\n",
            "       |   Unzipping corpora/udhr.zip.\n",
            "       | Downloading package udhr2 to /root/nltk_data...\n",
            "       |   Unzipping corpora/udhr2.zip.\n",
            "       | Downloading package unicode_samples to /root/nltk_data...\n",
            "       |   Unzipping corpora/unicode_samples.zip.\n",
            "       | Downloading package universal_treebanks_v20 to\n",
            "       |     /root/nltk_data...\n",
            "       | Downloading package verbnet to /root/nltk_data...\n",
            "       |   Unzipping corpora/verbnet.zip.\n",
            "       | Downloading package verbnet3 to /root/nltk_data...\n",
            "       |   Unzipping corpora/verbnet3.zip.\n",
            "       | Downloading package webtext to /root/nltk_data...\n",
            "       |   Unzipping corpora/webtext.zip.\n",
            "       | Downloading package wordnet to /root/nltk_data...\n",
            "       |   Unzipping corpora/wordnet.zip.\n",
            "       | Downloading package wordnet_ic to /root/nltk_data...\n",
            "       |   Unzipping corpora/wordnet_ic.zip.\n",
            "       | Downloading package words to /root/nltk_data...\n",
            "       |   Unzipping corpora/words.zip.\n",
            "       | Downloading package ycoe to /root/nltk_data...\n",
            "       |   Unzipping corpora/ycoe.zip.\n",
            "       | Downloading package rslp to /root/nltk_data...\n",
            "       |   Unzipping stemmers/rslp.zip.\n",
            "       | Downloading package maxent_treebank_pos_tagger to\n",
            "       |     /root/nltk_data...\n",
            "       |   Unzipping taggers/maxent_treebank_pos_tagger.zip.\n",
            "       | Downloading package universal_tagset to /root/nltk_data...\n",
            "       |   Unzipping taggers/universal_tagset.zip.\n",
            "       | Downloading package maxent_ne_chunker to /root/nltk_data...\n",
            "       |   Unzipping chunkers/maxent_ne_chunker.zip.\n",
            "       | Downloading package punkt to /root/nltk_data...\n",
            "       |   Unzipping tokenizers/punkt.zip.\n",
            "       | Downloading package book_grammars to /root/nltk_data...\n",
            "       |   Unzipping grammars/book_grammars.zip.\n",
            "       | Downloading package sample_grammars to /root/nltk_data...\n",
            "       |   Unzipping grammars/sample_grammars.zip.\n",
            "       | Downloading package spanish_grammars to /root/nltk_data...\n",
            "       |   Unzipping grammars/spanish_grammars.zip.\n",
            "       | Downloading package basque_grammars to /root/nltk_data...\n",
            "       |   Unzipping grammars/basque_grammars.zip.\n",
            "       | Downloading package large_grammars to /root/nltk_data...\n",
            "       |   Unzipping grammars/large_grammars.zip.\n",
            "       | Downloading package tagsets to /root/nltk_data...\n",
            "       |   Unzipping help/tagsets.zip.\n",
            "       | Downloading package snowball_data to /root/nltk_data...\n",
            "       | Downloading package bllip_wsj_no_aux to /root/nltk_data...\n",
            "       |   Unzipping models/bllip_wsj_no_aux.zip.\n",
            "       | Downloading package word2vec_sample to /root/nltk_data...\n",
            "       |   Unzipping models/word2vec_sample.zip.\n",
            "       | Downloading package panlex_swadesh to /root/nltk_data...\n",
            "       | Downloading package mte_teip5 to /root/nltk_data...\n",
            "       |   Unzipping corpora/mte_teip5.zip.\n",
            "       | Downloading package averaged_perceptron_tagger to\n",
            "       |     /root/nltk_data...\n",
            "       |   Unzipping taggers/averaged_perceptron_tagger.zip.\n",
            "       | Downloading package averaged_perceptron_tagger_ru to\n",
            "       |     /root/nltk_data...\n",
            "       |   Unzipping taggers/averaged_perceptron_tagger_ru.zip.\n",
            "       | Downloading package perluniprops to /root/nltk_data...\n",
            "       |   Unzipping misc/perluniprops.zip.\n",
            "       | Downloading package nonbreaking_prefixes to\n",
            "       |     /root/nltk_data...\n",
            "       |   Unzipping corpora/nonbreaking_prefixes.zip.\n",
            "       | Downloading package vader_lexicon to /root/nltk_data...\n",
            "       | Downloading package porter_test to /root/nltk_data...\n",
            "       |   Unzipping stemmers/porter_test.zip.\n",
            "       | Downloading package wmt15_eval to /root/nltk_data...\n",
            "       |   Unzipping models/wmt15_eval.zip.\n",
            "       | Downloading package mwa_ppdb to /root/nltk_data...\n",
            "       |   Unzipping misc/mwa_ppdb.zip.\n",
            "       | \n",
            "     Done downloading collection all\n",
            "\n",
            "---------------------------------------------------------------------------\n",
            "    d) Download   l) List    u) Update   c) Config   h) Help   q) Quit\n",
            "---------------------------------------------------------------------------\n",
            "Downloader> d\n",
            "\n",
            "Download which package (l=list; x=cancel)?\n",
            "  Identifier> all\n",
            "    Downloading collection 'all'\n",
            "       | \n",
            "       | Downloading package abc to /root/nltk_data...\n",
            "       |   Package abc is already up-to-date!\n",
            "       | Downloading package alpino to /root/nltk_data...\n",
            "       |   Package alpino is already up-to-date!\n",
            "       | Downloading package biocreative_ppi to /root/nltk_data...\n",
            "       |   Package biocreative_ppi is already up-to-date!\n",
            "       | Downloading package brown to /root/nltk_data...\n",
            "       |   Package brown is already up-to-date!\n",
            "       | Downloading package brown_tei to /root/nltk_data...\n",
            "       |   Package brown_tei is already up-to-date!\n",
            "       | Downloading package cess_cat to /root/nltk_data...\n",
            "       |   Package cess_cat is already up-to-date!\n",
            "       | Downloading package cess_esp to /root/nltk_data...\n",
            "       |   Package cess_esp is already up-to-date!\n",
            "       | Downloading package chat80 to /root/nltk_data...\n",
            "       |   Package chat80 is already up-to-date!\n",
            "       | Downloading package city_database to /root/nltk_data...\n",
            "       |   Package city_database is already up-to-date!\n",
            "       | Downloading package cmudict to /root/nltk_data...\n",
            "       |   Package cmudict is already up-to-date!\n",
            "       | Downloading package comparative_sentences to\n",
            "       |     /root/nltk_data...\n",
            "       |   Package comparative_sentences is already up-to-date!\n",
            "       | Downloading package comtrans to /root/nltk_data...\n",
            "       |   Package comtrans is already up-to-date!\n",
            "       | Downloading package conll2000 to /root/nltk_data...\n",
            "       |   Package conll2000 is already up-to-date!\n",
            "       | Downloading package conll2002 to /root/nltk_data...\n",
            "       |   Package conll2002 is already up-to-date!\n",
            "       | Downloading package conll2007 to /root/nltk_data...\n",
            "       |   Package conll2007 is already up-to-date!\n",
            "       | Downloading package crubadan to /root/nltk_data...\n",
            "       |   Package crubadan is already up-to-date!\n",
            "       | Downloading package dependency_treebank to /root/nltk_data...\n",
            "       |   Package dependency_treebank is already up-to-date!\n",
            "       | Downloading package dolch to /root/nltk_data...\n",
            "       |   Package dolch is already up-to-date!\n",
            "       | Downloading package europarl_raw to /root/nltk_data...\n",
            "       |   Package europarl_raw is already up-to-date!\n",
            "       | Downloading package floresta to /root/nltk_data...\n",
            "       |   Package floresta is already up-to-date!\n",
            "       | Downloading package framenet_v15 to /root/nltk_data...\n",
            "       |   Package framenet_v15 is already up-to-date!\n",
            "       | Downloading package framenet_v17 to /root/nltk_data...\n",
            "       |   Package framenet_v17 is already up-to-date!\n",
            "       | Downloading package gazetteers to /root/nltk_data...\n",
            "       |   Package gazetteers is already up-to-date!\n",
            "       | Downloading package genesis to /root/nltk_data...\n",
            "       |   Package genesis is already up-to-date!\n",
            "       | Downloading package gutenberg to /root/nltk_data...\n",
            "       |   Package gutenberg is already up-to-date!\n",
            "       | Downloading package ieer to /root/nltk_data...\n",
            "       |   Package ieer is already up-to-date!\n",
            "       | Downloading package inaugural to /root/nltk_data...\n",
            "       |   Package inaugural is already up-to-date!\n",
            "       | Downloading package indian to /root/nltk_data...\n",
            "       |   Package indian is already up-to-date!\n",
            "       | Downloading package jeita to /root/nltk_data...\n",
            "       |   Package jeita is already up-to-date!\n",
            "       | Downloading package kimmo to /root/nltk_data...\n",
            "       |   Package kimmo is already up-to-date!\n",
            "       | Downloading package knbc to /root/nltk_data...\n",
            "       |   Package knbc is already up-to-date!\n",
            "       | Downloading package lin_thesaurus to /root/nltk_data...\n",
            "       |   Package lin_thesaurus is already up-to-date!\n",
            "       | Downloading package mac_morpho to /root/nltk_data...\n",
            "       |   Package mac_morpho is already up-to-date!\n",
            "       | Downloading package machado to /root/nltk_data...\n",
            "       |   Package machado is already up-to-date!\n",
            "       | Downloading package masc_tagged to /root/nltk_data...\n",
            "       |   Package masc_tagged is already up-to-date!\n",
            "       | Downloading package moses_sample to /root/nltk_data...\n",
            "       |   Package moses_sample is already up-to-date!\n",
            "       | Downloading package movie_reviews to /root/nltk_data...\n",
            "       |   Package movie_reviews is already up-to-date!\n",
            "       | Downloading package names to /root/nltk_data...\n",
            "       |   Package names is already up-to-date!\n",
            "       | Downloading package nombank.1.0 to /root/nltk_data...\n",
            "       |   Package nombank.1.0 is already up-to-date!\n",
            "       | Downloading package nps_chat to /root/nltk_data...\n",
            "       |   Package nps_chat is already up-to-date!\n",
            "       | Downloading package omw to /root/nltk_data...\n",
            "       |   Package omw is already up-to-date!\n",
            "       | Downloading package opinion_lexicon to /root/nltk_data...\n",
            "       |   Package opinion_lexicon is already up-to-date!\n",
            "       | Downloading package paradigms to /root/nltk_data...\n",
            "       |   Package paradigms is already up-to-date!\n",
            "       | Downloading package pil to /root/nltk_data...\n",
            "       |   Package pil is already up-to-date!\n",
            "       | Downloading package pl196x to /root/nltk_data...\n",
            "       |   Package pl196x is already up-to-date!\n",
            "       | Downloading package ppattach to /root/nltk_data...\n",
            "       |   Package ppattach is already up-to-date!\n",
            "       | Downloading package problem_reports to /root/nltk_data...\n",
            "       |   Package problem_reports is already up-to-date!\n",
            "       | Downloading package propbank to /root/nltk_data...\n",
            "       |   Package propbank is already up-to-date!\n",
            "       | Downloading package ptb to /root/nltk_data...\n",
            "       |   Package ptb is already up-to-date!\n",
            "       | Downloading package product_reviews_1 to /root/nltk_data...\n",
            "       |   Package product_reviews_1 is already up-to-date!\n",
            "       | Downloading package product_reviews_2 to /root/nltk_data...\n",
            "       |   Package product_reviews_2 is already up-to-date!\n",
            "       | Downloading package pros_cons to /root/nltk_data...\n",
            "       |   Package pros_cons is already up-to-date!\n",
            "       | Downloading package qc to /root/nltk_data...\n",
            "       |   Package qc is already up-to-date!\n",
            "       | Downloading package reuters to /root/nltk_data...\n",
            "       |   Package reuters is already up-to-date!\n",
            "       | Downloading package rte to /root/nltk_data...\n",
            "       |   Package rte is already up-to-date!\n",
            "       | Downloading package semcor to /root/nltk_data...\n",
            "       |   Package semcor is already up-to-date!\n",
            "       | Downloading package senseval to /root/nltk_data...\n",
            "       |   Package senseval is already up-to-date!\n",
            "       | Downloading package sentiwordnet to /root/nltk_data...\n",
            "       |   Package sentiwordnet is already up-to-date!\n",
            "       | Downloading package sentence_polarity to /root/nltk_data...\n",
            "       |   Package sentence_polarity is already up-to-date!\n",
            "       | Downloading package shakespeare to /root/nltk_data...\n",
            "       |   Package shakespeare is already up-to-date!\n",
            "       | Downloading package sinica_treebank to /root/nltk_data...\n",
            "       |   Package sinica_treebank is already up-to-date!\n",
            "       | Downloading package smultron to /root/nltk_data...\n",
            "       |   Package smultron is already up-to-date!\n",
            "       | Downloading package state_union to /root/nltk_data...\n",
            "       |   Package state_union is already up-to-date!\n",
            "       | Downloading package stopwords to /root/nltk_data...\n",
            "       |   Package stopwords is already up-to-date!\n",
            "       | Downloading package subjectivity to /root/nltk_data...\n",
            "       |   Package subjectivity is already up-to-date!\n",
            "       | Downloading package swadesh to /root/nltk_data...\n",
            "       |   Package swadesh is already up-to-date!\n",
            "       | Downloading package switchboard to /root/nltk_data...\n",
            "       |   Package switchboard is already up-to-date!\n",
            "       | Downloading package timit to /root/nltk_data...\n",
            "       |   Package timit is already up-to-date!\n",
            "       | Downloading package toolbox to /root/nltk_data...\n",
            "       |   Package toolbox is already up-to-date!\n",
            "       | Downloading package treebank to /root/nltk_data...\n",
            "       |   Package treebank is already up-to-date!\n",
            "       | Downloading package twitter_samples to /root/nltk_data...\n",
            "       |   Package twitter_samples is already up-to-date!\n",
            "       | Downloading package udhr to /root/nltk_data...\n",
            "       |   Package udhr is already up-to-date!\n",
            "       | Downloading package udhr2 to /root/nltk_data...\n",
            "       |   Package udhr2 is already up-to-date!\n",
            "       | Downloading package unicode_samples to /root/nltk_data...\n",
            "       |   Package unicode_samples is already up-to-date!\n",
            "       | Downloading package universal_treebanks_v20 to\n",
            "       |     /root/nltk_data...\n",
            "       |   Package universal_treebanks_v20 is already up-to-date!\n",
            "       | Downloading package verbnet to /root/nltk_data...\n",
            "       |   Package verbnet is already up-to-date!\n",
            "       | Downloading package verbnet3 to /root/nltk_data...\n",
            "       |   Package verbnet3 is already up-to-date!\n",
            "       | Downloading package webtext to /root/nltk_data...\n",
            "       |   Package webtext is already up-to-date!\n",
            "       | Downloading package wordnet to /root/nltk_data...\n",
            "       |   Package wordnet is already up-to-date!\n",
            "       | Downloading package wordnet_ic to /root/nltk_data...\n",
            "       |   Package wordnet_ic is already up-to-date!\n",
            "       | Downloading package words to /root/nltk_data...\n",
            "       |   Package words is already up-to-date!\n",
            "       | Downloading package ycoe to /root/nltk_data...\n",
            "       |   Package ycoe is already up-to-date!\n",
            "       | Downloading package rslp to /root/nltk_data...\n",
            "       |   Package rslp is already up-to-date!\n",
            "       | Downloading package maxent_treebank_pos_tagger to\n",
            "       |     /root/nltk_data...\n",
            "       |   Package maxent_treebank_pos_tagger is already up-to-date!\n",
            "       | Downloading package universal_tagset to /root/nltk_data...\n",
            "       |   Package universal_tagset is already up-to-date!\n",
            "       | Downloading package maxent_ne_chunker to /root/nltk_data...\n",
            "       |   Package maxent_ne_chunker is already up-to-date!\n",
            "       | Downloading package punkt to /root/nltk_data...\n",
            "       |   Package punkt is already up-to-date!\n",
            "       | Downloading package book_grammars to /root/nltk_data...\n",
            "       |   Package book_grammars is already up-to-date!\n",
            "       | Downloading package sample_grammars to /root/nltk_data...\n",
            "       |   Package sample_grammars is already up-to-date!\n",
            "       | Downloading package spanish_grammars to /root/nltk_data...\n",
            "       |   Package spanish_grammars is already up-to-date!\n",
            "       | Downloading package basque_grammars to /root/nltk_data...\n",
            "       |   Package basque_grammars is already up-to-date!\n",
            "       | Downloading package large_grammars to /root/nltk_data...\n",
            "       |   Package large_grammars is already up-to-date!\n",
            "       | Downloading package tagsets to /root/nltk_data...\n",
            "       |   Package tagsets is already up-to-date!\n",
            "       | Downloading package snowball_data to /root/nltk_data...\n",
            "       |   Package snowball_data is already up-to-date!\n",
            "       | Downloading package bllip_wsj_no_aux to /root/nltk_data...\n",
            "       |   Package bllip_wsj_no_aux is already up-to-date!\n",
            "       | Downloading package word2vec_sample to /root/nltk_data...\n",
            "       |   Package word2vec_sample is already up-to-date!\n",
            "       | Downloading package panlex_swadesh to /root/nltk_data...\n",
            "       |   Package panlex_swadesh is already up-to-date!\n",
            "       | Downloading package mte_teip5 to /root/nltk_data...\n",
            "       |   Package mte_teip5 is already up-to-date!\n",
            "       | Downloading package averaged_perceptron_tagger to\n",
            "       |     /root/nltk_data...\n",
            "       |   Package averaged_perceptron_tagger is already up-to-date!\n",
            "       | Downloading package averaged_perceptron_tagger_ru to\n",
            "       |     /root/nltk_data...\n",
            "       |   Package averaged_perceptron_tagger_ru is already up-to-\n",
            "       |       date!\n",
            "       | Downloading package perluniprops to /root/nltk_data...\n",
            "       |   Package perluniprops is already up-to-date!\n",
            "       | Downloading package nonbreaking_prefixes to\n",
            "       |     /root/nltk_data...\n",
            "       |   Package nonbreaking_prefixes is already up-to-date!\n",
            "       | Downloading package vader_lexicon to /root/nltk_data...\n",
            "       |   Package vader_lexicon is already up-to-date!\n",
            "       | Downloading package porter_test to /root/nltk_data...\n",
            "       |   Package porter_test is already up-to-date!\n",
            "       | Downloading package wmt15_eval to /root/nltk_data...\n",
            "       |   Package wmt15_eval is already up-to-date!\n",
            "       | Downloading package mwa_ppdb to /root/nltk_data...\n",
            "       |   Package mwa_ppdb is already up-to-date!\n",
            "       | \n",
            "     Done downloading collection all\n",
            "\n",
            "---------------------------------------------------------------------------\n",
            "    d) Download   l) List    u) Update   c) Config   h) Help   q) Quit\n",
            "---------------------------------------------------------------------------\n",
            "Downloader> d\n",
            "\n",
            "Download which package (l=list; x=cancel)?\n",
            "  Identifier> all\n",
            "    Downloading collection 'all'\n",
            "       | \n",
            "       | Downloading package abc to /root/nltk_data...\n",
            "       |   Package abc is already up-to-date!\n",
            "       | Downloading package alpino to /root/nltk_data...\n",
            "       |   Package alpino is already up-to-date!\n",
            "       | Downloading package biocreative_ppi to /root/nltk_data...\n",
            "       |   Package biocreative_ppi is already up-to-date!\n",
            "       | Downloading package brown to /root/nltk_data...\n",
            "       |   Package brown is already up-to-date!\n",
            "       | Downloading package brown_tei to /root/nltk_data...\n",
            "       |   Package brown_tei is already up-to-date!\n",
            "       | Downloading package cess_cat to /root/nltk_data...\n",
            "       |   Package cess_cat is already up-to-date!\n",
            "       | Downloading package cess_esp to /root/nltk_data...\n",
            "       |   Package cess_esp is already up-to-date!\n",
            "       | Downloading package chat80 to /root/nltk_data...\n",
            "       |   Package chat80 is already up-to-date!\n",
            "       | Downloading package city_database to /root/nltk_data...\n",
            "       |   Package city_database is already up-to-date!\n",
            "       | Downloading package cmudict to /root/nltk_data...\n",
            "       |   Package cmudict is already up-to-date!\n",
            "       | Downloading package comparative_sentences to\n",
            "       |     /root/nltk_data...\n",
            "       |   Package comparative_sentences is already up-to-date!\n",
            "       | Downloading package comtrans to /root/nltk_data...\n",
            "       |   Package comtrans is already up-to-date!\n",
            "       | Downloading package conll2000 to /root/nltk_data...\n",
            "       |   Package conll2000 is already up-to-date!\n",
            "       | Downloading package conll2002 to /root/nltk_data...\n",
            "       |   Package conll2002 is already up-to-date!\n",
            "       | Downloading package conll2007 to /root/nltk_data...\n",
            "       |   Package conll2007 is already up-to-date!\n",
            "       | Downloading package crubadan to /root/nltk_data...\n",
            "       |   Package crubadan is already up-to-date!\n",
            "       | Downloading package dependency_treebank to /root/nltk_data...\n",
            "       |   Package dependency_treebank is already up-to-date!\n",
            "       | Downloading package dolch to /root/nltk_data...\n",
            "       |   Package dolch is already up-to-date!\n",
            "       | Downloading package europarl_raw to /root/nltk_data...\n",
            "       |   Package europarl_raw is already up-to-date!\n",
            "       | Downloading package floresta to /root/nltk_data...\n",
            "       |   Package floresta is already up-to-date!\n",
            "       | Downloading package framenet_v15 to /root/nltk_data...\n",
            "       |   Package framenet_v15 is already up-to-date!\n",
            "       | Downloading package framenet_v17 to /root/nltk_data...\n",
            "       |   Package framenet_v17 is already up-to-date!\n",
            "       | Downloading package gazetteers to /root/nltk_data...\n",
            "       |   Package gazetteers is already up-to-date!\n",
            "       | Downloading package genesis to /root/nltk_data...\n",
            "       |   Package genesis is already up-to-date!\n",
            "       | Downloading package gutenberg to /root/nltk_data...\n",
            "       |   Package gutenberg is already up-to-date!\n",
            "       | Downloading package ieer to /root/nltk_data...\n",
            "       |   Package ieer is already up-to-date!\n",
            "       | Downloading package inaugural to /root/nltk_data...\n",
            "       |   Package inaugural is already up-to-date!\n",
            "       | Downloading package indian to /root/nltk_data...\n",
            "       |   Package indian is already up-to-date!\n",
            "       | Downloading package jeita to /root/nltk_data...\n",
            "       |   Package jeita is already up-to-date!\n",
            "       | Downloading package kimmo to /root/nltk_data...\n",
            "       |   Package kimmo is already up-to-date!\n",
            "       | Downloading package knbc to /root/nltk_data...\n",
            "       |   Package knbc is already up-to-date!\n",
            "       | Downloading package lin_thesaurus to /root/nltk_data...\n",
            "       |   Package lin_thesaurus is already up-to-date!\n",
            "       | Downloading package mac_morpho to /root/nltk_data...\n",
            "       |   Package mac_morpho is already up-to-date!\n",
            "       | Downloading package machado to /root/nltk_data...\n",
            "       |   Package machado is already up-to-date!\n",
            "       | Downloading package masc_tagged to /root/nltk_data...\n",
            "       |   Package masc_tagged is already up-to-date!\n",
            "       | Downloading package moses_sample to /root/nltk_data...\n",
            "       |   Package moses_sample is already up-to-date!\n",
            "       | Downloading package movie_reviews to /root/nltk_data...\n",
            "       |   Package movie_reviews is already up-to-date!\n",
            "       | Downloading package names to /root/nltk_data...\n",
            "       |   Package names is already up-to-date!\n",
            "       | Downloading package nombank.1.0 to /root/nltk_data...\n",
            "       |   Package nombank.1.0 is already up-to-date!\n",
            "       | Downloading package nps_chat to /root/nltk_data...\n",
            "       |   Package nps_chat is already up-to-date!\n",
            "       | Downloading package omw to /root/nltk_data...\n",
            "       |   Package omw is already up-to-date!\n",
            "       | Downloading package opinion_lexicon to /root/nltk_data...\n",
            "       |   Package opinion_lexicon is already up-to-date!\n",
            "       | Downloading package paradigms to /root/nltk_data...\n",
            "       |   Package paradigms is already up-to-date!\n",
            "       | Downloading package pil to /root/nltk_data...\n",
            "       |   Package pil is already up-to-date!\n",
            "       | Downloading package pl196x to /root/nltk_data...\n",
            "       |   Package pl196x is already up-to-date!\n",
            "       | Downloading package ppattach to /root/nltk_data...\n",
            "       |   Package ppattach is already up-to-date!\n",
            "       | Downloading package problem_reports to /root/nltk_data...\n",
            "       |   Package problem_reports is already up-to-date!\n",
            "       | Downloading package propbank to /root/nltk_data...\n",
            "       |   Package propbank is already up-to-date!\n",
            "       | Downloading package ptb to /root/nltk_data...\n",
            "       |   Package ptb is already up-to-date!\n",
            "       | Downloading package product_reviews_1 to /root/nltk_data...\n",
            "       |   Package product_reviews_1 is already up-to-date!\n",
            "       | Downloading package product_reviews_2 to /root/nltk_data...\n",
            "       |   Package product_reviews_2 is already up-to-date!\n",
            "       | Downloading package pros_cons to /root/nltk_data...\n",
            "       |   Package pros_cons is already up-to-date!\n",
            "       | Downloading package qc to /root/nltk_data...\n",
            "       |   Package qc is already up-to-date!\n",
            "       | Downloading package reuters to /root/nltk_data...\n",
            "       |   Package reuters is already up-to-date!\n",
            "       | Downloading package rte to /root/nltk_data...\n",
            "       |   Package rte is already up-to-date!\n",
            "       | Downloading package semcor to /root/nltk_data...\n",
            "       |   Package semcor is already up-to-date!\n",
            "       | Downloading package senseval to /root/nltk_data...\n",
            "       |   Package senseval is already up-to-date!\n",
            "       | Downloading package sentiwordnet to /root/nltk_data...\n",
            "       |   Package sentiwordnet is already up-to-date!\n",
            "       | Downloading package sentence_polarity to /root/nltk_data...\n",
            "       |   Package sentence_polarity is already up-to-date!\n",
            "       | Downloading package shakespeare to /root/nltk_data...\n",
            "       |   Package shakespeare is already up-to-date!\n",
            "       | Downloading package sinica_treebank to /root/nltk_data...\n",
            "       |   Package sinica_treebank is already up-to-date!\n",
            "       | Downloading package smultron to /root/nltk_data...\n",
            "       |   Package smultron is already up-to-date!\n",
            "       | Downloading package state_union to /root/nltk_data...\n",
            "       |   Package state_union is already up-to-date!\n",
            "       | Downloading package stopwords to /root/nltk_data...\n",
            "       |   Package stopwords is already up-to-date!\n",
            "       | Downloading package subjectivity to /root/nltk_data...\n",
            "       |   Package subjectivity is already up-to-date!\n",
            "       | Downloading package swadesh to /root/nltk_data...\n",
            "       |   Package swadesh is already up-to-date!\n",
            "       | Downloading package switchboard to /root/nltk_data...\n",
            "       |   Package switchboard is already up-to-date!\n",
            "       | Downloading package timit to /root/nltk_data...\n",
            "       |   Package timit is already up-to-date!\n",
            "       | Downloading package toolbox to /root/nltk_data...\n",
            "       |   Package toolbox is already up-to-date!\n",
            "       | Downloading package treebank to /root/nltk_data...\n",
            "       |   Package treebank is already up-to-date!\n",
            "       | Downloading package twitter_samples to /root/nltk_data...\n",
            "       |   Package twitter_samples is already up-to-date!\n",
            "       | Downloading package udhr to /root/nltk_data...\n",
            "       |   Package udhr is already up-to-date!\n",
            "       | Downloading package udhr2 to /root/nltk_data...\n",
            "       |   Package udhr2 is already up-to-date!\n",
            "       | Downloading package unicode_samples to /root/nltk_data...\n",
            "       |   Package unicode_samples is already up-to-date!\n",
            "       | Downloading package universal_treebanks_v20 to\n",
            "       |     /root/nltk_data...\n",
            "       |   Package universal_treebanks_v20 is already up-to-date!\n",
            "       | Downloading package verbnet to /root/nltk_data...\n",
            "       |   Package verbnet is already up-to-date!\n",
            "       | Downloading package verbnet3 to /root/nltk_data...\n",
            "       |   Package verbnet3 is already up-to-date!\n",
            "       | Downloading package webtext to /root/nltk_data...\n",
            "       |   Package webtext is already up-to-date!\n",
            "       | Downloading package wordnet to /root/nltk_data...\n",
            "       |   Package wordnet is already up-to-date!\n",
            "       | Downloading package wordnet_ic to /root/nltk_data...\n",
            "       |   Package wordnet_ic is already up-to-date!\n",
            "       | Downloading package words to /root/nltk_data...\n",
            "       |   Package words is already up-to-date!\n",
            "       | Downloading package ycoe to /root/nltk_data...\n",
            "       |   Package ycoe is already up-to-date!\n",
            "       | Downloading package rslp to /root/nltk_data...\n",
            "       |   Package rslp is already up-to-date!\n",
            "       | Downloading package maxent_treebank_pos_tagger to\n",
            "       |     /root/nltk_data...\n",
            "       |   Package maxent_treebank_pos_tagger is already up-to-date!\n",
            "       | Downloading package universal_tagset to /root/nltk_data...\n",
            "       |   Package universal_tagset is already up-to-date!\n",
            "       | Downloading package maxent_ne_chunker to /root/nltk_data...\n",
            "       |   Package maxent_ne_chunker is already up-to-date!\n",
            "       | Downloading package punkt to /root/nltk_data...\n",
            "       |   Package punkt is already up-to-date!\n",
            "       | Downloading package book_grammars to /root/nltk_data...\n",
            "       |   Package book_grammars is already up-to-date!\n",
            "       | Downloading package sample_grammars to /root/nltk_data...\n",
            "       |   Package sample_grammars is already up-to-date!\n",
            "       | Downloading package spanish_grammars to /root/nltk_data...\n",
            "       |   Package spanish_grammars is already up-to-date!\n",
            "       | Downloading package basque_grammars to /root/nltk_data...\n",
            "       |   Package basque_grammars is already up-to-date!\n",
            "       | Downloading package large_grammars to /root/nltk_data...\n",
            "       |   Package large_grammars is already up-to-date!\n",
            "       | Downloading package tagsets to /root/nltk_data...\n",
            "       |   Package tagsets is already up-to-date!\n",
            "       | Downloading package snowball_data to /root/nltk_data...\n",
            "       |   Package snowball_data is already up-to-date!\n",
            "       | Downloading package bllip_wsj_no_aux to /root/nltk_data...\n",
            "       |   Package bllip_wsj_no_aux is already up-to-date!\n",
            "       | Downloading package word2vec_sample to /root/nltk_data...\n",
            "       |   Package word2vec_sample is already up-to-date!\n",
            "       | Downloading package panlex_swadesh to /root/nltk_data...\n",
            "       |   Package panlex_swadesh is already up-to-date!\n",
            "       | Downloading package mte_teip5 to /root/nltk_data...\n",
            "       |   Package mte_teip5 is already up-to-date!\n",
            "       | Downloading package averaged_perceptron_tagger to\n",
            "       |     /root/nltk_data...\n",
            "       |   Package averaged_perceptron_tagger is already up-to-date!\n",
            "       | Downloading package averaged_perceptron_tagger_ru to\n",
            "       |     /root/nltk_data...\n",
            "       |   Package averaged_perceptron_tagger_ru is already up-to-\n",
            "       |       date!\n",
            "       | Downloading package perluniprops to /root/nltk_data...\n",
            "       |   Package perluniprops is already up-to-date!\n",
            "       | Downloading package nonbreaking_prefixes to\n",
            "       |     /root/nltk_data...\n",
            "       |   Package nonbreaking_prefixes is already up-to-date!\n",
            "       | Downloading package vader_lexicon to /root/nltk_data...\n",
            "       |   Package vader_lexicon is already up-to-date!\n",
            "       | Downloading package porter_test to /root/nltk_data...\n",
            "       |   Package porter_test is already up-to-date!\n",
            "       | Downloading package wmt15_eval to /root/nltk_data...\n",
            "       |   Package wmt15_eval is already up-to-date!\n",
            "       | Downloading package mwa_ppdb to /root/nltk_data...\n",
            "       |   Package mwa_ppdb is already up-to-date!\n",
            "       | \n",
            "     Done downloading collection all\n",
            "\n",
            "---------------------------------------------------------------------------\n",
            "    d) Download   l) List    u) Update   c) Config   h) Help   q) Quit\n",
            "---------------------------------------------------------------------------\n",
            "Downloader> d\n",
            "\n",
            "Download which package (l=list; x=cancel)?\n",
            "  Identifier> all\n",
            "    Downloading collection 'all'\n",
            "       | \n",
            "       | Downloading package abc to /root/nltk_data...\n",
            "       |   Package abc is already up-to-date!\n",
            "       | Downloading package alpino to /root/nltk_data...\n",
            "       |   Package alpino is already up-to-date!\n",
            "       | Downloading package biocreative_ppi to /root/nltk_data...\n",
            "       |   Package biocreative_ppi is already up-to-date!\n",
            "       | Downloading package brown to /root/nltk_data...\n",
            "       |   Package brown is already up-to-date!\n",
            "       | Downloading package brown_tei to /root/nltk_data...\n",
            "       |   Package brown_tei is already up-to-date!\n",
            "       | Downloading package cess_cat to /root/nltk_data...\n",
            "       |   Package cess_cat is already up-to-date!\n",
            "       | Downloading package cess_esp to /root/nltk_data...\n",
            "       |   Package cess_esp is already up-to-date!\n",
            "       | Downloading package chat80 to /root/nltk_data...\n",
            "       |   Package chat80 is already up-to-date!\n",
            "       | Downloading package city_database to /root/nltk_data...\n",
            "       |   Package city_database is already up-to-date!\n",
            "       | Downloading package cmudict to /root/nltk_data...\n",
            "       |   Package cmudict is already up-to-date!\n",
            "       | Downloading package comparative_sentences to\n",
            "       |     /root/nltk_data...\n",
            "       |   Package comparative_sentences is already up-to-date!\n",
            "       | Downloading package comtrans to /root/nltk_data...\n",
            "       |   Package comtrans is already up-to-date!\n",
            "       | Downloading package conll2000 to /root/nltk_data...\n",
            "       |   Package conll2000 is already up-to-date!\n",
            "       | Downloading package conll2002 to /root/nltk_data...\n",
            "       |   Package conll2002 is already up-to-date!\n",
            "       | Downloading package conll2007 to /root/nltk_data...\n",
            "       |   Package conll2007 is already up-to-date!\n",
            "       | Downloading package crubadan to /root/nltk_data...\n",
            "       |   Package crubadan is already up-to-date!\n",
            "       | Downloading package dependency_treebank to /root/nltk_data...\n",
            "       |   Package dependency_treebank is already up-to-date!\n",
            "       | Downloading package dolch to /root/nltk_data...\n",
            "       |   Package dolch is already up-to-date!\n",
            "       | Downloading package europarl_raw to /root/nltk_data...\n",
            "       |   Package europarl_raw is already up-to-date!\n",
            "       | Downloading package floresta to /root/nltk_data...\n",
            "       |   Package floresta is already up-to-date!\n",
            "       | Downloading package framenet_v15 to /root/nltk_data...\n",
            "       |   Package framenet_v15 is already up-to-date!\n",
            "       | Downloading package framenet_v17 to /root/nltk_data...\n",
            "       |   Package framenet_v17 is already up-to-date!\n",
            "       | Downloading package gazetteers to /root/nltk_data...\n",
            "       |   Package gazetteers is already up-to-date!\n",
            "       | Downloading package genesis to /root/nltk_data...\n",
            "       |   Package genesis is already up-to-date!\n",
            "       | Downloading package gutenberg to /root/nltk_data...\n",
            "       |   Package gutenberg is already up-to-date!\n",
            "       | Downloading package ieer to /root/nltk_data...\n",
            "       |   Package ieer is already up-to-date!\n",
            "       | Downloading package inaugural to /root/nltk_data...\n",
            "       |   Package inaugural is already up-to-date!\n",
            "       | Downloading package indian to /root/nltk_data...\n",
            "       |   Package indian is already up-to-date!\n",
            "       | Downloading package jeita to /root/nltk_data...\n",
            "       |   Package jeita is already up-to-date!\n",
            "       | Downloading package kimmo to /root/nltk_data...\n",
            "       |   Package kimmo is already up-to-date!\n",
            "       | Downloading package knbc to /root/nltk_data...\n",
            "       |   Package knbc is already up-to-date!\n",
            "       | Downloading package lin_thesaurus to /root/nltk_data...\n",
            "       |   Package lin_thesaurus is already up-to-date!\n",
            "       | Downloading package mac_morpho to /root/nltk_data...\n",
            "       |   Package mac_morpho is already up-to-date!\n",
            "       | Downloading package machado to /root/nltk_data...\n",
            "       |   Package machado is already up-to-date!\n",
            "       | Downloading package masc_tagged to /root/nltk_data...\n",
            "       |   Package masc_tagged is already up-to-date!\n",
            "       | Downloading package moses_sample to /root/nltk_data...\n",
            "       |   Package moses_sample is already up-to-date!\n",
            "       | Downloading package movie_reviews to /root/nltk_data...\n",
            "       |   Package movie_reviews is already up-to-date!\n",
            "       | Downloading package names to /root/nltk_data...\n",
            "       |   Package names is already up-to-date!\n",
            "       | Downloading package nombank.1.0 to /root/nltk_data...\n",
            "       |   Package nombank.1.0 is already up-to-date!\n",
            "       | Downloading package nps_chat to /root/nltk_data...\n",
            "       |   Package nps_chat is already up-to-date!\n",
            "       | Downloading package omw to /root/nltk_data...\n",
            "       |   Package omw is already up-to-date!\n",
            "       | Downloading package opinion_lexicon to /root/nltk_data...\n",
            "       |   Package opinion_lexicon is already up-to-date!\n",
            "       | Downloading package paradigms to /root/nltk_data...\n",
            "       |   Package paradigms is already up-to-date!\n",
            "       | Downloading package pil to /root/nltk_data...\n",
            "       |   Package pil is already up-to-date!\n",
            "       | Downloading package pl196x to /root/nltk_data...\n",
            "       |   Package pl196x is already up-to-date!\n",
            "       | Downloading package ppattach to /root/nltk_data...\n",
            "       |   Package ppattach is already up-to-date!\n",
            "       | Downloading package problem_reports to /root/nltk_data...\n",
            "       |   Package problem_reports is already up-to-date!\n",
            "       | Downloading package propbank to /root/nltk_data...\n",
            "       |   Package propbank is already up-to-date!\n",
            "       | Downloading package ptb to /root/nltk_data...\n",
            "       |   Package ptb is already up-to-date!\n",
            "       | Downloading package product_reviews_1 to /root/nltk_data...\n",
            "       |   Package product_reviews_1 is already up-to-date!\n",
            "       | Downloading package product_reviews_2 to /root/nltk_data...\n",
            "       |   Package product_reviews_2 is already up-to-date!\n",
            "       | Downloading package pros_cons to /root/nltk_data...\n",
            "       |   Package pros_cons is already up-to-date!\n",
            "       | Downloading package qc to /root/nltk_data...\n",
            "       |   Package qc is already up-to-date!\n",
            "       | Downloading package reuters to /root/nltk_data...\n",
            "       |   Package reuters is already up-to-date!\n",
            "       | Downloading package rte to /root/nltk_data...\n",
            "       |   Package rte is already up-to-date!\n",
            "       | Downloading package semcor to /root/nltk_data...\n",
            "       |   Package semcor is already up-to-date!\n",
            "       | Downloading package senseval to /root/nltk_data...\n",
            "       |   Package senseval is already up-to-date!\n",
            "       | Downloading package sentiwordnet to /root/nltk_data...\n",
            "       |   Package sentiwordnet is already up-to-date!\n",
            "       | Downloading package sentence_polarity to /root/nltk_data...\n",
            "       |   Package sentence_polarity is already up-to-date!\n",
            "       | Downloading package shakespeare to /root/nltk_data...\n",
            "       |   Package shakespeare is already up-to-date!\n",
            "       | Downloading package sinica_treebank to /root/nltk_data...\n",
            "       |   Package sinica_treebank is already up-to-date!\n",
            "       | Downloading package smultron to /root/nltk_data...\n",
            "       |   Package smultron is already up-to-date!\n",
            "       | Downloading package state_union to /root/nltk_data...\n",
            "       |   Package state_union is already up-to-date!\n",
            "       | Downloading package stopwords to /root/nltk_data...\n",
            "       |   Package stopwords is already up-to-date!\n",
            "       | Downloading package subjectivity to /root/nltk_data...\n",
            "       |   Package subjectivity is already up-to-date!\n",
            "       | Downloading package swadesh to /root/nltk_data...\n",
            "       |   Package swadesh is already up-to-date!\n",
            "       | Downloading package switchboard to /root/nltk_data...\n",
            "       |   Package switchboard is already up-to-date!\n",
            "       | Downloading package timit to /root/nltk_data...\n",
            "       |   Package timit is already up-to-date!\n",
            "       | Downloading package toolbox to /root/nltk_data...\n",
            "       |   Package toolbox is already up-to-date!\n",
            "       | Downloading package treebank to /root/nltk_data...\n",
            "       |   Package treebank is already up-to-date!\n",
            "       | Downloading package twitter_samples to /root/nltk_data...\n",
            "       |   Package twitter_samples is already up-to-date!\n",
            "       | Downloading package udhr to /root/nltk_data...\n",
            "       |   Package udhr is already up-to-date!\n",
            "       | Downloading package udhr2 to /root/nltk_data...\n",
            "       |   Package udhr2 is already up-to-date!\n",
            "       | Downloading package unicode_samples to /root/nltk_data...\n",
            "       |   Package unicode_samples is already up-to-date!\n",
            "       | Downloading package universal_treebanks_v20 to\n",
            "       |     /root/nltk_data...\n",
            "       |   Package universal_treebanks_v20 is already up-to-date!\n",
            "       | Downloading package verbnet to /root/nltk_data...\n",
            "       |   Package verbnet is already up-to-date!\n",
            "       | Downloading package verbnet3 to /root/nltk_data...\n",
            "       |   Package verbnet3 is already up-to-date!\n",
            "       | Downloading package webtext to /root/nltk_data...\n",
            "       |   Package webtext is already up-to-date!\n",
            "       | Downloading package wordnet to /root/nltk_data...\n",
            "       |   Package wordnet is already up-to-date!\n",
            "       | Downloading package wordnet_ic to /root/nltk_data...\n",
            "       |   Package wordnet_ic is already up-to-date!\n",
            "       | Downloading package words to /root/nltk_data...\n",
            "       |   Package words is already up-to-date!\n",
            "       | Downloading package ycoe to /root/nltk_data...\n",
            "       |   Package ycoe is already up-to-date!\n",
            "       | Downloading package rslp to /root/nltk_data...\n",
            "       |   Package rslp is already up-to-date!\n",
            "       | Downloading package maxent_treebank_pos_tagger to\n",
            "       |     /root/nltk_data...\n",
            "       |   Package maxent_treebank_pos_tagger is already up-to-date!\n",
            "       | Downloading package universal_tagset to /root/nltk_data...\n",
            "       |   Package universal_tagset is already up-to-date!\n",
            "       | Downloading package maxent_ne_chunker to /root/nltk_data...\n",
            "       |   Package maxent_ne_chunker is already up-to-date!\n",
            "       | Downloading package punkt to /root/nltk_data...\n",
            "       |   Package punkt is already up-to-date!\n",
            "       | Downloading package book_grammars to /root/nltk_data...\n",
            "       |   Package book_grammars is already up-to-date!\n",
            "       | Downloading package sample_grammars to /root/nltk_data...\n",
            "       |   Package sample_grammars is already up-to-date!\n",
            "       | Downloading package spanish_grammars to /root/nltk_data...\n",
            "       |   Package spanish_grammars is already up-to-date!\n",
            "       | Downloading package basque_grammars to /root/nltk_data...\n",
            "       |   Package basque_grammars is already up-to-date!\n",
            "       | Downloading package large_grammars to /root/nltk_data...\n",
            "       |   Package large_grammars is already up-to-date!\n",
            "       | Downloading package tagsets to /root/nltk_data...\n",
            "       |   Package tagsets is already up-to-date!\n",
            "       | Downloading package snowball_data to /root/nltk_data...\n",
            "       |   Package snowball_data is already up-to-date!\n",
            "       | Downloading package bllip_wsj_no_aux to /root/nltk_data...\n",
            "       |   Package bllip_wsj_no_aux is already up-to-date!\n",
            "       | Downloading package word2vec_sample to /root/nltk_data...\n",
            "       |   Package word2vec_sample is already up-to-date!\n",
            "       | Downloading package panlex_swadesh to /root/nltk_data...\n",
            "       |   Package panlex_swadesh is already up-to-date!\n",
            "       | Downloading package mte_teip5 to /root/nltk_data...\n",
            "       |   Package mte_teip5 is already up-to-date!\n",
            "       | Downloading package averaged_perceptron_tagger to\n",
            "       |     /root/nltk_data...\n",
            "       |   Package averaged_perceptron_tagger is already up-to-date!\n",
            "       | Downloading package averaged_perceptron_tagger_ru to\n",
            "       |     /root/nltk_data...\n",
            "       |   Package averaged_perceptron_tagger_ru is already up-to-\n",
            "       |       date!\n",
            "       | Downloading package perluniprops to /root/nltk_data...\n",
            "       |   Package perluniprops is already up-to-date!\n",
            "       | Downloading package nonbreaking_prefixes to\n",
            "       |     /root/nltk_data...\n",
            "       |   Package nonbreaking_prefixes is already up-to-date!\n",
            "       | Downloading package vader_lexicon to /root/nltk_data...\n",
            "       |   Package vader_lexicon is already up-to-date!\n",
            "       | Downloading package porter_test to /root/nltk_data...\n",
            "       |   Package porter_test is already up-to-date!\n",
            "       | Downloading package wmt15_eval to /root/nltk_data...\n",
            "       |   Package wmt15_eval is already up-to-date!\n",
            "       | Downloading package mwa_ppdb to /root/nltk_data...\n",
            "       |   Package mwa_ppdb is already up-to-date!\n",
            "       | \n",
            "     Done downloading collection all\n",
            "\n",
            "---------------------------------------------------------------------------\n",
            "    d) Download   l) List    u) Update   c) Config   h) Help   q) Quit\n",
            "---------------------------------------------------------------------------\n",
            "Downloader> d\n",
            "\n",
            "Download which package (l=list; x=cancel)?\n",
            "  Identifier> all\n",
            "    Downloading collection 'all'\n",
            "       | \n",
            "       | Downloading package abc to /root/nltk_data...\n",
            "       |   Package abc is already up-to-date!\n",
            "       | Downloading package alpino to /root/nltk_data...\n",
            "       |   Package alpino is already up-to-date!\n",
            "       | Downloading package biocreative_ppi to /root/nltk_data...\n",
            "       |   Package biocreative_ppi is already up-to-date!\n",
            "       | Downloading package brown to /root/nltk_data...\n",
            "       |   Package brown is already up-to-date!\n",
            "       | Downloading package brown_tei to /root/nltk_data...\n",
            "       |   Package brown_tei is already up-to-date!\n",
            "       | Downloading package cess_cat to /root/nltk_data...\n",
            "       |   Package cess_cat is already up-to-date!\n",
            "       | Downloading package cess_esp to /root/nltk_data...\n",
            "       |   Package cess_esp is already up-to-date!\n",
            "       | Downloading package chat80 to /root/nltk_data...\n",
            "       |   Package chat80 is already up-to-date!\n",
            "       | Downloading package city_database to /root/nltk_data...\n",
            "       |   Package city_database is already up-to-date!\n",
            "       | Downloading package cmudict to /root/nltk_data...\n",
            "       |   Package cmudict is already up-to-date!\n",
            "       | Downloading package comparative_sentences to\n",
            "       |     /root/nltk_data...\n",
            "       |   Package comparative_sentences is already up-to-date!\n",
            "       | Downloading package comtrans to /root/nltk_data...\n",
            "       |   Package comtrans is already up-to-date!\n",
            "       | Downloading package conll2000 to /root/nltk_data...\n",
            "       |   Package conll2000 is already up-to-date!\n",
            "       | Downloading package conll2002 to /root/nltk_data...\n",
            "       |   Package conll2002 is already up-to-date!\n",
            "       | Downloading package conll2007 to /root/nltk_data...\n",
            "       |   Package conll2007 is already up-to-date!\n",
            "       | Downloading package crubadan to /root/nltk_data...\n",
            "       |   Package crubadan is already up-to-date!\n",
            "       | Downloading package dependency_treebank to /root/nltk_data...\n",
            "       |   Package dependency_treebank is already up-to-date!\n",
            "       | Downloading package dolch to /root/nltk_data...\n",
            "       |   Package dolch is already up-to-date!\n",
            "       | Downloading package europarl_raw to /root/nltk_data...\n",
            "       |   Package europarl_raw is already up-to-date!\n",
            "       | Downloading package floresta to /root/nltk_data...\n",
            "       |   Package floresta is already up-to-date!\n",
            "       | Downloading package framenet_v15 to /root/nltk_data...\n",
            "       |   Package framenet_v15 is already up-to-date!\n",
            "       | Downloading package framenet_v17 to /root/nltk_data...\n",
            "       |   Package framenet_v17 is already up-to-date!\n",
            "       | Downloading package gazetteers to /root/nltk_data...\n",
            "       |   Package gazetteers is already up-to-date!\n",
            "       | Downloading package genesis to /root/nltk_data...\n",
            "       |   Package genesis is already up-to-date!\n",
            "       | Downloading package gutenberg to /root/nltk_data...\n",
            "       |   Package gutenberg is already up-to-date!\n",
            "       | Downloading package ieer to /root/nltk_data...\n",
            "       |   Package ieer is already up-to-date!\n",
            "       | Downloading package inaugural to /root/nltk_data...\n",
            "       |   Package inaugural is already up-to-date!\n",
            "       | Downloading package indian to /root/nltk_data...\n",
            "       |   Package indian is already up-to-date!\n",
            "       | Downloading package jeita to /root/nltk_data...\n",
            "       |   Package jeita is already up-to-date!\n",
            "       | Downloading package kimmo to /root/nltk_data...\n",
            "       |   Package kimmo is already up-to-date!\n",
            "       | Downloading package knbc to /root/nltk_data...\n",
            "       |   Package knbc is already up-to-date!\n",
            "       | Downloading package lin_thesaurus to /root/nltk_data...\n",
            "       |   Package lin_thesaurus is already up-to-date!\n",
            "       | Downloading package mac_morpho to /root/nltk_data...\n",
            "       |   Package mac_morpho is already up-to-date!\n",
            "       | Downloading package machado to /root/nltk_data...\n",
            "       |   Package machado is already up-to-date!\n",
            "       | Downloading package masc_tagged to /root/nltk_data...\n",
            "       |   Package masc_tagged is already up-to-date!\n",
            "       | Downloading package moses_sample to /root/nltk_data...\n",
            "       |   Package moses_sample is already up-to-date!\n",
            "       | Downloading package movie_reviews to /root/nltk_data...\n",
            "       |   Package movie_reviews is already up-to-date!\n",
            "       | Downloading package names to /root/nltk_data...\n",
            "       |   Package names is already up-to-date!\n",
            "       | Downloading package nombank.1.0 to /root/nltk_data...\n",
            "       |   Package nombank.1.0 is already up-to-date!\n",
            "       | Downloading package nps_chat to /root/nltk_data...\n",
            "       |   Package nps_chat is already up-to-date!\n",
            "       | Downloading package omw to /root/nltk_data...\n",
            "       |   Package omw is already up-to-date!\n",
            "       | Downloading package opinion_lexicon to /root/nltk_data...\n",
            "       |   Package opinion_lexicon is already up-to-date!\n",
            "       | Downloading package paradigms to /root/nltk_data...\n",
            "       |   Package paradigms is already up-to-date!\n",
            "       | Downloading package pil to /root/nltk_data...\n",
            "       |   Package pil is already up-to-date!\n",
            "       | Downloading package pl196x to /root/nltk_data...\n",
            "       |   Package pl196x is already up-to-date!\n",
            "       | Downloading package ppattach to /root/nltk_data...\n",
            "       |   Package ppattach is already up-to-date!\n",
            "       | Downloading package problem_reports to /root/nltk_data...\n",
            "       |   Package problem_reports is already up-to-date!\n",
            "       | Downloading package propbank to /root/nltk_data...\n",
            "       |   Package propbank is already up-to-date!\n",
            "       | Downloading package ptb to /root/nltk_data...\n",
            "       |   Package ptb is already up-to-date!\n",
            "       | Downloading package product_reviews_1 to /root/nltk_data...\n",
            "       |   Package product_reviews_1 is already up-to-date!\n",
            "       | Downloading package product_reviews_2 to /root/nltk_data...\n",
            "       |   Package product_reviews_2 is already up-to-date!\n",
            "       | Downloading package pros_cons to /root/nltk_data...\n",
            "       |   Package pros_cons is already up-to-date!\n",
            "       | Downloading package qc to /root/nltk_data...\n",
            "       |   Package qc is already up-to-date!\n",
            "       | Downloading package reuters to /root/nltk_data...\n",
            "       |   Package reuters is already up-to-date!\n",
            "       | Downloading package rte to /root/nltk_data...\n",
            "       |   Package rte is already up-to-date!\n",
            "       | Downloading package semcor to /root/nltk_data...\n",
            "       |   Package semcor is already up-to-date!\n",
            "       | Downloading package senseval to /root/nltk_data...\n",
            "       |   Package senseval is already up-to-date!\n",
            "       | Downloading package sentiwordnet to /root/nltk_data...\n",
            "       |   Package sentiwordnet is already up-to-date!\n",
            "       | Downloading package sentence_polarity to /root/nltk_data...\n",
            "       |   Package sentence_polarity is already up-to-date!\n",
            "       | Downloading package shakespeare to /root/nltk_data...\n",
            "       |   Package shakespeare is already up-to-date!\n",
            "       | Downloading package sinica_treebank to /root/nltk_data...\n",
            "       |   Package sinica_treebank is already up-to-date!\n",
            "       | Downloading package smultron to /root/nltk_data...\n",
            "       |   Package smultron is already up-to-date!\n",
            "       | Downloading package state_union to /root/nltk_data...\n",
            "       |   Package state_union is already up-to-date!\n",
            "       | Downloading package stopwords to /root/nltk_data...\n",
            "       |   Package stopwords is already up-to-date!\n",
            "       | Downloading package subjectivity to /root/nltk_data...\n",
            "       |   Package subjectivity is already up-to-date!\n",
            "       | Downloading package swadesh to /root/nltk_data...\n",
            "       |   Package swadesh is already up-to-date!\n",
            "       | Downloading package switchboard to /root/nltk_data...\n",
            "       |   Package switchboard is already up-to-date!\n",
            "       | Downloading package timit to /root/nltk_data...\n",
            "       |   Package timit is already up-to-date!\n",
            "       | Downloading package toolbox to /root/nltk_data...\n",
            "       |   Package toolbox is already up-to-date!\n",
            "       | Downloading package treebank to /root/nltk_data...\n",
            "       |   Package treebank is already up-to-date!\n",
            "       | Downloading package twitter_samples to /root/nltk_data...\n",
            "       |   Package twitter_samples is already up-to-date!\n",
            "       | Downloading package udhr to /root/nltk_data...\n",
            "       |   Package udhr is already up-to-date!\n",
            "       | Downloading package udhr2 to /root/nltk_data...\n",
            "       |   Package udhr2 is already up-to-date!\n",
            "       | Downloading package unicode_samples to /root/nltk_data...\n",
            "       |   Package unicode_samples is already up-to-date!\n",
            "       | Downloading package universal_treebanks_v20 to\n",
            "       |     /root/nltk_data...\n",
            "       |   Package universal_treebanks_v20 is already up-to-date!\n",
            "       | Downloading package verbnet to /root/nltk_data...\n",
            "       |   Package verbnet is already up-to-date!\n",
            "       | Downloading package verbnet3 to /root/nltk_data...\n",
            "       |   Package verbnet3 is already up-to-date!\n",
            "       | Downloading package webtext to /root/nltk_data...\n",
            "       |   Package webtext is already up-to-date!\n",
            "       | Downloading package wordnet to /root/nltk_data...\n",
            "       |   Package wordnet is already up-to-date!\n",
            "       | Downloading package wordnet_ic to /root/nltk_data...\n",
            "       |   Package wordnet_ic is already up-to-date!\n",
            "       | Downloading package words to /root/nltk_data...\n",
            "       |   Package words is already up-to-date!\n",
            "       | Downloading package ycoe to /root/nltk_data...\n",
            "       |   Package ycoe is already up-to-date!\n",
            "       | Downloading package rslp to /root/nltk_data...\n",
            "       |   Package rslp is already up-to-date!\n",
            "       | Downloading package maxent_treebank_pos_tagger to\n",
            "       |     /root/nltk_data...\n",
            "       |   Package maxent_treebank_pos_tagger is already up-to-date!\n",
            "       | Downloading package universal_tagset to /root/nltk_data...\n",
            "       |   Package universal_tagset is already up-to-date!\n",
            "       | Downloading package maxent_ne_chunker to /root/nltk_data...\n",
            "       |   Package maxent_ne_chunker is already up-to-date!\n",
            "       | Downloading package punkt to /root/nltk_data...\n",
            "       |   Package punkt is already up-to-date!\n",
            "       | Downloading package book_grammars to /root/nltk_data...\n",
            "       |   Package book_grammars is already up-to-date!\n",
            "       | Downloading package sample_grammars to /root/nltk_data...\n",
            "       |   Package sample_grammars is already up-to-date!\n",
            "       | Downloading package spanish_grammars to /root/nltk_data...\n",
            "       |   Package spanish_grammars is already up-to-date!\n",
            "       | Downloading package basque_grammars to /root/nltk_data...\n",
            "       |   Package basque_grammars is already up-to-date!\n",
            "       | Downloading package large_grammars to /root/nltk_data...\n",
            "       |   Package large_grammars is already up-to-date!\n",
            "       | Downloading package tagsets to /root/nltk_data...\n",
            "       |   Package tagsets is already up-to-date!\n",
            "       | Downloading package snowball_data to /root/nltk_data...\n",
            "       |   Package snowball_data is already up-to-date!\n",
            "       | Downloading package bllip_wsj_no_aux to /root/nltk_data...\n",
            "       |   Package bllip_wsj_no_aux is already up-to-date!\n",
            "       | Downloading package word2vec_sample to /root/nltk_data...\n",
            "       |   Package word2vec_sample is already up-to-date!\n",
            "       | Downloading package panlex_swadesh to /root/nltk_data...\n",
            "       |   Package panlex_swadesh is already up-to-date!\n",
            "       | Downloading package mte_teip5 to /root/nltk_data...\n",
            "       |   Package mte_teip5 is already up-to-date!\n",
            "       | Downloading package averaged_perceptron_tagger to\n",
            "       |     /root/nltk_data...\n",
            "       |   Package averaged_perceptron_tagger is already up-to-date!\n",
            "       | Downloading package averaged_perceptron_tagger_ru to\n",
            "       |     /root/nltk_data...\n",
            "       |   Package averaged_perceptron_tagger_ru is already up-to-\n",
            "       |       date!\n",
            "       | Downloading package perluniprops to /root/nltk_data...\n",
            "       |   Package perluniprops is already up-to-date!\n",
            "       | Downloading package nonbreaking_prefixes to\n",
            "       |     /root/nltk_data...\n",
            "       |   Package nonbreaking_prefixes is already up-to-date!\n",
            "       | Downloading package vader_lexicon to /root/nltk_data...\n",
            "       |   Package vader_lexicon is already up-to-date!\n",
            "       | Downloading package porter_test to /root/nltk_data...\n",
            "       |   Package porter_test is already up-to-date!\n",
            "       | Downloading package wmt15_eval to /root/nltk_data...\n",
            "       |   Package wmt15_eval is already up-to-date!\n",
            "       | Downloading package mwa_ppdb to /root/nltk_data...\n",
            "       |   Package mwa_ppdb is already up-to-date!\n",
            "       | \n",
            "     Done downloading collection all\n",
            "\n",
            "---------------------------------------------------------------------------\n",
            "    d) Download   l) List    u) Update   c) Config   h) Help   q) Quit\n",
            "---------------------------------------------------------------------------\n",
            "Downloader> a\n",
            "Command 'a' unrecognized\n",
            "\n",
            "---------------------------------------------------------------------------\n",
            "    d) Download   l) List    u) Update   c) Config   h) Help   q) Quit\n",
            "---------------------------------------------------------------------------\n",
            "Downloader> d\n",
            "\n",
            "Download which package (l=list; x=cancel)?\n",
            "  Identifier> all\n",
            "    Downloading collection 'all'\n",
            "       | \n",
            "       | Downloading package abc to /root/nltk_data...\n",
            "       |   Package abc is already up-to-date!\n",
            "       | Downloading package alpino to /root/nltk_data...\n",
            "       |   Package alpino is already up-to-date!\n",
            "       | Downloading package biocreative_ppi to /root/nltk_data...\n",
            "       |   Package biocreative_ppi is already up-to-date!\n",
            "       | Downloading package brown to /root/nltk_data...\n",
            "       |   Package brown is already up-to-date!\n",
            "       | Downloading package brown_tei to /root/nltk_data...\n",
            "       |   Package brown_tei is already up-to-date!\n",
            "       | Downloading package cess_cat to /root/nltk_data...\n",
            "       |   Package cess_cat is already up-to-date!\n",
            "       | Downloading package cess_esp to /root/nltk_data...\n",
            "       |   Package cess_esp is already up-to-date!\n",
            "       | Downloading package chat80 to /root/nltk_data...\n",
            "       |   Package chat80 is already up-to-date!\n",
            "       | Downloading package city_database to /root/nltk_data...\n",
            "       |   Package city_database is already up-to-date!\n",
            "       | Downloading package cmudict to /root/nltk_data...\n",
            "       |   Package cmudict is already up-to-date!\n",
            "       | Downloading package comparative_sentences to\n",
            "       |     /root/nltk_data...\n",
            "       |   Package comparative_sentences is already up-to-date!\n",
            "       | Downloading package comtrans to /root/nltk_data...\n",
            "       |   Package comtrans is already up-to-date!\n",
            "       | Downloading package conll2000 to /root/nltk_data...\n",
            "       |   Package conll2000 is already up-to-date!\n",
            "       | Downloading package conll2002 to /root/nltk_data...\n",
            "       |   Package conll2002 is already up-to-date!\n",
            "       | Downloading package conll2007 to /root/nltk_data...\n",
            "       |   Package conll2007 is already up-to-date!\n",
            "       | Downloading package crubadan to /root/nltk_data...\n",
            "       |   Package crubadan is already up-to-date!\n",
            "       | Downloading package dependency_treebank to /root/nltk_data...\n",
            "       |   Package dependency_treebank is already up-to-date!\n",
            "       | Downloading package dolch to /root/nltk_data...\n",
            "       |   Package dolch is already up-to-date!\n",
            "       | Downloading package europarl_raw to /root/nltk_data...\n",
            "       |   Package europarl_raw is already up-to-date!\n",
            "       | Downloading package floresta to /root/nltk_data...\n",
            "       |   Package floresta is already up-to-date!\n",
            "       | Downloading package framenet_v15 to /root/nltk_data...\n",
            "       |   Package framenet_v15 is already up-to-date!\n",
            "       | Downloading package framenet_v17 to /root/nltk_data...\n",
            "       |   Package framenet_v17 is already up-to-date!\n",
            "       | Downloading package gazetteers to /root/nltk_data...\n",
            "       |   Package gazetteers is already up-to-date!\n",
            "       | Downloading package genesis to /root/nltk_data...\n",
            "       |   Package genesis is already up-to-date!\n",
            "       | Downloading package gutenberg to /root/nltk_data...\n",
            "       |   Package gutenberg is already up-to-date!\n",
            "       | Downloading package ieer to /root/nltk_data...\n",
            "       |   Package ieer is already up-to-date!\n",
            "       | Downloading package inaugural to /root/nltk_data...\n",
            "       |   Package inaugural is already up-to-date!\n",
            "       | Downloading package indian to /root/nltk_data...\n",
            "       |   Package indian is already up-to-date!\n",
            "       | Downloading package jeita to /root/nltk_data...\n",
            "       |   Package jeita is already up-to-date!\n",
            "       | Downloading package kimmo to /root/nltk_data...\n",
            "       |   Package kimmo is already up-to-date!\n",
            "       | Downloading package knbc to /root/nltk_data...\n",
            "       |   Package knbc is already up-to-date!\n",
            "       | Downloading package lin_thesaurus to /root/nltk_data...\n",
            "       |   Package lin_thesaurus is already up-to-date!\n",
            "       | Downloading package mac_morpho to /root/nltk_data...\n",
            "       |   Package mac_morpho is already up-to-date!\n",
            "       | Downloading package machado to /root/nltk_data...\n",
            "       |   Package machado is already up-to-date!\n",
            "       | Downloading package masc_tagged to /root/nltk_data...\n",
            "       |   Package masc_tagged is already up-to-date!\n",
            "       | Downloading package moses_sample to /root/nltk_data...\n",
            "       |   Package moses_sample is already up-to-date!\n",
            "       | Downloading package movie_reviews to /root/nltk_data...\n",
            "       |   Package movie_reviews is already up-to-date!\n",
            "       | Downloading package names to /root/nltk_data...\n",
            "       |   Package names is already up-to-date!\n",
            "       | Downloading package nombank.1.0 to /root/nltk_data...\n",
            "       |   Package nombank.1.0 is already up-to-date!\n",
            "       | Downloading package nps_chat to /root/nltk_data...\n",
            "       |   Package nps_chat is already up-to-date!\n",
            "       | Downloading package omw to /root/nltk_data...\n",
            "       |   Package omw is already up-to-date!\n",
            "       | Downloading package opinion_lexicon to /root/nltk_data...\n",
            "       |   Package opinion_lexicon is already up-to-date!\n",
            "       | Downloading package paradigms to /root/nltk_data...\n",
            "       |   Package paradigms is already up-to-date!\n",
            "       | Downloading package pil to /root/nltk_data...\n",
            "       |   Package pil is already up-to-date!\n",
            "       | Downloading package pl196x to /root/nltk_data...\n",
            "       |   Package pl196x is already up-to-date!\n",
            "       | Downloading package ppattach to /root/nltk_data...\n",
            "       |   Package ppattach is already up-to-date!\n",
            "       | Downloading package problem_reports to /root/nltk_data...\n",
            "       |   Package problem_reports is already up-to-date!\n",
            "       | Downloading package propbank to /root/nltk_data...\n",
            "       |   Package propbank is already up-to-date!\n",
            "       | Downloading package ptb to /root/nltk_data...\n",
            "       |   Package ptb is already up-to-date!\n",
            "       | Downloading package product_reviews_1 to /root/nltk_data...\n",
            "       |   Package product_reviews_1 is already up-to-date!\n",
            "       | Downloading package product_reviews_2 to /root/nltk_data...\n",
            "       |   Package product_reviews_2 is already up-to-date!\n",
            "       | Downloading package pros_cons to /root/nltk_data...\n",
            "       |   Package pros_cons is already up-to-date!\n",
            "       | Downloading package qc to /root/nltk_data...\n",
            "       |   Package qc is already up-to-date!\n",
            "       | Downloading package reuters to /root/nltk_data...\n",
            "       |   Package reuters is already up-to-date!\n",
            "       | Downloading package rte to /root/nltk_data...\n",
            "       |   Package rte is already up-to-date!\n",
            "       | Downloading package semcor to /root/nltk_data...\n",
            "       |   Package semcor is already up-to-date!\n",
            "       | Downloading package senseval to /root/nltk_data...\n",
            "       |   Package senseval is already up-to-date!\n",
            "       | Downloading package sentiwordnet to /root/nltk_data...\n",
            "       |   Package sentiwordnet is already up-to-date!\n",
            "       | Downloading package sentence_polarity to /root/nltk_data...\n",
            "       |   Package sentence_polarity is already up-to-date!\n",
            "       | Downloading package shakespeare to /root/nltk_data...\n",
            "       |   Package shakespeare is already up-to-date!\n",
            "       | Downloading package sinica_treebank to /root/nltk_data...\n",
            "       |   Package sinica_treebank is already up-to-date!\n",
            "       | Downloading package smultron to /root/nltk_data...\n",
            "       |   Package smultron is already up-to-date!\n",
            "       | Downloading package state_union to /root/nltk_data...\n",
            "       |   Package state_union is already up-to-date!\n",
            "       | Downloading package stopwords to /root/nltk_data...\n",
            "       |   Package stopwords is already up-to-date!\n",
            "       | Downloading package subjectivity to /root/nltk_data...\n",
            "       |   Package subjectivity is already up-to-date!\n",
            "       | Downloading package swadesh to /root/nltk_data...\n",
            "       |   Package swadesh is already up-to-date!\n",
            "       | Downloading package switchboard to /root/nltk_data...\n",
            "       |   Package switchboard is already up-to-date!\n",
            "       | Downloading package timit to /root/nltk_data...\n",
            "       |   Package timit is already up-to-date!\n",
            "       | Downloading package toolbox to /root/nltk_data...\n",
            "       |   Package toolbox is already up-to-date!\n",
            "       | Downloading package treebank to /root/nltk_data...\n",
            "       |   Package treebank is already up-to-date!\n",
            "       | Downloading package twitter_samples to /root/nltk_data...\n",
            "       |   Package twitter_samples is already up-to-date!\n",
            "       | Downloading package udhr to /root/nltk_data...\n",
            "       |   Package udhr is already up-to-date!\n",
            "       | Downloading package udhr2 to /root/nltk_data...\n",
            "       |   Package udhr2 is already up-to-date!\n",
            "       | Downloading package unicode_samples to /root/nltk_data...\n",
            "       |   Package unicode_samples is already up-to-date!\n",
            "       | Downloading package universal_treebanks_v20 to\n",
            "       |     /root/nltk_data...\n",
            "       |   Package universal_treebanks_v20 is already up-to-date!\n",
            "       | Downloading package verbnet to /root/nltk_data...\n",
            "       |   Package verbnet is already up-to-date!\n",
            "       | Downloading package verbnet3 to /root/nltk_data...\n",
            "       |   Package verbnet3 is already up-to-date!\n",
            "       | Downloading package webtext to /root/nltk_data...\n",
            "       |   Package webtext is already up-to-date!\n",
            "       | Downloading package wordnet to /root/nltk_data...\n",
            "       |   Package wordnet is already up-to-date!\n",
            "       | Downloading package wordnet_ic to /root/nltk_data...\n",
            "       |   Package wordnet_ic is already up-to-date!\n",
            "       | Downloading package words to /root/nltk_data...\n",
            "       |   Package words is already up-to-date!\n",
            "       | Downloading package ycoe to /root/nltk_data...\n",
            "       |   Package ycoe is already up-to-date!\n",
            "       | Downloading package rslp to /root/nltk_data...\n",
            "       |   Package rslp is already up-to-date!\n",
            "       | Downloading package maxent_treebank_pos_tagger to\n",
            "       |     /root/nltk_data...\n",
            "       |   Package maxent_treebank_pos_tagger is already up-to-date!\n",
            "       | Downloading package universal_tagset to /root/nltk_data...\n",
            "       |   Package universal_tagset is already up-to-date!\n",
            "       | Downloading package maxent_ne_chunker to /root/nltk_data...\n",
            "       |   Package maxent_ne_chunker is already up-to-date!\n",
            "       | Downloading package punkt to /root/nltk_data...\n",
            "       |   Package punkt is already up-to-date!\n",
            "       | Downloading package book_grammars to /root/nltk_data...\n",
            "       |   Package book_grammars is already up-to-date!\n",
            "       | Downloading package sample_grammars to /root/nltk_data...\n",
            "       |   Package sample_grammars is already up-to-date!\n",
            "       | Downloading package spanish_grammars to /root/nltk_data...\n",
            "       |   Package spanish_grammars is already up-to-date!\n",
            "       | Downloading package basque_grammars to /root/nltk_data...\n",
            "       |   Package basque_grammars is already up-to-date!\n",
            "       | Downloading package large_grammars to /root/nltk_data...\n",
            "       |   Package large_grammars is already up-to-date!\n",
            "       | Downloading package tagsets to /root/nltk_data...\n",
            "       |   Package tagsets is already up-to-date!\n",
            "       | Downloading package snowball_data to /root/nltk_data...\n",
            "       |   Package snowball_data is already up-to-date!\n",
            "       | Downloading package bllip_wsj_no_aux to /root/nltk_data...\n",
            "       |   Package bllip_wsj_no_aux is already up-to-date!\n",
            "       | Downloading package word2vec_sample to /root/nltk_data...\n",
            "       |   Package word2vec_sample is already up-to-date!\n",
            "       | Downloading package panlex_swadesh to /root/nltk_data...\n",
            "       |   Package panlex_swadesh is already up-to-date!\n",
            "       | Downloading package mte_teip5 to /root/nltk_data...\n",
            "       |   Package mte_teip5 is already up-to-date!\n",
            "       | Downloading package averaged_perceptron_tagger to\n",
            "       |     /root/nltk_data...\n",
            "       |   Package averaged_perceptron_tagger is already up-to-date!\n",
            "       | Downloading package averaged_perceptron_tagger_ru to\n",
            "       |     /root/nltk_data...\n",
            "       |   Package averaged_perceptron_tagger_ru is already up-to-\n",
            "       |       date!\n",
            "       | Downloading package perluniprops to /root/nltk_data...\n",
            "       |   Package perluniprops is already up-to-date!\n",
            "       | Downloading package nonbreaking_prefixes to\n",
            "       |     /root/nltk_data...\n",
            "       |   Package nonbreaking_prefixes is already up-to-date!\n",
            "       | Downloading package vader_lexicon to /root/nltk_data...\n",
            "       |   Package vader_lexicon is already up-to-date!\n",
            "       | Downloading package porter_test to /root/nltk_data...\n",
            "       |   Package porter_test is already up-to-date!\n",
            "       | Downloading package wmt15_eval to /root/nltk_data...\n",
            "       |   Package wmt15_eval is already up-to-date!\n",
            "       | Downloading package mwa_ppdb to /root/nltk_data...\n",
            "       |   Package mwa_ppdb is already up-to-date!\n",
            "       | \n",
            "     Done downloading collection all\n",
            "\n",
            "---------------------------------------------------------------------------\n",
            "    d) Download   l) List    u) Update   c) Config   h) Help   q) Quit\n",
            "---------------------------------------------------------------------------\n",
            "Downloader> d\n",
            "\n",
            "Download which package (l=list; x=cancel)?\n",
            "  Identifier> all\n",
            "    Downloading collection 'all'\n",
            "       | \n",
            "       | Downloading package abc to /root/nltk_data...\n",
            "       |   Package abc is already up-to-date!\n",
            "       | Downloading package alpino to /root/nltk_data...\n",
            "       |   Package alpino is already up-to-date!\n",
            "       | Downloading package biocreative_ppi to /root/nltk_data...\n",
            "       |   Package biocreative_ppi is already up-to-date!\n",
            "       | Downloading package brown to /root/nltk_data...\n",
            "       |   Package brown is already up-to-date!\n",
            "       | Downloading package brown_tei to /root/nltk_data...\n",
            "       |   Package brown_tei is already up-to-date!\n",
            "       | Downloading package cess_cat to /root/nltk_data...\n",
            "       |   Package cess_cat is already up-to-date!\n",
            "       | Downloading package cess_esp to /root/nltk_data...\n",
            "       |   Package cess_esp is already up-to-date!\n",
            "       | Downloading package chat80 to /root/nltk_data...\n",
            "       |   Package chat80 is already up-to-date!\n",
            "       | Downloading package city_database to /root/nltk_data...\n",
            "       |   Package city_database is already up-to-date!\n",
            "       | Downloading package cmudict to /root/nltk_data...\n",
            "       |   Package cmudict is already up-to-date!\n",
            "       | Downloading package comparative_sentences to\n",
            "       |     /root/nltk_data...\n",
            "       |   Package comparative_sentences is already up-to-date!\n",
            "       | Downloading package comtrans to /root/nltk_data...\n",
            "       |   Package comtrans is already up-to-date!\n",
            "       | Downloading package conll2000 to /root/nltk_data...\n",
            "       |   Package conll2000 is already up-to-date!\n",
            "       | Downloading package conll2002 to /root/nltk_data...\n",
            "       |   Package conll2002 is already up-to-date!\n",
            "       | Downloading package conll2007 to /root/nltk_data...\n",
            "       |   Package conll2007 is already up-to-date!\n",
            "       | Downloading package crubadan to /root/nltk_data...\n",
            "       |   Package crubadan is already up-to-date!\n",
            "       | Downloading package dependency_treebank to /root/nltk_data...\n",
            "       |   Package dependency_treebank is already up-to-date!\n",
            "       | Downloading package dolch to /root/nltk_data...\n",
            "       |   Package dolch is already up-to-date!\n",
            "       | Downloading package europarl_raw to /root/nltk_data...\n",
            "       |   Package europarl_raw is already up-to-date!\n",
            "       | Downloading package floresta to /root/nltk_data...\n",
            "       |   Package floresta is already up-to-date!\n",
            "       | Downloading package framenet_v15 to /root/nltk_data...\n",
            "       |   Package framenet_v15 is already up-to-date!\n",
            "       | Downloading package framenet_v17 to /root/nltk_data...\n",
            "       |   Package framenet_v17 is already up-to-date!\n",
            "       | Downloading package gazetteers to /root/nltk_data...\n",
            "       |   Package gazetteers is already up-to-date!\n",
            "       | Downloading package genesis to /root/nltk_data...\n",
            "       |   Package genesis is already up-to-date!\n",
            "       | Downloading package gutenberg to /root/nltk_data...\n",
            "       |   Package gutenberg is already up-to-date!\n",
            "       | Downloading package ieer to /root/nltk_data...\n",
            "       |   Package ieer is already up-to-date!\n",
            "       | Downloading package inaugural to /root/nltk_data...\n",
            "       |   Package inaugural is already up-to-date!\n",
            "       | Downloading package indian to /root/nltk_data...\n",
            "       |   Package indian is already up-to-date!\n",
            "       | Downloading package jeita to /root/nltk_data...\n",
            "       |   Package jeita is already up-to-date!\n",
            "       | Downloading package kimmo to /root/nltk_data...\n",
            "       |   Package kimmo is already up-to-date!\n",
            "       | Downloading package knbc to /root/nltk_data...\n",
            "       |   Package knbc is already up-to-date!\n",
            "       | Downloading package lin_thesaurus to /root/nltk_data...\n",
            "       |   Package lin_thesaurus is already up-to-date!\n",
            "       | Downloading package mac_morpho to /root/nltk_data...\n",
            "       |   Package mac_morpho is already up-to-date!\n",
            "       | Downloading package machado to /root/nltk_data...\n",
            "       |   Package machado is already up-to-date!\n",
            "       | Downloading package masc_tagged to /root/nltk_data...\n",
            "       |   Package masc_tagged is already up-to-date!\n",
            "       | Downloading package moses_sample to /root/nltk_data...\n",
            "       |   Package moses_sample is already up-to-date!\n",
            "       | Downloading package movie_reviews to /root/nltk_data...\n",
            "       |   Package movie_reviews is already up-to-date!\n",
            "       | Downloading package names to /root/nltk_data...\n",
            "       |   Package names is already up-to-date!\n",
            "       | Downloading package nombank.1.0 to /root/nltk_data...\n",
            "       |   Package nombank.1.0 is already up-to-date!\n",
            "       | Downloading package nps_chat to /root/nltk_data...\n",
            "       |   Package nps_chat is already up-to-date!\n",
            "       | Downloading package omw to /root/nltk_data...\n",
            "       |   Package omw is already up-to-date!\n",
            "       | Downloading package opinion_lexicon to /root/nltk_data...\n",
            "       |   Package opinion_lexicon is already up-to-date!\n",
            "       | Downloading package paradigms to /root/nltk_data...\n",
            "       |   Package paradigms is already up-to-date!\n",
            "       | Downloading package pil to /root/nltk_data...\n",
            "       |   Package pil is already up-to-date!\n",
            "       | Downloading package pl196x to /root/nltk_data...\n",
            "       |   Package pl196x is already up-to-date!\n",
            "       | Downloading package ppattach to /root/nltk_data...\n",
            "       |   Package ppattach is already up-to-date!\n",
            "       | Downloading package problem_reports to /root/nltk_data...\n",
            "       |   Package problem_reports is already up-to-date!\n",
            "       | Downloading package propbank to /root/nltk_data...\n",
            "       |   Package propbank is already up-to-date!\n",
            "       | Downloading package ptb to /root/nltk_data...\n",
            "       |   Package ptb is already up-to-date!\n",
            "       | Downloading package product_reviews_1 to /root/nltk_data...\n",
            "       |   Package product_reviews_1 is already up-to-date!\n",
            "       | Downloading package product_reviews_2 to /root/nltk_data...\n",
            "       |   Package product_reviews_2 is already up-to-date!\n",
            "       | Downloading package pros_cons to /root/nltk_data...\n",
            "       |   Package pros_cons is already up-to-date!\n",
            "       | Downloading package qc to /root/nltk_data...\n",
            "       |   Package qc is already up-to-date!\n",
            "       | Downloading package reuters to /root/nltk_data...\n",
            "       |   Package reuters is already up-to-date!\n",
            "       | Downloading package rte to /root/nltk_data...\n",
            "       |   Package rte is already up-to-date!\n",
            "       | Downloading package semcor to /root/nltk_data...\n",
            "       |   Package semcor is already up-to-date!\n",
            "       | Downloading package senseval to /root/nltk_data...\n",
            "       |   Package senseval is already up-to-date!\n",
            "       | Downloading package sentiwordnet to /root/nltk_data...\n",
            "       |   Package sentiwordnet is already up-to-date!\n",
            "       | Downloading package sentence_polarity to /root/nltk_data...\n",
            "       |   Package sentence_polarity is already up-to-date!\n",
            "       | Downloading package shakespeare to /root/nltk_data...\n",
            "       |   Package shakespeare is already up-to-date!\n",
            "       | Downloading package sinica_treebank to /root/nltk_data...\n",
            "       |   Package sinica_treebank is already up-to-date!\n",
            "       | Downloading package smultron to /root/nltk_data...\n",
            "       |   Package smultron is already up-to-date!\n",
            "       | Downloading package state_union to /root/nltk_data...\n",
            "       |   Package state_union is already up-to-date!\n",
            "       | Downloading package stopwords to /root/nltk_data...\n",
            "       |   Package stopwords is already up-to-date!\n",
            "       | Downloading package subjectivity to /root/nltk_data...\n",
            "       |   Package subjectivity is already up-to-date!\n",
            "       | Downloading package swadesh to /root/nltk_data...\n",
            "       |   Package swadesh is already up-to-date!\n",
            "       | Downloading package switchboard to /root/nltk_data...\n",
            "       |   Package switchboard is already up-to-date!\n",
            "       | Downloading package timit to /root/nltk_data...\n",
            "       |   Package timit is already up-to-date!\n",
            "       | Downloading package toolbox to /root/nltk_data...\n",
            "       |   Package toolbox is already up-to-date!\n",
            "       | Downloading package treebank to /root/nltk_data...\n",
            "       |   Package treebank is already up-to-date!\n",
            "       | Downloading package twitter_samples to /root/nltk_data...\n",
            "       |   Package twitter_samples is already up-to-date!\n",
            "       | Downloading package udhr to /root/nltk_data...\n",
            "       |   Package udhr is already up-to-date!\n",
            "       | Downloading package udhr2 to /root/nltk_data...\n",
            "       |   Package udhr2 is already up-to-date!\n",
            "       | Downloading package unicode_samples to /root/nltk_data...\n",
            "       |   Package unicode_samples is already up-to-date!\n",
            "       | Downloading package universal_treebanks_v20 to\n",
            "       |     /root/nltk_data...\n",
            "       |   Package universal_treebanks_v20 is already up-to-date!\n",
            "       | Downloading package verbnet to /root/nltk_data...\n",
            "       |   Package verbnet is already up-to-date!\n",
            "       | Downloading package verbnet3 to /root/nltk_data...\n",
            "       |   Package verbnet3 is already up-to-date!\n",
            "       | Downloading package webtext to /root/nltk_data...\n",
            "       |   Package webtext is already up-to-date!\n",
            "       | Downloading package wordnet to /root/nltk_data...\n",
            "       |   Package wordnet is already up-to-date!\n",
            "       | Downloading package wordnet_ic to /root/nltk_data...\n",
            "       |   Package wordnet_ic is already up-to-date!\n",
            "       | Downloading package words to /root/nltk_data...\n",
            "       |   Package words is already up-to-date!\n",
            "       | Downloading package ycoe to /root/nltk_data...\n",
            "       |   Package ycoe is already up-to-date!\n",
            "       | Downloading package rslp to /root/nltk_data...\n",
            "       |   Package rslp is already up-to-date!\n",
            "       | Downloading package maxent_treebank_pos_tagger to\n",
            "       |     /root/nltk_data...\n",
            "       |   Package maxent_treebank_pos_tagger is already up-to-date!\n",
            "       | Downloading package universal_tagset to /root/nltk_data...\n",
            "       |   Package universal_tagset is already up-to-date!\n",
            "       | Downloading package maxent_ne_chunker to /root/nltk_data...\n",
            "       |   Package maxent_ne_chunker is already up-to-date!\n",
            "       | Downloading package punkt to /root/nltk_data...\n",
            "       |   Package punkt is already up-to-date!\n",
            "       | Downloading package book_grammars to /root/nltk_data...\n",
            "       |   Package book_grammars is already up-to-date!\n",
            "       | Downloading package sample_grammars to /root/nltk_data...\n",
            "       |   Package sample_grammars is already up-to-date!\n",
            "       | Downloading package spanish_grammars to /root/nltk_data...\n",
            "       |   Package spanish_grammars is already up-to-date!\n",
            "       | Downloading package basque_grammars to /root/nltk_data...\n",
            "       |   Package basque_grammars is already up-to-date!\n",
            "       | Downloading package large_grammars to /root/nltk_data...\n",
            "       |   Package large_grammars is already up-to-date!\n",
            "       | Downloading package tagsets to /root/nltk_data...\n",
            "       |   Package tagsets is already up-to-date!\n",
            "       | Downloading package snowball_data to /root/nltk_data...\n",
            "       |   Package snowball_data is already up-to-date!\n",
            "       | Downloading package bllip_wsj_no_aux to /root/nltk_data...\n",
            "       |   Package bllip_wsj_no_aux is already up-to-date!\n",
            "       | Downloading package word2vec_sample to /root/nltk_data...\n",
            "       |   Package word2vec_sample is already up-to-date!\n",
            "       | Downloading package panlex_swadesh to /root/nltk_data...\n",
            "       |   Package panlex_swadesh is already up-to-date!\n",
            "       | Downloading package mte_teip5 to /root/nltk_data...\n",
            "       |   Package mte_teip5 is already up-to-date!\n",
            "       | Downloading package averaged_perceptron_tagger to\n",
            "       |     /root/nltk_data...\n",
            "       |   Package averaged_perceptron_tagger is already up-to-date!\n",
            "       | Downloading package averaged_perceptron_tagger_ru to\n",
            "       |     /root/nltk_data...\n",
            "       |   Package averaged_perceptron_tagger_ru is already up-to-\n",
            "       |       date!\n",
            "       | Downloading package perluniprops to /root/nltk_data...\n",
            "       |   Package perluniprops is already up-to-date!\n",
            "       | Downloading package nonbreaking_prefixes to\n",
            "       |     /root/nltk_data...\n",
            "       |   Package nonbreaking_prefixes is already up-to-date!\n",
            "       | Downloading package vader_lexicon to /root/nltk_data...\n",
            "       |   Package vader_lexicon is already up-to-date!\n",
            "       | Downloading package porter_test to /root/nltk_data...\n",
            "       |   Package porter_test is already up-to-date!\n",
            "       | Downloading package wmt15_eval to /root/nltk_data...\n",
            "       |   Package wmt15_eval is already up-to-date!\n",
            "       | Downloading package mwa_ppdb to /root/nltk_data...\n",
            "       |   Package mwa_ppdb is already up-to-date!\n",
            "       | \n",
            "     Done downloading collection all\n",
            "\n",
            "---------------------------------------------------------------------------\n",
            "    d) Download   l) List    u) Update   c) Config   h) Help   q) Quit\n",
            "---------------------------------------------------------------------------\n",
            "Downloader> d\n",
            "\n",
            "Download which package (l=list; x=cancel)?\n",
            "  Identifier> all\n",
            "    Downloading collection 'all'\n",
            "       | \n",
            "       | Downloading package abc to /root/nltk_data...\n",
            "       |   Package abc is already up-to-date!\n",
            "       | Downloading package alpino to /root/nltk_data...\n",
            "       |   Package alpino is already up-to-date!\n",
            "       | Downloading package biocreative_ppi to /root/nltk_data...\n",
            "       |   Package biocreative_ppi is already up-to-date!\n",
            "       | Downloading package brown to /root/nltk_data...\n",
            "       |   Package brown is already up-to-date!\n",
            "       | Downloading package brown_tei to /root/nltk_data...\n",
            "       |   Package brown_tei is already up-to-date!\n",
            "       | Downloading package cess_cat to /root/nltk_data...\n",
            "       |   Package cess_cat is already up-to-date!\n",
            "       | Downloading package cess_esp to /root/nltk_data...\n",
            "       |   Package cess_esp is already up-to-date!\n",
            "       | Downloading package chat80 to /root/nltk_data...\n",
            "       |   Package chat80 is already up-to-date!\n",
            "       | Downloading package city_database to /root/nltk_data...\n",
            "       |   Package city_database is already up-to-date!\n",
            "       | Downloading package cmudict to /root/nltk_data...\n",
            "       |   Package cmudict is already up-to-date!\n",
            "       | Downloading package comparative_sentences to\n",
            "       |     /root/nltk_data...\n",
            "       |   Package comparative_sentences is already up-to-date!\n",
            "       | Downloading package comtrans to /root/nltk_data...\n",
            "       |   Package comtrans is already up-to-date!\n",
            "       | Downloading package conll2000 to /root/nltk_data...\n",
            "       |   Package conll2000 is already up-to-date!\n",
            "       | Downloading package conll2002 to /root/nltk_data...\n",
            "       |   Package conll2002 is already up-to-date!\n",
            "       | Downloading package conll2007 to /root/nltk_data...\n",
            "       |   Package conll2007 is already up-to-date!\n",
            "       | Downloading package crubadan to /root/nltk_data...\n",
            "       |   Package crubadan is already up-to-date!\n",
            "       | Downloading package dependency_treebank to /root/nltk_data...\n",
            "       |   Package dependency_treebank is already up-to-date!\n",
            "       | Downloading package dolch to /root/nltk_data...\n",
            "       |   Package dolch is already up-to-date!\n",
            "       | Downloading package europarl_raw to /root/nltk_data...\n",
            "       |   Package europarl_raw is already up-to-date!\n",
            "       | Downloading package floresta to /root/nltk_data...\n",
            "       |   Package floresta is already up-to-date!\n",
            "       | Downloading package framenet_v15 to /root/nltk_data...\n",
            "       |   Package framenet_v15 is already up-to-date!\n",
            "       | Downloading package framenet_v17 to /root/nltk_data...\n",
            "       |   Package framenet_v17 is already up-to-date!\n",
            "       | Downloading package gazetteers to /root/nltk_data...\n",
            "       |   Package gazetteers is already up-to-date!\n",
            "       | Downloading package genesis to /root/nltk_data...\n",
            "       |   Package genesis is already up-to-date!\n",
            "       | Downloading package gutenberg to /root/nltk_data...\n",
            "       |   Package gutenberg is already up-to-date!\n",
            "       | Downloading package ieer to /root/nltk_data...\n",
            "       |   Package ieer is already up-to-date!\n",
            "       | Downloading package inaugural to /root/nltk_data...\n",
            "       |   Package inaugural is already up-to-date!\n",
            "       | Downloading package indian to /root/nltk_data...\n",
            "       |   Package indian is already up-to-date!\n",
            "       | Downloading package jeita to /root/nltk_data...\n",
            "       |   Package jeita is already up-to-date!\n",
            "       | Downloading package kimmo to /root/nltk_data...\n",
            "       |   Package kimmo is already up-to-date!\n",
            "       | Downloading package knbc to /root/nltk_data...\n",
            "       |   Package knbc is already up-to-date!\n",
            "       | Downloading package lin_thesaurus to /root/nltk_data...\n",
            "       |   Package lin_thesaurus is already up-to-date!\n",
            "       | Downloading package mac_morpho to /root/nltk_data...\n",
            "       |   Package mac_morpho is already up-to-date!\n",
            "       | Downloading package machado to /root/nltk_data...\n",
            "       |   Package machado is already up-to-date!\n",
            "       | Downloading package masc_tagged to /root/nltk_data...\n",
            "       |   Package masc_tagged is already up-to-date!\n",
            "       | Downloading package moses_sample to /root/nltk_data...\n",
            "       |   Package moses_sample is already up-to-date!\n",
            "       | Downloading package movie_reviews to /root/nltk_data...\n",
            "       |   Package movie_reviews is already up-to-date!\n",
            "       | Downloading package names to /root/nltk_data...\n",
            "       |   Package names is already up-to-date!\n",
            "       | Downloading package nombank.1.0 to /root/nltk_data...\n",
            "       |   Package nombank.1.0 is already up-to-date!\n",
            "       | Downloading package nps_chat to /root/nltk_data...\n",
            "       |   Package nps_chat is already up-to-date!\n",
            "       | Downloading package omw to /root/nltk_data...\n",
            "       |   Package omw is already up-to-date!\n",
            "       | Downloading package opinion_lexicon to /root/nltk_data...\n",
            "       |   Package opinion_lexicon is already up-to-date!\n",
            "       | Downloading package paradigms to /root/nltk_data...\n",
            "       |   Package paradigms is already up-to-date!\n",
            "       | Downloading package pil to /root/nltk_data...\n",
            "       |   Package pil is already up-to-date!\n",
            "       | Downloading package pl196x to /root/nltk_data...\n",
            "       |   Package pl196x is already up-to-date!\n",
            "       | Downloading package ppattach to /root/nltk_data...\n",
            "       |   Package ppattach is already up-to-date!\n",
            "       | Downloading package problem_reports to /root/nltk_data...\n",
            "       |   Package problem_reports is already up-to-date!\n",
            "       | Downloading package propbank to /root/nltk_data...\n",
            "       |   Package propbank is already up-to-date!\n",
            "       | Downloading package ptb to /root/nltk_data...\n",
            "       |   Package ptb is already up-to-date!\n",
            "       | Downloading package product_reviews_1 to /root/nltk_data...\n",
            "       |   Package product_reviews_1 is already up-to-date!\n",
            "       | Downloading package product_reviews_2 to /root/nltk_data...\n",
            "       |   Package product_reviews_2 is already up-to-date!\n",
            "       | Downloading package pros_cons to /root/nltk_data...\n",
            "       |   Package pros_cons is already up-to-date!\n",
            "       | Downloading package qc to /root/nltk_data...\n",
            "       |   Package qc is already up-to-date!\n",
            "       | Downloading package reuters to /root/nltk_data...\n",
            "       |   Package reuters is already up-to-date!\n",
            "       | Downloading package rte to /root/nltk_data...\n",
            "       |   Package rte is already up-to-date!\n",
            "       | Downloading package semcor to /root/nltk_data...\n",
            "       |   Package semcor is already up-to-date!\n",
            "       | Downloading package senseval to /root/nltk_data...\n",
            "       |   Package senseval is already up-to-date!\n",
            "       | Downloading package sentiwordnet to /root/nltk_data...\n",
            "       |   Package sentiwordnet is already up-to-date!\n",
            "       | Downloading package sentence_polarity to /root/nltk_data...\n",
            "       |   Package sentence_polarity is already up-to-date!\n",
            "       | Downloading package shakespeare to /root/nltk_data...\n",
            "       |   Package shakespeare is already up-to-date!\n",
            "       | Downloading package sinica_treebank to /root/nltk_data...\n",
            "       |   Package sinica_treebank is already up-to-date!\n",
            "       | Downloading package smultron to /root/nltk_data...\n",
            "       |   Package smultron is already up-to-date!\n",
            "       | Downloading package state_union to /root/nltk_data...\n",
            "       |   Package state_union is already up-to-date!\n",
            "       | Downloading package stopwords to /root/nltk_data...\n",
            "       |   Package stopwords is already up-to-date!\n",
            "       | Downloading package subjectivity to /root/nltk_data...\n",
            "       |   Package subjectivity is already up-to-date!\n",
            "       | Downloading package swadesh to /root/nltk_data...\n",
            "       |   Package swadesh is already up-to-date!\n",
            "       | Downloading package switchboard to /root/nltk_data...\n",
            "       |   Package switchboard is already up-to-date!\n",
            "       | Downloading package timit to /root/nltk_data...\n",
            "       |   Package timit is already up-to-date!\n",
            "       | Downloading package toolbox to /root/nltk_data...\n",
            "       |   Package toolbox is already up-to-date!\n",
            "       | Downloading package treebank to /root/nltk_data...\n",
            "       |   Package treebank is already up-to-date!\n",
            "       | Downloading package twitter_samples to /root/nltk_data...\n",
            "       |   Package twitter_samples is already up-to-date!\n",
            "       | Downloading package udhr to /root/nltk_data...\n",
            "       |   Package udhr is already up-to-date!\n",
            "       | Downloading package udhr2 to /root/nltk_data...\n",
            "       |   Package udhr2 is already up-to-date!\n",
            "       | Downloading package unicode_samples to /root/nltk_data...\n",
            "       |   Package unicode_samples is already up-to-date!\n",
            "       | Downloading package universal_treebanks_v20 to\n",
            "       |     /root/nltk_data...\n",
            "       |   Package universal_treebanks_v20 is already up-to-date!\n",
            "       | Downloading package verbnet to /root/nltk_data...\n",
            "       |   Package verbnet is already up-to-date!\n",
            "       | Downloading package verbnet3 to /root/nltk_data...\n",
            "       |   Package verbnet3 is already up-to-date!\n",
            "       | Downloading package webtext to /root/nltk_data...\n",
            "       |   Package webtext is already up-to-date!\n",
            "       | Downloading package wordnet to /root/nltk_data...\n",
            "       |   Package wordnet is already up-to-date!\n",
            "       | Downloading package wordnet_ic to /root/nltk_data...\n",
            "       |   Package wordnet_ic is already up-to-date!\n",
            "       | Downloading package words to /root/nltk_data...\n",
            "       |   Package words is already up-to-date!\n",
            "       | Downloading package ycoe to /root/nltk_data...\n",
            "       |   Package ycoe is already up-to-date!\n",
            "       | Downloading package rslp to /root/nltk_data...\n",
            "       |   Package rslp is already up-to-date!\n",
            "       | Downloading package maxent_treebank_pos_tagger to\n",
            "       |     /root/nltk_data...\n",
            "       |   Package maxent_treebank_pos_tagger is already up-to-date!\n",
            "       | Downloading package universal_tagset to /root/nltk_data...\n",
            "       |   Package universal_tagset is already up-to-date!\n",
            "       | Downloading package maxent_ne_chunker to /root/nltk_data...\n",
            "       |   Package maxent_ne_chunker is already up-to-date!\n",
            "       | Downloading package punkt to /root/nltk_data...\n",
            "       |   Package punkt is already up-to-date!\n",
            "       | Downloading package book_grammars to /root/nltk_data...\n",
            "       |   Package book_grammars is already up-to-date!\n",
            "       | Downloading package sample_grammars to /root/nltk_data...\n",
            "       |   Package sample_grammars is already up-to-date!\n",
            "       | Downloading package spanish_grammars to /root/nltk_data...\n",
            "       |   Package spanish_grammars is already up-to-date!\n",
            "       | Downloading package basque_grammars to /root/nltk_data...\n",
            "       |   Package basque_grammars is already up-to-date!\n",
            "       | Downloading package large_grammars to /root/nltk_data...\n",
            "       |   Package large_grammars is already up-to-date!\n",
            "       | Downloading package tagsets to /root/nltk_data...\n",
            "       |   Package tagsets is already up-to-date!\n",
            "       | Downloading package snowball_data to /root/nltk_data...\n",
            "       |   Package snowball_data is already up-to-date!\n",
            "       | Downloading package bllip_wsj_no_aux to /root/nltk_data...\n",
            "       |   Package bllip_wsj_no_aux is already up-to-date!\n",
            "       | Downloading package word2vec_sample to /root/nltk_data...\n",
            "       |   Package word2vec_sample is already up-to-date!\n",
            "       | Downloading package panlex_swadesh to /root/nltk_data...\n",
            "       |   Package panlex_swadesh is already up-to-date!\n",
            "       | Downloading package mte_teip5 to /root/nltk_data...\n",
            "       |   Package mte_teip5 is already up-to-date!\n",
            "       | Downloading package averaged_perceptron_tagger to\n",
            "       |     /root/nltk_data...\n",
            "       |   Package averaged_perceptron_tagger is already up-to-date!\n",
            "       | Downloading package averaged_perceptron_tagger_ru to\n",
            "       |     /root/nltk_data...\n",
            "       |   Package averaged_perceptron_tagger_ru is already up-to-\n",
            "       |       date!\n",
            "       | Downloading package perluniprops to /root/nltk_data...\n",
            "       |   Package perluniprops is already up-to-date!\n",
            "       | Downloading package nonbreaking_prefixes to\n",
            "       |     /root/nltk_data...\n",
            "       |   Package nonbreaking_prefixes is already up-to-date!\n",
            "       | Downloading package vader_lexicon to /root/nltk_data...\n",
            "       |   Package vader_lexicon is already up-to-date!\n",
            "       | Downloading package porter_test to /root/nltk_data...\n",
            "       |   Package porter_test is already up-to-date!\n",
            "       | Downloading package wmt15_eval to /root/nltk_data...\n",
            "       |   Package wmt15_eval is already up-to-date!\n",
            "       | Downloading package mwa_ppdb to /root/nltk_data...\n",
            "       |   Package mwa_ppdb is already up-to-date!\n",
            "       | \n",
            "     Done downloading collection all\n",
            "\n",
            "---------------------------------------------------------------------------\n",
            "    d) Download   l) List    u) Update   c) Config   h) Help   q) Quit\n",
            "---------------------------------------------------------------------------\n",
            "Downloader> q\n"
          ],
          "name": "stdout"
        },
        {
          "output_type": "execute_result",
          "data": {
            "text/plain": [
              "True"
            ]
          },
          "metadata": {
            "tags": []
          },
          "execution_count": 101
        }
      ]
    },
    {
      "cell_type": "markdown",
      "metadata": {
        "id": "I9cCsfqcE2VP"
      },
      "source": [
        "## Definindo o corpus\n",
        "\n",
        "Primeiramente, definimos o corpus que iremos trabalhar."
      ]
    },
    {
      "cell_type": "code",
      "metadata": {
        "id": "7EK3o5NME2VQ"
      },
      "source": [
        "# Caso o pacote wikipedia não funcione:\n",
        "## Entre no link e faça downaload do arquivo https://drive.google.com/open?id=15R1jcugeM5SoGSPIPyG_6X6F3oMlxSBt\n",
        "## Depois leia com o comando abaixo\n",
        "#file = open(\"pln_wikipedia.txt\", 'r')\n",
        "#file_wiki = file.readlines()\n",
        "#file.close()\n",
        "#corpus = '\\n'.join(file_wiki)"
      ],
      "execution_count": 102,
      "outputs": []
    },
    {
      "cell_type": "code",
      "metadata": {
        "id": "tm1Ar8uGE2VW"
      },
      "source": [
        "wikipedia.set_lang(\"pt\")"
      ],
      "execution_count": 103,
      "outputs": []
    },
    {
      "cell_type": "code",
      "metadata": {
        "id": "5d-E-QsJE2VZ"
      },
      "source": [
        "pln = wikipedia.page(\"PLN\")"
      ],
      "execution_count": 104,
      "outputs": []
    },
    {
      "cell_type": "code",
      "metadata": {
        "id": "rGXLthsFE2Vg"
      },
      "source": [
        "corpus = pln.content"
      ],
      "execution_count": 105,
      "outputs": []
    },
    {
      "cell_type": "code",
      "metadata": {
        "id": "vfjF9QFbE2Vj",
        "outputId": "44f909c2-28a3-47cb-87da-acd8c5fd31c9",
        "colab": {
          "base_uri": "https://localhost:8080/",
          "height": 33
        }
      },
      "source": [
        "print(\"O texto que estamos utilizando é da URL\",pln.url)"
      ],
      "execution_count": 106,
      "outputs": [
        {
          "output_type": "stream",
          "text": [
            "O texto que estamos utilizando é da URL https://pt.wikipedia.org/wiki/Processamento_de_linguagem_natural\n"
          ],
          "name": "stdout"
        }
      ]
    },
    {
      "cell_type": "code",
      "metadata": {
        "id": "SdzdUIqAE2Vo",
        "outputId": "d08d7702-93fc-45d6-a8b6-5630d423e08e",
        "colab": {
          "base_uri": "https://localhost:8080/",
          "height": 1000
        }
      },
      "source": [
        "print(pln.content)"
      ],
      "execution_count": 107,
      "outputs": [
        {
          "output_type": "stream",
          "text": [
            "Processamento de língua natural (PLN) é uma subárea da ciência da computação, inteligência artificial e da linguística que estuda os problemas da geração e compreensão automática de línguas humanas naturais. Sistemas de geração de língua natural convertem informação de bancos de dados de computadores em linguagem compreensível ao ser humano e sistemas de compreensão de língua natural convertem ocorrências de linguagem humana em representações mais formais, mais facilmente manipuláveis por programas de computador. Alguns desafios do PLN são compreensão de língua natural, fazer com que computadores extraiam sentido de linguagem humana ou natural e geração de língua natural.\n",
            "\n",
            "\n",
            "== História ==\n",
            "A história do PLN começou na década de 1950, quando Alan Turing publicou o artigo \"Computing Machinery and Intelligence\", que propunha o que agora é chamado de teste de Turing como critério de inteligência.\n",
            "Em 1954, a experiência de Georgetown envolveu a tradução automática de mais de sessenta frases russas para o inglês. Os autores afirmaram que dentro de três ou cinco anos a tradução automática seria um problema resolvido. No entanto, os avanços reais foram muito mais lentos do que o previsto e, após o relatório ALPAC em 1966, que constatou que a pesquisa de dez anos não conseguiu satisfazer as expectativas, o financiamento para este estudo em tradução automática foi reduzido drasticamente. Poucas pesquisas em tradução automática foram conduzidas até o final dos anos 80, quando os primeiros sistemas estatísticos de tradução foram desenvolvidos.\n",
            "Alguns sistemas de PLN bem sucedidos desenvolvidos nos anos 60 foram SHRDLU, um sistema de língua natural que trabalhava em \"blocks worlds\" com vocabulário restrito e ELIZA, uma simulação de um psicoterapeuta escrita por Joseph Weizenbaum entre 1964 e 1966. Usando pouca informação sobre o pensamento ou a emoção humana, ELIZA criava, em alguns casos, interações surpreendentemente humanas. Quando o \"paciente\" excedia a base de conhecimento do programa, ELIZA fornecia uma resposta genérica, por exemplo, respondendo a \"Minha cabeça dói\" com \"Por que você diz que sua cabeça dói?\".\n",
            "Durante a década de 1970, muitos programadores começaram a escrever \"ontologias conceituais\", que estruturaram a informação do mundo real em dados compreensíveis por computadores. Exemplos são MARGIE (SCHANK, 1975), SAM (CULLINGFORD, 1978), PAM (WILENSKY, 1978), TaleSpin (MEEHAN, 1976), QUALM (LEHNERT, 1977), Politics (CARBONELL, 1979) e Plot Units (LEHNERT, 1981 ). Neste período, muitos chatterbots foram escritos, como PARRY, Racter e Jabberwacky.\n",
            "Até a década de 1980, a maioria dos sistemas de PLN se baseava em conjuntos complexos de regras manuscritas. A partir do final dos anos 1980, no entanto, houve uma revolução no PLN com a introdução de algoritmos de aprendizagem automática (aprendizado de máquina) para o processamento de linguagem. Isto foi devido tanto ao aumento constante do poder computacional (ver Lei de Moore) quanto à diminuição gradual da dominância das teorias da linguística chomskyanas (como a gramática gerativa), cujos fundamentos teóricos desestimularam o tipo de corpus linguístico que está subjacente à abordagem da aprendizagem automática ao processamento da linguagem.\n",
            "Alguns dos algoritmos de aprendizado de máquinas mais antigos, como as árvores de decisão, produziam sistemas de regras rígidas então semelhantes às regras existentes na escritas à mão. No entanto, a marcação de partes da fala (part-of-speech tagging) introduziu o uso de modelos ocultos de Markov para o PLN e, cada vez mais, a pesquisa se concentrava em modelos estatísticos, que tomam decisões suaves e probabilísticas baseadas na atribuição de pesos reais aos recursos que compõem dados de entrada. Os modelos de linguagem de cache, sobre os quais muitos sistemas de reconhecimento de fala agora dependem, são exemplos de tais modelos estatísticos. Esses modelos são geralmente mais robustos quando dados informações desconhecidas, especialmente entrada que contém erros (como é muito comum para dados do mundo real) e produzem resultados mais confiáveis quando integrados em sistemas maiores que compreendem múltiplas tarefas.\n",
            "Muitos dos sucessos iniciais notáveis ocorreram no campo da tradução automática, devido especialmente ao trabalho de pesquisa da IBM, que desenvolveu modelos estatísticos mais elaborados. Estes sistemas foram capazes de tirar proveito de corpora textuais multilíngues existentes  produzidos pelo Parlamento do Canadá e a União Europeia como resultado de leis que exigem a tradução de todos os processos governamentais em todas as línguas oficiais dos países. No entanto, a maioria dos sistemas dependia de corpora desenvolvido especificamente para tarefas implementadas por esses sistemas, o que era (e muitas vezes continua sendo) uma grande limitação no sucesso dos mesmo. Como resultado, uma grande quantidade de pesquisa passou de quantidades de dados limitadas a métodos de aprendizagem mais eficazes.\n",
            "Pesquisas recentes têm se concentrado cada vez mais em algoritmos de aprendizagem semi-supervisionados e sem supervisão. Esses algoritmos são capazes de aprender com dados que não foram anotados manualmente com as respostas desejadas ou usando uma combinação de dados anotados e não anotados. Geralmente, esta tarefa é muito mais trabalhosa do que a aprendizagem supervisionada e normalmente produz resultados menos precisos para uma quantidade específica de dados de entrada. No entanto, há uma enorme quantidade de dados não anotados disponíveis (incluindo, entre outras coisas, todo o conteúdo da World Wide Web), que muitas vezes pode compensar os resultados inferiores.\n",
            "\n",
            "\n",
            "== Usando a aprendizagem automática (aprendizado de máquina) ==\n",
            "Os algoritmos modernos de PLN baseiam-se na aprendizagem mecânica, especialmente na aprendizagem de máquinas estatísticas. O paradigma da aprendizagem mecânica é diferente do da maioria das tentativas anteriores de processamento da linguagem. Anteriormente, implementações de tarefas de processamento de linguagem envolviam a codificação direta de grandes conjuntos de regras. O paradigma da aprendizagem automática (ou aprendizagem automática) induz a aprendizagem automática de regras através de análises de corpora de exemplos típicos do mundo real ao invés de usar algoritmos gerais de aprendizagem (muitas vezes, embora nem sempre, baseados em inferência estatística). Um corpus (plural \"corpora\") é um conjunto de documentos (ou frases individuais) que foram anotados à mão com os valores corretos a serem aprendidos.\n",
            "Muitas classes diferentes de algoritmos de aprendizado de máquina foram aplicadas a tarefas de PLN. Esses algoritmos tomam como entrada um grande conjunto de \"recursos\" que são gerados a partir de dados de entrada.\n",
            "Alguns dos algoritmos mais usados, como árvores de decisão, produziam sistemas de regras rígidas semelhantes aos sistemas de regras manuscritas mais comuns. No entanto, cada vez mais, a pesquisa tem se concentrado em modelos estatísticos, que tomam decisões flexíveis e probabilísticas baseadas em agregar pesos reais a cada característica de entrada. Tais modelos têm a vantagem de poder expressar a certeza relativa de muitas respostas possíveis diferentes em vez de apenas uma, produzindo resultados mais confiáveis quando esse modelo é incluído como um componente de um sistema maior.\n",
            "Os sistemas baseados em algoritmos de aprendizagem mecânica têm muitas vantagens em relação às regras produzidas manualmente:\n",
            "\n",
            "Os procedimentos de aprendizagem usados durante a aprendizagem da máquina focam-se automaticamente nos casos mais comuns, ao passo que quando se escrevem regras à mão, não é óbvio em que sentido o esforço deve ser dirigido.\n",
            "Os procedimentos de aprendizagem automática podem fazer uso de algoritmos de inferência estatística para produzir modelos que são robustos a entradas não familiares (por exemplo, contendo palavras ou estruturas que não foram vistas antes) e a entradas errôneas (por exemplo, com palavras ou palavras incorretamente omitidas). Geralmente, lidar com essas entradas de forma com regras manuscritas ou sistemas de regras manuscritas que tomam decisões suaves é extremamente trabalhoso, propenso a erros e demorado.\n",
            "Sistemas baseados em aprender automaticamente as regras podem ser mais precisos simplesmente fornecendo mais dados de entrada. No entanto, os sistemas baseados em regras escritas à mão só podem ser tornados mais precisos aumentando a complexidade das regras, o que é uma tarefa muito mais difícil. Em particular, há um limite para a complexidade de sistemas baseados em regras artesanais, para além dos quais os sistemas se tornam cada vez mais incontroláveis. No entanto, a criação de mais dados para entrada em sistemas de aprendizado de máquina requer simplesmente um aumento correspondente no número de horas trabalhadas por humanos, geralmente sem aumentos significativos na complexidade do processo de anotação.O subcampo de PLN dedicado a abordagens de aprendizagem é conhecido como aprendizagem de língua natural (NLL) e sua conferência, a CoNLL, e orgão central, o SIGNLL, são patrocinados pela ACL, reconhecendo também as suas ligações com linguística computacional e aquisição de linguagem. Quando o objetivo da pesquisa de aprendizagem de linguagem computacional é entender mais sobre aquisição de linguagem humana, ou psicolinguística, a NLL sobrepõe-se no campo relacionado de psicolinguística computacional.\n",
            "\n",
            "\n",
            "== Aplicações principais ==\n",
            "A listagem a seguir traz alguns dos trabalhos mais pesquisadas em PLN. Note que alguns deles têm aplicações no mundo real, enquanto outras servem mais frequentemente como tarefas secundárias que são usadas para auxiliar na resolução de tarefas maiores. O que distingue essas tarefas de outras tarefas potenciais e reais de PLN não é apenas o volume de pesquisa dedicado a elas, mas o fato de que para cada uma há tipicamente uma definição de problema bem especificada, uma métrica padrão para avaliar a tarefa, corpora padrão em que a tarefa pode ser avaliada e as competições dedicadas à tarefa específica.\n",
            "Sumarização automática\n",
            "\n",
            "Produz um resumo legível de uma parte do texto. Muitas vezes usado para fornecer resumos de texto de um tipo conhecido, como artigos na seção financeira de um jornal.Resolução de correferência\n",
            "\n",
            "Dada uma frase ou um pedaço maior de texto, determina quais palavras (\"menções\") se referem aos mesmos objetos (\"entidades\"). A resolução da anáfora é um exemplo específico dessa tarefa e está especificamente preocupada em combinar os pronomes com os substantivos ou nomes aos quais eles se referem. A tarefa mais geral da resolução de correferência também inclui a identificação dos chamados \"relacionamentos de ponte\" envolvendo expressões de referência. Por exemplo, numa frase como \"Ele entrou na casa de João pela porta da frente\", \"a porta da frente\" é uma expressão de referência e a relação da ponte a ser identificada é o fato de que a porta a ser referida é a porta da frente de John's (ao invés de alguma outra estrutura que também pode ser referida).Análise do Discurso\n",
            "\n",
            "Esta rubrica inclui uma série de tarefas relacionadas. Uma tarefa é identificar a estrutura discursiva do texto conectado, isto é, a natureza das relações discursivas entre sentenças (por exemplo, elaboração, explicação, contraste). Outra possível tarefa é reconhecer e classificar os atos de fala em um pedaço de texto (por exemplo, pergunta sim-não, pergunta de conteúdo, frase, afirmação, etc).Maquina de tradução\n",
            "\n",
            "Traduzir automaticamente texto de uma linguagem humana para outra. Este é uma das tarefas mais difíceis e faz parte de um tipo de problemas conhecidos como \"AI-complete\", ou seja, exigindo todos os diferentes tipos de conhecimento que os humanos possuem (gramática, semântica, fatos sobre o mundo real, etc) para resolvê-lo adequadamente.Segmentação morfológica\n",
            "\n",
            "Separa palavras em morfemas individuais e identifica classes de morfemas. A dificuldade desta tarefa depende muito da complexidade da morfologia (isto é, da estrutura das palavras) da linguagem que está sendo considerada. O inglês possui uma morfologia bastante simples, especialmente a morfologia flexional, e portanto é possível ignorar esta tarefa inteiramente e simplesmente modelar todas as formas possíveis de uma palavra (por exemplo, \"open, opens, opened, opening\") como palavras separadas. Em línguas como o turco ou o Meitei, uma língua indiana fortemente aglutinada, no entanto, tal abordagem não é possível, uma vez que cada entrada do dicionário tem milhares de formas de palavras possíveis.Reconhecimento de entidade nomeada (NER)\n",
            "\n",
            "Dado um fluxo de texto, determina quais são itens no mapa de texto para nomes próprios, como pessoas ou locais e qual é o tipo de cada nome (por exemplo, pessoa, local, organização). Embora a capitalização possa ajudar a reconhecer entidades nomeadas em idiomas como o inglês, essas informações podem não ajudar a determinar o tipo de entidade nomeada e, em alguns casos, sãos imprecisas ou insuficientes. Por exemplo, a primeira palavra de uma frase também é capitalizada e as entidades nomeadas muitas vezes abrangem várias palavras, com apenas algumas delas são capitalizadas. Além disso, muitas outras linguagens em scripts não-ocidentais (por exemplo, chinês ou árabe) não têm nenhuma capitalização e mesmo as línguas com maiúsculas podem não distinguir nomes. Por exemplo, o alemão capitaliza todos os substantivos, independentemente de se referirem a nomes, e o francês e o espanhol não capitalizam nomes que servem como adjetivos.Geração de língua natural\n",
            "\n",
            "Converte informações de bancos de dados de computador ou intenções semânticas em linguagem humana legível.Compreensão da língua natural\n",
            "\n",
            "Converte pedaços de texto em representações mais formais, como estruturas de lógica de primeira ordem, que são mais fáceis de manipular pelos programas de computador. A compreensão da língua natural envolve a identificação da semântica pretendida a partir da múltipla semântica possível que pode ser derivada de uma expressão de língua natural que geralmente toma a forma de notação organizada de conceitos de linguagens naturais. Entretanto, introdução e criação de linguagem metamodelo e ontologia são eficientes soluções empíricas. Uma formalização explícita da semântica de línguas naturais sem confusões com suposições implícitas como closed-world assumption (CWA) versus open-world assumption ou subjetiva Sim / Não versus objetivo Verdadeiro / Falso é esperada para a construção de uma base de formalização semântica.Reconhecimento óptico de caracteres (OCR)\n",
            "\n",
            "Dada uma imagem que representa o texto impresso, determina o texto correspondente.Marcação de classe gramatical\n",
            "\n",
            "Dada uma sentença, determina a classe gramatical de cada palavra. Muitas palavras, especialmente as comuns, podem servir como múltiplas partes do discurso. Em inglês, por exemplo, \"book\" pode ser um substantivo (\"the book on the table\") ou verbo (\"book a flight\"); \"Set\" pode ser um substantivo, verbo ou adjetivo; E \"out\" pode ser qualquer um de pelo menos cinco diferentes partes da fala. Algumas línguas têm mais ambiguidade do que outras. As línguas com pouca morfologia flexional, como o inglês, são particularmente propensas a tal ambiguidade. O chinês é propenso a tal ambiguidade porque é uma língua tonal durante a verbalização. Tal inflexão não é facilmente transmitida através das entidades empregadas dentro da ortografia para transmitir o significado pretendido.Análise sintática (Parsing)\n",
            "\n",
            "Determina a árvore de análise (análise gramatical) de uma frase. A gramática para as linguagens naturais é ambígua e frases típicas têm múltiplas análises possíveis. Na verdade, surpreendentemente, para uma frase típica pode haver milhares de análises em potencial (a maioria dos quais parecerá completamente absurda para um ser humano).Respostas a perguntas\n",
            "\n",
            "Dada uma questão de linguagem humana, determina sua resposta. As perguntas típicas têm uma resposta correta específica (como \"Qual é o capital do Canadá?\"), mas às vezes perguntas abertas também são consideradas (como \"Qual é o significado da vida?\"). Trabalhos recentes têm analisado questões ainda mais complexas.Extração de relacionamento\n",
            "\n",
            "Identifica as relações entre entidades nomeadas (por exemplo, quem é casado com quem) com base em textos.Quebra de frases (sentence boundary disambiguation)\n",
            "\n",
            "Encontra os limites da frase em um pedaço de texto. Os limites de frases são normalmente marcadas por pontos ou outros sinais de pontuação, mas esses mesmos caracteres podem servir outros propósitos.Análise de subjetividade (sentiment analysis ou opinion mining)\n",
            "\n",
            "Extrai informações subjetivas geralmente de um conjunto de documentos, muitas vezes usando revisões online para determinar a \"polaridade\" sobre objetos específicos. É especialmente útil para identificar tendências da opinião pública nas mídias sociais, para fins de marketing.Reconhecimento de fala\n",
            "\n",
            "Dado um clipe de som de uma pessoa ou pessoas falando, determina a representação textual do discurso. É o oposto da síntese de fala e é uma das áreas mais difíceis, conhecida como \"AI-complete\". Na fala natural quase não há pausas entre palavras sucessivas, por isso a segmentação de fala é uma subtarefa necessária de reconhecimento de fala. Nota-se também que, na maioria das linguagens faladas, os sons que representam letras sucessivas se misturam entre si em um processo denominado coarticulação, de modo que a conversão do sinal analógico em caracteres discretos pode ser um processo muito difícil de ser realizado.Segmentação de fala\n",
            "\n",
            "Dado um clipe de som de uma pessoa ou pessoas falando, separa-o em palavras. Uma subaplicação de reconhecimento de fala e normalmente agrupada com ele.Análise morfológica e reconhecimento de tópicos\n",
            "\n",
            "Dado um pedaço de texto, separa-o em segmentos cada um dos quais é dedicado a um tópico e identifica o tópico do segmento.Análise morfológica e segmentação de palavras\n",
            "\n",
            "Separa um pedaço de texto contínuo em palavras separadas. Para uma língua como o inglês, isso é bastante trivial, uma vez que as palavras são normalmente separadas por espaços. No entanto, algumas línguas escritas como chinês, japonês e tailandês não marcam limites de palavras de tal forma, e nessas línguas segmentação de texto é uma tarefa significativa que requer conhecimento do vocabulário e morfologia das palavras na língua.Desambiguação\n",
            "\n",
            "Muitas palavras têm mais de um significado, assim temos que selecionar o significado que faz mais sentido no contexto. Para este problema, em geral é dada uma lista de palavras e sentidos de palavras associadas de um dicionário ou recurso online, como o WordNet.\n",
            "Em alguns casos, conjuntos de tarefas relacionadas são agrupados em subcampos de PLN que são frequentemente considerados separadamente da PLN como um todo, como os exemplos à seguir:Recuperação de informação (IR)\n",
            "\n",
            "Trata-se de armazenar, pesquisar e recuperar informações. É um campo separado dentro da ciência da computação (mais perto de bancos de dados), mas a IR se baseia em alguns métodos PLN (por exemplo, stemming). Algumas pesquisas e aplicações atuais procuram preencher a lacuna entre IR e PLN.Extração de informação (IE)\n",
            "\n",
            "Trata-se, em geral, da extração de informação semântica a partir do texto. Abrange tarefas como reconhecimento de entidade mencionada, resolução de correferência e de relacionamento de extração, etc.\n",
            "Processamento de voz  Abrange reconhecimento de fala, síntese de fala e tarefas relacionadas.\n",
            "Outras tarefas incluem:\n",
            "Identificação na língua materna\n",
            "Stemização\n",
            "Simplificação do texto\n",
            "Síntese de fala\n",
            "Revisão de texto\n",
            "Pesquisa em língua natural\n",
            "Expansão da consulta\n",
            "Pontuação de ensaio automatizado\n",
            "Truecasing\n",
            "\n",
            "\n",
            "== Estatística ==\n",
            "Artigo principal: Gramática estocástica\n",
            "O processamento estatístico em língua natural utiliza métodos estocásticos, probabilísticos e estatísticos para resolver algumas das dificuldades discutidas acima, especialmente aquelas que surgem porque frases mais longas são muito ambíguas quando processadas com gramáticas realistas, produzindo milhares ou milhões de análises possíveis. Métodos de desambiguação envolvem muitas vezes o uso de corpora e modelos de Markov. O projeto ESPRIT P26 (1984-1988), liderado pelo CSELT, explorou o problema do reconhecimento de fala comparando abordagem baseada em conhecimento e estatística: o resultado escolhido foi um modelo completamente estatístico. Um dos primeiros modelos de compreensão estatística da língua natural foi introduzido em 1991 por Roberto Pieraccini, Esther Levin e Chin-Hui Lee, da Bell Laboratories]. O PLN compreende todas as abordagens quantitativas para processamento automatizado de linguagem, incluindo modelagem probabilística, teoria da informação e álgebra linear. A tecnologia para o PLN estatístico vem principalmente da aprendizagem automática e da mineração de dados, que são campos de inteligência artificial que envolvem o aprendizado a partir de dados.\n",
            "\n",
            "\n",
            "== Avaliação ==\n",
            "O objetivo da avaliação do PLN é uma medida de uma ou mais qualidades de um algoritmo ou de um sistema a fim de determinar se o algoritmo atende às metas dos projetistas ou o sistema de atendimento às necessidades de seus usuários. Investigação na avaliação PLN  tem ganhado atenção, porque a definição de critérios de avaliação é uma forma de especificar precisamente problemas do PLN. Uma métrica de avaliação de PLN em um sistema algorítmico permite a integração da compreensão de linguagem e geração de linguagem. Um conjunto preciso de critérios de avaliação, que pode ser aplicado principalmente a avaliações métricas, podendo permitir que várias equipes comparem suas soluções para um determinado problema do PLN.\n",
            "\n",
            "\n",
            "== Cronologia da avaliação ==\n",
            "Em 1983, iniciou-se o Projecto Esprit P26, que avaliou as Tecnologias da Fala (incluindo tópicos gerais como Sintaxe e Semântica) comparando as abordagens baseadas em regras com as estatísticas.\n",
            "Em 1987, a primeira campanha de avaliação de textos escritos parece ser uma campanha dedicada à compreensão da mensagem (Pallet, 1998).\n",
            "O projeto Parseval / GEIG comparou gramáticas de frase-estrutura (Black 1991).\n",
            "Houve uma série de campanhas no projeto Tipster sobre tarefas como resumo, tradução e pesquisa (Hirschman 1998).\n",
            "Em 1994, na Alemanha, o Morpholympics comparou marcadores morfológicos alemães.\n",
            "As campanhas de Senseval & Romanseval foram realizadas com os objetivos de desambiguação semântica.\n",
            "Em 1996, a campanha Sparkle comparou os analisadores sintáticos em quatro idiomas diferentes (inglês, francês, alemão e italiano).\n",
            "Na França, o projeto Grace comparou um conjunto de 21 marcadores para o francês em 1997 (Adda 1999).\n",
            "Em 2004, durante o projeto Technolangue / Easy, foram comparados 13 analisadores para o francês.\n",
            "A avaliação em larga escala dos analisadores de dependência foi realizada no contexto das tarefas compartilhadas do CoNLL em 2006 e 2007.\n",
            "Na França, no âmbito do projecto ANR-Passage (final de 2007), foram comparados 10 analisadores para o francês.\n",
            "Em Itália, a campanha EVALITA foi realizada em 2007, 2009, 2011 e 2014 para comparar várias ferramentas de PLN e de voz para o site italiano - EVALITA.\n",
            "\n",
            "\n",
            "== Diferentes tipos de avaliação ==\n",
            "Avaliação intrínseca vs. extrínseca\n",
            "A avaliação intrínseca considera um sistema PNL isolado e caracteriza seu desempenho em relação a um resultado padrão-excelência, conforme definido pelos avaliadores. A avaliação extrínseca, também chamada de avaliação em uso, considera o sistema PLN em um cenário mais complexo como um sistema embutido ou uma função precisa para um usuário humano. O desempenho extrínseco do sistema é então caracterizado em termos de utilidade em relação à tarefa global do sistema estranho ou do utilizador humano. Por exemplo, considere um analisador sintático que é baseado na saída de alguma parte do tagger de fala (POS). Uma avaliação intrínseca executaria o marcador POS em dados estruturados e compararia a saída do sistema do marcador POS com a saída padrão ouro. Uma avaliação extrínseca executaria o analisador com algum outro marcador POS e, em seguida, com o marcador POS novo e compara a precisão de análise.\n",
            "Caixa preta vs. Avaliação da caixa de vidro\n",
            "A avaliação em caixa preta requer que alguém execute um sistema PLN em um conjunto de dados de amostra e para medir uma série de parâmetros relacionados com a qualidade do processo, como velocidade, confiabilidade, consumo de recursos e, principalmente, a qualidade do resultado, como a precisão da anotação de dados ou a fidelidade de uma tradução. A avaliação da caixa de vidro examina a concepção do sistema; Os algoritmos que são implementados, os recursos linguísticos que utiliza, como o tamanho do vocabulário ou a expressão definida de cardinalidade. Dada a complexidade dos problemas da PLN, muitas vezes é difícil prever o desempenho apenas com base na avaliação da caixa de vidro; Mas este tipo de avaliação é mais informativo no que diz respeito à análise de erros ou desenvolvimentos futuros de um sistema.\n",
            "Automática vs. avaliação manual\n",
            "Em muitos casos, procedimentos automáticos podem ser definidos para avaliar um sistema de PLN, comparando sua saída com o padrão de excelência. Embora o custo de reproduzir o padrão de excelência possa ser bastante elevado, avaliação automática de bootstrapping sobre os mesmos dados de entrada pode ser repetida quantas vezes for necessário sem custos adicionais desordenados. No entanto, para muitos problemas de PLN a definição precisa de um padrão de excelência é uma tarefa complexa e pode se revelar impossível quando o acordo inter-anotador é insuficiente. A avaliação manual é melhor realizada por juízes humanos instruídos para estimar a qualidade de um sistema, ou mais frequentemente de uma amostra de sua produção, com base em uma série de critérios. Embora, graças à sua competência linguística, os juízes humanos possam ser considerados como a referência para uma série de tarefas de processamento de linguagem, há também uma variação considerável em suas classificações. É por isso que a avaliação automática é, por vezes, referida como avaliação objetiva enquanto a avaliação humana é perspectiva.\n",
            "\n",
            "\n",
            "== Padronização ==\n",
            "Um subcomitê ISO está trabalhando para facilitar a interoperabilidade entre recursos lexicais e programas PLN. O subcomitê faz parte do ISO / TC37 e é chamado ISO / TC37 / SC4. Alguns padrões ISO já estão publicados, mas a maioria deles está em construção, principalmente na representação de léxico (ver LMF), anotação e registro de categoria de dados.\n",
            "\n",
            "\n",
            "== Ferramentas ==\n",
            "Expert System S.p.A.\n",
            "General Architecture for Text Engineering\n",
            "Modular Audio Recognition Framework\n",
            "Natural Language Toolkit (NLTK): uma biblioteca em Python\n",
            "OpenNLP\n",
            "\n",
            "\n",
            "== Veja também ==\n",
            "Mineração de texto biomédica\n",
            "Processo de processamento composto\n",
            "Revisão assistida por computador\n",
            "Linguagem natural controlada\n",
            "Processamento linguístico profundo\n",
            "Auxílio à leitura de línguas estrangeiras\n",
            "Auxílio à escrita em língua estrangeira\n",
            "Tecnologia da linguagem\n",
            "A alocação de Dirichlet Latente (LDA)\n",
            "Indexação semântica latente\n",
            "Lista de ferramentas de processamento de língua natural\n",
            "Mapa de LRE\n",
            "Programação em língua natural\n",
            "Reificação (linguística)\n",
            "Dobradura semântica\n",
            "Sistema de diálogo falado\n",
            "Vetor do Pensamento\n",
            "Pesquisa Transderivacional\n",
            "Word2vec\n",
            "\n",
            "\n",
            "== Referências ==\n",
            "\n",
            "\n",
            "== Leitura adicional ==\n",
            "Steven Bird, Ewan Klein, and Edward Loper (2009). Natural Language Processing with Python. O'Reilly Media. ISBN 978-0-596-51649-9.\n",
            "Daniel Jurafsky and James H. Martin (2008). Speech and Language Processing, 2nd edition. Pearson Prentice Hall. ISBN 978-0-13-187321-6.\n",
            "Christopher D. Manning, Prabhakar Raghavan, and Hinrich Schütze (2008). Introduction to Information Retrieval. Cambridge University Press. ISBN 978-0-521-86571-5. Official html and pdf versions available without charge.\n",
            "Christopher D. Manning and Hinrich Schütze (1999). Foundations of Statistical Natural Language Processing. The MIT Press. ISBN 978-0-262-13360-9.\n",
            "David M. W. Powers and Christopher C. R. Turk (1989). Machine Learning of Natural Language. Springer-Verlag. ISBN 978-0-387-19557-5.\n"
          ],
          "name": "stdout"
        }
      ]
    },
    {
      "cell_type": "markdown",
      "metadata": {
        "id": "Wv23KoPjE2Vr"
      },
      "source": [
        "## Tokenização\n",
        "\n",
        "Existem várias formas de realizar tokenização. \n",
        "1. Split()\n",
        "2. Regex\n",
        "3. NLTK\n",
        "4. ..."
      ]
    },
    {
      "cell_type": "markdown",
      "metadata": {
        "id": "IrmQXE3jE2Vt"
      },
      "source": [
        "### Split\n",
        "\n",
        "Faça utilizando o método abaixo\n",
        "<b> Não esqueça de armazenar o resultado na variável abaixo. </b>\n",
        "\n",
        "```python\n",
        "str.split()\n",
        "```"
      ]
    },
    {
      "cell_type": "code",
      "metadata": {
        "id": "Q5wYhcXRE2Vv"
      },
      "source": [
        "tokens_split = corpus.split()"
      ],
      "execution_count": 108,
      "outputs": []
    },
    {
      "cell_type": "code",
      "metadata": {
        "id": "3bdDnMyGE2Vz",
        "outputId": "aa81609e-1cc4-4241-d212-a2937564592e",
        "colab": {
          "base_uri": "https://localhost:8080/",
          "height": 53
        }
      },
      "source": [
        "#problema do split é que ele não separa as pontuações.\n",
        "print(tokens_split)"
      ],
      "execution_count": 109,
      "outputs": [
        {
          "output_type": "stream",
          "text": [
            "['Processamento', 'de', 'língua', 'natural', '(PLN)', 'é', 'uma', 'subárea', 'da', 'ciência', 'da', 'computação,', 'inteligência', 'artificial', 'e', 'da', 'linguística', 'que', 'estuda', 'os', 'problemas', 'da', 'geração', 'e', 'compreensão', 'automática', 'de', 'línguas', 'humanas', 'naturais.', 'Sistemas', 'de', 'geração', 'de', 'língua', 'natural', 'convertem', 'informação', 'de', 'bancos', 'de', 'dados', 'de', 'computadores', 'em', 'linguagem', 'compreensível', 'ao', 'ser', 'humano', 'e', 'sistemas', 'de', 'compreensão', 'de', 'língua', 'natural', 'convertem', 'ocorrências', 'de', 'linguagem', 'humana', 'em', 'representações', 'mais', 'formais,', 'mais', 'facilmente', 'manipuláveis', 'por', 'programas', 'de', 'computador.', 'Alguns', 'desafios', 'do', 'PLN', 'são', 'compreensão', 'de', 'língua', 'natural,', 'fazer', 'com', 'que', 'computadores', 'extraiam', 'sentido', 'de', 'linguagem', 'humana', 'ou', 'natural', 'e', 'geração', 'de', 'língua', 'natural.', '==', 'História', '==', 'A', 'história', 'do', 'PLN', 'começou', 'na', 'década', 'de', '1950,', 'quando', 'Alan', 'Turing', 'publicou', 'o', 'artigo', '\"Computing', 'Machinery', 'and', 'Intelligence\",', 'que', 'propunha', 'o', 'que', 'agora', 'é', 'chamado', 'de', 'teste', 'de', 'Turing', 'como', 'critério', 'de', 'inteligência.', 'Em', '1954,', 'a', 'experiência', 'de', 'Georgetown', 'envolveu', 'a', 'tradução', 'automática', 'de', 'mais', 'de', 'sessenta', 'frases', 'russas', 'para', 'o', 'inglês.', 'Os', 'autores', 'afirmaram', 'que', 'dentro', 'de', 'três', 'ou', 'cinco', 'anos', 'a', 'tradução', 'automática', 'seria', 'um', 'problema', 'resolvido.', 'No', 'entanto,', 'os', 'avanços', 'reais', 'foram', 'muito', 'mais', 'lentos', 'do', 'que', 'o', 'previsto', 'e,', 'após', 'o', 'relatório', 'ALPAC', 'em', '1966,', 'que', 'constatou', 'que', 'a', 'pesquisa', 'de', 'dez', 'anos', 'não', 'conseguiu', 'satisfazer', 'as', 'expectativas,', 'o', 'financiamento', 'para', 'este', 'estudo', 'em', 'tradução', 'automática', 'foi', 'reduzido', 'drasticamente.', 'Poucas', 'pesquisas', 'em', 'tradução', 'automática', 'foram', 'conduzidas', 'até', 'o', 'final', 'dos', 'anos', '80,', 'quando', 'os', 'primeiros', 'sistemas', 'estatísticos', 'de', 'tradução', 'foram', 'desenvolvidos.', 'Alguns', 'sistemas', 'de', 'PLN', 'bem', 'sucedidos', 'desenvolvidos', 'nos', 'anos', '60', 'foram', 'SHRDLU,', 'um', 'sistema', 'de', 'língua', 'natural', 'que', 'trabalhava', 'em', '\"blocks', 'worlds\"', 'com', 'vocabulário', 'restrito', 'e', 'ELIZA,', 'uma', 'simulação', 'de', 'um', 'psicoterapeuta', 'escrita', 'por', 'Joseph', 'Weizenbaum', 'entre', '1964', 'e', '1966.', 'Usando', 'pouca', 'informação', 'sobre', 'o', 'pensamento', 'ou', 'a', 'emoção', 'humana,', 'ELIZA', 'criava,', 'em', 'alguns', 'casos,', 'interações', 'surpreendentemente', 'humanas.', 'Quando', 'o', '\"paciente\"', 'excedia', 'a', 'base', 'de', 'conhecimento', 'do', 'programa,', 'ELIZA', 'fornecia', 'uma', 'resposta', 'genérica,', 'por', 'exemplo,', 'respondendo', 'a', '\"Minha', 'cabeça', 'dói\"', 'com', '\"Por', 'que', 'você', 'diz', 'que', 'sua', 'cabeça', 'dói?\".', 'Durante', 'a', 'década', 'de', '1970,', 'muitos', 'programadores', 'começaram', 'a', 'escrever', '\"ontologias', 'conceituais\",', 'que', 'estruturaram', 'a', 'informação', 'do', 'mundo', 'real', 'em', 'dados', 'compreensíveis', 'por', 'computadores.', 'Exemplos', 'são', 'MARGIE', '(SCHANK,', '1975),', 'SAM', '(CULLINGFORD,', '1978),', 'PAM', '(WILENSKY,', '1978),', 'TaleSpin', '(MEEHAN,', '1976),', 'QUALM', '(LEHNERT,', '1977),', 'Politics', '(CARBONELL,', '1979)', 'e', 'Plot', 'Units', '(LEHNERT,', '1981', ').', 'Neste', 'período,', 'muitos', 'chatterbots', 'foram', 'escritos,', 'como', 'PARRY,', 'Racter', 'e', 'Jabberwacky.', 'Até', 'a', 'década', 'de', '1980,', 'a', 'maioria', 'dos', 'sistemas', 'de', 'PLN', 'se', 'baseava', 'em', 'conjuntos', 'complexos', 'de', 'regras', 'manuscritas.', 'A', 'partir', 'do', 'final', 'dos', 'anos', '1980,', 'no', 'entanto,', 'houve', 'uma', 'revolução', 'no', 'PLN', 'com', 'a', 'introdução', 'de', 'algoritmos', 'de', 'aprendizagem', 'automática', '(aprendizado', 'de', 'máquina)', 'para', 'o', 'processamento', 'de', 'linguagem.', 'Isto', 'foi', 'devido', 'tanto', 'ao', 'aumento', 'constante', 'do', 'poder', 'computacional', '(ver', 'Lei', 'de', 'Moore)', 'quanto', 'à', 'diminuição', 'gradual', 'da', 'dominância', 'das', 'teorias', 'da', 'linguística', 'chomskyanas', '(como', 'a', 'gramática', 'gerativa),', 'cujos', 'fundamentos', 'teóricos', 'desestimularam', 'o', 'tipo', 'de', 'corpus', 'linguístico', 'que', 'está', 'subjacente', 'à', 'abordagem', 'da', 'aprendizagem', 'automática', 'ao', 'processamento', 'da', 'linguagem.', 'Alguns', 'dos', 'algoritmos', 'de', 'aprendizado', 'de', 'máquinas', 'mais', 'antigos,', 'como', 'as', 'árvores', 'de', 'decisão,', 'produziam', 'sistemas', 'de', 'regras', 'rígidas', 'então', 'semelhantes', 'às', 'regras', 'existentes', 'na', 'escritas', 'à', 'mão.', 'No', 'entanto,', 'a', 'marcação', 'de', 'partes', 'da', 'fala', '(part-of-speech', 'tagging)', 'introduziu', 'o', 'uso', 'de', 'modelos', 'ocultos', 'de', 'Markov', 'para', 'o', 'PLN', 'e,', 'cada', 'vez', 'mais,', 'a', 'pesquisa', 'se', 'concentrava', 'em', 'modelos', 'estatísticos,', 'que', 'tomam', 'decisões', 'suaves', 'e', 'probabilísticas', 'baseadas', 'na', 'atribuição', 'de', 'pesos', 'reais', 'aos', 'recursos', 'que', 'compõem', 'dados', 'de', 'entrada.', 'Os', 'modelos', 'de', 'linguagem', 'de', 'cache,', 'sobre', 'os', 'quais', 'muitos', 'sistemas', 'de', 'reconhecimento', 'de', 'fala', 'agora', 'dependem,', 'são', 'exemplos', 'de', 'tais', 'modelos', 'estatísticos.', 'Esses', 'modelos', 'são', 'geralmente', 'mais', 'robustos', 'quando', 'dados', 'informações', 'desconhecidas,', 'especialmente', 'entrada', 'que', 'contém', 'erros', '(como', 'é', 'muito', 'comum', 'para', 'dados', 'do', 'mundo', 'real)', 'e', 'produzem', 'resultados', 'mais', 'confiáveis', 'quando', 'integrados', 'em', 'sistemas', 'maiores', 'que', 'compreendem', 'múltiplas', 'tarefas.', 'Muitos', 'dos', 'sucessos', 'iniciais', 'notáveis', 'ocorreram', 'no', 'campo', 'da', 'tradução', 'automática,', 'devido', 'especialmente', 'ao', 'trabalho', 'de', 'pesquisa', 'da', 'IBM,', 'que', 'desenvolveu', 'modelos', 'estatísticos', 'mais', 'elaborados.', 'Estes', 'sistemas', 'foram', 'capazes', 'de', 'tirar', 'proveito', 'de', 'corpora', 'textuais', 'multilíngues', 'existentes', 'produzidos', 'pelo', 'Parlamento', 'do', 'Canadá', 'e', 'a', 'União', 'Europeia', 'como', 'resultado', 'de', 'leis', 'que', 'exigem', 'a', 'tradução', 'de', 'todos', 'os', 'processos', 'governamentais', 'em', 'todas', 'as', 'línguas', 'oficiais', 'dos', 'países.', 'No', 'entanto,', 'a', 'maioria', 'dos', 'sistemas', 'dependia', 'de', 'corpora', 'desenvolvido', 'especificamente', 'para', 'tarefas', 'implementadas', 'por', 'esses', 'sistemas,', 'o', 'que', 'era', '(e', 'muitas', 'vezes', 'continua', 'sendo)', 'uma', 'grande', 'limitação', 'no', 'sucesso', 'dos', 'mesmo.', 'Como', 'resultado,', 'uma', 'grande', 'quantidade', 'de', 'pesquisa', 'passou', 'de', 'quantidades', 'de', 'dados', 'limitadas', 'a', 'métodos', 'de', 'aprendizagem', 'mais', 'eficazes.', 'Pesquisas', 'recentes', 'têm', 'se', 'concentrado', 'cada', 'vez', 'mais', 'em', 'algoritmos', 'de', 'aprendizagem', 'semi-supervisionados', 'e', 'sem', 'supervisão.', 'Esses', 'algoritmos', 'são', 'capazes', 'de', 'aprender', 'com', 'dados', 'que', 'não', 'foram', 'anotados', 'manualmente', 'com', 'as', 'respostas', 'desejadas', 'ou', 'usando', 'uma', 'combinação', 'de', 'dados', 'anotados', 'e', 'não', 'anotados.', 'Geralmente,', 'esta', 'tarefa', 'é', 'muito', 'mais', 'trabalhosa', 'do', 'que', 'a', 'aprendizagem', 'supervisionada', 'e', 'normalmente', 'produz', 'resultados', 'menos', 'precisos', 'para', 'uma', 'quantidade', 'específica', 'de', 'dados', 'de', 'entrada.', 'No', 'entanto,', 'há', 'uma', 'enorme', 'quantidade', 'de', 'dados', 'não', 'anotados', 'disponíveis', '(incluindo,', 'entre', 'outras', 'coisas,', 'todo', 'o', 'conteúdo', 'da', 'World', 'Wide', 'Web),', 'que', 'muitas', 'vezes', 'pode', 'compensar', 'os', 'resultados', 'inferiores.', '==', 'Usando', 'a', 'aprendizagem', 'automática', '(aprendizado', 'de', 'máquina)', '==', 'Os', 'algoritmos', 'modernos', 'de', 'PLN', 'baseiam-se', 'na', 'aprendizagem', 'mecânica,', 'especialmente', 'na', 'aprendizagem', 'de', 'máquinas', 'estatísticas.', 'O', 'paradigma', 'da', 'aprendizagem', 'mecânica', 'é', 'diferente', 'do', 'da', 'maioria', 'das', 'tentativas', 'anteriores', 'de', 'processamento', 'da', 'linguagem.', 'Anteriormente,', 'implementações', 'de', 'tarefas', 'de', 'processamento', 'de', 'linguagem', 'envolviam', 'a', 'codificação', 'direta', 'de', 'grandes', 'conjuntos', 'de', 'regras.', 'O', 'paradigma', 'da', 'aprendizagem', 'automática', '(ou', 'aprendizagem', 'automática)', 'induz', 'a', 'aprendizagem', 'automática', 'de', 'regras', 'através', 'de', 'análises', 'de', 'corpora', 'de', 'exemplos', 'típicos', 'do', 'mundo', 'real', 'ao', 'invés', 'de', 'usar', 'algoritmos', 'gerais', 'de', 'aprendizagem', '(muitas', 'vezes,', 'embora', 'nem', 'sempre,', 'baseados', 'em', 'inferência', 'estatística).', 'Um', 'corpus', '(plural', '\"corpora\")', 'é', 'um', 'conjunto', 'de', 'documentos', '(ou', 'frases', 'individuais)', 'que', 'foram', 'anotados', 'à', 'mão', 'com', 'os', 'valores', 'corretos', 'a', 'serem', 'aprendidos.', 'Muitas', 'classes', 'diferentes', 'de', 'algoritmos', 'de', 'aprendizado', 'de', 'máquina', 'foram', 'aplicadas', 'a', 'tarefas', 'de', 'PLN.', 'Esses', 'algoritmos', 'tomam', 'como', 'entrada', 'um', 'grande', 'conjunto', 'de', '\"recursos\"', 'que', 'são', 'gerados', 'a', 'partir', 'de', 'dados', 'de', 'entrada.', 'Alguns', 'dos', 'algoritmos', 'mais', 'usados,', 'como', 'árvores', 'de', 'decisão,', 'produziam', 'sistemas', 'de', 'regras', 'rígidas', 'semelhantes', 'aos', 'sistemas', 'de', 'regras', 'manuscritas', 'mais', 'comuns.', 'No', 'entanto,', 'cada', 'vez', 'mais,', 'a', 'pesquisa', 'tem', 'se', 'concentrado', 'em', 'modelos', 'estatísticos,', 'que', 'tomam', 'decisões', 'flexíveis', 'e', 'probabilísticas', 'baseadas', 'em', 'agregar', 'pesos', 'reais', 'a', 'cada', 'característica', 'de', 'entrada.', 'Tais', 'modelos', 'têm', 'a', 'vantagem', 'de', 'poder', 'expressar', 'a', 'certeza', 'relativa', 'de', 'muitas', 'respostas', 'possíveis', 'diferentes', 'em', 'vez', 'de', 'apenas', 'uma,', 'produzindo', 'resultados', 'mais', 'confiáveis', 'quando', 'esse', 'modelo', 'é', 'incluído', 'como', 'um', 'componente', 'de', 'um', 'sistema', 'maior.', 'Os', 'sistemas', 'baseados', 'em', 'algoritmos', 'de', 'aprendizagem', 'mecânica', 'têm', 'muitas', 'vantagens', 'em', 'relação', 'às', 'regras', 'produzidas', 'manualmente:', 'Os', 'procedimentos', 'de', 'aprendizagem', 'usados', 'durante', 'a', 'aprendizagem', 'da', 'máquina', 'focam-se', 'automaticamente', 'nos', 'casos', 'mais', 'comuns,', 'ao', 'passo', 'que', 'quando', 'se', 'escrevem', 'regras', 'à', 'mão,', 'não', 'é', 'óbvio', 'em', 'que', 'sentido', 'o', 'esforço', 'deve', 'ser', 'dirigido.', 'Os', 'procedimentos', 'de', 'aprendizagem', 'automática', 'podem', 'fazer', 'uso', 'de', 'algoritmos', 'de', 'inferência', 'estatística', 'para', 'produzir', 'modelos', 'que', 'são', 'robustos', 'a', 'entradas', 'não', 'familiares', '(por', 'exemplo,', 'contendo', 'palavras', 'ou', 'estruturas', 'que', 'não', 'foram', 'vistas', 'antes)', 'e', 'a', 'entradas', 'errôneas', '(por', 'exemplo,', 'com', 'palavras', 'ou', 'palavras', 'incorretamente', 'omitidas).', 'Geralmente,', 'lidar', 'com', 'essas', 'entradas', 'de', 'forma', 'com', 'regras', 'manuscritas', 'ou', 'sistemas', 'de', 'regras', 'manuscritas', 'que', 'tomam', 'decisões', 'suaves', 'é', 'extremamente', 'trabalhoso,', 'propenso', 'a', 'erros', 'e', 'demorado.', 'Sistemas', 'baseados', 'em', 'aprender', 'automaticamente', 'as', 'regras', 'podem', 'ser', 'mais', 'precisos', 'simplesmente', 'fornecendo', 'mais', 'dados', 'de', 'entrada.', 'No', 'entanto,', 'os', 'sistemas', 'baseados', 'em', 'regras', 'escritas', 'à', 'mão', 'só', 'podem', 'ser', 'tornados', 'mais', 'precisos', 'aumentando', 'a', 'complexidade', 'das', 'regras,', 'o', 'que', 'é', 'uma', 'tarefa', 'muito', 'mais', 'difícil.', 'Em', 'particular,', 'há', 'um', 'limite', 'para', 'a', 'complexidade', 'de', 'sistemas', 'baseados', 'em', 'regras', 'artesanais,', 'para', 'além', 'dos', 'quais', 'os', 'sistemas', 'se', 'tornam', 'cada', 'vez', 'mais', 'incontroláveis.', 'No', 'entanto,', 'a', 'criação', 'de', 'mais', 'dados', 'para', 'entrada', 'em', 'sistemas', 'de', 'aprendizado', 'de', 'máquina', 'requer', 'simplesmente', 'um', 'aumento', 'correspondente', 'no', 'número', 'de', 'horas', 'trabalhadas', 'por', 'humanos,', 'geralmente', 'sem', 'aumentos', 'significativos', 'na', 'complexidade', 'do', 'processo', 'de', 'anotação.O', 'subcampo', 'de', 'PLN', 'dedicado', 'a', 'abordagens', 'de', 'aprendizagem', 'é', 'conhecido', 'como', 'aprendizagem', 'de', 'língua', 'natural', '(NLL)', 'e', 'sua', 'conferência,', 'a', 'CoNLL,', 'e', 'orgão', 'central,', 'o', 'SIGNLL,', 'são', 'patrocinados', 'pela', 'ACL,', 'reconhecendo', 'também', 'as', 'suas', 'ligações', 'com', 'linguística', 'computacional', 'e', 'aquisição', 'de', 'linguagem.', 'Quando', 'o', 'objetivo', 'da', 'pesquisa', 'de', 'aprendizagem', 'de', 'linguagem', 'computacional', 'é', 'entender', 'mais', 'sobre', 'aquisição', 'de', 'linguagem', 'humana,', 'ou', 'psicolinguística,', 'a', 'NLL', 'sobrepõe-se', 'no', 'campo', 'relacionado', 'de', 'psicolinguística', 'computacional.', '==', 'Aplicações', 'principais', '==', 'A', 'listagem', 'a', 'seguir', 'traz', 'alguns', 'dos', 'trabalhos', 'mais', 'pesquisadas', 'em', 'PLN.', 'Note', 'que', 'alguns', 'deles', 'têm', 'aplicações', 'no', 'mundo', 'real,', 'enquanto', 'outras', 'servem', 'mais', 'frequentemente', 'como', 'tarefas', 'secundárias', 'que', 'são', 'usadas', 'para', 'auxiliar', 'na', 'resolução', 'de', 'tarefas', 'maiores.', 'O', 'que', 'distingue', 'essas', 'tarefas', 'de', 'outras', 'tarefas', 'potenciais', 'e', 'reais', 'de', 'PLN', 'não', 'é', 'apenas', 'o', 'volume', 'de', 'pesquisa', 'dedicado', 'a', 'elas,', 'mas', 'o', 'fato', 'de', 'que', 'para', 'cada', 'uma', 'há', 'tipicamente', 'uma', 'definição', 'de', 'problema', 'bem', 'especificada,', 'uma', 'métrica', 'padrão', 'para', 'avaliar', 'a', 'tarefa,', 'corpora', 'padrão', 'em', 'que', 'a', 'tarefa', 'pode', 'ser', 'avaliada', 'e', 'as', 'competições', 'dedicadas', 'à', 'tarefa', 'específica.', 'Sumarização', 'automática', 'Produz', 'um', 'resumo', 'legível', 'de', 'uma', 'parte', 'do', 'texto.', 'Muitas', 'vezes', 'usado', 'para', 'fornecer', 'resumos', 'de', 'texto', 'de', 'um', 'tipo', 'conhecido,', 'como', 'artigos', 'na', 'seção', 'financeira', 'de', 'um', 'jornal.Resolução', 'de', 'correferência', 'Dada', 'uma', 'frase', 'ou', 'um', 'pedaço', 'maior', 'de', 'texto,', 'determina', 'quais', 'palavras', '(\"menções\")', 'se', 'referem', 'aos', 'mesmos', 'objetos', '(\"entidades\").', 'A', 'resolução', 'da', 'anáfora', 'é', 'um', 'exemplo', 'específico', 'dessa', 'tarefa', 'e', 'está', 'especificamente', 'preocupada', 'em', 'combinar', 'os', 'pronomes', 'com', 'os', 'substantivos', 'ou', 'nomes', 'aos', 'quais', 'eles', 'se', 'referem.', 'A', 'tarefa', 'mais', 'geral', 'da', 'resolução', 'de', 'correferência', 'também', 'inclui', 'a', 'identificação', 'dos', 'chamados', '\"relacionamentos', 'de', 'ponte\"', 'envolvendo', 'expressões', 'de', 'referência.', 'Por', 'exemplo,', 'numa', 'frase', 'como', '\"Ele', 'entrou', 'na', 'casa', 'de', 'João', 'pela', 'porta', 'da', 'frente\",', '\"a', 'porta', 'da', 'frente\"', 'é', 'uma', 'expressão', 'de', 'referência', 'e', 'a', 'relação', 'da', 'ponte', 'a', 'ser', 'identificada', 'é', 'o', 'fato', 'de', 'que', 'a', 'porta', 'a', 'ser', 'referida', 'é', 'a', 'porta', 'da', 'frente', 'de', \"John's\", '(ao', 'invés', 'de', 'alguma', 'outra', 'estrutura', 'que', 'também', 'pode', 'ser', 'referida).Análise', 'do', 'Discurso', 'Esta', 'rubrica', 'inclui', 'uma', 'série', 'de', 'tarefas', 'relacionadas.', 'Uma', 'tarefa', 'é', 'identificar', 'a', 'estrutura', 'discursiva', 'do', 'texto', 'conectado,', 'isto', 'é,', 'a', 'natureza', 'das', 'relações', 'discursivas', 'entre', 'sentenças', '(por', 'exemplo,', 'elaboração,', 'explicação,', 'contraste).', 'Outra', 'possível', 'tarefa', 'é', 'reconhecer', 'e', 'classificar', 'os', 'atos', 'de', 'fala', 'em', 'um', 'pedaço', 'de', 'texto', '(por', 'exemplo,', 'pergunta', 'sim-não,', 'pergunta', 'de', 'conteúdo,', 'frase,', 'afirmação,', 'etc).Maquina', 'de', 'tradução', 'Traduzir', 'automaticamente', 'texto', 'de', 'uma', 'linguagem', 'humana', 'para', 'outra.', 'Este', 'é', 'uma', 'das', 'tarefas', 'mais', 'difíceis', 'e', 'faz', 'parte', 'de', 'um', 'tipo', 'de', 'problemas', 'conhecidos', 'como', '\"AI-complete\",', 'ou', 'seja,', 'exigindo', 'todos', 'os', 'diferentes', 'tipos', 'de', 'conhecimento', 'que', 'os', 'humanos', 'possuem', '(gramática,', 'semântica,', 'fatos', 'sobre', 'o', 'mundo', 'real,', 'etc)', 'para', 'resolvê-lo', 'adequadamente.Segmentação', 'morfológica', 'Separa', 'palavras', 'em', 'morfemas', 'individuais', 'e', 'identifica', 'classes', 'de', 'morfemas.', 'A', 'dificuldade', 'desta', 'tarefa', 'depende', 'muito', 'da', 'complexidade', 'da', 'morfologia', '(isto', 'é,', 'da', 'estrutura', 'das', 'palavras)', 'da', 'linguagem', 'que', 'está', 'sendo', 'considerada.', 'O', 'inglês', 'possui', 'uma', 'morfologia', 'bastante', 'simples,', 'especialmente', 'a', 'morfologia', 'flexional,', 'e', 'portanto', 'é', 'possível', 'ignorar', 'esta', 'tarefa', 'inteiramente', 'e', 'simplesmente', 'modelar', 'todas', 'as', 'formas', 'possíveis', 'de', 'uma', 'palavra', '(por', 'exemplo,', '\"open,', 'opens,', 'opened,', 'opening\")', 'como', 'palavras', 'separadas.', 'Em', 'línguas', 'como', 'o', 'turco', 'ou', 'o', 'Meitei,', 'uma', 'língua', 'indiana', 'fortemente', 'aglutinada,', 'no', 'entanto,', 'tal', 'abordagem', 'não', 'é', 'possível,', 'uma', 'vez', 'que', 'cada', 'entrada', 'do', 'dicionário', 'tem', 'milhares', 'de', 'formas', 'de', 'palavras', 'possíveis.Reconhecimento', 'de', 'entidade', 'nomeada', '(NER)', 'Dado', 'um', 'fluxo', 'de', 'texto,', 'determina', 'quais', 'são', 'itens', 'no', 'mapa', 'de', 'texto', 'para', 'nomes', 'próprios,', 'como', 'pessoas', 'ou', 'locais', 'e', 'qual', 'é', 'o', 'tipo', 'de', 'cada', 'nome', '(por', 'exemplo,', 'pessoa,', 'local,', 'organização).', 'Embora', 'a', 'capitalização', 'possa', 'ajudar', 'a', 'reconhecer', 'entidades', 'nomeadas', 'em', 'idiomas', 'como', 'o', 'inglês,', 'essas', 'informações', 'podem', 'não', 'ajudar', 'a', 'determinar', 'o', 'tipo', 'de', 'entidade', 'nomeada', 'e,', 'em', 'alguns', 'casos,', 'sãos', 'imprecisas', 'ou', 'insuficientes.', 'Por', 'exemplo,', 'a', 'primeira', 'palavra', 'de', 'uma', 'frase', 'também', 'é', 'capitalizada', 'e', 'as', 'entidades', 'nomeadas', 'muitas', 'vezes', 'abrangem', 'várias', 'palavras,', 'com', 'apenas', 'algumas', 'delas', 'são', 'capitalizadas.', 'Além', 'disso,', 'muitas', 'outras', 'linguagens', 'em', 'scripts', 'não-ocidentais', '(por', 'exemplo,', 'chinês', 'ou', 'árabe)', 'não', 'têm', 'nenhuma', 'capitalização', 'e', 'mesmo', 'as', 'línguas', 'com', 'maiúsculas', 'podem', 'não', 'distinguir', 'nomes.', 'Por', 'exemplo,', 'o', 'alemão', 'capitaliza', 'todos', 'os', 'substantivos,', 'independentemente', 'de', 'se', 'referirem', 'a', 'nomes,', 'e', 'o', 'francês', 'e', 'o', 'espanhol', 'não', 'capitalizam', 'nomes', 'que', 'servem', 'como', 'adjetivos.Geração', 'de', 'língua', 'natural', 'Converte', 'informações', 'de', 'bancos', 'de', 'dados', 'de', 'computador', 'ou', 'intenções', 'semânticas', 'em', 'linguagem', 'humana', 'legível.Compreensão', 'da', 'língua', 'natural', 'Converte', 'pedaços', 'de', 'texto', 'em', 'representações', 'mais', 'formais,', 'como', 'estruturas', 'de', 'lógica', 'de', 'primeira', 'ordem,', 'que', 'são', 'mais', 'fáceis', 'de', 'manipular', 'pelos', 'programas', 'de', 'computador.', 'A', 'compreensão', 'da', 'língua', 'natural', 'envolve', 'a', 'identificação', 'da', 'semântica', 'pretendida', 'a', 'partir', 'da', 'múltipla', 'semântica', 'possível', 'que', 'pode', 'ser', 'derivada', 'de', 'uma', 'expressão', 'de', 'língua', 'natural', 'que', 'geralmente', 'toma', 'a', 'forma', 'de', 'notação', 'organizada', 'de', 'conceitos', 'de', 'linguagens', 'naturais.', 'Entretanto,', 'introdução', 'e', 'criação', 'de', 'linguagem', 'metamodelo', 'e', 'ontologia', 'são', 'eficientes', 'soluções', 'empíricas.', 'Uma', 'formalização', 'explícita', 'da', 'semântica', 'de', 'línguas', 'naturais', 'sem', 'confusões', 'com', 'suposições', 'implícitas', 'como', 'closed-world', 'assumption', '(CWA)', 'versus', 'open-world', 'assumption', 'ou', 'subjetiva', 'Sim', '/', 'Não', 'versus', 'objetivo', 'Verdadeiro', '/', 'Falso', 'é', 'esperada', 'para', 'a', 'construção', 'de', 'uma', 'base', 'de', 'formalização', 'semântica.Reconhecimento', 'óptico', 'de', 'caracteres', '(OCR)', 'Dada', 'uma', 'imagem', 'que', 'representa', 'o', 'texto', 'impresso,', 'determina', 'o', 'texto', 'correspondente.Marcação', 'de', 'classe', 'gramatical', 'Dada', 'uma', 'sentença,', 'determina', 'a', 'classe', 'gramatical', 'de', 'cada', 'palavra.', 'Muitas', 'palavras,', 'especialmente', 'as', 'comuns,', 'podem', 'servir', 'como', 'múltiplas', 'partes', 'do', 'discurso.', 'Em', 'inglês,', 'por', 'exemplo,', '\"book\"', 'pode', 'ser', 'um', 'substantivo', '(\"the', 'book', 'on', 'the', 'table\")', 'ou', 'verbo', '(\"book', 'a', 'flight\");', '\"Set\"', 'pode', 'ser', 'um', 'substantivo,', 'verbo', 'ou', 'adjetivo;', 'E', '\"out\"', 'pode', 'ser', 'qualquer', 'um', 'de', 'pelo', 'menos', 'cinco', 'diferentes', 'partes', 'da', 'fala.', 'Algumas', 'línguas', 'têm', 'mais', 'ambiguidade', 'do', 'que', 'outras.', 'As', 'línguas', 'com', 'pouca', 'morfologia', 'flexional,', 'como', 'o', 'inglês,', 'são', 'particularmente', 'propensas', 'a', 'tal', 'ambiguidade.', 'O', 'chinês', 'é', 'propenso', 'a', 'tal', 'ambiguidade', 'porque', 'é', 'uma', 'língua', 'tonal', 'durante', 'a', 'verbalização.', 'Tal', 'inflexão', 'não', 'é', 'facilmente', 'transmitida', 'através', 'das', 'entidades', 'empregadas', 'dentro', 'da', 'ortografia', 'para', 'transmitir', 'o', 'significado', 'pretendido.Análise', 'sintática', '(Parsing)', 'Determina', 'a', 'árvore', 'de', 'análise', '(análise', 'gramatical)', 'de', 'uma', 'frase.', 'A', 'gramática', 'para', 'as', 'linguagens', 'naturais', 'é', 'ambígua', 'e', 'frases', 'típicas', 'têm', 'múltiplas', 'análises', 'possíveis.', 'Na', 'verdade,', 'surpreendentemente,', 'para', 'uma', 'frase', 'típica', 'pode', 'haver', 'milhares', 'de', 'análises', 'em', 'potencial', '(a', 'maioria', 'dos', 'quais', 'parecerá', 'completamente', 'absurda', 'para', 'um', 'ser', 'humano).Respostas', 'a', 'perguntas', 'Dada', 'uma', 'questão', 'de', 'linguagem', 'humana,', 'determina', 'sua', 'resposta.', 'As', 'perguntas', 'típicas', 'têm', 'uma', 'resposta', 'correta', 'específica', '(como', '\"Qual', 'é', 'o', 'capital', 'do', 'Canadá?\"),', 'mas', 'às', 'vezes', 'perguntas', 'abertas', 'também', 'são', 'consideradas', '(como', '\"Qual', 'é', 'o', 'significado', 'da', 'vida?\").', 'Trabalhos', 'recentes', 'têm', 'analisado', 'questões', 'ainda', 'mais', 'complexas.Extração', 'de', 'relacionamento', 'Identifica', 'as', 'relações', 'entre', 'entidades', 'nomeadas', '(por', 'exemplo,', 'quem', 'é', 'casado', 'com', 'quem)', 'com', 'base', 'em', 'textos.Quebra', 'de', 'frases', '(sentence', 'boundary', 'disambiguation)', 'Encontra', 'os', 'limites', 'da', 'frase', 'em', 'um', 'pedaço', 'de', 'texto.', 'Os', 'limites', 'de', 'frases', 'são', 'normalmente', 'marcadas', 'por', 'pontos', 'ou', 'outros', 'sinais', 'de', 'pontuação,', 'mas', 'esses', 'mesmos', 'caracteres', 'podem', 'servir', 'outros', 'propósitos.Análise', 'de', 'subjetividade', '(sentiment', 'analysis', 'ou', 'opinion', 'mining)', 'Extrai', 'informações', 'subjetivas', 'geralmente', 'de', 'um', 'conjunto', 'de', 'documentos,', 'muitas', 'vezes', 'usando', 'revisões', 'online', 'para', 'determinar', 'a', '\"polaridade\"', 'sobre', 'objetos', 'específicos.', 'É', 'especialmente', 'útil', 'para', 'identificar', 'tendências', 'da', 'opinião', 'pública', 'nas', 'mídias', 'sociais,', 'para', 'fins', 'de', 'marketing.Reconhecimento', 'de', 'fala', 'Dado', 'um', 'clipe', 'de', 'som', 'de', 'uma', 'pessoa', 'ou', 'pessoas', 'falando,', 'determina', 'a', 'representação', 'textual', 'do', 'discurso.', 'É', 'o', 'oposto', 'da', 'síntese', 'de', 'fala', 'e', 'é', 'uma', 'das', 'áreas', 'mais', 'difíceis,', 'conhecida', 'como', '\"AI-complete\".', 'Na', 'fala', 'natural', 'quase', 'não', 'há', 'pausas', 'entre', 'palavras', 'sucessivas,', 'por', 'isso', 'a', 'segmentação', 'de', 'fala', 'é', 'uma', 'subtarefa', 'necessária', 'de', 'reconhecimento', 'de', 'fala.', 'Nota-se', 'também', 'que,', 'na', 'maioria', 'das', 'linguagens', 'faladas,', 'os', 'sons', 'que', 'representam', 'letras', 'sucessivas', 'se', 'misturam', 'entre', 'si', 'em', 'um', 'processo', 'denominado', 'coarticulação,', 'de', 'modo', 'que', 'a', 'conversão', 'do', 'sinal', 'analógico', 'em', 'caracteres', 'discretos', 'pode', 'ser', 'um', 'processo', 'muito', 'difícil', 'de', 'ser', 'realizado.Segmentação', 'de', 'fala', 'Dado', 'um', 'clipe', 'de', 'som', 'de', 'uma', 'pessoa', 'ou', 'pessoas', 'falando,', 'separa-o', 'em', 'palavras.', 'Uma', 'subaplicação', 'de', 'reconhecimento', 'de', 'fala', 'e', 'normalmente', 'agrupada', 'com', 'ele.Análise', 'morfológica', 'e', 'reconhecimento', 'de', 'tópicos', 'Dado', 'um', 'pedaço', 'de', 'texto,', 'separa-o', 'em', 'segmentos', 'cada', 'um', 'dos', 'quais', 'é', 'dedicado', 'a', 'um', 'tópico', 'e', 'identifica', 'o', 'tópico', 'do', 'segmento.Análise', 'morfológica', 'e', 'segmentação', 'de', 'palavras', 'Separa', 'um', 'pedaço', 'de', 'texto', 'contínuo', 'em', 'palavras', 'separadas.', 'Para', 'uma', 'língua', 'como', 'o', 'inglês,', 'isso', 'é', 'bastante', 'trivial,', 'uma', 'vez', 'que', 'as', 'palavras', 'são', 'normalmente', 'separadas', 'por', 'espaços.', 'No', 'entanto,', 'algumas', 'línguas', 'escritas', 'como', 'chinês,', 'japonês', 'e', 'tailandês', 'não', 'marcam', 'limites', 'de', 'palavras', 'de', 'tal', 'forma,', 'e', 'nessas', 'línguas', 'segmentação', 'de', 'texto', 'é', 'uma', 'tarefa', 'significativa', 'que', 'requer', 'conhecimento', 'do', 'vocabulário', 'e', 'morfologia', 'das', 'palavras', 'na', 'língua.Desambiguação', 'Muitas', 'palavras', 'têm', 'mais', 'de', 'um', 'significado,', 'assim', 'temos', 'que', 'selecionar', 'o', 'significado', 'que', 'faz', 'mais', 'sentido', 'no', 'contexto.', 'Para', 'este', 'problema,', 'em', 'geral', 'é', 'dada', 'uma', 'lista', 'de', 'palavras', 'e', 'sentidos', 'de', 'palavras', 'associadas', 'de', 'um', 'dicionário', 'ou', 'recurso', 'online,', 'como', 'o', 'WordNet.', 'Em', 'alguns', 'casos,', 'conjuntos', 'de', 'tarefas', 'relacionadas', 'são', 'agrupados', 'em', 'subcampos', 'de', 'PLN', 'que', 'são', 'frequentemente', 'considerados', 'separadamente', 'da', 'PLN', 'como', 'um', 'todo,', 'como', 'os', 'exemplos', 'à', 'seguir:Recuperação', 'de', 'informação', '(IR)', 'Trata-se', 'de', 'armazenar,', 'pesquisar', 'e', 'recuperar', 'informações.', 'É', 'um', 'campo', 'separado', 'dentro', 'da', 'ciência', 'da', 'computação', '(mais', 'perto', 'de', 'bancos', 'de', 'dados),', 'mas', 'a', 'IR', 'se', 'baseia', 'em', 'alguns', 'métodos', 'PLN', '(por', 'exemplo,', 'stemming).', 'Algumas', 'pesquisas', 'e', 'aplicações', 'atuais', 'procuram', 'preencher', 'a', 'lacuna', 'entre', 'IR', 'e', 'PLN.Extração', 'de', 'informação', '(IE)', 'Trata-se,', 'em', 'geral,', 'da', 'extração', 'de', 'informação', 'semântica', 'a', 'partir', 'do', 'texto.', 'Abrange', 'tarefas', 'como', 'reconhecimento', 'de', 'entidade', 'mencionada,', 'resolução', 'de', 'correferência', 'e', 'de', 'relacionamento', 'de', 'extração,', 'etc.', 'Processamento', 'de', 'voz', 'Abrange', 'reconhecimento', 'de', 'fala,', 'síntese', 'de', 'fala', 'e', 'tarefas', 'relacionadas.', 'Outras', 'tarefas', 'incluem:', 'Identificação', 'na', 'língua', 'materna', 'Stemização', 'Simplificação', 'do', 'texto', 'Síntese', 'de', 'fala', 'Revisão', 'de', 'texto', 'Pesquisa', 'em', 'língua', 'natural', 'Expansão', 'da', 'consulta', 'Pontuação', 'de', 'ensaio', 'automatizado', 'Truecasing', '==', 'Estatística', '==', 'Artigo', 'principal:', 'Gramática', 'estocástica', 'O', 'processamento', 'estatístico', 'em', 'língua', 'natural', 'utiliza', 'métodos', 'estocásticos,', 'probabilísticos', 'e', 'estatísticos', 'para', 'resolver', 'algumas', 'das', 'dificuldades', 'discutidas', 'acima,', 'especialmente', 'aquelas', 'que', 'surgem', 'porque', 'frases', 'mais', 'longas', 'são', 'muito', 'ambíguas', 'quando', 'processadas', 'com', 'gramáticas', 'realistas,', 'produzindo', 'milhares', 'ou', 'milhões', 'de', 'análises', 'possíveis.', 'Métodos', 'de', 'desambiguação', 'envolvem', 'muitas', 'vezes', 'o', 'uso', 'de', 'corpora', 'e', 'modelos', 'de', 'Markov.', 'O', 'projeto', 'ESPRIT', 'P26', '(1984-1988),', 'liderado', 'pelo', 'CSELT,', 'explorou', 'o', 'problema', 'do', 'reconhecimento', 'de', 'fala', 'comparando', 'abordagem', 'baseada', 'em', 'conhecimento', 'e', 'estatística:', 'o', 'resultado', 'escolhido', 'foi', 'um', 'modelo', 'completamente', 'estatístico.', 'Um', 'dos', 'primeiros', 'modelos', 'de', 'compreensão', 'estatística', 'da', 'língua', 'natural', 'foi', 'introduzido', 'em', '1991', 'por', 'Roberto', 'Pieraccini,', 'Esther', 'Levin', 'e', 'Chin-Hui', 'Lee,', 'da', 'Bell', 'Laboratories].', 'O', 'PLN', 'compreende', 'todas', 'as', 'abordagens', 'quantitativas', 'para', 'processamento', 'automatizado', 'de', 'linguagem,', 'incluindo', 'modelagem', 'probabilística,', 'teoria', 'da', 'informação', 'e', 'álgebra', 'linear.', 'A', 'tecnologia', 'para', 'o', 'PLN', 'estatístico', 'vem', 'principalmente', 'da', 'aprendizagem', 'automática', 'e', 'da', 'mineração', 'de', 'dados,', 'que', 'são', 'campos', 'de', 'inteligência', 'artificial', 'que', 'envolvem', 'o', 'aprendizado', 'a', 'partir', 'de', 'dados.', '==', 'Avaliação', '==', 'O', 'objetivo', 'da', 'avaliação', 'do', 'PLN', 'é', 'uma', 'medida', 'de', 'uma', 'ou', 'mais', 'qualidades', 'de', 'um', 'algoritmo', 'ou', 'de', 'um', 'sistema', 'a', 'fim', 'de', 'determinar', 'se', 'o', 'algoritmo', 'atende', 'às', 'metas', 'dos', 'projetistas', 'ou', 'o', 'sistema', 'de', 'atendimento', 'às', 'necessidades', 'de', 'seus', 'usuários.', 'Investigação', 'na', 'avaliação', 'PLN', 'tem', 'ganhado', 'atenção,', 'porque', 'a', 'definição', 'de', 'critérios', 'de', 'avaliação', 'é', 'uma', 'forma', 'de', 'especificar', 'precisamente', 'problemas', 'do', 'PLN.', 'Uma', 'métrica', 'de', 'avaliação', 'de', 'PLN', 'em', 'um', 'sistema', 'algorítmico', 'permite', 'a', 'integração', 'da', 'compreensão', 'de', 'linguagem', 'e', 'geração', 'de', 'linguagem.', 'Um', 'conjunto', 'preciso', 'de', 'critérios', 'de', 'avaliação,', 'que', 'pode', 'ser', 'aplicado', 'principalmente', 'a', 'avaliações', 'métricas,', 'podendo', 'permitir', 'que', 'várias', 'equipes', 'comparem', 'suas', 'soluções', 'para', 'um', 'determinado', 'problema', 'do', 'PLN.', '==', 'Cronologia', 'da', 'avaliação', '==', 'Em', '1983,', 'iniciou-se', 'o', 'Projecto', 'Esprit', 'P26,', 'que', 'avaliou', 'as', 'Tecnologias', 'da', 'Fala', '(incluindo', 'tópicos', 'gerais', 'como', 'Sintaxe', 'e', 'Semântica)', 'comparando', 'as', 'abordagens', 'baseadas', 'em', 'regras', 'com', 'as', 'estatísticas.', 'Em', '1987,', 'a', 'primeira', 'campanha', 'de', 'avaliação', 'de', 'textos', 'escritos', 'parece', 'ser', 'uma', 'campanha', 'dedicada', 'à', 'compreensão', 'da', 'mensagem', '(Pallet,', '1998).', 'O', 'projeto', 'Parseval', '/', 'GEIG', 'comparou', 'gramáticas', 'de', 'frase-estrutura', '(Black', '1991).', 'Houve', 'uma', 'série', 'de', 'campanhas', 'no', 'projeto', 'Tipster', 'sobre', 'tarefas', 'como', 'resumo,', 'tradução', 'e', 'pesquisa', '(Hirschman', '1998).', 'Em', '1994,', 'na', 'Alemanha,', 'o', 'Morpholympics', 'comparou', 'marcadores', 'morfológicos', 'alemães.', 'As', 'campanhas', 'de', 'Senseval', '&', 'Romanseval', 'foram', 'realizadas', 'com', 'os', 'objetivos', 'de', 'desambiguação', 'semântica.', 'Em', '1996,', 'a', 'campanha', 'Sparkle', 'comparou', 'os', 'analisadores', 'sintáticos', 'em', 'quatro', 'idiomas', 'diferentes', '(inglês,', 'francês,', 'alemão', 'e', 'italiano).', 'Na', 'França,', 'o', 'projeto', 'Grace', 'comparou', 'um', 'conjunto', 'de', '21', 'marcadores', 'para', 'o', 'francês', 'em', '1997', '(Adda', '1999).', 'Em', '2004,', 'durante', 'o', 'projeto', 'Technolangue', '/', 'Easy,', 'foram', 'comparados', '13', 'analisadores', 'para', 'o', 'francês.', 'A', 'avaliação', 'em', 'larga', 'escala', 'dos', 'analisadores', 'de', 'dependência', 'foi', 'realizada', 'no', 'contexto', 'das', 'tarefas', 'compartilhadas', 'do', 'CoNLL', 'em', '2006', 'e', '2007.', 'Na', 'França,', 'no', 'âmbito', 'do', 'projecto', 'ANR-Passage', '(final', 'de', '2007),', 'foram', 'comparados', '10', 'analisadores', 'para', 'o', 'francês.', 'Em', 'Itália,', 'a', 'campanha', 'EVALITA', 'foi', 'realizada', 'em', '2007,', '2009,', '2011', 'e', '2014', 'para', 'comparar', 'várias', 'ferramentas', 'de', 'PLN', 'e', 'de', 'voz', 'para', 'o', 'site', 'italiano', '-', 'EVALITA.', '==', 'Diferentes', 'tipos', 'de', 'avaliação', '==', 'Avaliação', 'intrínseca', 'vs.', 'extrínseca', 'A', 'avaliação', 'intrínseca', 'considera', 'um', 'sistema', 'PNL', 'isolado', 'e', 'caracteriza', 'seu', 'desempenho', 'em', 'relação', 'a', 'um', 'resultado', 'padrão-excelência,', 'conforme', 'definido', 'pelos', 'avaliadores.', 'A', 'avaliação', 'extrínseca,', 'também', 'chamada', 'de', 'avaliação', 'em', 'uso,', 'considera', 'o', 'sistema', 'PLN', 'em', 'um', 'cenário', 'mais', 'complexo', 'como', 'um', 'sistema', 'embutido', 'ou', 'uma', 'função', 'precisa', 'para', 'um', 'usuário', 'humano.', 'O', 'desempenho', 'extrínseco', 'do', 'sistema', 'é', 'então', 'caracterizado', 'em', 'termos', 'de', 'utilidade', 'em', 'relação', 'à', 'tarefa', 'global', 'do', 'sistema', 'estranho', 'ou', 'do', 'utilizador', 'humano.', 'Por', 'exemplo,', 'considere', 'um', 'analisador', 'sintático', 'que', 'é', 'baseado', 'na', 'saída', 'de', 'alguma', 'parte', 'do', 'tagger', 'de', 'fala', '(POS).', 'Uma', 'avaliação', 'intrínseca', 'executaria', 'o', 'marcador', 'POS', 'em', 'dados', 'estruturados', 'e', 'compararia', 'a', 'saída', 'do', 'sistema', 'do', 'marcador', 'POS', 'com', 'a', 'saída', 'padrão', 'ouro.', 'Uma', 'avaliação', 'extrínseca', 'executaria', 'o', 'analisador', 'com', 'algum', 'outro', 'marcador', 'POS', 'e,', 'em', 'seguida,', 'com', 'o', 'marcador', 'POS', 'novo', 'e', 'compara', 'a', 'precisão', 'de', 'análise.', 'Caixa', 'preta', 'vs.', 'Avaliação', 'da', 'caixa', 'de', 'vidro', 'A', 'avaliação', 'em', 'caixa', 'preta', 'requer', 'que', 'alguém', 'execute', 'um', 'sistema', 'PLN', 'em', 'um', 'conjunto', 'de', 'dados', 'de', 'amostra', 'e', 'para', 'medir', 'uma', 'série', 'de', 'parâmetros', 'relacionados', 'com', 'a', 'qualidade', 'do', 'processo,', 'como', 'velocidade,', 'confiabilidade,', 'consumo', 'de', 'recursos', 'e,', 'principalmente,', 'a', 'qualidade', 'do', 'resultado,', 'como', 'a', 'precisão', 'da', 'anotação', 'de', 'dados', 'ou', 'a', 'fidelidade', 'de', 'uma', 'tradução.', 'A', 'avaliação', 'da', 'caixa', 'de', 'vidro', 'examina', 'a', 'concepção', 'do', 'sistema;', 'Os', 'algoritmos', 'que', 'são', 'implementados,', 'os', 'recursos', 'linguísticos', 'que', 'utiliza,', 'como', 'o', 'tamanho', 'do', 'vocabulário', 'ou', 'a', 'expressão', 'definida', 'de', 'cardinalidade.', 'Dada', 'a', 'complexidade', 'dos', 'problemas', 'da', 'PLN,', 'muitas', 'vezes', 'é', 'difícil', 'prever', 'o', 'desempenho', 'apenas', 'com', 'base', 'na', 'avaliação', 'da', 'caixa', 'de', 'vidro;', 'Mas', 'este', 'tipo', 'de', 'avaliação', 'é', 'mais', 'informativo', 'no', 'que', 'diz', 'respeito', 'à', 'análise', 'de', 'erros', 'ou', 'desenvolvimentos', 'futuros', 'de', 'um', 'sistema.', 'Automática', 'vs.', 'avaliação', 'manual', 'Em', 'muitos', 'casos,', 'procedimentos', 'automáticos', 'podem', 'ser', 'definidos', 'para', 'avaliar', 'um', 'sistema', 'de', 'PLN,', 'comparando', 'sua', 'saída', 'com', 'o', 'padrão', 'de', 'excelência.', 'Embora', 'o', 'custo', 'de', 'reproduzir', 'o', 'padrão', 'de', 'excelência', 'possa', 'ser', 'bastante', 'elevado,', 'avaliação', 'automática', 'de', 'bootstrapping', 'sobre', 'os', 'mesmos', 'dados', 'de', 'entrada', 'pode', 'ser', 'repetida', 'quantas', 'vezes', 'for', 'necessário', 'sem', 'custos', 'adicionais', 'desordenados.', 'No', 'entanto,', 'para', 'muitos', 'problemas', 'de', 'PLN', 'a', 'definição', 'precisa', 'de', 'um', 'padrão', 'de', 'excelência', 'é', 'uma', 'tarefa', 'complexa', 'e', 'pode', 'se', 'revelar', 'impossível', 'quando', 'o', 'acordo', 'inter-anotador', 'é', 'insuficiente.', 'A', 'avaliação', 'manual', 'é', 'melhor', 'realizada', 'por', 'juízes', 'humanos', 'instruídos', 'para', 'estimar', 'a', 'qualidade', 'de', 'um', 'sistema,', 'ou', 'mais', 'frequentemente', 'de', 'uma', 'amostra', 'de', 'sua', 'produção,', 'com', 'base', 'em', 'uma', 'série', 'de', 'critérios.', 'Embora,', 'graças', 'à', 'sua', 'competência', 'linguística,', 'os', 'juízes', 'humanos', 'possam', 'ser', 'considerados', 'como', 'a', 'referência', 'para', 'uma', 'série', 'de', 'tarefas', 'de', 'processamento', 'de', 'linguagem,', 'há', 'também', 'uma', 'variação', 'considerável', 'em', 'suas', 'classificações.', 'É', 'por', 'isso', 'que', 'a', 'avaliação', 'automática', 'é,', 'por', 'vezes,', 'referida', 'como', 'avaliação', 'objetiva', 'enquanto', 'a', 'avaliação', 'humana', 'é', 'perspectiva.', '==', 'Padronização', '==', 'Um', 'subcomitê', 'ISO', 'está', 'trabalhando', 'para', 'facilitar', 'a', 'interoperabilidade', 'entre', 'recursos', 'lexicais', 'e', 'programas', 'PLN.', 'O', 'subcomitê', 'faz', 'parte', 'do', 'ISO', '/', 'TC37', 'e', 'é', 'chamado', 'ISO', '/', 'TC37', '/', 'SC4.', 'Alguns', 'padrões', 'ISO', 'já', 'estão', 'publicados,', 'mas', 'a', 'maioria', 'deles', 'está', 'em', 'construção,', 'principalmente', 'na', 'representação', 'de', 'léxico', '(ver', 'LMF),', 'anotação', 'e', 'registro', 'de', 'categoria', 'de', 'dados.', '==', 'Ferramentas', '==', 'Expert', 'System', 'S.p.A.', 'General', 'Architecture', 'for', 'Text', 'Engineering', 'Modular', 'Audio', 'Recognition', 'Framework', 'Natural', 'Language', 'Toolkit', '(NLTK):', 'uma', 'biblioteca', 'em', 'Python', 'OpenNLP', '==', 'Veja', 'também', '==', 'Mineração', 'de', 'texto', 'biomédica', 'Processo', 'de', 'processamento', 'composto', 'Revisão', 'assistida', 'por', 'computador', 'Linguagem', 'natural', 'controlada', 'Processamento', 'linguístico', 'profundo', 'Auxílio', 'à', 'leitura', 'de', 'línguas', 'estrangeiras', 'Auxílio', 'à', 'escrita', 'em', 'língua', 'estrangeira', 'Tecnologia', 'da', 'linguagem', 'A', 'alocação', 'de', 'Dirichlet', 'Latente', '(LDA)', 'Indexação', 'semântica', 'latente', 'Lista', 'de', 'ferramentas', 'de', 'processamento', 'de', 'língua', 'natural', 'Mapa', 'de', 'LRE', 'Programação', 'em', 'língua', 'natural', 'Reificação', '(linguística)', 'Dobradura', 'semântica', 'Sistema', 'de', 'diálogo', 'falado', 'Vetor', 'do', 'Pensamento', 'Pesquisa', 'Transderivacional', 'Word2vec', '==', 'Referências', '==', '==', 'Leitura', 'adicional', '==', 'Steven', 'Bird,', 'Ewan', 'Klein,', 'and', 'Edward', 'Loper', '(2009).', 'Natural', 'Language', 'Processing', 'with', 'Python.', \"O'Reilly\", 'Media.', 'ISBN', '978-0-596-51649-9.', 'Daniel', 'Jurafsky', 'and', 'James', 'H.', 'Martin', '(2008).', 'Speech', 'and', 'Language', 'Processing,', '2nd', 'edition.', 'Pearson', 'Prentice', 'Hall.', 'ISBN', '978-0-13-187321-6.', 'Christopher', 'D.', 'Manning,', 'Prabhakar', 'Raghavan,', 'and', 'Hinrich', 'Schütze', '(2008).', 'Introduction', 'to', 'Information', 'Retrieval.', 'Cambridge', 'University', 'Press.', 'ISBN', '978-0-521-86571-5.', 'Official', 'html', 'and', 'pdf', 'versions', 'available', 'without', 'charge.', 'Christopher', 'D.', 'Manning', 'and', 'Hinrich', 'Schütze', '(1999).', 'Foundations', 'of', 'Statistical', 'Natural', 'Language', 'Processing.', 'The', 'MIT', 'Press.', 'ISBN', '978-0-262-13360-9.', 'David', 'M.', 'W.', 'Powers', 'and', 'Christopher', 'C.', 'R.', 'Turk', '(1989).', 'Machine', 'Learning', 'of', 'Natural', 'Language.', 'Springer-Verlag.', 'ISBN', '978-0-387-19557-5.']\n"
          ],
          "name": "stdout"
        }
      ]
    },
    {
      "cell_type": "markdown",
      "metadata": {
        "id": "lQzdlozyE2V3"
      },
      "source": [
        "### Regex\n",
        "\n",
        "Faça utilizando o método abaixo\n",
        "<b> Não esqueça de armazenar o resultado na variável abaixo. </b>\n",
        "\n",
        "```python\n",
        "re.findall(r\"\\w+(?:'\\w+)?|[^\\w\\s]\", corpus)\n",
        "```"
      ]
    },
    {
      "cell_type": "code",
      "metadata": {
        "id": "rdDQfjLIE2V4"
      },
      "source": [
        "tokens_regex = re.findall(r\"\\w+(?:'\\w+)?|[^\\w\\s]\", corpus)"
      ],
      "execution_count": 110,
      "outputs": []
    },
    {
      "cell_type": "code",
      "metadata": {
        "id": "5IYoOF3bE2V9",
        "outputId": "be1aff56-64c2-4518-f4fd-8ac9f085fbd5",
        "colab": {
          "base_uri": "https://localhost:8080/",
          "height": 53
        }
      },
      "source": [
        "#Regex\n",
        "print(tokens_regex)"
      ],
      "execution_count": 111,
      "outputs": [
        {
          "output_type": "stream",
          "text": [
            "['Processamento', 'de', 'língua', 'natural', '(', 'PLN', ')', 'é', 'uma', 'subárea', 'da', 'ciência', 'da', 'computação', ',', 'inteligência', 'artificial', 'e', 'da', 'linguística', 'que', 'estuda', 'os', 'problemas', 'da', 'geração', 'e', 'compreensão', 'automática', 'de', 'línguas', 'humanas', 'naturais', '.', 'Sistemas', 'de', 'geração', 'de', 'língua', 'natural', 'convertem', 'informação', 'de', 'bancos', 'de', 'dados', 'de', 'computadores', 'em', 'linguagem', 'compreensível', 'ao', 'ser', 'humano', 'e', 'sistemas', 'de', 'compreensão', 'de', 'língua', 'natural', 'convertem', 'ocorrências', 'de', 'linguagem', 'humana', 'em', 'representações', 'mais', 'formais', ',', 'mais', 'facilmente', 'manipuláveis', 'por', 'programas', 'de', 'computador', '.', 'Alguns', 'desafios', 'do', 'PLN', 'são', 'compreensão', 'de', 'língua', 'natural', ',', 'fazer', 'com', 'que', 'computadores', 'extraiam', 'sentido', 'de', 'linguagem', 'humana', 'ou', 'natural', 'e', 'geração', 'de', 'língua', 'natural', '.', '=', '=', 'História', '=', '=', 'A', 'história', 'do', 'PLN', 'começou', 'na', 'década', 'de', '1950', ',', 'quando', 'Alan', 'Turing', 'publicou', 'o', 'artigo', '\"', 'Computing', 'Machinery', 'and', 'Intelligence', '\"', ',', 'que', 'propunha', 'o', 'que', 'agora', 'é', 'chamado', 'de', 'teste', 'de', 'Turing', 'como', 'critério', 'de', 'inteligência', '.', 'Em', '1954', ',', 'a', 'experiência', 'de', 'Georgetown', 'envolveu', 'a', 'tradução', 'automática', 'de', 'mais', 'de', 'sessenta', 'frases', 'russas', 'para', 'o', 'inglês', '.', 'Os', 'autores', 'afirmaram', 'que', 'dentro', 'de', 'três', 'ou', 'cinco', 'anos', 'a', 'tradução', 'automática', 'seria', 'um', 'problema', 'resolvido', '.', 'No', 'entanto', ',', 'os', 'avanços', 'reais', 'foram', 'muito', 'mais', 'lentos', 'do', 'que', 'o', 'previsto', 'e', ',', 'após', 'o', 'relatório', 'ALPAC', 'em', '1966', ',', 'que', 'constatou', 'que', 'a', 'pesquisa', 'de', 'dez', 'anos', 'não', 'conseguiu', 'satisfazer', 'as', 'expectativas', ',', 'o', 'financiamento', 'para', 'este', 'estudo', 'em', 'tradução', 'automática', 'foi', 'reduzido', 'drasticamente', '.', 'Poucas', 'pesquisas', 'em', 'tradução', 'automática', 'foram', 'conduzidas', 'até', 'o', 'final', 'dos', 'anos', '80', ',', 'quando', 'os', 'primeiros', 'sistemas', 'estatísticos', 'de', 'tradução', 'foram', 'desenvolvidos', '.', 'Alguns', 'sistemas', 'de', 'PLN', 'bem', 'sucedidos', 'desenvolvidos', 'nos', 'anos', '60', 'foram', 'SHRDLU', ',', 'um', 'sistema', 'de', 'língua', 'natural', 'que', 'trabalhava', 'em', '\"', 'blocks', 'worlds', '\"', 'com', 'vocabulário', 'restrito', 'e', 'ELIZA', ',', 'uma', 'simulação', 'de', 'um', 'psicoterapeuta', 'escrita', 'por', 'Joseph', 'Weizenbaum', 'entre', '1964', 'e', '1966', '.', 'Usando', 'pouca', 'informação', 'sobre', 'o', 'pensamento', 'ou', 'a', 'emoção', 'humana', ',', 'ELIZA', 'criava', ',', 'em', 'alguns', 'casos', ',', 'interações', 'surpreendentemente', 'humanas', '.', 'Quando', 'o', '\"', 'paciente', '\"', 'excedia', 'a', 'base', 'de', 'conhecimento', 'do', 'programa', ',', 'ELIZA', 'fornecia', 'uma', 'resposta', 'genérica', ',', 'por', 'exemplo', ',', 'respondendo', 'a', '\"', 'Minha', 'cabeça', 'dói', '\"', 'com', '\"', 'Por', 'que', 'você', 'diz', 'que', 'sua', 'cabeça', 'dói', '?', '\"', '.', 'Durante', 'a', 'década', 'de', '1970', ',', 'muitos', 'programadores', 'começaram', 'a', 'escrever', '\"', 'ontologias', 'conceituais', '\"', ',', 'que', 'estruturaram', 'a', 'informação', 'do', 'mundo', 'real', 'em', 'dados', 'compreensíveis', 'por', 'computadores', '.', 'Exemplos', 'são', 'MARGIE', '(', 'SCHANK', ',', '1975', ')', ',', 'SAM', '(', 'CULLINGFORD', ',', '1978', ')', ',', 'PAM', '(', 'WILENSKY', ',', '1978', ')', ',', 'TaleSpin', '(', 'MEEHAN', ',', '1976', ')', ',', 'QUALM', '(', 'LEHNERT', ',', '1977', ')', ',', 'Politics', '(', 'CARBONELL', ',', '1979', ')', 'e', 'Plot', 'Units', '(', 'LEHNERT', ',', '1981', ')', '.', 'Neste', 'período', ',', 'muitos', 'chatterbots', 'foram', 'escritos', ',', 'como', 'PARRY', ',', 'Racter', 'e', 'Jabberwacky', '.', 'Até', 'a', 'década', 'de', '1980', ',', 'a', 'maioria', 'dos', 'sistemas', 'de', 'PLN', 'se', 'baseava', 'em', 'conjuntos', 'complexos', 'de', 'regras', 'manuscritas', '.', 'A', 'partir', 'do', 'final', 'dos', 'anos', '1980', ',', 'no', 'entanto', ',', 'houve', 'uma', 'revolução', 'no', 'PLN', 'com', 'a', 'introdução', 'de', 'algoritmos', 'de', 'aprendizagem', 'automática', '(', 'aprendizado', 'de', 'máquina', ')', 'para', 'o', 'processamento', 'de', 'linguagem', '.', 'Isto', 'foi', 'devido', 'tanto', 'ao', 'aumento', 'constante', 'do', 'poder', 'computacional', '(', 'ver', 'Lei', 'de', 'Moore', ')', 'quanto', 'à', 'diminuição', 'gradual', 'da', 'dominância', 'das', 'teorias', 'da', 'linguística', 'chomskyanas', '(', 'como', 'a', 'gramática', 'gerativa', ')', ',', 'cujos', 'fundamentos', 'teóricos', 'desestimularam', 'o', 'tipo', 'de', 'corpus', 'linguístico', 'que', 'está', 'subjacente', 'à', 'abordagem', 'da', 'aprendizagem', 'automática', 'ao', 'processamento', 'da', 'linguagem', '.', 'Alguns', 'dos', 'algoritmos', 'de', 'aprendizado', 'de', 'máquinas', 'mais', 'antigos', ',', 'como', 'as', 'árvores', 'de', 'decisão', ',', 'produziam', 'sistemas', 'de', 'regras', 'rígidas', 'então', 'semelhantes', 'às', 'regras', 'existentes', 'na', 'escritas', 'à', 'mão', '.', 'No', 'entanto', ',', 'a', 'marcação', 'de', 'partes', 'da', 'fala', '(', 'part', '-', 'of', '-', 'speech', 'tagging', ')', 'introduziu', 'o', 'uso', 'de', 'modelos', 'ocultos', 'de', 'Markov', 'para', 'o', 'PLN', 'e', ',', 'cada', 'vez', 'mais', ',', 'a', 'pesquisa', 'se', 'concentrava', 'em', 'modelos', 'estatísticos', ',', 'que', 'tomam', 'decisões', 'suaves', 'e', 'probabilísticas', 'baseadas', 'na', 'atribuição', 'de', 'pesos', 'reais', 'aos', 'recursos', 'que', 'compõem', 'dados', 'de', 'entrada', '.', 'Os', 'modelos', 'de', 'linguagem', 'de', 'cache', ',', 'sobre', 'os', 'quais', 'muitos', 'sistemas', 'de', 'reconhecimento', 'de', 'fala', 'agora', 'dependem', ',', 'são', 'exemplos', 'de', 'tais', 'modelos', 'estatísticos', '.', 'Esses', 'modelos', 'são', 'geralmente', 'mais', 'robustos', 'quando', 'dados', 'informações', 'desconhecidas', ',', 'especialmente', 'entrada', 'que', 'contém', 'erros', '(', 'como', 'é', 'muito', 'comum', 'para', 'dados', 'do', 'mundo', 'real', ')', 'e', 'produzem', 'resultados', 'mais', 'confiáveis', 'quando', 'integrados', 'em', 'sistemas', 'maiores', 'que', 'compreendem', 'múltiplas', 'tarefas', '.', 'Muitos', 'dos', 'sucessos', 'iniciais', 'notáveis', 'ocorreram', 'no', 'campo', 'da', 'tradução', 'automática', ',', 'devido', 'especialmente', 'ao', 'trabalho', 'de', 'pesquisa', 'da', 'IBM', ',', 'que', 'desenvolveu', 'modelos', 'estatísticos', 'mais', 'elaborados', '.', 'Estes', 'sistemas', 'foram', 'capazes', 'de', 'tirar', 'proveito', 'de', 'corpora', 'textuais', 'multilíngues', 'existentes', 'produzidos', 'pelo', 'Parlamento', 'do', 'Canadá', 'e', 'a', 'União', 'Europeia', 'como', 'resultado', 'de', 'leis', 'que', 'exigem', 'a', 'tradução', 'de', 'todos', 'os', 'processos', 'governamentais', 'em', 'todas', 'as', 'línguas', 'oficiais', 'dos', 'países', '.', 'No', 'entanto', ',', 'a', 'maioria', 'dos', 'sistemas', 'dependia', 'de', 'corpora', 'desenvolvido', 'especificamente', 'para', 'tarefas', 'implementadas', 'por', 'esses', 'sistemas', ',', 'o', 'que', 'era', '(', 'e', 'muitas', 'vezes', 'continua', 'sendo', ')', 'uma', 'grande', 'limitação', 'no', 'sucesso', 'dos', 'mesmo', '.', 'Como', 'resultado', ',', 'uma', 'grande', 'quantidade', 'de', 'pesquisa', 'passou', 'de', 'quantidades', 'de', 'dados', 'limitadas', 'a', 'métodos', 'de', 'aprendizagem', 'mais', 'eficazes', '.', 'Pesquisas', 'recentes', 'têm', 'se', 'concentrado', 'cada', 'vez', 'mais', 'em', 'algoritmos', 'de', 'aprendizagem', 'semi', '-', 'supervisionados', 'e', 'sem', 'supervisão', '.', 'Esses', 'algoritmos', 'são', 'capazes', 'de', 'aprender', 'com', 'dados', 'que', 'não', 'foram', 'anotados', 'manualmente', 'com', 'as', 'respostas', 'desejadas', 'ou', 'usando', 'uma', 'combinação', 'de', 'dados', 'anotados', 'e', 'não', 'anotados', '.', 'Geralmente', ',', 'esta', 'tarefa', 'é', 'muito', 'mais', 'trabalhosa', 'do', 'que', 'a', 'aprendizagem', 'supervisionada', 'e', 'normalmente', 'produz', 'resultados', 'menos', 'precisos', 'para', 'uma', 'quantidade', 'específica', 'de', 'dados', 'de', 'entrada', '.', 'No', 'entanto', ',', 'há', 'uma', 'enorme', 'quantidade', 'de', 'dados', 'não', 'anotados', 'disponíveis', '(', 'incluindo', ',', 'entre', 'outras', 'coisas', ',', 'todo', 'o', 'conteúdo', 'da', 'World', 'Wide', 'Web', ')', ',', 'que', 'muitas', 'vezes', 'pode', 'compensar', 'os', 'resultados', 'inferiores', '.', '=', '=', 'Usando', 'a', 'aprendizagem', 'automática', '(', 'aprendizado', 'de', 'máquina', ')', '=', '=', 'Os', 'algoritmos', 'modernos', 'de', 'PLN', 'baseiam', '-', 'se', 'na', 'aprendizagem', 'mecânica', ',', 'especialmente', 'na', 'aprendizagem', 'de', 'máquinas', 'estatísticas', '.', 'O', 'paradigma', 'da', 'aprendizagem', 'mecânica', 'é', 'diferente', 'do', 'da', 'maioria', 'das', 'tentativas', 'anteriores', 'de', 'processamento', 'da', 'linguagem', '.', 'Anteriormente', ',', 'implementações', 'de', 'tarefas', 'de', 'processamento', 'de', 'linguagem', 'envolviam', 'a', 'codificação', 'direta', 'de', 'grandes', 'conjuntos', 'de', 'regras', '.', 'O', 'paradigma', 'da', 'aprendizagem', 'automática', '(', 'ou', 'aprendizagem', 'automática', ')', 'induz', 'a', 'aprendizagem', 'automática', 'de', 'regras', 'através', 'de', 'análises', 'de', 'corpora', 'de', 'exemplos', 'típicos', 'do', 'mundo', 'real', 'ao', 'invés', 'de', 'usar', 'algoritmos', 'gerais', 'de', 'aprendizagem', '(', 'muitas', 'vezes', ',', 'embora', 'nem', 'sempre', ',', 'baseados', 'em', 'inferência', 'estatística', ')', '.', 'Um', 'corpus', '(', 'plural', '\"', 'corpora', '\"', ')', 'é', 'um', 'conjunto', 'de', 'documentos', '(', 'ou', 'frases', 'individuais', ')', 'que', 'foram', 'anotados', 'à', 'mão', 'com', 'os', 'valores', 'corretos', 'a', 'serem', 'aprendidos', '.', 'Muitas', 'classes', 'diferentes', 'de', 'algoritmos', 'de', 'aprendizado', 'de', 'máquina', 'foram', 'aplicadas', 'a', 'tarefas', 'de', 'PLN', '.', 'Esses', 'algoritmos', 'tomam', 'como', 'entrada', 'um', 'grande', 'conjunto', 'de', '\"', 'recursos', '\"', 'que', 'são', 'gerados', 'a', 'partir', 'de', 'dados', 'de', 'entrada', '.', 'Alguns', 'dos', 'algoritmos', 'mais', 'usados', ',', 'como', 'árvores', 'de', 'decisão', ',', 'produziam', 'sistemas', 'de', 'regras', 'rígidas', 'semelhantes', 'aos', 'sistemas', 'de', 'regras', 'manuscritas', 'mais', 'comuns', '.', 'No', 'entanto', ',', 'cada', 'vez', 'mais', ',', 'a', 'pesquisa', 'tem', 'se', 'concentrado', 'em', 'modelos', 'estatísticos', ',', 'que', 'tomam', 'decisões', 'flexíveis', 'e', 'probabilísticas', 'baseadas', 'em', 'agregar', 'pesos', 'reais', 'a', 'cada', 'característica', 'de', 'entrada', '.', 'Tais', 'modelos', 'têm', 'a', 'vantagem', 'de', 'poder', 'expressar', 'a', 'certeza', 'relativa', 'de', 'muitas', 'respostas', 'possíveis', 'diferentes', 'em', 'vez', 'de', 'apenas', 'uma', ',', 'produzindo', 'resultados', 'mais', 'confiáveis', 'quando', 'esse', 'modelo', 'é', 'incluído', 'como', 'um', 'componente', 'de', 'um', 'sistema', 'maior', '.', 'Os', 'sistemas', 'baseados', 'em', 'algoritmos', 'de', 'aprendizagem', 'mecânica', 'têm', 'muitas', 'vantagens', 'em', 'relação', 'às', 'regras', 'produzidas', 'manualmente', ':', 'Os', 'procedimentos', 'de', 'aprendizagem', 'usados', 'durante', 'a', 'aprendizagem', 'da', 'máquina', 'focam', '-', 'se', 'automaticamente', 'nos', 'casos', 'mais', 'comuns', ',', 'ao', 'passo', 'que', 'quando', 'se', 'escrevem', 'regras', 'à', 'mão', ',', 'não', 'é', 'óbvio', 'em', 'que', 'sentido', 'o', 'esforço', 'deve', 'ser', 'dirigido', '.', 'Os', 'procedimentos', 'de', 'aprendizagem', 'automática', 'podem', 'fazer', 'uso', 'de', 'algoritmos', 'de', 'inferência', 'estatística', 'para', 'produzir', 'modelos', 'que', 'são', 'robustos', 'a', 'entradas', 'não', 'familiares', '(', 'por', 'exemplo', ',', 'contendo', 'palavras', 'ou', 'estruturas', 'que', 'não', 'foram', 'vistas', 'antes', ')', 'e', 'a', 'entradas', 'errôneas', '(', 'por', 'exemplo', ',', 'com', 'palavras', 'ou', 'palavras', 'incorretamente', 'omitidas', ')', '.', 'Geralmente', ',', 'lidar', 'com', 'essas', 'entradas', 'de', 'forma', 'com', 'regras', 'manuscritas', 'ou', 'sistemas', 'de', 'regras', 'manuscritas', 'que', 'tomam', 'decisões', 'suaves', 'é', 'extremamente', 'trabalhoso', ',', 'propenso', 'a', 'erros', 'e', 'demorado', '.', 'Sistemas', 'baseados', 'em', 'aprender', 'automaticamente', 'as', 'regras', 'podem', 'ser', 'mais', 'precisos', 'simplesmente', 'fornecendo', 'mais', 'dados', 'de', 'entrada', '.', 'No', 'entanto', ',', 'os', 'sistemas', 'baseados', 'em', 'regras', 'escritas', 'à', 'mão', 'só', 'podem', 'ser', 'tornados', 'mais', 'precisos', 'aumentando', 'a', 'complexidade', 'das', 'regras', ',', 'o', 'que', 'é', 'uma', 'tarefa', 'muito', 'mais', 'difícil', '.', 'Em', 'particular', ',', 'há', 'um', 'limite', 'para', 'a', 'complexidade', 'de', 'sistemas', 'baseados', 'em', 'regras', 'artesanais', ',', 'para', 'além', 'dos', 'quais', 'os', 'sistemas', 'se', 'tornam', 'cada', 'vez', 'mais', 'incontroláveis', '.', 'No', 'entanto', ',', 'a', 'criação', 'de', 'mais', 'dados', 'para', 'entrada', 'em', 'sistemas', 'de', 'aprendizado', 'de', 'máquina', 'requer', 'simplesmente', 'um', 'aumento', 'correspondente', 'no', 'número', 'de', 'horas', 'trabalhadas', 'por', 'humanos', ',', 'geralmente', 'sem', 'aumentos', 'significativos', 'na', 'complexidade', 'do', 'processo', 'de', 'anotação', '.', 'O', 'subcampo', 'de', 'PLN', 'dedicado', 'a', 'abordagens', 'de', 'aprendizagem', 'é', 'conhecido', 'como', 'aprendizagem', 'de', 'língua', 'natural', '(', 'NLL', ')', 'e', 'sua', 'conferência', ',', 'a', 'CoNLL', ',', 'e', 'orgão', 'central', ',', 'o', 'SIGNLL', ',', 'são', 'patrocinados', 'pela', 'ACL', ',', 'reconhecendo', 'também', 'as', 'suas', 'ligações', 'com', 'linguística', 'computacional', 'e', 'aquisição', 'de', 'linguagem', '.', 'Quando', 'o', 'objetivo', 'da', 'pesquisa', 'de', 'aprendizagem', 'de', 'linguagem', 'computacional', 'é', 'entender', 'mais', 'sobre', 'aquisição', 'de', 'linguagem', 'humana', ',', 'ou', 'psicolinguística', ',', 'a', 'NLL', 'sobrepõe', '-', 'se', 'no', 'campo', 'relacionado', 'de', 'psicolinguística', 'computacional', '.', '=', '=', 'Aplicações', 'principais', '=', '=', 'A', 'listagem', 'a', 'seguir', 'traz', 'alguns', 'dos', 'trabalhos', 'mais', 'pesquisadas', 'em', 'PLN', '.', 'Note', 'que', 'alguns', 'deles', 'têm', 'aplicações', 'no', 'mundo', 'real', ',', 'enquanto', 'outras', 'servem', 'mais', 'frequentemente', 'como', 'tarefas', 'secundárias', 'que', 'são', 'usadas', 'para', 'auxiliar', 'na', 'resolução', 'de', 'tarefas', 'maiores', '.', 'O', 'que', 'distingue', 'essas', 'tarefas', 'de', 'outras', 'tarefas', 'potenciais', 'e', 'reais', 'de', 'PLN', 'não', 'é', 'apenas', 'o', 'volume', 'de', 'pesquisa', 'dedicado', 'a', 'elas', ',', 'mas', 'o', 'fato', 'de', 'que', 'para', 'cada', 'uma', 'há', 'tipicamente', 'uma', 'definição', 'de', 'problema', 'bem', 'especificada', ',', 'uma', 'métrica', 'padrão', 'para', 'avaliar', 'a', 'tarefa', ',', 'corpora', 'padrão', 'em', 'que', 'a', 'tarefa', 'pode', 'ser', 'avaliada', 'e', 'as', 'competições', 'dedicadas', 'à', 'tarefa', 'específica', '.', 'Sumarização', 'automática', 'Produz', 'um', 'resumo', 'legível', 'de', 'uma', 'parte', 'do', 'texto', '.', 'Muitas', 'vezes', 'usado', 'para', 'fornecer', 'resumos', 'de', 'texto', 'de', 'um', 'tipo', 'conhecido', ',', 'como', 'artigos', 'na', 'seção', 'financeira', 'de', 'um', 'jornal', '.', 'Resolução', 'de', 'correferência', 'Dada', 'uma', 'frase', 'ou', 'um', 'pedaço', 'maior', 'de', 'texto', ',', 'determina', 'quais', 'palavras', '(', '\"', 'menções', '\"', ')', 'se', 'referem', 'aos', 'mesmos', 'objetos', '(', '\"', 'entidades', '\"', ')', '.', 'A', 'resolução', 'da', 'anáfora', 'é', 'um', 'exemplo', 'específico', 'dessa', 'tarefa', 'e', 'está', 'especificamente', 'preocupada', 'em', 'combinar', 'os', 'pronomes', 'com', 'os', 'substantivos', 'ou', 'nomes', 'aos', 'quais', 'eles', 'se', 'referem', '.', 'A', 'tarefa', 'mais', 'geral', 'da', 'resolução', 'de', 'correferência', 'também', 'inclui', 'a', 'identificação', 'dos', 'chamados', '\"', 'relacionamentos', 'de', 'ponte', '\"', 'envolvendo', 'expressões', 'de', 'referência', '.', 'Por', 'exemplo', ',', 'numa', 'frase', 'como', '\"', 'Ele', 'entrou', 'na', 'casa', 'de', 'João', 'pela', 'porta', 'da', 'frente', '\"', ',', '\"', 'a', 'porta', 'da', 'frente', '\"', 'é', 'uma', 'expressão', 'de', 'referência', 'e', 'a', 'relação', 'da', 'ponte', 'a', 'ser', 'identificada', 'é', 'o', 'fato', 'de', 'que', 'a', 'porta', 'a', 'ser', 'referida', 'é', 'a', 'porta', 'da', 'frente', 'de', \"John's\", '(', 'ao', 'invés', 'de', 'alguma', 'outra', 'estrutura', 'que', 'também', 'pode', 'ser', 'referida', ')', '.', 'Análise', 'do', 'Discurso', 'Esta', 'rubrica', 'inclui', 'uma', 'série', 'de', 'tarefas', 'relacionadas', '.', 'Uma', 'tarefa', 'é', 'identificar', 'a', 'estrutura', 'discursiva', 'do', 'texto', 'conectado', ',', 'isto', 'é', ',', 'a', 'natureza', 'das', 'relações', 'discursivas', 'entre', 'sentenças', '(', 'por', 'exemplo', ',', 'elaboração', ',', 'explicação', ',', 'contraste', ')', '.', 'Outra', 'possível', 'tarefa', 'é', 'reconhecer', 'e', 'classificar', 'os', 'atos', 'de', 'fala', 'em', 'um', 'pedaço', 'de', 'texto', '(', 'por', 'exemplo', ',', 'pergunta', 'sim', '-', 'não', ',', 'pergunta', 'de', 'conteúdo', ',', 'frase', ',', 'afirmação', ',', 'etc', ')', '.', 'Maquina', 'de', 'tradução', 'Traduzir', 'automaticamente', 'texto', 'de', 'uma', 'linguagem', 'humana', 'para', 'outra', '.', 'Este', 'é', 'uma', 'das', 'tarefas', 'mais', 'difíceis', 'e', 'faz', 'parte', 'de', 'um', 'tipo', 'de', 'problemas', 'conhecidos', 'como', '\"', 'AI', '-', 'complete', '\"', ',', 'ou', 'seja', ',', 'exigindo', 'todos', 'os', 'diferentes', 'tipos', 'de', 'conhecimento', 'que', 'os', 'humanos', 'possuem', '(', 'gramática', ',', 'semântica', ',', 'fatos', 'sobre', 'o', 'mundo', 'real', ',', 'etc', ')', 'para', 'resolvê', '-', 'lo', 'adequadamente', '.', 'Segmentação', 'morfológica', 'Separa', 'palavras', 'em', 'morfemas', 'individuais', 'e', 'identifica', 'classes', 'de', 'morfemas', '.', 'A', 'dificuldade', 'desta', 'tarefa', 'depende', 'muito', 'da', 'complexidade', 'da', 'morfologia', '(', 'isto', 'é', ',', 'da', 'estrutura', 'das', 'palavras', ')', 'da', 'linguagem', 'que', 'está', 'sendo', 'considerada', '.', 'O', 'inglês', 'possui', 'uma', 'morfologia', 'bastante', 'simples', ',', 'especialmente', 'a', 'morfologia', 'flexional', ',', 'e', 'portanto', 'é', 'possível', 'ignorar', 'esta', 'tarefa', 'inteiramente', 'e', 'simplesmente', 'modelar', 'todas', 'as', 'formas', 'possíveis', 'de', 'uma', 'palavra', '(', 'por', 'exemplo', ',', '\"', 'open', ',', 'opens', ',', 'opened', ',', 'opening', '\"', ')', 'como', 'palavras', 'separadas', '.', 'Em', 'línguas', 'como', 'o', 'turco', 'ou', 'o', 'Meitei', ',', 'uma', 'língua', 'indiana', 'fortemente', 'aglutinada', ',', 'no', 'entanto', ',', 'tal', 'abordagem', 'não', 'é', 'possível', ',', 'uma', 'vez', 'que', 'cada', 'entrada', 'do', 'dicionário', 'tem', 'milhares', 'de', 'formas', 'de', 'palavras', 'possíveis', '.', 'Reconhecimento', 'de', 'entidade', 'nomeada', '(', 'NER', ')', 'Dado', 'um', 'fluxo', 'de', 'texto', ',', 'determina', 'quais', 'são', 'itens', 'no', 'mapa', 'de', 'texto', 'para', 'nomes', 'próprios', ',', 'como', 'pessoas', 'ou', 'locais', 'e', 'qual', 'é', 'o', 'tipo', 'de', 'cada', 'nome', '(', 'por', 'exemplo', ',', 'pessoa', ',', 'local', ',', 'organização', ')', '.', 'Embora', 'a', 'capitalização', 'possa', 'ajudar', 'a', 'reconhecer', 'entidades', 'nomeadas', 'em', 'idiomas', 'como', 'o', 'inglês', ',', 'essas', 'informações', 'podem', 'não', 'ajudar', 'a', 'determinar', 'o', 'tipo', 'de', 'entidade', 'nomeada', 'e', ',', 'em', 'alguns', 'casos', ',', 'sãos', 'imprecisas', 'ou', 'insuficientes', '.', 'Por', 'exemplo', ',', 'a', 'primeira', 'palavra', 'de', 'uma', 'frase', 'também', 'é', 'capitalizada', 'e', 'as', 'entidades', 'nomeadas', 'muitas', 'vezes', 'abrangem', 'várias', 'palavras', ',', 'com', 'apenas', 'algumas', 'delas', 'são', 'capitalizadas', '.', 'Além', 'disso', ',', 'muitas', 'outras', 'linguagens', 'em', 'scripts', 'não', '-', 'ocidentais', '(', 'por', 'exemplo', ',', 'chinês', 'ou', 'árabe', ')', 'não', 'têm', 'nenhuma', 'capitalização', 'e', 'mesmo', 'as', 'línguas', 'com', 'maiúsculas', 'podem', 'não', 'distinguir', 'nomes', '.', 'Por', 'exemplo', ',', 'o', 'alemão', 'capitaliza', 'todos', 'os', 'substantivos', ',', 'independentemente', 'de', 'se', 'referirem', 'a', 'nomes', ',', 'e', 'o', 'francês', 'e', 'o', 'espanhol', 'não', 'capitalizam', 'nomes', 'que', 'servem', 'como', 'adjetivos', '.', 'Geração', 'de', 'língua', 'natural', 'Converte', 'informações', 'de', 'bancos', 'de', 'dados', 'de', 'computador', 'ou', 'intenções', 'semânticas', 'em', 'linguagem', 'humana', 'legível', '.', 'Compreensão', 'da', 'língua', 'natural', 'Converte', 'pedaços', 'de', 'texto', 'em', 'representações', 'mais', 'formais', ',', 'como', 'estruturas', 'de', 'lógica', 'de', 'primeira', 'ordem', ',', 'que', 'são', 'mais', 'fáceis', 'de', 'manipular', 'pelos', 'programas', 'de', 'computador', '.', 'A', 'compreensão', 'da', 'língua', 'natural', 'envolve', 'a', 'identificação', 'da', 'semântica', 'pretendida', 'a', 'partir', 'da', 'múltipla', 'semântica', 'possível', 'que', 'pode', 'ser', 'derivada', 'de', 'uma', 'expressão', 'de', 'língua', 'natural', 'que', 'geralmente', 'toma', 'a', 'forma', 'de', 'notação', 'organizada', 'de', 'conceitos', 'de', 'linguagens', 'naturais', '.', 'Entretanto', ',', 'introdução', 'e', 'criação', 'de', 'linguagem', 'metamodelo', 'e', 'ontologia', 'são', 'eficientes', 'soluções', 'empíricas', '.', 'Uma', 'formalização', 'explícita', 'da', 'semântica', 'de', 'línguas', 'naturais', 'sem', 'confusões', 'com', 'suposições', 'implícitas', 'como', 'closed', '-', 'world', 'assumption', '(', 'CWA', ')', 'versus', 'open', '-', 'world', 'assumption', 'ou', 'subjetiva', 'Sim', '/', 'Não', 'versus', 'objetivo', 'Verdadeiro', '/', 'Falso', 'é', 'esperada', 'para', 'a', 'construção', 'de', 'uma', 'base', 'de', 'formalização', 'semântica', '.', 'Reconhecimento', 'óptico', 'de', 'caracteres', '(', 'OCR', ')', 'Dada', 'uma', 'imagem', 'que', 'representa', 'o', 'texto', 'impresso', ',', 'determina', 'o', 'texto', 'correspondente', '.', 'Marcação', 'de', 'classe', 'gramatical', 'Dada', 'uma', 'sentença', ',', 'determina', 'a', 'classe', 'gramatical', 'de', 'cada', 'palavra', '.', 'Muitas', 'palavras', ',', 'especialmente', 'as', 'comuns', ',', 'podem', 'servir', 'como', 'múltiplas', 'partes', 'do', 'discurso', '.', 'Em', 'inglês', ',', 'por', 'exemplo', ',', '\"', 'book', '\"', 'pode', 'ser', 'um', 'substantivo', '(', '\"', 'the', 'book', 'on', 'the', 'table', '\"', ')', 'ou', 'verbo', '(', '\"', 'book', 'a', 'flight', '\"', ')', ';', '\"', 'Set', '\"', 'pode', 'ser', 'um', 'substantivo', ',', 'verbo', 'ou', 'adjetivo', ';', 'E', '\"', 'out', '\"', 'pode', 'ser', 'qualquer', 'um', 'de', 'pelo', 'menos', 'cinco', 'diferentes', 'partes', 'da', 'fala', '.', 'Algumas', 'línguas', 'têm', 'mais', 'ambiguidade', 'do', 'que', 'outras', '.', 'As', 'línguas', 'com', 'pouca', 'morfologia', 'flexional', ',', 'como', 'o', 'inglês', ',', 'são', 'particularmente', 'propensas', 'a', 'tal', 'ambiguidade', '.', 'O', 'chinês', 'é', 'propenso', 'a', 'tal', 'ambiguidade', 'porque', 'é', 'uma', 'língua', 'tonal', 'durante', 'a', 'verbalização', '.', 'Tal', 'inflexão', 'não', 'é', 'facilmente', 'transmitida', 'através', 'das', 'entidades', 'empregadas', 'dentro', 'da', 'ortografia', 'para', 'transmitir', 'o', 'significado', 'pretendido', '.', 'Análise', 'sintática', '(', 'Parsing', ')', 'Determina', 'a', 'árvore', 'de', 'análise', '(', 'análise', 'gramatical', ')', 'de', 'uma', 'frase', '.', 'A', 'gramática', 'para', 'as', 'linguagens', 'naturais', 'é', 'ambígua', 'e', 'frases', 'típicas', 'têm', 'múltiplas', 'análises', 'possíveis', '.', 'Na', 'verdade', ',', 'surpreendentemente', ',', 'para', 'uma', 'frase', 'típica', 'pode', 'haver', 'milhares', 'de', 'análises', 'em', 'potencial', '(', 'a', 'maioria', 'dos', 'quais', 'parecerá', 'completamente', 'absurda', 'para', 'um', 'ser', 'humano', ')', '.', 'Respostas', 'a', 'perguntas', 'Dada', 'uma', 'questão', 'de', 'linguagem', 'humana', ',', 'determina', 'sua', 'resposta', '.', 'As', 'perguntas', 'típicas', 'têm', 'uma', 'resposta', 'correta', 'específica', '(', 'como', '\"', 'Qual', 'é', 'o', 'capital', 'do', 'Canadá', '?', '\"', ')', ',', 'mas', 'às', 'vezes', 'perguntas', 'abertas', 'também', 'são', 'consideradas', '(', 'como', '\"', 'Qual', 'é', 'o', 'significado', 'da', 'vida', '?', '\"', ')', '.', 'Trabalhos', 'recentes', 'têm', 'analisado', 'questões', 'ainda', 'mais', 'complexas', '.', 'Extração', 'de', 'relacionamento', 'Identifica', 'as', 'relações', 'entre', 'entidades', 'nomeadas', '(', 'por', 'exemplo', ',', 'quem', 'é', 'casado', 'com', 'quem', ')', 'com', 'base', 'em', 'textos', '.', 'Quebra', 'de', 'frases', '(', 'sentence', 'boundary', 'disambiguation', ')', 'Encontra', 'os', 'limites', 'da', 'frase', 'em', 'um', 'pedaço', 'de', 'texto', '.', 'Os', 'limites', 'de', 'frases', 'são', 'normalmente', 'marcadas', 'por', 'pontos', 'ou', 'outros', 'sinais', 'de', 'pontuação', ',', 'mas', 'esses', 'mesmos', 'caracteres', 'podem', 'servir', 'outros', 'propósitos', '.', 'Análise', 'de', 'subjetividade', '(', 'sentiment', 'analysis', 'ou', 'opinion', 'mining', ')', 'Extrai', 'informações', 'subjetivas', 'geralmente', 'de', 'um', 'conjunto', 'de', 'documentos', ',', 'muitas', 'vezes', 'usando', 'revisões', 'online', 'para', 'determinar', 'a', '\"', 'polaridade', '\"', 'sobre', 'objetos', 'específicos', '.', 'É', 'especialmente', 'útil', 'para', 'identificar', 'tendências', 'da', 'opinião', 'pública', 'nas', 'mídias', 'sociais', ',', 'para', 'fins', 'de', 'marketing', '.', 'Reconhecimento', 'de', 'fala', 'Dado', 'um', 'clipe', 'de', 'som', 'de', 'uma', 'pessoa', 'ou', 'pessoas', 'falando', ',', 'determina', 'a', 'representação', 'textual', 'do', 'discurso', '.', 'É', 'o', 'oposto', 'da', 'síntese', 'de', 'fala', 'e', 'é', 'uma', 'das', 'áreas', 'mais', 'difíceis', ',', 'conhecida', 'como', '\"', 'AI', '-', 'complete', '\"', '.', 'Na', 'fala', 'natural', 'quase', 'não', 'há', 'pausas', 'entre', 'palavras', 'sucessivas', ',', 'por', 'isso', 'a', 'segmentação', 'de', 'fala', 'é', 'uma', 'subtarefa', 'necessária', 'de', 'reconhecimento', 'de', 'fala', '.', 'Nota', '-', 'se', 'também', 'que', ',', 'na', 'maioria', 'das', 'linguagens', 'faladas', ',', 'os', 'sons', 'que', 'representam', 'letras', 'sucessivas', 'se', 'misturam', 'entre', 'si', 'em', 'um', 'processo', 'denominado', 'coarticulação', ',', 'de', 'modo', 'que', 'a', 'conversão', 'do', 'sinal', 'analógico', 'em', 'caracteres', 'discretos', 'pode', 'ser', 'um', 'processo', 'muito', 'difícil', 'de', 'ser', 'realizado', '.', 'Segmentação', 'de', 'fala', 'Dado', 'um', 'clipe', 'de', 'som', 'de', 'uma', 'pessoa', 'ou', 'pessoas', 'falando', ',', 'separa', '-', 'o', 'em', 'palavras', '.', 'Uma', 'subaplicação', 'de', 'reconhecimento', 'de', 'fala', 'e', 'normalmente', 'agrupada', 'com', 'ele', '.', 'Análise', 'morfológica', 'e', 'reconhecimento', 'de', 'tópicos', 'Dado', 'um', 'pedaço', 'de', 'texto', ',', 'separa', '-', 'o', 'em', 'segmentos', 'cada', 'um', 'dos', 'quais', 'é', 'dedicado', 'a', 'um', 'tópico', 'e', 'identifica', 'o', 'tópico', 'do', 'segmento', '.', 'Análise', 'morfológica', 'e', 'segmentação', 'de', 'palavras', 'Separa', 'um', 'pedaço', 'de', 'texto', 'contínuo', 'em', 'palavras', 'separadas', '.', 'Para', 'uma', 'língua', 'como', 'o', 'inglês', ',', 'isso', 'é', 'bastante', 'trivial', ',', 'uma', 'vez', 'que', 'as', 'palavras', 'são', 'normalmente', 'separadas', 'por', 'espaços', '.', 'No', 'entanto', ',', 'algumas', 'línguas', 'escritas', 'como', 'chinês', ',', 'japonês', 'e', 'tailandês', 'não', 'marcam', 'limites', 'de', 'palavras', 'de', 'tal', 'forma', ',', 'e', 'nessas', 'línguas', 'segmentação', 'de', 'texto', 'é', 'uma', 'tarefa', 'significativa', 'que', 'requer', 'conhecimento', 'do', 'vocabulário', 'e', 'morfologia', 'das', 'palavras', 'na', 'língua', '.', 'Desambiguação', 'Muitas', 'palavras', 'têm', 'mais', 'de', 'um', 'significado', ',', 'assim', 'temos', 'que', 'selecionar', 'o', 'significado', 'que', 'faz', 'mais', 'sentido', 'no', 'contexto', '.', 'Para', 'este', 'problema', ',', 'em', 'geral', 'é', 'dada', 'uma', 'lista', 'de', 'palavras', 'e', 'sentidos', 'de', 'palavras', 'associadas', 'de', 'um', 'dicionário', 'ou', 'recurso', 'online', ',', 'como', 'o', 'WordNet', '.', 'Em', 'alguns', 'casos', ',', 'conjuntos', 'de', 'tarefas', 'relacionadas', 'são', 'agrupados', 'em', 'subcampos', 'de', 'PLN', 'que', 'são', 'frequentemente', 'considerados', 'separadamente', 'da', 'PLN', 'como', 'um', 'todo', ',', 'como', 'os', 'exemplos', 'à', 'seguir', ':', 'Recuperação', 'de', 'informação', '(', 'IR', ')', 'Trata', '-', 'se', 'de', 'armazenar', ',', 'pesquisar', 'e', 'recuperar', 'informações', '.', 'É', 'um', 'campo', 'separado', 'dentro', 'da', 'ciência', 'da', 'computação', '(', 'mais', 'perto', 'de', 'bancos', 'de', 'dados', ')', ',', 'mas', 'a', 'IR', 'se', 'baseia', 'em', 'alguns', 'métodos', 'PLN', '(', 'por', 'exemplo', ',', 'stemming', ')', '.', 'Algumas', 'pesquisas', 'e', 'aplicações', 'atuais', 'procuram', 'preencher', 'a', 'lacuna', 'entre', 'IR', 'e', 'PLN', '.', 'Extração', 'de', 'informação', '(', 'IE', ')', 'Trata', '-', 'se', ',', 'em', 'geral', ',', 'da', 'extração', 'de', 'informação', 'semântica', 'a', 'partir', 'do', 'texto', '.', 'Abrange', 'tarefas', 'como', 'reconhecimento', 'de', 'entidade', 'mencionada', ',', 'resolução', 'de', 'correferência', 'e', 'de', 'relacionamento', 'de', 'extração', ',', 'etc', '.', 'Processamento', 'de', 'voz', 'Abrange', 'reconhecimento', 'de', 'fala', ',', 'síntese', 'de', 'fala', 'e', 'tarefas', 'relacionadas', '.', 'Outras', 'tarefas', 'incluem', ':', 'Identificação', 'na', 'língua', 'materna', 'Stemização', 'Simplificação', 'do', 'texto', 'Síntese', 'de', 'fala', 'Revisão', 'de', 'texto', 'Pesquisa', 'em', 'língua', 'natural', 'Expansão', 'da', 'consulta', 'Pontuação', 'de', 'ensaio', 'automatizado', 'Truecasing', '=', '=', 'Estatística', '=', '=', 'Artigo', 'principal', ':', 'Gramática', 'estocástica', 'O', 'processamento', 'estatístico', 'em', 'língua', 'natural', 'utiliza', 'métodos', 'estocásticos', ',', 'probabilísticos', 'e', 'estatísticos', 'para', 'resolver', 'algumas', 'das', 'dificuldades', 'discutidas', 'acima', ',', 'especialmente', 'aquelas', 'que', 'surgem', 'porque', 'frases', 'mais', 'longas', 'são', 'muito', 'ambíguas', 'quando', 'processadas', 'com', 'gramáticas', 'realistas', ',', 'produzindo', 'milhares', 'ou', 'milhões', 'de', 'análises', 'possíveis', '.', 'Métodos', 'de', 'desambiguação', 'envolvem', 'muitas', 'vezes', 'o', 'uso', 'de', 'corpora', 'e', 'modelos', 'de', 'Markov', '.', 'O', 'projeto', 'ESPRIT', 'P26', '(', '1984', '-', '1988', ')', ',', 'liderado', 'pelo', 'CSELT', ',', 'explorou', 'o', 'problema', 'do', 'reconhecimento', 'de', 'fala', 'comparando', 'abordagem', 'baseada', 'em', 'conhecimento', 'e', 'estatística', ':', 'o', 'resultado', 'escolhido', 'foi', 'um', 'modelo', 'completamente', 'estatístico', '.', 'Um', 'dos', 'primeiros', 'modelos', 'de', 'compreensão', 'estatística', 'da', 'língua', 'natural', 'foi', 'introduzido', 'em', '1991', 'por', 'Roberto', 'Pieraccini', ',', 'Esther', 'Levin', 'e', 'Chin', '-', 'Hui', 'Lee', ',', 'da', 'Bell', 'Laboratories', ']', '.', 'O', 'PLN', 'compreende', 'todas', 'as', 'abordagens', 'quantitativas', 'para', 'processamento', 'automatizado', 'de', 'linguagem', ',', 'incluindo', 'modelagem', 'probabilística', ',', 'teoria', 'da', 'informação', 'e', 'álgebra', 'linear', '.', 'A', 'tecnologia', 'para', 'o', 'PLN', 'estatístico', 'vem', 'principalmente', 'da', 'aprendizagem', 'automática', 'e', 'da', 'mineração', 'de', 'dados', ',', 'que', 'são', 'campos', 'de', 'inteligência', 'artificial', 'que', 'envolvem', 'o', 'aprendizado', 'a', 'partir', 'de', 'dados', '.', '=', '=', 'Avaliação', '=', '=', 'O', 'objetivo', 'da', 'avaliação', 'do', 'PLN', 'é', 'uma', 'medida', 'de', 'uma', 'ou', 'mais', 'qualidades', 'de', 'um', 'algoritmo', 'ou', 'de', 'um', 'sistema', 'a', 'fim', 'de', 'determinar', 'se', 'o', 'algoritmo', 'atende', 'às', 'metas', 'dos', 'projetistas', 'ou', 'o', 'sistema', 'de', 'atendimento', 'às', 'necessidades', 'de', 'seus', 'usuários', '.', 'Investigação', 'na', 'avaliação', 'PLN', 'tem', 'ganhado', 'atenção', ',', 'porque', 'a', 'definição', 'de', 'critérios', 'de', 'avaliação', 'é', 'uma', 'forma', 'de', 'especificar', 'precisamente', 'problemas', 'do', 'PLN', '.', 'Uma', 'métrica', 'de', 'avaliação', 'de', 'PLN', 'em', 'um', 'sistema', 'algorítmico', 'permite', 'a', 'integração', 'da', 'compreensão', 'de', 'linguagem', 'e', 'geração', 'de', 'linguagem', '.', 'Um', 'conjunto', 'preciso', 'de', 'critérios', 'de', 'avaliação', ',', 'que', 'pode', 'ser', 'aplicado', 'principalmente', 'a', 'avaliações', 'métricas', ',', 'podendo', 'permitir', 'que', 'várias', 'equipes', 'comparem', 'suas', 'soluções', 'para', 'um', 'determinado', 'problema', 'do', 'PLN', '.', '=', '=', 'Cronologia', 'da', 'avaliação', '=', '=', 'Em', '1983', ',', 'iniciou', '-', 'se', 'o', 'Projecto', 'Esprit', 'P26', ',', 'que', 'avaliou', 'as', 'Tecnologias', 'da', 'Fala', '(', 'incluindo', 'tópicos', 'gerais', 'como', 'Sintaxe', 'e', 'Semântica', ')', 'comparando', 'as', 'abordagens', 'baseadas', 'em', 'regras', 'com', 'as', 'estatísticas', '.', 'Em', '1987', ',', 'a', 'primeira', 'campanha', 'de', 'avaliação', 'de', 'textos', 'escritos', 'parece', 'ser', 'uma', 'campanha', 'dedicada', 'à', 'compreensão', 'da', 'mensagem', '(', 'Pallet', ',', '1998', ')', '.', 'O', 'projeto', 'Parseval', '/', 'GEIG', 'comparou', 'gramáticas', 'de', 'frase', '-', 'estrutura', '(', 'Black', '1991', ')', '.', 'Houve', 'uma', 'série', 'de', 'campanhas', 'no', 'projeto', 'Tipster', 'sobre', 'tarefas', 'como', 'resumo', ',', 'tradução', 'e', 'pesquisa', '(', 'Hirschman', '1998', ')', '.', 'Em', '1994', ',', 'na', 'Alemanha', ',', 'o', 'Morpholympics', 'comparou', 'marcadores', 'morfológicos', 'alemães', '.', 'As', 'campanhas', 'de', 'Senseval', '&', 'Romanseval', 'foram', 'realizadas', 'com', 'os', 'objetivos', 'de', 'desambiguação', 'semântica', '.', 'Em', '1996', ',', 'a', 'campanha', 'Sparkle', 'comparou', 'os', 'analisadores', 'sintáticos', 'em', 'quatro', 'idiomas', 'diferentes', '(', 'inglês', ',', 'francês', ',', 'alemão', 'e', 'italiano', ')', '.', 'Na', 'França', ',', 'o', 'projeto', 'Grace', 'comparou', 'um', 'conjunto', 'de', '21', 'marcadores', 'para', 'o', 'francês', 'em', '1997', '(', 'Adda', '1999', ')', '.', 'Em', '2004', ',', 'durante', 'o', 'projeto', 'Technolangue', '/', 'Easy', ',', 'foram', 'comparados', '13', 'analisadores', 'para', 'o', 'francês', '.', 'A', 'avaliação', 'em', 'larga', 'escala', 'dos', 'analisadores', 'de', 'dependência', 'foi', 'realizada', 'no', 'contexto', 'das', 'tarefas', 'compartilhadas', 'do', 'CoNLL', 'em', '2006', 'e', '2007', '.', 'Na', 'França', ',', 'no', 'âmbito', 'do', 'projecto', 'ANR', '-', 'Passage', '(', 'final', 'de', '2007', ')', ',', 'foram', 'comparados', '10', 'analisadores', 'para', 'o', 'francês', '.', 'Em', 'Itália', ',', 'a', 'campanha', 'EVALITA', 'foi', 'realizada', 'em', '2007', ',', '2009', ',', '2011', 'e', '2014', 'para', 'comparar', 'várias', 'ferramentas', 'de', 'PLN', 'e', 'de', 'voz', 'para', 'o', 'site', 'italiano', '-', 'EVALITA', '.', '=', '=', 'Diferentes', 'tipos', 'de', 'avaliação', '=', '=', 'Avaliação', 'intrínseca', 'vs', '.', 'extrínseca', 'A', 'avaliação', 'intrínseca', 'considera', 'um', 'sistema', 'PNL', 'isolado', 'e', 'caracteriza', 'seu', 'desempenho', 'em', 'relação', 'a', 'um', 'resultado', 'padrão', '-', 'excelência', ',', 'conforme', 'definido', 'pelos', 'avaliadores', '.', 'A', 'avaliação', 'extrínseca', ',', 'também', 'chamada', 'de', 'avaliação', 'em', 'uso', ',', 'considera', 'o', 'sistema', 'PLN', 'em', 'um', 'cenário', 'mais', 'complexo', 'como', 'um', 'sistema', 'embutido', 'ou', 'uma', 'função', 'precisa', 'para', 'um', 'usuário', 'humano', '.', 'O', 'desempenho', 'extrínseco', 'do', 'sistema', 'é', 'então', 'caracterizado', 'em', 'termos', 'de', 'utilidade', 'em', 'relação', 'à', 'tarefa', 'global', 'do', 'sistema', 'estranho', 'ou', 'do', 'utilizador', 'humano', '.', 'Por', 'exemplo', ',', 'considere', 'um', 'analisador', 'sintático', 'que', 'é', 'baseado', 'na', 'saída', 'de', 'alguma', 'parte', 'do', 'tagger', 'de', 'fala', '(', 'POS', ')', '.', 'Uma', 'avaliação', 'intrínseca', 'executaria', 'o', 'marcador', 'POS', 'em', 'dados', 'estruturados', 'e', 'compararia', 'a', 'saída', 'do', 'sistema', 'do', 'marcador', 'POS', 'com', 'a', 'saída', 'padrão', 'ouro', '.', 'Uma', 'avaliação', 'extrínseca', 'executaria', 'o', 'analisador', 'com', 'algum', 'outro', 'marcador', 'POS', 'e', ',', 'em', 'seguida', ',', 'com', 'o', 'marcador', 'POS', 'novo', 'e', 'compara', 'a', 'precisão', 'de', 'análise', '.', 'Caixa', 'preta', 'vs', '.', 'Avaliação', 'da', 'caixa', 'de', 'vidro', 'A', 'avaliação', 'em', 'caixa', 'preta', 'requer', 'que', 'alguém', 'execute', 'um', 'sistema', 'PLN', 'em', 'um', 'conjunto', 'de', 'dados', 'de', 'amostra', 'e', 'para', 'medir', 'uma', 'série', 'de', 'parâmetros', 'relacionados', 'com', 'a', 'qualidade', 'do', 'processo', ',', 'como', 'velocidade', ',', 'confiabilidade', ',', 'consumo', 'de', 'recursos', 'e', ',', 'principalmente', ',', 'a', 'qualidade', 'do', 'resultado', ',', 'como', 'a', 'precisão', 'da', 'anotação', 'de', 'dados', 'ou', 'a', 'fidelidade', 'de', 'uma', 'tradução', '.', 'A', 'avaliação', 'da', 'caixa', 'de', 'vidro', 'examina', 'a', 'concepção', 'do', 'sistema', ';', 'Os', 'algoritmos', 'que', 'são', 'implementados', ',', 'os', 'recursos', 'linguísticos', 'que', 'utiliza', ',', 'como', 'o', 'tamanho', 'do', 'vocabulário', 'ou', 'a', 'expressão', 'definida', 'de', 'cardinalidade', '.', 'Dada', 'a', 'complexidade', 'dos', 'problemas', 'da', 'PLN', ',', 'muitas', 'vezes', 'é', 'difícil', 'prever', 'o', 'desempenho', 'apenas', 'com', 'base', 'na', 'avaliação', 'da', 'caixa', 'de', 'vidro', ';', 'Mas', 'este', 'tipo', 'de', 'avaliação', 'é', 'mais', 'informativo', 'no', 'que', 'diz', 'respeito', 'à', 'análise', 'de', 'erros', 'ou', 'desenvolvimentos', 'futuros', 'de', 'um', 'sistema', '.', 'Automática', 'vs', '.', 'avaliação', 'manual', 'Em', 'muitos', 'casos', ',', 'procedimentos', 'automáticos', 'podem', 'ser', 'definidos', 'para', 'avaliar', 'um', 'sistema', 'de', 'PLN', ',', 'comparando', 'sua', 'saída', 'com', 'o', 'padrão', 'de', 'excelência', '.', 'Embora', 'o', 'custo', 'de', 'reproduzir', 'o', 'padrão', 'de', 'excelência', 'possa', 'ser', 'bastante', 'elevado', ',', 'avaliação', 'automática', 'de', 'bootstrapping', 'sobre', 'os', 'mesmos', 'dados', 'de', 'entrada', 'pode', 'ser', 'repetida', 'quantas', 'vezes', 'for', 'necessário', 'sem', 'custos', 'adicionais', 'desordenados', '.', 'No', 'entanto', ',', 'para', 'muitos', 'problemas', 'de', 'PLN', 'a', 'definição', 'precisa', 'de', 'um', 'padrão', 'de', 'excelência', 'é', 'uma', 'tarefa', 'complexa', 'e', 'pode', 'se', 'revelar', 'impossível', 'quando', 'o', 'acordo', 'inter', '-', 'anotador', 'é', 'insuficiente', '.', 'A', 'avaliação', 'manual', 'é', 'melhor', 'realizada', 'por', 'juízes', 'humanos', 'instruídos', 'para', 'estimar', 'a', 'qualidade', 'de', 'um', 'sistema', ',', 'ou', 'mais', 'frequentemente', 'de', 'uma', 'amostra', 'de', 'sua', 'produção', ',', 'com', 'base', 'em', 'uma', 'série', 'de', 'critérios', '.', 'Embora', ',', 'graças', 'à', 'sua', 'competência', 'linguística', ',', 'os', 'juízes', 'humanos', 'possam', 'ser', 'considerados', 'como', 'a', 'referência', 'para', 'uma', 'série', 'de', 'tarefas', 'de', 'processamento', 'de', 'linguagem', ',', 'há', 'também', 'uma', 'variação', 'considerável', 'em', 'suas', 'classificações', '.', 'É', 'por', 'isso', 'que', 'a', 'avaliação', 'automática', 'é', ',', 'por', 'vezes', ',', 'referida', 'como', 'avaliação', 'objetiva', 'enquanto', 'a', 'avaliação', 'humana', 'é', 'perspectiva', '.', '=', '=', 'Padronização', '=', '=', 'Um', 'subcomitê', 'ISO', 'está', 'trabalhando', 'para', 'facilitar', 'a', 'interoperabilidade', 'entre', 'recursos', 'lexicais', 'e', 'programas', 'PLN', '.', 'O', 'subcomitê', 'faz', 'parte', 'do', 'ISO', '/', 'TC37', 'e', 'é', 'chamado', 'ISO', '/', 'TC37', '/', 'SC4', '.', 'Alguns', 'padrões', 'ISO', 'já', 'estão', 'publicados', ',', 'mas', 'a', 'maioria', 'deles', 'está', 'em', 'construção', ',', 'principalmente', 'na', 'representação', 'de', 'léxico', '(', 'ver', 'LMF', ')', ',', 'anotação', 'e', 'registro', 'de', 'categoria', 'de', 'dados', '.', '=', '=', 'Ferramentas', '=', '=', 'Expert', 'System', 'S', '.', 'p', '.', 'A', '.', 'General', 'Architecture', 'for', 'Text', 'Engineering', 'Modular', 'Audio', 'Recognition', 'Framework', 'Natural', 'Language', 'Toolkit', '(', 'NLTK', ')', ':', 'uma', 'biblioteca', 'em', 'Python', 'OpenNLP', '=', '=', 'Veja', 'também', '=', '=', 'Mineração', 'de', 'texto', 'biomédica', 'Processo', 'de', 'processamento', 'composto', 'Revisão', 'assistida', 'por', 'computador', 'Linguagem', 'natural', 'controlada', 'Processamento', 'linguístico', 'profundo', 'Auxílio', 'à', 'leitura', 'de', 'línguas', 'estrangeiras', 'Auxílio', 'à', 'escrita', 'em', 'língua', 'estrangeira', 'Tecnologia', 'da', 'linguagem', 'A', 'alocação', 'de', 'Dirichlet', 'Latente', '(', 'LDA', ')', 'Indexação', 'semântica', 'latente', 'Lista', 'de', 'ferramentas', 'de', 'processamento', 'de', 'língua', 'natural', 'Mapa', 'de', 'LRE', 'Programação', 'em', 'língua', 'natural', 'Reificação', '(', 'linguística', ')', 'Dobradura', 'semântica', 'Sistema', 'de', 'diálogo', 'falado', 'Vetor', 'do', 'Pensamento', 'Pesquisa', 'Transderivacional', 'Word2vec', '=', '=', 'Referências', '=', '=', '=', '=', 'Leitura', 'adicional', '=', '=', 'Steven', 'Bird', ',', 'Ewan', 'Klein', ',', 'and', 'Edward', 'Loper', '(', '2009', ')', '.', 'Natural', 'Language', 'Processing', 'with', 'Python', '.', \"O'Reilly\", 'Media', '.', 'ISBN', '978', '-', '0', '-', '596', '-', '51649', '-', '9', '.', 'Daniel', 'Jurafsky', 'and', 'James', 'H', '.', 'Martin', '(', '2008', ')', '.', 'Speech', 'and', 'Language', 'Processing', ',', '2nd', 'edition', '.', 'Pearson', 'Prentice', 'Hall', '.', 'ISBN', '978', '-', '0', '-', '13', '-', '187321', '-', '6', '.', 'Christopher', 'D', '.', 'Manning', ',', 'Prabhakar', 'Raghavan', ',', 'and', 'Hinrich', 'Schütze', '(', '2008', ')', '.', 'Introduction', 'to', 'Information', 'Retrieval', '.', 'Cambridge', 'University', 'Press', '.', 'ISBN', '978', '-', '0', '-', '521', '-', '86571', '-', '5', '.', 'Official', 'html', 'and', 'pdf', 'versions', 'available', 'without', 'charge', '.', 'Christopher', 'D', '.', 'Manning', 'and', 'Hinrich', 'Schütze', '(', '1999', ')', '.', 'Foundations', 'of', 'Statistical', 'Natural', 'Language', 'Processing', '.', 'The', 'MIT', 'Press', '.', 'ISBN', '978', '-', '0', '-', '262', '-', '13360', '-', '9', '.', 'David', 'M', '.', 'W', '.', 'Powers', 'and', 'Christopher', 'C', '.', 'R', '.', 'Turk', '(', '1989', ')', '.', 'Machine', 'Learning', 'of', 'Natural', 'Language', '.', 'Springer', '-', 'Verlag', '.', 'ISBN', '978', '-', '0', '-', '387', '-', '19557', '-', '5', '.']\n"
          ],
          "name": "stdout"
        }
      ]
    },
    {
      "cell_type": "markdown",
      "metadata": {
        "id": "T7qnHatKE2WA"
      },
      "source": [
        "### NLTK\n",
        "\n",
        "Faça utilizando o método abaixo.\n",
        "<b> Não esqueça de armazenar o resultado na variável abaixo. </b>\n",
        "\n",
        "```python\n",
        "nltk.word_tokenize(corpus)\n",
        "```"
      ]
    },
    {
      "cell_type": "code",
      "metadata": {
        "id": "7UNG87TUE2WA"
      },
      "source": [
        "tokens_nltk = nltk.word_tokenize(corpus)"
      ],
      "execution_count": 112,
      "outputs": []
    },
    {
      "cell_type": "code",
      "metadata": {
        "id": "CG26NMKvE2WC",
        "outputId": "f3053230-0726-4394-cd6e-80ac607f80ce",
        "colab": {
          "base_uri": "https://localhost:8080/",
          "height": 53
        }
      },
      "source": [
        "#NLTK\n",
        "print(tokens_nltk)"
      ],
      "execution_count": 113,
      "outputs": [
        {
          "output_type": "stream",
          "text": [
            "['Processamento', 'de', 'língua', 'natural', '(', 'PLN', ')', 'é', 'uma', 'subárea', 'da', 'ciência', 'da', 'computação', ',', 'inteligência', 'artificial', 'e', 'da', 'linguística', 'que', 'estuda', 'os', 'problemas', 'da', 'geração', 'e', 'compreensão', 'automática', 'de', 'línguas', 'humanas', 'naturais', '.', 'Sistemas', 'de', 'geração', 'de', 'língua', 'natural', 'convertem', 'informação', 'de', 'bancos', 'de', 'dados', 'de', 'computadores', 'em', 'linguagem', 'compreensível', 'ao', 'ser', 'humano', 'e', 'sistemas', 'de', 'compreensão', 'de', 'língua', 'natural', 'convertem', 'ocorrências', 'de', 'linguagem', 'humana', 'em', 'representações', 'mais', 'formais', ',', 'mais', 'facilmente', 'manipuláveis', 'por', 'programas', 'de', 'computador', '.', 'Alguns', 'desafios', 'do', 'PLN', 'são', 'compreensão', 'de', 'língua', 'natural', ',', 'fazer', 'com', 'que', 'computadores', 'extraiam', 'sentido', 'de', 'linguagem', 'humana', 'ou', 'natural', 'e', 'geração', 'de', 'língua', 'natural', '.', '==', 'História', '==', 'A', 'história', 'do', 'PLN', 'começou', 'na', 'década', 'de', '1950', ',', 'quando', 'Alan', 'Turing', 'publicou', 'o', 'artigo', '``', 'Computing', 'Machinery', 'and', 'Intelligence', \"''\", ',', 'que', 'propunha', 'o', 'que', 'agora', 'é', 'chamado', 'de', 'teste', 'de', 'Turing', 'como', 'critério', 'de', 'inteligência', '.', 'Em', '1954', ',', 'a', 'experiência', 'de', 'Georgetown', 'envolveu', 'a', 'tradução', 'automática', 'de', 'mais', 'de', 'sessenta', 'frases', 'russas', 'para', 'o', 'inglês', '.', 'Os', 'autores', 'afirmaram', 'que', 'dentro', 'de', 'três', 'ou', 'cinco', 'anos', 'a', 'tradução', 'automática', 'seria', 'um', 'problema', 'resolvido', '.', 'No', 'entanto', ',', 'os', 'avanços', 'reais', 'foram', 'muito', 'mais', 'lentos', 'do', 'que', 'o', 'previsto', 'e', ',', 'após', 'o', 'relatório', 'ALPAC', 'em', '1966', ',', 'que', 'constatou', 'que', 'a', 'pesquisa', 'de', 'dez', 'anos', 'não', 'conseguiu', 'satisfazer', 'as', 'expectativas', ',', 'o', 'financiamento', 'para', 'este', 'estudo', 'em', 'tradução', 'automática', 'foi', 'reduzido', 'drasticamente', '.', 'Poucas', 'pesquisas', 'em', 'tradução', 'automática', 'foram', 'conduzidas', 'até', 'o', 'final', 'dos', 'anos', '80', ',', 'quando', 'os', 'primeiros', 'sistemas', 'estatísticos', 'de', 'tradução', 'foram', 'desenvolvidos', '.', 'Alguns', 'sistemas', 'de', 'PLN', 'bem', 'sucedidos', 'desenvolvidos', 'nos', 'anos', '60', 'foram', 'SHRDLU', ',', 'um', 'sistema', 'de', 'língua', 'natural', 'que', 'trabalhava', 'em', '``', 'blocks', 'worlds', \"''\", 'com', 'vocabulário', 'restrito', 'e', 'ELIZA', ',', 'uma', 'simulação', 'de', 'um', 'psicoterapeuta', 'escrita', 'por', 'Joseph', 'Weizenbaum', 'entre', '1964', 'e', '1966', '.', 'Usando', 'pouca', 'informação', 'sobre', 'o', 'pensamento', 'ou', 'a', 'emoção', 'humana', ',', 'ELIZA', 'criava', ',', 'em', 'alguns', 'casos', ',', 'interações', 'surpreendentemente', 'humanas', '.', 'Quando', 'o', '``', 'paciente', \"''\", 'excedia', 'a', 'base', 'de', 'conhecimento', 'do', 'programa', ',', 'ELIZA', 'fornecia', 'uma', 'resposta', 'genérica', ',', 'por', 'exemplo', ',', 'respondendo', 'a', '``', 'Minha', 'cabeça', 'dói', \"''\", 'com', '``', 'Por', 'que', 'você', 'diz', 'que', 'sua', 'cabeça', 'dói', '?', \"''\", '.', 'Durante', 'a', 'década', 'de', '1970', ',', 'muitos', 'programadores', 'começaram', 'a', 'escrever', '``', 'ontologias', 'conceituais', \"''\", ',', 'que', 'estruturaram', 'a', 'informação', 'do', 'mundo', 'real', 'em', 'dados', 'compreensíveis', 'por', 'computadores', '.', 'Exemplos', 'são', 'MARGIE', '(', 'SCHANK', ',', '1975', ')', ',', 'SAM', '(', 'CULLINGFORD', ',', '1978', ')', ',', 'PAM', '(', 'WILENSKY', ',', '1978', ')', ',', 'TaleSpin', '(', 'MEEHAN', ',', '1976', ')', ',', 'QUALM', '(', 'LEHNERT', ',', '1977', ')', ',', 'Politics', '(', 'CARBONELL', ',', '1979', ')', 'e', 'Plot', 'Units', '(', 'LEHNERT', ',', '1981', ')', '.', 'Neste', 'período', ',', 'muitos', 'chatterbots', 'foram', 'escritos', ',', 'como', 'PARRY', ',', 'Racter', 'e', 'Jabberwacky', '.', 'Até', 'a', 'década', 'de', '1980', ',', 'a', 'maioria', 'dos', 'sistemas', 'de', 'PLN', 'se', 'baseava', 'em', 'conjuntos', 'complexos', 'de', 'regras', 'manuscritas', '.', 'A', 'partir', 'do', 'final', 'dos', 'anos', '1980', ',', 'no', 'entanto', ',', 'houve', 'uma', 'revolução', 'no', 'PLN', 'com', 'a', 'introdução', 'de', 'algoritmos', 'de', 'aprendizagem', 'automática', '(', 'aprendizado', 'de', 'máquina', ')', 'para', 'o', 'processamento', 'de', 'linguagem', '.', 'Isto', 'foi', 'devido', 'tanto', 'ao', 'aumento', 'constante', 'do', 'poder', 'computacional', '(', 'ver', 'Lei', 'de', 'Moore', ')', 'quanto', 'à', 'diminuição', 'gradual', 'da', 'dominância', 'das', 'teorias', 'da', 'linguística', 'chomskyanas', '(', 'como', 'a', 'gramática', 'gerativa', ')', ',', 'cujos', 'fundamentos', 'teóricos', 'desestimularam', 'o', 'tipo', 'de', 'corpus', 'linguístico', 'que', 'está', 'subjacente', 'à', 'abordagem', 'da', 'aprendizagem', 'automática', 'ao', 'processamento', 'da', 'linguagem', '.', 'Alguns', 'dos', 'algoritmos', 'de', 'aprendizado', 'de', 'máquinas', 'mais', 'antigos', ',', 'como', 'as', 'árvores', 'de', 'decisão', ',', 'produziam', 'sistemas', 'de', 'regras', 'rígidas', 'então', 'semelhantes', 'às', 'regras', 'existentes', 'na', 'escritas', 'à', 'mão', '.', 'No', 'entanto', ',', 'a', 'marcação', 'de', 'partes', 'da', 'fala', '(', 'part-of-speech', 'tagging', ')', 'introduziu', 'o', 'uso', 'de', 'modelos', 'ocultos', 'de', 'Markov', 'para', 'o', 'PLN', 'e', ',', 'cada', 'vez', 'mais', ',', 'a', 'pesquisa', 'se', 'concentrava', 'em', 'modelos', 'estatísticos', ',', 'que', 'tomam', 'decisões', 'suaves', 'e', 'probabilísticas', 'baseadas', 'na', 'atribuição', 'de', 'pesos', 'reais', 'aos', 'recursos', 'que', 'compõem', 'dados', 'de', 'entrada', '.', 'Os', 'modelos', 'de', 'linguagem', 'de', 'cache', ',', 'sobre', 'os', 'quais', 'muitos', 'sistemas', 'de', 'reconhecimento', 'de', 'fala', 'agora', 'dependem', ',', 'são', 'exemplos', 'de', 'tais', 'modelos', 'estatísticos', '.', 'Esses', 'modelos', 'são', 'geralmente', 'mais', 'robustos', 'quando', 'dados', 'informações', 'desconhecidas', ',', 'especialmente', 'entrada', 'que', 'contém', 'erros', '(', 'como', 'é', 'muito', 'comum', 'para', 'dados', 'do', 'mundo', 'real', ')', 'e', 'produzem', 'resultados', 'mais', 'confiáveis', 'quando', 'integrados', 'em', 'sistemas', 'maiores', 'que', 'compreendem', 'múltiplas', 'tarefas', '.', 'Muitos', 'dos', 'sucessos', 'iniciais', 'notáveis', 'ocorreram', 'no', 'campo', 'da', 'tradução', 'automática', ',', 'devido', 'especialmente', 'ao', 'trabalho', 'de', 'pesquisa', 'da', 'IBM', ',', 'que', 'desenvolveu', 'modelos', 'estatísticos', 'mais', 'elaborados', '.', 'Estes', 'sistemas', 'foram', 'capazes', 'de', 'tirar', 'proveito', 'de', 'corpora', 'textuais', 'multilíngues', 'existentes', 'produzidos', 'pelo', 'Parlamento', 'do', 'Canadá', 'e', 'a', 'União', 'Europeia', 'como', 'resultado', 'de', 'leis', 'que', 'exigem', 'a', 'tradução', 'de', 'todos', 'os', 'processos', 'governamentais', 'em', 'todas', 'as', 'línguas', 'oficiais', 'dos', 'países', '.', 'No', 'entanto', ',', 'a', 'maioria', 'dos', 'sistemas', 'dependia', 'de', 'corpora', 'desenvolvido', 'especificamente', 'para', 'tarefas', 'implementadas', 'por', 'esses', 'sistemas', ',', 'o', 'que', 'era', '(', 'e', 'muitas', 'vezes', 'continua', 'sendo', ')', 'uma', 'grande', 'limitação', 'no', 'sucesso', 'dos', 'mesmo', '.', 'Como', 'resultado', ',', 'uma', 'grande', 'quantidade', 'de', 'pesquisa', 'passou', 'de', 'quantidades', 'de', 'dados', 'limitadas', 'a', 'métodos', 'de', 'aprendizagem', 'mais', 'eficazes', '.', 'Pesquisas', 'recentes', 'têm', 'se', 'concentrado', 'cada', 'vez', 'mais', 'em', 'algoritmos', 'de', 'aprendizagem', 'semi-supervisionados', 'e', 'sem', 'supervisão', '.', 'Esses', 'algoritmos', 'são', 'capazes', 'de', 'aprender', 'com', 'dados', 'que', 'não', 'foram', 'anotados', 'manualmente', 'com', 'as', 'respostas', 'desejadas', 'ou', 'usando', 'uma', 'combinação', 'de', 'dados', 'anotados', 'e', 'não', 'anotados', '.', 'Geralmente', ',', 'esta', 'tarefa', 'é', 'muito', 'mais', 'trabalhosa', 'do', 'que', 'a', 'aprendizagem', 'supervisionada', 'e', 'normalmente', 'produz', 'resultados', 'menos', 'precisos', 'para', 'uma', 'quantidade', 'específica', 'de', 'dados', 'de', 'entrada', '.', 'No', 'entanto', ',', 'há', 'uma', 'enorme', 'quantidade', 'de', 'dados', 'não', 'anotados', 'disponíveis', '(', 'incluindo', ',', 'entre', 'outras', 'coisas', ',', 'todo', 'o', 'conteúdo', 'da', 'World', 'Wide', 'Web', ')', ',', 'que', 'muitas', 'vezes', 'pode', 'compensar', 'os', 'resultados', 'inferiores', '.', '==', 'Usando', 'a', 'aprendizagem', 'automática', '(', 'aprendizado', 'de', 'máquina', ')', '==', 'Os', 'algoritmos', 'modernos', 'de', 'PLN', 'baseiam-se', 'na', 'aprendizagem', 'mecânica', ',', 'especialmente', 'na', 'aprendizagem', 'de', 'máquinas', 'estatísticas', '.', 'O', 'paradigma', 'da', 'aprendizagem', 'mecânica', 'é', 'diferente', 'do', 'da', 'maioria', 'das', 'tentativas', 'anteriores', 'de', 'processamento', 'da', 'linguagem', '.', 'Anteriormente', ',', 'implementações', 'de', 'tarefas', 'de', 'processamento', 'de', 'linguagem', 'envolviam', 'a', 'codificação', 'direta', 'de', 'grandes', 'conjuntos', 'de', 'regras', '.', 'O', 'paradigma', 'da', 'aprendizagem', 'automática', '(', 'ou', 'aprendizagem', 'automática', ')', 'induz', 'a', 'aprendizagem', 'automática', 'de', 'regras', 'através', 'de', 'análises', 'de', 'corpora', 'de', 'exemplos', 'típicos', 'do', 'mundo', 'real', 'ao', 'invés', 'de', 'usar', 'algoritmos', 'gerais', 'de', 'aprendizagem', '(', 'muitas', 'vezes', ',', 'embora', 'nem', 'sempre', ',', 'baseados', 'em', 'inferência', 'estatística', ')', '.', 'Um', 'corpus', '(', 'plural', '``', 'corpora', \"''\", ')', 'é', 'um', 'conjunto', 'de', 'documentos', '(', 'ou', 'frases', 'individuais', ')', 'que', 'foram', 'anotados', 'à', 'mão', 'com', 'os', 'valores', 'corretos', 'a', 'serem', 'aprendidos', '.', 'Muitas', 'classes', 'diferentes', 'de', 'algoritmos', 'de', 'aprendizado', 'de', 'máquina', 'foram', 'aplicadas', 'a', 'tarefas', 'de', 'PLN', '.', 'Esses', 'algoritmos', 'tomam', 'como', 'entrada', 'um', 'grande', 'conjunto', 'de', '``', 'recursos', \"''\", 'que', 'são', 'gerados', 'a', 'partir', 'de', 'dados', 'de', 'entrada', '.', 'Alguns', 'dos', 'algoritmos', 'mais', 'usados', ',', 'como', 'árvores', 'de', 'decisão', ',', 'produziam', 'sistemas', 'de', 'regras', 'rígidas', 'semelhantes', 'aos', 'sistemas', 'de', 'regras', 'manuscritas', 'mais', 'comuns', '.', 'No', 'entanto', ',', 'cada', 'vez', 'mais', ',', 'a', 'pesquisa', 'tem', 'se', 'concentrado', 'em', 'modelos', 'estatísticos', ',', 'que', 'tomam', 'decisões', 'flexíveis', 'e', 'probabilísticas', 'baseadas', 'em', 'agregar', 'pesos', 'reais', 'a', 'cada', 'característica', 'de', 'entrada', '.', 'Tais', 'modelos', 'têm', 'a', 'vantagem', 'de', 'poder', 'expressar', 'a', 'certeza', 'relativa', 'de', 'muitas', 'respostas', 'possíveis', 'diferentes', 'em', 'vez', 'de', 'apenas', 'uma', ',', 'produzindo', 'resultados', 'mais', 'confiáveis', 'quando', 'esse', 'modelo', 'é', 'incluído', 'como', 'um', 'componente', 'de', 'um', 'sistema', 'maior', '.', 'Os', 'sistemas', 'baseados', 'em', 'algoritmos', 'de', 'aprendizagem', 'mecânica', 'têm', 'muitas', 'vantagens', 'em', 'relação', 'às', 'regras', 'produzidas', 'manualmente', ':', 'Os', 'procedimentos', 'de', 'aprendizagem', 'usados', 'durante', 'a', 'aprendizagem', 'da', 'máquina', 'focam-se', 'automaticamente', 'nos', 'casos', 'mais', 'comuns', ',', 'ao', 'passo', 'que', 'quando', 'se', 'escrevem', 'regras', 'à', 'mão', ',', 'não', 'é', 'óbvio', 'em', 'que', 'sentido', 'o', 'esforço', 'deve', 'ser', 'dirigido', '.', 'Os', 'procedimentos', 'de', 'aprendizagem', 'automática', 'podem', 'fazer', 'uso', 'de', 'algoritmos', 'de', 'inferência', 'estatística', 'para', 'produzir', 'modelos', 'que', 'são', 'robustos', 'a', 'entradas', 'não', 'familiares', '(', 'por', 'exemplo', ',', 'contendo', 'palavras', 'ou', 'estruturas', 'que', 'não', 'foram', 'vistas', 'antes', ')', 'e', 'a', 'entradas', 'errôneas', '(', 'por', 'exemplo', ',', 'com', 'palavras', 'ou', 'palavras', 'incorretamente', 'omitidas', ')', '.', 'Geralmente', ',', 'lidar', 'com', 'essas', 'entradas', 'de', 'forma', 'com', 'regras', 'manuscritas', 'ou', 'sistemas', 'de', 'regras', 'manuscritas', 'que', 'tomam', 'decisões', 'suaves', 'é', 'extremamente', 'trabalhoso', ',', 'propenso', 'a', 'erros', 'e', 'demorado', '.', 'Sistemas', 'baseados', 'em', 'aprender', 'automaticamente', 'as', 'regras', 'podem', 'ser', 'mais', 'precisos', 'simplesmente', 'fornecendo', 'mais', 'dados', 'de', 'entrada', '.', 'No', 'entanto', ',', 'os', 'sistemas', 'baseados', 'em', 'regras', 'escritas', 'à', 'mão', 'só', 'podem', 'ser', 'tornados', 'mais', 'precisos', 'aumentando', 'a', 'complexidade', 'das', 'regras', ',', 'o', 'que', 'é', 'uma', 'tarefa', 'muito', 'mais', 'difícil', '.', 'Em', 'particular', ',', 'há', 'um', 'limite', 'para', 'a', 'complexidade', 'de', 'sistemas', 'baseados', 'em', 'regras', 'artesanais', ',', 'para', 'além', 'dos', 'quais', 'os', 'sistemas', 'se', 'tornam', 'cada', 'vez', 'mais', 'incontroláveis', '.', 'No', 'entanto', ',', 'a', 'criação', 'de', 'mais', 'dados', 'para', 'entrada', 'em', 'sistemas', 'de', 'aprendizado', 'de', 'máquina', 'requer', 'simplesmente', 'um', 'aumento', 'correspondente', 'no', 'número', 'de', 'horas', 'trabalhadas', 'por', 'humanos', ',', 'geralmente', 'sem', 'aumentos', 'significativos', 'na', 'complexidade', 'do', 'processo', 'de', 'anotação.O', 'subcampo', 'de', 'PLN', 'dedicado', 'a', 'abordagens', 'de', 'aprendizagem', 'é', 'conhecido', 'como', 'aprendizagem', 'de', 'língua', 'natural', '(', 'NLL', ')', 'e', 'sua', 'conferência', ',', 'a', 'CoNLL', ',', 'e', 'orgão', 'central', ',', 'o', 'SIGNLL', ',', 'são', 'patrocinados', 'pela', 'ACL', ',', 'reconhecendo', 'também', 'as', 'suas', 'ligações', 'com', 'linguística', 'computacional', 'e', 'aquisição', 'de', 'linguagem', '.', 'Quando', 'o', 'objetivo', 'da', 'pesquisa', 'de', 'aprendizagem', 'de', 'linguagem', 'computacional', 'é', 'entender', 'mais', 'sobre', 'aquisição', 'de', 'linguagem', 'humana', ',', 'ou', 'psicolinguística', ',', 'a', 'NLL', 'sobrepõe-se', 'no', 'campo', 'relacionado', 'de', 'psicolinguística', 'computacional', '.', '==', 'Aplicações', 'principais', '==', 'A', 'listagem', 'a', 'seguir', 'traz', 'alguns', 'dos', 'trabalhos', 'mais', 'pesquisadas', 'em', 'PLN', '.', 'Note', 'que', 'alguns', 'deles', 'têm', 'aplicações', 'no', 'mundo', 'real', ',', 'enquanto', 'outras', 'servem', 'mais', 'frequentemente', 'como', 'tarefas', 'secundárias', 'que', 'são', 'usadas', 'para', 'auxiliar', 'na', 'resolução', 'de', 'tarefas', 'maiores', '.', 'O', 'que', 'distingue', 'essas', 'tarefas', 'de', 'outras', 'tarefas', 'potenciais', 'e', 'reais', 'de', 'PLN', 'não', 'é', 'apenas', 'o', 'volume', 'de', 'pesquisa', 'dedicado', 'a', 'elas', ',', 'mas', 'o', 'fato', 'de', 'que', 'para', 'cada', 'uma', 'há', 'tipicamente', 'uma', 'definição', 'de', 'problema', 'bem', 'especificada', ',', 'uma', 'métrica', 'padrão', 'para', 'avaliar', 'a', 'tarefa', ',', 'corpora', 'padrão', 'em', 'que', 'a', 'tarefa', 'pode', 'ser', 'avaliada', 'e', 'as', 'competições', 'dedicadas', 'à', 'tarefa', 'específica', '.', 'Sumarização', 'automática', 'Produz', 'um', 'resumo', 'legível', 'de', 'uma', 'parte', 'do', 'texto', '.', 'Muitas', 'vezes', 'usado', 'para', 'fornecer', 'resumos', 'de', 'texto', 'de', 'um', 'tipo', 'conhecido', ',', 'como', 'artigos', 'na', 'seção', 'financeira', 'de', 'um', 'jornal.Resolução', 'de', 'correferência', 'Dada', 'uma', 'frase', 'ou', 'um', 'pedaço', 'maior', 'de', 'texto', ',', 'determina', 'quais', 'palavras', '(', '``', 'menções', \"''\", ')', 'se', 'referem', 'aos', 'mesmos', 'objetos', '(', '``', 'entidades', \"''\", ')', '.', 'A', 'resolução', 'da', 'anáfora', 'é', 'um', 'exemplo', 'específico', 'dessa', 'tarefa', 'e', 'está', 'especificamente', 'preocupada', 'em', 'combinar', 'os', 'pronomes', 'com', 'os', 'substantivos', 'ou', 'nomes', 'aos', 'quais', 'eles', 'se', 'referem', '.', 'A', 'tarefa', 'mais', 'geral', 'da', 'resolução', 'de', 'correferência', 'também', 'inclui', 'a', 'identificação', 'dos', 'chamados', '``', 'relacionamentos', 'de', 'ponte', \"''\", 'envolvendo', 'expressões', 'de', 'referência', '.', 'Por', 'exemplo', ',', 'numa', 'frase', 'como', '``', 'Ele', 'entrou', 'na', 'casa', 'de', 'João', 'pela', 'porta', 'da', 'frente', \"''\", ',', '``', 'a', 'porta', 'da', 'frente', \"''\", 'é', 'uma', 'expressão', 'de', 'referência', 'e', 'a', 'relação', 'da', 'ponte', 'a', 'ser', 'identificada', 'é', 'o', 'fato', 'de', 'que', 'a', 'porta', 'a', 'ser', 'referida', 'é', 'a', 'porta', 'da', 'frente', 'de', 'John', \"'s\", '(', 'ao', 'invés', 'de', 'alguma', 'outra', 'estrutura', 'que', 'também', 'pode', 'ser', 'referida', ')', '.Análise', 'do', 'Discurso', 'Esta', 'rubrica', 'inclui', 'uma', 'série', 'de', 'tarefas', 'relacionadas', '.', 'Uma', 'tarefa', 'é', 'identificar', 'a', 'estrutura', 'discursiva', 'do', 'texto', 'conectado', ',', 'isto', 'é', ',', 'a', 'natureza', 'das', 'relações', 'discursivas', 'entre', 'sentenças', '(', 'por', 'exemplo', ',', 'elaboração', ',', 'explicação', ',', 'contraste', ')', '.', 'Outra', 'possível', 'tarefa', 'é', 'reconhecer', 'e', 'classificar', 'os', 'atos', 'de', 'fala', 'em', 'um', 'pedaço', 'de', 'texto', '(', 'por', 'exemplo', ',', 'pergunta', 'sim-não', ',', 'pergunta', 'de', 'conteúdo', ',', 'frase', ',', 'afirmação', ',', 'etc', ')', '.Maquina', 'de', 'tradução', 'Traduzir', 'automaticamente', 'texto', 'de', 'uma', 'linguagem', 'humana', 'para', 'outra', '.', 'Este', 'é', 'uma', 'das', 'tarefas', 'mais', 'difíceis', 'e', 'faz', 'parte', 'de', 'um', 'tipo', 'de', 'problemas', 'conhecidos', 'como', '``', 'AI-complete', \"''\", ',', 'ou', 'seja', ',', 'exigindo', 'todos', 'os', 'diferentes', 'tipos', 'de', 'conhecimento', 'que', 'os', 'humanos', 'possuem', '(', 'gramática', ',', 'semântica', ',', 'fatos', 'sobre', 'o', 'mundo', 'real', ',', 'etc', ')', 'para', 'resolvê-lo', 'adequadamente.Segmentação', 'morfológica', 'Separa', 'palavras', 'em', 'morfemas', 'individuais', 'e', 'identifica', 'classes', 'de', 'morfemas', '.', 'A', 'dificuldade', 'desta', 'tarefa', 'depende', 'muito', 'da', 'complexidade', 'da', 'morfologia', '(', 'isto', 'é', ',', 'da', 'estrutura', 'das', 'palavras', ')', 'da', 'linguagem', 'que', 'está', 'sendo', 'considerada', '.', 'O', 'inglês', 'possui', 'uma', 'morfologia', 'bastante', 'simples', ',', 'especialmente', 'a', 'morfologia', 'flexional', ',', 'e', 'portanto', 'é', 'possível', 'ignorar', 'esta', 'tarefa', 'inteiramente', 'e', 'simplesmente', 'modelar', 'todas', 'as', 'formas', 'possíveis', 'de', 'uma', 'palavra', '(', 'por', 'exemplo', ',', '``', 'open', ',', 'opens', ',', 'opened', ',', 'opening', \"''\", ')', 'como', 'palavras', 'separadas', '.', 'Em', 'línguas', 'como', 'o', 'turco', 'ou', 'o', 'Meitei', ',', 'uma', 'língua', 'indiana', 'fortemente', 'aglutinada', ',', 'no', 'entanto', ',', 'tal', 'abordagem', 'não', 'é', 'possível', ',', 'uma', 'vez', 'que', 'cada', 'entrada', 'do', 'dicionário', 'tem', 'milhares', 'de', 'formas', 'de', 'palavras', 'possíveis.Reconhecimento', 'de', 'entidade', 'nomeada', '(', 'NER', ')', 'Dado', 'um', 'fluxo', 'de', 'texto', ',', 'determina', 'quais', 'são', 'itens', 'no', 'mapa', 'de', 'texto', 'para', 'nomes', 'próprios', ',', 'como', 'pessoas', 'ou', 'locais', 'e', 'qual', 'é', 'o', 'tipo', 'de', 'cada', 'nome', '(', 'por', 'exemplo', ',', 'pessoa', ',', 'local', ',', 'organização', ')', '.', 'Embora', 'a', 'capitalização', 'possa', 'ajudar', 'a', 'reconhecer', 'entidades', 'nomeadas', 'em', 'idiomas', 'como', 'o', 'inglês', ',', 'essas', 'informações', 'podem', 'não', 'ajudar', 'a', 'determinar', 'o', 'tipo', 'de', 'entidade', 'nomeada', 'e', ',', 'em', 'alguns', 'casos', ',', 'sãos', 'imprecisas', 'ou', 'insuficientes', '.', 'Por', 'exemplo', ',', 'a', 'primeira', 'palavra', 'de', 'uma', 'frase', 'também', 'é', 'capitalizada', 'e', 'as', 'entidades', 'nomeadas', 'muitas', 'vezes', 'abrangem', 'várias', 'palavras', ',', 'com', 'apenas', 'algumas', 'delas', 'são', 'capitalizadas', '.', 'Além', 'disso', ',', 'muitas', 'outras', 'linguagens', 'em', 'scripts', 'não-ocidentais', '(', 'por', 'exemplo', ',', 'chinês', 'ou', 'árabe', ')', 'não', 'têm', 'nenhuma', 'capitalização', 'e', 'mesmo', 'as', 'línguas', 'com', 'maiúsculas', 'podem', 'não', 'distinguir', 'nomes', '.', 'Por', 'exemplo', ',', 'o', 'alemão', 'capitaliza', 'todos', 'os', 'substantivos', ',', 'independentemente', 'de', 'se', 'referirem', 'a', 'nomes', ',', 'e', 'o', 'francês', 'e', 'o', 'espanhol', 'não', 'capitalizam', 'nomes', 'que', 'servem', 'como', 'adjetivos.Geração', 'de', 'língua', 'natural', 'Converte', 'informações', 'de', 'bancos', 'de', 'dados', 'de', 'computador', 'ou', 'intenções', 'semânticas', 'em', 'linguagem', 'humana', 'legível.Compreensão', 'da', 'língua', 'natural', 'Converte', 'pedaços', 'de', 'texto', 'em', 'representações', 'mais', 'formais', ',', 'como', 'estruturas', 'de', 'lógica', 'de', 'primeira', 'ordem', ',', 'que', 'são', 'mais', 'fáceis', 'de', 'manipular', 'pelos', 'programas', 'de', 'computador', '.', 'A', 'compreensão', 'da', 'língua', 'natural', 'envolve', 'a', 'identificação', 'da', 'semântica', 'pretendida', 'a', 'partir', 'da', 'múltipla', 'semântica', 'possível', 'que', 'pode', 'ser', 'derivada', 'de', 'uma', 'expressão', 'de', 'língua', 'natural', 'que', 'geralmente', 'toma', 'a', 'forma', 'de', 'notação', 'organizada', 'de', 'conceitos', 'de', 'linguagens', 'naturais', '.', 'Entretanto', ',', 'introdução', 'e', 'criação', 'de', 'linguagem', 'metamodelo', 'e', 'ontologia', 'são', 'eficientes', 'soluções', 'empíricas', '.', 'Uma', 'formalização', 'explícita', 'da', 'semântica', 'de', 'línguas', 'naturais', 'sem', 'confusões', 'com', 'suposições', 'implícitas', 'como', 'closed-world', 'assumption', '(', 'CWA', ')', 'versus', 'open-world', 'assumption', 'ou', 'subjetiva', 'Sim', '/', 'Não', 'versus', 'objetivo', 'Verdadeiro', '/', 'Falso', 'é', 'esperada', 'para', 'a', 'construção', 'de', 'uma', 'base', 'de', 'formalização', 'semântica.Reconhecimento', 'óptico', 'de', 'caracteres', '(', 'OCR', ')', 'Dada', 'uma', 'imagem', 'que', 'representa', 'o', 'texto', 'impresso', ',', 'determina', 'o', 'texto', 'correspondente.Marcação', 'de', 'classe', 'gramatical', 'Dada', 'uma', 'sentença', ',', 'determina', 'a', 'classe', 'gramatical', 'de', 'cada', 'palavra', '.', 'Muitas', 'palavras', ',', 'especialmente', 'as', 'comuns', ',', 'podem', 'servir', 'como', 'múltiplas', 'partes', 'do', 'discurso', '.', 'Em', 'inglês', ',', 'por', 'exemplo', ',', '``', 'book', \"''\", 'pode', 'ser', 'um', 'substantivo', '(', '``', 'the', 'book', 'on', 'the', 'table', \"''\", ')', 'ou', 'verbo', '(', '``', 'book', 'a', 'flight', \"''\", ')', ';', '``', 'Set', \"''\", 'pode', 'ser', 'um', 'substantivo', ',', 'verbo', 'ou', 'adjetivo', ';', 'E', '``', 'out', \"''\", 'pode', 'ser', 'qualquer', 'um', 'de', 'pelo', 'menos', 'cinco', 'diferentes', 'partes', 'da', 'fala', '.', 'Algumas', 'línguas', 'têm', 'mais', 'ambiguidade', 'do', 'que', 'outras', '.', 'As', 'línguas', 'com', 'pouca', 'morfologia', 'flexional', ',', 'como', 'o', 'inglês', ',', 'são', 'particularmente', 'propensas', 'a', 'tal', 'ambiguidade', '.', 'O', 'chinês', 'é', 'propenso', 'a', 'tal', 'ambiguidade', 'porque', 'é', 'uma', 'língua', 'tonal', 'durante', 'a', 'verbalização', '.', 'Tal', 'inflexão', 'não', 'é', 'facilmente', 'transmitida', 'através', 'das', 'entidades', 'empregadas', 'dentro', 'da', 'ortografia', 'para', 'transmitir', 'o', 'significado', 'pretendido.Análise', 'sintática', '(', 'Parsing', ')', 'Determina', 'a', 'árvore', 'de', 'análise', '(', 'análise', 'gramatical', ')', 'de', 'uma', 'frase', '.', 'A', 'gramática', 'para', 'as', 'linguagens', 'naturais', 'é', 'ambígua', 'e', 'frases', 'típicas', 'têm', 'múltiplas', 'análises', 'possíveis', '.', 'Na', 'verdade', ',', 'surpreendentemente', ',', 'para', 'uma', 'frase', 'típica', 'pode', 'haver', 'milhares', 'de', 'análises', 'em', 'potencial', '(', 'a', 'maioria', 'dos', 'quais', 'parecerá', 'completamente', 'absurda', 'para', 'um', 'ser', 'humano', ')', '.Respostas', 'a', 'perguntas', 'Dada', 'uma', 'questão', 'de', 'linguagem', 'humana', ',', 'determina', 'sua', 'resposta', '.', 'As', 'perguntas', 'típicas', 'têm', 'uma', 'resposta', 'correta', 'específica', '(', 'como', '``', 'Qual', 'é', 'o', 'capital', 'do', 'Canadá', '?', '``', ')', ',', 'mas', 'às', 'vezes', 'perguntas', 'abertas', 'também', 'são', 'consideradas', '(', 'como', '``', 'Qual', 'é', 'o', 'significado', 'da', 'vida', '?', \"''\", ')', '.', 'Trabalhos', 'recentes', 'têm', 'analisado', 'questões', 'ainda', 'mais', 'complexas.Extração', 'de', 'relacionamento', 'Identifica', 'as', 'relações', 'entre', 'entidades', 'nomeadas', '(', 'por', 'exemplo', ',', 'quem', 'é', 'casado', 'com', 'quem', ')', 'com', 'base', 'em', 'textos.Quebra', 'de', 'frases', '(', 'sentence', 'boundary', 'disambiguation', ')', 'Encontra', 'os', 'limites', 'da', 'frase', 'em', 'um', 'pedaço', 'de', 'texto', '.', 'Os', 'limites', 'de', 'frases', 'são', 'normalmente', 'marcadas', 'por', 'pontos', 'ou', 'outros', 'sinais', 'de', 'pontuação', ',', 'mas', 'esses', 'mesmos', 'caracteres', 'podem', 'servir', 'outros', 'propósitos.Análise', 'de', 'subjetividade', '(', 'sentiment', 'analysis', 'ou', 'opinion', 'mining', ')', 'Extrai', 'informações', 'subjetivas', 'geralmente', 'de', 'um', 'conjunto', 'de', 'documentos', ',', 'muitas', 'vezes', 'usando', 'revisões', 'online', 'para', 'determinar', 'a', '``', 'polaridade', \"''\", 'sobre', 'objetos', 'específicos', '.', 'É', 'especialmente', 'útil', 'para', 'identificar', 'tendências', 'da', 'opinião', 'pública', 'nas', 'mídias', 'sociais', ',', 'para', 'fins', 'de', 'marketing.Reconhecimento', 'de', 'fala', 'Dado', 'um', 'clipe', 'de', 'som', 'de', 'uma', 'pessoa', 'ou', 'pessoas', 'falando', ',', 'determina', 'a', 'representação', 'textual', 'do', 'discurso', '.', 'É', 'o', 'oposto', 'da', 'síntese', 'de', 'fala', 'e', 'é', 'uma', 'das', 'áreas', 'mais', 'difíceis', ',', 'conhecida', 'como', '``', 'AI-complete', \"''\", '.', 'Na', 'fala', 'natural', 'quase', 'não', 'há', 'pausas', 'entre', 'palavras', 'sucessivas', ',', 'por', 'isso', 'a', 'segmentação', 'de', 'fala', 'é', 'uma', 'subtarefa', 'necessária', 'de', 'reconhecimento', 'de', 'fala', '.', 'Nota-se', 'também', 'que', ',', 'na', 'maioria', 'das', 'linguagens', 'faladas', ',', 'os', 'sons', 'que', 'representam', 'letras', 'sucessivas', 'se', 'misturam', 'entre', 'si', 'em', 'um', 'processo', 'denominado', 'coarticulação', ',', 'de', 'modo', 'que', 'a', 'conversão', 'do', 'sinal', 'analógico', 'em', 'caracteres', 'discretos', 'pode', 'ser', 'um', 'processo', 'muito', 'difícil', 'de', 'ser', 'realizado.Segmentação', 'de', 'fala', 'Dado', 'um', 'clipe', 'de', 'som', 'de', 'uma', 'pessoa', 'ou', 'pessoas', 'falando', ',', 'separa-o', 'em', 'palavras', '.', 'Uma', 'subaplicação', 'de', 'reconhecimento', 'de', 'fala', 'e', 'normalmente', 'agrupada', 'com', 'ele.Análise', 'morfológica', 'e', 'reconhecimento', 'de', 'tópicos', 'Dado', 'um', 'pedaço', 'de', 'texto', ',', 'separa-o', 'em', 'segmentos', 'cada', 'um', 'dos', 'quais', 'é', 'dedicado', 'a', 'um', 'tópico', 'e', 'identifica', 'o', 'tópico', 'do', 'segmento.Análise', 'morfológica', 'e', 'segmentação', 'de', 'palavras', 'Separa', 'um', 'pedaço', 'de', 'texto', 'contínuo', 'em', 'palavras', 'separadas', '.', 'Para', 'uma', 'língua', 'como', 'o', 'inglês', ',', 'isso', 'é', 'bastante', 'trivial', ',', 'uma', 'vez', 'que', 'as', 'palavras', 'são', 'normalmente', 'separadas', 'por', 'espaços', '.', 'No', 'entanto', ',', 'algumas', 'línguas', 'escritas', 'como', 'chinês', ',', 'japonês', 'e', 'tailandês', 'não', 'marcam', 'limites', 'de', 'palavras', 'de', 'tal', 'forma', ',', 'e', 'nessas', 'línguas', 'segmentação', 'de', 'texto', 'é', 'uma', 'tarefa', 'significativa', 'que', 'requer', 'conhecimento', 'do', 'vocabulário', 'e', 'morfologia', 'das', 'palavras', 'na', 'língua.Desambiguação', 'Muitas', 'palavras', 'têm', 'mais', 'de', 'um', 'significado', ',', 'assim', 'temos', 'que', 'selecionar', 'o', 'significado', 'que', 'faz', 'mais', 'sentido', 'no', 'contexto', '.', 'Para', 'este', 'problema', ',', 'em', 'geral', 'é', 'dada', 'uma', 'lista', 'de', 'palavras', 'e', 'sentidos', 'de', 'palavras', 'associadas', 'de', 'um', 'dicionário', 'ou', 'recurso', 'online', ',', 'como', 'o', 'WordNet', '.', 'Em', 'alguns', 'casos', ',', 'conjuntos', 'de', 'tarefas', 'relacionadas', 'são', 'agrupados', 'em', 'subcampos', 'de', 'PLN', 'que', 'são', 'frequentemente', 'considerados', 'separadamente', 'da', 'PLN', 'como', 'um', 'todo', ',', 'como', 'os', 'exemplos', 'à', 'seguir', ':', 'Recuperação', 'de', 'informação', '(', 'IR', ')', 'Trata-se', 'de', 'armazenar', ',', 'pesquisar', 'e', 'recuperar', 'informações', '.', 'É', 'um', 'campo', 'separado', 'dentro', 'da', 'ciência', 'da', 'computação', '(', 'mais', 'perto', 'de', 'bancos', 'de', 'dados', ')', ',', 'mas', 'a', 'IR', 'se', 'baseia', 'em', 'alguns', 'métodos', 'PLN', '(', 'por', 'exemplo', ',', 'stemming', ')', '.', 'Algumas', 'pesquisas', 'e', 'aplicações', 'atuais', 'procuram', 'preencher', 'a', 'lacuna', 'entre', 'IR', 'e', 'PLN.Extração', 'de', 'informação', '(', 'IE', ')', 'Trata-se', ',', 'em', 'geral', ',', 'da', 'extração', 'de', 'informação', 'semântica', 'a', 'partir', 'do', 'texto', '.', 'Abrange', 'tarefas', 'como', 'reconhecimento', 'de', 'entidade', 'mencionada', ',', 'resolução', 'de', 'correferência', 'e', 'de', 'relacionamento', 'de', 'extração', ',', 'etc', '.', 'Processamento', 'de', 'voz', 'Abrange', 'reconhecimento', 'de', 'fala', ',', 'síntese', 'de', 'fala', 'e', 'tarefas', 'relacionadas', '.', 'Outras', 'tarefas', 'incluem', ':', 'Identificação', 'na', 'língua', 'materna', 'Stemização', 'Simplificação', 'do', 'texto', 'Síntese', 'de', 'fala', 'Revisão', 'de', 'texto', 'Pesquisa', 'em', 'língua', 'natural', 'Expansão', 'da', 'consulta', 'Pontuação', 'de', 'ensaio', 'automatizado', 'Truecasing', '==', 'Estatística', '==', 'Artigo', 'principal', ':', 'Gramática', 'estocástica', 'O', 'processamento', 'estatístico', 'em', 'língua', 'natural', 'utiliza', 'métodos', 'estocásticos', ',', 'probabilísticos', 'e', 'estatísticos', 'para', 'resolver', 'algumas', 'das', 'dificuldades', 'discutidas', 'acima', ',', 'especialmente', 'aquelas', 'que', 'surgem', 'porque', 'frases', 'mais', 'longas', 'são', 'muito', 'ambíguas', 'quando', 'processadas', 'com', 'gramáticas', 'realistas', ',', 'produzindo', 'milhares', 'ou', 'milhões', 'de', 'análises', 'possíveis', '.', 'Métodos', 'de', 'desambiguação', 'envolvem', 'muitas', 'vezes', 'o', 'uso', 'de', 'corpora', 'e', 'modelos', 'de', 'Markov', '.', 'O', 'projeto', 'ESPRIT', 'P26', '(', '1984-1988', ')', ',', 'liderado', 'pelo', 'CSELT', ',', 'explorou', 'o', 'problema', 'do', 'reconhecimento', 'de', 'fala', 'comparando', 'abordagem', 'baseada', 'em', 'conhecimento', 'e', 'estatística', ':', 'o', 'resultado', 'escolhido', 'foi', 'um', 'modelo', 'completamente', 'estatístico', '.', 'Um', 'dos', 'primeiros', 'modelos', 'de', 'compreensão', 'estatística', 'da', 'língua', 'natural', 'foi', 'introduzido', 'em', '1991', 'por', 'Roberto', 'Pieraccini', ',', 'Esther', 'Levin', 'e', 'Chin-Hui', 'Lee', ',', 'da', 'Bell', 'Laboratories', ']', '.', 'O', 'PLN', 'compreende', 'todas', 'as', 'abordagens', 'quantitativas', 'para', 'processamento', 'automatizado', 'de', 'linguagem', ',', 'incluindo', 'modelagem', 'probabilística', ',', 'teoria', 'da', 'informação', 'e', 'álgebra', 'linear', '.', 'A', 'tecnologia', 'para', 'o', 'PLN', 'estatístico', 'vem', 'principalmente', 'da', 'aprendizagem', 'automática', 'e', 'da', 'mineração', 'de', 'dados', ',', 'que', 'são', 'campos', 'de', 'inteligência', 'artificial', 'que', 'envolvem', 'o', 'aprendizado', 'a', 'partir', 'de', 'dados', '.', '==', 'Avaliação', '==', 'O', 'objetivo', 'da', 'avaliação', 'do', 'PLN', 'é', 'uma', 'medida', 'de', 'uma', 'ou', 'mais', 'qualidades', 'de', 'um', 'algoritmo', 'ou', 'de', 'um', 'sistema', 'a', 'fim', 'de', 'determinar', 'se', 'o', 'algoritmo', 'atende', 'às', 'metas', 'dos', 'projetistas', 'ou', 'o', 'sistema', 'de', 'atendimento', 'às', 'necessidades', 'de', 'seus', 'usuários', '.', 'Investigação', 'na', 'avaliação', 'PLN', 'tem', 'ganhado', 'atenção', ',', 'porque', 'a', 'definição', 'de', 'critérios', 'de', 'avaliação', 'é', 'uma', 'forma', 'de', 'especificar', 'precisamente', 'problemas', 'do', 'PLN', '.', 'Uma', 'métrica', 'de', 'avaliação', 'de', 'PLN', 'em', 'um', 'sistema', 'algorítmico', 'permite', 'a', 'integração', 'da', 'compreensão', 'de', 'linguagem', 'e', 'geração', 'de', 'linguagem', '.', 'Um', 'conjunto', 'preciso', 'de', 'critérios', 'de', 'avaliação', ',', 'que', 'pode', 'ser', 'aplicado', 'principalmente', 'a', 'avaliações', 'métricas', ',', 'podendo', 'permitir', 'que', 'várias', 'equipes', 'comparem', 'suas', 'soluções', 'para', 'um', 'determinado', 'problema', 'do', 'PLN', '.', '==', 'Cronologia', 'da', 'avaliação', '==', 'Em', '1983', ',', 'iniciou-se', 'o', 'Projecto', 'Esprit', 'P26', ',', 'que', 'avaliou', 'as', 'Tecnologias', 'da', 'Fala', '(', 'incluindo', 'tópicos', 'gerais', 'como', 'Sintaxe', 'e', 'Semântica', ')', 'comparando', 'as', 'abordagens', 'baseadas', 'em', 'regras', 'com', 'as', 'estatísticas', '.', 'Em', '1987', ',', 'a', 'primeira', 'campanha', 'de', 'avaliação', 'de', 'textos', 'escritos', 'parece', 'ser', 'uma', 'campanha', 'dedicada', 'à', 'compreensão', 'da', 'mensagem', '(', 'Pallet', ',', '1998', ')', '.', 'O', 'projeto', 'Parseval', '/', 'GEIG', 'comparou', 'gramáticas', 'de', 'frase-estrutura', '(', 'Black', '1991', ')', '.', 'Houve', 'uma', 'série', 'de', 'campanhas', 'no', 'projeto', 'Tipster', 'sobre', 'tarefas', 'como', 'resumo', ',', 'tradução', 'e', 'pesquisa', '(', 'Hirschman', '1998', ')', '.', 'Em', '1994', ',', 'na', 'Alemanha', ',', 'o', 'Morpholympics', 'comparou', 'marcadores', 'morfológicos', 'alemães', '.', 'As', 'campanhas', 'de', 'Senseval', '&', 'Romanseval', 'foram', 'realizadas', 'com', 'os', 'objetivos', 'de', 'desambiguação', 'semântica', '.', 'Em', '1996', ',', 'a', 'campanha', 'Sparkle', 'comparou', 'os', 'analisadores', 'sintáticos', 'em', 'quatro', 'idiomas', 'diferentes', '(', 'inglês', ',', 'francês', ',', 'alemão', 'e', 'italiano', ')', '.', 'Na', 'França', ',', 'o', 'projeto', 'Grace', 'comparou', 'um', 'conjunto', 'de', '21', 'marcadores', 'para', 'o', 'francês', 'em', '1997', '(', 'Adda', '1999', ')', '.', 'Em', '2004', ',', 'durante', 'o', 'projeto', 'Technolangue', '/', 'Easy', ',', 'foram', 'comparados', '13', 'analisadores', 'para', 'o', 'francês', '.', 'A', 'avaliação', 'em', 'larga', 'escala', 'dos', 'analisadores', 'de', 'dependência', 'foi', 'realizada', 'no', 'contexto', 'das', 'tarefas', 'compartilhadas', 'do', 'CoNLL', 'em', '2006', 'e', '2007', '.', 'Na', 'França', ',', 'no', 'âmbito', 'do', 'projecto', 'ANR-Passage', '(', 'final', 'de', '2007', ')', ',', 'foram', 'comparados', '10', 'analisadores', 'para', 'o', 'francês', '.', 'Em', 'Itália', ',', 'a', 'campanha', 'EVALITA', 'foi', 'realizada', 'em', '2007', ',', '2009', ',', '2011', 'e', '2014', 'para', 'comparar', 'várias', 'ferramentas', 'de', 'PLN', 'e', 'de', 'voz', 'para', 'o', 'site', 'italiano', '-', 'EVALITA', '.', '==', 'Diferentes', 'tipos', 'de', 'avaliação', '==', 'Avaliação', 'intrínseca', 'vs.', 'extrínseca', 'A', 'avaliação', 'intrínseca', 'considera', 'um', 'sistema', 'PNL', 'isolado', 'e', 'caracteriza', 'seu', 'desempenho', 'em', 'relação', 'a', 'um', 'resultado', 'padrão-excelência', ',', 'conforme', 'definido', 'pelos', 'avaliadores', '.', 'A', 'avaliação', 'extrínseca', ',', 'também', 'chamada', 'de', 'avaliação', 'em', 'uso', ',', 'considera', 'o', 'sistema', 'PLN', 'em', 'um', 'cenário', 'mais', 'complexo', 'como', 'um', 'sistema', 'embutido', 'ou', 'uma', 'função', 'precisa', 'para', 'um', 'usuário', 'humano', '.', 'O', 'desempenho', 'extrínseco', 'do', 'sistema', 'é', 'então', 'caracterizado', 'em', 'termos', 'de', 'utilidade', 'em', 'relação', 'à', 'tarefa', 'global', 'do', 'sistema', 'estranho', 'ou', 'do', 'utilizador', 'humano', '.', 'Por', 'exemplo', ',', 'considere', 'um', 'analisador', 'sintático', 'que', 'é', 'baseado', 'na', 'saída', 'de', 'alguma', 'parte', 'do', 'tagger', 'de', 'fala', '(', 'POS', ')', '.', 'Uma', 'avaliação', 'intrínseca', 'executaria', 'o', 'marcador', 'POS', 'em', 'dados', 'estruturados', 'e', 'compararia', 'a', 'saída', 'do', 'sistema', 'do', 'marcador', 'POS', 'com', 'a', 'saída', 'padrão', 'ouro', '.', 'Uma', 'avaliação', 'extrínseca', 'executaria', 'o', 'analisador', 'com', 'algum', 'outro', 'marcador', 'POS', 'e', ',', 'em', 'seguida', ',', 'com', 'o', 'marcador', 'POS', 'novo', 'e', 'compara', 'a', 'precisão', 'de', 'análise', '.', 'Caixa', 'preta', 'vs.', 'Avaliação', 'da', 'caixa', 'de', 'vidro', 'A', 'avaliação', 'em', 'caixa', 'preta', 'requer', 'que', 'alguém', 'execute', 'um', 'sistema', 'PLN', 'em', 'um', 'conjunto', 'de', 'dados', 'de', 'amostra', 'e', 'para', 'medir', 'uma', 'série', 'de', 'parâmetros', 'relacionados', 'com', 'a', 'qualidade', 'do', 'processo', ',', 'como', 'velocidade', ',', 'confiabilidade', ',', 'consumo', 'de', 'recursos', 'e', ',', 'principalmente', ',', 'a', 'qualidade', 'do', 'resultado', ',', 'como', 'a', 'precisão', 'da', 'anotação', 'de', 'dados', 'ou', 'a', 'fidelidade', 'de', 'uma', 'tradução', '.', 'A', 'avaliação', 'da', 'caixa', 'de', 'vidro', 'examina', 'a', 'concepção', 'do', 'sistema', ';', 'Os', 'algoritmos', 'que', 'são', 'implementados', ',', 'os', 'recursos', 'linguísticos', 'que', 'utiliza', ',', 'como', 'o', 'tamanho', 'do', 'vocabulário', 'ou', 'a', 'expressão', 'definida', 'de', 'cardinalidade', '.', 'Dada', 'a', 'complexidade', 'dos', 'problemas', 'da', 'PLN', ',', 'muitas', 'vezes', 'é', 'difícil', 'prever', 'o', 'desempenho', 'apenas', 'com', 'base', 'na', 'avaliação', 'da', 'caixa', 'de', 'vidro', ';', 'Mas', 'este', 'tipo', 'de', 'avaliação', 'é', 'mais', 'informativo', 'no', 'que', 'diz', 'respeito', 'à', 'análise', 'de', 'erros', 'ou', 'desenvolvimentos', 'futuros', 'de', 'um', 'sistema', '.', 'Automática', 'vs.', 'avaliação', 'manual', 'Em', 'muitos', 'casos', ',', 'procedimentos', 'automáticos', 'podem', 'ser', 'definidos', 'para', 'avaliar', 'um', 'sistema', 'de', 'PLN', ',', 'comparando', 'sua', 'saída', 'com', 'o', 'padrão', 'de', 'excelência', '.', 'Embora', 'o', 'custo', 'de', 'reproduzir', 'o', 'padrão', 'de', 'excelência', 'possa', 'ser', 'bastante', 'elevado', ',', 'avaliação', 'automática', 'de', 'bootstrapping', 'sobre', 'os', 'mesmos', 'dados', 'de', 'entrada', 'pode', 'ser', 'repetida', 'quantas', 'vezes', 'for', 'necessário', 'sem', 'custos', 'adicionais', 'desordenados', '.', 'No', 'entanto', ',', 'para', 'muitos', 'problemas', 'de', 'PLN', 'a', 'definição', 'precisa', 'de', 'um', 'padrão', 'de', 'excelência', 'é', 'uma', 'tarefa', 'complexa', 'e', 'pode', 'se', 'revelar', 'impossível', 'quando', 'o', 'acordo', 'inter-anotador', 'é', 'insuficiente', '.', 'A', 'avaliação', 'manual', 'é', 'melhor', 'realizada', 'por', 'juízes', 'humanos', 'instruídos', 'para', 'estimar', 'a', 'qualidade', 'de', 'um', 'sistema', ',', 'ou', 'mais', 'frequentemente', 'de', 'uma', 'amostra', 'de', 'sua', 'produção', ',', 'com', 'base', 'em', 'uma', 'série', 'de', 'critérios', '.', 'Embora', ',', 'graças', 'à', 'sua', 'competência', 'linguística', ',', 'os', 'juízes', 'humanos', 'possam', 'ser', 'considerados', 'como', 'a', 'referência', 'para', 'uma', 'série', 'de', 'tarefas', 'de', 'processamento', 'de', 'linguagem', ',', 'há', 'também', 'uma', 'variação', 'considerável', 'em', 'suas', 'classificações', '.', 'É', 'por', 'isso', 'que', 'a', 'avaliação', 'automática', 'é', ',', 'por', 'vezes', ',', 'referida', 'como', 'avaliação', 'objetiva', 'enquanto', 'a', 'avaliação', 'humana', 'é', 'perspectiva', '.', '==', 'Padronização', '==', 'Um', 'subcomitê', 'ISO', 'está', 'trabalhando', 'para', 'facilitar', 'a', 'interoperabilidade', 'entre', 'recursos', 'lexicais', 'e', 'programas', 'PLN', '.', 'O', 'subcomitê', 'faz', 'parte', 'do', 'ISO', '/', 'TC37', 'e', 'é', 'chamado', 'ISO', '/', 'TC37', '/', 'SC4', '.', 'Alguns', 'padrões', 'ISO', 'já', 'estão', 'publicados', ',', 'mas', 'a', 'maioria', 'deles', 'está', 'em', 'construção', ',', 'principalmente', 'na', 'representação', 'de', 'léxico', '(', 'ver', 'LMF', ')', ',', 'anotação', 'e', 'registro', 'de', 'categoria', 'de', 'dados', '.', '==', 'Ferramentas', '==', 'Expert', 'System', 'S.p.A.', 'General', 'Architecture', 'for', 'Text', 'Engineering', 'Modular', 'Audio', 'Recognition', 'Framework', 'Natural', 'Language', 'Toolkit', '(', 'NLTK', ')', ':', 'uma', 'biblioteca', 'em', 'Python', 'OpenNLP', '==', 'Veja', 'também', '==', 'Mineração', 'de', 'texto', 'biomédica', 'Processo', 'de', 'processamento', 'composto', 'Revisão', 'assistida', 'por', 'computador', 'Linguagem', 'natural', 'controlada', 'Processamento', 'linguístico', 'profundo', 'Auxílio', 'à', 'leitura', 'de', 'línguas', 'estrangeiras', 'Auxílio', 'à', 'escrita', 'em', 'língua', 'estrangeira', 'Tecnologia', 'da', 'linguagem', 'A', 'alocação', 'de', 'Dirichlet', 'Latente', '(', 'LDA', ')', 'Indexação', 'semântica', 'latente', 'Lista', 'de', 'ferramentas', 'de', 'processamento', 'de', 'língua', 'natural', 'Mapa', 'de', 'LRE', 'Programação', 'em', 'língua', 'natural', 'Reificação', '(', 'linguística', ')', 'Dobradura', 'semântica', 'Sistema', 'de', 'diálogo', 'falado', 'Vetor', 'do', 'Pensamento', 'Pesquisa', 'Transderivacional', 'Word2vec', '==', 'Referências', '==', '==', 'Leitura', 'adicional', '==', 'Steven', 'Bird', ',', 'Ewan', 'Klein', ',', 'and', 'Edward', 'Loper', '(', '2009', ')', '.', 'Natural', 'Language', 'Processing', 'with', 'Python', '.', \"O'Reilly\", 'Media', '.', 'ISBN', '978-0-596-51649-9', '.', 'Daniel', 'Jurafsky', 'and', 'James', 'H.', 'Martin', '(', '2008', ')', '.', 'Speech', 'and', 'Language', 'Processing', ',', '2nd', 'edition', '.', 'Pearson', 'Prentice', 'Hall', '.', 'ISBN', '978-0-13-187321-6', '.', 'Christopher', 'D.', 'Manning', ',', 'Prabhakar', 'Raghavan', ',', 'and', 'Hinrich', 'Schütze', '(', '2008', ')', '.', 'Introduction', 'to', 'Information', 'Retrieval', '.', 'Cambridge', 'University', 'Press', '.', 'ISBN', '978-0-521-86571-5', '.', 'Official', 'html', 'and', 'pdf', 'versions', 'available', 'without', 'charge', '.', 'Christopher', 'D.', 'Manning', 'and', 'Hinrich', 'Schütze', '(', '1999', ')', '.', 'Foundations', 'of', 'Statistical', 'Natural', 'Language', 'Processing', '.', 'The', 'MIT', 'Press', '.', 'ISBN', '978-0-262-13360-9', '.', 'David', 'M.', 'W.', 'Powers', 'and', 'Christopher', 'C.', 'R.', 'Turk', '(', '1989', ')', '.', 'Machine', 'Learning', 'of', 'Natural', 'Language', '.', 'Springer-Verlag', '.', 'ISBN', '978-0-387-19557-5', '.']\n"
          ],
          "name": "stdout"
        }
      ]
    },
    {
      "cell_type": "code",
      "metadata": {
        "id": "ko5hVUu8E2WE"
      },
      "source": [
        "def plot_frequencia_tokens(tokens):\n",
        "    fd_words = FreqDist(tokens)\n",
        "    fd_words.plot(20)"
      ],
      "execution_count": 114,
      "outputs": []
    },
    {
      "cell_type": "markdown",
      "metadata": {
        "id": "ArjkfjHhE2WG"
      },
      "source": [
        "### Plot das tokenizações\n",
        "\n",
        "Plote o resultado de cada uma das tokenizações. \n",
        "Utilize o método <b> plot_frequencia_tokens() </b> para plotar o gráfico.\n",
        "Também imprima o tamanho de cada tokenização"
      ]
    },
    {
      "cell_type": "code",
      "metadata": {
        "id": "hVQAm8qEE2WG",
        "outputId": "f59e2785-f2d8-4535-9811-eff68b3ffa7f",
        "colab": {
          "base_uri": "https://localhost:8080/",
          "height": 333
        }
      },
      "source": [
        "print(\"Tokens Split\")\n",
        "plot_frequencia_tokens(tokens_split)"
      ],
      "execution_count": 115,
      "outputs": [
        {
          "output_type": "stream",
          "text": [
            "Tokens Split\n"
          ],
          "name": "stdout"
        },
        {
          "output_type": "display_data",
          "data": {
            "image/png": "[encoded data removed]",
            "text/plain": [
              "<Figure size 432x288 with 1 Axes>"
            ]
          },
          "metadata": {
            "tags": [],
            "needs_background": "light"
          }
        }
      ]
    },
    {
      "cell_type": "code",
      "metadata": {
        "id": "Eni4lQFkE2WI",
        "outputId": "b21e55b2-c665-4198-ed35-96c8339054a4",
        "colab": {
          "base_uri": "https://localhost:8080/",
          "height": 308
        }
      },
      "source": [
        "print(\"Tokens Regex\")\n",
        "plot_frequencia_tokens(tokens_regex)"
      ],
      "execution_count": 116,
      "outputs": [
        {
          "output_type": "stream",
          "text": [
            "Tokens Regex\n"
          ],
          "name": "stdout"
        },
        {
          "output_type": "display_data",
          "data": {
            "image/png": "[encoded data removed]",
            "text/plain": [
              "<Figure size 432x288 with 1 Axes>"
            ]
          },
          "metadata": {
            "tags": [],
            "needs_background": "light"
          }
        }
      ]
    },
    {
      "cell_type": "code",
      "metadata": {
        "id": "B4xA7gAcE2WL",
        "outputId": "9f7cc559-be81-443f-c857-412084b7a306",
        "colab": {
          "base_uri": "https://localhost:8080/",
          "height": 312
        }
      },
      "source": [
        "print(\"Tokens NLTK\")\n",
        "plot_frequencia_tokens(tokens_nltk)"
      ],
      "execution_count": 117,
      "outputs": [
        {
          "output_type": "stream",
          "text": [
            "Tokens NLTK\n"
          ],
          "name": "stdout"
        },
        {
          "output_type": "display_data",
          "data": {
            "image/png": "[encoded data removed]",
            "text/plain": [
              "<Figure size 432x288 with 1 Axes>"
            ]
          },
          "metadata": {
            "tags": [],
            "needs_background": "light"
          }
        }
      ]
    },
    {
      "cell_type": "markdown",
      "metadata": {
        "id": "6DfR9nAtE2WN"
      },
      "source": [
        "Como foi possível observar, existem variações nas tokenizações realizadas. \n",
        "A que gerou mais tokens foi a que utilizou regex.\n",
        "Por isso iremos utilizá-la a partir deste ponto.\n",
        "Utilize o resultado de <b> tokens_regex</b>."
      ]
    },
    {
      "cell_type": "markdown",
      "metadata": {
        "id": "1bnBwV52E2WN"
      },
      "source": [
        "## Capitalização\n",
        "\n",
        "traforme todos os tokens para minúsculo utilizando a função abaixo:\n",
        "\n",
        "```python\n",
        "str.lower()\n",
        "```"
      ]
    },
    {
      "cell_type": "code",
      "metadata": {
        "id": "UaO8ilaQE2WO"
      },
      "source": [
        "tokens = [t.lower() for t in tokens_regex]"
      ],
      "execution_count": 119,
      "outputs": []
    },
    {
      "cell_type": "code",
      "metadata": {
        "id": "W930jSKRpbUR",
        "outputId": "c6205fc9-615c-466d-ee73-ac6ffbedc16f",
        "colab": {
          "base_uri": "https://localhost:8080/",
          "height": 53
        }
      },
      "source": [
        "print(tokens)"
      ],
      "execution_count": 121,
      "outputs": [
        {
          "output_type": "stream",
          "text": [
            "['processamento', 'de', 'língua', 'natural', '(', 'pln', ')', 'é', 'uma', 'subárea', 'da', 'ciência', 'da', 'computação', ',', 'inteligência', 'artificial', 'e', 'da', 'linguística', 'que', 'estuda', 'os', 'problemas', 'da', 'geração', 'e', 'compreensão', 'automática', 'de', 'línguas', 'humanas', 'naturais', '.', 'sistemas', 'de', 'geração', 'de', 'língua', 'natural', 'convertem', 'informação', 'de', 'bancos', 'de', 'dados', 'de', 'computadores', 'em', 'linguagem', 'compreensível', 'ao', 'ser', 'humano', 'e', 'sistemas', 'de', 'compreensão', 'de', 'língua', 'natural', 'convertem', 'ocorrências', 'de', 'linguagem', 'humana', 'em', 'representações', 'mais', 'formais', ',', 'mais', 'facilmente', 'manipuláveis', 'por', 'programas', 'de', 'computador', '.', 'alguns', 'desafios', 'do', 'pln', 'são', 'compreensão', 'de', 'língua', 'natural', ',', 'fazer', 'com', 'que', 'computadores', 'extraiam', 'sentido', 'de', 'linguagem', 'humana', 'ou', 'natural', 'e', 'geração', 'de', 'língua', 'natural', '.', '=', '=', 'história', '=', '=', 'a', 'história', 'do', 'pln', 'começou', 'na', 'década', 'de', '1950', ',', 'quando', 'alan', 'turing', 'publicou', 'o', 'artigo', '\"', 'computing', 'machinery', 'and', 'intelligence', '\"', ',', 'que', 'propunha', 'o', 'que', 'agora', 'é', 'chamado', 'de', 'teste', 'de', 'turing', 'como', 'critério', 'de', 'inteligência', '.', 'em', '1954', ',', 'a', 'experiência', 'de', 'georgetown', 'envolveu', 'a', 'tradução', 'automática', 'de', 'mais', 'de', 'sessenta', 'frases', 'russas', 'para', 'o', 'inglês', '.', 'os', 'autores', 'afirmaram', 'que', 'dentro', 'de', 'três', 'ou', 'cinco', 'anos', 'a', 'tradução', 'automática', 'seria', 'um', 'problema', 'resolvido', '.', 'no', 'entanto', ',', 'os', 'avanços', 'reais', 'foram', 'muito', 'mais', 'lentos', 'do', 'que', 'o', 'previsto', 'e', ',', 'após', 'o', 'relatório', 'alpac', 'em', '1966', ',', 'que', 'constatou', 'que', 'a', 'pesquisa', 'de', 'dez', 'anos', 'não', 'conseguiu', 'satisfazer', 'as', 'expectativas', ',', 'o', 'financiamento', 'para', 'este', 'estudo', 'em', 'tradução', 'automática', 'foi', 'reduzido', 'drasticamente', '.', 'poucas', 'pesquisas', 'em', 'tradução', 'automática', 'foram', 'conduzidas', 'até', 'o', 'final', 'dos', 'anos', '80', ',', 'quando', 'os', 'primeiros', 'sistemas', 'estatísticos', 'de', 'tradução', 'foram', 'desenvolvidos', '.', 'alguns', 'sistemas', 'de', 'pln', 'bem', 'sucedidos', 'desenvolvidos', 'nos', 'anos', '60', 'foram', 'shrdlu', ',', 'um', 'sistema', 'de', 'língua', 'natural', 'que', 'trabalhava', 'em', '\"', 'blocks', 'worlds', '\"', 'com', 'vocabulário', 'restrito', 'e', 'eliza', ',', 'uma', 'simulação', 'de', 'um', 'psicoterapeuta', 'escrita', 'por', 'joseph', 'weizenbaum', 'entre', '1964', 'e', '1966', '.', 'usando', 'pouca', 'informação', 'sobre', 'o', 'pensamento', 'ou', 'a', 'emoção', 'humana', ',', 'eliza', 'criava', ',', 'em', 'alguns', 'casos', ',', 'interações', 'surpreendentemente', 'humanas', '.', 'quando', 'o', '\"', 'paciente', '\"', 'excedia', 'a', 'base', 'de', 'conhecimento', 'do', 'programa', ',', 'eliza', 'fornecia', 'uma', 'resposta', 'genérica', ',', 'por', 'exemplo', ',', 'respondendo', 'a', '\"', 'minha', 'cabeça', 'dói', '\"', 'com', '\"', 'por', 'que', 'você', 'diz', 'que', 'sua', 'cabeça', 'dói', '?', '\"', '.', 'durante', 'a', 'década', 'de', '1970', ',', 'muitos', 'programadores', 'começaram', 'a', 'escrever', '\"', 'ontologias', 'conceituais', '\"', ',', 'que', 'estruturaram', 'a', 'informação', 'do', 'mundo', 'real', 'em', 'dados', 'compreensíveis', 'por', 'computadores', '.', 'exemplos', 'são', 'margie', '(', 'schank', ',', '1975', ')', ',', 'sam', '(', 'cullingford', ',', '1978', ')', ',', 'pam', '(', 'wilensky', ',', '1978', ')', ',', 'talespin', '(', 'meehan', ',', '1976', ')', ',', 'qualm', '(', 'lehnert', ',', '1977', ')', ',', 'politics', '(', 'carbonell', ',', '1979', ')', 'e', 'plot', 'units', '(', 'lehnert', ',', '1981', ')', '.', 'neste', 'período', ',', 'muitos', 'chatterbots', 'foram', 'escritos', ',', 'como', 'parry', ',', 'racter', 'e', 'jabberwacky', '.', 'até', 'a', 'década', 'de', '1980', ',', 'a', 'maioria', 'dos', 'sistemas', 'de', 'pln', 'se', 'baseava', 'em', 'conjuntos', 'complexos', 'de', 'regras', 'manuscritas', '.', 'a', 'partir', 'do', 'final', 'dos', 'anos', '1980', ',', 'no', 'entanto', ',', 'houve', 'uma', 'revolução', 'no', 'pln', 'com', 'a', 'introdução', 'de', 'algoritmos', 'de', 'aprendizagem', 'automática', '(', 'aprendizado', 'de', 'máquina', ')', 'para', 'o', 'processamento', 'de', 'linguagem', '.', 'isto', 'foi', 'devido', 'tanto', 'ao', 'aumento', 'constante', 'do', 'poder', 'computacional', '(', 'ver', 'lei', 'de', 'moore', ')', 'quanto', 'à', 'diminuição', 'gradual', 'da', 'dominância', 'das', 'teorias', 'da', 'linguística', 'chomskyanas', '(', 'como', 'a', 'gramática', 'gerativa', ')', ',', 'cujos', 'fundamentos', 'teóricos', 'desestimularam', 'o', 'tipo', 'de', 'corpus', 'linguístico', 'que', 'está', 'subjacente', 'à', 'abordagem', 'da', 'aprendizagem', 'automática', 'ao', 'processamento', 'da', 'linguagem', '.', 'alguns', 'dos', 'algoritmos', 'de', 'aprendizado', 'de', 'máquinas', 'mais', 'antigos', ',', 'como', 'as', 'árvores', 'de', 'decisão', ',', 'produziam', 'sistemas', 'de', 'regras', 'rígidas', 'então', 'semelhantes', 'às', 'regras', 'existentes', 'na', 'escritas', 'à', 'mão', '.', 'no', 'entanto', ',', 'a', 'marcação', 'de', 'partes', 'da', 'fala', '(', 'part', '-', 'of', '-', 'speech', 'tagging', ')', 'introduziu', 'o', 'uso', 'de', 'modelos', 'ocultos', 'de', 'markov', 'para', 'o', 'pln', 'e', ',', 'cada', 'vez', 'mais', ',', 'a', 'pesquisa', 'se', 'concentrava', 'em', 'modelos', 'estatísticos', ',', 'que', 'tomam', 'decisões', 'suaves', 'e', 'probabilísticas', 'baseadas', 'na', 'atribuição', 'de', 'pesos', 'reais', 'aos', 'recursos', 'que', 'compõem', 'dados', 'de', 'entrada', '.', 'os', 'modelos', 'de', 'linguagem', 'de', 'cache', ',', 'sobre', 'os', 'quais', 'muitos', 'sistemas', 'de', 'reconhecimento', 'de', 'fala', 'agora', 'dependem', ',', 'são', 'exemplos', 'de', 'tais', 'modelos', 'estatísticos', '.', 'esses', 'modelos', 'são', 'geralmente', 'mais', 'robustos', 'quando', 'dados', 'informações', 'desconhecidas', ',', 'especialmente', 'entrada', 'que', 'contém', 'erros', '(', 'como', 'é', 'muito', 'comum', 'para', 'dados', 'do', 'mundo', 'real', ')', 'e', 'produzem', 'resultados', 'mais', 'confiáveis', 'quando', 'integrados', 'em', 'sistemas', 'maiores', 'que', 'compreendem', 'múltiplas', 'tarefas', '.', 'muitos', 'dos', 'sucessos', 'iniciais', 'notáveis', 'ocorreram', 'no', 'campo', 'da', 'tradução', 'automática', ',', 'devido', 'especialmente', 'ao', 'trabalho', 'de', 'pesquisa', 'da', 'ibm', ',', 'que', 'desenvolveu', 'modelos', 'estatísticos', 'mais', 'elaborados', '.', 'estes', 'sistemas', 'foram', 'capazes', 'de', 'tirar', 'proveito', 'de', 'corpora', 'textuais', 'multilíngues', 'existentes', 'produzidos', 'pelo', 'parlamento', 'do', 'canadá', 'e', 'a', 'união', 'europeia', 'como', 'resultado', 'de', 'leis', 'que', 'exigem', 'a', 'tradução', 'de', 'todos', 'os', 'processos', 'governamentais', 'em', 'todas', 'as', 'línguas', 'oficiais', 'dos', 'países', '.', 'no', 'entanto', ',', 'a', 'maioria', 'dos', 'sistemas', 'dependia', 'de', 'corpora', 'desenvolvido', 'especificamente', 'para', 'tarefas', 'implementadas', 'por', 'esses', 'sistemas', ',', 'o', 'que', 'era', '(', 'e', 'muitas', 'vezes', 'continua', 'sendo', ')', 'uma', 'grande', 'limitação', 'no', 'sucesso', 'dos', 'mesmo', '.', 'como', 'resultado', ',', 'uma', 'grande', 'quantidade', 'de', 'pesquisa', 'passou', 'de', 'quantidades', 'de', 'dados', 'limitadas', 'a', 'métodos', 'de', 'aprendizagem', 'mais', 'eficazes', '.', 'pesquisas', 'recentes', 'têm', 'se', 'concentrado', 'cada', 'vez', 'mais', 'em', 'algoritmos', 'de', 'aprendizagem', 'semi', '-', 'supervisionados', 'e', 'sem', 'supervisão', '.', 'esses', 'algoritmos', 'são', 'capazes', 'de', 'aprender', 'com', 'dados', 'que', 'não', 'foram', 'anotados', 'manualmente', 'com', 'as', 'respostas', 'desejadas', 'ou', 'usando', 'uma', 'combinação', 'de', 'dados', 'anotados', 'e', 'não', 'anotados', '.', 'geralmente', ',', 'esta', 'tarefa', 'é', 'muito', 'mais', 'trabalhosa', 'do', 'que', 'a', 'aprendizagem', 'supervisionada', 'e', 'normalmente', 'produz', 'resultados', 'menos', 'precisos', 'para', 'uma', 'quantidade', 'específica', 'de', 'dados', 'de', 'entrada', '.', 'no', 'entanto', ',', 'há', 'uma', 'enorme', 'quantidade', 'de', 'dados', 'não', 'anotados', 'disponíveis', '(', 'incluindo', ',', 'entre', 'outras', 'coisas', ',', 'todo', 'o', 'conteúdo', 'da', 'world', 'wide', 'web', ')', ',', 'que', 'muitas', 'vezes', 'pode', 'compensar', 'os', 'resultados', 'inferiores', '.', '=', '=', 'usando', 'a', 'aprendizagem', 'automática', '(', 'aprendizado', 'de', 'máquina', ')', '=', '=', 'os', 'algoritmos', 'modernos', 'de', 'pln', 'baseiam', '-', 'se', 'na', 'aprendizagem', 'mecânica', ',', 'especialmente', 'na', 'aprendizagem', 'de', 'máquinas', 'estatísticas', '.', 'o', 'paradigma', 'da', 'aprendizagem', 'mecânica', 'é', 'diferente', 'do', 'da', 'maioria', 'das', 'tentativas', 'anteriores', 'de', 'processamento', 'da', 'linguagem', '.', 'anteriormente', ',', 'implementações', 'de', 'tarefas', 'de', 'processamento', 'de', 'linguagem', 'envolviam', 'a', 'codificação', 'direta', 'de', 'grandes', 'conjuntos', 'de', 'regras', '.', 'o', 'paradigma', 'da', 'aprendizagem', 'automática', '(', 'ou', 'aprendizagem', 'automática', ')', 'induz', 'a', 'aprendizagem', 'automática', 'de', 'regras', 'através', 'de', 'análises', 'de', 'corpora', 'de', 'exemplos', 'típicos', 'do', 'mundo', 'real', 'ao', 'invés', 'de', 'usar', 'algoritmos', 'gerais', 'de', 'aprendizagem', '(', 'muitas', 'vezes', ',', 'embora', 'nem', 'sempre', ',', 'baseados', 'em', 'inferência', 'estatística', ')', '.', 'um', 'corpus', '(', 'plural', '\"', 'corpora', '\"', ')', 'é', 'um', 'conjunto', 'de', 'documentos', '(', 'ou', 'frases', 'individuais', ')', 'que', 'foram', 'anotados', 'à', 'mão', 'com', 'os', 'valores', 'corretos', 'a', 'serem', 'aprendidos', '.', 'muitas', 'classes', 'diferentes', 'de', 'algoritmos', 'de', 'aprendizado', 'de', 'máquina', 'foram', 'aplicadas', 'a', 'tarefas', 'de', 'pln', '.', 'esses', 'algoritmos', 'tomam', 'como', 'entrada', 'um', 'grande', 'conjunto', 'de', '\"', 'recursos', '\"', 'que', 'são', 'gerados', 'a', 'partir', 'de', 'dados', 'de', 'entrada', '.', 'alguns', 'dos', 'algoritmos', 'mais', 'usados', ',', 'como', 'árvores', 'de', 'decisão', ',', 'produziam', 'sistemas', 'de', 'regras', 'rígidas', 'semelhantes', 'aos', 'sistemas', 'de', 'regras', 'manuscritas', 'mais', 'comuns', '.', 'no', 'entanto', ',', 'cada', 'vez', 'mais', ',', 'a', 'pesquisa', 'tem', 'se', 'concentrado', 'em', 'modelos', 'estatísticos', ',', 'que', 'tomam', 'decisões', 'flexíveis', 'e', 'probabilísticas', 'baseadas', 'em', 'agregar', 'pesos', 'reais', 'a', 'cada', 'característica', 'de', 'entrada', '.', 'tais', 'modelos', 'têm', 'a', 'vantagem', 'de', 'poder', 'expressar', 'a', 'certeza', 'relativa', 'de', 'muitas', 'respostas', 'possíveis', 'diferentes', 'em', 'vez', 'de', 'apenas', 'uma', ',', 'produzindo', 'resultados', 'mais', 'confiáveis', 'quando', 'esse', 'modelo', 'é', 'incluído', 'como', 'um', 'componente', 'de', 'um', 'sistema', 'maior', '.', 'os', 'sistemas', 'baseados', 'em', 'algoritmos', 'de', 'aprendizagem', 'mecânica', 'têm', 'muitas', 'vantagens', 'em', 'relação', 'às', 'regras', 'produzidas', 'manualmente', ':', 'os', 'procedimentos', 'de', 'aprendizagem', 'usados', 'durante', 'a', 'aprendizagem', 'da', 'máquina', 'focam', '-', 'se', 'automaticamente', 'nos', 'casos', 'mais', 'comuns', ',', 'ao', 'passo', 'que', 'quando', 'se', 'escrevem', 'regras', 'à', 'mão', ',', 'não', 'é', 'óbvio', 'em', 'que', 'sentido', 'o', 'esforço', 'deve', 'ser', 'dirigido', '.', 'os', 'procedimentos', 'de', 'aprendizagem', 'automática', 'podem', 'fazer', 'uso', 'de', 'algoritmos', 'de', 'inferência', 'estatística', 'para', 'produzir', 'modelos', 'que', 'são', 'robustos', 'a', 'entradas', 'não', 'familiares', '(', 'por', 'exemplo', ',', 'contendo', 'palavras', 'ou', 'estruturas', 'que', 'não', 'foram', 'vistas', 'antes', ')', 'e', 'a', 'entradas', 'errôneas', '(', 'por', 'exemplo', ',', 'com', 'palavras', 'ou', 'palavras', 'incorretamente', 'omitidas', ')', '.', 'geralmente', ',', 'lidar', 'com', 'essas', 'entradas', 'de', 'forma', 'com', 'regras', 'manuscritas', 'ou', 'sistemas', 'de', 'regras', 'manuscritas', 'que', 'tomam', 'decisões', 'suaves', 'é', 'extremamente', 'trabalhoso', ',', 'propenso', 'a', 'erros', 'e', 'demorado', '.', 'sistemas', 'baseados', 'em', 'aprender', 'automaticamente', 'as', 'regras', 'podem', 'ser', 'mais', 'precisos', 'simplesmente', 'fornecendo', 'mais', 'dados', 'de', 'entrada', '.', 'no', 'entanto', ',', 'os', 'sistemas', 'baseados', 'em', 'regras', 'escritas', 'à', 'mão', 'só', 'podem', 'ser', 'tornados', 'mais', 'precisos', 'aumentando', 'a', 'complexidade', 'das', 'regras', ',', 'o', 'que', 'é', 'uma', 'tarefa', 'muito', 'mais', 'difícil', '.', 'em', 'particular', ',', 'há', 'um', 'limite', 'para', 'a', 'complexidade', 'de', 'sistemas', 'baseados', 'em', 'regras', 'artesanais', ',', 'para', 'além', 'dos', 'quais', 'os', 'sistemas', 'se', 'tornam', 'cada', 'vez', 'mais', 'incontroláveis', '.', 'no', 'entanto', ',', 'a', 'criação', 'de', 'mais', 'dados', 'para', 'entrada', 'em', 'sistemas', 'de', 'aprendizado', 'de', 'máquina', 'requer', 'simplesmente', 'um', 'aumento', 'correspondente', 'no', 'número', 'de', 'horas', 'trabalhadas', 'por', 'humanos', ',', 'geralmente', 'sem', 'aumentos', 'significativos', 'na', 'complexidade', 'do', 'processo', 'de', 'anotação', '.', 'o', 'subcampo', 'de', 'pln', 'dedicado', 'a', 'abordagens', 'de', 'aprendizagem', 'é', 'conhecido', 'como', 'aprendizagem', 'de', 'língua', 'natural', '(', 'nll', ')', 'e', 'sua', 'conferência', ',', 'a', 'conll', ',', 'e', 'orgão', 'central', ',', 'o', 'signll', ',', 'são', 'patrocinados', 'pela', 'acl', ',', 'reconhecendo', 'também', 'as', 'suas', 'ligações', 'com', 'linguística', 'computacional', 'e', 'aquisição', 'de', 'linguagem', '.', 'quando', 'o', 'objetivo', 'da', 'pesquisa', 'de', 'aprendizagem', 'de', 'linguagem', 'computacional', 'é', 'entender', 'mais', 'sobre', 'aquisição', 'de', 'linguagem', 'humana', ',', 'ou', 'psicolinguística', ',', 'a', 'nll', 'sobrepõe', '-', 'se', 'no', 'campo', 'relacionado', 'de', 'psicolinguística', 'computacional', '.', '=', '=', 'aplicações', 'principais', '=', '=', 'a', 'listagem', 'a', 'seguir', 'traz', 'alguns', 'dos', 'trabalhos', 'mais', 'pesquisadas', 'em', 'pln', '.', 'note', 'que', 'alguns', 'deles', 'têm', 'aplicações', 'no', 'mundo', 'real', ',', 'enquanto', 'outras', 'servem', 'mais', 'frequentemente', 'como', 'tarefas', 'secundárias', 'que', 'são', 'usadas', 'para', 'auxiliar', 'na', 'resolução', 'de', 'tarefas', 'maiores', '.', 'o', 'que', 'distingue', 'essas', 'tarefas', 'de', 'outras', 'tarefas', 'potenciais', 'e', 'reais', 'de', 'pln', 'não', 'é', 'apenas', 'o', 'volume', 'de', 'pesquisa', 'dedicado', 'a', 'elas', ',', 'mas', 'o', 'fato', 'de', 'que', 'para', 'cada', 'uma', 'há', 'tipicamente', 'uma', 'definição', 'de', 'problema', 'bem', 'especificada', ',', 'uma', 'métrica', 'padrão', 'para', 'avaliar', 'a', 'tarefa', ',', 'corpora', 'padrão', 'em', 'que', 'a', 'tarefa', 'pode', 'ser', 'avaliada', 'e', 'as', 'competições', 'dedicadas', 'à', 'tarefa', 'específica', '.', 'sumarização', 'automática', 'produz', 'um', 'resumo', 'legível', 'de', 'uma', 'parte', 'do', 'texto', '.', 'muitas', 'vezes', 'usado', 'para', 'fornecer', 'resumos', 'de', 'texto', 'de', 'um', 'tipo', 'conhecido', ',', 'como', 'artigos', 'na', 'seção', 'financeira', 'de', 'um', 'jornal', '.', 'resolução', 'de', 'correferência', 'dada', 'uma', 'frase', 'ou', 'um', 'pedaço', 'maior', 'de', 'texto', ',', 'determina', 'quais', 'palavras', '(', '\"', 'menções', '\"', ')', 'se', 'referem', 'aos', 'mesmos', 'objetos', '(', '\"', 'entidades', '\"', ')', '.', 'a', 'resolução', 'da', 'anáfora', 'é', 'um', 'exemplo', 'específico', 'dessa', 'tarefa', 'e', 'está', 'especificamente', 'preocupada', 'em', 'combinar', 'os', 'pronomes', 'com', 'os', 'substantivos', 'ou', 'nomes', 'aos', 'quais', 'eles', 'se', 'referem', '.', 'a', 'tarefa', 'mais', 'geral', 'da', 'resolução', 'de', 'correferência', 'também', 'inclui', 'a', 'identificação', 'dos', 'chamados', '\"', 'relacionamentos', 'de', 'ponte', '\"', 'envolvendo', 'expressões', 'de', 'referência', '.', 'por', 'exemplo', ',', 'numa', 'frase', 'como', '\"', 'ele', 'entrou', 'na', 'casa', 'de', 'joão', 'pela', 'porta', 'da', 'frente', '\"', ',', '\"', 'a', 'porta', 'da', 'frente', '\"', 'é', 'uma', 'expressão', 'de', 'referência', 'e', 'a', 'relação', 'da', 'ponte', 'a', 'ser', 'identificada', 'é', 'o', 'fato', 'de', 'que', 'a', 'porta', 'a', 'ser', 'referida', 'é', 'a', 'porta', 'da', 'frente', 'de', \"john's\", '(', 'ao', 'invés', 'de', 'alguma', 'outra', 'estrutura', 'que', 'também', 'pode', 'ser', 'referida', ')', '.', 'análise', 'do', 'discurso', 'esta', 'rubrica', 'inclui', 'uma', 'série', 'de', 'tarefas', 'relacionadas', '.', 'uma', 'tarefa', 'é', 'identificar', 'a', 'estrutura', 'discursiva', 'do', 'texto', 'conectado', ',', 'isto', 'é', ',', 'a', 'natureza', 'das', 'relações', 'discursivas', 'entre', 'sentenças', '(', 'por', 'exemplo', ',', 'elaboração', ',', 'explicação', ',', 'contraste', ')', '.', 'outra', 'possível', 'tarefa', 'é', 'reconhecer', 'e', 'classificar', 'os', 'atos', 'de', 'fala', 'em', 'um', 'pedaço', 'de', 'texto', '(', 'por', 'exemplo', ',', 'pergunta', 'sim', '-', 'não', ',', 'pergunta', 'de', 'conteúdo', ',', 'frase', ',', 'afirmação', ',', 'etc', ')', '.', 'maquina', 'de', 'tradução', 'traduzir', 'automaticamente', 'texto', 'de', 'uma', 'linguagem', 'humana', 'para', 'outra', '.', 'este', 'é', 'uma', 'das', 'tarefas', 'mais', 'difíceis', 'e', 'faz', 'parte', 'de', 'um', 'tipo', 'de', 'problemas', 'conhecidos', 'como', '\"', 'ai', '-', 'complete', '\"', ',', 'ou', 'seja', ',', 'exigindo', 'todos', 'os', 'diferentes', 'tipos', 'de', 'conhecimento', 'que', 'os', 'humanos', 'possuem', '(', 'gramática', ',', 'semântica', ',', 'fatos', 'sobre', 'o', 'mundo', 'real', ',', 'etc', ')', 'para', 'resolvê', '-', 'lo', 'adequadamente', '.', 'segmentação', 'morfológica', 'separa', 'palavras', 'em', 'morfemas', 'individuais', 'e', 'identifica', 'classes', 'de', 'morfemas', '.', 'a', 'dificuldade', 'desta', 'tarefa', 'depende', 'muito', 'da', 'complexidade', 'da', 'morfologia', '(', 'isto', 'é', ',', 'da', 'estrutura', 'das', 'palavras', ')', 'da', 'linguagem', 'que', 'está', 'sendo', 'considerada', '.', 'o', 'inglês', 'possui', 'uma', 'morfologia', 'bastante', 'simples', ',', 'especialmente', 'a', 'morfologia', 'flexional', ',', 'e', 'portanto', 'é', 'possível', 'ignorar', 'esta', 'tarefa', 'inteiramente', 'e', 'simplesmente', 'modelar', 'todas', 'as', 'formas', 'possíveis', 'de', 'uma', 'palavra', '(', 'por', 'exemplo', ',', '\"', 'open', ',', 'opens', ',', 'opened', ',', 'opening', '\"', ')', 'como', 'palavras', 'separadas', '.', 'em', 'línguas', 'como', 'o', 'turco', 'ou', 'o', 'meitei', ',', 'uma', 'língua', 'indiana', 'fortemente', 'aglutinada', ',', 'no', 'entanto', ',', 'tal', 'abordagem', 'não', 'é', 'possível', ',', 'uma', 'vez', 'que', 'cada', 'entrada', 'do', 'dicionário', 'tem', 'milhares', 'de', 'formas', 'de', 'palavras', 'possíveis', '.', 'reconhecimento', 'de', 'entidade', 'nomeada', '(', 'ner', ')', 'dado', 'um', 'fluxo', 'de', 'texto', ',', 'determina', 'quais', 'são', 'itens', 'no', 'mapa', 'de', 'texto', 'para', 'nomes', 'próprios', ',', 'como', 'pessoas', 'ou', 'locais', 'e', 'qual', 'é', 'o', 'tipo', 'de', 'cada', 'nome', '(', 'por', 'exemplo', ',', 'pessoa', ',', 'local', ',', 'organização', ')', '.', 'embora', 'a', 'capitalização', 'possa', 'ajudar', 'a', 'reconhecer', 'entidades', 'nomeadas', 'em', 'idiomas', 'como', 'o', 'inglês', ',', 'essas', 'informações', 'podem', 'não', 'ajudar', 'a', 'determinar', 'o', 'tipo', 'de', 'entidade', 'nomeada', 'e', ',', 'em', 'alguns', 'casos', ',', 'sãos', 'imprecisas', 'ou', 'insuficientes', '.', 'por', 'exemplo', ',', 'a', 'primeira', 'palavra', 'de', 'uma', 'frase', 'também', 'é', 'capitalizada', 'e', 'as', 'entidades', 'nomeadas', 'muitas', 'vezes', 'abrangem', 'várias', 'palavras', ',', 'com', 'apenas', 'algumas', 'delas', 'são', 'capitalizadas', '.', 'além', 'disso', ',', 'muitas', 'outras', 'linguagens', 'em', 'scripts', 'não', '-', 'ocidentais', '(', 'por', 'exemplo', ',', 'chinês', 'ou', 'árabe', ')', 'não', 'têm', 'nenhuma', 'capitalização', 'e', 'mesmo', 'as', 'línguas', 'com', 'maiúsculas', 'podem', 'não', 'distinguir', 'nomes', '.', 'por', 'exemplo', ',', 'o', 'alemão', 'capitaliza', 'todos', 'os', 'substantivos', ',', 'independentemente', 'de', 'se', 'referirem', 'a', 'nomes', ',', 'e', 'o', 'francês', 'e', 'o', 'espanhol', 'não', 'capitalizam', 'nomes', 'que', 'servem', 'como', 'adjetivos', '.', 'geração', 'de', 'língua', 'natural', 'converte', 'informações', 'de', 'bancos', 'de', 'dados', 'de', 'computador', 'ou', 'intenções', 'semânticas', 'em', 'linguagem', 'humana', 'legível', '.', 'compreensão', 'da', 'língua', 'natural', 'converte', 'pedaços', 'de', 'texto', 'em', 'representações', 'mais', 'formais', ',', 'como', 'estruturas', 'de', 'lógica', 'de', 'primeira', 'ordem', ',', 'que', 'são', 'mais', 'fáceis', 'de', 'manipular', 'pelos', 'programas', 'de', 'computador', '.', 'a', 'compreensão', 'da', 'língua', 'natural', 'envolve', 'a', 'identificação', 'da', 'semântica', 'pretendida', 'a', 'partir', 'da', 'múltipla', 'semântica', 'possível', 'que', 'pode', 'ser', 'derivada', 'de', 'uma', 'expressão', 'de', 'língua', 'natural', 'que', 'geralmente', 'toma', 'a', 'forma', 'de', 'notação', 'organizada', 'de', 'conceitos', 'de', 'linguagens', 'naturais', '.', 'entretanto', ',', 'introdução', 'e', 'criação', 'de', 'linguagem', 'metamodelo', 'e', 'ontologia', 'são', 'eficientes', 'soluções', 'empíricas', '.', 'uma', 'formalização', 'explícita', 'da', 'semântica', 'de', 'línguas', 'naturais', 'sem', 'confusões', 'com', 'suposições', 'implícitas', 'como', 'closed', '-', 'world', 'assumption', '(', 'cwa', ')', 'versus', 'open', '-', 'world', 'assumption', 'ou', 'subjetiva', 'sim', '/', 'não', 'versus', 'objetivo', 'verdadeiro', '/', 'falso', 'é', 'esperada', 'para', 'a', 'construção', 'de', 'uma', 'base', 'de', 'formalização', 'semântica', '.', 'reconhecimento', 'óptico', 'de', 'caracteres', '(', 'ocr', ')', 'dada', 'uma', 'imagem', 'que', 'representa', 'o', 'texto', 'impresso', ',', 'determina', 'o', 'texto', 'correspondente', '.', 'marcação', 'de', 'classe', 'gramatical', 'dada', 'uma', 'sentença', ',', 'determina', 'a', 'classe', 'gramatical', 'de', 'cada', 'palavra', '.', 'muitas', 'palavras', ',', 'especialmente', 'as', 'comuns', ',', 'podem', 'servir', 'como', 'múltiplas', 'partes', 'do', 'discurso', '.', 'em', 'inglês', ',', 'por', 'exemplo', ',', '\"', 'book', '\"', 'pode', 'ser', 'um', 'substantivo', '(', '\"', 'the', 'book', 'on', 'the', 'table', '\"', ')', 'ou', 'verbo', '(', '\"', 'book', 'a', 'flight', '\"', ')', ';', '\"', 'set', '\"', 'pode', 'ser', 'um', 'substantivo', ',', 'verbo', 'ou', 'adjetivo', ';', 'e', '\"', 'out', '\"', 'pode', 'ser', 'qualquer', 'um', 'de', 'pelo', 'menos', 'cinco', 'diferentes', 'partes', 'da', 'fala', '.', 'algumas', 'línguas', 'têm', 'mais', 'ambiguidade', 'do', 'que', 'outras', '.', 'as', 'línguas', 'com', 'pouca', 'morfologia', 'flexional', ',', 'como', 'o', 'inglês', ',', 'são', 'particularmente', 'propensas', 'a', 'tal', 'ambiguidade', '.', 'o', 'chinês', 'é', 'propenso', 'a', 'tal', 'ambiguidade', 'porque', 'é', 'uma', 'língua', 'tonal', 'durante', 'a', 'verbalização', '.', 'tal', 'inflexão', 'não', 'é', 'facilmente', 'transmitida', 'através', 'das', 'entidades', 'empregadas', 'dentro', 'da', 'ortografia', 'para', 'transmitir', 'o', 'significado', 'pretendido', '.', 'análise', 'sintática', '(', 'parsing', ')', 'determina', 'a', 'árvore', 'de', 'análise', '(', 'análise', 'gramatical', ')', 'de', 'uma', 'frase', '.', 'a', 'gramática', 'para', 'as', 'linguagens', 'naturais', 'é', 'ambígua', 'e', 'frases', 'típicas', 'têm', 'múltiplas', 'análises', 'possíveis', '.', 'na', 'verdade', ',', 'surpreendentemente', ',', 'para', 'uma', 'frase', 'típica', 'pode', 'haver', 'milhares', 'de', 'análises', 'em', 'potencial', '(', 'a', 'maioria', 'dos', 'quais', 'parecerá', 'completamente', 'absurda', 'para', 'um', 'ser', 'humano', ')', '.', 'respostas', 'a', 'perguntas', 'dada', 'uma', 'questão', 'de', 'linguagem', 'humana', ',', 'determina', 'sua', 'resposta', '.', 'as', 'perguntas', 'típicas', 'têm', 'uma', 'resposta', 'correta', 'específica', '(', 'como', '\"', 'qual', 'é', 'o', 'capital', 'do', 'canadá', '?', '\"', ')', ',', 'mas', 'às', 'vezes', 'perguntas', 'abertas', 'também', 'são', 'consideradas', '(', 'como', '\"', 'qual', 'é', 'o', 'significado', 'da', 'vida', '?', '\"', ')', '.', 'trabalhos', 'recentes', 'têm', 'analisado', 'questões', 'ainda', 'mais', 'complexas', '.', 'extração', 'de', 'relacionamento', 'identifica', 'as', 'relações', 'entre', 'entidades', 'nomeadas', '(', 'por', 'exemplo', ',', 'quem', 'é', 'casado', 'com', 'quem', ')', 'com', 'base', 'em', 'textos', '.', 'quebra', 'de', 'frases', '(', 'sentence', 'boundary', 'disambiguation', ')', 'encontra', 'os', 'limites', 'da', 'frase', 'em', 'um', 'pedaço', 'de', 'texto', '.', 'os', 'limites', 'de', 'frases', 'são', 'normalmente', 'marcadas', 'por', 'pontos', 'ou', 'outros', 'sinais', 'de', 'pontuação', ',', 'mas', 'esses', 'mesmos', 'caracteres', 'podem', 'servir', 'outros', 'propósitos', '.', 'análise', 'de', 'subjetividade', '(', 'sentiment', 'analysis', 'ou', 'opinion', 'mining', ')', 'extrai', 'informações', 'subjetivas', 'geralmente', 'de', 'um', 'conjunto', 'de', 'documentos', ',', 'muitas', 'vezes', 'usando', 'revisões', 'online', 'para', 'determinar', 'a', '\"', 'polaridade', '\"', 'sobre', 'objetos', 'específicos', '.', 'é', 'especialmente', 'útil', 'para', 'identificar', 'tendências', 'da', 'opinião', 'pública', 'nas', 'mídias', 'sociais', ',', 'para', 'fins', 'de', 'marketing', '.', 'reconhecimento', 'de', 'fala', 'dado', 'um', 'clipe', 'de', 'som', 'de', 'uma', 'pessoa', 'ou', 'pessoas', 'falando', ',', 'determina', 'a', 'representação', 'textual', 'do', 'discurso', '.', 'é', 'o', 'oposto', 'da', 'síntese', 'de', 'fala', 'e', 'é', 'uma', 'das', 'áreas', 'mais', 'difíceis', ',', 'conhecida', 'como', '\"', 'ai', '-', 'complete', '\"', '.', 'na', 'fala', 'natural', 'quase', 'não', 'há', 'pausas', 'entre', 'palavras', 'sucessivas', ',', 'por', 'isso', 'a', 'segmentação', 'de', 'fala', 'é', 'uma', 'subtarefa', 'necessária', 'de', 'reconhecimento', 'de', 'fala', '.', 'nota', '-', 'se', 'também', 'que', ',', 'na', 'maioria', 'das', 'linguagens', 'faladas', ',', 'os', 'sons', 'que', 'representam', 'letras', 'sucessivas', 'se', 'misturam', 'entre', 'si', 'em', 'um', 'processo', 'denominado', 'coarticulação', ',', 'de', 'modo', 'que', 'a', 'conversão', 'do', 'sinal', 'analógico', 'em', 'caracteres', 'discretos', 'pode', 'ser', 'um', 'processo', 'muito', 'difícil', 'de', 'ser', 'realizado', '.', 'segmentação', 'de', 'fala', 'dado', 'um', 'clipe', 'de', 'som', 'de', 'uma', 'pessoa', 'ou', 'pessoas', 'falando', ',', 'separa', '-', 'o', 'em', 'palavras', '.', 'uma', 'subaplicação', 'de', 'reconhecimento', 'de', 'fala', 'e', 'normalmente', 'agrupada', 'com', 'ele', '.', 'análise', 'morfológica', 'e', 'reconhecimento', 'de', 'tópicos', 'dado', 'um', 'pedaço', 'de', 'texto', ',', 'separa', '-', 'o', 'em', 'segmentos', 'cada', 'um', 'dos', 'quais', 'é', 'dedicado', 'a', 'um', 'tópico', 'e', 'identifica', 'o', 'tópico', 'do', 'segmento', '.', 'análise', 'morfológica', 'e', 'segmentação', 'de', 'palavras', 'separa', 'um', 'pedaço', 'de', 'texto', 'contínuo', 'em', 'palavras', 'separadas', '.', 'para', 'uma', 'língua', 'como', 'o', 'inglês', ',', 'isso', 'é', 'bastante', 'trivial', ',', 'uma', 'vez', 'que', 'as', 'palavras', 'são', 'normalmente', 'separadas', 'por', 'espaços', '.', 'no', 'entanto', ',', 'algumas', 'línguas', 'escritas', 'como', 'chinês', ',', 'japonês', 'e', 'tailandês', 'não', 'marcam', 'limites', 'de', 'palavras', 'de', 'tal', 'forma', ',', 'e', 'nessas', 'línguas', 'segmentação', 'de', 'texto', 'é', 'uma', 'tarefa', 'significativa', 'que', 'requer', 'conhecimento', 'do', 'vocabulário', 'e', 'morfologia', 'das', 'palavras', 'na', 'língua', '.', 'desambiguação', 'muitas', 'palavras', 'têm', 'mais', 'de', 'um', 'significado', ',', 'assim', 'temos', 'que', 'selecionar', 'o', 'significado', 'que', 'faz', 'mais', 'sentido', 'no', 'contexto', '.', 'para', 'este', 'problema', ',', 'em', 'geral', 'é', 'dada', 'uma', 'lista', 'de', 'palavras', 'e', 'sentidos', 'de', 'palavras', 'associadas', 'de', 'um', 'dicionário', 'ou', 'recurso', 'online', ',', 'como', 'o', 'wordnet', '.', 'em', 'alguns', 'casos', ',', 'conjuntos', 'de', 'tarefas', 'relacionadas', 'são', 'agrupados', 'em', 'subcampos', 'de', 'pln', 'que', 'são', 'frequentemente', 'considerados', 'separadamente', 'da', 'pln', 'como', 'um', 'todo', ',', 'como', 'os', 'exemplos', 'à', 'seguir', ':', 'recuperação', 'de', 'informação', '(', 'ir', ')', 'trata', '-', 'se', 'de', 'armazenar', ',', 'pesquisar', 'e', 'recuperar', 'informações', '.', 'é', 'um', 'campo', 'separado', 'dentro', 'da', 'ciência', 'da', 'computação', '(', 'mais', 'perto', 'de', 'bancos', 'de', 'dados', ')', ',', 'mas', 'a', 'ir', 'se', 'baseia', 'em', 'alguns', 'métodos', 'pln', '(', 'por', 'exemplo', ',', 'stemming', ')', '.', 'algumas', 'pesquisas', 'e', 'aplicações', 'atuais', 'procuram', 'preencher', 'a', 'lacuna', 'entre', 'ir', 'e', 'pln', '.', 'extração', 'de', 'informação', '(', 'ie', ')', 'trata', '-', 'se', ',', 'em', 'geral', ',', 'da', 'extração', 'de', 'informação', 'semântica', 'a', 'partir', 'do', 'texto', '.', 'abrange', 'tarefas', 'como', 'reconhecimento', 'de', 'entidade', 'mencionada', ',', 'resolução', 'de', 'correferência', 'e', 'de', 'relacionamento', 'de', 'extração', ',', 'etc', '.', 'processamento', 'de', 'voz', 'abrange', 'reconhecimento', 'de', 'fala', ',', 'síntese', 'de', 'fala', 'e', 'tarefas', 'relacionadas', '.', 'outras', 'tarefas', 'incluem', ':', 'identificação', 'na', 'língua', 'materna', 'stemização', 'simplificação', 'do', 'texto', 'síntese', 'de', 'fala', 'revisão', 'de', 'texto', 'pesquisa', 'em', 'língua', 'natural', 'expansão', 'da', 'consulta', 'pontuação', 'de', 'ensaio', 'automatizado', 'truecasing', '=', '=', 'estatística', '=', '=', 'artigo', 'principal', ':', 'gramática', 'estocástica', 'o', 'processamento', 'estatístico', 'em', 'língua', 'natural', 'utiliza', 'métodos', 'estocásticos', ',', 'probabilísticos', 'e', 'estatísticos', 'para', 'resolver', 'algumas', 'das', 'dificuldades', 'discutidas', 'acima', ',', 'especialmente', 'aquelas', 'que', 'surgem', 'porque', 'frases', 'mais', 'longas', 'são', 'muito', 'ambíguas', 'quando', 'processadas', 'com', 'gramáticas', 'realistas', ',', 'produzindo', 'milhares', 'ou', 'milhões', 'de', 'análises', 'possíveis', '.', 'métodos', 'de', 'desambiguação', 'envolvem', 'muitas', 'vezes', 'o', 'uso', 'de', 'corpora', 'e', 'modelos', 'de', 'markov', '.', 'o', 'projeto', 'esprit', 'p26', '(', '1984', '-', '1988', ')', ',', 'liderado', 'pelo', 'cselt', ',', 'explorou', 'o', 'problema', 'do', 'reconhecimento', 'de', 'fala', 'comparando', 'abordagem', 'baseada', 'em', 'conhecimento', 'e', 'estatística', ':', 'o', 'resultado', 'escolhido', 'foi', 'um', 'modelo', 'completamente', 'estatístico', '.', 'um', 'dos', 'primeiros', 'modelos', 'de', 'compreensão', 'estatística', 'da', 'língua', 'natural', 'foi', 'introduzido', 'em', '1991', 'por', 'roberto', 'pieraccini', ',', 'esther', 'levin', 'e', 'chin', '-', 'hui', 'lee', ',', 'da', 'bell', 'laboratories', ']', '.', 'o', 'pln', 'compreende', 'todas', 'as', 'abordagens', 'quantitativas', 'para', 'processamento', 'automatizado', 'de', 'linguagem', ',', 'incluindo', 'modelagem', 'probabilística', ',', 'teoria', 'da', 'informação', 'e', 'álgebra', 'linear', '.', 'a', 'tecnologia', 'para', 'o', 'pln', 'estatístico', 'vem', 'principalmente', 'da', 'aprendizagem', 'automática', 'e', 'da', 'mineração', 'de', 'dados', ',', 'que', 'são', 'campos', 'de', 'inteligência', 'artificial', 'que', 'envolvem', 'o', 'aprendizado', 'a', 'partir', 'de', 'dados', '.', '=', '=', 'avaliação', '=', '=', 'o', 'objetivo', 'da', 'avaliação', 'do', 'pln', 'é', 'uma', 'medida', 'de', 'uma', 'ou', 'mais', 'qualidades', 'de', 'um', 'algoritmo', 'ou', 'de', 'um', 'sistema', 'a', 'fim', 'de', 'determinar', 'se', 'o', 'algoritmo', 'atende', 'às', 'metas', 'dos', 'projetistas', 'ou', 'o', 'sistema', 'de', 'atendimento', 'às', 'necessidades', 'de', 'seus', 'usuários', '.', 'investigação', 'na', 'avaliação', 'pln', 'tem', 'ganhado', 'atenção', ',', 'porque', 'a', 'definição', 'de', 'critérios', 'de', 'avaliação', 'é', 'uma', 'forma', 'de', 'especificar', 'precisamente', 'problemas', 'do', 'pln', '.', 'uma', 'métrica', 'de', 'avaliação', 'de', 'pln', 'em', 'um', 'sistema', 'algorítmico', 'permite', 'a', 'integração', 'da', 'compreensão', 'de', 'linguagem', 'e', 'geração', 'de', 'linguagem', '.', 'um', 'conjunto', 'preciso', 'de', 'critérios', 'de', 'avaliação', ',', 'que', 'pode', 'ser', 'aplicado', 'principalmente', 'a', 'avaliações', 'métricas', ',', 'podendo', 'permitir', 'que', 'várias', 'equipes', 'comparem', 'suas', 'soluções', 'para', 'um', 'determinado', 'problema', 'do', 'pln', '.', '=', '=', 'cronologia', 'da', 'avaliação', '=', '=', 'em', '1983', ',', 'iniciou', '-', 'se', 'o', 'projecto', 'esprit', 'p26', ',', 'que', 'avaliou', 'as', 'tecnologias', 'da', 'fala', '(', 'incluindo', 'tópicos', 'gerais', 'como', 'sintaxe', 'e', 'semântica', ')', 'comparando', 'as', 'abordagens', 'baseadas', 'em', 'regras', 'com', 'as', 'estatísticas', '.', 'em', '1987', ',', 'a', 'primeira', 'campanha', 'de', 'avaliação', 'de', 'textos', 'escritos', 'parece', 'ser', 'uma', 'campanha', 'dedicada', 'à', 'compreensão', 'da', 'mensagem', '(', 'pallet', ',', '1998', ')', '.', 'o', 'projeto', 'parseval', '/', 'geig', 'comparou', 'gramáticas', 'de', 'frase', '-', 'estrutura', '(', 'black', '1991', ')', '.', 'houve', 'uma', 'série', 'de', 'campanhas', 'no', 'projeto', 'tipster', 'sobre', 'tarefas', 'como', 'resumo', ',', 'tradução', 'e', 'pesquisa', '(', 'hirschman', '1998', ')', '.', 'em', '1994', ',', 'na', 'alemanha', ',', 'o', 'morpholympics', 'comparou', 'marcadores', 'morfológicos', 'alemães', '.', 'as', 'campanhas', 'de', 'senseval', '&', 'romanseval', 'foram', 'realizadas', 'com', 'os', 'objetivos', 'de', 'desambiguação', 'semântica', '.', 'em', '1996', ',', 'a', 'campanha', 'sparkle', 'comparou', 'os', 'analisadores', 'sintáticos', 'em', 'quatro', 'idiomas', 'diferentes', '(', 'inglês', ',', 'francês', ',', 'alemão', 'e', 'italiano', ')', '.', 'na', 'frança', ',', 'o', 'projeto', 'grace', 'comparou', 'um', 'conjunto', 'de', '21', 'marcadores', 'para', 'o', 'francês', 'em', '1997', '(', 'adda', '1999', ')', '.', 'em', '2004', ',', 'durante', 'o', 'projeto', 'technolangue', '/', 'easy', ',', 'foram', 'comparados', '13', 'analisadores', 'para', 'o', 'francês', '.', 'a', 'avaliação', 'em', 'larga', 'escala', 'dos', 'analisadores', 'de', 'dependência', 'foi', 'realizada', 'no', 'contexto', 'das', 'tarefas', 'compartilhadas', 'do', 'conll', 'em', '2006', 'e', '2007', '.', 'na', 'frança', ',', 'no', 'âmbito', 'do', 'projecto', 'anr', '-', 'passage', '(', 'final', 'de', '2007', ')', ',', 'foram', 'comparados', '10', 'analisadores', 'para', 'o', 'francês', '.', 'em', 'itália', ',', 'a', 'campanha', 'evalita', 'foi', 'realizada', 'em', '2007', ',', '2009', ',', '2011', 'e', '2014', 'para', 'comparar', 'várias', 'ferramentas', 'de', 'pln', 'e', 'de', 'voz', 'para', 'o', 'site', 'italiano', '-', 'evalita', '.', '=', '=', 'diferentes', 'tipos', 'de', 'avaliação', '=', '=', 'avaliação', 'intrínseca', 'vs', '.', 'extrínseca', 'a', 'avaliação', 'intrínseca', 'considera', 'um', 'sistema', 'pnl', 'isolado', 'e', 'caracteriza', 'seu', 'desempenho', 'em', 'relação', 'a', 'um', 'resultado', 'padrão', '-', 'excelência', ',', 'conforme', 'definido', 'pelos', 'avaliadores', '.', 'a', 'avaliação', 'extrínseca', ',', 'também', 'chamada', 'de', 'avaliação', 'em', 'uso', ',', 'considera', 'o', 'sistema', 'pln', 'em', 'um', 'cenário', 'mais', 'complexo', 'como', 'um', 'sistema', 'embutido', 'ou', 'uma', 'função', 'precisa', 'para', 'um', 'usuário', 'humano', '.', 'o', 'desempenho', 'extrínseco', 'do', 'sistema', 'é', 'então', 'caracterizado', 'em', 'termos', 'de', 'utilidade', 'em', 'relação', 'à', 'tarefa', 'global', 'do', 'sistema', 'estranho', 'ou', 'do', 'utilizador', 'humano', '.', 'por', 'exemplo', ',', 'considere', 'um', 'analisador', 'sintático', 'que', 'é', 'baseado', 'na', 'saída', 'de', 'alguma', 'parte', 'do', 'tagger', 'de', 'fala', '(', 'pos', ')', '.', 'uma', 'avaliação', 'intrínseca', 'executaria', 'o', 'marcador', 'pos', 'em', 'dados', 'estruturados', 'e', 'compararia', 'a', 'saída', 'do', 'sistema', 'do', 'marcador', 'pos', 'com', 'a', 'saída', 'padrão', 'ouro', '.', 'uma', 'avaliação', 'extrínseca', 'executaria', 'o', 'analisador', 'com', 'algum', 'outro', 'marcador', 'pos', 'e', ',', 'em', 'seguida', ',', 'com', 'o', 'marcador', 'pos', 'novo', 'e', 'compara', 'a', 'precisão', 'de', 'análise', '.', 'caixa', 'preta', 'vs', '.', 'avaliação', 'da', 'caixa', 'de', 'vidro', 'a', 'avaliação', 'em', 'caixa', 'preta', 'requer', 'que', 'alguém', 'execute', 'um', 'sistema', 'pln', 'em', 'um', 'conjunto', 'de', 'dados', 'de', 'amostra', 'e', 'para', 'medir', 'uma', 'série', 'de', 'parâmetros', 'relacionados', 'com', 'a', 'qualidade', 'do', 'processo', ',', 'como', 'velocidade', ',', 'confiabilidade', ',', 'consumo', 'de', 'recursos', 'e', ',', 'principalmente', ',', 'a', 'qualidade', 'do', 'resultado', ',', 'como', 'a', 'precisão', 'da', 'anotação', 'de', 'dados', 'ou', 'a', 'fidelidade', 'de', 'uma', 'tradução', '.', 'a', 'avaliação', 'da', 'caixa', 'de', 'vidro', 'examina', 'a', 'concepção', 'do', 'sistema', ';', 'os', 'algoritmos', 'que', 'são', 'implementados', ',', 'os', 'recursos', 'linguísticos', 'que', 'utiliza', ',', 'como', 'o', 'tamanho', 'do', 'vocabulário', 'ou', 'a', 'expressão', 'definida', 'de', 'cardinalidade', '.', 'dada', 'a', 'complexidade', 'dos', 'problemas', 'da', 'pln', ',', 'muitas', 'vezes', 'é', 'difícil', 'prever', 'o', 'desempenho', 'apenas', 'com', 'base', 'na', 'avaliação', 'da', 'caixa', 'de', 'vidro', ';', 'mas', 'este', 'tipo', 'de', 'avaliação', 'é', 'mais', 'informativo', 'no', 'que', 'diz', 'respeito', 'à', 'análise', 'de', 'erros', 'ou', 'desenvolvimentos', 'futuros', 'de', 'um', 'sistema', '.', 'automática', 'vs', '.', 'avaliação', 'manual', 'em', 'muitos', 'casos', ',', 'procedimentos', 'automáticos', 'podem', 'ser', 'definidos', 'para', 'avaliar', 'um', 'sistema', 'de', 'pln', ',', 'comparando', 'sua', 'saída', 'com', 'o', 'padrão', 'de', 'excelência', '.', 'embora', 'o', 'custo', 'de', 'reproduzir', 'o', 'padrão', 'de', 'excelência', 'possa', 'ser', 'bastante', 'elevado', ',', 'avaliação', 'automática', 'de', 'bootstrapping', 'sobre', 'os', 'mesmos', 'dados', 'de', 'entrada', 'pode', 'ser', 'repetida', 'quantas', 'vezes', 'for', 'necessário', 'sem', 'custos', 'adicionais', 'desordenados', '.', 'no', 'entanto', ',', 'para', 'muitos', 'problemas', 'de', 'pln', 'a', 'definição', 'precisa', 'de', 'um', 'padrão', 'de', 'excelência', 'é', 'uma', 'tarefa', 'complexa', 'e', 'pode', 'se', 'revelar', 'impossível', 'quando', 'o', 'acordo', 'inter', '-', 'anotador', 'é', 'insuficiente', '.', 'a', 'avaliação', 'manual', 'é', 'melhor', 'realizada', 'por', 'juízes', 'humanos', 'instruídos', 'para', 'estimar', 'a', 'qualidade', 'de', 'um', 'sistema', ',', 'ou', 'mais', 'frequentemente', 'de', 'uma', 'amostra', 'de', 'sua', 'produção', ',', 'com', 'base', 'em', 'uma', 'série', 'de', 'critérios', '.', 'embora', ',', 'graças', 'à', 'sua', 'competência', 'linguística', ',', 'os', 'juízes', 'humanos', 'possam', 'ser', 'considerados', 'como', 'a', 'referência', 'para', 'uma', 'série', 'de', 'tarefas', 'de', 'processamento', 'de', 'linguagem', ',', 'há', 'também', 'uma', 'variação', 'considerável', 'em', 'suas', 'classificações', '.', 'é', 'por', 'isso', 'que', 'a', 'avaliação', 'automática', 'é', ',', 'por', 'vezes', ',', 'referida', 'como', 'avaliação', 'objetiva', 'enquanto', 'a', 'avaliação', 'humana', 'é', 'perspectiva', '.', '=', '=', 'padronização', '=', '=', 'um', 'subcomitê', 'iso', 'está', 'trabalhando', 'para', 'facilitar', 'a', 'interoperabilidade', 'entre', 'recursos', 'lexicais', 'e', 'programas', 'pln', '.', 'o', 'subcomitê', 'faz', 'parte', 'do', 'iso', '/', 'tc37', 'e', 'é', 'chamado', 'iso', '/', 'tc37', '/', 'sc4', '.', 'alguns', 'padrões', 'iso', 'já', 'estão', 'publicados', ',', 'mas', 'a', 'maioria', 'deles', 'está', 'em', 'construção', ',', 'principalmente', 'na', 'representação', 'de', 'léxico', '(', 'ver', 'lmf', ')', ',', 'anotação', 'e', 'registro', 'de', 'categoria', 'de', 'dados', '.', '=', '=', 'ferramentas', '=', '=', 'expert', 'system', 's', '.', 'p', '.', 'a', '.', 'general', 'architecture', 'for', 'text', 'engineering', 'modular', 'audio', 'recognition', 'framework', 'natural', 'language', 'toolkit', '(', 'nltk', ')', ':', 'uma', 'biblioteca', 'em', 'python', 'opennlp', '=', '=', 'veja', 'também', '=', '=', 'mineração', 'de', 'texto', 'biomédica', 'processo', 'de', 'processamento', 'composto', 'revisão', 'assistida', 'por', 'computador', 'linguagem', 'natural', 'controlada', 'processamento', 'linguístico', 'profundo', 'auxílio', 'à', 'leitura', 'de', 'línguas', 'estrangeiras', 'auxílio', 'à', 'escrita', 'em', 'língua', 'estrangeira', 'tecnologia', 'da', 'linguagem', 'a', 'alocação', 'de', 'dirichlet', 'latente', '(', 'lda', ')', 'indexação', 'semântica', 'latente', 'lista', 'de', 'ferramentas', 'de', 'processamento', 'de', 'língua', 'natural', 'mapa', 'de', 'lre', 'programação', 'em', 'língua', 'natural', 'reificação', '(', 'linguística', ')', 'dobradura', 'semântica', 'sistema', 'de', 'diálogo', 'falado', 'vetor', 'do', 'pensamento', 'pesquisa', 'transderivacional', 'word2vec', '=', '=', 'referências', '=', '=', '=', '=', 'leitura', 'adicional', '=', '=', 'steven', 'bird', ',', 'ewan', 'klein', ',', 'and', 'edward', 'loper', '(', '2009', ')', '.', 'natural', 'language', 'processing', 'with', 'python', '.', \"o'reilly\", 'media', '.', 'isbn', '978', '-', '0', '-', '596', '-', '51649', '-', '9', '.', 'daniel', 'jurafsky', 'and', 'james', 'h', '.', 'martin', '(', '2008', ')', '.', 'speech', 'and', 'language', 'processing', ',', '2nd', 'edition', '.', 'pearson', 'prentice', 'hall', '.', 'isbn', '978', '-', '0', '-', '13', '-', '187321', '-', '6', '.', 'christopher', 'd', '.', 'manning', ',', 'prabhakar', 'raghavan', ',', 'and', 'hinrich', 'schütze', '(', '2008', ')', '.', 'introduction', 'to', 'information', 'retrieval', '.', 'cambridge', 'university', 'press', '.', 'isbn', '978', '-', '0', '-', '521', '-', '86571', '-', '5', '.', 'official', 'html', 'and', 'pdf', 'versions', 'available', 'without', 'charge', '.', 'christopher', 'd', '.', 'manning', 'and', 'hinrich', 'schütze', '(', '1999', ')', '.', 'foundations', 'of', 'statistical', 'natural', 'language', 'processing', '.', 'the', 'mit', 'press', '.', 'isbn', '978', '-', '0', '-', '262', '-', '13360', '-', '9', '.', 'david', 'm', '.', 'w', '.', 'powers', 'and', 'christopher', 'c', '.', 'r', '.', 'turk', '(', '1989', ')', '.', 'machine', 'learning', 'of', 'natural', 'language', '.', 'springer', '-', 'verlag', '.', 'isbn', '978', '-', '0', '-', '387', '-', '19557', '-', '5', '.']\n"
          ],
          "name": "stdout"
        }
      ]
    },
    {
      "cell_type": "markdown",
      "metadata": {
        "id": "T_RynFQNE2WP"
      },
      "source": [
        " <b> <span style=\"color:red\"> Lembre de utilizar a VARIÁVEL que contém o resultado da transformação anterior.\n",
        "    Se você acompanhar o nome da variável que já está na célula não tem erro! :) </span> </b>"
      ]
    },
    {
      "cell_type": "markdown",
      "metadata": {
        "id": "1Raq0rzmE2WQ"
      },
      "source": [
        "## Remoção Stopwords\n",
        "\n",
        "remova todas as stopwords retornadas pelo pacote NLTK da lista de tokens.\n",
        "\n",
        "```python\n",
        "portugues_stops = stopwords.words('portuguese')\n",
        "```"
      ]
    },
    {
      "cell_type": "code",
      "metadata": {
        "id": "360Waq1HE2WQ"
      },
      "source": [
        "from nltk.corpus import stopwords"
      ],
      "execution_count": 122,
      "outputs": []
    },
    {
      "cell_type": "code",
      "metadata": {
        "id": "7xP3XVzhE2WU"
      },
      "source": [
        "portugues_stops = stopwords.words('portuguese')"
      ],
      "execution_count": 123,
      "outputs": []
    },
    {
      "cell_type": "code",
      "metadata": {
        "id": "LO6XRhYQE2WW",
        "outputId": "034934c1-caf3-49be-fb11-4e935196dbc8",
        "colab": {
          "base_uri": "https://localhost:8080/",
          "height": 53
        }
      },
      "source": [
        "#imprima as stopwords para você conhecer\n",
        "print(portugues_stops)"
      ],
      "execution_count": 124,
      "outputs": [
        {
          "output_type": "stream",
          "text": [
            "['de', 'a', 'o', 'que', 'e', 'é', 'do', 'da', 'em', 'um', 'para', 'com', 'não', 'uma', 'os', 'no', 'se', 'na', 'por', 'mais', 'as', 'dos', 'como', 'mas', 'ao', 'ele', 'das', 'à', 'seu', 'sua', 'ou', 'quando', 'muito', 'nos', 'já', 'eu', 'também', 'só', 'pelo', 'pela', 'até', 'isso', 'ela', 'entre', 'depois', 'sem', 'mesmo', 'aos', 'seus', 'quem', 'nas', 'me', 'esse', 'eles', 'você', 'essa', 'num', 'nem', 'suas', 'meu', 'às', 'minha', 'numa', 'pelos', 'elas', 'qual', 'nós', 'lhe', 'deles', 'essas', 'esses', 'pelas', 'este', 'dele', 'tu', 'te', 'vocês', 'vos', 'lhes', 'meus', 'minhas', 'teu', 'tua', 'teus', 'tuas', 'nosso', 'nossa', 'nossos', 'nossas', 'dela', 'delas', 'esta', 'estes', 'estas', 'aquele', 'aquela', 'aqueles', 'aquelas', 'isto', 'aquilo', 'estou', 'está', 'estamos', 'estão', 'estive', 'esteve', 'estivemos', 'estiveram', 'estava', 'estávamos', 'estavam', 'estivera', 'estivéramos', 'esteja', 'estejamos', 'estejam', 'estivesse', 'estivéssemos', 'estivessem', 'estiver', 'estivermos', 'estiverem', 'hei', 'há', 'havemos', 'hão', 'houve', 'houvemos', 'houveram', 'houvera', 'houvéramos', 'haja', 'hajamos', 'hajam', 'houvesse', 'houvéssemos', 'houvessem', 'houver', 'houvermos', 'houverem', 'houverei', 'houverá', 'houveremos', 'houverão', 'houveria', 'houveríamos', 'houveriam', 'sou', 'somos', 'são', 'era', 'éramos', 'eram', 'fui', 'foi', 'fomos', 'foram', 'fora', 'fôramos', 'seja', 'sejamos', 'sejam', 'fosse', 'fôssemos', 'fossem', 'for', 'formos', 'forem', 'serei', 'será', 'seremos', 'serão', 'seria', 'seríamos', 'seriam', 'tenho', 'tem', 'temos', 'tém', 'tinha', 'tínhamos', 'tinham', 'tive', 'teve', 'tivemos', 'tiveram', 'tivera', 'tivéramos', 'tenha', 'tenhamos', 'tenham', 'tivesse', 'tivéssemos', 'tivessem', 'tiver', 'tivermos', 'tiverem', 'terei', 'terá', 'teremos', 'terão', 'teria', 'teríamos', 'teriam']\n"
          ],
          "name": "stdout"
        }
      ]
    },
    {
      "cell_type": "code",
      "metadata": {
        "id": "qxkb0ECME2WZ"
      },
      "source": [
        "tokens_sem_stop = [t for t in tokens if t not in portugues_stops]"
      ],
      "execution_count": 125,
      "outputs": []
    },
    {
      "cell_type": "code",
      "metadata": {
        "id": "kVcdBzjLp53W",
        "outputId": "810b4170-6dab-47f7-add9-3548dd382a28",
        "colab": {
          "base_uri": "https://localhost:8080/",
          "height": 53
        }
      },
      "source": [
        "print(tokens_sem_stop)"
      ],
      "execution_count": 126,
      "outputs": [
        {
          "output_type": "stream",
          "text": [
            "['processamento', 'língua', 'natural', '(', 'pln', ')', 'subárea', 'ciência', 'computação', ',', 'inteligência', 'artificial', 'linguística', 'estuda', 'problemas', 'geração', 'compreensão', 'automática', 'línguas', 'humanas', 'naturais', '.', 'sistemas', 'geração', 'língua', 'natural', 'convertem', 'informação', 'bancos', 'dados', 'computadores', 'linguagem', 'compreensível', 'ser', 'humano', 'sistemas', 'compreensão', 'língua', 'natural', 'convertem', 'ocorrências', 'linguagem', 'humana', 'representações', 'formais', ',', 'facilmente', 'manipuláveis', 'programas', 'computador', '.', 'alguns', 'desafios', 'pln', 'compreensão', 'língua', 'natural', ',', 'fazer', 'computadores', 'extraiam', 'sentido', 'linguagem', 'humana', 'natural', 'geração', 'língua', 'natural', '.', '=', '=', 'história', '=', '=', 'história', 'pln', 'começou', 'década', '1950', ',', 'alan', 'turing', 'publicou', 'artigo', '\"', 'computing', 'machinery', 'and', 'intelligence', '\"', ',', 'propunha', 'agora', 'chamado', 'teste', 'turing', 'critério', 'inteligência', '.', '1954', ',', 'experiência', 'georgetown', 'envolveu', 'tradução', 'automática', 'sessenta', 'frases', 'russas', 'inglês', '.', 'autores', 'afirmaram', 'dentro', 'três', 'cinco', 'anos', 'tradução', 'automática', 'problema', 'resolvido', '.', 'entanto', ',', 'avanços', 'reais', 'lentos', 'previsto', ',', 'após', 'relatório', 'alpac', '1966', ',', 'constatou', 'pesquisa', 'dez', 'anos', 'conseguiu', 'satisfazer', 'expectativas', ',', 'financiamento', 'estudo', 'tradução', 'automática', 'reduzido', 'drasticamente', '.', 'poucas', 'pesquisas', 'tradução', 'automática', 'conduzidas', 'final', 'anos', '80', ',', 'primeiros', 'sistemas', 'estatísticos', 'tradução', 'desenvolvidos', '.', 'alguns', 'sistemas', 'pln', 'bem', 'sucedidos', 'desenvolvidos', 'anos', '60', 'shrdlu', ',', 'sistema', 'língua', 'natural', 'trabalhava', '\"', 'blocks', 'worlds', '\"', 'vocabulário', 'restrito', 'eliza', ',', 'simulação', 'psicoterapeuta', 'escrita', 'joseph', 'weizenbaum', '1964', '1966', '.', 'usando', 'pouca', 'informação', 'sobre', 'pensamento', 'emoção', 'humana', ',', 'eliza', 'criava', ',', 'alguns', 'casos', ',', 'interações', 'surpreendentemente', 'humanas', '.', '\"', 'paciente', '\"', 'excedia', 'base', 'conhecimento', 'programa', ',', 'eliza', 'fornecia', 'resposta', 'genérica', ',', 'exemplo', ',', 'respondendo', '\"', 'cabeça', 'dói', '\"', '\"', 'diz', 'cabeça', 'dói', '?', '\"', '.', 'durante', 'década', '1970', ',', 'muitos', 'programadores', 'começaram', 'escrever', '\"', 'ontologias', 'conceituais', '\"', ',', 'estruturaram', 'informação', 'mundo', 'real', 'dados', 'compreensíveis', 'computadores', '.', 'exemplos', 'margie', '(', 'schank', ',', '1975', ')', ',', 'sam', '(', 'cullingford', ',', '1978', ')', ',', 'pam', '(', 'wilensky', ',', '1978', ')', ',', 'talespin', '(', 'meehan', ',', '1976', ')', ',', 'qualm', '(', 'lehnert', ',', '1977', ')', ',', 'politics', '(', 'carbonell', ',', '1979', ')', 'plot', 'units', '(', 'lehnert', ',', '1981', ')', '.', 'neste', 'período', ',', 'muitos', 'chatterbots', 'escritos', ',', 'parry', ',', 'racter', 'jabberwacky', '.', 'década', '1980', ',', 'maioria', 'sistemas', 'pln', 'baseava', 'conjuntos', 'complexos', 'regras', 'manuscritas', '.', 'partir', 'final', 'anos', '1980', ',', 'entanto', ',', 'revolução', 'pln', 'introdução', 'algoritmos', 'aprendizagem', 'automática', '(', 'aprendizado', 'máquina', ')', 'processamento', 'linguagem', '.', 'devido', 'tanto', 'aumento', 'constante', 'poder', 'computacional', '(', 'ver', 'lei', 'moore', ')', 'quanto', 'diminuição', 'gradual', 'dominância', 'teorias', 'linguística', 'chomskyanas', '(', 'gramática', 'gerativa', ')', ',', 'cujos', 'fundamentos', 'teóricos', 'desestimularam', 'tipo', 'corpus', 'linguístico', 'subjacente', 'abordagem', 'aprendizagem', 'automática', 'processamento', 'linguagem', '.', 'alguns', 'algoritmos', 'aprendizado', 'máquinas', 'antigos', ',', 'árvores', 'decisão', ',', 'produziam', 'sistemas', 'regras', 'rígidas', 'então', 'semelhantes', 'regras', 'existentes', 'escritas', 'mão', '.', 'entanto', ',', 'marcação', 'partes', 'fala', '(', 'part', '-', 'of', '-', 'speech', 'tagging', ')', 'introduziu', 'uso', 'modelos', 'ocultos', 'markov', 'pln', ',', 'cada', 'vez', ',', 'pesquisa', 'concentrava', 'modelos', 'estatísticos', ',', 'tomam', 'decisões', 'suaves', 'probabilísticas', 'baseadas', 'atribuição', 'pesos', 'reais', 'recursos', 'compõem', 'dados', 'entrada', '.', 'modelos', 'linguagem', 'cache', ',', 'sobre', 'quais', 'muitos', 'sistemas', 'reconhecimento', 'fala', 'agora', 'dependem', ',', 'exemplos', 'tais', 'modelos', 'estatísticos', '.', 'modelos', 'geralmente', 'robustos', 'dados', 'informações', 'desconhecidas', ',', 'especialmente', 'entrada', 'contém', 'erros', '(', 'comum', 'dados', 'mundo', 'real', ')', 'produzem', 'resultados', 'confiáveis', 'integrados', 'sistemas', 'maiores', 'compreendem', 'múltiplas', 'tarefas', '.', 'muitos', 'sucessos', 'iniciais', 'notáveis', 'ocorreram', 'campo', 'tradução', 'automática', ',', 'devido', 'especialmente', 'trabalho', 'pesquisa', 'ibm', ',', 'desenvolveu', 'modelos', 'estatísticos', 'elaborados', '.', 'sistemas', 'capazes', 'tirar', 'proveito', 'corpora', 'textuais', 'multilíngues', 'existentes', 'produzidos', 'parlamento', 'canadá', 'união', 'europeia', 'resultado', 'leis', 'exigem', 'tradução', 'todos', 'processos', 'governamentais', 'todas', 'línguas', 'oficiais', 'países', '.', 'entanto', ',', 'maioria', 'sistemas', 'dependia', 'corpora', 'desenvolvido', 'especificamente', 'tarefas', 'implementadas', 'sistemas', ',', '(', 'muitas', 'vezes', 'continua', 'sendo', ')', 'grande', 'limitação', 'sucesso', '.', 'resultado', ',', 'grande', 'quantidade', 'pesquisa', 'passou', 'quantidades', 'dados', 'limitadas', 'métodos', 'aprendizagem', 'eficazes', '.', 'pesquisas', 'recentes', 'têm', 'concentrado', 'cada', 'vez', 'algoritmos', 'aprendizagem', 'semi', '-', 'supervisionados', 'supervisão', '.', 'algoritmos', 'capazes', 'aprender', 'dados', 'anotados', 'manualmente', 'respostas', 'desejadas', 'usando', 'combinação', 'dados', 'anotados', 'anotados', '.', 'geralmente', ',', 'tarefa', 'trabalhosa', 'aprendizagem', 'supervisionada', 'normalmente', 'produz', 'resultados', 'menos', 'precisos', 'quantidade', 'específica', 'dados', 'entrada', '.', 'entanto', ',', 'enorme', 'quantidade', 'dados', 'anotados', 'disponíveis', '(', 'incluindo', ',', 'outras', 'coisas', ',', 'todo', 'conteúdo', 'world', 'wide', 'web', ')', ',', 'muitas', 'vezes', 'pode', 'compensar', 'resultados', 'inferiores', '.', '=', '=', 'usando', 'aprendizagem', 'automática', '(', 'aprendizado', 'máquina', ')', '=', '=', 'algoritmos', 'modernos', 'pln', 'baseiam', '-', 'aprendizagem', 'mecânica', ',', 'especialmente', 'aprendizagem', 'máquinas', 'estatísticas', '.', 'paradigma', 'aprendizagem', 'mecânica', 'diferente', 'maioria', 'tentativas', 'anteriores', 'processamento', 'linguagem', '.', 'anteriormente', ',', 'implementações', 'tarefas', 'processamento', 'linguagem', 'envolviam', 'codificação', 'direta', 'grandes', 'conjuntos', 'regras', '.', 'paradigma', 'aprendizagem', 'automática', '(', 'aprendizagem', 'automática', ')', 'induz', 'aprendizagem', 'automática', 'regras', 'através', 'análises', 'corpora', 'exemplos', 'típicos', 'mundo', 'real', 'invés', 'usar', 'algoritmos', 'gerais', 'aprendizagem', '(', 'muitas', 'vezes', ',', 'embora', 'sempre', ',', 'baseados', 'inferência', 'estatística', ')', '.', 'corpus', '(', 'plural', '\"', 'corpora', '\"', ')', 'conjunto', 'documentos', '(', 'frases', 'individuais', ')', 'anotados', 'mão', 'valores', 'corretos', 'serem', 'aprendidos', '.', 'muitas', 'classes', 'diferentes', 'algoritmos', 'aprendizado', 'máquina', 'aplicadas', 'tarefas', 'pln', '.', 'algoritmos', 'tomam', 'entrada', 'grande', 'conjunto', '\"', 'recursos', '\"', 'gerados', 'partir', 'dados', 'entrada', '.', 'alguns', 'algoritmos', 'usados', ',', 'árvores', 'decisão', ',', 'produziam', 'sistemas', 'regras', 'rígidas', 'semelhantes', 'sistemas', 'regras', 'manuscritas', 'comuns', '.', 'entanto', ',', 'cada', 'vez', ',', 'pesquisa', 'concentrado', 'modelos', 'estatísticos', ',', 'tomam', 'decisões', 'flexíveis', 'probabilísticas', 'baseadas', 'agregar', 'pesos', 'reais', 'cada', 'característica', 'entrada', '.', 'tais', 'modelos', 'têm', 'vantagem', 'poder', 'expressar', 'certeza', 'relativa', 'muitas', 'respostas', 'possíveis', 'diferentes', 'vez', 'apenas', ',', 'produzindo', 'resultados', 'confiáveis', 'modelo', 'incluído', 'componente', 'sistema', 'maior', '.', 'sistemas', 'baseados', 'algoritmos', 'aprendizagem', 'mecânica', 'têm', 'muitas', 'vantagens', 'relação', 'regras', 'produzidas', 'manualmente', ':', 'procedimentos', 'aprendizagem', 'usados', 'durante', 'aprendizagem', 'máquina', 'focam', '-', 'automaticamente', 'casos', 'comuns', ',', 'passo', 'escrevem', 'regras', 'mão', ',', 'óbvio', 'sentido', 'esforço', 'deve', 'ser', 'dirigido', '.', 'procedimentos', 'aprendizagem', 'automática', 'podem', 'fazer', 'uso', 'algoritmos', 'inferência', 'estatística', 'produzir', 'modelos', 'robustos', 'entradas', 'familiares', '(', 'exemplo', ',', 'contendo', 'palavras', 'estruturas', 'vistas', 'antes', ')', 'entradas', 'errôneas', '(', 'exemplo', ',', 'palavras', 'palavras', 'incorretamente', 'omitidas', ')', '.', 'geralmente', ',', 'lidar', 'entradas', 'forma', 'regras', 'manuscritas', 'sistemas', 'regras', 'manuscritas', 'tomam', 'decisões', 'suaves', 'extremamente', 'trabalhoso', ',', 'propenso', 'erros', 'demorado', '.', 'sistemas', 'baseados', 'aprender', 'automaticamente', 'regras', 'podem', 'ser', 'precisos', 'simplesmente', 'fornecendo', 'dados', 'entrada', '.', 'entanto', ',', 'sistemas', 'baseados', 'regras', 'escritas', 'mão', 'podem', 'ser', 'tornados', 'precisos', 'aumentando', 'complexidade', 'regras', ',', 'tarefa', 'difícil', '.', 'particular', ',', 'limite', 'complexidade', 'sistemas', 'baseados', 'regras', 'artesanais', ',', 'além', 'quais', 'sistemas', 'tornam', 'cada', 'vez', 'incontroláveis', '.', 'entanto', ',', 'criação', 'dados', 'entrada', 'sistemas', 'aprendizado', 'máquina', 'requer', 'simplesmente', 'aumento', 'correspondente', 'número', 'horas', 'trabalhadas', 'humanos', ',', 'geralmente', 'aumentos', 'significativos', 'complexidade', 'processo', 'anotação', '.', 'subcampo', 'pln', 'dedicado', 'abordagens', 'aprendizagem', 'conhecido', 'aprendizagem', 'língua', 'natural', '(', 'nll', ')', 'conferência', ',', 'conll', ',', 'orgão', 'central', ',', 'signll', ',', 'patrocinados', 'acl', ',', 'reconhecendo', 'ligações', 'linguística', 'computacional', 'aquisição', 'linguagem', '.', 'objetivo', 'pesquisa', 'aprendizagem', 'linguagem', 'computacional', 'entender', 'sobre', 'aquisição', 'linguagem', 'humana', ',', 'psicolinguística', ',', 'nll', 'sobrepõe', '-', 'campo', 'relacionado', 'psicolinguística', 'computacional', '.', '=', '=', 'aplicações', 'principais', '=', '=', 'listagem', 'seguir', 'traz', 'alguns', 'trabalhos', 'pesquisadas', 'pln', '.', 'note', 'alguns', 'têm', 'aplicações', 'mundo', 'real', ',', 'enquanto', 'outras', 'servem', 'frequentemente', 'tarefas', 'secundárias', 'usadas', 'auxiliar', 'resolução', 'tarefas', 'maiores', '.', 'distingue', 'tarefas', 'outras', 'tarefas', 'potenciais', 'reais', 'pln', 'apenas', 'volume', 'pesquisa', 'dedicado', ',', 'fato', 'cada', 'tipicamente', 'definição', 'problema', 'bem', 'especificada', ',', 'métrica', 'padrão', 'avaliar', 'tarefa', ',', 'corpora', 'padrão', 'tarefa', 'pode', 'ser', 'avaliada', 'competições', 'dedicadas', 'tarefa', 'específica', '.', 'sumarização', 'automática', 'produz', 'resumo', 'legível', 'parte', 'texto', '.', 'muitas', 'vezes', 'usado', 'fornecer', 'resumos', 'texto', 'tipo', 'conhecido', ',', 'artigos', 'seção', 'financeira', 'jornal', '.', 'resolução', 'correferência', 'dada', 'frase', 'pedaço', 'maior', 'texto', ',', 'determina', 'quais', 'palavras', '(', '\"', 'menções', '\"', ')', 'referem', 'mesmos', 'objetos', '(', '\"', 'entidades', '\"', ')', '.', 'resolução', 'anáfora', 'exemplo', 'específico', 'dessa', 'tarefa', 'especificamente', 'preocupada', 'combinar', 'pronomes', 'substantivos', 'nomes', 'quais', 'referem', '.', 'tarefa', 'geral', 'resolução', 'correferência', 'inclui', 'identificação', 'chamados', '\"', 'relacionamentos', 'ponte', '\"', 'envolvendo', 'expressões', 'referência', '.', 'exemplo', ',', 'frase', '\"', 'entrou', 'casa', 'joão', 'porta', 'frente', '\"', ',', '\"', 'porta', 'frente', '\"', 'expressão', 'referência', 'relação', 'ponte', 'ser', 'identificada', 'fato', 'porta', 'ser', 'referida', 'porta', 'frente', \"john's\", '(', 'invés', 'alguma', 'outra', 'estrutura', 'pode', 'ser', 'referida', ')', '.', 'análise', 'discurso', 'rubrica', 'inclui', 'série', 'tarefas', 'relacionadas', '.', 'tarefa', 'identificar', 'estrutura', 'discursiva', 'texto', 'conectado', ',', ',', 'natureza', 'relações', 'discursivas', 'sentenças', '(', 'exemplo', ',', 'elaboração', ',', 'explicação', ',', 'contraste', ')', '.', 'outra', 'possível', 'tarefa', 'reconhecer', 'classificar', 'atos', 'fala', 'pedaço', 'texto', '(', 'exemplo', ',', 'pergunta', 'sim', '-', ',', 'pergunta', 'conteúdo', ',', 'frase', ',', 'afirmação', ',', 'etc', ')', '.', 'maquina', 'tradução', 'traduzir', 'automaticamente', 'texto', 'linguagem', 'humana', 'outra', '.', 'tarefas', 'difíceis', 'faz', 'parte', 'tipo', 'problemas', 'conhecidos', '\"', 'ai', '-', 'complete', '\"', ',', ',', 'exigindo', 'todos', 'diferentes', 'tipos', 'conhecimento', 'humanos', 'possuem', '(', 'gramática', ',', 'semântica', ',', 'fatos', 'sobre', 'mundo', 'real', ',', 'etc', ')', 'resolvê', '-', 'lo', 'adequadamente', '.', 'segmentação', 'morfológica', 'separa', 'palavras', 'morfemas', 'individuais', 'identifica', 'classes', 'morfemas', '.', 'dificuldade', 'desta', 'tarefa', 'depende', 'complexidade', 'morfologia', '(', ',', 'estrutura', 'palavras', ')', 'linguagem', 'sendo', 'considerada', '.', 'inglês', 'possui', 'morfologia', 'bastante', 'simples', ',', 'especialmente', 'morfologia', 'flexional', ',', 'portanto', 'possível', 'ignorar', 'tarefa', 'inteiramente', 'simplesmente', 'modelar', 'todas', 'formas', 'possíveis', 'palavra', '(', 'exemplo', ',', '\"', 'open', ',', 'opens', ',', 'opened', ',', 'opening', '\"', ')', 'palavras', 'separadas', '.', 'línguas', 'turco', 'meitei', ',', 'língua', 'indiana', 'fortemente', 'aglutinada', ',', 'entanto', ',', 'tal', 'abordagem', 'possível', ',', 'vez', 'cada', 'entrada', 'dicionário', 'milhares', 'formas', 'palavras', 'possíveis', '.', 'reconhecimento', 'entidade', 'nomeada', '(', 'ner', ')', 'dado', 'fluxo', 'texto', ',', 'determina', 'quais', 'itens', 'mapa', 'texto', 'nomes', 'próprios', ',', 'pessoas', 'locais', 'tipo', 'cada', 'nome', '(', 'exemplo', ',', 'pessoa', ',', 'local', ',', 'organização', ')', '.', 'embora', 'capitalização', 'possa', 'ajudar', 'reconhecer', 'entidades', 'nomeadas', 'idiomas', 'inglês', ',', 'informações', 'podem', 'ajudar', 'determinar', 'tipo', 'entidade', 'nomeada', ',', 'alguns', 'casos', ',', 'sãos', 'imprecisas', 'insuficientes', '.', 'exemplo', ',', 'primeira', 'palavra', 'frase', 'capitalizada', 'entidades', 'nomeadas', 'muitas', 'vezes', 'abrangem', 'várias', 'palavras', ',', 'apenas', 'algumas', 'capitalizadas', '.', 'além', 'disso', ',', 'muitas', 'outras', 'linguagens', 'scripts', '-', 'ocidentais', '(', 'exemplo', ',', 'chinês', 'árabe', ')', 'têm', 'nenhuma', 'capitalização', 'línguas', 'maiúsculas', 'podem', 'distinguir', 'nomes', '.', 'exemplo', ',', 'alemão', 'capitaliza', 'todos', 'substantivos', ',', 'independentemente', 'referirem', 'nomes', ',', 'francês', 'espanhol', 'capitalizam', 'nomes', 'servem', 'adjetivos', '.', 'geração', 'língua', 'natural', 'converte', 'informações', 'bancos', 'dados', 'computador', 'intenções', 'semânticas', 'linguagem', 'humana', 'legível', '.', 'compreensão', 'língua', 'natural', 'converte', 'pedaços', 'texto', 'representações', 'formais', ',', 'estruturas', 'lógica', 'primeira', 'ordem', ',', 'fáceis', 'manipular', 'programas', 'computador', '.', 'compreensão', 'língua', 'natural', 'envolve', 'identificação', 'semântica', 'pretendida', 'partir', 'múltipla', 'semântica', 'possível', 'pode', 'ser', 'derivada', 'expressão', 'língua', 'natural', 'geralmente', 'toma', 'forma', 'notação', 'organizada', 'conceitos', 'linguagens', 'naturais', '.', 'entretanto', ',', 'introdução', 'criação', 'linguagem', 'metamodelo', 'ontologia', 'eficientes', 'soluções', 'empíricas', '.', 'formalização', 'explícita', 'semântica', 'línguas', 'naturais', 'confusões', 'suposições', 'implícitas', 'closed', '-', 'world', 'assumption', '(', 'cwa', ')', 'versus', 'open', '-', 'world', 'assumption', 'subjetiva', 'sim', '/', 'versus', 'objetivo', 'verdadeiro', '/', 'falso', 'esperada', 'construção', 'base', 'formalização', 'semântica', '.', 'reconhecimento', 'óptico', 'caracteres', '(', 'ocr', ')', 'dada', 'imagem', 'representa', 'texto', 'impresso', ',', 'determina', 'texto', 'correspondente', '.', 'marcação', 'classe', 'gramatical', 'dada', 'sentença', ',', 'determina', 'classe', 'gramatical', 'cada', 'palavra', '.', 'muitas', 'palavras', ',', 'especialmente', 'comuns', ',', 'podem', 'servir', 'múltiplas', 'partes', 'discurso', '.', 'inglês', ',', 'exemplo', ',', '\"', 'book', '\"', 'pode', 'ser', 'substantivo', '(', '\"', 'the', 'book', 'on', 'the', 'table', '\"', ')', 'verbo', '(', '\"', 'book', 'flight', '\"', ')', ';', '\"', 'set', '\"', 'pode', 'ser', 'substantivo', ',', 'verbo', 'adjetivo', ';', '\"', 'out', '\"', 'pode', 'ser', 'qualquer', 'menos', 'cinco', 'diferentes', 'partes', 'fala', '.', 'algumas', 'línguas', 'têm', 'ambiguidade', 'outras', '.', 'línguas', 'pouca', 'morfologia', 'flexional', ',', 'inglês', ',', 'particularmente', 'propensas', 'tal', 'ambiguidade', '.', 'chinês', 'propenso', 'tal', 'ambiguidade', 'porque', 'língua', 'tonal', 'durante', 'verbalização', '.', 'tal', 'inflexão', 'facilmente', 'transmitida', 'através', 'entidades', 'empregadas', 'dentro', 'ortografia', 'transmitir', 'significado', 'pretendido', '.', 'análise', 'sintática', '(', 'parsing', ')', 'determina', 'árvore', 'análise', '(', 'análise', 'gramatical', ')', 'frase', '.', 'gramática', 'linguagens', 'naturais', 'ambígua', 'frases', 'típicas', 'têm', 'múltiplas', 'análises', 'possíveis', '.', 'verdade', ',', 'surpreendentemente', ',', 'frase', 'típica', 'pode', 'haver', 'milhares', 'análises', 'potencial', '(', 'maioria', 'quais', 'parecerá', 'completamente', 'absurda', 'ser', 'humano', ')', '.', 'respostas', 'perguntas', 'dada', 'questão', 'linguagem', 'humana', ',', 'determina', 'resposta', '.', 'perguntas', 'típicas', 'têm', 'resposta', 'correta', 'específica', '(', '\"', 'capital', 'canadá', '?', '\"', ')', ',', 'vezes', 'perguntas', 'abertas', 'consideradas', '(', '\"', 'significado', 'vida', '?', '\"', ')', '.', 'trabalhos', 'recentes', 'têm', 'analisado', 'questões', 'ainda', 'complexas', '.', 'extração', 'relacionamento', 'identifica', 'relações', 'entidades', 'nomeadas', '(', 'exemplo', ',', 'casado', ')', 'base', 'textos', '.', 'quebra', 'frases', '(', 'sentence', 'boundary', 'disambiguation', ')', 'encontra', 'limites', 'frase', 'pedaço', 'texto', '.', 'limites', 'frases', 'normalmente', 'marcadas', 'pontos', 'outros', 'sinais', 'pontuação', ',', 'mesmos', 'caracteres', 'podem', 'servir', 'outros', 'propósitos', '.', 'análise', 'subjetividade', '(', 'sentiment', 'analysis', 'opinion', 'mining', ')', 'extrai', 'informações', 'subjetivas', 'geralmente', 'conjunto', 'documentos', ',', 'muitas', 'vezes', 'usando', 'revisões', 'online', 'determinar', '\"', 'polaridade', '\"', 'sobre', 'objetos', 'específicos', '.', 'especialmente', 'útil', 'identificar', 'tendências', 'opinião', 'pública', 'mídias', 'sociais', ',', 'fins', 'marketing', '.', 'reconhecimento', 'fala', 'dado', 'clipe', 'som', 'pessoa', 'pessoas', 'falando', ',', 'determina', 'representação', 'textual', 'discurso', '.', 'oposto', 'síntese', 'fala', 'áreas', 'difíceis', ',', 'conhecida', '\"', 'ai', '-', 'complete', '\"', '.', 'fala', 'natural', 'quase', 'pausas', 'palavras', 'sucessivas', ',', 'segmentação', 'fala', 'subtarefa', 'necessária', 'reconhecimento', 'fala', '.', 'nota', '-', ',', 'maioria', 'linguagens', 'faladas', ',', 'sons', 'representam', 'letras', 'sucessivas', 'misturam', 'si', 'processo', 'denominado', 'coarticulação', ',', 'modo', 'conversão', 'sinal', 'analógico', 'caracteres', 'discretos', 'pode', 'ser', 'processo', 'difícil', 'ser', 'realizado', '.', 'segmentação', 'fala', 'dado', 'clipe', 'som', 'pessoa', 'pessoas', 'falando', ',', 'separa', '-', 'palavras', '.', 'subaplicação', 'reconhecimento', 'fala', 'normalmente', 'agrupada', '.', 'análise', 'morfológica', 'reconhecimento', 'tópicos', 'dado', 'pedaço', 'texto', ',', 'separa', '-', 'segmentos', 'cada', 'quais', 'dedicado', 'tópico', 'identifica', 'tópico', 'segmento', '.', 'análise', 'morfológica', 'segmentação', 'palavras', 'separa', 'pedaço', 'texto', 'contínuo', 'palavras', 'separadas', '.', 'língua', 'inglês', ',', 'bastante', 'trivial', ',', 'vez', 'palavras', 'normalmente', 'separadas', 'espaços', '.', 'entanto', ',', 'algumas', 'línguas', 'escritas', 'chinês', ',', 'japonês', 'tailandês', 'marcam', 'limites', 'palavras', 'tal', 'forma', ',', 'nessas', 'línguas', 'segmentação', 'texto', 'tarefa', 'significativa', 'requer', 'conhecimento', 'vocabulário', 'morfologia', 'palavras', 'língua', '.', 'desambiguação', 'muitas', 'palavras', 'têm', 'significado', ',', 'assim', 'selecionar', 'significado', 'faz', 'sentido', 'contexto', '.', 'problema', ',', 'geral', 'dada', 'lista', 'palavras', 'sentidos', 'palavras', 'associadas', 'dicionário', 'recurso', 'online', ',', 'wordnet', '.', 'alguns', 'casos', ',', 'conjuntos', 'tarefas', 'relacionadas', 'agrupados', 'subcampos', 'pln', 'frequentemente', 'considerados', 'separadamente', 'pln', 'todo', ',', 'exemplos', 'seguir', ':', 'recuperação', 'informação', '(', 'ir', ')', 'trata', '-', 'armazenar', ',', 'pesquisar', 'recuperar', 'informações', '.', 'campo', 'separado', 'dentro', 'ciência', 'computação', '(', 'perto', 'bancos', 'dados', ')', ',', 'ir', 'baseia', 'alguns', 'métodos', 'pln', '(', 'exemplo', ',', 'stemming', ')', '.', 'algumas', 'pesquisas', 'aplicações', 'atuais', 'procuram', 'preencher', 'lacuna', 'ir', 'pln', '.', 'extração', 'informação', '(', 'ie', ')', 'trata', '-', ',', 'geral', ',', 'extração', 'informação', 'semântica', 'partir', 'texto', '.', 'abrange', 'tarefas', 'reconhecimento', 'entidade', 'mencionada', ',', 'resolução', 'correferência', 'relacionamento', 'extração', ',', 'etc', '.', 'processamento', 'voz', 'abrange', 'reconhecimento', 'fala', ',', 'síntese', 'fala', 'tarefas', 'relacionadas', '.', 'outras', 'tarefas', 'incluem', ':', 'identificação', 'língua', 'materna', 'stemização', 'simplificação', 'texto', 'síntese', 'fala', 'revisão', 'texto', 'pesquisa', 'língua', 'natural', 'expansão', 'consulta', 'pontuação', 'ensaio', 'automatizado', 'truecasing', '=', '=', 'estatística', '=', '=', 'artigo', 'principal', ':', 'gramática', 'estocástica', 'processamento', 'estatístico', 'língua', 'natural', 'utiliza', 'métodos', 'estocásticos', ',', 'probabilísticos', 'estatísticos', 'resolver', 'algumas', 'dificuldades', 'discutidas', 'acima', ',', 'especialmente', 'surgem', 'porque', 'frases', 'longas', 'ambíguas', 'processadas', 'gramáticas', 'realistas', ',', 'produzindo', 'milhares', 'milhões', 'análises', 'possíveis', '.', 'métodos', 'desambiguação', 'envolvem', 'muitas', 'vezes', 'uso', 'corpora', 'modelos', 'markov', '.', 'projeto', 'esprit', 'p26', '(', '1984', '-', '1988', ')', ',', 'liderado', 'cselt', ',', 'explorou', 'problema', 'reconhecimento', 'fala', 'comparando', 'abordagem', 'baseada', 'conhecimento', 'estatística', ':', 'resultado', 'escolhido', 'modelo', 'completamente', 'estatístico', '.', 'primeiros', 'modelos', 'compreensão', 'estatística', 'língua', 'natural', 'introduzido', '1991', 'roberto', 'pieraccini', ',', 'esther', 'levin', 'chin', '-', 'hui', 'lee', ',', 'bell', 'laboratories', ']', '.', 'pln', 'compreende', 'todas', 'abordagens', 'quantitativas', 'processamento', 'automatizado', 'linguagem', ',', 'incluindo', 'modelagem', 'probabilística', ',', 'teoria', 'informação', 'álgebra', 'linear', '.', 'tecnologia', 'pln', 'estatístico', 'vem', 'principalmente', 'aprendizagem', 'automática', 'mineração', 'dados', ',', 'campos', 'inteligência', 'artificial', 'envolvem', 'aprendizado', 'partir', 'dados', '.', '=', '=', 'avaliação', '=', '=', 'objetivo', 'avaliação', 'pln', 'medida', 'qualidades', 'algoritmo', 'sistema', 'fim', 'determinar', 'algoritmo', 'atende', 'metas', 'projetistas', 'sistema', 'atendimento', 'necessidades', 'usuários', '.', 'investigação', 'avaliação', 'pln', 'ganhado', 'atenção', ',', 'porque', 'definição', 'critérios', 'avaliação', 'forma', 'especificar', 'precisamente', 'problemas', 'pln', '.', 'métrica', 'avaliação', 'pln', 'sistema', 'algorítmico', 'permite', 'integração', 'compreensão', 'linguagem', 'geração', 'linguagem', '.', 'conjunto', 'preciso', 'critérios', 'avaliação', ',', 'pode', 'ser', 'aplicado', 'principalmente', 'avaliações', 'métricas', ',', 'podendo', 'permitir', 'várias', 'equipes', 'comparem', 'soluções', 'determinado', 'problema', 'pln', '.', '=', '=', 'cronologia', 'avaliação', '=', '=', '1983', ',', 'iniciou', '-', 'projecto', 'esprit', 'p26', ',', 'avaliou', 'tecnologias', 'fala', '(', 'incluindo', 'tópicos', 'gerais', 'sintaxe', 'semântica', ')', 'comparando', 'abordagens', 'baseadas', 'regras', 'estatísticas', '.', '1987', ',', 'primeira', 'campanha', 'avaliação', 'textos', 'escritos', 'parece', 'ser', 'campanha', 'dedicada', 'compreensão', 'mensagem', '(', 'pallet', ',', '1998', ')', '.', 'projeto', 'parseval', '/', 'geig', 'comparou', 'gramáticas', 'frase', '-', 'estrutura', '(', 'black', '1991', ')', '.', 'série', 'campanhas', 'projeto', 'tipster', 'sobre', 'tarefas', 'resumo', ',', 'tradução', 'pesquisa', '(', 'hirschman', '1998', ')', '.', '1994', ',', 'alemanha', ',', 'morpholympics', 'comparou', 'marcadores', 'morfológicos', 'alemães', '.', 'campanhas', 'senseval', '&', 'romanseval', 'realizadas', 'objetivos', 'desambiguação', 'semântica', '.', '1996', ',', 'campanha', 'sparkle', 'comparou', 'analisadores', 'sintáticos', 'quatro', 'idiomas', 'diferentes', '(', 'inglês', ',', 'francês', ',', 'alemão', 'italiano', ')', '.', 'frança', ',', 'projeto', 'grace', 'comparou', 'conjunto', '21', 'marcadores', 'francês', '1997', '(', 'adda', '1999', ')', '.', '2004', ',', 'durante', 'projeto', 'technolangue', '/', 'easy', ',', 'comparados', '13', 'analisadores', 'francês', '.', 'avaliação', 'larga', 'escala', 'analisadores', 'dependência', 'realizada', 'contexto', 'tarefas', 'compartilhadas', 'conll', '2006', '2007', '.', 'frança', ',', 'âmbito', 'projecto', 'anr', '-', 'passage', '(', 'final', '2007', ')', ',', 'comparados', '10', 'analisadores', 'francês', '.', 'itália', ',', 'campanha', 'evalita', 'realizada', '2007', ',', '2009', ',', '2011', '2014', 'comparar', 'várias', 'ferramentas', 'pln', 'voz', 'site', 'italiano', '-', 'evalita', '.', '=', '=', 'diferentes', 'tipos', 'avaliação', '=', '=', 'avaliação', 'intrínseca', 'vs', '.', 'extrínseca', 'avaliação', 'intrínseca', 'considera', 'sistema', 'pnl', 'isolado', 'caracteriza', 'desempenho', 'relação', 'resultado', 'padrão', '-', 'excelência', ',', 'conforme', 'definido', 'avaliadores', '.', 'avaliação', 'extrínseca', ',', 'chamada', 'avaliação', 'uso', ',', 'considera', 'sistema', 'pln', 'cenário', 'complexo', 'sistema', 'embutido', 'função', 'precisa', 'usuário', 'humano', '.', 'desempenho', 'extrínseco', 'sistema', 'então', 'caracterizado', 'termos', 'utilidade', 'relação', 'tarefa', 'global', 'sistema', 'estranho', 'utilizador', 'humano', '.', 'exemplo', ',', 'considere', 'analisador', 'sintático', 'baseado', 'saída', 'alguma', 'parte', 'tagger', 'fala', '(', 'pos', ')', '.', 'avaliação', 'intrínseca', 'executaria', 'marcador', 'pos', 'dados', 'estruturados', 'compararia', 'saída', 'sistema', 'marcador', 'pos', 'saída', 'padrão', 'ouro', '.', 'avaliação', 'extrínseca', 'executaria', 'analisador', 'algum', 'outro', 'marcador', 'pos', ',', 'seguida', ',', 'marcador', 'pos', 'novo', 'compara', 'precisão', 'análise', '.', 'caixa', 'preta', 'vs', '.', 'avaliação', 'caixa', 'vidro', 'avaliação', 'caixa', 'preta', 'requer', 'alguém', 'execute', 'sistema', 'pln', 'conjunto', 'dados', 'amostra', 'medir', 'série', 'parâmetros', 'relacionados', 'qualidade', 'processo', ',', 'velocidade', ',', 'confiabilidade', ',', 'consumo', 'recursos', ',', 'principalmente', ',', 'qualidade', 'resultado', ',', 'precisão', 'anotação', 'dados', 'fidelidade', 'tradução', '.', 'avaliação', 'caixa', 'vidro', 'examina', 'concepção', 'sistema', ';', 'algoritmos', 'implementados', ',', 'recursos', 'linguísticos', 'utiliza', ',', 'tamanho', 'vocabulário', 'expressão', 'definida', 'cardinalidade', '.', 'dada', 'complexidade', 'problemas', 'pln', ',', 'muitas', 'vezes', 'difícil', 'prever', 'desempenho', 'apenas', 'base', 'avaliação', 'caixa', 'vidro', ';', 'tipo', 'avaliação', 'informativo', 'diz', 'respeito', 'análise', 'erros', 'desenvolvimentos', 'futuros', 'sistema', '.', 'automática', 'vs', '.', 'avaliação', 'manual', 'muitos', 'casos', ',', 'procedimentos', 'automáticos', 'podem', 'ser', 'definidos', 'avaliar', 'sistema', 'pln', ',', 'comparando', 'saída', 'padrão', 'excelência', '.', 'embora', 'custo', 'reproduzir', 'padrão', 'excelência', 'possa', 'ser', 'bastante', 'elevado', ',', 'avaliação', 'automática', 'bootstrapping', 'sobre', 'mesmos', 'dados', 'entrada', 'pode', 'ser', 'repetida', 'quantas', 'vezes', 'necessário', 'custos', 'adicionais', 'desordenados', '.', 'entanto', ',', 'muitos', 'problemas', 'pln', 'definição', 'precisa', 'padrão', 'excelência', 'tarefa', 'complexa', 'pode', 'revelar', 'impossível', 'acordo', 'inter', '-', 'anotador', 'insuficiente', '.', 'avaliação', 'manual', 'melhor', 'realizada', 'juízes', 'humanos', 'instruídos', 'estimar', 'qualidade', 'sistema', ',', 'frequentemente', 'amostra', 'produção', ',', 'base', 'série', 'critérios', '.', 'embora', ',', 'graças', 'competência', 'linguística', ',', 'juízes', 'humanos', 'possam', 'ser', 'considerados', 'referência', 'série', 'tarefas', 'processamento', 'linguagem', ',', 'variação', 'considerável', 'classificações', '.', 'avaliação', 'automática', ',', 'vezes', ',', 'referida', 'avaliação', 'objetiva', 'enquanto', 'avaliação', 'humana', 'perspectiva', '.', '=', '=', 'padronização', '=', '=', 'subcomitê', 'iso', 'trabalhando', 'facilitar', 'interoperabilidade', 'recursos', 'lexicais', 'programas', 'pln', '.', 'subcomitê', 'faz', 'parte', 'iso', '/', 'tc37', 'chamado', 'iso', '/', 'tc37', '/', 'sc4', '.', 'alguns', 'padrões', 'iso', 'publicados', ',', 'maioria', 'construção', ',', 'principalmente', 'representação', 'léxico', '(', 'ver', 'lmf', ')', ',', 'anotação', 'registro', 'categoria', 'dados', '.', '=', '=', 'ferramentas', '=', '=', 'expert', 'system', 's', '.', 'p', '.', '.', 'general', 'architecture', 'text', 'engineering', 'modular', 'audio', 'recognition', 'framework', 'natural', 'language', 'toolkit', '(', 'nltk', ')', ':', 'biblioteca', 'python', 'opennlp', '=', '=', 'veja', '=', '=', 'mineração', 'texto', 'biomédica', 'processo', 'processamento', 'composto', 'revisão', 'assistida', 'computador', 'linguagem', 'natural', 'controlada', 'processamento', 'linguístico', 'profundo', 'auxílio', 'leitura', 'línguas', 'estrangeiras', 'auxílio', 'escrita', 'língua', 'estrangeira', 'tecnologia', 'linguagem', 'alocação', 'dirichlet', 'latente', '(', 'lda', ')', 'indexação', 'semântica', 'latente', 'lista', 'ferramentas', 'processamento', 'língua', 'natural', 'mapa', 'lre', 'programação', 'língua', 'natural', 'reificação', '(', 'linguística', ')', 'dobradura', 'semântica', 'sistema', 'diálogo', 'falado', 'vetor', 'pensamento', 'pesquisa', 'transderivacional', 'word2vec', '=', '=', 'referências', '=', '=', '=', '=', 'leitura', 'adicional', '=', '=', 'steven', 'bird', ',', 'ewan', 'klein', ',', 'and', 'edward', 'loper', '(', '2009', ')', '.', 'natural', 'language', 'processing', 'with', 'python', '.', \"o'reilly\", 'media', '.', 'isbn', '978', '-', '0', '-', '596', '-', '51649', '-', '9', '.', 'daniel', 'jurafsky', 'and', 'james', 'h', '.', 'martin', '(', '2008', ')', '.', 'speech', 'and', 'language', 'processing', ',', '2nd', 'edition', '.', 'pearson', 'prentice', 'hall', '.', 'isbn', '978', '-', '0', '-', '13', '-', '187321', '-', '6', '.', 'christopher', 'd', '.', 'manning', ',', 'prabhakar', 'raghavan', ',', 'and', 'hinrich', 'schütze', '(', '2008', ')', '.', 'introduction', 'to', 'information', 'retrieval', '.', 'cambridge', 'university', 'press', '.', 'isbn', '978', '-', '0', '-', '521', '-', '86571', '-', '5', '.', 'official', 'html', 'and', 'pdf', 'versions', 'available', 'without', 'charge', '.', 'christopher', 'd', '.', 'manning', 'and', 'hinrich', 'schütze', '(', '1999', ')', '.', 'foundations', 'of', 'statistical', 'natural', 'language', 'processing', '.', 'the', 'mit', 'press', '.', 'isbn', '978', '-', '0', '-', '262', '-', '13360', '-', '9', '.', 'david', 'm', '.', 'w', '.', 'powers', 'and', 'christopher', 'c', '.', 'r', '.', 'turk', '(', '1989', ')', '.', 'machine', 'learning', 'of', 'natural', 'language', '.', 'springer', '-', 'verlag', '.', 'isbn', '978', '-', '0', '-', '387', '-', '19557', '-', '5', '.']\n"
          ],
          "name": "stdout"
        }
      ]
    },
    {
      "cell_type": "markdown",
      "metadata": {
        "id": "tlvmmIF8E2Wb"
      },
      "source": [
        "## Remoção Números\n",
        "\n",
        "remova todos os números, utilizando uma regex\n",
        "\n",
        "```python\n",
        "re.sub(__,__,__)\n",
        "```"
      ]
    },
    {
      "cell_type": "code",
      "metadata": {
        "id": "RbnRocYGE2Wb"
      },
      "source": [
        "tokens_sem_numbers = [re.sub(\"\\d\", \"\", t) for t in tokens_sem_stop]"
      ],
      "execution_count": 127,
      "outputs": []
    },
    {
      "cell_type": "code",
      "metadata": {
        "id": "DkIJM-IcqLpb",
        "outputId": "9df2da74-38c6-4ac1-fe2b-c6a82d067fe7",
        "colab": {
          "base_uri": "https://localhost:8080/",
          "height": 53
        }
      },
      "source": [
        "print(tokens_sem_numbers)"
      ],
      "execution_count": 128,
      "outputs": [
        {
          "output_type": "stream",
          "text": [
            "['processamento', 'língua', 'natural', '(', 'pln', ')', 'subárea', 'ciência', 'computação', ',', 'inteligência', 'artificial', 'linguística', 'estuda', 'problemas', 'geração', 'compreensão', 'automática', 'línguas', 'humanas', 'naturais', '.', 'sistemas', 'geração', 'língua', 'natural', 'convertem', 'informação', 'bancos', 'dados', 'computadores', 'linguagem', 'compreensível', 'ser', 'humano', 'sistemas', 'compreensão', 'língua', 'natural', 'convertem', 'ocorrências', 'linguagem', 'humana', 'representações', 'formais', ',', 'facilmente', 'manipuláveis', 'programas', 'computador', '.', 'alguns', 'desafios', 'pln', 'compreensão', 'língua', 'natural', ',', 'fazer', 'computadores', 'extraiam', 'sentido', 'linguagem', 'humana', 'natural', 'geração', 'língua', 'natural', '.', '=', '=', 'história', '=', '=', 'história', 'pln', 'começou', 'década', '', ',', 'alan', 'turing', 'publicou', 'artigo', '\"', 'computing', 'machinery', 'and', 'intelligence', '\"', ',', 'propunha', 'agora', 'chamado', 'teste', 'turing', 'critério', 'inteligência', '.', '', ',', 'experiência', 'georgetown', 'envolveu', 'tradução', 'automática', 'sessenta', 'frases', 'russas', 'inglês', '.', 'autores', 'afirmaram', 'dentro', 'três', 'cinco', 'anos', 'tradução', 'automática', 'problema', 'resolvido', '.', 'entanto', ',', 'avanços', 'reais', 'lentos', 'previsto', ',', 'após', 'relatório', 'alpac', '', ',', 'constatou', 'pesquisa', 'dez', 'anos', 'conseguiu', 'satisfazer', 'expectativas', ',', 'financiamento', 'estudo', 'tradução', 'automática', 'reduzido', 'drasticamente', '.', 'poucas', 'pesquisas', 'tradução', 'automática', 'conduzidas', 'final', 'anos', '', ',', 'primeiros', 'sistemas', 'estatísticos', 'tradução', 'desenvolvidos', '.', 'alguns', 'sistemas', 'pln', 'bem', 'sucedidos', 'desenvolvidos', 'anos', '', 'shrdlu', ',', 'sistema', 'língua', 'natural', 'trabalhava', '\"', 'blocks', 'worlds', '\"', 'vocabulário', 'restrito', 'eliza', ',', 'simulação', 'psicoterapeuta', 'escrita', 'joseph', 'weizenbaum', '', '', '.', 'usando', 'pouca', 'informação', 'sobre', 'pensamento', 'emoção', 'humana', ',', 'eliza', 'criava', ',', 'alguns', 'casos', ',', 'interações', 'surpreendentemente', 'humanas', '.', '\"', 'paciente', '\"', 'excedia', 'base', 'conhecimento', 'programa', ',', 'eliza', 'fornecia', 'resposta', 'genérica', ',', 'exemplo', ',', 'respondendo', '\"', 'cabeça', 'dói', '\"', '\"', 'diz', 'cabeça', 'dói', '?', '\"', '.', 'durante', 'década', '', ',', 'muitos', 'programadores', 'começaram', 'escrever', '\"', 'ontologias', 'conceituais', '\"', ',', 'estruturaram', 'informação', 'mundo', 'real', 'dados', 'compreensíveis', 'computadores', '.', 'exemplos', 'margie', '(', 'schank', ',', '', ')', ',', 'sam', '(', 'cullingford', ',', '', ')', ',', 'pam', '(', 'wilensky', ',', '', ')', ',', 'talespin', '(', 'meehan', ',', '', ')', ',', 'qualm', '(', 'lehnert', ',', '', ')', ',', 'politics', '(', 'carbonell', ',', '', ')', 'plot', 'units', '(', 'lehnert', ',', '', ')', '.', 'neste', 'período', ',', 'muitos', 'chatterbots', 'escritos', ',', 'parry', ',', 'racter', 'jabberwacky', '.', 'década', '', ',', 'maioria', 'sistemas', 'pln', 'baseava', 'conjuntos', 'complexos', 'regras', 'manuscritas', '.', 'partir', 'final', 'anos', '', ',', 'entanto', ',', 'revolução', 'pln', 'introdução', 'algoritmos', 'aprendizagem', 'automática', '(', 'aprendizado', 'máquina', ')', 'processamento', 'linguagem', '.', 'devido', 'tanto', 'aumento', 'constante', 'poder', 'computacional', '(', 'ver', 'lei', 'moore', ')', 'quanto', 'diminuição', 'gradual', 'dominância', 'teorias', 'linguística', 'chomskyanas', '(', 'gramática', 'gerativa', ')', ',', 'cujos', 'fundamentos', 'teóricos', 'desestimularam', 'tipo', 'corpus', 'linguístico', 'subjacente', 'abordagem', 'aprendizagem', 'automática', 'processamento', 'linguagem', '.', 'alguns', 'algoritmos', 'aprendizado', 'máquinas', 'antigos', ',', 'árvores', 'decisão', ',', 'produziam', 'sistemas', 'regras', 'rígidas', 'então', 'semelhantes', 'regras', 'existentes', 'escritas', 'mão', '.', 'entanto', ',', 'marcação', 'partes', 'fala', '(', 'part', '-', 'of', '-', 'speech', 'tagging', ')', 'introduziu', 'uso', 'modelos', 'ocultos', 'markov', 'pln', ',', 'cada', 'vez', ',', 'pesquisa', 'concentrava', 'modelos', 'estatísticos', ',', 'tomam', 'decisões', 'suaves', 'probabilísticas', 'baseadas', 'atribuição', 'pesos', 'reais', 'recursos', 'compõem', 'dados', 'entrada', '.', 'modelos', 'linguagem', 'cache', ',', 'sobre', 'quais', 'muitos', 'sistemas', 'reconhecimento', 'fala', 'agora', 'dependem', ',', 'exemplos', 'tais', 'modelos', 'estatísticos', '.', 'modelos', 'geralmente', 'robustos', 'dados', 'informações', 'desconhecidas', ',', 'especialmente', 'entrada', 'contém', 'erros', '(', 'comum', 'dados', 'mundo', 'real', ')', 'produzem', 'resultados', 'confiáveis', 'integrados', 'sistemas', 'maiores', 'compreendem', 'múltiplas', 'tarefas', '.', 'muitos', 'sucessos', 'iniciais', 'notáveis', 'ocorreram', 'campo', 'tradução', 'automática', ',', 'devido', 'especialmente', 'trabalho', 'pesquisa', 'ibm', ',', 'desenvolveu', 'modelos', 'estatísticos', 'elaborados', '.', 'sistemas', 'capazes', 'tirar', 'proveito', 'corpora', 'textuais', 'multilíngues', 'existentes', 'produzidos', 'parlamento', 'canadá', 'união', 'europeia', 'resultado', 'leis', 'exigem', 'tradução', 'todos', 'processos', 'governamentais', 'todas', 'línguas', 'oficiais', 'países', '.', 'entanto', ',', 'maioria', 'sistemas', 'dependia', 'corpora', 'desenvolvido', 'especificamente', 'tarefas', 'implementadas', 'sistemas', ',', '(', 'muitas', 'vezes', 'continua', 'sendo', ')', 'grande', 'limitação', 'sucesso', '.', 'resultado', ',', 'grande', 'quantidade', 'pesquisa', 'passou', 'quantidades', 'dados', 'limitadas', 'métodos', 'aprendizagem', 'eficazes', '.', 'pesquisas', 'recentes', 'têm', 'concentrado', 'cada', 'vez', 'algoritmos', 'aprendizagem', 'semi', '-', 'supervisionados', 'supervisão', '.', 'algoritmos', 'capazes', 'aprender', 'dados', 'anotados', 'manualmente', 'respostas', 'desejadas', 'usando', 'combinação', 'dados', 'anotados', 'anotados', '.', 'geralmente', ',', 'tarefa', 'trabalhosa', 'aprendizagem', 'supervisionada', 'normalmente', 'produz', 'resultados', 'menos', 'precisos', 'quantidade', 'específica', 'dados', 'entrada', '.', 'entanto', ',', 'enorme', 'quantidade', 'dados', 'anotados', 'disponíveis', '(', 'incluindo', ',', 'outras', 'coisas', ',', 'todo', 'conteúdo', 'world', 'wide', 'web', ')', ',', 'muitas', 'vezes', 'pode', 'compensar', 'resultados', 'inferiores', '.', '=', '=', 'usando', 'aprendizagem', 'automática', '(', 'aprendizado', 'máquina', ')', '=', '=', 'algoritmos', 'modernos', 'pln', 'baseiam', '-', 'aprendizagem', 'mecânica', ',', 'especialmente', 'aprendizagem', 'máquinas', 'estatísticas', '.', 'paradigma', 'aprendizagem', 'mecânica', 'diferente', 'maioria', 'tentativas', 'anteriores', 'processamento', 'linguagem', '.', 'anteriormente', ',', 'implementações', 'tarefas', 'processamento', 'linguagem', 'envolviam', 'codificação', 'direta', 'grandes', 'conjuntos', 'regras', '.', 'paradigma', 'aprendizagem', 'automática', '(', 'aprendizagem', 'automática', ')', 'induz', 'aprendizagem', 'automática', 'regras', 'através', 'análises', 'corpora', 'exemplos', 'típicos', 'mundo', 'real', 'invés', 'usar', 'algoritmos', 'gerais', 'aprendizagem', '(', 'muitas', 'vezes', ',', 'embora', 'sempre', ',', 'baseados', 'inferência', 'estatística', ')', '.', 'corpus', '(', 'plural', '\"', 'corpora', '\"', ')', 'conjunto', 'documentos', '(', 'frases', 'individuais', ')', 'anotados', 'mão', 'valores', 'corretos', 'serem', 'aprendidos', '.', 'muitas', 'classes', 'diferentes', 'algoritmos', 'aprendizado', 'máquina', 'aplicadas', 'tarefas', 'pln', '.', 'algoritmos', 'tomam', 'entrada', 'grande', 'conjunto', '\"', 'recursos', '\"', 'gerados', 'partir', 'dados', 'entrada', '.', 'alguns', 'algoritmos', 'usados', ',', 'árvores', 'decisão', ',', 'produziam', 'sistemas', 'regras', 'rígidas', 'semelhantes', 'sistemas', 'regras', 'manuscritas', 'comuns', '.', 'entanto', ',', 'cada', 'vez', ',', 'pesquisa', 'concentrado', 'modelos', 'estatísticos', ',', 'tomam', 'decisões', 'flexíveis', 'probabilísticas', 'baseadas', 'agregar', 'pesos', 'reais', 'cada', 'característica', 'entrada', '.', 'tais', 'modelos', 'têm', 'vantagem', 'poder', 'expressar', 'certeza', 'relativa', 'muitas', 'respostas', 'possíveis', 'diferentes', 'vez', 'apenas', ',', 'produzindo', 'resultados', 'confiáveis', 'modelo', 'incluído', 'componente', 'sistema', 'maior', '.', 'sistemas', 'baseados', 'algoritmos', 'aprendizagem', 'mecânica', 'têm', 'muitas', 'vantagens', 'relação', 'regras', 'produzidas', 'manualmente', ':', 'procedimentos', 'aprendizagem', 'usados', 'durante', 'aprendizagem', 'máquina', 'focam', '-', 'automaticamente', 'casos', 'comuns', ',', 'passo', 'escrevem', 'regras', 'mão', ',', 'óbvio', 'sentido', 'esforço', 'deve', 'ser', 'dirigido', '.', 'procedimentos', 'aprendizagem', 'automática', 'podem', 'fazer', 'uso', 'algoritmos', 'inferência', 'estatística', 'produzir', 'modelos', 'robustos', 'entradas', 'familiares', '(', 'exemplo', ',', 'contendo', 'palavras', 'estruturas', 'vistas', 'antes', ')', 'entradas', 'errôneas', '(', 'exemplo', ',', 'palavras', 'palavras', 'incorretamente', 'omitidas', ')', '.', 'geralmente', ',', 'lidar', 'entradas', 'forma', 'regras', 'manuscritas', 'sistemas', 'regras', 'manuscritas', 'tomam', 'decisões', 'suaves', 'extremamente', 'trabalhoso', ',', 'propenso', 'erros', 'demorado', '.', 'sistemas', 'baseados', 'aprender', 'automaticamente', 'regras', 'podem', 'ser', 'precisos', 'simplesmente', 'fornecendo', 'dados', 'entrada', '.', 'entanto', ',', 'sistemas', 'baseados', 'regras', 'escritas', 'mão', 'podem', 'ser', 'tornados', 'precisos', 'aumentando', 'complexidade', 'regras', ',', 'tarefa', 'difícil', '.', 'particular', ',', 'limite', 'complexidade', 'sistemas', 'baseados', 'regras', 'artesanais', ',', 'além', 'quais', 'sistemas', 'tornam', 'cada', 'vez', 'incontroláveis', '.', 'entanto', ',', 'criação', 'dados', 'entrada', 'sistemas', 'aprendizado', 'máquina', 'requer', 'simplesmente', 'aumento', 'correspondente', 'número', 'horas', 'trabalhadas', 'humanos', ',', 'geralmente', 'aumentos', 'significativos', 'complexidade', 'processo', 'anotação', '.', 'subcampo', 'pln', 'dedicado', 'abordagens', 'aprendizagem', 'conhecido', 'aprendizagem', 'língua', 'natural', '(', 'nll', ')', 'conferência', ',', 'conll', ',', 'orgão', 'central', ',', 'signll', ',', 'patrocinados', 'acl', ',', 'reconhecendo', 'ligações', 'linguística', 'computacional', 'aquisição', 'linguagem', '.', 'objetivo', 'pesquisa', 'aprendizagem', 'linguagem', 'computacional', 'entender', 'sobre', 'aquisição', 'linguagem', 'humana', ',', 'psicolinguística', ',', 'nll', 'sobrepõe', '-', 'campo', 'relacionado', 'psicolinguística', 'computacional', '.', '=', '=', 'aplicações', 'principais', '=', '=', 'listagem', 'seguir', 'traz', 'alguns', 'trabalhos', 'pesquisadas', 'pln', '.', 'note', 'alguns', 'têm', 'aplicações', 'mundo', 'real', ',', 'enquanto', 'outras', 'servem', 'frequentemente', 'tarefas', 'secundárias', 'usadas', 'auxiliar', 'resolução', 'tarefas', 'maiores', '.', 'distingue', 'tarefas', 'outras', 'tarefas', 'potenciais', 'reais', 'pln', 'apenas', 'volume', 'pesquisa', 'dedicado', ',', 'fato', 'cada', 'tipicamente', 'definição', 'problema', 'bem', 'especificada', ',', 'métrica', 'padrão', 'avaliar', 'tarefa', ',', 'corpora', 'padrão', 'tarefa', 'pode', 'ser', 'avaliada', 'competições', 'dedicadas', 'tarefa', 'específica', '.', 'sumarização', 'automática', 'produz', 'resumo', 'legível', 'parte', 'texto', '.', 'muitas', 'vezes', 'usado', 'fornecer', 'resumos', 'texto', 'tipo', 'conhecido', ',', 'artigos', 'seção', 'financeira', 'jornal', '.', 'resolução', 'correferência', 'dada', 'frase', 'pedaço', 'maior', 'texto', ',', 'determina', 'quais', 'palavras', '(', '\"', 'menções', '\"', ')', 'referem', 'mesmos', 'objetos', '(', '\"', 'entidades', '\"', ')', '.', 'resolução', 'anáfora', 'exemplo', 'específico', 'dessa', 'tarefa', 'especificamente', 'preocupada', 'combinar', 'pronomes', 'substantivos', 'nomes', 'quais', 'referem', '.', 'tarefa', 'geral', 'resolução', 'correferência', 'inclui', 'identificação', 'chamados', '\"', 'relacionamentos', 'ponte', '\"', 'envolvendo', 'expressões', 'referência', '.', 'exemplo', ',', 'frase', '\"', 'entrou', 'casa', 'joão', 'porta', 'frente', '\"', ',', '\"', 'porta', 'frente', '\"', 'expressão', 'referência', 'relação', 'ponte', 'ser', 'identificada', 'fato', 'porta', 'ser', 'referida', 'porta', 'frente', \"john's\", '(', 'invés', 'alguma', 'outra', 'estrutura', 'pode', 'ser', 'referida', ')', '.', 'análise', 'discurso', 'rubrica', 'inclui', 'série', 'tarefas', 'relacionadas', '.', 'tarefa', 'identificar', 'estrutura', 'discursiva', 'texto', 'conectado', ',', ',', 'natureza', 'relações', 'discursivas', 'sentenças', '(', 'exemplo', ',', 'elaboração', ',', 'explicação', ',', 'contraste', ')', '.', 'outra', 'possível', 'tarefa', 'reconhecer', 'classificar', 'atos', 'fala', 'pedaço', 'texto', '(', 'exemplo', ',', 'pergunta', 'sim', '-', ',', 'pergunta', 'conteúdo', ',', 'frase', ',', 'afirmação', ',', 'etc', ')', '.', 'maquina', 'tradução', 'traduzir', 'automaticamente', 'texto', 'linguagem', 'humana', 'outra', '.', 'tarefas', 'difíceis', 'faz', 'parte', 'tipo', 'problemas', 'conhecidos', '\"', 'ai', '-', 'complete', '\"', ',', ',', 'exigindo', 'todos', 'diferentes', 'tipos', 'conhecimento', 'humanos', 'possuem', '(', 'gramática', ',', 'semântica', ',', 'fatos', 'sobre', 'mundo', 'real', ',', 'etc', ')', 'resolvê', '-', 'lo', 'adequadamente', '.', 'segmentação', 'morfológica', 'separa', 'palavras', 'morfemas', 'individuais', 'identifica', 'classes', 'morfemas', '.', 'dificuldade', 'desta', 'tarefa', 'depende', 'complexidade', 'morfologia', '(', ',', 'estrutura', 'palavras', ')', 'linguagem', 'sendo', 'considerada', '.', 'inglês', 'possui', 'morfologia', 'bastante', 'simples', ',', 'especialmente', 'morfologia', 'flexional', ',', 'portanto', 'possível', 'ignorar', 'tarefa', 'inteiramente', 'simplesmente', 'modelar', 'todas', 'formas', 'possíveis', 'palavra', '(', 'exemplo', ',', '\"', 'open', ',', 'opens', ',', 'opened', ',', 'opening', '\"', ')', 'palavras', 'separadas', '.', 'línguas', 'turco', 'meitei', ',', 'língua', 'indiana', 'fortemente', 'aglutinada', ',', 'entanto', ',', 'tal', 'abordagem', 'possível', ',', 'vez', 'cada', 'entrada', 'dicionário', 'milhares', 'formas', 'palavras', 'possíveis', '.', 'reconhecimento', 'entidade', 'nomeada', '(', 'ner', ')', 'dado', 'fluxo', 'texto', ',', 'determina', 'quais', 'itens', 'mapa', 'texto', 'nomes', 'próprios', ',', 'pessoas', 'locais', 'tipo', 'cada', 'nome', '(', 'exemplo', ',', 'pessoa', ',', 'local', ',', 'organização', ')', '.', 'embora', 'capitalização', 'possa', 'ajudar', 'reconhecer', 'entidades', 'nomeadas', 'idiomas', 'inglês', ',', 'informações', 'podem', 'ajudar', 'determinar', 'tipo', 'entidade', 'nomeada', ',', 'alguns', 'casos', ',', 'sãos', 'imprecisas', 'insuficientes', '.', 'exemplo', ',', 'primeira', 'palavra', 'frase', 'capitalizada', 'entidades', 'nomeadas', 'muitas', 'vezes', 'abrangem', 'várias', 'palavras', ',', 'apenas', 'algumas', 'capitalizadas', '.', 'além', 'disso', ',', 'muitas', 'outras', 'linguagens', 'scripts', '-', 'ocidentais', '(', 'exemplo', ',', 'chinês', 'árabe', ')', 'têm', 'nenhuma', 'capitalização', 'línguas', 'maiúsculas', 'podem', 'distinguir', 'nomes', '.', 'exemplo', ',', 'alemão', 'capitaliza', 'todos', 'substantivos', ',', 'independentemente', 'referirem', 'nomes', ',', 'francês', 'espanhol', 'capitalizam', 'nomes', 'servem', 'adjetivos', '.', 'geração', 'língua', 'natural', 'converte', 'informações', 'bancos', 'dados', 'computador', 'intenções', 'semânticas', 'linguagem', 'humana', 'legível', '.', 'compreensão', 'língua', 'natural', 'converte', 'pedaços', 'texto', 'representações', 'formais', ',', 'estruturas', 'lógica', 'primeira', 'ordem', ',', 'fáceis', 'manipular', 'programas', 'computador', '.', 'compreensão', 'língua', 'natural', 'envolve', 'identificação', 'semântica', 'pretendida', 'partir', 'múltipla', 'semântica', 'possível', 'pode', 'ser', 'derivada', 'expressão', 'língua', 'natural', 'geralmente', 'toma', 'forma', 'notação', 'organizada', 'conceitos', 'linguagens', 'naturais', '.', 'entretanto', ',', 'introdução', 'criação', 'linguagem', 'metamodelo', 'ontologia', 'eficientes', 'soluções', 'empíricas', '.', 'formalização', 'explícita', 'semântica', 'línguas', 'naturais', 'confusões', 'suposições', 'implícitas', 'closed', '-', 'world', 'assumption', '(', 'cwa', ')', 'versus', 'open', '-', 'world', 'assumption', 'subjetiva', 'sim', '/', 'versus', 'objetivo', 'verdadeiro', '/', 'falso', 'esperada', 'construção', 'base', 'formalização', 'semântica', '.', 'reconhecimento', 'óptico', 'caracteres', '(', 'ocr', ')', 'dada', 'imagem', 'representa', 'texto', 'impresso', ',', 'determina', 'texto', 'correspondente', '.', 'marcação', 'classe', 'gramatical', 'dada', 'sentença', ',', 'determina', 'classe', 'gramatical', 'cada', 'palavra', '.', 'muitas', 'palavras', ',', 'especialmente', 'comuns', ',', 'podem', 'servir', 'múltiplas', 'partes', 'discurso', '.', 'inglês', ',', 'exemplo', ',', '\"', 'book', '\"', 'pode', 'ser', 'substantivo', '(', '\"', 'the', 'book', 'on', 'the', 'table', '\"', ')', 'verbo', '(', '\"', 'book', 'flight', '\"', ')', ';', '\"', 'set', '\"', 'pode', 'ser', 'substantivo', ',', 'verbo', 'adjetivo', ';', '\"', 'out', '\"', 'pode', 'ser', 'qualquer', 'menos', 'cinco', 'diferentes', 'partes', 'fala', '.', 'algumas', 'línguas', 'têm', 'ambiguidade', 'outras', '.', 'línguas', 'pouca', 'morfologia', 'flexional', ',', 'inglês', ',', 'particularmente', 'propensas', 'tal', 'ambiguidade', '.', 'chinês', 'propenso', 'tal', 'ambiguidade', 'porque', 'língua', 'tonal', 'durante', 'verbalização', '.', 'tal', 'inflexão', 'facilmente', 'transmitida', 'através', 'entidades', 'empregadas', 'dentro', 'ortografia', 'transmitir', 'significado', 'pretendido', '.', 'análise', 'sintática', '(', 'parsing', ')', 'determina', 'árvore', 'análise', '(', 'análise', 'gramatical', ')', 'frase', '.', 'gramática', 'linguagens', 'naturais', 'ambígua', 'frases', 'típicas', 'têm', 'múltiplas', 'análises', 'possíveis', '.', 'verdade', ',', 'surpreendentemente', ',', 'frase', 'típica', 'pode', 'haver', 'milhares', 'análises', 'potencial', '(', 'maioria', 'quais', 'parecerá', 'completamente', 'absurda', 'ser', 'humano', ')', '.', 'respostas', 'perguntas', 'dada', 'questão', 'linguagem', 'humana', ',', 'determina', 'resposta', '.', 'perguntas', 'típicas', 'têm', 'resposta', 'correta', 'específica', '(', '\"', 'capital', 'canadá', '?', '\"', ')', ',', 'vezes', 'perguntas', 'abertas', 'consideradas', '(', '\"', 'significado', 'vida', '?', '\"', ')', '.', 'trabalhos', 'recentes', 'têm', 'analisado', 'questões', 'ainda', 'complexas', '.', 'extração', 'relacionamento', 'identifica', 'relações', 'entidades', 'nomeadas', '(', 'exemplo', ',', 'casado', ')', 'base', 'textos', '.', 'quebra', 'frases', '(', 'sentence', 'boundary', 'disambiguation', ')', 'encontra', 'limites', 'frase', 'pedaço', 'texto', '.', 'limites', 'frases', 'normalmente', 'marcadas', 'pontos', 'outros', 'sinais', 'pontuação', ',', 'mesmos', 'caracteres', 'podem', 'servir', 'outros', 'propósitos', '.', 'análise', 'subjetividade', '(', 'sentiment', 'analysis', 'opinion', 'mining', ')', 'extrai', 'informações', 'subjetivas', 'geralmente', 'conjunto', 'documentos', ',', 'muitas', 'vezes', 'usando', 'revisões', 'online', 'determinar', '\"', 'polaridade', '\"', 'sobre', 'objetos', 'específicos', '.', 'especialmente', 'útil', 'identificar', 'tendências', 'opinião', 'pública', 'mídias', 'sociais', ',', 'fins', 'marketing', '.', 'reconhecimento', 'fala', 'dado', 'clipe', 'som', 'pessoa', 'pessoas', 'falando', ',', 'determina', 'representação', 'textual', 'discurso', '.', 'oposto', 'síntese', 'fala', 'áreas', 'difíceis', ',', 'conhecida', '\"', 'ai', '-', 'complete', '\"', '.', 'fala', 'natural', 'quase', 'pausas', 'palavras', 'sucessivas', ',', 'segmentação', 'fala', 'subtarefa', 'necessária', 'reconhecimento', 'fala', '.', 'nota', '-', ',', 'maioria', 'linguagens', 'faladas', ',', 'sons', 'representam', 'letras', 'sucessivas', 'misturam', 'si', 'processo', 'denominado', 'coarticulação', ',', 'modo', 'conversão', 'sinal', 'analógico', 'caracteres', 'discretos', 'pode', 'ser', 'processo', 'difícil', 'ser', 'realizado', '.', 'segmentação', 'fala', 'dado', 'clipe', 'som', 'pessoa', 'pessoas', 'falando', ',', 'separa', '-', 'palavras', '.', 'subaplicação', 'reconhecimento', 'fala', 'normalmente', 'agrupada', '.', 'análise', 'morfológica', 'reconhecimento', 'tópicos', 'dado', 'pedaço', 'texto', ',', 'separa', '-', 'segmentos', 'cada', 'quais', 'dedicado', 'tópico', 'identifica', 'tópico', 'segmento', '.', 'análise', 'morfológica', 'segmentação', 'palavras', 'separa', 'pedaço', 'texto', 'contínuo', 'palavras', 'separadas', '.', 'língua', 'inglês', ',', 'bastante', 'trivial', ',', 'vez', 'palavras', 'normalmente', 'separadas', 'espaços', '.', 'entanto', ',', 'algumas', 'línguas', 'escritas', 'chinês', ',', 'japonês', 'tailandês', 'marcam', 'limites', 'palavras', 'tal', 'forma', ',', 'nessas', 'línguas', 'segmentação', 'texto', 'tarefa', 'significativa', 'requer', 'conhecimento', 'vocabulário', 'morfologia', 'palavras', 'língua', '.', 'desambiguação', 'muitas', 'palavras', 'têm', 'significado', ',', 'assim', 'selecionar', 'significado', 'faz', 'sentido', 'contexto', '.', 'problema', ',', 'geral', 'dada', 'lista', 'palavras', 'sentidos', 'palavras', 'associadas', 'dicionário', 'recurso', 'online', ',', 'wordnet', '.', 'alguns', 'casos', ',', 'conjuntos', 'tarefas', 'relacionadas', 'agrupados', 'subcampos', 'pln', 'frequentemente', 'considerados', 'separadamente', 'pln', 'todo', ',', 'exemplos', 'seguir', ':', 'recuperação', 'informação', '(', 'ir', ')', 'trata', '-', 'armazenar', ',', 'pesquisar', 'recuperar', 'informações', '.', 'campo', 'separado', 'dentro', 'ciência', 'computação', '(', 'perto', 'bancos', 'dados', ')', ',', 'ir', 'baseia', 'alguns', 'métodos', 'pln', '(', 'exemplo', ',', 'stemming', ')', '.', 'algumas', 'pesquisas', 'aplicações', 'atuais', 'procuram', 'preencher', 'lacuna', 'ir', 'pln', '.', 'extração', 'informação', '(', 'ie', ')', 'trata', '-', ',', 'geral', ',', 'extração', 'informação', 'semântica', 'partir', 'texto', '.', 'abrange', 'tarefas', 'reconhecimento', 'entidade', 'mencionada', ',', 'resolução', 'correferência', 'relacionamento', 'extração', ',', 'etc', '.', 'processamento', 'voz', 'abrange', 'reconhecimento', 'fala', ',', 'síntese', 'fala', 'tarefas', 'relacionadas', '.', 'outras', 'tarefas', 'incluem', ':', 'identificação', 'língua', 'materna', 'stemização', 'simplificação', 'texto', 'síntese', 'fala', 'revisão', 'texto', 'pesquisa', 'língua', 'natural', 'expansão', 'consulta', 'pontuação', 'ensaio', 'automatizado', 'truecasing', '=', '=', 'estatística', '=', '=', 'artigo', 'principal', ':', 'gramática', 'estocástica', 'processamento', 'estatístico', 'língua', 'natural', 'utiliza', 'métodos', 'estocásticos', ',', 'probabilísticos', 'estatísticos', 'resolver', 'algumas', 'dificuldades', 'discutidas', 'acima', ',', 'especialmente', 'surgem', 'porque', 'frases', 'longas', 'ambíguas', 'processadas', 'gramáticas', 'realistas', ',', 'produzindo', 'milhares', 'milhões', 'análises', 'possíveis', '.', 'métodos', 'desambiguação', 'envolvem', 'muitas', 'vezes', 'uso', 'corpora', 'modelos', 'markov', '.', 'projeto', 'esprit', 'p', '(', '', '-', '', ')', ',', 'liderado', 'cselt', ',', 'explorou', 'problema', 'reconhecimento', 'fala', 'comparando', 'abordagem', 'baseada', 'conhecimento', 'estatística', ':', 'resultado', 'escolhido', 'modelo', 'completamente', 'estatístico', '.', 'primeiros', 'modelos', 'compreensão', 'estatística', 'língua', 'natural', 'introduzido', '', 'roberto', 'pieraccini', ',', 'esther', 'levin', 'chin', '-', 'hui', 'lee', ',', 'bell', 'laboratories', ']', '.', 'pln', 'compreende', 'todas', 'abordagens', 'quantitativas', 'processamento', 'automatizado', 'linguagem', ',', 'incluindo', 'modelagem', 'probabilística', ',', 'teoria', 'informação', 'álgebra', 'linear', '.', 'tecnologia', 'pln', 'estatístico', 'vem', 'principalmente', 'aprendizagem', 'automática', 'mineração', 'dados', ',', 'campos', 'inteligência', 'artificial', 'envolvem', 'aprendizado', 'partir', 'dados', '.', '=', '=', 'avaliação', '=', '=', 'objetivo', 'avaliação', 'pln', 'medida', 'qualidades', 'algoritmo', 'sistema', 'fim', 'determinar', 'algoritmo', 'atende', 'metas', 'projetistas', 'sistema', 'atendimento', 'necessidades', 'usuários', '.', 'investigação', 'avaliação', 'pln', 'ganhado', 'atenção', ',', 'porque', 'definição', 'critérios', 'avaliação', 'forma', 'especificar', 'precisamente', 'problemas', 'pln', '.', 'métrica', 'avaliação', 'pln', 'sistema', 'algorítmico', 'permite', 'integração', 'compreensão', 'linguagem', 'geração', 'linguagem', '.', 'conjunto', 'preciso', 'critérios', 'avaliação', ',', 'pode', 'ser', 'aplicado', 'principalmente', 'avaliações', 'métricas', ',', 'podendo', 'permitir', 'várias', 'equipes', 'comparem', 'soluções', 'determinado', 'problema', 'pln', '.', '=', '=', 'cronologia', 'avaliação', '=', '=', '', ',', 'iniciou', '-', 'projecto', 'esprit', 'p', ',', 'avaliou', 'tecnologias', 'fala', '(', 'incluindo', 'tópicos', 'gerais', 'sintaxe', 'semântica', ')', 'comparando', 'abordagens', 'baseadas', 'regras', 'estatísticas', '.', '', ',', 'primeira', 'campanha', 'avaliação', 'textos', 'escritos', 'parece', 'ser', 'campanha', 'dedicada', 'compreensão', 'mensagem', '(', 'pallet', ',', '', ')', '.', 'projeto', 'parseval', '/', 'geig', 'comparou', 'gramáticas', 'frase', '-', 'estrutura', '(', 'black', '', ')', '.', 'série', 'campanhas', 'projeto', 'tipster', 'sobre', 'tarefas', 'resumo', ',', 'tradução', 'pesquisa', '(', 'hirschman', '', ')', '.', '', ',', 'alemanha', ',', 'morpholympics', 'comparou', 'marcadores', 'morfológicos', 'alemães', '.', 'campanhas', 'senseval', '&', 'romanseval', 'realizadas', 'objetivos', 'desambiguação', 'semântica', '.', '', ',', 'campanha', 'sparkle', 'comparou', 'analisadores', 'sintáticos', 'quatro', 'idiomas', 'diferentes', '(', 'inglês', ',', 'francês', ',', 'alemão', 'italiano', ')', '.', 'frança', ',', 'projeto', 'grace', 'comparou', 'conjunto', '', 'marcadores', 'francês', '', '(', 'adda', '', ')', '.', '', ',', 'durante', 'projeto', 'technolangue', '/', 'easy', ',', 'comparados', '', 'analisadores', 'francês', '.', 'avaliação', 'larga', 'escala', 'analisadores', 'dependência', 'realizada', 'contexto', 'tarefas', 'compartilhadas', 'conll', '', '', '.', 'frança', ',', 'âmbito', 'projecto', 'anr', '-', 'passage', '(', 'final', '', ')', ',', 'comparados', '', 'analisadores', 'francês', '.', 'itália', ',', 'campanha', 'evalita', 'realizada', '', ',', '', ',', '', '', 'comparar', 'várias', 'ferramentas', 'pln', 'voz', 'site', 'italiano', '-', 'evalita', '.', '=', '=', 'diferentes', 'tipos', 'avaliação', '=', '=', 'avaliação', 'intrínseca', 'vs', '.', 'extrínseca', 'avaliação', 'intrínseca', 'considera', 'sistema', 'pnl', 'isolado', 'caracteriza', 'desempenho', 'relação', 'resultado', 'padrão', '-', 'excelência', ',', 'conforme', 'definido', 'avaliadores', '.', 'avaliação', 'extrínseca', ',', 'chamada', 'avaliação', 'uso', ',', 'considera', 'sistema', 'pln', 'cenário', 'complexo', 'sistema', 'embutido', 'função', 'precisa', 'usuário', 'humano', '.', 'desempenho', 'extrínseco', 'sistema', 'então', 'caracterizado', 'termos', 'utilidade', 'relação', 'tarefa', 'global', 'sistema', 'estranho', 'utilizador', 'humano', '.', 'exemplo', ',', 'considere', 'analisador', 'sintático', 'baseado', 'saída', 'alguma', 'parte', 'tagger', 'fala', '(', 'pos', ')', '.', 'avaliação', 'intrínseca', 'executaria', 'marcador', 'pos', 'dados', 'estruturados', 'compararia', 'saída', 'sistema', 'marcador', 'pos', 'saída', 'padrão', 'ouro', '.', 'avaliação', 'extrínseca', 'executaria', 'analisador', 'algum', 'outro', 'marcador', 'pos', ',', 'seguida', ',', 'marcador', 'pos', 'novo', 'compara', 'precisão', 'análise', '.', 'caixa', 'preta', 'vs', '.', 'avaliação', 'caixa', 'vidro', 'avaliação', 'caixa', 'preta', 'requer', 'alguém', 'execute', 'sistema', 'pln', 'conjunto', 'dados', 'amostra', 'medir', 'série', 'parâmetros', 'relacionados', 'qualidade', 'processo', ',', 'velocidade', ',', 'confiabilidade', ',', 'consumo', 'recursos', ',', 'principalmente', ',', 'qualidade', 'resultado', ',', 'precisão', 'anotação', 'dados', 'fidelidade', 'tradução', '.', 'avaliação', 'caixa', 'vidro', 'examina', 'concepção', 'sistema', ';', 'algoritmos', 'implementados', ',', 'recursos', 'linguísticos', 'utiliza', ',', 'tamanho', 'vocabulário', 'expressão', 'definida', 'cardinalidade', '.', 'dada', 'complexidade', 'problemas', 'pln', ',', 'muitas', 'vezes', 'difícil', 'prever', 'desempenho', 'apenas', 'base', 'avaliação', 'caixa', 'vidro', ';', 'tipo', 'avaliação', 'informativo', 'diz', 'respeito', 'análise', 'erros', 'desenvolvimentos', 'futuros', 'sistema', '.', 'automática', 'vs', '.', 'avaliação', 'manual', 'muitos', 'casos', ',', 'procedimentos', 'automáticos', 'podem', 'ser', 'definidos', 'avaliar', 'sistema', 'pln', ',', 'comparando', 'saída', 'padrão', 'excelência', '.', 'embora', 'custo', 'reproduzir', 'padrão', 'excelência', 'possa', 'ser', 'bastante', 'elevado', ',', 'avaliação', 'automática', 'bootstrapping', 'sobre', 'mesmos', 'dados', 'entrada', 'pode', 'ser', 'repetida', 'quantas', 'vezes', 'necessário', 'custos', 'adicionais', 'desordenados', '.', 'entanto', ',', 'muitos', 'problemas', 'pln', 'definição', 'precisa', 'padrão', 'excelência', 'tarefa', 'complexa', 'pode', 'revelar', 'impossível', 'acordo', 'inter', '-', 'anotador', 'insuficiente', '.', 'avaliação', 'manual', 'melhor', 'realizada', 'juízes', 'humanos', 'instruídos', 'estimar', 'qualidade', 'sistema', ',', 'frequentemente', 'amostra', 'produção', ',', 'base', 'série', 'critérios', '.', 'embora', ',', 'graças', 'competência', 'linguística', ',', 'juízes', 'humanos', 'possam', 'ser', 'considerados', 'referência', 'série', 'tarefas', 'processamento', 'linguagem', ',', 'variação', 'considerável', 'classificações', '.', 'avaliação', 'automática', ',', 'vezes', ',', 'referida', 'avaliação', 'objetiva', 'enquanto', 'avaliação', 'humana', 'perspectiva', '.', '=', '=', 'padronização', '=', '=', 'subcomitê', 'iso', 'trabalhando', 'facilitar', 'interoperabilidade', 'recursos', 'lexicais', 'programas', 'pln', '.', 'subcomitê', 'faz', 'parte', 'iso', '/', 'tc', 'chamado', 'iso', '/', 'tc', '/', 'sc', '.', 'alguns', 'padrões', 'iso', 'publicados', ',', 'maioria', 'construção', ',', 'principalmente', 'representação', 'léxico', '(', 'ver', 'lmf', ')', ',', 'anotação', 'registro', 'categoria', 'dados', '.', '=', '=', 'ferramentas', '=', '=', 'expert', 'system', 's', '.', 'p', '.', '.', 'general', 'architecture', 'text', 'engineering', 'modular', 'audio', 'recognition', 'framework', 'natural', 'language', 'toolkit', '(', 'nltk', ')', ':', 'biblioteca', 'python', 'opennlp', '=', '=', 'veja', '=', '=', 'mineração', 'texto', 'biomédica', 'processo', 'processamento', 'composto', 'revisão', 'assistida', 'computador', 'linguagem', 'natural', 'controlada', 'processamento', 'linguístico', 'profundo', 'auxílio', 'leitura', 'línguas', 'estrangeiras', 'auxílio', 'escrita', 'língua', 'estrangeira', 'tecnologia', 'linguagem', 'alocação', 'dirichlet', 'latente', '(', 'lda', ')', 'indexação', 'semântica', 'latente', 'lista', 'ferramentas', 'processamento', 'língua', 'natural', 'mapa', 'lre', 'programação', 'língua', 'natural', 'reificação', '(', 'linguística', ')', 'dobradura', 'semântica', 'sistema', 'diálogo', 'falado', 'vetor', 'pensamento', 'pesquisa', 'transderivacional', 'wordvec', '=', '=', 'referências', '=', '=', '=', '=', 'leitura', 'adicional', '=', '=', 'steven', 'bird', ',', 'ewan', 'klein', ',', 'and', 'edward', 'loper', '(', '', ')', '.', 'natural', 'language', 'processing', 'with', 'python', '.', \"o'reilly\", 'media', '.', 'isbn', '', '-', '', '-', '', '-', '', '-', '', '.', 'daniel', 'jurafsky', 'and', 'james', 'h', '.', 'martin', '(', '', ')', '.', 'speech', 'and', 'language', 'processing', ',', 'nd', 'edition', '.', 'pearson', 'prentice', 'hall', '.', 'isbn', '', '-', '', '-', '', '-', '', '-', '', '.', 'christopher', 'd', '.', 'manning', ',', 'prabhakar', 'raghavan', ',', 'and', 'hinrich', 'schütze', '(', '', ')', '.', 'introduction', 'to', 'information', 'retrieval', '.', 'cambridge', 'university', 'press', '.', 'isbn', '', '-', '', '-', '', '-', '', '-', '', '.', 'official', 'html', 'and', 'pdf', 'versions', 'available', 'without', 'charge', '.', 'christopher', 'd', '.', 'manning', 'and', 'hinrich', 'schütze', '(', '', ')', '.', 'foundations', 'of', 'statistical', 'natural', 'language', 'processing', '.', 'the', 'mit', 'press', '.', 'isbn', '', '-', '', '-', '', '-', '', '-', '', '.', 'david', 'm', '.', 'w', '.', 'powers', 'and', 'christopher', 'c', '.', 'r', '.', 'turk', '(', '', ')', '.', 'machine', 'learning', 'of', 'natural', 'language', '.', 'springer', '-', 'verlag', '.', 'isbn', '', '-', '', '-', '', '-', '', '-', '', '.']\n"
          ],
          "name": "stdout"
        }
      ]
    },
    {
      "cell_type": "markdown",
      "metadata": {
        "id": "hoWeL_G-E2We"
      },
      "source": [
        "## Remoção Pontuação\n",
        "\n",
        "remova todas as pontruações retornadas pelo pacote string da lista de tokens.\n",
        "\n",
        "```python\n",
        "string.punctuation\n",
        "```"
      ]
    },
    {
      "cell_type": "code",
      "metadata": {
        "id": "-dYZ-eB0E2Wg"
      },
      "source": [
        "import string"
      ],
      "execution_count": 129,
      "outputs": []
    },
    {
      "cell_type": "code",
      "metadata": {
        "id": "phDcEdjiE2Wj",
        "outputId": "d0852eef-66de-4783-ba74-3de4f74d596b",
        "colab": {
          "base_uri": "https://localhost:8080/",
          "height": 35
        }
      },
      "source": [
        "string.punctuation"
      ],
      "execution_count": 130,
      "outputs": [
        {
          "output_type": "execute_result",
          "data": {
            "application/vnd.google.colaboratory.intrinsic+json": {
              "type": "string"
            },
            "text/plain": [
              "'!\"#$%&\\'()*+,-./:;<=>?@[\\\\]^_`{|}~'"
            ]
          },
          "metadata": {
            "tags": []
          },
          "execution_count": 130
        }
      ]
    },
    {
      "cell_type": "code",
      "metadata": {
        "id": "BXBcTE6HE2Wl"
      },
      "source": [
        "tokens_sem_punction = [t for t in tokens_sem_numbers if t not in string.punctuation]"
      ],
      "execution_count": 132,
      "outputs": []
    },
    {
      "cell_type": "code",
      "metadata": {
        "id": "INcd00F8qvDK",
        "outputId": "fe4c1aa9-83f3-470e-e23b-37e7f45987c3",
        "colab": {
          "base_uri": "https://localhost:8080/",
          "height": 53
        }
      },
      "source": [
        "print(tokens_sem_punction)"
      ],
      "execution_count": 134,
      "outputs": [
        {
          "output_type": "stream",
          "text": [
            "['processamento', 'língua', 'natural', 'pln', 'subárea', 'ciência', 'computação', 'inteligência', 'artificial', 'linguística', 'estuda', 'problemas', 'geração', 'compreensão', 'automática', 'línguas', 'humanas', 'naturais', 'sistemas', 'geração', 'língua', 'natural', 'convertem', 'informação', 'bancos', 'dados', 'computadores', 'linguagem', 'compreensível', 'ser', 'humano', 'sistemas', 'compreensão', 'língua', 'natural', 'convertem', 'ocorrências', 'linguagem', 'humana', 'representações', 'formais', 'facilmente', 'manipuláveis', 'programas', 'computador', 'alguns', 'desafios', 'pln', 'compreensão', 'língua', 'natural', 'fazer', 'computadores', 'extraiam', 'sentido', 'linguagem', 'humana', 'natural', 'geração', 'língua', 'natural', 'história', 'história', 'pln', 'começou', 'década', 'alan', 'turing', 'publicou', 'artigo', 'computing', 'machinery', 'and', 'intelligence', 'propunha', 'agora', 'chamado', 'teste', 'turing', 'critério', 'inteligência', 'experiência', 'georgetown', 'envolveu', 'tradução', 'automática', 'sessenta', 'frases', 'russas', 'inglês', 'autores', 'afirmaram', 'dentro', 'três', 'cinco', 'anos', 'tradução', 'automática', 'problema', 'resolvido', 'entanto', 'avanços', 'reais', 'lentos', 'previsto', 'após', 'relatório', 'alpac', 'constatou', 'pesquisa', 'dez', 'anos', 'conseguiu', 'satisfazer', 'expectativas', 'financiamento', 'estudo', 'tradução', 'automática', 'reduzido', 'drasticamente', 'poucas', 'pesquisas', 'tradução', 'automática', 'conduzidas', 'final', 'anos', 'primeiros', 'sistemas', 'estatísticos', 'tradução', 'desenvolvidos', 'alguns', 'sistemas', 'pln', 'bem', 'sucedidos', 'desenvolvidos', 'anos', 'shrdlu', 'sistema', 'língua', 'natural', 'trabalhava', 'blocks', 'worlds', 'vocabulário', 'restrito', 'eliza', 'simulação', 'psicoterapeuta', 'escrita', 'joseph', 'weizenbaum', 'usando', 'pouca', 'informação', 'sobre', 'pensamento', 'emoção', 'humana', 'eliza', 'criava', 'alguns', 'casos', 'interações', 'surpreendentemente', 'humanas', 'paciente', 'excedia', 'base', 'conhecimento', 'programa', 'eliza', 'fornecia', 'resposta', 'genérica', 'exemplo', 'respondendo', 'cabeça', 'dói', 'diz', 'cabeça', 'dói', 'durante', 'década', 'muitos', 'programadores', 'começaram', 'escrever', 'ontologias', 'conceituais', 'estruturaram', 'informação', 'mundo', 'real', 'dados', 'compreensíveis', 'computadores', 'exemplos', 'margie', 'schank', 'sam', 'cullingford', 'pam', 'wilensky', 'talespin', 'meehan', 'qualm', 'lehnert', 'politics', 'carbonell', 'plot', 'units', 'lehnert', 'neste', 'período', 'muitos', 'chatterbots', 'escritos', 'parry', 'racter', 'jabberwacky', 'década', 'maioria', 'sistemas', 'pln', 'baseava', 'conjuntos', 'complexos', 'regras', 'manuscritas', 'partir', 'final', 'anos', 'entanto', 'revolução', 'pln', 'introdução', 'algoritmos', 'aprendizagem', 'automática', 'aprendizado', 'máquina', 'processamento', 'linguagem', 'devido', 'tanto', 'aumento', 'constante', 'poder', 'computacional', 'ver', 'lei', 'moore', 'quanto', 'diminuição', 'gradual', 'dominância', 'teorias', 'linguística', 'chomskyanas', 'gramática', 'gerativa', 'cujos', 'fundamentos', 'teóricos', 'desestimularam', 'tipo', 'corpus', 'linguístico', 'subjacente', 'abordagem', 'aprendizagem', 'automática', 'processamento', 'linguagem', 'alguns', 'algoritmos', 'aprendizado', 'máquinas', 'antigos', 'árvores', 'decisão', 'produziam', 'sistemas', 'regras', 'rígidas', 'então', 'semelhantes', 'regras', 'existentes', 'escritas', 'mão', 'entanto', 'marcação', 'partes', 'fala', 'part', 'of', 'speech', 'tagging', 'introduziu', 'uso', 'modelos', 'ocultos', 'markov', 'pln', 'cada', 'vez', 'pesquisa', 'concentrava', 'modelos', 'estatísticos', 'tomam', 'decisões', 'suaves', 'probabilísticas', 'baseadas', 'atribuição', 'pesos', 'reais', 'recursos', 'compõem', 'dados', 'entrada', 'modelos', 'linguagem', 'cache', 'sobre', 'quais', 'muitos', 'sistemas', 'reconhecimento', 'fala', 'agora', 'dependem', 'exemplos', 'tais', 'modelos', 'estatísticos', 'modelos', 'geralmente', 'robustos', 'dados', 'informações', 'desconhecidas', 'especialmente', 'entrada', 'contém', 'erros', 'comum', 'dados', 'mundo', 'real', 'produzem', 'resultados', 'confiáveis', 'integrados', 'sistemas', 'maiores', 'compreendem', 'múltiplas', 'tarefas', 'muitos', 'sucessos', 'iniciais', 'notáveis', 'ocorreram', 'campo', 'tradução', 'automática', 'devido', 'especialmente', 'trabalho', 'pesquisa', 'ibm', 'desenvolveu', 'modelos', 'estatísticos', 'elaborados', 'sistemas', 'capazes', 'tirar', 'proveito', 'corpora', 'textuais', 'multilíngues', 'existentes', 'produzidos', 'parlamento', 'canadá', 'união', 'europeia', 'resultado', 'leis', 'exigem', 'tradução', 'todos', 'processos', 'governamentais', 'todas', 'línguas', 'oficiais', 'países', 'entanto', 'maioria', 'sistemas', 'dependia', 'corpora', 'desenvolvido', 'especificamente', 'tarefas', 'implementadas', 'sistemas', 'muitas', 'vezes', 'continua', 'sendo', 'grande', 'limitação', 'sucesso', 'resultado', 'grande', 'quantidade', 'pesquisa', 'passou', 'quantidades', 'dados', 'limitadas', 'métodos', 'aprendizagem', 'eficazes', 'pesquisas', 'recentes', 'têm', 'concentrado', 'cada', 'vez', 'algoritmos', 'aprendizagem', 'semi', 'supervisionados', 'supervisão', 'algoritmos', 'capazes', 'aprender', 'dados', 'anotados', 'manualmente', 'respostas', 'desejadas', 'usando', 'combinação', 'dados', 'anotados', 'anotados', 'geralmente', 'tarefa', 'trabalhosa', 'aprendizagem', 'supervisionada', 'normalmente', 'produz', 'resultados', 'menos', 'precisos', 'quantidade', 'específica', 'dados', 'entrada', 'entanto', 'enorme', 'quantidade', 'dados', 'anotados', 'disponíveis', 'incluindo', 'outras', 'coisas', 'todo', 'conteúdo', 'world', 'wide', 'web', 'muitas', 'vezes', 'pode', 'compensar', 'resultados', 'inferiores', 'usando', 'aprendizagem', 'automática', 'aprendizado', 'máquina', 'algoritmos', 'modernos', 'pln', 'baseiam', 'aprendizagem', 'mecânica', 'especialmente', 'aprendizagem', 'máquinas', 'estatísticas', 'paradigma', 'aprendizagem', 'mecânica', 'diferente', 'maioria', 'tentativas', 'anteriores', 'processamento', 'linguagem', 'anteriormente', 'implementações', 'tarefas', 'processamento', 'linguagem', 'envolviam', 'codificação', 'direta', 'grandes', 'conjuntos', 'regras', 'paradigma', 'aprendizagem', 'automática', 'aprendizagem', 'automática', 'induz', 'aprendizagem', 'automática', 'regras', 'através', 'análises', 'corpora', 'exemplos', 'típicos', 'mundo', 'real', 'invés', 'usar', 'algoritmos', 'gerais', 'aprendizagem', 'muitas', 'vezes', 'embora', 'sempre', 'baseados', 'inferência', 'estatística', 'corpus', 'plural', 'corpora', 'conjunto', 'documentos', 'frases', 'individuais', 'anotados', 'mão', 'valores', 'corretos', 'serem', 'aprendidos', 'muitas', 'classes', 'diferentes', 'algoritmos', 'aprendizado', 'máquina', 'aplicadas', 'tarefas', 'pln', 'algoritmos', 'tomam', 'entrada', 'grande', 'conjunto', 'recursos', 'gerados', 'partir', 'dados', 'entrada', 'alguns', 'algoritmos', 'usados', 'árvores', 'decisão', 'produziam', 'sistemas', 'regras', 'rígidas', 'semelhantes', 'sistemas', 'regras', 'manuscritas', 'comuns', 'entanto', 'cada', 'vez', 'pesquisa', 'concentrado', 'modelos', 'estatísticos', 'tomam', 'decisões', 'flexíveis', 'probabilísticas', 'baseadas', 'agregar', 'pesos', 'reais', 'cada', 'característica', 'entrada', 'tais', 'modelos', 'têm', 'vantagem', 'poder', 'expressar', 'certeza', 'relativa', 'muitas', 'respostas', 'possíveis', 'diferentes', 'vez', 'apenas', 'produzindo', 'resultados', 'confiáveis', 'modelo', 'incluído', 'componente', 'sistema', 'maior', 'sistemas', 'baseados', 'algoritmos', 'aprendizagem', 'mecânica', 'têm', 'muitas', 'vantagens', 'relação', 'regras', 'produzidas', 'manualmente', 'procedimentos', 'aprendizagem', 'usados', 'durante', 'aprendizagem', 'máquina', 'focam', 'automaticamente', 'casos', 'comuns', 'passo', 'escrevem', 'regras', 'mão', 'óbvio', 'sentido', 'esforço', 'deve', 'ser', 'dirigido', 'procedimentos', 'aprendizagem', 'automática', 'podem', 'fazer', 'uso', 'algoritmos', 'inferência', 'estatística', 'produzir', 'modelos', 'robustos', 'entradas', 'familiares', 'exemplo', 'contendo', 'palavras', 'estruturas', 'vistas', 'antes', 'entradas', 'errôneas', 'exemplo', 'palavras', 'palavras', 'incorretamente', 'omitidas', 'geralmente', 'lidar', 'entradas', 'forma', 'regras', 'manuscritas', 'sistemas', 'regras', 'manuscritas', 'tomam', 'decisões', 'suaves', 'extremamente', 'trabalhoso', 'propenso', 'erros', 'demorado', 'sistemas', 'baseados', 'aprender', 'automaticamente', 'regras', 'podem', 'ser', 'precisos', 'simplesmente', 'fornecendo', 'dados', 'entrada', 'entanto', 'sistemas', 'baseados', 'regras', 'escritas', 'mão', 'podem', 'ser', 'tornados', 'precisos', 'aumentando', 'complexidade', 'regras', 'tarefa', 'difícil', 'particular', 'limite', 'complexidade', 'sistemas', 'baseados', 'regras', 'artesanais', 'além', 'quais', 'sistemas', 'tornam', 'cada', 'vez', 'incontroláveis', 'entanto', 'criação', 'dados', 'entrada', 'sistemas', 'aprendizado', 'máquina', 'requer', 'simplesmente', 'aumento', 'correspondente', 'número', 'horas', 'trabalhadas', 'humanos', 'geralmente', 'aumentos', 'significativos', 'complexidade', 'processo', 'anotação', 'subcampo', 'pln', 'dedicado', 'abordagens', 'aprendizagem', 'conhecido', 'aprendizagem', 'língua', 'natural', 'nll', 'conferência', 'conll', 'orgão', 'central', 'signll', 'patrocinados', 'acl', 'reconhecendo', 'ligações', 'linguística', 'computacional', 'aquisição', 'linguagem', 'objetivo', 'pesquisa', 'aprendizagem', 'linguagem', 'computacional', 'entender', 'sobre', 'aquisição', 'linguagem', 'humana', 'psicolinguística', 'nll', 'sobrepõe', 'campo', 'relacionado', 'psicolinguística', 'computacional', 'aplicações', 'principais', 'listagem', 'seguir', 'traz', 'alguns', 'trabalhos', 'pesquisadas', 'pln', 'note', 'alguns', 'têm', 'aplicações', 'mundo', 'real', 'enquanto', 'outras', 'servem', 'frequentemente', 'tarefas', 'secundárias', 'usadas', 'auxiliar', 'resolução', 'tarefas', 'maiores', 'distingue', 'tarefas', 'outras', 'tarefas', 'potenciais', 'reais', 'pln', 'apenas', 'volume', 'pesquisa', 'dedicado', 'fato', 'cada', 'tipicamente', 'definição', 'problema', 'bem', 'especificada', 'métrica', 'padrão', 'avaliar', 'tarefa', 'corpora', 'padrão', 'tarefa', 'pode', 'ser', 'avaliada', 'competições', 'dedicadas', 'tarefa', 'específica', 'sumarização', 'automática', 'produz', 'resumo', 'legível', 'parte', 'texto', 'muitas', 'vezes', 'usado', 'fornecer', 'resumos', 'texto', 'tipo', 'conhecido', 'artigos', 'seção', 'financeira', 'jornal', 'resolução', 'correferência', 'dada', 'frase', 'pedaço', 'maior', 'texto', 'determina', 'quais', 'palavras', 'menções', 'referem', 'mesmos', 'objetos', 'entidades', 'resolução', 'anáfora', 'exemplo', 'específico', 'dessa', 'tarefa', 'especificamente', 'preocupada', 'combinar', 'pronomes', 'substantivos', 'nomes', 'quais', 'referem', 'tarefa', 'geral', 'resolução', 'correferência', 'inclui', 'identificação', 'chamados', 'relacionamentos', 'ponte', 'envolvendo', 'expressões', 'referência', 'exemplo', 'frase', 'entrou', 'casa', 'joão', 'porta', 'frente', 'porta', 'frente', 'expressão', 'referência', 'relação', 'ponte', 'ser', 'identificada', 'fato', 'porta', 'ser', 'referida', 'porta', 'frente', \"john's\", 'invés', 'alguma', 'outra', 'estrutura', 'pode', 'ser', 'referida', 'análise', 'discurso', 'rubrica', 'inclui', 'série', 'tarefas', 'relacionadas', 'tarefa', 'identificar', 'estrutura', 'discursiva', 'texto', 'conectado', 'natureza', 'relações', 'discursivas', 'sentenças', 'exemplo', 'elaboração', 'explicação', 'contraste', 'outra', 'possível', 'tarefa', 'reconhecer', 'classificar', 'atos', 'fala', 'pedaço', 'texto', 'exemplo', 'pergunta', 'sim', 'pergunta', 'conteúdo', 'frase', 'afirmação', 'etc', 'maquina', 'tradução', 'traduzir', 'automaticamente', 'texto', 'linguagem', 'humana', 'outra', 'tarefas', 'difíceis', 'faz', 'parte', 'tipo', 'problemas', 'conhecidos', 'ai', 'complete', 'exigindo', 'todos', 'diferentes', 'tipos', 'conhecimento', 'humanos', 'possuem', 'gramática', 'semântica', 'fatos', 'sobre', 'mundo', 'real', 'etc', 'resolvê', 'lo', 'adequadamente', 'segmentação', 'morfológica', 'separa', 'palavras', 'morfemas', 'individuais', 'identifica', 'classes', 'morfemas', 'dificuldade', 'desta', 'tarefa', 'depende', 'complexidade', 'morfologia', 'estrutura', 'palavras', 'linguagem', 'sendo', 'considerada', 'inglês', 'possui', 'morfologia', 'bastante', 'simples', 'especialmente', 'morfologia', 'flexional', 'portanto', 'possível', 'ignorar', 'tarefa', 'inteiramente', 'simplesmente', 'modelar', 'todas', 'formas', 'possíveis', 'palavra', 'exemplo', 'open', 'opens', 'opened', 'opening', 'palavras', 'separadas', 'línguas', 'turco', 'meitei', 'língua', 'indiana', 'fortemente', 'aglutinada', 'entanto', 'tal', 'abordagem', 'possível', 'vez', 'cada', 'entrada', 'dicionário', 'milhares', 'formas', 'palavras', 'possíveis', 'reconhecimento', 'entidade', 'nomeada', 'ner', 'dado', 'fluxo', 'texto', 'determina', 'quais', 'itens', 'mapa', 'texto', 'nomes', 'próprios', 'pessoas', 'locais', 'tipo', 'cada', 'nome', 'exemplo', 'pessoa', 'local', 'organização', 'embora', 'capitalização', 'possa', 'ajudar', 'reconhecer', 'entidades', 'nomeadas', 'idiomas', 'inglês', 'informações', 'podem', 'ajudar', 'determinar', 'tipo', 'entidade', 'nomeada', 'alguns', 'casos', 'sãos', 'imprecisas', 'insuficientes', 'exemplo', 'primeira', 'palavra', 'frase', 'capitalizada', 'entidades', 'nomeadas', 'muitas', 'vezes', 'abrangem', 'várias', 'palavras', 'apenas', 'algumas', 'capitalizadas', 'além', 'disso', 'muitas', 'outras', 'linguagens', 'scripts', 'ocidentais', 'exemplo', 'chinês', 'árabe', 'têm', 'nenhuma', 'capitalização', 'línguas', 'maiúsculas', 'podem', 'distinguir', 'nomes', 'exemplo', 'alemão', 'capitaliza', 'todos', 'substantivos', 'independentemente', 'referirem', 'nomes', 'francês', 'espanhol', 'capitalizam', 'nomes', 'servem', 'adjetivos', 'geração', 'língua', 'natural', 'converte', 'informações', 'bancos', 'dados', 'computador', 'intenções', 'semânticas', 'linguagem', 'humana', 'legível', 'compreensão', 'língua', 'natural', 'converte', 'pedaços', 'texto', 'representações', 'formais', 'estruturas', 'lógica', 'primeira', 'ordem', 'fáceis', 'manipular', 'programas', 'computador', 'compreensão', 'língua', 'natural', 'envolve', 'identificação', 'semântica', 'pretendida', 'partir', 'múltipla', 'semântica', 'possível', 'pode', 'ser', 'derivada', 'expressão', 'língua', 'natural', 'geralmente', 'toma', 'forma', 'notação', 'organizada', 'conceitos', 'linguagens', 'naturais', 'entretanto', 'introdução', 'criação', 'linguagem', 'metamodelo', 'ontologia', 'eficientes', 'soluções', 'empíricas', 'formalização', 'explícita', 'semântica', 'línguas', 'naturais', 'confusões', 'suposições', 'implícitas', 'closed', 'world', 'assumption', 'cwa', 'versus', 'open', 'world', 'assumption', 'subjetiva', 'sim', 'versus', 'objetivo', 'verdadeiro', 'falso', 'esperada', 'construção', 'base', 'formalização', 'semântica', 'reconhecimento', 'óptico', 'caracteres', 'ocr', 'dada', 'imagem', 'representa', 'texto', 'impresso', 'determina', 'texto', 'correspondente', 'marcação', 'classe', 'gramatical', 'dada', 'sentença', 'determina', 'classe', 'gramatical', 'cada', 'palavra', 'muitas', 'palavras', 'especialmente', 'comuns', 'podem', 'servir', 'múltiplas', 'partes', 'discurso', 'inglês', 'exemplo', 'book', 'pode', 'ser', 'substantivo', 'the', 'book', 'on', 'the', 'table', 'verbo', 'book', 'flight', 'set', 'pode', 'ser', 'substantivo', 'verbo', 'adjetivo', 'out', 'pode', 'ser', 'qualquer', 'menos', 'cinco', 'diferentes', 'partes', 'fala', 'algumas', 'línguas', 'têm', 'ambiguidade', 'outras', 'línguas', 'pouca', 'morfologia', 'flexional', 'inglês', 'particularmente', 'propensas', 'tal', 'ambiguidade', 'chinês', 'propenso', 'tal', 'ambiguidade', 'porque', 'língua', 'tonal', 'durante', 'verbalização', 'tal', 'inflexão', 'facilmente', 'transmitida', 'através', 'entidades', 'empregadas', 'dentro', 'ortografia', 'transmitir', 'significado', 'pretendido', 'análise', 'sintática', 'parsing', 'determina', 'árvore', 'análise', 'análise', 'gramatical', 'frase', 'gramática', 'linguagens', 'naturais', 'ambígua', 'frases', 'típicas', 'têm', 'múltiplas', 'análises', 'possíveis', 'verdade', 'surpreendentemente', 'frase', 'típica', 'pode', 'haver', 'milhares', 'análises', 'potencial', 'maioria', 'quais', 'parecerá', 'completamente', 'absurda', 'ser', 'humano', 'respostas', 'perguntas', 'dada', 'questão', 'linguagem', 'humana', 'determina', 'resposta', 'perguntas', 'típicas', 'têm', 'resposta', 'correta', 'específica', 'capital', 'canadá', 'vezes', 'perguntas', 'abertas', 'consideradas', 'significado', 'vida', 'trabalhos', 'recentes', 'têm', 'analisado', 'questões', 'ainda', 'complexas', 'extração', 'relacionamento', 'identifica', 'relações', 'entidades', 'nomeadas', 'exemplo', 'casado', 'base', 'textos', 'quebra', 'frases', 'sentence', 'boundary', 'disambiguation', 'encontra', 'limites', 'frase', 'pedaço', 'texto', 'limites', 'frases', 'normalmente', 'marcadas', 'pontos', 'outros', 'sinais', 'pontuação', 'mesmos', 'caracteres', 'podem', 'servir', 'outros', 'propósitos', 'análise', 'subjetividade', 'sentiment', 'analysis', 'opinion', 'mining', 'extrai', 'informações', 'subjetivas', 'geralmente', 'conjunto', 'documentos', 'muitas', 'vezes', 'usando', 'revisões', 'online', 'determinar', 'polaridade', 'sobre', 'objetos', 'específicos', 'especialmente', 'útil', 'identificar', 'tendências', 'opinião', 'pública', 'mídias', 'sociais', 'fins', 'marketing', 'reconhecimento', 'fala', 'dado', 'clipe', 'som', 'pessoa', 'pessoas', 'falando', 'determina', 'representação', 'textual', 'discurso', 'oposto', 'síntese', 'fala', 'áreas', 'difíceis', 'conhecida', 'ai', 'complete', 'fala', 'natural', 'quase', 'pausas', 'palavras', 'sucessivas', 'segmentação', 'fala', 'subtarefa', 'necessária', 'reconhecimento', 'fala', 'nota', 'maioria', 'linguagens', 'faladas', 'sons', 'representam', 'letras', 'sucessivas', 'misturam', 'si', 'processo', 'denominado', 'coarticulação', 'modo', 'conversão', 'sinal', 'analógico', 'caracteres', 'discretos', 'pode', 'ser', 'processo', 'difícil', 'ser', 'realizado', 'segmentação', 'fala', 'dado', 'clipe', 'som', 'pessoa', 'pessoas', 'falando', 'separa', 'palavras', 'subaplicação', 'reconhecimento', 'fala', 'normalmente', 'agrupada', 'análise', 'morfológica', 'reconhecimento', 'tópicos', 'dado', 'pedaço', 'texto', 'separa', 'segmentos', 'cada', 'quais', 'dedicado', 'tópico', 'identifica', 'tópico', 'segmento', 'análise', 'morfológica', 'segmentação', 'palavras', 'separa', 'pedaço', 'texto', 'contínuo', 'palavras', 'separadas', 'língua', 'inglês', 'bastante', 'trivial', 'vez', 'palavras', 'normalmente', 'separadas', 'espaços', 'entanto', 'algumas', 'línguas', 'escritas', 'chinês', 'japonês', 'tailandês', 'marcam', 'limites', 'palavras', 'tal', 'forma', 'nessas', 'línguas', 'segmentação', 'texto', 'tarefa', 'significativa', 'requer', 'conhecimento', 'vocabulário', 'morfologia', 'palavras', 'língua', 'desambiguação', 'muitas', 'palavras', 'têm', 'significado', 'assim', 'selecionar', 'significado', 'faz', 'sentido', 'contexto', 'problema', 'geral', 'dada', 'lista', 'palavras', 'sentidos', 'palavras', 'associadas', 'dicionário', 'recurso', 'online', 'wordnet', 'alguns', 'casos', 'conjuntos', 'tarefas', 'relacionadas', 'agrupados', 'subcampos', 'pln', 'frequentemente', 'considerados', 'separadamente', 'pln', 'todo', 'exemplos', 'seguir', 'recuperação', 'informação', 'ir', 'trata', 'armazenar', 'pesquisar', 'recuperar', 'informações', 'campo', 'separado', 'dentro', 'ciência', 'computação', 'perto', 'bancos', 'dados', 'ir', 'baseia', 'alguns', 'métodos', 'pln', 'exemplo', 'stemming', 'algumas', 'pesquisas', 'aplicações', 'atuais', 'procuram', 'preencher', 'lacuna', 'ir', 'pln', 'extração', 'informação', 'ie', 'trata', 'geral', 'extração', 'informação', 'semântica', 'partir', 'texto', 'abrange', 'tarefas', 'reconhecimento', 'entidade', 'mencionada', 'resolução', 'correferência', 'relacionamento', 'extração', 'etc', 'processamento', 'voz', 'abrange', 'reconhecimento', 'fala', 'síntese', 'fala', 'tarefas', 'relacionadas', 'outras', 'tarefas', 'incluem', 'identificação', 'língua', 'materna', 'stemização', 'simplificação', 'texto', 'síntese', 'fala', 'revisão', 'texto', 'pesquisa', 'língua', 'natural', 'expansão', 'consulta', 'pontuação', 'ensaio', 'automatizado', 'truecasing', 'estatística', 'artigo', 'principal', 'gramática', 'estocástica', 'processamento', 'estatístico', 'língua', 'natural', 'utiliza', 'métodos', 'estocásticos', 'probabilísticos', 'estatísticos', 'resolver', 'algumas', 'dificuldades', 'discutidas', 'acima', 'especialmente', 'surgem', 'porque', 'frases', 'longas', 'ambíguas', 'processadas', 'gramáticas', 'realistas', 'produzindo', 'milhares', 'milhões', 'análises', 'possíveis', 'métodos', 'desambiguação', 'envolvem', 'muitas', 'vezes', 'uso', 'corpora', 'modelos', 'markov', 'projeto', 'esprit', 'p', 'liderado', 'cselt', 'explorou', 'problema', 'reconhecimento', 'fala', 'comparando', 'abordagem', 'baseada', 'conhecimento', 'estatística', 'resultado', 'escolhido', 'modelo', 'completamente', 'estatístico', 'primeiros', 'modelos', 'compreensão', 'estatística', 'língua', 'natural', 'introduzido', 'roberto', 'pieraccini', 'esther', 'levin', 'chin', 'hui', 'lee', 'bell', 'laboratories', 'pln', 'compreende', 'todas', 'abordagens', 'quantitativas', 'processamento', 'automatizado', 'linguagem', 'incluindo', 'modelagem', 'probabilística', 'teoria', 'informação', 'álgebra', 'linear', 'tecnologia', 'pln', 'estatístico', 'vem', 'principalmente', 'aprendizagem', 'automática', 'mineração', 'dados', 'campos', 'inteligência', 'artificial', 'envolvem', 'aprendizado', 'partir', 'dados', 'avaliação', 'objetivo', 'avaliação', 'pln', 'medida', 'qualidades', 'algoritmo', 'sistema', 'fim', 'determinar', 'algoritmo', 'atende', 'metas', 'projetistas', 'sistema', 'atendimento', 'necessidades', 'usuários', 'investigação', 'avaliação', 'pln', 'ganhado', 'atenção', 'porque', 'definição', 'critérios', 'avaliação', 'forma', 'especificar', 'precisamente', 'problemas', 'pln', 'métrica', 'avaliação', 'pln', 'sistema', 'algorítmico', 'permite', 'integração', 'compreensão', 'linguagem', 'geração', 'linguagem', 'conjunto', 'preciso', 'critérios', 'avaliação', 'pode', 'ser', 'aplicado', 'principalmente', 'avaliações', 'métricas', 'podendo', 'permitir', 'várias', 'equipes', 'comparem', 'soluções', 'determinado', 'problema', 'pln', 'cronologia', 'avaliação', 'iniciou', 'projecto', 'esprit', 'p', 'avaliou', 'tecnologias', 'fala', 'incluindo', 'tópicos', 'gerais', 'sintaxe', 'semântica', 'comparando', 'abordagens', 'baseadas', 'regras', 'estatísticas', 'primeira', 'campanha', 'avaliação', 'textos', 'escritos', 'parece', 'ser', 'campanha', 'dedicada', 'compreensão', 'mensagem', 'pallet', 'projeto', 'parseval', 'geig', 'comparou', 'gramáticas', 'frase', 'estrutura', 'black', 'série', 'campanhas', 'projeto', 'tipster', 'sobre', 'tarefas', 'resumo', 'tradução', 'pesquisa', 'hirschman', 'alemanha', 'morpholympics', 'comparou', 'marcadores', 'morfológicos', 'alemães', 'campanhas', 'senseval', 'romanseval', 'realizadas', 'objetivos', 'desambiguação', 'semântica', 'campanha', 'sparkle', 'comparou', 'analisadores', 'sintáticos', 'quatro', 'idiomas', 'diferentes', 'inglês', 'francês', 'alemão', 'italiano', 'frança', 'projeto', 'grace', 'comparou', 'conjunto', 'marcadores', 'francês', 'adda', 'durante', 'projeto', 'technolangue', 'easy', 'comparados', 'analisadores', 'francês', 'avaliação', 'larga', 'escala', 'analisadores', 'dependência', 'realizada', 'contexto', 'tarefas', 'compartilhadas', 'conll', 'frança', 'âmbito', 'projecto', 'anr', 'passage', 'final', 'comparados', 'analisadores', 'francês', 'itália', 'campanha', 'evalita', 'realizada', 'comparar', 'várias', 'ferramentas', 'pln', 'voz', 'site', 'italiano', 'evalita', 'diferentes', 'tipos', 'avaliação', 'avaliação', 'intrínseca', 'vs', 'extrínseca', 'avaliação', 'intrínseca', 'considera', 'sistema', 'pnl', 'isolado', 'caracteriza', 'desempenho', 'relação', 'resultado', 'padrão', 'excelência', 'conforme', 'definido', 'avaliadores', 'avaliação', 'extrínseca', 'chamada', 'avaliação', 'uso', 'considera', 'sistema', 'pln', 'cenário', 'complexo', 'sistema', 'embutido', 'função', 'precisa', 'usuário', 'humano', 'desempenho', 'extrínseco', 'sistema', 'então', 'caracterizado', 'termos', 'utilidade', 'relação', 'tarefa', 'global', 'sistema', 'estranho', 'utilizador', 'humano', 'exemplo', 'considere', 'analisador', 'sintático', 'baseado', 'saída', 'alguma', 'parte', 'tagger', 'fala', 'pos', 'avaliação', 'intrínseca', 'executaria', 'marcador', 'pos', 'dados', 'estruturados', 'compararia', 'saída', 'sistema', 'marcador', 'pos', 'saída', 'padrão', 'ouro', 'avaliação', 'extrínseca', 'executaria', 'analisador', 'algum', 'outro', 'marcador', 'pos', 'seguida', 'marcador', 'pos', 'novo', 'compara', 'precisão', 'análise', 'caixa', 'preta', 'vs', 'avaliação', 'caixa', 'vidro', 'avaliação', 'caixa', 'preta', 'requer', 'alguém', 'execute', 'sistema', 'pln', 'conjunto', 'dados', 'amostra', 'medir', 'série', 'parâmetros', 'relacionados', 'qualidade', 'processo', 'velocidade', 'confiabilidade', 'consumo', 'recursos', 'principalmente', 'qualidade', 'resultado', 'precisão', 'anotação', 'dados', 'fidelidade', 'tradução', 'avaliação', 'caixa', 'vidro', 'examina', 'concepção', 'sistema', 'algoritmos', 'implementados', 'recursos', 'linguísticos', 'utiliza', 'tamanho', 'vocabulário', 'expressão', 'definida', 'cardinalidade', 'dada', 'complexidade', 'problemas', 'pln', 'muitas', 'vezes', 'difícil', 'prever', 'desempenho', 'apenas', 'base', 'avaliação', 'caixa', 'vidro', 'tipo', 'avaliação', 'informativo', 'diz', 'respeito', 'análise', 'erros', 'desenvolvimentos', 'futuros', 'sistema', 'automática', 'vs', 'avaliação', 'manual', 'muitos', 'casos', 'procedimentos', 'automáticos', 'podem', 'ser', 'definidos', 'avaliar', 'sistema', 'pln', 'comparando', 'saída', 'padrão', 'excelência', 'embora', 'custo', 'reproduzir', 'padrão', 'excelência', 'possa', 'ser', 'bastante', 'elevado', 'avaliação', 'automática', 'bootstrapping', 'sobre', 'mesmos', 'dados', 'entrada', 'pode', 'ser', 'repetida', 'quantas', 'vezes', 'necessário', 'custos', 'adicionais', 'desordenados', 'entanto', 'muitos', 'problemas', 'pln', 'definição', 'precisa', 'padrão', 'excelência', 'tarefa', 'complexa', 'pode', 'revelar', 'impossível', 'acordo', 'inter', 'anotador', 'insuficiente', 'avaliação', 'manual', 'melhor', 'realizada', 'juízes', 'humanos', 'instruídos', 'estimar', 'qualidade', 'sistema', 'frequentemente', 'amostra', 'produção', 'base', 'série', 'critérios', 'embora', 'graças', 'competência', 'linguística', 'juízes', 'humanos', 'possam', 'ser', 'considerados', 'referência', 'série', 'tarefas', 'processamento', 'linguagem', 'variação', 'considerável', 'classificações', 'avaliação', 'automática', 'vezes', 'referida', 'avaliação', 'objetiva', 'enquanto', 'avaliação', 'humana', 'perspectiva', 'padronização', 'subcomitê', 'iso', 'trabalhando', 'facilitar', 'interoperabilidade', 'recursos', 'lexicais', 'programas', 'pln', 'subcomitê', 'faz', 'parte', 'iso', 'tc', 'chamado', 'iso', 'tc', 'sc', 'alguns', 'padrões', 'iso', 'publicados', 'maioria', 'construção', 'principalmente', 'representação', 'léxico', 'ver', 'lmf', 'anotação', 'registro', 'categoria', 'dados', 'ferramentas', 'expert', 'system', 's', 'p', 'general', 'architecture', 'text', 'engineering', 'modular', 'audio', 'recognition', 'framework', 'natural', 'language', 'toolkit', 'nltk', 'biblioteca', 'python', 'opennlp', 'veja', 'mineração', 'texto', 'biomédica', 'processo', 'processamento', 'composto', 'revisão', 'assistida', 'computador', 'linguagem', 'natural', 'controlada', 'processamento', 'linguístico', 'profundo', 'auxílio', 'leitura', 'línguas', 'estrangeiras', 'auxílio', 'escrita', 'língua', 'estrangeira', 'tecnologia', 'linguagem', 'alocação', 'dirichlet', 'latente', 'lda', 'indexação', 'semântica', 'latente', 'lista', 'ferramentas', 'processamento', 'língua', 'natural', 'mapa', 'lre', 'programação', 'língua', 'natural', 'reificação', 'linguística', 'dobradura', 'semântica', 'sistema', 'diálogo', 'falado', 'vetor', 'pensamento', 'pesquisa', 'transderivacional', 'wordvec', 'referências', 'leitura', 'adicional', 'steven', 'bird', 'ewan', 'klein', 'and', 'edward', 'loper', 'natural', 'language', 'processing', 'with', 'python', \"o'reilly\", 'media', 'isbn', 'daniel', 'jurafsky', 'and', 'james', 'h', 'martin', 'speech', 'and', 'language', 'processing', 'nd', 'edition', 'pearson', 'prentice', 'hall', 'isbn', 'christopher', 'd', 'manning', 'prabhakar', 'raghavan', 'and', 'hinrich', 'schütze', 'introduction', 'to', 'information', 'retrieval', 'cambridge', 'university', 'press', 'isbn', 'official', 'html', 'and', 'pdf', 'versions', 'available', 'without', 'charge', 'christopher', 'd', 'manning', 'and', 'hinrich', 'schütze', 'foundations', 'of', 'statistical', 'natural', 'language', 'processing', 'the', 'mit', 'press', 'isbn', 'david', 'm', 'w', 'powers', 'and', 'christopher', 'c', 'r', 'turk', 'machine', 'learning', 'of', 'natural', 'language', 'springer', 'verlag', 'isbn']\n"
          ],
          "name": "stdout"
        }
      ]
    },
    {
      "cell_type": "code",
      "metadata": {
        "id": "EFw3RfwXE2Wp",
        "outputId": "c710d8e6-47bd-4c89-cc21-78facda02382",
        "colab": {
          "base_uri": "https://localhost:8080/",
          "height": 1000
        }
      },
      "source": [
        "sorted(tokens_sem_punction)"
      ],
      "execution_count": 133,
      "outputs": [
        {
          "output_type": "execute_result",
          "data": {
            "text/plain": [
              "['abertas',\n",
              " 'abordagem',\n",
              " 'abordagem',\n",
              " 'abordagem',\n",
              " 'abordagens',\n",
              " 'abordagens',\n",
              " 'abordagens',\n",
              " 'abrange',\n",
              " 'abrange',\n",
              " 'abrangem',\n",
              " 'absurda',\n",
              " 'acima',\n",
              " 'acl',\n",
              " 'acordo',\n",
              " 'adda',\n",
              " 'adequadamente',\n",
              " 'adicionais',\n",
              " 'adicional',\n",
              " 'adjetivo',\n",
              " 'adjetivos',\n",
              " 'afirmaram',\n",
              " 'afirmação',\n",
              " 'aglutinada',\n",
              " 'agora',\n",
              " 'agora',\n",
              " 'agregar',\n",
              " 'agrupada',\n",
              " 'agrupados',\n",
              " 'ai',\n",
              " 'ai',\n",
              " 'ainda',\n",
              " 'ajudar',\n",
              " 'ajudar',\n",
              " 'alan',\n",
              " 'alemanha',\n",
              " 'alemães',\n",
              " 'alemão',\n",
              " 'alemão',\n",
              " 'algoritmo',\n",
              " 'algoritmo',\n",
              " 'algoritmos',\n",
              " 'algoritmos',\n",
              " 'algoritmos',\n",
              " 'algoritmos',\n",
              " 'algoritmos',\n",
              " 'algoritmos',\n",
              " 'algoritmos',\n",
              " 'algoritmos',\n",
              " 'algoritmos',\n",
              " 'algoritmos',\n",
              " 'algoritmos',\n",
              " 'algoritmos',\n",
              " 'algorítmico',\n",
              " 'algum',\n",
              " 'alguma',\n",
              " 'alguma',\n",
              " 'algumas',\n",
              " 'algumas',\n",
              " 'algumas',\n",
              " 'algumas',\n",
              " 'algumas',\n",
              " 'alguns',\n",
              " 'alguns',\n",
              " 'alguns',\n",
              " 'alguns',\n",
              " 'alguns',\n",
              " 'alguns',\n",
              " 'alguns',\n",
              " 'alguns',\n",
              " 'alguns',\n",
              " 'alguns',\n",
              " 'alguns',\n",
              " 'alguém',\n",
              " 'alocação',\n",
              " 'alpac',\n",
              " 'além',\n",
              " 'além',\n",
              " 'ambiguidade',\n",
              " 'ambiguidade',\n",
              " 'ambiguidade',\n",
              " 'ambígua',\n",
              " 'ambíguas',\n",
              " 'amostra',\n",
              " 'amostra',\n",
              " 'analisado',\n",
              " 'analisador',\n",
              " 'analisador',\n",
              " 'analisadores',\n",
              " 'analisadores',\n",
              " 'analisadores',\n",
              " 'analisadores',\n",
              " 'analysis',\n",
              " 'analógico',\n",
              " 'and',\n",
              " 'and',\n",
              " 'and',\n",
              " 'and',\n",
              " 'and',\n",
              " 'and',\n",
              " 'and',\n",
              " 'and',\n",
              " 'anos',\n",
              " 'anos',\n",
              " 'anos',\n",
              " 'anos',\n",
              " 'anos',\n",
              " 'anotador',\n",
              " 'anotados',\n",
              " 'anotados',\n",
              " 'anotados',\n",
              " 'anotados',\n",
              " 'anotados',\n",
              " 'anotação',\n",
              " 'anotação',\n",
              " 'anotação',\n",
              " 'anr',\n",
              " 'anteriores',\n",
              " 'anteriormente',\n",
              " 'antes',\n",
              " 'antigos',\n",
              " 'anáfora',\n",
              " 'análise',\n",
              " 'análise',\n",
              " 'análise',\n",
              " 'análise',\n",
              " 'análise',\n",
              " 'análise',\n",
              " 'análise',\n",
              " 'análise',\n",
              " 'análise',\n",
              " 'análises',\n",
              " 'análises',\n",
              " 'análises',\n",
              " 'análises',\n",
              " 'apenas',\n",
              " 'apenas',\n",
              " 'apenas',\n",
              " 'apenas',\n",
              " 'aplicadas',\n",
              " 'aplicado',\n",
              " 'aplicações',\n",
              " 'aplicações',\n",
              " 'aplicações',\n",
              " 'aprender',\n",
              " 'aprender',\n",
              " 'aprendidos',\n",
              " 'aprendizado',\n",
              " 'aprendizado',\n",
              " 'aprendizado',\n",
              " 'aprendizado',\n",
              " 'aprendizado',\n",
              " 'aprendizado',\n",
              " 'aprendizagem',\n",
              " 'aprendizagem',\n",
              " 'aprendizagem',\n",
              " 'aprendizagem',\n",
              " 'aprendizagem',\n",
              " 'aprendizagem',\n",
              " 'aprendizagem',\n",
              " 'aprendizagem',\n",
              " 'aprendizagem',\n",
              " 'aprendizagem',\n",
              " 'aprendizagem',\n",
              " 'aprendizagem',\n",
              " 'aprendizagem',\n",
              " 'aprendizagem',\n",
              " 'aprendizagem',\n",
              " 'aprendizagem',\n",
              " 'aprendizagem',\n",
              " 'aprendizagem',\n",
              " 'aprendizagem',\n",
              " 'aprendizagem',\n",
              " 'aprendizagem',\n",
              " 'após',\n",
              " 'aquisição',\n",
              " 'aquisição',\n",
              " 'architecture',\n",
              " 'armazenar',\n",
              " 'artesanais',\n",
              " 'artificial',\n",
              " 'artificial',\n",
              " 'artigo',\n",
              " 'artigo',\n",
              " 'artigos',\n",
              " 'assim',\n",
              " 'assistida',\n",
              " 'associadas',\n",
              " 'assumption',\n",
              " 'assumption',\n",
              " 'atende',\n",
              " 'atendimento',\n",
              " 'atenção',\n",
              " 'atos',\n",
              " 'através',\n",
              " 'através',\n",
              " 'atribuição',\n",
              " 'atuais',\n",
              " 'audio',\n",
              " 'aumentando',\n",
              " 'aumento',\n",
              " 'aumento',\n",
              " 'aumentos',\n",
              " 'automaticamente',\n",
              " 'automaticamente',\n",
              " 'automaticamente',\n",
              " 'automatizado',\n",
              " 'automatizado',\n",
              " 'automática',\n",
              " 'automática',\n",
              " 'automática',\n",
              " 'automática',\n",
              " 'automática',\n",
              " 'automática',\n",
              " 'automática',\n",
              " 'automática',\n",
              " 'automática',\n",
              " 'automática',\n",
              " 'automática',\n",
              " 'automática',\n",
              " 'automática',\n",
              " 'automática',\n",
              " 'automática',\n",
              " 'automática',\n",
              " 'automática',\n",
              " 'automática',\n",
              " 'automáticos',\n",
              " 'autores',\n",
              " 'auxiliar',\n",
              " 'auxílio',\n",
              " 'auxílio',\n",
              " 'available',\n",
              " 'avaliada',\n",
              " 'avaliadores',\n",
              " 'avaliar',\n",
              " 'avaliar',\n",
              " 'avaliação',\n",
              " 'avaliação',\n",
              " 'avaliação',\n",
              " 'avaliação',\n",
              " 'avaliação',\n",
              " 'avaliação',\n",
              " 'avaliação',\n",
              " 'avaliação',\n",
              " 'avaliação',\n",
              " 'avaliação',\n",
              " 'avaliação',\n",
              " 'avaliação',\n",
              " 'avaliação',\n",
              " 'avaliação',\n",
              " 'avaliação',\n",
              " 'avaliação',\n",
              " 'avaliação',\n",
              " 'avaliação',\n",
              " 'avaliação',\n",
              " 'avaliação',\n",
              " 'avaliação',\n",
              " 'avaliação',\n",
              " 'avaliação',\n",
              " 'avaliação',\n",
              " 'avaliação',\n",
              " 'avaliação',\n",
              " 'avaliação',\n",
              " 'avaliações',\n",
              " 'avaliou',\n",
              " 'avanços',\n",
              " 'bancos',\n",
              " 'bancos',\n",
              " 'bancos',\n",
              " 'base',\n",
              " 'base',\n",
              " 'base',\n",
              " 'base',\n",
              " 'base',\n",
              " 'baseada',\n",
              " 'baseadas',\n",
              " 'baseadas',\n",
              " 'baseadas',\n",
              " 'baseado',\n",
              " 'baseados',\n",
              " 'baseados',\n",
              " 'baseados',\n",
              " 'baseados',\n",
              " 'baseados',\n",
              " 'baseava',\n",
              " 'baseia',\n",
              " 'baseiam',\n",
              " 'bastante',\n",
              " 'bastante',\n",
              " 'bastante',\n",
              " 'bell',\n",
              " 'bem',\n",
              " 'bem',\n",
              " 'biblioteca',\n",
              " 'biomédica',\n",
              " 'bird',\n",
              " 'black',\n",
              " 'blocks',\n",
              " 'book',\n",
              " 'book',\n",
              " 'book',\n",
              " 'bootstrapping',\n",
              " 'boundary',\n",
              " 'c',\n",
              " 'cabeça',\n",
              " 'cabeça',\n",
              " 'cache',\n",
              " 'cada',\n",
              " 'cada',\n",
              " 'cada',\n",
              " 'cada',\n",
              " 'cada',\n",
              " 'cada',\n",
              " 'cada',\n",
              " 'cada',\n",
              " 'cada',\n",
              " 'cada',\n",
              " 'caixa',\n",
              " 'caixa',\n",
              " 'caixa',\n",
              " 'caixa',\n",
              " 'caixa',\n",
              " 'cambridge',\n",
              " 'campanha',\n",
              " 'campanha',\n",
              " 'campanha',\n",
              " 'campanha',\n",
              " 'campanhas',\n",
              " 'campanhas',\n",
              " 'campo',\n",
              " 'campo',\n",
              " 'campo',\n",
              " 'campos',\n",
              " 'canadá',\n",
              " 'canadá',\n",
              " 'capazes',\n",
              " 'capazes',\n",
              " 'capital',\n",
              " 'capitaliza',\n",
              " 'capitalizada',\n",
              " 'capitalizadas',\n",
              " 'capitalizam',\n",
              " 'capitalização',\n",
              " 'capitalização',\n",
              " 'caracteres',\n",
              " 'caracteres',\n",
              " 'caracteres',\n",
              " 'caracteriza',\n",
              " 'caracterizado',\n",
              " 'característica',\n",
              " 'carbonell',\n",
              " 'cardinalidade',\n",
              " 'casa',\n",
              " 'casado',\n",
              " 'casos',\n",
              " 'casos',\n",
              " 'casos',\n",
              " 'casos',\n",
              " 'casos',\n",
              " 'categoria',\n",
              " 'central',\n",
              " 'cenário',\n",
              " 'certeza',\n",
              " 'chamada',\n",
              " 'chamado',\n",
              " 'chamado',\n",
              " 'chamados',\n",
              " 'charge',\n",
              " 'chatterbots',\n",
              " 'chin',\n",
              " 'chinês',\n",
              " 'chinês',\n",
              " 'chinês',\n",
              " 'chomskyanas',\n",
              " 'christopher',\n",
              " 'christopher',\n",
              " 'christopher',\n",
              " 'cinco',\n",
              " 'cinco',\n",
              " 'ciência',\n",
              " 'ciência',\n",
              " 'classe',\n",
              " 'classe',\n",
              " 'classes',\n",
              " 'classes',\n",
              " 'classificar',\n",
              " 'classificações',\n",
              " 'clipe',\n",
              " 'clipe',\n",
              " 'closed',\n",
              " 'coarticulação',\n",
              " 'codificação',\n",
              " 'coisas',\n",
              " 'combinar',\n",
              " 'combinação',\n",
              " 'começaram',\n",
              " 'começou',\n",
              " 'compara',\n",
              " 'comparados',\n",
              " 'comparados',\n",
              " 'comparando',\n",
              " 'comparando',\n",
              " 'comparando',\n",
              " 'comparar',\n",
              " 'compararia',\n",
              " 'comparem',\n",
              " 'comparou',\n",
              " 'comparou',\n",
              " 'comparou',\n",
              " 'comparou',\n",
              " 'compartilhadas',\n",
              " 'compensar',\n",
              " 'competições',\n",
              " 'competência',\n",
              " 'completamente',\n",
              " 'completamente',\n",
              " 'complete',\n",
              " 'complete',\n",
              " 'complexa',\n",
              " 'complexas',\n",
              " 'complexidade',\n",
              " 'complexidade',\n",
              " 'complexidade',\n",
              " 'complexidade',\n",
              " 'complexidade',\n",
              " 'complexo',\n",
              " 'complexos',\n",
              " 'componente',\n",
              " 'composto',\n",
              " 'compreende',\n",
              " 'compreendem',\n",
              " 'compreensão',\n",
              " 'compreensão',\n",
              " 'compreensão',\n",
              " 'compreensão',\n",
              " 'compreensão',\n",
              " 'compreensão',\n",
              " 'compreensão',\n",
              " 'compreensão',\n",
              " 'compreensíveis',\n",
              " 'compreensível',\n",
              " 'computacional',\n",
              " 'computacional',\n",
              " 'computacional',\n",
              " 'computacional',\n",
              " 'computador',\n",
              " 'computador',\n",
              " 'computador',\n",
              " 'computador',\n",
              " 'computadores',\n",
              " 'computadores',\n",
              " 'computadores',\n",
              " 'computação',\n",
              " 'computação',\n",
              " 'computing',\n",
              " 'compõem',\n",
              " 'comum',\n",
              " 'comuns',\n",
              " 'comuns',\n",
              " 'comuns',\n",
              " 'conceitos',\n",
              " 'conceituais',\n",
              " 'concentrado',\n",
              " 'concentrado',\n",
              " 'concentrava',\n",
              " 'concepção',\n",
              " 'conduzidas',\n",
              " 'conectado',\n",
              " 'conferência',\n",
              " 'confiabilidade',\n",
              " 'confiáveis',\n",
              " 'confiáveis',\n",
              " 'conforme',\n",
              " 'confusões',\n",
              " 'conhecida',\n",
              " 'conhecido',\n",
              " 'conhecido',\n",
              " 'conhecidos',\n",
              " 'conhecimento',\n",
              " 'conhecimento',\n",
              " 'conhecimento',\n",
              " 'conhecimento',\n",
              " 'conjunto',\n",
              " 'conjunto',\n",
              " 'conjunto',\n",
              " 'conjunto',\n",
              " 'conjunto',\n",
              " 'conjunto',\n",
              " 'conjuntos',\n",
              " 'conjuntos',\n",
              " 'conjuntos',\n",
              " 'conll',\n",
              " 'conll',\n",
              " 'conseguiu',\n",
              " 'considera',\n",
              " 'considera',\n",
              " 'considerada',\n",
              " 'consideradas',\n",
              " 'considerados',\n",
              " 'considerados',\n",
              " 'considere',\n",
              " 'considerável',\n",
              " 'constante',\n",
              " 'constatou',\n",
              " 'construção',\n",
              " 'construção',\n",
              " 'consulta',\n",
              " 'consumo',\n",
              " 'contendo',\n",
              " 'contexto',\n",
              " 'contexto',\n",
              " 'conteúdo',\n",
              " 'conteúdo',\n",
              " 'continua',\n",
              " 'contraste',\n",
              " 'controlada',\n",
              " 'contém',\n",
              " 'contínuo',\n",
              " 'conversão',\n",
              " 'converte',\n",
              " 'converte',\n",
              " 'convertem',\n",
              " 'convertem',\n",
              " 'corpora',\n",
              " 'corpora',\n",
              " 'corpora',\n",
              " 'corpora',\n",
              " 'corpora',\n",
              " 'corpora',\n",
              " 'corpus',\n",
              " 'corpus',\n",
              " 'correferência',\n",
              " 'correferência',\n",
              " 'correferência',\n",
              " 'correspondente',\n",
              " 'correspondente',\n",
              " 'correta',\n",
              " 'corretos',\n",
              " 'criava',\n",
              " 'criação',\n",
              " 'criação',\n",
              " 'critério',\n",
              " 'critérios',\n",
              " 'critérios',\n",
              " 'critérios',\n",
              " 'cronologia',\n",
              " 'cselt',\n",
              " 'cujos',\n",
              " 'cullingford',\n",
              " 'custo',\n",
              " 'custos',\n",
              " 'cwa',\n",
              " 'd',\n",
              " 'd',\n",
              " 'dada',\n",
              " 'dada',\n",
              " 'dada',\n",
              " 'dada',\n",
              " 'dada',\n",
              " 'dada',\n",
              " 'dado',\n",
              " 'dado',\n",
              " 'dado',\n",
              " 'dado',\n",
              " 'dados',\n",
              " 'dados',\n",
              " 'dados',\n",
              " 'dados',\n",
              " 'dados',\n",
              " 'dados',\n",
              " 'dados',\n",
              " 'dados',\n",
              " 'dados',\n",
              " 'dados',\n",
              " 'dados',\n",
              " 'dados',\n",
              " 'dados',\n",
              " 'dados',\n",
              " 'dados',\n",
              " 'dados',\n",
              " 'dados',\n",
              " 'dados',\n",
              " 'dados',\n",
              " 'dados',\n",
              " 'dados',\n",
              " 'dados',\n",
              " 'daniel',\n",
              " 'david',\n",
              " 'decisão',\n",
              " 'decisão',\n",
              " 'decisões',\n",
              " 'decisões',\n",
              " 'decisões',\n",
              " 'dedicada',\n",
              " 'dedicadas',\n",
              " 'dedicado',\n",
              " 'dedicado',\n",
              " 'dedicado',\n",
              " 'definida',\n",
              " 'definido',\n",
              " 'definidos',\n",
              " 'definição',\n",
              " 'definição',\n",
              " 'definição',\n",
              " 'demorado',\n",
              " 'denominado',\n",
              " 'dentro',\n",
              " 'dentro',\n",
              " 'dentro',\n",
              " 'depende',\n",
              " 'dependem',\n",
              " 'dependia',\n",
              " 'dependência',\n",
              " 'derivada',\n",
              " 'desafios',\n",
              " 'desambiguação',\n",
              " 'desambiguação',\n",
              " 'desambiguação',\n",
              " 'desconhecidas',\n",
              " 'desejadas',\n",
              " 'desempenho',\n",
              " 'desempenho',\n",
              " 'desempenho',\n",
              " 'desenvolveu',\n",
              " 'desenvolvido',\n",
              " 'desenvolvidos',\n",
              " 'desenvolvidos',\n",
              " 'desenvolvimentos',\n",
              " 'desestimularam',\n",
              " 'desordenados',\n",
              " 'dessa',\n",
              " 'desta',\n",
              " 'determina',\n",
              " 'determina',\n",
              " 'determina',\n",
              " 'determina',\n",
              " 'determina',\n",
              " 'determina',\n",
              " 'determina',\n",
              " 'determinado',\n",
              " 'determinar',\n",
              " 'determinar',\n",
              " 'determinar',\n",
              " 'deve',\n",
              " 'devido',\n",
              " 'devido',\n",
              " 'dez',\n",
              " 'dicionário',\n",
              " 'dicionário',\n",
              " 'diferente',\n",
              " 'diferentes',\n",
              " 'diferentes',\n",
              " 'diferentes',\n",
              " 'diferentes',\n",
              " 'diferentes',\n",
              " 'diferentes',\n",
              " 'dificuldade',\n",
              " 'dificuldades',\n",
              " 'difíceis',\n",
              " 'difíceis',\n",
              " 'difícil',\n",
              " 'difícil',\n",
              " 'difícil',\n",
              " 'diminuição',\n",
              " 'direta',\n",
              " 'dirichlet',\n",
              " 'dirigido',\n",
              " 'disambiguation',\n",
              " 'discretos',\n",
              " 'discursiva',\n",
              " 'discursivas',\n",
              " 'discurso',\n",
              " 'discurso',\n",
              " 'discurso',\n",
              " 'discutidas',\n",
              " 'disponíveis',\n",
              " 'disso',\n",
              " 'distingue',\n",
              " 'distinguir',\n",
              " 'diz',\n",
              " 'diz',\n",
              " 'diálogo',\n",
              " 'dobradura',\n",
              " 'documentos',\n",
              " 'documentos',\n",
              " 'dominância',\n",
              " 'drasticamente',\n",
              " 'durante',\n",
              " 'durante',\n",
              " 'durante',\n",
              " 'durante',\n",
              " 'década',\n",
              " 'década',\n",
              " 'década',\n",
              " 'dói',\n",
              " 'dói',\n",
              " 'easy',\n",
              " 'edition',\n",
              " 'edward',\n",
              " 'eficazes',\n",
              " 'eficientes',\n",
              " 'elaborados',\n",
              " 'elaboração',\n",
              " 'elevado',\n",
              " 'eliza',\n",
              " 'eliza',\n",
              " 'eliza',\n",
              " 'embora',\n",
              " 'embora',\n",
              " 'embora',\n",
              " 'embora',\n",
              " 'embutido',\n",
              " 'emoção',\n",
              " 'empregadas',\n",
              " 'empíricas',\n",
              " 'encontra',\n",
              " 'engineering',\n",
              " 'enorme',\n",
              " 'enquanto',\n",
              " 'enquanto',\n",
              " 'ensaio',\n",
              " 'entanto',\n",
              " 'entanto',\n",
              " 'entanto',\n",
              " 'entanto',\n",
              " 'entanto',\n",
              " 'entanto',\n",
              " 'entanto',\n",
              " 'entanto',\n",
              " 'entanto',\n",
              " 'entanto',\n",
              " 'entanto',\n",
              " 'entender',\n",
              " 'entidade',\n",
              " 'entidade',\n",
              " 'entidade',\n",
              " 'entidades',\n",
              " 'entidades',\n",
              " 'entidades',\n",
              " 'entidades',\n",
              " 'entidades',\n",
              " 'entrada',\n",
              " 'entrada',\n",
              " 'entrada',\n",
              " 'entrada',\n",
              " 'entrada',\n",
              " 'entrada',\n",
              " 'entrada',\n",
              " 'entrada',\n",
              " 'entrada',\n",
              " 'entrada',\n",
              " 'entradas',\n",
              " 'entradas',\n",
              " 'entradas',\n",
              " 'entretanto',\n",
              " 'entrou',\n",
              " 'então',\n",
              " 'então',\n",
              " 'envolve',\n",
              " 'envolvem',\n",
              " 'envolvem',\n",
              " 'envolvendo',\n",
              " 'envolveu',\n",
              " 'envolviam',\n",
              " 'equipes',\n",
              " 'erros',\n",
              " 'erros',\n",
              " 'erros',\n",
              " 'errôneas',\n",
              " 'escala',\n",
              " 'escolhido',\n",
              " 'escrevem',\n",
              " 'escrever',\n",
              " 'escrita',\n",
              " 'escrita',\n",
              " 'escritas',\n",
              " 'escritas',\n",
              " 'escritas',\n",
              " 'escritos',\n",
              " 'escritos',\n",
              " 'esforço',\n",
              " 'espanhol',\n",
              " 'espaços',\n",
              " 'especialmente',\n",
              " 'especialmente',\n",
              " 'especialmente',\n",
              " 'especialmente',\n",
              " 'especialmente',\n",
              " 'especialmente',\n",
              " 'especialmente',\n",
              " 'especificada',\n",
              " 'especificamente',\n",
              " 'especificamente',\n",
              " 'especificar',\n",
              " 'específica',\n",
              " 'específica',\n",
              " 'específica',\n",
              " 'específico',\n",
              " 'específicos',\n",
              " 'esperada',\n",
              " 'esprit',\n",
              " 'esprit',\n",
              " 'estatística',\n",
              " 'estatística',\n",
              " 'estatística',\n",
              " 'estatística',\n",
              " 'estatística',\n",
              " 'estatísticas',\n",
              " 'estatísticas',\n",
              " 'estatístico',\n",
              " 'estatístico',\n",
              " 'estatístico',\n",
              " 'estatísticos',\n",
              " 'estatísticos',\n",
              " 'estatísticos',\n",
              " 'estatísticos',\n",
              " 'estatísticos',\n",
              " 'estatísticos',\n",
              " 'esther',\n",
              " 'estimar',\n",
              " 'estocástica',\n",
              " 'estocásticos',\n",
              " 'estrangeira',\n",
              " 'estrangeiras',\n",
              " 'estranho',\n",
              " 'estrutura',\n",
              " 'estrutura',\n",
              " 'estrutura',\n",
              " 'estrutura',\n",
              " 'estruturados',\n",
              " 'estruturaram',\n",
              " 'estruturas',\n",
              " 'estruturas',\n",
              " 'estuda',\n",
              " 'estudo',\n",
              " 'etc',\n",
              " 'etc',\n",
              " 'etc',\n",
              " 'europeia',\n",
              " 'evalita',\n",
              " 'evalita',\n",
              " 'ewan',\n",
              " 'examina',\n",
              " 'excedia',\n",
              " 'excelência',\n",
              " 'excelência',\n",
              " 'excelência',\n",
              " 'excelência',\n",
              " 'executaria',\n",
              " 'executaria',\n",
              " 'execute',\n",
              " 'exemplo',\n",
              " 'exemplo',\n",
              " 'exemplo',\n",
              " 'exemplo',\n",
              " 'exemplo',\n",
              " 'exemplo',\n",
              " 'exemplo',\n",
              " 'exemplo',\n",
              " 'exemplo',\n",
              " 'exemplo',\n",
              " 'exemplo',\n",
              " 'exemplo',\n",
              " 'exemplo',\n",
              " 'exemplo',\n",
              " 'exemplo',\n",
              " 'exemplo',\n",
              " 'exemplos',\n",
              " 'exemplos',\n",
              " 'exemplos',\n",
              " 'exemplos',\n",
              " 'exigem',\n",
              " 'exigindo',\n",
              " 'existentes',\n",
              " 'existentes',\n",
              " 'expansão',\n",
              " 'expectativas',\n",
              " 'experiência',\n",
              " 'expert',\n",
              " 'explicação',\n",
              " 'explorou',\n",
              " 'explícita',\n",
              " 'expressar',\n",
              " 'expressão',\n",
              " 'expressão',\n",
              " 'expressão',\n",
              " 'expressões',\n",
              " 'extrai',\n",
              " 'extraiam',\n",
              " 'extração',\n",
              " 'extração',\n",
              " 'extração',\n",
              " 'extração',\n",
              " 'extremamente',\n",
              " 'extrínseca',\n",
              " 'extrínseca',\n",
              " 'extrínseca',\n",
              " 'extrínseco',\n",
              " 'facilitar',\n",
              " 'facilmente',\n",
              " 'facilmente',\n",
              " 'fala',\n",
              " 'fala',\n",
              " 'fala',\n",
              " 'fala',\n",
              " 'fala',\n",
              " 'fala',\n",
              " 'fala',\n",
              " 'fala',\n",
              " 'fala',\n",
              " 'fala',\n",
              " 'fala',\n",
              " 'fala',\n",
              " 'fala',\n",
              " 'fala',\n",
              " 'fala',\n",
              " 'fala',\n",
              " 'fala',\n",
              " 'faladas',\n",
              " 'falado',\n",
              " 'falando',\n",
              " 'falando',\n",
              " 'falso',\n",
              " 'familiares',\n",
              " 'fato',\n",
              " 'fato',\n",
              " 'fatos',\n",
              " 'faz',\n",
              " 'faz',\n",
              " 'faz',\n",
              " 'fazer',\n",
              " 'fazer',\n",
              " 'ferramentas',\n",
              " 'ferramentas',\n",
              " 'ferramentas',\n",
              " 'fidelidade',\n",
              " 'fim',\n",
              " 'final',\n",
              " 'final',\n",
              " 'final',\n",
              " 'financeira',\n",
              " 'financiamento',\n",
              " 'fins',\n",
              " 'flexional',\n",
              " 'flexional',\n",
              " 'flexíveis',\n",
              " 'flight',\n",
              " 'fluxo',\n",
              " 'focam',\n",
              " 'forma',\n",
              " 'forma',\n",
              " 'forma',\n",
              " 'forma',\n",
              " 'formais',\n",
              " 'formais',\n",
              " 'formalização',\n",
              " 'formalização',\n",
              " 'formas',\n",
              " 'formas',\n",
              " 'fornecendo',\n",
              " 'fornecer',\n",
              " 'fornecia',\n",
              " 'fortemente',\n",
              " 'foundations',\n",
              " 'framework',\n",
              " 'francês',\n",
              " 'francês',\n",
              " 'francês',\n",
              " 'francês',\n",
              " 'francês',\n",
              " 'frança',\n",
              " 'frança',\n",
              " 'frase',\n",
              " 'frase',\n",
              " 'frase',\n",
              " 'frase',\n",
              " 'frase',\n",
              " 'frase',\n",
              " 'frase',\n",
              " 'frase',\n",
              " 'frases',\n",
              " 'frases',\n",
              " 'frases',\n",
              " 'frases',\n",
              " 'frases',\n",
              " 'frases',\n",
              " 'frente',\n",
              " 'frente',\n",
              " 'frente',\n",
              " 'frequentemente',\n",
              " 'frequentemente',\n",
              " 'frequentemente',\n",
              " 'fundamentos',\n",
              " 'função',\n",
              " 'futuros',\n",
              " 'fáceis',\n",
              " 'ganhado',\n",
              " 'geig',\n",
              " 'general',\n",
              " 'genérica',\n",
              " 'georgetown',\n",
              " ...]"
            ]
          },
          "metadata": {
            "tags": []
          },
          "execution_count": 133
        }
      ]
    },
    {
      "cell_type": "markdown",
      "metadata": {
        "id": "587tz9g-E2Wr"
      },
      "source": [
        "## Remoção Acentos\n",
        "\n",
        "remova todos os acentos utilizando a função abaixo:\n",
        "\n",
        "```python\n",
        "unidecode(str)\n",
        "```"
      ]
    },
    {
      "cell_type": "code",
      "metadata": {
        "id": "Yb82BTreE2Ws"
      },
      "source": [
        "from unidecode import unidecode"
      ],
      "execution_count": 139,
      "outputs": []
    },
    {
      "cell_type": "code",
      "metadata": {
        "id": "5cb1oMd1E2Wu"
      },
      "source": [
        "tokens_sem_acentos = [unidecode(t) for t in tokens_sem_punction]"
      ],
      "execution_count": 141,
      "outputs": []
    },
    {
      "cell_type": "code",
      "metadata": {
        "id": "VqFsgkvXrBkI",
        "outputId": "dd53e630-3a6a-4cf6-98d2-2d5bf8ad51d8",
        "colab": {
          "base_uri": "https://localhost:8080/",
          "height": 53
        }
      },
      "source": [
        "print(tokens_sem_acentos)"
      ],
      "execution_count": 142,
      "outputs": [
        {
          "output_type": "stream",
          "text": [
            "['processamento', 'lingua', 'natural', 'pln', 'subarea', 'ciencia', 'computacao', 'inteligencia', 'artificial', 'linguistica', 'estuda', 'problemas', 'geracao', 'compreensao', 'automatica', 'linguas', 'humanas', 'naturais', 'sistemas', 'geracao', 'lingua', 'natural', 'convertem', 'informacao', 'bancos', 'dados', 'computadores', 'linguagem', 'compreensivel', 'ser', 'humano', 'sistemas', 'compreensao', 'lingua', 'natural', 'convertem', 'ocorrencias', 'linguagem', 'humana', 'representacoes', 'formais', 'facilmente', 'manipulaveis', 'programas', 'computador', 'alguns', 'desafios', 'pln', 'compreensao', 'lingua', 'natural', 'fazer', 'computadores', 'extraiam', 'sentido', 'linguagem', 'humana', 'natural', 'geracao', 'lingua', 'natural', 'historia', 'historia', 'pln', 'comecou', 'decada', 'alan', 'turing', 'publicou', 'artigo', 'computing', 'machinery', 'and', 'intelligence', 'propunha', 'agora', 'chamado', 'teste', 'turing', 'criterio', 'inteligencia', 'experiencia', 'georgetown', 'envolveu', 'traducao', 'automatica', 'sessenta', 'frases', 'russas', 'ingles', 'autores', 'afirmaram', 'dentro', 'tres', 'cinco', 'anos', 'traducao', 'automatica', 'problema', 'resolvido', 'entanto', 'avancos', 'reais', 'lentos', 'previsto', 'apos', 'relatorio', 'alpac', 'constatou', 'pesquisa', 'dez', 'anos', 'conseguiu', 'satisfazer', 'expectativas', 'financiamento', 'estudo', 'traducao', 'automatica', 'reduzido', 'drasticamente', 'poucas', 'pesquisas', 'traducao', 'automatica', 'conduzidas', 'final', 'anos', 'primeiros', 'sistemas', 'estatisticos', 'traducao', 'desenvolvidos', 'alguns', 'sistemas', 'pln', 'bem', 'sucedidos', 'desenvolvidos', 'anos', 'shrdlu', 'sistema', 'lingua', 'natural', 'trabalhava', 'blocks', 'worlds', 'vocabulario', 'restrito', 'eliza', 'simulacao', 'psicoterapeuta', 'escrita', 'joseph', 'weizenbaum', 'usando', 'pouca', 'informacao', 'sobre', 'pensamento', 'emocao', 'humana', 'eliza', 'criava', 'alguns', 'casos', 'interacoes', 'surpreendentemente', 'humanas', 'paciente', 'excedia', 'base', 'conhecimento', 'programa', 'eliza', 'fornecia', 'resposta', 'generica', 'exemplo', 'respondendo', 'cabeca', 'doi', 'diz', 'cabeca', 'doi', 'durante', 'decada', 'muitos', 'programadores', 'comecaram', 'escrever', 'ontologias', 'conceituais', 'estruturaram', 'informacao', 'mundo', 'real', 'dados', 'compreensiveis', 'computadores', 'exemplos', 'margie', 'schank', 'sam', 'cullingford', 'pam', 'wilensky', 'talespin', 'meehan', 'qualm', 'lehnert', 'politics', 'carbonell', 'plot', 'units', 'lehnert', 'neste', 'periodo', 'muitos', 'chatterbots', 'escritos', 'parry', 'racter', 'jabberwacky', 'decada', 'maioria', 'sistemas', 'pln', 'baseava', 'conjuntos', 'complexos', 'regras', 'manuscritas', 'partir', 'final', 'anos', 'entanto', 'revolucao', 'pln', 'introducao', 'algoritmos', 'aprendizagem', 'automatica', 'aprendizado', 'maquina', 'processamento', 'linguagem', 'devido', 'tanto', 'aumento', 'constante', 'poder', 'computacional', 'ver', 'lei', 'moore', 'quanto', 'diminuicao', 'gradual', 'dominancia', 'teorias', 'linguistica', 'chomskyanas', 'gramatica', 'gerativa', 'cujos', 'fundamentos', 'teoricos', 'desestimularam', 'tipo', 'corpus', 'linguistico', 'subjacente', 'abordagem', 'aprendizagem', 'automatica', 'processamento', 'linguagem', 'alguns', 'algoritmos', 'aprendizado', 'maquinas', 'antigos', 'arvores', 'decisao', 'produziam', 'sistemas', 'regras', 'rigidas', 'entao', 'semelhantes', 'regras', 'existentes', 'escritas', 'mao', 'entanto', 'marcacao', 'partes', 'fala', 'part', 'of', 'speech', 'tagging', 'introduziu', 'uso', 'modelos', 'ocultos', 'markov', 'pln', 'cada', 'vez', 'pesquisa', 'concentrava', 'modelos', 'estatisticos', 'tomam', 'decisoes', 'suaves', 'probabilisticas', 'baseadas', 'atribuicao', 'pesos', 'reais', 'recursos', 'compoem', 'dados', 'entrada', 'modelos', 'linguagem', 'cache', 'sobre', 'quais', 'muitos', 'sistemas', 'reconhecimento', 'fala', 'agora', 'dependem', 'exemplos', 'tais', 'modelos', 'estatisticos', 'modelos', 'geralmente', 'robustos', 'dados', 'informacoes', 'desconhecidas', 'especialmente', 'entrada', 'contem', 'erros', 'comum', 'dados', 'mundo', 'real', 'produzem', 'resultados', 'confiaveis', 'integrados', 'sistemas', 'maiores', 'compreendem', 'multiplas', 'tarefas', 'muitos', 'sucessos', 'iniciais', 'notaveis', 'ocorreram', 'campo', 'traducao', 'automatica', 'devido', 'especialmente', 'trabalho', 'pesquisa', 'ibm', 'desenvolveu', 'modelos', 'estatisticos', 'elaborados', 'sistemas', 'capazes', 'tirar', 'proveito', 'corpora', 'textuais', 'multilingues', 'existentes', 'produzidos', 'parlamento', 'canada', 'uniao', 'europeia', 'resultado', 'leis', 'exigem', 'traducao', 'todos', 'processos', 'governamentais', 'todas', 'linguas', 'oficiais', 'paises', 'entanto', 'maioria', 'sistemas', 'dependia', 'corpora', 'desenvolvido', 'especificamente', 'tarefas', 'implementadas', 'sistemas', 'muitas', 'vezes', 'continua', 'sendo', 'grande', 'limitacao', 'sucesso', 'resultado', 'grande', 'quantidade', 'pesquisa', 'passou', 'quantidades', 'dados', 'limitadas', 'metodos', 'aprendizagem', 'eficazes', 'pesquisas', 'recentes', 'tem', 'concentrado', 'cada', 'vez', 'algoritmos', 'aprendizagem', 'semi', 'supervisionados', 'supervisao', 'algoritmos', 'capazes', 'aprender', 'dados', 'anotados', 'manualmente', 'respostas', 'desejadas', 'usando', 'combinacao', 'dados', 'anotados', 'anotados', 'geralmente', 'tarefa', 'trabalhosa', 'aprendizagem', 'supervisionada', 'normalmente', 'produz', 'resultados', 'menos', 'precisos', 'quantidade', 'especifica', 'dados', 'entrada', 'entanto', 'enorme', 'quantidade', 'dados', 'anotados', 'disponiveis', 'incluindo', 'outras', 'coisas', 'todo', 'conteudo', 'world', 'wide', 'web', 'muitas', 'vezes', 'pode', 'compensar', 'resultados', 'inferiores', 'usando', 'aprendizagem', 'automatica', 'aprendizado', 'maquina', 'algoritmos', 'modernos', 'pln', 'baseiam', 'aprendizagem', 'mecanica', 'especialmente', 'aprendizagem', 'maquinas', 'estatisticas', 'paradigma', 'aprendizagem', 'mecanica', 'diferente', 'maioria', 'tentativas', 'anteriores', 'processamento', 'linguagem', 'anteriormente', 'implementacoes', 'tarefas', 'processamento', 'linguagem', 'envolviam', 'codificacao', 'direta', 'grandes', 'conjuntos', 'regras', 'paradigma', 'aprendizagem', 'automatica', 'aprendizagem', 'automatica', 'induz', 'aprendizagem', 'automatica', 'regras', 'atraves', 'analises', 'corpora', 'exemplos', 'tipicos', 'mundo', 'real', 'inves', 'usar', 'algoritmos', 'gerais', 'aprendizagem', 'muitas', 'vezes', 'embora', 'sempre', 'baseados', 'inferencia', 'estatistica', 'corpus', 'plural', 'corpora', 'conjunto', 'documentos', 'frases', 'individuais', 'anotados', 'mao', 'valores', 'corretos', 'serem', 'aprendidos', 'muitas', 'classes', 'diferentes', 'algoritmos', 'aprendizado', 'maquina', 'aplicadas', 'tarefas', 'pln', 'algoritmos', 'tomam', 'entrada', 'grande', 'conjunto', 'recursos', 'gerados', 'partir', 'dados', 'entrada', 'alguns', 'algoritmos', 'usados', 'arvores', 'decisao', 'produziam', 'sistemas', 'regras', 'rigidas', 'semelhantes', 'sistemas', 'regras', 'manuscritas', 'comuns', 'entanto', 'cada', 'vez', 'pesquisa', 'concentrado', 'modelos', 'estatisticos', 'tomam', 'decisoes', 'flexiveis', 'probabilisticas', 'baseadas', 'agregar', 'pesos', 'reais', 'cada', 'caracteristica', 'entrada', 'tais', 'modelos', 'tem', 'vantagem', 'poder', 'expressar', 'certeza', 'relativa', 'muitas', 'respostas', 'possiveis', 'diferentes', 'vez', 'apenas', 'produzindo', 'resultados', 'confiaveis', 'modelo', 'incluido', 'componente', 'sistema', 'maior', 'sistemas', 'baseados', 'algoritmos', 'aprendizagem', 'mecanica', 'tem', 'muitas', 'vantagens', 'relacao', 'regras', 'produzidas', 'manualmente', 'procedimentos', 'aprendizagem', 'usados', 'durante', 'aprendizagem', 'maquina', 'focam', 'automaticamente', 'casos', 'comuns', 'passo', 'escrevem', 'regras', 'mao', 'obvio', 'sentido', 'esforco', 'deve', 'ser', 'dirigido', 'procedimentos', 'aprendizagem', 'automatica', 'podem', 'fazer', 'uso', 'algoritmos', 'inferencia', 'estatistica', 'produzir', 'modelos', 'robustos', 'entradas', 'familiares', 'exemplo', 'contendo', 'palavras', 'estruturas', 'vistas', 'antes', 'entradas', 'erroneas', 'exemplo', 'palavras', 'palavras', 'incorretamente', 'omitidas', 'geralmente', 'lidar', 'entradas', 'forma', 'regras', 'manuscritas', 'sistemas', 'regras', 'manuscritas', 'tomam', 'decisoes', 'suaves', 'extremamente', 'trabalhoso', 'propenso', 'erros', 'demorado', 'sistemas', 'baseados', 'aprender', 'automaticamente', 'regras', 'podem', 'ser', 'precisos', 'simplesmente', 'fornecendo', 'dados', 'entrada', 'entanto', 'sistemas', 'baseados', 'regras', 'escritas', 'mao', 'podem', 'ser', 'tornados', 'precisos', 'aumentando', 'complexidade', 'regras', 'tarefa', 'dificil', 'particular', 'limite', 'complexidade', 'sistemas', 'baseados', 'regras', 'artesanais', 'alem', 'quais', 'sistemas', 'tornam', 'cada', 'vez', 'incontrolaveis', 'entanto', 'criacao', 'dados', 'entrada', 'sistemas', 'aprendizado', 'maquina', 'requer', 'simplesmente', 'aumento', 'correspondente', 'numero', 'horas', 'trabalhadas', 'humanos', 'geralmente', 'aumentos', 'significativos', 'complexidade', 'processo', 'anotacao', 'subcampo', 'pln', 'dedicado', 'abordagens', 'aprendizagem', 'conhecido', 'aprendizagem', 'lingua', 'natural', 'nll', 'conferencia', 'conll', 'orgao', 'central', 'signll', 'patrocinados', 'acl', 'reconhecendo', 'ligacoes', 'linguistica', 'computacional', 'aquisicao', 'linguagem', 'objetivo', 'pesquisa', 'aprendizagem', 'linguagem', 'computacional', 'entender', 'sobre', 'aquisicao', 'linguagem', 'humana', 'psicolinguistica', 'nll', 'sobrepoe', 'campo', 'relacionado', 'psicolinguistica', 'computacional', 'aplicacoes', 'principais', 'listagem', 'seguir', 'traz', 'alguns', 'trabalhos', 'pesquisadas', 'pln', 'note', 'alguns', 'tem', 'aplicacoes', 'mundo', 'real', 'enquanto', 'outras', 'servem', 'frequentemente', 'tarefas', 'secundarias', 'usadas', 'auxiliar', 'resolucao', 'tarefas', 'maiores', 'distingue', 'tarefas', 'outras', 'tarefas', 'potenciais', 'reais', 'pln', 'apenas', 'volume', 'pesquisa', 'dedicado', 'fato', 'cada', 'tipicamente', 'definicao', 'problema', 'bem', 'especificada', 'metrica', 'padrao', 'avaliar', 'tarefa', 'corpora', 'padrao', 'tarefa', 'pode', 'ser', 'avaliada', 'competicoes', 'dedicadas', 'tarefa', 'especifica', 'sumarizacao', 'automatica', 'produz', 'resumo', 'legivel', 'parte', 'texto', 'muitas', 'vezes', 'usado', 'fornecer', 'resumos', 'texto', 'tipo', 'conhecido', 'artigos', 'secao', 'financeira', 'jornal', 'resolucao', 'correferencia', 'dada', 'frase', 'pedaco', 'maior', 'texto', 'determina', 'quais', 'palavras', 'mencoes', 'referem', 'mesmos', 'objetos', 'entidades', 'resolucao', 'anafora', 'exemplo', 'especifico', 'dessa', 'tarefa', 'especificamente', 'preocupada', 'combinar', 'pronomes', 'substantivos', 'nomes', 'quais', 'referem', 'tarefa', 'geral', 'resolucao', 'correferencia', 'inclui', 'identificacao', 'chamados', 'relacionamentos', 'ponte', 'envolvendo', 'expressoes', 'referencia', 'exemplo', 'frase', 'entrou', 'casa', 'joao', 'porta', 'frente', 'porta', 'frente', 'expressao', 'referencia', 'relacao', 'ponte', 'ser', 'identificada', 'fato', 'porta', 'ser', 'referida', 'porta', 'frente', \"john's\", 'inves', 'alguma', 'outra', 'estrutura', 'pode', 'ser', 'referida', 'analise', 'discurso', 'rubrica', 'inclui', 'serie', 'tarefas', 'relacionadas', 'tarefa', 'identificar', 'estrutura', 'discursiva', 'texto', 'conectado', 'natureza', 'relacoes', 'discursivas', 'sentencas', 'exemplo', 'elaboracao', 'explicacao', 'contraste', 'outra', 'possivel', 'tarefa', 'reconhecer', 'classificar', 'atos', 'fala', 'pedaco', 'texto', 'exemplo', 'pergunta', 'sim', 'pergunta', 'conteudo', 'frase', 'afirmacao', 'etc', 'maquina', 'traducao', 'traduzir', 'automaticamente', 'texto', 'linguagem', 'humana', 'outra', 'tarefas', 'dificeis', 'faz', 'parte', 'tipo', 'problemas', 'conhecidos', 'ai', 'complete', 'exigindo', 'todos', 'diferentes', 'tipos', 'conhecimento', 'humanos', 'possuem', 'gramatica', 'semantica', 'fatos', 'sobre', 'mundo', 'real', 'etc', 'resolve', 'lo', 'adequadamente', 'segmentacao', 'morfologica', 'separa', 'palavras', 'morfemas', 'individuais', 'identifica', 'classes', 'morfemas', 'dificuldade', 'desta', 'tarefa', 'depende', 'complexidade', 'morfologia', 'estrutura', 'palavras', 'linguagem', 'sendo', 'considerada', 'ingles', 'possui', 'morfologia', 'bastante', 'simples', 'especialmente', 'morfologia', 'flexional', 'portanto', 'possivel', 'ignorar', 'tarefa', 'inteiramente', 'simplesmente', 'modelar', 'todas', 'formas', 'possiveis', 'palavra', 'exemplo', 'open', 'opens', 'opened', 'opening', 'palavras', 'separadas', 'linguas', 'turco', 'meitei', 'lingua', 'indiana', 'fortemente', 'aglutinada', 'entanto', 'tal', 'abordagem', 'possivel', 'vez', 'cada', 'entrada', 'dicionario', 'milhares', 'formas', 'palavras', 'possiveis', 'reconhecimento', 'entidade', 'nomeada', 'ner', 'dado', 'fluxo', 'texto', 'determina', 'quais', 'itens', 'mapa', 'texto', 'nomes', 'proprios', 'pessoas', 'locais', 'tipo', 'cada', 'nome', 'exemplo', 'pessoa', 'local', 'organizacao', 'embora', 'capitalizacao', 'possa', 'ajudar', 'reconhecer', 'entidades', 'nomeadas', 'idiomas', 'ingles', 'informacoes', 'podem', 'ajudar', 'determinar', 'tipo', 'entidade', 'nomeada', 'alguns', 'casos', 'saos', 'imprecisas', 'insuficientes', 'exemplo', 'primeira', 'palavra', 'frase', 'capitalizada', 'entidades', 'nomeadas', 'muitas', 'vezes', 'abrangem', 'varias', 'palavras', 'apenas', 'algumas', 'capitalizadas', 'alem', 'disso', 'muitas', 'outras', 'linguagens', 'scripts', 'ocidentais', 'exemplo', 'chines', 'arabe', 'tem', 'nenhuma', 'capitalizacao', 'linguas', 'maiusculas', 'podem', 'distinguir', 'nomes', 'exemplo', 'alemao', 'capitaliza', 'todos', 'substantivos', 'independentemente', 'referirem', 'nomes', 'frances', 'espanhol', 'capitalizam', 'nomes', 'servem', 'adjetivos', 'geracao', 'lingua', 'natural', 'converte', 'informacoes', 'bancos', 'dados', 'computador', 'intencoes', 'semanticas', 'linguagem', 'humana', 'legivel', 'compreensao', 'lingua', 'natural', 'converte', 'pedacos', 'texto', 'representacoes', 'formais', 'estruturas', 'logica', 'primeira', 'ordem', 'faceis', 'manipular', 'programas', 'computador', 'compreensao', 'lingua', 'natural', 'envolve', 'identificacao', 'semantica', 'pretendida', 'partir', 'multipla', 'semantica', 'possivel', 'pode', 'ser', 'derivada', 'expressao', 'lingua', 'natural', 'geralmente', 'toma', 'forma', 'notacao', 'organizada', 'conceitos', 'linguagens', 'naturais', 'entretanto', 'introducao', 'criacao', 'linguagem', 'metamodelo', 'ontologia', 'eficientes', 'solucoes', 'empiricas', 'formalizacao', 'explicita', 'semantica', 'linguas', 'naturais', 'confusoes', 'suposicoes', 'implicitas', 'closed', 'world', 'assumption', 'cwa', 'versus', 'open', 'world', 'assumption', 'subjetiva', 'sim', 'versus', 'objetivo', 'verdadeiro', 'falso', 'esperada', 'construcao', 'base', 'formalizacao', 'semantica', 'reconhecimento', 'optico', 'caracteres', 'ocr', 'dada', 'imagem', 'representa', 'texto', 'impresso', 'determina', 'texto', 'correspondente', 'marcacao', 'classe', 'gramatical', 'dada', 'sentenca', 'determina', 'classe', 'gramatical', 'cada', 'palavra', 'muitas', 'palavras', 'especialmente', 'comuns', 'podem', 'servir', 'multiplas', 'partes', 'discurso', 'ingles', 'exemplo', 'book', 'pode', 'ser', 'substantivo', 'the', 'book', 'on', 'the', 'table', 'verbo', 'book', 'flight', 'set', 'pode', 'ser', 'substantivo', 'verbo', 'adjetivo', 'out', 'pode', 'ser', 'qualquer', 'menos', 'cinco', 'diferentes', 'partes', 'fala', 'algumas', 'linguas', 'tem', 'ambiguidade', 'outras', 'linguas', 'pouca', 'morfologia', 'flexional', 'ingles', 'particularmente', 'propensas', 'tal', 'ambiguidade', 'chines', 'propenso', 'tal', 'ambiguidade', 'porque', 'lingua', 'tonal', 'durante', 'verbalizacao', 'tal', 'inflexao', 'facilmente', 'transmitida', 'atraves', 'entidades', 'empregadas', 'dentro', 'ortografia', 'transmitir', 'significado', 'pretendido', 'analise', 'sintatica', 'parsing', 'determina', 'arvore', 'analise', 'analise', 'gramatical', 'frase', 'gramatica', 'linguagens', 'naturais', 'ambigua', 'frases', 'tipicas', 'tem', 'multiplas', 'analises', 'possiveis', 'verdade', 'surpreendentemente', 'frase', 'tipica', 'pode', 'haver', 'milhares', 'analises', 'potencial', 'maioria', 'quais', 'parecera', 'completamente', 'absurda', 'ser', 'humano', 'respostas', 'perguntas', 'dada', 'questao', 'linguagem', 'humana', 'determina', 'resposta', 'perguntas', 'tipicas', 'tem', 'resposta', 'correta', 'especifica', 'capital', 'canada', 'vezes', 'perguntas', 'abertas', 'consideradas', 'significado', 'vida', 'trabalhos', 'recentes', 'tem', 'analisado', 'questoes', 'ainda', 'complexas', 'extracao', 'relacionamento', 'identifica', 'relacoes', 'entidades', 'nomeadas', 'exemplo', 'casado', 'base', 'textos', 'quebra', 'frases', 'sentence', 'boundary', 'disambiguation', 'encontra', 'limites', 'frase', 'pedaco', 'texto', 'limites', 'frases', 'normalmente', 'marcadas', 'pontos', 'outros', 'sinais', 'pontuacao', 'mesmos', 'caracteres', 'podem', 'servir', 'outros', 'propositos', 'analise', 'subjetividade', 'sentiment', 'analysis', 'opinion', 'mining', 'extrai', 'informacoes', 'subjetivas', 'geralmente', 'conjunto', 'documentos', 'muitas', 'vezes', 'usando', 'revisoes', 'online', 'determinar', 'polaridade', 'sobre', 'objetos', 'especificos', 'especialmente', 'util', 'identificar', 'tendencias', 'opiniao', 'publica', 'midias', 'sociais', 'fins', 'marketing', 'reconhecimento', 'fala', 'dado', 'clipe', 'som', 'pessoa', 'pessoas', 'falando', 'determina', 'representacao', 'textual', 'discurso', 'oposto', 'sintese', 'fala', 'areas', 'dificeis', 'conhecida', 'ai', 'complete', 'fala', 'natural', 'quase', 'pausas', 'palavras', 'sucessivas', 'segmentacao', 'fala', 'subtarefa', 'necessaria', 'reconhecimento', 'fala', 'nota', 'maioria', 'linguagens', 'faladas', 'sons', 'representam', 'letras', 'sucessivas', 'misturam', 'si', 'processo', 'denominado', 'coarticulacao', 'modo', 'conversao', 'sinal', 'analogico', 'caracteres', 'discretos', 'pode', 'ser', 'processo', 'dificil', 'ser', 'realizado', 'segmentacao', 'fala', 'dado', 'clipe', 'som', 'pessoa', 'pessoas', 'falando', 'separa', 'palavras', 'subaplicacao', 'reconhecimento', 'fala', 'normalmente', 'agrupada', 'analise', 'morfologica', 'reconhecimento', 'topicos', 'dado', 'pedaco', 'texto', 'separa', 'segmentos', 'cada', 'quais', 'dedicado', 'topico', 'identifica', 'topico', 'segmento', 'analise', 'morfologica', 'segmentacao', 'palavras', 'separa', 'pedaco', 'texto', 'continuo', 'palavras', 'separadas', 'lingua', 'ingles', 'bastante', 'trivial', 'vez', 'palavras', 'normalmente', 'separadas', 'espacos', 'entanto', 'algumas', 'linguas', 'escritas', 'chines', 'japones', 'tailandes', 'marcam', 'limites', 'palavras', 'tal', 'forma', 'nessas', 'linguas', 'segmentacao', 'texto', 'tarefa', 'significativa', 'requer', 'conhecimento', 'vocabulario', 'morfologia', 'palavras', 'lingua', 'desambiguacao', 'muitas', 'palavras', 'tem', 'significado', 'assim', 'selecionar', 'significado', 'faz', 'sentido', 'contexto', 'problema', 'geral', 'dada', 'lista', 'palavras', 'sentidos', 'palavras', 'associadas', 'dicionario', 'recurso', 'online', 'wordnet', 'alguns', 'casos', 'conjuntos', 'tarefas', 'relacionadas', 'agrupados', 'subcampos', 'pln', 'frequentemente', 'considerados', 'separadamente', 'pln', 'todo', 'exemplos', 'seguir', 'recuperacao', 'informacao', 'ir', 'trata', 'armazenar', 'pesquisar', 'recuperar', 'informacoes', 'campo', 'separado', 'dentro', 'ciencia', 'computacao', 'perto', 'bancos', 'dados', 'ir', 'baseia', 'alguns', 'metodos', 'pln', 'exemplo', 'stemming', 'algumas', 'pesquisas', 'aplicacoes', 'atuais', 'procuram', 'preencher', 'lacuna', 'ir', 'pln', 'extracao', 'informacao', 'ie', 'trata', 'geral', 'extracao', 'informacao', 'semantica', 'partir', 'texto', 'abrange', 'tarefas', 'reconhecimento', 'entidade', 'mencionada', 'resolucao', 'correferencia', 'relacionamento', 'extracao', 'etc', 'processamento', 'voz', 'abrange', 'reconhecimento', 'fala', 'sintese', 'fala', 'tarefas', 'relacionadas', 'outras', 'tarefas', 'incluem', 'identificacao', 'lingua', 'materna', 'stemizacao', 'simplificacao', 'texto', 'sintese', 'fala', 'revisao', 'texto', 'pesquisa', 'lingua', 'natural', 'expansao', 'consulta', 'pontuacao', 'ensaio', 'automatizado', 'truecasing', 'estatistica', 'artigo', 'principal', 'gramatica', 'estocastica', 'processamento', 'estatistico', 'lingua', 'natural', 'utiliza', 'metodos', 'estocasticos', 'probabilisticos', 'estatisticos', 'resolver', 'algumas', 'dificuldades', 'discutidas', 'acima', 'especialmente', 'surgem', 'porque', 'frases', 'longas', 'ambiguas', 'processadas', 'gramaticas', 'realistas', 'produzindo', 'milhares', 'milhoes', 'analises', 'possiveis', 'metodos', 'desambiguacao', 'envolvem', 'muitas', 'vezes', 'uso', 'corpora', 'modelos', 'markov', 'projeto', 'esprit', 'p', 'liderado', 'cselt', 'explorou', 'problema', 'reconhecimento', 'fala', 'comparando', 'abordagem', 'baseada', 'conhecimento', 'estatistica', 'resultado', 'escolhido', 'modelo', 'completamente', 'estatistico', 'primeiros', 'modelos', 'compreensao', 'estatistica', 'lingua', 'natural', 'introduzido', 'roberto', 'pieraccini', 'esther', 'levin', 'chin', 'hui', 'lee', 'bell', 'laboratories', 'pln', 'compreende', 'todas', 'abordagens', 'quantitativas', 'processamento', 'automatizado', 'linguagem', 'incluindo', 'modelagem', 'probabilistica', 'teoria', 'informacao', 'algebra', 'linear', 'tecnologia', 'pln', 'estatistico', 'vem', 'principalmente', 'aprendizagem', 'automatica', 'mineracao', 'dados', 'campos', 'inteligencia', 'artificial', 'envolvem', 'aprendizado', 'partir', 'dados', 'avaliacao', 'objetivo', 'avaliacao', 'pln', 'medida', 'qualidades', 'algoritmo', 'sistema', 'fim', 'determinar', 'algoritmo', 'atende', 'metas', 'projetistas', 'sistema', 'atendimento', 'necessidades', 'usuarios', 'investigacao', 'avaliacao', 'pln', 'ganhado', 'atencao', 'porque', 'definicao', 'criterios', 'avaliacao', 'forma', 'especificar', 'precisamente', 'problemas', 'pln', 'metrica', 'avaliacao', 'pln', 'sistema', 'algoritmico', 'permite', 'integracao', 'compreensao', 'linguagem', 'geracao', 'linguagem', 'conjunto', 'preciso', 'criterios', 'avaliacao', 'pode', 'ser', 'aplicado', 'principalmente', 'avaliacoes', 'metricas', 'podendo', 'permitir', 'varias', 'equipes', 'comparem', 'solucoes', 'determinado', 'problema', 'pln', 'cronologia', 'avaliacao', 'iniciou', 'projecto', 'esprit', 'p', 'avaliou', 'tecnologias', 'fala', 'incluindo', 'topicos', 'gerais', 'sintaxe', 'semantica', 'comparando', 'abordagens', 'baseadas', 'regras', 'estatisticas', 'primeira', 'campanha', 'avaliacao', 'textos', 'escritos', 'parece', 'ser', 'campanha', 'dedicada', 'compreensao', 'mensagem', 'pallet', 'projeto', 'parseval', 'geig', 'comparou', 'gramaticas', 'frase', 'estrutura', 'black', 'serie', 'campanhas', 'projeto', 'tipster', 'sobre', 'tarefas', 'resumo', 'traducao', 'pesquisa', 'hirschman', 'alemanha', 'morpholympics', 'comparou', 'marcadores', 'morfologicos', 'alemaes', 'campanhas', 'senseval', 'romanseval', 'realizadas', 'objetivos', 'desambiguacao', 'semantica', 'campanha', 'sparkle', 'comparou', 'analisadores', 'sintaticos', 'quatro', 'idiomas', 'diferentes', 'ingles', 'frances', 'alemao', 'italiano', 'franca', 'projeto', 'grace', 'comparou', 'conjunto', 'marcadores', 'frances', 'adda', 'durante', 'projeto', 'technolangue', 'easy', 'comparados', 'analisadores', 'frances', 'avaliacao', 'larga', 'escala', 'analisadores', 'dependencia', 'realizada', 'contexto', 'tarefas', 'compartilhadas', 'conll', 'franca', 'ambito', 'projecto', 'anr', 'passage', 'final', 'comparados', 'analisadores', 'frances', 'italia', 'campanha', 'evalita', 'realizada', 'comparar', 'varias', 'ferramentas', 'pln', 'voz', 'site', 'italiano', 'evalita', 'diferentes', 'tipos', 'avaliacao', 'avaliacao', 'intrinseca', 'vs', 'extrinseca', 'avaliacao', 'intrinseca', 'considera', 'sistema', 'pnl', 'isolado', 'caracteriza', 'desempenho', 'relacao', 'resultado', 'padrao', 'excelencia', 'conforme', 'definido', 'avaliadores', 'avaliacao', 'extrinseca', 'chamada', 'avaliacao', 'uso', 'considera', 'sistema', 'pln', 'cenario', 'complexo', 'sistema', 'embutido', 'funcao', 'precisa', 'usuario', 'humano', 'desempenho', 'extrinseco', 'sistema', 'entao', 'caracterizado', 'termos', 'utilidade', 'relacao', 'tarefa', 'global', 'sistema', 'estranho', 'utilizador', 'humano', 'exemplo', 'considere', 'analisador', 'sintatico', 'baseado', 'saida', 'alguma', 'parte', 'tagger', 'fala', 'pos', 'avaliacao', 'intrinseca', 'executaria', 'marcador', 'pos', 'dados', 'estruturados', 'compararia', 'saida', 'sistema', 'marcador', 'pos', 'saida', 'padrao', 'ouro', 'avaliacao', 'extrinseca', 'executaria', 'analisador', 'algum', 'outro', 'marcador', 'pos', 'seguida', 'marcador', 'pos', 'novo', 'compara', 'precisao', 'analise', 'caixa', 'preta', 'vs', 'avaliacao', 'caixa', 'vidro', 'avaliacao', 'caixa', 'preta', 'requer', 'alguem', 'execute', 'sistema', 'pln', 'conjunto', 'dados', 'amostra', 'medir', 'serie', 'parametros', 'relacionados', 'qualidade', 'processo', 'velocidade', 'confiabilidade', 'consumo', 'recursos', 'principalmente', 'qualidade', 'resultado', 'precisao', 'anotacao', 'dados', 'fidelidade', 'traducao', 'avaliacao', 'caixa', 'vidro', 'examina', 'concepcao', 'sistema', 'algoritmos', 'implementados', 'recursos', 'linguisticos', 'utiliza', 'tamanho', 'vocabulario', 'expressao', 'definida', 'cardinalidade', 'dada', 'complexidade', 'problemas', 'pln', 'muitas', 'vezes', 'dificil', 'prever', 'desempenho', 'apenas', 'base', 'avaliacao', 'caixa', 'vidro', 'tipo', 'avaliacao', 'informativo', 'diz', 'respeito', 'analise', 'erros', 'desenvolvimentos', 'futuros', 'sistema', 'automatica', 'vs', 'avaliacao', 'manual', 'muitos', 'casos', 'procedimentos', 'automaticos', 'podem', 'ser', 'definidos', 'avaliar', 'sistema', 'pln', 'comparando', 'saida', 'padrao', 'excelencia', 'embora', 'custo', 'reproduzir', 'padrao', 'excelencia', 'possa', 'ser', 'bastante', 'elevado', 'avaliacao', 'automatica', 'bootstrapping', 'sobre', 'mesmos', 'dados', 'entrada', 'pode', 'ser', 'repetida', 'quantas', 'vezes', 'necessario', 'custos', 'adicionais', 'desordenados', 'entanto', 'muitos', 'problemas', 'pln', 'definicao', 'precisa', 'padrao', 'excelencia', 'tarefa', 'complexa', 'pode', 'revelar', 'impossivel', 'acordo', 'inter', 'anotador', 'insuficiente', 'avaliacao', 'manual', 'melhor', 'realizada', 'juizes', 'humanos', 'instruidos', 'estimar', 'qualidade', 'sistema', 'frequentemente', 'amostra', 'producao', 'base', 'serie', 'criterios', 'embora', 'gracas', 'competencia', 'linguistica', 'juizes', 'humanos', 'possam', 'ser', 'considerados', 'referencia', 'serie', 'tarefas', 'processamento', 'linguagem', 'variacao', 'consideravel', 'classificacoes', 'avaliacao', 'automatica', 'vezes', 'referida', 'avaliacao', 'objetiva', 'enquanto', 'avaliacao', 'humana', 'perspectiva', 'padronizacao', 'subcomite', 'iso', 'trabalhando', 'facilitar', 'interoperabilidade', 'recursos', 'lexicais', 'programas', 'pln', 'subcomite', 'faz', 'parte', 'iso', 'tc', 'chamado', 'iso', 'tc', 'sc', 'alguns', 'padroes', 'iso', 'publicados', 'maioria', 'construcao', 'principalmente', 'representacao', 'lexico', 'ver', 'lmf', 'anotacao', 'registro', 'categoria', 'dados', 'ferramentas', 'expert', 'system', 's', 'p', 'general', 'architecture', 'text', 'engineering', 'modular', 'audio', 'recognition', 'framework', 'natural', 'language', 'toolkit', 'nltk', 'biblioteca', 'python', 'opennlp', 'veja', 'mineracao', 'texto', 'biomedica', 'processo', 'processamento', 'composto', 'revisao', 'assistida', 'computador', 'linguagem', 'natural', 'controlada', 'processamento', 'linguistico', 'profundo', 'auxilio', 'leitura', 'linguas', 'estrangeiras', 'auxilio', 'escrita', 'lingua', 'estrangeira', 'tecnologia', 'linguagem', 'alocacao', 'dirichlet', 'latente', 'lda', 'indexacao', 'semantica', 'latente', 'lista', 'ferramentas', 'processamento', 'lingua', 'natural', 'mapa', 'lre', 'programacao', 'lingua', 'natural', 'reificacao', 'linguistica', 'dobradura', 'semantica', 'sistema', 'dialogo', 'falado', 'vetor', 'pensamento', 'pesquisa', 'transderivacional', 'wordvec', 'referencias', 'leitura', 'adicional', 'steven', 'bird', 'ewan', 'klein', 'and', 'edward', 'loper', 'natural', 'language', 'processing', 'with', 'python', \"o'reilly\", 'media', 'isbn', 'daniel', 'jurafsky', 'and', 'james', 'h', 'martin', 'speech', 'and', 'language', 'processing', 'nd', 'edition', 'pearson', 'prentice', 'hall', 'isbn', 'christopher', 'd', 'manning', 'prabhakar', 'raghavan', 'and', 'hinrich', 'schutze', 'introduction', 'to', 'information', 'retrieval', 'cambridge', 'university', 'press', 'isbn', 'official', 'html', 'and', 'pdf', 'versions', 'available', 'without', 'charge', 'christopher', 'd', 'manning', 'and', 'hinrich', 'schutze', 'foundations', 'of', 'statistical', 'natural', 'language', 'processing', 'the', 'mit', 'press', 'isbn', 'david', 'm', 'w', 'powers', 'and', 'christopher', 'c', 'r', 'turk', 'machine', 'learning', 'of', 'natural', 'language', 'springer', 'verlag', 'isbn']\n"
          ],
          "name": "stdout"
        }
      ]
    },
    {
      "cell_type": "markdown",
      "metadata": {
        "id": "6JSXgTlKE2Wx"
      },
      "source": [
        "###  Plote a frequência dos tokens sem acentos. Utilize o método plot_frequencia_tokens() para plotar o gráfico. Também imprima o tamanho desta lista. "
      ]
    },
    {
      "cell_type": "code",
      "metadata": {
        "id": "owaL2wn8E2Wx",
        "outputId": "57ed6335-8487-4714-e818-4232a9b66f4e",
        "colab": {
          "base_uri": "https://localhost:8080/",
          "height": 346
        }
      },
      "source": [
        "#tokens_sem_acentos\n",
        "plot_frequencia_tokens(tokens_sem_acentos)"
      ],
      "execution_count": 143,
      "outputs": [
        {
          "output_type": "display_data",
          "data": {
            "image/png": "[encoded data removed]",
            "text/plain": [
              "<Figure size 432x288 with 1 Axes>"
            ]
          },
          "metadata": {
            "tags": [],
            "needs_background": "light"
          }
        }
      ]
    },
    {
      "cell_type": "markdown",
      "metadata": {
        "id": "y8uiiVyKE2W2"
      },
      "source": [
        "## Stemming\n",
        "\n",
        "Iremos utilizar o stemming da biblioteca NLTK. O algoritmo disponível para este procedimento em portugês é o RSLPStemmer.\n",
        "\n",
        "```python\n",
        "stemmer = nltk.stem.RSLPStemmer()\n",
        "#para cada token:\n",
        "stemmer.stem(token)\n",
        "```\n",
        "\n",
        "Aplique o stemmet em cada elemento da lista de tokens.\n"
      ]
    },
    {
      "cell_type": "code",
      "metadata": {
        "id": "ejHKSTOhE2W2"
      },
      "source": [
        "stemmer = nltk.stem.RSLPStemmer()"
      ],
      "execution_count": 146,
      "outputs": []
    },
    {
      "cell_type": "code",
      "metadata": {
        "id": "J6v3wjVZE2W5"
      },
      "source": [
        "tokens_stemmer = [stemmer.stem(t) for t in tokens_sem_acentos]"
      ],
      "execution_count": 148,
      "outputs": []
    },
    {
      "cell_type": "code",
      "metadata": {
        "id": "5c_hUYbSrk-x",
        "outputId": "3676c10f-46d6-47eb-8fce-f9704effd73b",
        "colab": {
          "base_uri": "https://localhost:8080/",
          "height": 53
        }
      },
      "source": [
        "print(tokens_stemmer)"
      ],
      "execution_count": 149,
      "outputs": [
        {
          "output_type": "stream",
          "text": [
            "['process', 'lingu', 'natur', 'pln', 'subare', 'cienc', 'computaca', 'inteligenc', 'artific', 'linguis', 'estud', 'problem', 'geraca', 'compreensa', 'automa', 'lingu', 'human', 'natur', 'sistem', 'geraca', 'lingu', 'natur', 'convert', 'informaca', 'banc', 'dad', 'comput', 'lingu', 'compreensi', 'ser', 'human', 'sistem', 'compreensa', 'lingu', 'natur', 'convert', 'ocorrenc', 'lingu', 'human', 'representaco', 'formal', 'facil', 'manipula', 'program', 'comput', 'algum', 'desafi', 'pln', 'compreensa', 'lingu', 'natur', 'faz', 'comput', 'extra', 'sent', 'lingu', 'human', 'natur', 'geraca', 'lingu', 'natur', 'hist', 'hist', 'pln', 'comec', 'dec', 'alan', 'turing', 'public', 'artig', 'computing', 'machinery', 'and', 'intelligenc', 'propunh', 'agor', 'cham', 'test', 'turing', 'criteri', 'inteligenc', 'experienc', 'georgetown', 'envolv', 'traduca', 'automa', 'sessent', 'fras', 'russ', 'ingl', 'autor', 'afirm', 'dentr', 'tre', 'cinc', 'ano', 'traduca', 'automa', 'problem', 'resolv', 'entant', 'avanc', 'real', 'lent', 'previst', 'apo', 'relatori', 'alpac', 'constat', 'pesquis', 'dez', 'ano', 'consegu', 'satisfaz', 'expect', 'financ', 'estud', 'traduca', 'automa', 'reduz', 'drastic', 'pouc', 'pesquis', 'traduca', 'automa', 'conduz', 'final', 'ano', 'prim', 'sistem', 'estatis', 'traduca', 'desenvolv', 'algum', 'sistem', 'pln', 'bem', 'suced', 'desenvolv', 'ano', 'shrdlu', 'sistem', 'lingu', 'natur', 'trabalh', 'block', 'world', 'vocabulari', 'restrit', 'eliz', 'simulaca', 'psicoterapeut', 'escrit', 'joseph', 'weizenbaum', 'us', 'pouc', 'informaca', 'sobr', 'pens', 'emoca', 'human', 'eliz', 'cri', 'algum', 'cas', 'interaco', 'surpreend', 'human', 'paci', 'exced', 'bas', 'conhec', 'program', 'eliz', 'fornec', 'respost', 'gener', 'exempl', 'respond', 'cabec', 'doi', 'diz', 'cabec', 'doi', 'dur', 'dec', 'muit', 'program', 'comec', 'escrev', 'ontolog', 'conceit', 'estrutur', 'informaca', 'mund', 'real', 'dad', 'compreensi', 'comput', 'exempl', 'margi', 'schank', 'sam', 'cullingford', 'pam', 'wilensky', 'talespin', 'meehan', 'qualm', 'lehnert', 'politic', 'carbonell', 'plot', 'unit', 'lehnert', 'nest', 'period', 'muit', 'chatterbot', 'escrit', 'parry', 'ract', 'jabberwacky', 'dec', 'maior', 'sistem', 'pln', 'base', 'conjunt', 'complex', 'regr', 'manuscrit', 'part', 'final', 'ano', 'entant', 'revoluca', 'pln', 'introduca', 'algoritm', 'aprendiz', 'automa', 'aprend', 'maquin', 'process', 'lingu', 'dev', 'tant', 'aument', 'const', 'pod', 'computac', 'ver', 'lei', 'moor', 'quant', 'diminuica', 'grad', 'dominanc', 'teor', 'linguis', 'chomsky', 'grama', 'gera', 'cuj', 'fundament', 'teor', 'desestimul', 'tip', 'corpu', 'linguis', 'subjac', 'abord', 'aprendiz', 'automa', 'process', 'lingu', 'algum', 'algoritm', 'aprend', 'maquin', 'antig', 'arv', 'decisa', 'produz', 'sistem', 'regr', 'rig', 'enta', 'semelh', 'regr', 'exist', 'escrit', 'mao', 'entant', 'marcaca', 'part', 'fal', 'part', 'of', 'speech', 'tagging', 'introduz', 'uso', 'model', 'ocult', 'markov', 'pln', 'cad', 'vez', 'pesquis', 'concentr', 'model', 'estatis', 'tom', 'deciso', 'suav', 'probabilis', 'base', 'atribuica', 'pes', 'real', 'recurs', 'compo', 'dad', 'entr', 'model', 'lingu', 'cach', 'sobr', 'qual', 'muit', 'sistem', 'reconhec', 'fal', 'agor', 'depend', 'exempl', 'tal', 'model', 'estatis', 'model', 'geral', 'robust', 'dad', 'informaco', 'desconhec', 'espec', 'entr', 'cont', 'err', 'comum', 'dad', 'mund', 'real', 'produz', 'result', 'confia', 'integr', 'sistem', 'mai', 'compreend', 'multipl', 'taref', 'muit', 'sucess', 'inic', 'notavel', 'ocorr', 'camp', 'traduca', 'automa', 'dev', 'espec', 'trabalh', 'pesquis', 'ibm', 'desenvolv', 'model', 'estatis', 'elabor', 'sistem', 'capaz', 'tir', 'proveit', 'corp', 'text', 'multiling', 'exist', 'produz', 'parl', 'can', 'unia', 'europe', 'result', 'lei', 'exig', 'traduca', 'tod', 'process', 'governament', 'tod', 'lingu', 'ofic', 'pais', 'entant', 'maior', 'sistem', 'depend', 'corp', 'desenvolv', 'especific', 'taref', 'implement', 'sistem', 'muit', 'vez', 'continu', 'send', 'grand', 'limitaca', 'sucess', 'result', 'grand', 'quant', 'pesquis', 'pass', 'quant', 'dad', 'limit', 'metod', 'aprendiz', 'eficaz', 'pesquis', 'recent', 'tem', 'concentr', 'cad', 'vez', 'algoritm', 'aprendiz', 'sem', 'supervision', 'supervisa', 'algoritm', 'capaz', 'aprend', 'dad', 'anot', 'man', 'respost', 'desej', 'us', 'combinaca', 'dad', 'anot', 'anot', 'geral', 'taref', 'trabalh', 'aprendiz', 'supervision', 'norm', 'produz', 'result', 'menos', 'precis', 'quant', 'especif', 'dad', 'entr', 'entant', 'enorm', 'quant', 'dad', 'anot', 'disponi', 'inclu', 'outr', 'cois', 'tod', 'conteud', 'world', 'wid', 'web', 'muit', 'vez', 'pod', 'compens', 'result', 'inferi', 'us', 'aprendiz', 'automa', 'aprend', 'maquin', 'algoritm', 'modern', 'pln', 'base', 'aprendiz', 'mecan', 'espec', 'aprendiz', 'maquin', 'estatis', 'paradigm', 'aprendiz', 'mecan', 'difer', 'maior', 'tent', 'anteri', 'process', 'lingu', 'anteri', 'implementaco', 'taref', 'process', 'lingu', 'envolv', 'codificaca', 'diret', 'grand', 'conjunt', 'regr', 'paradigm', 'aprendiz', 'automa', 'aprendiz', 'automa', 'induz', 'aprendiz', 'automa', 'regr', 'atrav', 'analis', 'corp', 'exempl', 'tipic', 'mund', 'real', 'inv', 'us', 'algoritm', 'geral', 'aprendiz', 'muit', 'vez', 'emb', 'sempr', 'base', 'inferenc', 'estatis', 'corpu', 'plur', 'corp', 'conjunt', 'document', 'fras', 'individ', 'anot', 'mao', 'val', 'corret', 'ser', 'aprend', 'muit', 'cl', 'difer', 'algoritm', 'aprend', 'maquin', 'aplic', 'taref', 'pln', 'algoritm', 'tom', 'entr', 'grand', 'conjunt', 'recurs', 'ger', 'part', 'dad', 'entr', 'algum', 'algoritm', 'us', 'arv', 'decisa', 'produz', 'sistem', 'regr', 'rig', 'semelh', 'sistem', 'regr', 'manuscrit', 'comum', 'entant', 'cad', 'vez', 'pesquis', 'concentr', 'model', 'estatis', 'tom', 'deciso', 'flexi', 'probabilis', 'base', 'agreg', 'pes', 'real', 'cad', 'caracteris', 'entr', 'tal', 'model', 'tem', 'vantag', 'pod', 'express', 'cert', 'relat', 'muit', 'respost', 'possi', 'difer', 'vez', 'apen', 'produz', 'result', 'confia', 'model', 'inclu', 'compon', 'sistem', 'mai', 'sistem', 'base', 'algoritm', 'aprendiz', 'mecan', 'tem', 'muit', 'vantag', 'relaca', 'regr', 'produz', 'man', 'proced', 'aprendiz', 'us', 'dur', 'aprendiz', 'maquin', 'foc', 'automatic', 'cas', 'comum', 'pass', 'escrev', 'regr', 'mao', 'obvi', 'sent', 'esforc', 'dev', 'ser', 'dirig', 'proced', 'aprendiz', 'automa', 'pod', 'faz', 'uso', 'algoritm', 'inferenc', 'estatis', 'produz', 'model', 'robust', 'entr', 'famili', 'exempl', 'cont', 'palavr', 'estrut', 'vist', 'ant', 'entr', 'errone', 'exempl', 'palavr', 'palavr', 'incorret', 'omit', 'geral', 'lid', 'entr', 'form', 'regr', 'manuscrit', 'sistem', 'regr', 'manuscrit', 'tom', 'deciso', 'suav', 'extrem', 'trabalh', 'propens', 'err', 'demor', 'sistem', 'base', 'aprend', 'automatic', 'regr', 'pod', 'ser', 'precis', 'simples', 'fornec', 'dad', 'entr', 'entant', 'sistem', 'base', 'regr', 'escrit', 'mao', 'pod', 'ser', 'torn', 'precis', 'aument', 'complex', 'regr', 'taref', 'dificil', 'particul', 'limit', 'complex', 'sistem', 'base', 'regr', 'artesan', 'alem', 'qual', 'sistem', 'torn', 'cad', 'vez', 'incontrola', 'entant', 'criaca', 'dad', 'entr', 'sistem', 'aprend', 'maquin', 'requ', 'simples', 'aument', 'correspond', 'numer', 'hor', 'trabalh', 'human', 'geral', 'aument', 'signific', 'complex', 'process', 'anotaca', 'subcamp', 'pln', 'dedic', 'abord', 'aprendiz', 'conhec', 'aprendiz', 'lingu', 'natur', 'nll', 'conferenc', 'conll', 'orga', 'centr', 'signll', 'patrocin', 'acl', 'reconhec', 'ligaco', 'linguis', 'computac', 'aquisica', 'lingu', 'obje', 'pesquis', 'aprendiz', 'lingu', 'computac', 'entend', 'sobr', 'aquisica', 'lingu', 'human', 'psicolinguis', 'nll', 'sobrepo', 'camp', 'relacion', 'psicolinguis', 'computac', 'aplicaco', 'princip', 'list', 'segu', 'traz', 'algum', 'trabalh', 'pesquis', 'pln', 'not', 'algum', 'tem', 'aplicaco', 'mund', 'real', 'enquant', 'outr', 'serv', 'frequ', 'taref', 'secund', 'us', 'auxili', 'resoluca', 'taref', 'mai', 'disting', 'taref', 'outr', 'taref', 'potenc', 'real', 'pln', 'apen', 'volum', 'pesquis', 'dedic', 'fat', 'cad', 'tipic', 'definica', 'problem', 'bem', 'especific', 'metr', 'padra', 'avali', 'taref', 'corp', 'padra', 'taref', 'pod', 'ser', 'avali', 'competico', 'dedic', 'taref', 'especif', 'sumarizaca', 'automa', 'produz', 'resum', 'legivel', 'part', 'text', 'muit', 'vez', 'us', 'fornec', 'resum', 'text', 'tip', 'conhec', 'artig', 'seca', 'financ', 'jorn', 'resoluca', 'correferenc', 'dad', 'fras', 'pedac', 'mai', 'text', 'determin', 'qual', 'palavr', 'menco', 'ref', 'mesm', 'objet', 'entidad', 'resoluca', 'anaf', 'exempl', 'especif', 'dess', 'taref', 'especific', 'preocup', 'combin', 'pronom', 'substan', 'nom', 'qual', 'ref', 'taref', 'geral', 'resoluca', 'correferenc', 'inclu', 'identificaca', 'cham', 'relacion', 'pont', 'envolv', 'expresso', 'referenc', 'exempl', 'fras', 'entr', 'cas', 'joa', 'port', 'frent', 'port', 'frent', 'expressa', 'referenc', 'relaca', 'pont', 'ser', 'identific', 'fat', 'port', 'ser', 'refer', 'port', 'frent', \"john'\", 'inv', 'algum', 'outr', 'estrut', 'pod', 'ser', 'refer', 'analis', 'discurs', 'rubr', 'inclu', 'seri', 'taref', 'relacion', 'taref', 'identific', 'estrut', 'discurs', 'text', 'conect', 'natur', 'relaco', 'discurs', 'sentenc', 'exempl', 'elaboraca', 'explicaca', 'contr', 'outr', 'possi', 'taref', 'reconhec', 'classific', 'ato', 'fal', 'pedac', 'text', 'exempl', 'pergunt', 'sim', 'pergunt', 'conteud', 'fras', 'afirmaca', 'etc', 'maquin', 'traduca', 'traduz', 'automatic', 'text', 'lingu', 'human', 'outr', 'taref', 'dificel', 'faz', 'part', 'tip', 'problem', 'conhec', 'ai', 'complet', 'exig', 'tod', 'difer', 'tip', 'conhec', 'human', 'possu', 'grama', 'seman', 'fat', 'sobr', 'mund', 'real', 'etc', 'resolv', 'lo', 'adequad', 'segmentaca', 'morfolog', 'sep', 'palavr', 'morfem', 'individ', 'identif', 'cl', 'morfem', 'dificuldad', 'dest', 'taref', 'depend', 'complex', 'morfolog', 'estrut', 'palavr', 'lingu', 'send', 'consider', 'ingl', 'possu', 'morfolog', 'bast', 'simpl', 'espec', 'morfolog', 'flex', 'portant', 'possi', 'ignor', 'taref', 'inte', 'simples', 'model', 'tod', 'form', 'possi', 'palavr', 'exempl', 'open', 'op', 'opened', 'opening', 'palavr', 'separ', 'lingu', 'turc', 'meit', 'lingu', 'indi', 'fort', 'aglutin', 'entant', 'tal', 'abord', 'possi', 'vez', 'cad', 'entr', 'dicionari', 'milh', 'form', 'palavr', 'possi', 'reconhec', 'entidad', 'nome', 'ner', 'dad', 'flux', 'text', 'determin', 'qual', 'it', 'map', 'text', 'nom', 'propri', 'pesso', 'local', 'tip', 'cad', 'nom', 'exempl', 'pesso', 'local', 'organizaca', 'emb', 'capitalizaca', 'poss', 'ajud', 'reconhec', 'entidad', 'nome', 'idiom', 'ingl', 'informaco', 'pod', 'ajud', 'determin', 'tip', 'entidad', 'nome', 'algum', 'cas', 'sao', 'imprecis', 'insufici', 'exempl', 'prim', 'palavr', 'fras', 'capit', 'entidad', 'nome', 'muit', 'vez', 'abrang', 'var', 'palavr', 'apen', 'algum', 'capit', 'alem', 'diss', 'muit', 'outr', 'lingu', 'script', 'ocident', 'exempl', 'chin', 'arab', 'tem', 'nenhum', 'capitalizaca', 'lingu', 'maiuscul', 'pod', 'distingu', 'nom', 'exempl', 'alema', 'capitaliz', 'tod', 'substan', 'independ', 'refer', 'nom', 'franc', 'espanhol', 'capitaliz', 'nom', 'serv', 'adje', 'geraca', 'lingu', 'natur', 'convert', 'informaco', 'banc', 'dad', 'comput', 'intenco', 'seman', 'lingu', 'human', 'legivel', 'compreensa', 'lingu', 'natur', 'convert', 'pedac', 'text', 'representaco', 'formal', 'estrut', 'logic', 'prim', 'ord', 'facel', 'manipul', 'program', 'comput', 'compreensa', 'lingu', 'natur', 'envolv', 'identificaca', 'seman', 'pretend', 'part', 'multipl', 'seman', 'possi', 'pod', 'ser', 'deriv', 'expressa', 'lingu', 'natur', 'geral', 'tom', 'form', 'notaca', 'organiz', 'conceit', 'lingu', 'natur', 'entretant', 'introduca', 'criaca', 'lingu', 'metamodel', 'ontolog', 'efici', 'soluco', 'empir', 'formalizaca', 'explicit', 'seman', 'lingu', 'natur', 'confuso', 'suposico', 'implicit', 'closed', 'world', 'assumption', 'cwa', 'versu', 'open', 'world', 'assumption', 'subje', 'sim', 'versu', 'obje', 'verd', 'fals', 'esper', 'construca', 'bas', 'formalizaca', 'seman', 'reconhec', 'optic', 'caract', 'ocr', 'dad', 'imag', 'represent', 'text', 'impress', 'determin', 'text', 'correspond', 'marcaca', 'cl', 'gramatic', 'dad', 'sentenc', 'determin', 'cl', 'gramatic', 'cad', 'palavr', 'muit', 'palavr', 'espec', 'comum', 'pod', 'serv', 'multipl', 'part', 'discurs', 'ingl', 'exempl', 'book', 'pod', 'ser', 'substan', 'the', 'book', 'on', 'the', 'tabl', 'verb', 'book', 'flight', 'set', 'pod', 'ser', 'substan', 'verb', 'adje', 'out', 'pod', 'ser', 'qualqu', 'menos', 'cinc', 'difer', 'part', 'fal', 'algum', 'lingu', 'tem', 'ambigu', 'outr', 'lingu', 'pouc', 'morfolog', 'flex', 'ingl', 'particul', 'propens', 'tal', 'ambigu', 'chin', 'propens', 'tal', 'ambigu', 'porqu', 'lingu', 'tonal', 'dur', 'verbalizaca', 'tal', 'inflexa', 'facil', 'transmit', 'atrav', 'entidad', 'empreg', 'dentr', 'ortograf', 'transmit', 'signific', 'pretend', 'analis', 'sinta', 'parsing', 'determin', 'arvor', 'analis', 'analis', 'gramatic', 'fras', 'grama', 'lingu', 'natur', 'ambigu', 'fras', 'tipic', 'tem', 'multipl', 'analis', 'possi', 'verdad', 'surpreend', 'fras', 'tipic', 'pod', 'hav', 'milh', 'analis', 'potenc', 'maior', 'qual', 'parec', 'complet', 'absurd', 'ser', 'human', 'respost', 'pergunt', 'dad', 'questa', 'lingu', 'human', 'determin', 'respost', 'pergunt', 'tipic', 'tem', 'respost', 'corret', 'especif', 'capit', 'can', 'vez', 'pergunt', 'abert', 'consider', 'signific', 'vid', 'trabalh', 'recent', 'tem', 'analis', 'questo', 'aind', 'complex', 'extraca', 'relacion', 'identif', 'relaco', 'entidad', 'nome', 'exempl', 'cas', 'bas', 'text', 'quebr', 'fras', 'sentenc', 'boundary', 'disambiguation', 'encontr', 'limit', 'fras', 'pedac', 'text', 'limit', 'fras', 'norm', 'marc', 'pont', 'outr', 'sinal', 'pontuaca', 'mesm', 'caract', 'pod', 'serv', 'outr', 'proposit', 'analis', 'subjet', 'sentiment', 'analysil', 'opinion', 'mining', 'extr', 'informaco', 'subje', 'geral', 'conjunt', 'document', 'muit', 'vez', 'us', 'reviso', 'onlin', 'determin', 'polar', 'sobr', 'objet', 'especif', 'espec', 'util', 'identific', 'tendenc', 'opinia', 'publ', 'mid', 'soc', 'fim', 'marketing', 'reconhec', 'fal', 'dad', 'clip', 'som', 'pesso', 'pesso', 'fal', 'determin', 'representaca', 'text', 'discurs', 'opost', 'sintes', 'fal', 'are', 'dificel', 'conhec', 'ai', 'complet', 'fal', 'natur', 'quas', 'paus', 'palavr', 'sucess', 'segmentaca', 'fal', 'subtaref', 'necess', 'reconhec', 'fal', 'not', 'maior', 'lingu', 'fal', 'som', 'represent', 'letr', 'sucess', 'mistur', 'si', 'process', 'denomin', 'coarticulaca', 'mod', 'conversa', 'sinal', 'analog', 'caract', 'discret', 'pod', 'ser', 'process', 'dificil', 'ser', 'realiz', 'segmentaca', 'fal', 'dad', 'clip', 'som', 'pesso', 'pesso', 'fal', 'sep', 'palavr', 'subaplicaca', 'reconhec', 'fal', 'norm', 'agrup', 'analis', 'morfolog', 'reconhec', 'topic', 'dad', 'pedac', 'text', 'sep', 'segment', 'cad', 'qual', 'dedic', 'topic', 'identif', 'topic', 'segment', 'analis', 'morfolog', 'segmentaca', 'palavr', 'sep', 'pedac', 'text', 'continu', 'palavr', 'separ', 'lingu', 'ingl', 'bast', 'triv', 'vez', 'palavr', 'norm', 'separ', 'espac', 'entant', 'algum', 'lingu', 'escrit', 'chin', 'japon', 'tailand', 'marc', 'limit', 'palavr', 'tal', 'form', 'ness', 'lingu', 'segmentaca', 'text', 'taref', 'signific', 'requ', 'conhec', 'vocabulari', 'morfolog', 'palavr', 'lingu', 'desambiguaca', 'muit', 'palavr', 'tem', 'signific', 'assim', 'selec', 'signific', 'faz', 'sent', 'context', 'problem', 'geral', 'dad', 'list', 'palavr', 'sent', 'palavr', 'associ', 'dicionari', 'recurs', 'onlin', 'wordnet', 'algum', 'cas', 'conjunt', 'taref', 'relacion', 'agrup', 'subcamp', 'pln', 'frequ', 'consider', 'separad', 'pln', 'tod', 'exempl', 'segu', 'recuperaca', 'informaca', 'ir', 'trat', 'armazen', 'pesquis', 'recuper', 'informaco', 'camp', 'separ', 'dentr', 'cienc', 'computaca', 'pert', 'banc', 'dad', 'ir', 'base', 'algum', 'metod', 'pln', 'exempl', 'stemming', 'algum', 'pesquis', 'aplicaco', 'atual', 'procur', 'preench', 'lacun', 'ir', 'pln', 'extraca', 'informaca', 'ie', 'trat', 'geral', 'extraca', 'informaca', 'seman', 'part', 'text', 'abrang', 'taref', 'reconhec', 'entidad', 'mencion', 'resoluca', 'correferenc', 'relacion', 'extraca', 'etc', 'process', 'voz', 'abrang', 'reconhec', 'fal', 'sintes', 'fal', 'taref', 'relacion', 'outr', 'taref', 'inclu', 'identificaca', 'lingu', 'matern', 'stemizaca', 'simplificaca', 'text', 'sintes', 'fal', 'revisa', 'text', 'pesquis', 'lingu', 'natur', 'expansa', 'consult', 'pontuaca', 'ensai', 'autom', 'truecasing', 'estatis', 'artig', 'princip', 'grama', 'estocas', 'process', 'estatis', 'lingu', 'natur', 'utiliz', 'metod', 'estocas', 'probabilis', 'estatis', 'resolv', 'algum', 'dificuldad', 'discut', 'acim', 'espec', 'surg', 'porqu', 'fras', 'long', 'ambigu', 'process', 'grama', 'real', 'produz', 'milh', 'milho', 'analis', 'possi', 'metod', 'desambiguaca', 'envolv', 'muit', 'vez', 'uso', 'corp', 'model', 'markov', 'projet', 'esprit', 'p', 'lider', 'cselt', 'explor', 'problem', 'reconhec', 'fal', 'compar', 'abord', 'base', 'conhec', 'estatis', 'result', 'escolh', 'model', 'complet', 'estatis', 'prim', 'model', 'compreensa', 'estatis', 'lingu', 'natur', 'introduz', 'robert', 'pieraccin', 'esth', 'levin', 'chin', 'hui', 'lee', 'bell', 'laboratori', 'pln', 'compreend', 'tod', 'abord', 'quantit', 'process', 'autom', 'lingu', 'inclu', 'model', 'probabilis', 'teor', 'informaca', 'algebr', 'line', 'tecnolog', 'pln', 'estatis', 'vem', 'princip', 'aprendiz', 'automa', 'mineraca', 'dad', 'camp', 'inteligenc', 'artific', 'envolv', 'aprend', 'part', 'dad', 'avaliaca', 'obje', 'avaliaca', 'pln', 'med', 'qual', 'algoritm', 'sistem', 'fim', 'determin', 'algoritm', 'atend', 'met', 'projet', 'sistem', 'atend', 'necess', 'usuari', 'investigaca', 'avaliaca', 'pln', 'ganh', 'atenca', 'porqu', 'definica', 'criteri', 'avaliaca', 'form', 'especific', 'precis', 'problem', 'pln', 'metr', 'avaliaca', 'pln', 'sistem', 'algoritm', 'permit', 'integraca', 'compreensa', 'lingu', 'geraca', 'lingu', 'conjunt', 'precis', 'criteri', 'avaliaca', 'pod', 'ser', 'aplic', 'princip', 'avaliaco', 'metr', 'pod', 'permit', 'var', 'equip', 'comp', 'soluco', 'determin', 'problem', 'pln', 'cronolog', 'avaliaca', 'inici', 'project', 'esprit', 'p', 'avali', 'tecnolog', 'fal', 'inclu', 'topic', 'geral', 'sintax', 'seman', 'compar', 'abord', 'base', 'regr', 'estatis', 'prim', 'campanh', 'avaliaca', 'text', 'escrit', 'parec', 'ser', 'campanh', 'dedic', 'compreensa', 'mens', 'pallet', 'projet', 'parsev', 'geig', 'compar', 'grama', 'fras', 'estrut', 'black', 'seri', 'campanh', 'projet', 'tipst', 'sobr', 'taref', 'resum', 'traduca', 'pesquis', 'hirschman', 'alemanh', 'morpholympic', 'compar', 'marc', 'morfolog', 'alema', 'campanh', 'sensev', 'romansev', 'realiz', 'obje', 'desambiguaca', 'seman', 'campanh', 'sparkl', 'compar', 'analis', 'sinta', 'quatr', 'idiom', 'difer', 'ingl', 'franc', 'alema', 'itali', 'franc', 'projet', 'grac', 'compar', 'conjunt', 'marc', 'franc', 'add', 'dur', 'projet', 'technolang', 'easy', 'compar', 'analis', 'franc', 'avaliaca', 'larg', 'escal', 'analis', 'dependenc', 'realiz', 'context', 'taref', 'compartilh', 'conll', 'franc', 'ambit', 'project', 'anr', 'passag', 'final', 'compar', 'analis', 'franc', 'ital', 'campanh', 'evalit', 'realiz', 'compar', 'var', 'ferrament', 'pln', 'voz', 'sit', 'itali', 'evalit', 'difer', 'tip', 'avaliaca', 'avaliaca', 'intrinsec', 'vs', 'extrinsec', 'avaliaca', 'intrinsec', 'consid', 'sistem', 'pnl', 'isol', 'caracteriz', 'desempenh', 'relaca', 'result', 'padra', 'excelenc', 'conform', 'defin', 'avali', 'avaliaca', 'extrinsec', 'cham', 'avaliaca', 'uso', 'consid', 'sistem', 'pln', 'cenari', 'complex', 'sistem', 'embut', 'funca', 'precis', 'usuari', 'human', 'desempenh', 'extrinsec', 'sistem', 'enta', 'caracter', 'term', 'util', 'relaca', 'taref', 'glob', 'sistem', 'estranh', 'utiliz', 'human', 'exempl', 'consid', 'analis', 'sinta', 'base', 'said', 'algum', 'part', 'tagg', 'fal', 'po', 'avaliaca', 'intrinsec', 'execut', 'marc', 'po', 'dad', 'estrutur', 'compar', 'said', 'sistem', 'marc', 'po', 'said', 'padra', 'our', 'avaliaca', 'extrinsec', 'execut', 'analis', 'algum', 'outr', 'marc', 'po', 'segu', 'marc', 'po', 'nov', 'comp', 'precisa', 'analis', 'caix', 'pret', 'vs', 'avaliaca', 'caix', 'vidr', 'avaliaca', 'caix', 'pret', 'requ', 'algu', 'execut', 'sistem', 'pln', 'conjunt', 'dad', 'amostr', 'med', 'seri', 'parametr', 'relacion', 'qual', 'process', 'veloc', 'confi', 'consum', 'recurs', 'princip', 'qual', 'result', 'precisa', 'anotaca', 'dad', 'fidel', 'traduca', 'avaliaca', 'caix', 'vidr', 'examin', 'concepca', 'sistem', 'algoritm', 'implement', 'recurs', 'linguis', 'utiliz', 'tamanh', 'vocabulari', 'expressa', 'defin', 'cardinal', 'dad', 'complex', 'problem', 'pln', 'muit', 'vez', 'dificil', 'prev', 'desempenh', 'apen', 'bas', 'avaliaca', 'caix', 'vidr', 'tip', 'avaliaca', 'inform', 'diz', 'respeit', 'analis', 'err', 'desenvolv', 'futur', 'sistem', 'automa', 'vs', 'avaliaca', 'man', 'muit', 'cas', 'proced', 'automa', 'pod', 'ser', 'defin', 'avali', 'sistem', 'pln', 'compar', 'said', 'padra', 'excelenc', 'emb', 'cust', 'reproduz', 'padra', 'excelenc', 'poss', 'ser', 'bast', 'elev', 'avaliaca', 'automa', 'bootstrapping', 'sobr', 'mesm', 'dad', 'entr', 'pod', 'ser', 'repet', 'quant', 'vez', 'necessari', 'cust', 'adic', 'desorden', 'entant', 'muit', 'problem', 'pln', 'definica', 'precis', 'padra', 'excelenc', 'taref', 'complex', 'pod', 'revel', 'impossi', 'acord', 'int', 'anot', 'insufici', 'avaliaca', 'man', 'melhor', 'realiz', 'juiz', 'human', 'instru', 'estim', 'qual', 'sistem', 'frequ', 'amostr', 'produca', 'bas', 'seri', 'criteri', 'emb', 'grac', 'competenc', 'linguis', 'juiz', 'human', 'poss', 'ser', 'consider', 'referenc', 'seri', 'taref', 'process', 'lingu', 'variaca', 'considera', 'classificaco', 'avaliaca', 'automa', 'vez', 'refer', 'avaliaca', 'obje', 'enquant', 'avaliaca', 'human', 'perspec', 'padronizaca', 'subcomit', 'iso', 'trabalh', 'facil', 'interoper', 'recurs', 'lexic', 'program', 'pln', 'subcomit', 'faz', 'part', 'iso', 'tc', 'cham', 'iso', 'tc', 'sc', 'algum', 'padro', 'iso', 'public', 'maior', 'construca', 'princip', 'representaca', 'lexic', 'ver', 'lmf', 'anotaca', 'registr', 'categor', 'dad', 'ferrament', 'expert', 'syst', 's', 'p', 'gener', 'architectur', 'text', 'engineering', 'modul', 'audi', 'recognition', 'framework', 'natur', 'languag', 'toolkit', 'nltk', 'bibliotec', 'python', 'opennlp', 'vej', 'mineraca', 'text', 'biomed', 'process', 'process', 'compost', 'revisa', 'assist', 'comput', 'lingu', 'natur', 'control', 'process', 'linguis', 'profund', 'auxili', 'leit', 'lingu', 'estrang', 'auxili', 'escrit', 'lingu', 'estrang', 'tecnolog', 'lingu', 'alocaca', 'dirichlet', 'latent', 'lda', 'indexaca', 'seman', 'latent', 'list', 'ferrament', 'process', 'lingu', 'natur', 'map', 'lre', 'programaca', 'lingu', 'natur', 'reificaca', 'linguis', 'dobrad', 'seman', 'sistem', 'dialog', 'fal', 'vet', 'pens', 'pesquis', 'transderivac', 'wordvec', 'referenc', 'leit', 'adic', 'steven', 'bird', 'ewan', 'klein', 'and', 'edward', 'lop', 'natur', 'languag', 'processing', 'with', 'python', \"o'reilly\", 'med', 'isbn', 'daniel', 'jurafsky', 'and', 'jam', 'h', 'martin', 'speech', 'and', 'languag', 'processing', 'nd', 'edition', 'pearson', 'prent', 'hall', 'isbn', 'christoph', 'd', 'manning', 'prabhak', 'raghavan', 'and', 'hinrich', 'schutz', 'introduction', 'to', 'information', 'retriev', 'cambridg', 'university', 'pres', 'isbn', 'offic', 'html', 'and', 'pdf', 'versiom', 'availabl', 'without', 'charg', 'christoph', 'd', 'manning', 'and', 'hinrich', 'schutz', 'foundatiom', 'of', 'statistic', 'natur', 'languag', 'processing', 'the', 'mit', 'pres', 'isbn', 'david', 'm', 'w', 'pow', 'and', 'christoph', 'c', 'r', 'turk', 'machin', 'learning', 'of', 'natur', 'languag', 'spring', 'verlag', 'isbn']\n"
          ],
          "name": "stdout"
        }
      ]
    },
    {
      "cell_type": "markdown",
      "metadata": {
        "id": "E2uwnIZOE2W7"
      },
      "source": [
        "###  Plote a frequência dos tokens após o processo de stemming. Utilize o método plot_frequencia_tokens() para plotar o gráfico. Também imprima o tamanho desta lista. "
      ]
    },
    {
      "cell_type": "code",
      "metadata": {
        "id": "Wjhx4JyXE2W8",
        "outputId": "04f08d9d-24ff-483b-adf2-01b063c88bd2",
        "colab": {
          "base_uri": "https://localhost:8080/",
          "height": 316
        }
      },
      "source": [
        "#tokens_stemmer\n",
        "plot_frequencia_tokens(tokens_stemmer)"
      ],
      "execution_count": 150,
      "outputs": [
        {
          "output_type": "display_data",
          "data": {
            "image/png": "[encoded data removed]",
            "text/plain": [
              "<Figure size 432x288 with 1 Axes>"
            ]
          },
          "metadata": {
            "tags": [],
            "needs_background": "light"
          }
        }
      ]
    },
    {
      "cell_type": "markdown",
      "metadata": {
        "id": "ESWvVmslE2W-"
      },
      "source": [
        "## Lemmatization\n",
        "a biblitoteca NLTK não possui lematização para português.\n",
        "Mas a scpaCy possui."
      ]
    },
    {
      "cell_type": "code",
      "metadata": {
        "id": "EteSUdLWE2W-"
      },
      "source": [
        "#carrega o modelo para português\n",
        "#nlp = spacy.load('pt')\n",
        "nlp = pt_core_news_sm.load()"
      ],
      "execution_count": 151,
      "outputs": []
    },
    {
      "cell_type": "markdown",
      "metadata": {
        "id": "L4v6tMpXE2XE"
      },
      "source": [
        "Você pode executar a <b> lematização </b> com acentos ou sem acentos. Funciona da mesma forma."
      ]
    },
    {
      "cell_type": "markdown",
      "metadata": {
        "id": "CWInspjdE2XE"
      },
      "source": [
        "A primeira etapa para executar a lematização é transformar a lista de tokens para uma string. \n",
        "Utilize a variável de tokens: <b> tokens_sem_punction </b>.\n",
        "\n",
        "Dica: utilize o método join para isto:\n",
        "\n",
        "```python\n",
        "str.join(list)\n",
        "\n",
        "```"
      ]
    },
    {
      "cell_type": "code",
      "metadata": {
        "id": "nrLaQa5KuCoS",
        "outputId": "8565e1aa-5292-4ff1-cc00-d5c605305d25",
        "colab": {
          "base_uri": "https://localhost:8080/",
          "height": 53
        }
      },
      "source": [
        "print(tokens_sem_punction)"
      ],
      "execution_count": 170,
      "outputs": [
        {
          "output_type": "stream",
          "text": [
            "['processamento', 'língua', 'natural', 'pln', 'subárea', 'ciência', 'computação', 'inteligência', 'artificial', 'linguística', 'estuda', 'problemas', 'geração', 'compreensão', 'automática', 'línguas', 'humanas', 'naturais', 'sistemas', 'geração', 'língua', 'natural', 'convertem', 'informação', 'bancos', 'dados', 'computadores', 'linguagem', 'compreensível', 'ser', 'humano', 'sistemas', 'compreensão', 'língua', 'natural', 'convertem', 'ocorrências', 'linguagem', 'humana', 'representações', 'formais', 'facilmente', 'manipuláveis', 'programas', 'computador', 'alguns', 'desafios', 'pln', 'compreensão', 'língua', 'natural', 'fazer', 'computadores', 'extraiam', 'sentido', 'linguagem', 'humana', 'natural', 'geração', 'língua', 'natural', 'história', 'história', 'pln', 'começou', 'década', 'alan', 'turing', 'publicou', 'artigo', 'computing', 'machinery', 'and', 'intelligence', 'propunha', 'agora', 'chamado', 'teste', 'turing', 'critério', 'inteligência', 'experiência', 'georgetown', 'envolveu', 'tradução', 'automática', 'sessenta', 'frases', 'russas', 'inglês', 'autores', 'afirmaram', 'dentro', 'três', 'cinco', 'anos', 'tradução', 'automática', 'problema', 'resolvido', 'entanto', 'avanços', 'reais', 'lentos', 'previsto', 'após', 'relatório', 'alpac', 'constatou', 'pesquisa', 'dez', 'anos', 'conseguiu', 'satisfazer', 'expectativas', 'financiamento', 'estudo', 'tradução', 'automática', 'reduzido', 'drasticamente', 'poucas', 'pesquisas', 'tradução', 'automática', 'conduzidas', 'final', 'anos', 'primeiros', 'sistemas', 'estatísticos', 'tradução', 'desenvolvidos', 'alguns', 'sistemas', 'pln', 'bem', 'sucedidos', 'desenvolvidos', 'anos', 'shrdlu', 'sistema', 'língua', 'natural', 'trabalhava', 'blocks', 'worlds', 'vocabulário', 'restrito', 'eliza', 'simulação', 'psicoterapeuta', 'escrita', 'joseph', 'weizenbaum', 'usando', 'pouca', 'informação', 'sobre', 'pensamento', 'emoção', 'humana', 'eliza', 'criava', 'alguns', 'casos', 'interações', 'surpreendentemente', 'humanas', 'paciente', 'excedia', 'base', 'conhecimento', 'programa', 'eliza', 'fornecia', 'resposta', 'genérica', 'exemplo', 'respondendo', 'cabeça', 'dói', 'diz', 'cabeça', 'dói', 'durante', 'década', 'muitos', 'programadores', 'começaram', 'escrever', 'ontologias', 'conceituais', 'estruturaram', 'informação', 'mundo', 'real', 'dados', 'compreensíveis', 'computadores', 'exemplos', 'margie', 'schank', 'sam', 'cullingford', 'pam', 'wilensky', 'talespin', 'meehan', 'qualm', 'lehnert', 'politics', 'carbonell', 'plot', 'units', 'lehnert', 'neste', 'período', 'muitos', 'chatterbots', 'escritos', 'parry', 'racter', 'jabberwacky', 'década', 'maioria', 'sistemas', 'pln', 'baseava', 'conjuntos', 'complexos', 'regras', 'manuscritas', 'partir', 'final', 'anos', 'entanto', 'revolução', 'pln', 'introdução', 'algoritmos', 'aprendizagem', 'automática', 'aprendizado', 'máquina', 'processamento', 'linguagem', 'devido', 'tanto', 'aumento', 'constante', 'poder', 'computacional', 'ver', 'lei', 'moore', 'quanto', 'diminuição', 'gradual', 'dominância', 'teorias', 'linguística', 'chomskyanas', 'gramática', 'gerativa', 'cujos', 'fundamentos', 'teóricos', 'desestimularam', 'tipo', 'corpus', 'linguístico', 'subjacente', 'abordagem', 'aprendizagem', 'automática', 'processamento', 'linguagem', 'alguns', 'algoritmos', 'aprendizado', 'máquinas', 'antigos', 'árvores', 'decisão', 'produziam', 'sistemas', 'regras', 'rígidas', 'então', 'semelhantes', 'regras', 'existentes', 'escritas', 'mão', 'entanto', 'marcação', 'partes', 'fala', 'part', 'of', 'speech', 'tagging', 'introduziu', 'uso', 'modelos', 'ocultos', 'markov', 'pln', 'cada', 'vez', 'pesquisa', 'concentrava', 'modelos', 'estatísticos', 'tomam', 'decisões', 'suaves', 'probabilísticas', 'baseadas', 'atribuição', 'pesos', 'reais', 'recursos', 'compõem', 'dados', 'entrada', 'modelos', 'linguagem', 'cache', 'sobre', 'quais', 'muitos', 'sistemas', 'reconhecimento', 'fala', 'agora', 'dependem', 'exemplos', 'tais', 'modelos', 'estatísticos', 'modelos', 'geralmente', 'robustos', 'dados', 'informações', 'desconhecidas', 'especialmente', 'entrada', 'contém', 'erros', 'comum', 'dados', 'mundo', 'real', 'produzem', 'resultados', 'confiáveis', 'integrados', 'sistemas', 'maiores', 'compreendem', 'múltiplas', 'tarefas', 'muitos', 'sucessos', 'iniciais', 'notáveis', 'ocorreram', 'campo', 'tradução', 'automática', 'devido', 'especialmente', 'trabalho', 'pesquisa', 'ibm', 'desenvolveu', 'modelos', 'estatísticos', 'elaborados', 'sistemas', 'capazes', 'tirar', 'proveito', 'corpora', 'textuais', 'multilíngues', 'existentes', 'produzidos', 'parlamento', 'canadá', 'união', 'europeia', 'resultado', 'leis', 'exigem', 'tradução', 'todos', 'processos', 'governamentais', 'todas', 'línguas', 'oficiais', 'países', 'entanto', 'maioria', 'sistemas', 'dependia', 'corpora', 'desenvolvido', 'especificamente', 'tarefas', 'implementadas', 'sistemas', 'muitas', 'vezes', 'continua', 'sendo', 'grande', 'limitação', 'sucesso', 'resultado', 'grande', 'quantidade', 'pesquisa', 'passou', 'quantidades', 'dados', 'limitadas', 'métodos', 'aprendizagem', 'eficazes', 'pesquisas', 'recentes', 'têm', 'concentrado', 'cada', 'vez', 'algoritmos', 'aprendizagem', 'semi', 'supervisionados', 'supervisão', 'algoritmos', 'capazes', 'aprender', 'dados', 'anotados', 'manualmente', 'respostas', 'desejadas', 'usando', 'combinação', 'dados', 'anotados', 'anotados', 'geralmente', 'tarefa', 'trabalhosa', 'aprendizagem', 'supervisionada', 'normalmente', 'produz', 'resultados', 'menos', 'precisos', 'quantidade', 'específica', 'dados', 'entrada', 'entanto', 'enorme', 'quantidade', 'dados', 'anotados', 'disponíveis', 'incluindo', 'outras', 'coisas', 'todo', 'conteúdo', 'world', 'wide', 'web', 'muitas', 'vezes', 'pode', 'compensar', 'resultados', 'inferiores', 'usando', 'aprendizagem', 'automática', 'aprendizado', 'máquina', 'algoritmos', 'modernos', 'pln', 'baseiam', 'aprendizagem', 'mecânica', 'especialmente', 'aprendizagem', 'máquinas', 'estatísticas', 'paradigma', 'aprendizagem', 'mecânica', 'diferente', 'maioria', 'tentativas', 'anteriores', 'processamento', 'linguagem', 'anteriormente', 'implementações', 'tarefas', 'processamento', 'linguagem', 'envolviam', 'codificação', 'direta', 'grandes', 'conjuntos', 'regras', 'paradigma', 'aprendizagem', 'automática', 'aprendizagem', 'automática', 'induz', 'aprendizagem', 'automática', 'regras', 'através', 'análises', 'corpora', 'exemplos', 'típicos', 'mundo', 'real', 'invés', 'usar', 'algoritmos', 'gerais', 'aprendizagem', 'muitas', 'vezes', 'embora', 'sempre', 'baseados', 'inferência', 'estatística', 'corpus', 'plural', 'corpora', 'conjunto', 'documentos', 'frases', 'individuais', 'anotados', 'mão', 'valores', 'corretos', 'serem', 'aprendidos', 'muitas', 'classes', 'diferentes', 'algoritmos', 'aprendizado', 'máquina', 'aplicadas', 'tarefas', 'pln', 'algoritmos', 'tomam', 'entrada', 'grande', 'conjunto', 'recursos', 'gerados', 'partir', 'dados', 'entrada', 'alguns', 'algoritmos', 'usados', 'árvores', 'decisão', 'produziam', 'sistemas', 'regras', 'rígidas', 'semelhantes', 'sistemas', 'regras', 'manuscritas', 'comuns', 'entanto', 'cada', 'vez', 'pesquisa', 'concentrado', 'modelos', 'estatísticos', 'tomam', 'decisões', 'flexíveis', 'probabilísticas', 'baseadas', 'agregar', 'pesos', 'reais', 'cada', 'característica', 'entrada', 'tais', 'modelos', 'têm', 'vantagem', 'poder', 'expressar', 'certeza', 'relativa', 'muitas', 'respostas', 'possíveis', 'diferentes', 'vez', 'apenas', 'produzindo', 'resultados', 'confiáveis', 'modelo', 'incluído', 'componente', 'sistema', 'maior', 'sistemas', 'baseados', 'algoritmos', 'aprendizagem', 'mecânica', 'têm', 'muitas', 'vantagens', 'relação', 'regras', 'produzidas', 'manualmente', 'procedimentos', 'aprendizagem', 'usados', 'durante', 'aprendizagem', 'máquina', 'focam', 'automaticamente', 'casos', 'comuns', 'passo', 'escrevem', 'regras', 'mão', 'óbvio', 'sentido', 'esforço', 'deve', 'ser', 'dirigido', 'procedimentos', 'aprendizagem', 'automática', 'podem', 'fazer', 'uso', 'algoritmos', 'inferência', 'estatística', 'produzir', 'modelos', 'robustos', 'entradas', 'familiares', 'exemplo', 'contendo', 'palavras', 'estruturas', 'vistas', 'antes', 'entradas', 'errôneas', 'exemplo', 'palavras', 'palavras', 'incorretamente', 'omitidas', 'geralmente', 'lidar', 'entradas', 'forma', 'regras', 'manuscritas', 'sistemas', 'regras', 'manuscritas', 'tomam', 'decisões', 'suaves', 'extremamente', 'trabalhoso', 'propenso', 'erros', 'demorado', 'sistemas', 'baseados', 'aprender', 'automaticamente', 'regras', 'podem', 'ser', 'precisos', 'simplesmente', 'fornecendo', 'dados', 'entrada', 'entanto', 'sistemas', 'baseados', 'regras', 'escritas', 'mão', 'podem', 'ser', 'tornados', 'precisos', 'aumentando', 'complexidade', 'regras', 'tarefa', 'difícil', 'particular', 'limite', 'complexidade', 'sistemas', 'baseados', 'regras', 'artesanais', 'além', 'quais', 'sistemas', 'tornam', 'cada', 'vez', 'incontroláveis', 'entanto', 'criação', 'dados', 'entrada', 'sistemas', 'aprendizado', 'máquina', 'requer', 'simplesmente', 'aumento', 'correspondente', 'número', 'horas', 'trabalhadas', 'humanos', 'geralmente', 'aumentos', 'significativos', 'complexidade', 'processo', 'anotação', 'subcampo', 'pln', 'dedicado', 'abordagens', 'aprendizagem', 'conhecido', 'aprendizagem', 'língua', 'natural', 'nll', 'conferência', 'conll', 'orgão', 'central', 'signll', 'patrocinados', 'acl', 'reconhecendo', 'ligações', 'linguística', 'computacional', 'aquisição', 'linguagem', 'objetivo', 'pesquisa', 'aprendizagem', 'linguagem', 'computacional', 'entender', 'sobre', 'aquisição', 'linguagem', 'humana', 'psicolinguística', 'nll', 'sobrepõe', 'campo', 'relacionado', 'psicolinguística', 'computacional', 'aplicações', 'principais', 'listagem', 'seguir', 'traz', 'alguns', 'trabalhos', 'pesquisadas', 'pln', 'note', 'alguns', 'têm', 'aplicações', 'mundo', 'real', 'enquanto', 'outras', 'servem', 'frequentemente', 'tarefas', 'secundárias', 'usadas', 'auxiliar', 'resolução', 'tarefas', 'maiores', 'distingue', 'tarefas', 'outras', 'tarefas', 'potenciais', 'reais', 'pln', 'apenas', 'volume', 'pesquisa', 'dedicado', 'fato', 'cada', 'tipicamente', 'definição', 'problema', 'bem', 'especificada', 'métrica', 'padrão', 'avaliar', 'tarefa', 'corpora', 'padrão', 'tarefa', 'pode', 'ser', 'avaliada', 'competições', 'dedicadas', 'tarefa', 'específica', 'sumarização', 'automática', 'produz', 'resumo', 'legível', 'parte', 'texto', 'muitas', 'vezes', 'usado', 'fornecer', 'resumos', 'texto', 'tipo', 'conhecido', 'artigos', 'seção', 'financeira', 'jornal', 'resolução', 'correferência', 'dada', 'frase', 'pedaço', 'maior', 'texto', 'determina', 'quais', 'palavras', 'menções', 'referem', 'mesmos', 'objetos', 'entidades', 'resolução', 'anáfora', 'exemplo', 'específico', 'dessa', 'tarefa', 'especificamente', 'preocupada', 'combinar', 'pronomes', 'substantivos', 'nomes', 'quais', 'referem', 'tarefa', 'geral', 'resolução', 'correferência', 'inclui', 'identificação', 'chamados', 'relacionamentos', 'ponte', 'envolvendo', 'expressões', 'referência', 'exemplo', 'frase', 'entrou', 'casa', 'joão', 'porta', 'frente', 'porta', 'frente', 'expressão', 'referência', 'relação', 'ponte', 'ser', 'identificada', 'fato', 'porta', 'ser', 'referida', 'porta', 'frente', \"john's\", 'invés', 'alguma', 'outra', 'estrutura', 'pode', 'ser', 'referida', 'análise', 'discurso', 'rubrica', 'inclui', 'série', 'tarefas', 'relacionadas', 'tarefa', 'identificar', 'estrutura', 'discursiva', 'texto', 'conectado', 'natureza', 'relações', 'discursivas', 'sentenças', 'exemplo', 'elaboração', 'explicação', 'contraste', 'outra', 'possível', 'tarefa', 'reconhecer', 'classificar', 'atos', 'fala', 'pedaço', 'texto', 'exemplo', 'pergunta', 'sim', 'pergunta', 'conteúdo', 'frase', 'afirmação', 'etc', 'maquina', 'tradução', 'traduzir', 'automaticamente', 'texto', 'linguagem', 'humana', 'outra', 'tarefas', 'difíceis', 'faz', 'parte', 'tipo', 'problemas', 'conhecidos', 'ai', 'complete', 'exigindo', 'todos', 'diferentes', 'tipos', 'conhecimento', 'humanos', 'possuem', 'gramática', 'semântica', 'fatos', 'sobre', 'mundo', 'real', 'etc', 'resolvê', 'lo', 'adequadamente', 'segmentação', 'morfológica', 'separa', 'palavras', 'morfemas', 'individuais', 'identifica', 'classes', 'morfemas', 'dificuldade', 'desta', 'tarefa', 'depende', 'complexidade', 'morfologia', 'estrutura', 'palavras', 'linguagem', 'sendo', 'considerada', 'inglês', 'possui', 'morfologia', 'bastante', 'simples', 'especialmente', 'morfologia', 'flexional', 'portanto', 'possível', 'ignorar', 'tarefa', 'inteiramente', 'simplesmente', 'modelar', 'todas', 'formas', 'possíveis', 'palavra', 'exemplo', 'open', 'opens', 'opened', 'opening', 'palavras', 'separadas', 'línguas', 'turco', 'meitei', 'língua', 'indiana', 'fortemente', 'aglutinada', 'entanto', 'tal', 'abordagem', 'possível', 'vez', 'cada', 'entrada', 'dicionário', 'milhares', 'formas', 'palavras', 'possíveis', 'reconhecimento', 'entidade', 'nomeada', 'ner', 'dado', 'fluxo', 'texto', 'determina', 'quais', 'itens', 'mapa', 'texto', 'nomes', 'próprios', 'pessoas', 'locais', 'tipo', 'cada', 'nome', 'exemplo', 'pessoa', 'local', 'organização', 'embora', 'capitalização', 'possa', 'ajudar', 'reconhecer', 'entidades', 'nomeadas', 'idiomas', 'inglês', 'informações', 'podem', 'ajudar', 'determinar', 'tipo', 'entidade', 'nomeada', 'alguns', 'casos', 'sãos', 'imprecisas', 'insuficientes', 'exemplo', 'primeira', 'palavra', 'frase', 'capitalizada', 'entidades', 'nomeadas', 'muitas', 'vezes', 'abrangem', 'várias', 'palavras', 'apenas', 'algumas', 'capitalizadas', 'além', 'disso', 'muitas', 'outras', 'linguagens', 'scripts', 'ocidentais', 'exemplo', 'chinês', 'árabe', 'têm', 'nenhuma', 'capitalização', 'línguas', 'maiúsculas', 'podem', 'distinguir', 'nomes', 'exemplo', 'alemão', 'capitaliza', 'todos', 'substantivos', 'independentemente', 'referirem', 'nomes', 'francês', 'espanhol', 'capitalizam', 'nomes', 'servem', 'adjetivos', 'geração', 'língua', 'natural', 'converte', 'informações', 'bancos', 'dados', 'computador', 'intenções', 'semânticas', 'linguagem', 'humana', 'legível', 'compreensão', 'língua', 'natural', 'converte', 'pedaços', 'texto', 'representações', 'formais', 'estruturas', 'lógica', 'primeira', 'ordem', 'fáceis', 'manipular', 'programas', 'computador', 'compreensão', 'língua', 'natural', 'envolve', 'identificação', 'semântica', 'pretendida', 'partir', 'múltipla', 'semântica', 'possível', 'pode', 'ser', 'derivada', 'expressão', 'língua', 'natural', 'geralmente', 'toma', 'forma', 'notação', 'organizada', 'conceitos', 'linguagens', 'naturais', 'entretanto', 'introdução', 'criação', 'linguagem', 'metamodelo', 'ontologia', 'eficientes', 'soluções', 'empíricas', 'formalização', 'explícita', 'semântica', 'línguas', 'naturais', 'confusões', 'suposições', 'implícitas', 'closed', 'world', 'assumption', 'cwa', 'versus', 'open', 'world', 'assumption', 'subjetiva', 'sim', 'versus', 'objetivo', 'verdadeiro', 'falso', 'esperada', 'construção', 'base', 'formalização', 'semântica', 'reconhecimento', 'óptico', 'caracteres', 'ocr', 'dada', 'imagem', 'representa', 'texto', 'impresso', 'determina', 'texto', 'correspondente', 'marcação', 'classe', 'gramatical', 'dada', 'sentença', 'determina', 'classe', 'gramatical', 'cada', 'palavra', 'muitas', 'palavras', 'especialmente', 'comuns', 'podem', 'servir', 'múltiplas', 'partes', 'discurso', 'inglês', 'exemplo', 'book', 'pode', 'ser', 'substantivo', 'the', 'book', 'on', 'the', 'table', 'verbo', 'book', 'flight', 'set', 'pode', 'ser', 'substantivo', 'verbo', 'adjetivo', 'out', 'pode', 'ser', 'qualquer', 'menos', 'cinco', 'diferentes', 'partes', 'fala', 'algumas', 'línguas', 'têm', 'ambiguidade', 'outras', 'línguas', 'pouca', 'morfologia', 'flexional', 'inglês', 'particularmente', 'propensas', 'tal', 'ambiguidade', 'chinês', 'propenso', 'tal', 'ambiguidade', 'porque', 'língua', 'tonal', 'durante', 'verbalização', 'tal', 'inflexão', 'facilmente', 'transmitida', 'através', 'entidades', 'empregadas', 'dentro', 'ortografia', 'transmitir', 'significado', 'pretendido', 'análise', 'sintática', 'parsing', 'determina', 'árvore', 'análise', 'análise', 'gramatical', 'frase', 'gramática', 'linguagens', 'naturais', 'ambígua', 'frases', 'típicas', 'têm', 'múltiplas', 'análises', 'possíveis', 'verdade', 'surpreendentemente', 'frase', 'típica', 'pode', 'haver', 'milhares', 'análises', 'potencial', 'maioria', 'quais', 'parecerá', 'completamente', 'absurda', 'ser', 'humano', 'respostas', 'perguntas', 'dada', 'questão', 'linguagem', 'humana', 'determina', 'resposta', 'perguntas', 'típicas', 'têm', 'resposta', 'correta', 'específica', 'capital', 'canadá', 'vezes', 'perguntas', 'abertas', 'consideradas', 'significado', 'vida', 'trabalhos', 'recentes', 'têm', 'analisado', 'questões', 'ainda', 'complexas', 'extração', 'relacionamento', 'identifica', 'relações', 'entidades', 'nomeadas', 'exemplo', 'casado', 'base', 'textos', 'quebra', 'frases', 'sentence', 'boundary', 'disambiguation', 'encontra', 'limites', 'frase', 'pedaço', 'texto', 'limites', 'frases', 'normalmente', 'marcadas', 'pontos', 'outros', 'sinais', 'pontuação', 'mesmos', 'caracteres', 'podem', 'servir', 'outros', 'propósitos', 'análise', 'subjetividade', 'sentiment', 'analysis', 'opinion', 'mining', 'extrai', 'informações', 'subjetivas', 'geralmente', 'conjunto', 'documentos', 'muitas', 'vezes', 'usando', 'revisões', 'online', 'determinar', 'polaridade', 'sobre', 'objetos', 'específicos', 'especialmente', 'útil', 'identificar', 'tendências', 'opinião', 'pública', 'mídias', 'sociais', 'fins', 'marketing', 'reconhecimento', 'fala', 'dado', 'clipe', 'som', 'pessoa', 'pessoas', 'falando', 'determina', 'representação', 'textual', 'discurso', 'oposto', 'síntese', 'fala', 'áreas', 'difíceis', 'conhecida', 'ai', 'complete', 'fala', 'natural', 'quase', 'pausas', 'palavras', 'sucessivas', 'segmentação', 'fala', 'subtarefa', 'necessária', 'reconhecimento', 'fala', 'nota', 'maioria', 'linguagens', 'faladas', 'sons', 'representam', 'letras', 'sucessivas', 'misturam', 'si', 'processo', 'denominado', 'coarticulação', 'modo', 'conversão', 'sinal', 'analógico', 'caracteres', 'discretos', 'pode', 'ser', 'processo', 'difícil', 'ser', 'realizado', 'segmentação', 'fala', 'dado', 'clipe', 'som', 'pessoa', 'pessoas', 'falando', 'separa', 'palavras', 'subaplicação', 'reconhecimento', 'fala', 'normalmente', 'agrupada', 'análise', 'morfológica', 'reconhecimento', 'tópicos', 'dado', 'pedaço', 'texto', 'separa', 'segmentos', 'cada', 'quais', 'dedicado', 'tópico', 'identifica', 'tópico', 'segmento', 'análise', 'morfológica', 'segmentação', 'palavras', 'separa', 'pedaço', 'texto', 'contínuo', 'palavras', 'separadas', 'língua', 'inglês', 'bastante', 'trivial', 'vez', 'palavras', 'normalmente', 'separadas', 'espaços', 'entanto', 'algumas', 'línguas', 'escritas', 'chinês', 'japonês', 'tailandês', 'marcam', 'limites', 'palavras', 'tal', 'forma', 'nessas', 'línguas', 'segmentação', 'texto', 'tarefa', 'significativa', 'requer', 'conhecimento', 'vocabulário', 'morfologia', 'palavras', 'língua', 'desambiguação', 'muitas', 'palavras', 'têm', 'significado', 'assim', 'selecionar', 'significado', 'faz', 'sentido', 'contexto', 'problema', 'geral', 'dada', 'lista', 'palavras', 'sentidos', 'palavras', 'associadas', 'dicionário', 'recurso', 'online', 'wordnet', 'alguns', 'casos', 'conjuntos', 'tarefas', 'relacionadas', 'agrupados', 'subcampos', 'pln', 'frequentemente', 'considerados', 'separadamente', 'pln', 'todo', 'exemplos', 'seguir', 'recuperação', 'informação', 'ir', 'trata', 'armazenar', 'pesquisar', 'recuperar', 'informações', 'campo', 'separado', 'dentro', 'ciência', 'computação', 'perto', 'bancos', 'dados', 'ir', 'baseia', 'alguns', 'métodos', 'pln', 'exemplo', 'stemming', 'algumas', 'pesquisas', 'aplicações', 'atuais', 'procuram', 'preencher', 'lacuna', 'ir', 'pln', 'extração', 'informação', 'ie', 'trata', 'geral', 'extração', 'informação', 'semântica', 'partir', 'texto', 'abrange', 'tarefas', 'reconhecimento', 'entidade', 'mencionada', 'resolução', 'correferência', 'relacionamento', 'extração', 'etc', 'processamento', 'voz', 'abrange', 'reconhecimento', 'fala', 'síntese', 'fala', 'tarefas', 'relacionadas', 'outras', 'tarefas', 'incluem', 'identificação', 'língua', 'materna', 'stemização', 'simplificação', 'texto', 'síntese', 'fala', 'revisão', 'texto', 'pesquisa', 'língua', 'natural', 'expansão', 'consulta', 'pontuação', 'ensaio', 'automatizado', 'truecasing', 'estatística', 'artigo', 'principal', 'gramática', 'estocástica', 'processamento', 'estatístico', 'língua', 'natural', 'utiliza', 'métodos', 'estocásticos', 'probabilísticos', 'estatísticos', 'resolver', 'algumas', 'dificuldades', 'discutidas', 'acima', 'especialmente', 'surgem', 'porque', 'frases', 'longas', 'ambíguas', 'processadas', 'gramáticas', 'realistas', 'produzindo', 'milhares', 'milhões', 'análises', 'possíveis', 'métodos', 'desambiguação', 'envolvem', 'muitas', 'vezes', 'uso', 'corpora', 'modelos', 'markov', 'projeto', 'esprit', 'p', 'liderado', 'cselt', 'explorou', 'problema', 'reconhecimento', 'fala', 'comparando', 'abordagem', 'baseada', 'conhecimento', 'estatística', 'resultado', 'escolhido', 'modelo', 'completamente', 'estatístico', 'primeiros', 'modelos', 'compreensão', 'estatística', 'língua', 'natural', 'introduzido', 'roberto', 'pieraccini', 'esther', 'levin', 'chin', 'hui', 'lee', 'bell', 'laboratories', 'pln', 'compreende', 'todas', 'abordagens', 'quantitativas', 'processamento', 'automatizado', 'linguagem', 'incluindo', 'modelagem', 'probabilística', 'teoria', 'informação', 'álgebra', 'linear', 'tecnologia', 'pln', 'estatístico', 'vem', 'principalmente', 'aprendizagem', 'automática', 'mineração', 'dados', 'campos', 'inteligência', 'artificial', 'envolvem', 'aprendizado', 'partir', 'dados', 'avaliação', 'objetivo', 'avaliação', 'pln', 'medida', 'qualidades', 'algoritmo', 'sistema', 'fim', 'determinar', 'algoritmo', 'atende', 'metas', 'projetistas', 'sistema', 'atendimento', 'necessidades', 'usuários', 'investigação', 'avaliação', 'pln', 'ganhado', 'atenção', 'porque', 'definição', 'critérios', 'avaliação', 'forma', 'especificar', 'precisamente', 'problemas', 'pln', 'métrica', 'avaliação', 'pln', 'sistema', 'algorítmico', 'permite', 'integração', 'compreensão', 'linguagem', 'geração', 'linguagem', 'conjunto', 'preciso', 'critérios', 'avaliação', 'pode', 'ser', 'aplicado', 'principalmente', 'avaliações', 'métricas', 'podendo', 'permitir', 'várias', 'equipes', 'comparem', 'soluções', 'determinado', 'problema', 'pln', 'cronologia', 'avaliação', 'iniciou', 'projecto', 'esprit', 'p', 'avaliou', 'tecnologias', 'fala', 'incluindo', 'tópicos', 'gerais', 'sintaxe', 'semântica', 'comparando', 'abordagens', 'baseadas', 'regras', 'estatísticas', 'primeira', 'campanha', 'avaliação', 'textos', 'escritos', 'parece', 'ser', 'campanha', 'dedicada', 'compreensão', 'mensagem', 'pallet', 'projeto', 'parseval', 'geig', 'comparou', 'gramáticas', 'frase', 'estrutura', 'black', 'série', 'campanhas', 'projeto', 'tipster', 'sobre', 'tarefas', 'resumo', 'tradução', 'pesquisa', 'hirschman', 'alemanha', 'morpholympics', 'comparou', 'marcadores', 'morfológicos', 'alemães', 'campanhas', 'senseval', 'romanseval', 'realizadas', 'objetivos', 'desambiguação', 'semântica', 'campanha', 'sparkle', 'comparou', 'analisadores', 'sintáticos', 'quatro', 'idiomas', 'diferentes', 'inglês', 'francês', 'alemão', 'italiano', 'frança', 'projeto', 'grace', 'comparou', 'conjunto', 'marcadores', 'francês', 'adda', 'durante', 'projeto', 'technolangue', 'easy', 'comparados', 'analisadores', 'francês', 'avaliação', 'larga', 'escala', 'analisadores', 'dependência', 'realizada', 'contexto', 'tarefas', 'compartilhadas', 'conll', 'frança', 'âmbito', 'projecto', 'anr', 'passage', 'final', 'comparados', 'analisadores', 'francês', 'itália', 'campanha', 'evalita', 'realizada', 'comparar', 'várias', 'ferramentas', 'pln', 'voz', 'site', 'italiano', 'evalita', 'diferentes', 'tipos', 'avaliação', 'avaliação', 'intrínseca', 'vs', 'extrínseca', 'avaliação', 'intrínseca', 'considera', 'sistema', 'pnl', 'isolado', 'caracteriza', 'desempenho', 'relação', 'resultado', 'padrão', 'excelência', 'conforme', 'definido', 'avaliadores', 'avaliação', 'extrínseca', 'chamada', 'avaliação', 'uso', 'considera', 'sistema', 'pln', 'cenário', 'complexo', 'sistema', 'embutido', 'função', 'precisa', 'usuário', 'humano', 'desempenho', 'extrínseco', 'sistema', 'então', 'caracterizado', 'termos', 'utilidade', 'relação', 'tarefa', 'global', 'sistema', 'estranho', 'utilizador', 'humano', 'exemplo', 'considere', 'analisador', 'sintático', 'baseado', 'saída', 'alguma', 'parte', 'tagger', 'fala', 'pos', 'avaliação', 'intrínseca', 'executaria', 'marcador', 'pos', 'dados', 'estruturados', 'compararia', 'saída', 'sistema', 'marcador', 'pos', 'saída', 'padrão', 'ouro', 'avaliação', 'extrínseca', 'executaria', 'analisador', 'algum', 'outro', 'marcador', 'pos', 'seguida', 'marcador', 'pos', 'novo', 'compara', 'precisão', 'análise', 'caixa', 'preta', 'vs', 'avaliação', 'caixa', 'vidro', 'avaliação', 'caixa', 'preta', 'requer', 'alguém', 'execute', 'sistema', 'pln', 'conjunto', 'dados', 'amostra', 'medir', 'série', 'parâmetros', 'relacionados', 'qualidade', 'processo', 'velocidade', 'confiabilidade', 'consumo', 'recursos', 'principalmente', 'qualidade', 'resultado', 'precisão', 'anotação', 'dados', 'fidelidade', 'tradução', 'avaliação', 'caixa', 'vidro', 'examina', 'concepção', 'sistema', 'algoritmos', 'implementados', 'recursos', 'linguísticos', 'utiliza', 'tamanho', 'vocabulário', 'expressão', 'definida', 'cardinalidade', 'dada', 'complexidade', 'problemas', 'pln', 'muitas', 'vezes', 'difícil', 'prever', 'desempenho', 'apenas', 'base', 'avaliação', 'caixa', 'vidro', 'tipo', 'avaliação', 'informativo', 'diz', 'respeito', 'análise', 'erros', 'desenvolvimentos', 'futuros', 'sistema', 'automática', 'vs', 'avaliação', 'manual', 'muitos', 'casos', 'procedimentos', 'automáticos', 'podem', 'ser', 'definidos', 'avaliar', 'sistema', 'pln', 'comparando', 'saída', 'padrão', 'excelência', 'embora', 'custo', 'reproduzir', 'padrão', 'excelência', 'possa', 'ser', 'bastante', 'elevado', 'avaliação', 'automática', 'bootstrapping', 'sobre', 'mesmos', 'dados', 'entrada', 'pode', 'ser', 'repetida', 'quantas', 'vezes', 'necessário', 'custos', 'adicionais', 'desordenados', 'entanto', 'muitos', 'problemas', 'pln', 'definição', 'precisa', 'padrão', 'excelência', 'tarefa', 'complexa', 'pode', 'revelar', 'impossível', 'acordo', 'inter', 'anotador', 'insuficiente', 'avaliação', 'manual', 'melhor', 'realizada', 'juízes', 'humanos', 'instruídos', 'estimar', 'qualidade', 'sistema', 'frequentemente', 'amostra', 'produção', 'base', 'série', 'critérios', 'embora', 'graças', 'competência', 'linguística', 'juízes', 'humanos', 'possam', 'ser', 'considerados', 'referência', 'série', 'tarefas', 'processamento', 'linguagem', 'variação', 'considerável', 'classificações', 'avaliação', 'automática', 'vezes', 'referida', 'avaliação', 'objetiva', 'enquanto', 'avaliação', 'humana', 'perspectiva', 'padronização', 'subcomitê', 'iso', 'trabalhando', 'facilitar', 'interoperabilidade', 'recursos', 'lexicais', 'programas', 'pln', 'subcomitê', 'faz', 'parte', 'iso', 'tc', 'chamado', 'iso', 'tc', 'sc', 'alguns', 'padrões', 'iso', 'publicados', 'maioria', 'construção', 'principalmente', 'representação', 'léxico', 'ver', 'lmf', 'anotação', 'registro', 'categoria', 'dados', 'ferramentas', 'expert', 'system', 's', 'p', 'general', 'architecture', 'text', 'engineering', 'modular', 'audio', 'recognition', 'framework', 'natural', 'language', 'toolkit', 'nltk', 'biblioteca', 'python', 'opennlp', 'veja', 'mineração', 'texto', 'biomédica', 'processo', 'processamento', 'composto', 'revisão', 'assistida', 'computador', 'linguagem', 'natural', 'controlada', 'processamento', 'linguístico', 'profundo', 'auxílio', 'leitura', 'línguas', 'estrangeiras', 'auxílio', 'escrita', 'língua', 'estrangeira', 'tecnologia', 'linguagem', 'alocação', 'dirichlet', 'latente', 'lda', 'indexação', 'semântica', 'latente', 'lista', 'ferramentas', 'processamento', 'língua', 'natural', 'mapa', 'lre', 'programação', 'língua', 'natural', 'reificação', 'linguística', 'dobradura', 'semântica', 'sistema', 'diálogo', 'falado', 'vetor', 'pensamento', 'pesquisa', 'transderivacional', 'wordvec', 'referências', 'leitura', 'adicional', 'steven', 'bird', 'ewan', 'klein', 'and', 'edward', 'loper', 'natural', 'language', 'processing', 'with', 'python', \"o'reilly\", 'media', 'isbn', 'daniel', 'jurafsky', 'and', 'james', 'h', 'martin', 'speech', 'and', 'language', 'processing', 'nd', 'edition', 'pearson', 'prentice', 'hall', 'isbn', 'christopher', 'd', 'manning', 'prabhakar', 'raghavan', 'and', 'hinrich', 'schütze', 'introduction', 'to', 'information', 'retrieval', 'cambridge', 'university', 'press', 'isbn', 'official', 'html', 'and', 'pdf', 'versions', 'available', 'without', 'charge', 'christopher', 'd', 'manning', 'and', 'hinrich', 'schütze', 'foundations', 'of', 'statistical', 'natural', 'language', 'processing', 'the', 'mit', 'press', 'isbn', 'david', 'm', 'w', 'powers', 'and', 'christopher', 'c', 'r', 'turk', 'machine', 'learning', 'of', 'natural', 'language', 'springer', 'verlag', 'isbn']\n"
          ],
          "name": "stdout"
        }
      ]
    },
    {
      "cell_type": "code",
      "metadata": {
        "id": "FfLEPu_4E2XF"
      },
      "source": [
        "str_tokens = ' '.join(tokens_sem_punction)"
      ],
      "execution_count": 175,
      "outputs": []
    },
    {
      "cell_type": "code",
      "metadata": {
        "id": "3IZgO0G-tJ1L",
        "outputId": "a5ec7e4b-8474-4dc3-b1e2-ade6cc12cef3",
        "colab": {
          "base_uri": "https://localhost:8080/",
          "height": 53
        }
      },
      "source": [
        "print(str_tokens)"
      ],
      "execution_count": 176,
      "outputs": [
        {
          "output_type": "stream",
          "text": [
            "processamento língua natural pln subárea ciência computação inteligência artificial linguística estuda problemas geração compreensão automática línguas humanas naturais sistemas geração língua natural convertem informação bancos dados computadores linguagem compreensível ser humano sistemas compreensão língua natural convertem ocorrências linguagem humana representações formais facilmente manipuláveis programas computador alguns desafios pln compreensão língua natural fazer computadores extraiam sentido linguagem humana natural geração língua natural história história pln começou década alan turing publicou artigo computing machinery and intelligence propunha agora chamado teste turing critério inteligência experiência georgetown envolveu tradução automática sessenta frases russas inglês autores afirmaram dentro três cinco anos tradução automática problema resolvido entanto avanços reais lentos previsto após relatório alpac constatou pesquisa dez anos conseguiu satisfazer expectativas financiamento estudo tradução automática reduzido drasticamente poucas pesquisas tradução automática conduzidas final anos primeiros sistemas estatísticos tradução desenvolvidos alguns sistemas pln bem sucedidos desenvolvidos anos shrdlu sistema língua natural trabalhava blocks worlds vocabulário restrito eliza simulação psicoterapeuta escrita joseph weizenbaum usando pouca informação sobre pensamento emoção humana eliza criava alguns casos interações surpreendentemente humanas paciente excedia base conhecimento programa eliza fornecia resposta genérica exemplo respondendo cabeça dói diz cabeça dói durante década muitos programadores começaram escrever ontologias conceituais estruturaram informação mundo real dados compreensíveis computadores exemplos margie schank sam cullingford pam wilensky talespin meehan qualm lehnert politics carbonell plot units lehnert neste período muitos chatterbots escritos parry racter jabberwacky década maioria sistemas pln baseava conjuntos complexos regras manuscritas partir final anos entanto revolução pln introdução algoritmos aprendizagem automática aprendizado máquina processamento linguagem devido tanto aumento constante poder computacional ver lei moore quanto diminuição gradual dominância teorias linguística chomskyanas gramática gerativa cujos fundamentos teóricos desestimularam tipo corpus linguístico subjacente abordagem aprendizagem automática processamento linguagem alguns algoritmos aprendizado máquinas antigos árvores decisão produziam sistemas regras rígidas então semelhantes regras existentes escritas mão entanto marcação partes fala part of speech tagging introduziu uso modelos ocultos markov pln cada vez pesquisa concentrava modelos estatísticos tomam decisões suaves probabilísticas baseadas atribuição pesos reais recursos compõem dados entrada modelos linguagem cache sobre quais muitos sistemas reconhecimento fala agora dependem exemplos tais modelos estatísticos modelos geralmente robustos dados informações desconhecidas especialmente entrada contém erros comum dados mundo real produzem resultados confiáveis integrados sistemas maiores compreendem múltiplas tarefas muitos sucessos iniciais notáveis ocorreram campo tradução automática devido especialmente trabalho pesquisa ibm desenvolveu modelos estatísticos elaborados sistemas capazes tirar proveito corpora textuais multilíngues existentes produzidos parlamento canadá união europeia resultado leis exigem tradução todos processos governamentais todas línguas oficiais países entanto maioria sistemas dependia corpora desenvolvido especificamente tarefas implementadas sistemas muitas vezes continua sendo grande limitação sucesso resultado grande quantidade pesquisa passou quantidades dados limitadas métodos aprendizagem eficazes pesquisas recentes têm concentrado cada vez algoritmos aprendizagem semi supervisionados supervisão algoritmos capazes aprender dados anotados manualmente respostas desejadas usando combinação dados anotados anotados geralmente tarefa trabalhosa aprendizagem supervisionada normalmente produz resultados menos precisos quantidade específica dados entrada entanto enorme quantidade dados anotados disponíveis incluindo outras coisas todo conteúdo world wide web muitas vezes pode compensar resultados inferiores usando aprendizagem automática aprendizado máquina algoritmos modernos pln baseiam aprendizagem mecânica especialmente aprendizagem máquinas estatísticas paradigma aprendizagem mecânica diferente maioria tentativas anteriores processamento linguagem anteriormente implementações tarefas processamento linguagem envolviam codificação direta grandes conjuntos regras paradigma aprendizagem automática aprendizagem automática induz aprendizagem automática regras através análises corpora exemplos típicos mundo real invés usar algoritmos gerais aprendizagem muitas vezes embora sempre baseados inferência estatística corpus plural corpora conjunto documentos frases individuais anotados mão valores corretos serem aprendidos muitas classes diferentes algoritmos aprendizado máquina aplicadas tarefas pln algoritmos tomam entrada grande conjunto recursos gerados partir dados entrada alguns algoritmos usados árvores decisão produziam sistemas regras rígidas semelhantes sistemas regras manuscritas comuns entanto cada vez pesquisa concentrado modelos estatísticos tomam decisões flexíveis probabilísticas baseadas agregar pesos reais cada característica entrada tais modelos têm vantagem poder expressar certeza relativa muitas respostas possíveis diferentes vez apenas produzindo resultados confiáveis modelo incluído componente sistema maior sistemas baseados algoritmos aprendizagem mecânica têm muitas vantagens relação regras produzidas manualmente procedimentos aprendizagem usados durante aprendizagem máquina focam automaticamente casos comuns passo escrevem regras mão óbvio sentido esforço deve ser dirigido procedimentos aprendizagem automática podem fazer uso algoritmos inferência estatística produzir modelos robustos entradas familiares exemplo contendo palavras estruturas vistas antes entradas errôneas exemplo palavras palavras incorretamente omitidas geralmente lidar entradas forma regras manuscritas sistemas regras manuscritas tomam decisões suaves extremamente trabalhoso propenso erros demorado sistemas baseados aprender automaticamente regras podem ser precisos simplesmente fornecendo dados entrada entanto sistemas baseados regras escritas mão podem ser tornados precisos aumentando complexidade regras tarefa difícil particular limite complexidade sistemas baseados regras artesanais além quais sistemas tornam cada vez incontroláveis entanto criação dados entrada sistemas aprendizado máquina requer simplesmente aumento correspondente número horas trabalhadas humanos geralmente aumentos significativos complexidade processo anotação subcampo pln dedicado abordagens aprendizagem conhecido aprendizagem língua natural nll conferência conll orgão central signll patrocinados acl reconhecendo ligações linguística computacional aquisição linguagem objetivo pesquisa aprendizagem linguagem computacional entender sobre aquisição linguagem humana psicolinguística nll sobrepõe campo relacionado psicolinguística computacional aplicações principais listagem seguir traz alguns trabalhos pesquisadas pln note alguns têm aplicações mundo real enquanto outras servem frequentemente tarefas secundárias usadas auxiliar resolução tarefas maiores distingue tarefas outras tarefas potenciais reais pln apenas volume pesquisa dedicado fato cada tipicamente definição problema bem especificada métrica padrão avaliar tarefa corpora padrão tarefa pode ser avaliada competições dedicadas tarefa específica sumarização automática produz resumo legível parte texto muitas vezes usado fornecer resumos texto tipo conhecido artigos seção financeira jornal resolução correferência dada frase pedaço maior texto determina quais palavras menções referem mesmos objetos entidades resolução anáfora exemplo específico dessa tarefa especificamente preocupada combinar pronomes substantivos nomes quais referem tarefa geral resolução correferência inclui identificação chamados relacionamentos ponte envolvendo expressões referência exemplo frase entrou casa joão porta frente porta frente expressão referência relação ponte ser identificada fato porta ser referida porta frente john's invés alguma outra estrutura pode ser referida análise discurso rubrica inclui série tarefas relacionadas tarefa identificar estrutura discursiva texto conectado natureza relações discursivas sentenças exemplo elaboração explicação contraste outra possível tarefa reconhecer classificar atos fala pedaço texto exemplo pergunta sim pergunta conteúdo frase afirmação etc maquina tradução traduzir automaticamente texto linguagem humana outra tarefas difíceis faz parte tipo problemas conhecidos ai complete exigindo todos diferentes tipos conhecimento humanos possuem gramática semântica fatos sobre mundo real etc resolvê lo adequadamente segmentação morfológica separa palavras morfemas individuais identifica classes morfemas dificuldade desta tarefa depende complexidade morfologia estrutura palavras linguagem sendo considerada inglês possui morfologia bastante simples especialmente morfologia flexional portanto possível ignorar tarefa inteiramente simplesmente modelar todas formas possíveis palavra exemplo open opens opened opening palavras separadas línguas turco meitei língua indiana fortemente aglutinada entanto tal abordagem possível vez cada entrada dicionário milhares formas palavras possíveis reconhecimento entidade nomeada ner dado fluxo texto determina quais itens mapa texto nomes próprios pessoas locais tipo cada nome exemplo pessoa local organização embora capitalização possa ajudar reconhecer entidades nomeadas idiomas inglês informações podem ajudar determinar tipo entidade nomeada alguns casos sãos imprecisas insuficientes exemplo primeira palavra frase capitalizada entidades nomeadas muitas vezes abrangem várias palavras apenas algumas capitalizadas além disso muitas outras linguagens scripts ocidentais exemplo chinês árabe têm nenhuma capitalização línguas maiúsculas podem distinguir nomes exemplo alemão capitaliza todos substantivos independentemente referirem nomes francês espanhol capitalizam nomes servem adjetivos geração língua natural converte informações bancos dados computador intenções semânticas linguagem humana legível compreensão língua natural converte pedaços texto representações formais estruturas lógica primeira ordem fáceis manipular programas computador compreensão língua natural envolve identificação semântica pretendida partir múltipla semântica possível pode ser derivada expressão língua natural geralmente toma forma notação organizada conceitos linguagens naturais entretanto introdução criação linguagem metamodelo ontologia eficientes soluções empíricas formalização explícita semântica línguas naturais confusões suposições implícitas closed world assumption cwa versus open world assumption subjetiva sim versus objetivo verdadeiro falso esperada construção base formalização semântica reconhecimento óptico caracteres ocr dada imagem representa texto impresso determina texto correspondente marcação classe gramatical dada sentença determina classe gramatical cada palavra muitas palavras especialmente comuns podem servir múltiplas partes discurso inglês exemplo book pode ser substantivo the book on the table verbo book flight set pode ser substantivo verbo adjetivo out pode ser qualquer menos cinco diferentes partes fala algumas línguas têm ambiguidade outras línguas pouca morfologia flexional inglês particularmente propensas tal ambiguidade chinês propenso tal ambiguidade porque língua tonal durante verbalização tal inflexão facilmente transmitida através entidades empregadas dentro ortografia transmitir significado pretendido análise sintática parsing determina árvore análise análise gramatical frase gramática linguagens naturais ambígua frases típicas têm múltiplas análises possíveis verdade surpreendentemente frase típica pode haver milhares análises potencial maioria quais parecerá completamente absurda ser humano respostas perguntas dada questão linguagem humana determina resposta perguntas típicas têm resposta correta específica capital canadá vezes perguntas abertas consideradas significado vida trabalhos recentes têm analisado questões ainda complexas extração relacionamento identifica relações entidades nomeadas exemplo casado base textos quebra frases sentence boundary disambiguation encontra limites frase pedaço texto limites frases normalmente marcadas pontos outros sinais pontuação mesmos caracteres podem servir outros propósitos análise subjetividade sentiment analysis opinion mining extrai informações subjetivas geralmente conjunto documentos muitas vezes usando revisões online determinar polaridade sobre objetos específicos especialmente útil identificar tendências opinião pública mídias sociais fins marketing reconhecimento fala dado clipe som pessoa pessoas falando determina representação textual discurso oposto síntese fala áreas difíceis conhecida ai complete fala natural quase pausas palavras sucessivas segmentação fala subtarefa necessária reconhecimento fala nota maioria linguagens faladas sons representam letras sucessivas misturam si processo denominado coarticulação modo conversão sinal analógico caracteres discretos pode ser processo difícil ser realizado segmentação fala dado clipe som pessoa pessoas falando separa palavras subaplicação reconhecimento fala normalmente agrupada análise morfológica reconhecimento tópicos dado pedaço texto separa segmentos cada quais dedicado tópico identifica tópico segmento análise morfológica segmentação palavras separa pedaço texto contínuo palavras separadas língua inglês bastante trivial vez palavras normalmente separadas espaços entanto algumas línguas escritas chinês japonês tailandês marcam limites palavras tal forma nessas línguas segmentação texto tarefa significativa requer conhecimento vocabulário morfologia palavras língua desambiguação muitas palavras têm significado assim selecionar significado faz sentido contexto problema geral dada lista palavras sentidos palavras associadas dicionário recurso online wordnet alguns casos conjuntos tarefas relacionadas agrupados subcampos pln frequentemente considerados separadamente pln todo exemplos seguir recuperação informação ir trata armazenar pesquisar recuperar informações campo separado dentro ciência computação perto bancos dados ir baseia alguns métodos pln exemplo stemming algumas pesquisas aplicações atuais procuram preencher lacuna ir pln extração informação ie trata geral extração informação semântica partir texto abrange tarefas reconhecimento entidade mencionada resolução correferência relacionamento extração etc processamento voz abrange reconhecimento fala síntese fala tarefas relacionadas outras tarefas incluem identificação língua materna stemização simplificação texto síntese fala revisão texto pesquisa língua natural expansão consulta pontuação ensaio automatizado truecasing estatística artigo principal gramática estocástica processamento estatístico língua natural utiliza métodos estocásticos probabilísticos estatísticos resolver algumas dificuldades discutidas acima especialmente surgem porque frases longas ambíguas processadas gramáticas realistas produzindo milhares milhões análises possíveis métodos desambiguação envolvem muitas vezes uso corpora modelos markov projeto esprit p liderado cselt explorou problema reconhecimento fala comparando abordagem baseada conhecimento estatística resultado escolhido modelo completamente estatístico primeiros modelos compreensão estatística língua natural introduzido roberto pieraccini esther levin chin hui lee bell laboratories pln compreende todas abordagens quantitativas processamento automatizado linguagem incluindo modelagem probabilística teoria informação álgebra linear tecnologia pln estatístico vem principalmente aprendizagem automática mineração dados campos inteligência artificial envolvem aprendizado partir dados avaliação objetivo avaliação pln medida qualidades algoritmo sistema fim determinar algoritmo atende metas projetistas sistema atendimento necessidades usuários investigação avaliação pln ganhado atenção porque definição critérios avaliação forma especificar precisamente problemas pln métrica avaliação pln sistema algorítmico permite integração compreensão linguagem geração linguagem conjunto preciso critérios avaliação pode ser aplicado principalmente avaliações métricas podendo permitir várias equipes comparem soluções determinado problema pln cronologia avaliação iniciou projecto esprit p avaliou tecnologias fala incluindo tópicos gerais sintaxe semântica comparando abordagens baseadas regras estatísticas primeira campanha avaliação textos escritos parece ser campanha dedicada compreensão mensagem pallet projeto parseval geig comparou gramáticas frase estrutura black série campanhas projeto tipster sobre tarefas resumo tradução pesquisa hirschman alemanha morpholympics comparou marcadores morfológicos alemães campanhas senseval romanseval realizadas objetivos desambiguação semântica campanha sparkle comparou analisadores sintáticos quatro idiomas diferentes inglês francês alemão italiano frança projeto grace comparou conjunto marcadores francês adda durante projeto technolangue easy comparados analisadores francês avaliação larga escala analisadores dependência realizada contexto tarefas compartilhadas conll frança âmbito projecto anr passage final comparados analisadores francês itália campanha evalita realizada comparar várias ferramentas pln voz site italiano evalita diferentes tipos avaliação avaliação intrínseca vs extrínseca avaliação intrínseca considera sistema pnl isolado caracteriza desempenho relação resultado padrão excelência conforme definido avaliadores avaliação extrínseca chamada avaliação uso considera sistema pln cenário complexo sistema embutido função precisa usuário humano desempenho extrínseco sistema então caracterizado termos utilidade relação tarefa global sistema estranho utilizador humano exemplo considere analisador sintático baseado saída alguma parte tagger fala pos avaliação intrínseca executaria marcador pos dados estruturados compararia saída sistema marcador pos saída padrão ouro avaliação extrínseca executaria analisador algum outro marcador pos seguida marcador pos novo compara precisão análise caixa preta vs avaliação caixa vidro avaliação caixa preta requer alguém execute sistema pln conjunto dados amostra medir série parâmetros relacionados qualidade processo velocidade confiabilidade consumo recursos principalmente qualidade resultado precisão anotação dados fidelidade tradução avaliação caixa vidro examina concepção sistema algoritmos implementados recursos linguísticos utiliza tamanho vocabulário expressão definida cardinalidade dada complexidade problemas pln muitas vezes difícil prever desempenho apenas base avaliação caixa vidro tipo avaliação informativo diz respeito análise erros desenvolvimentos futuros sistema automática vs avaliação manual muitos casos procedimentos automáticos podem ser definidos avaliar sistema pln comparando saída padrão excelência embora custo reproduzir padrão excelência possa ser bastante elevado avaliação automática bootstrapping sobre mesmos dados entrada pode ser repetida quantas vezes necessário custos adicionais desordenados entanto muitos problemas pln definição precisa padrão excelência tarefa complexa pode revelar impossível acordo inter anotador insuficiente avaliação manual melhor realizada juízes humanos instruídos estimar qualidade sistema frequentemente amostra produção base série critérios embora graças competência linguística juízes humanos possam ser considerados referência série tarefas processamento linguagem variação considerável classificações avaliação automática vezes referida avaliação objetiva enquanto avaliação humana perspectiva padronização subcomitê iso trabalhando facilitar interoperabilidade recursos lexicais programas pln subcomitê faz parte iso tc chamado iso tc sc alguns padrões iso publicados maioria construção principalmente representação léxico ver lmf anotação registro categoria dados ferramentas expert system s p general architecture text engineering modular audio recognition framework natural language toolkit nltk biblioteca python opennlp veja mineração texto biomédica processo processamento composto revisão assistida computador linguagem natural controlada processamento linguístico profundo auxílio leitura línguas estrangeiras auxílio escrita língua estrangeira tecnologia linguagem alocação dirichlet latente lda indexação semântica latente lista ferramentas processamento língua natural mapa lre programação língua natural reificação linguística dobradura semântica sistema diálogo falado vetor pensamento pesquisa transderivacional wordvec referências leitura adicional steven bird ewan klein and edward loper natural language processing with python o'reilly media isbn daniel jurafsky and james h martin speech and language processing nd edition pearson prentice hall isbn christopher d manning prabhakar raghavan and hinrich schütze introduction to information retrieval cambridge university press isbn official html and pdf versions available without charge christopher d manning and hinrich schütze foundations of statistical natural language processing the mit press isbn david m w powers and christopher c r turk machine learning of natural language springer verlag isbn\n"
          ],
          "name": "stdout"
        }
      ]
    },
    {
      "cell_type": "markdown",
      "metadata": {
        "id": "qprZRw5rE2XH"
      },
      "source": [
        "Depois carregue a string de tokens (<b>str_tokens</b>) no modelo <b> nlp </b>, carregado em um dos passos anteriores.\n",
        "\n",
        "```python\n",
        "doc = nlp(str_tokens)\n",
        "```"
      ]
    },
    {
      "cell_type": "code",
      "metadata": {
        "id": "yvkUDdatE2XI"
      },
      "source": [
        "doc = nlp(str_tokens)"
      ],
      "execution_count": 177,
      "outputs": []
    },
    {
      "cell_type": "markdown",
      "metadata": {
        "id": "9EryUAZ-E2XJ"
      },
      "source": [
        "Verifique o tipo da variável <b> doc </b>.\n",
        "Observe que é do tipo spacy.tokens.doc.Doc"
      ]
    },
    {
      "cell_type": "code",
      "metadata": {
        "id": "0Uc-mP5uE2XK",
        "outputId": "da06f76c-f659-4ab5-9822-1b49b1934c39",
        "colab": {
          "base_uri": "https://localhost:8080/",
          "height": 33
        }
      },
      "source": [
        "type(doc)"
      ],
      "execution_count": 178,
      "outputs": [
        {
          "output_type": "execute_result",
          "data": {
            "text/plain": [
              "spacy.tokens.doc.Doc"
            ]
          },
          "metadata": {
            "tags": []
          },
          "execution_count": 178
        }
      ]
    },
    {
      "cell_type": "markdown",
      "metadata": {
        "id": "NNwRqjPXE2XM"
      },
      "source": [
        "Como tipo da variável doc é do tipo spacy.tokens.doc.Doc.\n",
        "Apenas é preciso iterar em cada token e retornar o atributo <b> lemma_</b>"
      ]
    },
    {
      "cell_type": "code",
      "metadata": {
        "id": "TkXpP1VIvuLC",
        "outputId": "a58cfdb4-0817-4603-8273-bb7c2d006ea4",
        "colab": {
          "base_uri": "https://localhost:8080/",
          "height": 53
        }
      },
      "source": [
        "print(doc)"
      ],
      "execution_count": 180,
      "outputs": [
        {
          "output_type": "stream",
          "text": [
            "processamento língua natural pln subárea ciência computação inteligência artificial linguística estuda problemas geração compreensão automática línguas humanas naturais sistemas geração língua natural convertem informação bancos dados computadores linguagem compreensível ser humano sistemas compreensão língua natural convertem ocorrências linguagem humana representações formais facilmente manipuláveis programas computador alguns desafios pln compreensão língua natural fazer computadores extraiam sentido linguagem humana natural geração língua natural história história pln começou década alan turing publicou artigo computing machinery and intelligence propunha agora chamado teste turing critério inteligência experiência georgetown envolveu tradução automática sessenta frases russas inglês autores afirmaram dentro três cinco anos tradução automática problema resolvido entanto avanços reais lentos previsto após relatório alpac constatou pesquisa dez anos conseguiu satisfazer expectativas financiamento estudo tradução automática reduzido drasticamente poucas pesquisas tradução automática conduzidas final anos primeiros sistemas estatísticos tradução desenvolvidos alguns sistemas pln bem sucedidos desenvolvidos anos shrdlu sistema língua natural trabalhava blocks worlds vocabulário restrito eliza simulação psicoterapeuta escrita joseph weizenbaum usando pouca informação sobre pensamento emoção humana eliza criava alguns casos interações surpreendentemente humanas paciente excedia base conhecimento programa eliza fornecia resposta genérica exemplo respondendo cabeça dói diz cabeça dói durante década muitos programadores começaram escrever ontologias conceituais estruturaram informação mundo real dados compreensíveis computadores exemplos margie schank sam cullingford pam wilensky talespin meehan qualm lehnert politics carbonell plot units lehnert neste período muitos chatterbots escritos parry racter jabberwacky década maioria sistemas pln baseava conjuntos complexos regras manuscritas partir final anos entanto revolução pln introdução algoritmos aprendizagem automática aprendizado máquina processamento linguagem devido tanto aumento constante poder computacional ver lei moore quanto diminuição gradual dominância teorias linguística chomskyanas gramática gerativa cujos fundamentos teóricos desestimularam tipo corpus linguístico subjacente abordagem aprendizagem automática processamento linguagem alguns algoritmos aprendizado máquinas antigos árvores decisão produziam sistemas regras rígidas então semelhantes regras existentes escritas mão entanto marcação partes fala part of speech tagging introduziu uso modelos ocultos markov pln cada vez pesquisa concentrava modelos estatísticos tomam decisões suaves probabilísticas baseadas atribuição pesos reais recursos compõem dados entrada modelos linguagem cache sobre quais muitos sistemas reconhecimento fala agora dependem exemplos tais modelos estatísticos modelos geralmente robustos dados informações desconhecidas especialmente entrada contém erros comum dados mundo real produzem resultados confiáveis integrados sistemas maiores compreendem múltiplas tarefas muitos sucessos iniciais notáveis ocorreram campo tradução automática devido especialmente trabalho pesquisa ibm desenvolveu modelos estatísticos elaborados sistemas capazes tirar proveito corpora textuais multilíngues existentes produzidos parlamento canadá união europeia resultado leis exigem tradução todos processos governamentais todas línguas oficiais países entanto maioria sistemas dependia corpora desenvolvido especificamente tarefas implementadas sistemas muitas vezes continua sendo grande limitação sucesso resultado grande quantidade pesquisa passou quantidades dados limitadas métodos aprendizagem eficazes pesquisas recentes têm concentrado cada vez algoritmos aprendizagem semi supervisionados supervisão algoritmos capazes aprender dados anotados manualmente respostas desejadas usando combinação dados anotados anotados geralmente tarefa trabalhosa aprendizagem supervisionada normalmente produz resultados menos precisos quantidade específica dados entrada entanto enorme quantidade dados anotados disponíveis incluindo outras coisas todo conteúdo world wide web muitas vezes pode compensar resultados inferiores usando aprendizagem automática aprendizado máquina algoritmos modernos pln baseiam aprendizagem mecânica especialmente aprendizagem máquinas estatísticas paradigma aprendizagem mecânica diferente maioria tentativas anteriores processamento linguagem anteriormente implementações tarefas processamento linguagem envolviam codificação direta grandes conjuntos regras paradigma aprendizagem automática aprendizagem automática induz aprendizagem automática regras através análises corpora exemplos típicos mundo real invés usar algoritmos gerais aprendizagem muitas vezes embora sempre baseados inferência estatística corpus plural corpora conjunto documentos frases individuais anotados mão valores corretos serem aprendidos muitas classes diferentes algoritmos aprendizado máquina aplicadas tarefas pln algoritmos tomam entrada grande conjunto recursos gerados partir dados entrada alguns algoritmos usados árvores decisão produziam sistemas regras rígidas semelhantes sistemas regras manuscritas comuns entanto cada vez pesquisa concentrado modelos estatísticos tomam decisões flexíveis probabilísticas baseadas agregar pesos reais cada característica entrada tais modelos têm vantagem poder expressar certeza relativa muitas respostas possíveis diferentes vez apenas produzindo resultados confiáveis modelo incluído componente sistema maior sistemas baseados algoritmos aprendizagem mecânica têm muitas vantagens relação regras produzidas manualmente procedimentos aprendizagem usados durante aprendizagem máquina focam automaticamente casos comuns passo escrevem regras mão óbvio sentido esforço deve ser dirigido procedimentos aprendizagem automática podem fazer uso algoritmos inferência estatística produzir modelos robustos entradas familiares exemplo contendo palavras estruturas vistas antes entradas errôneas exemplo palavras palavras incorretamente omitidas geralmente lidar entradas forma regras manuscritas sistemas regras manuscritas tomam decisões suaves extremamente trabalhoso propenso erros demorado sistemas baseados aprender automaticamente regras podem ser precisos simplesmente fornecendo dados entrada entanto sistemas baseados regras escritas mão podem ser tornados precisos aumentando complexidade regras tarefa difícil particular limite complexidade sistemas baseados regras artesanais além quais sistemas tornam cada vez incontroláveis entanto criação dados entrada sistemas aprendizado máquina requer simplesmente aumento correspondente número horas trabalhadas humanos geralmente aumentos significativos complexidade processo anotação subcampo pln dedicado abordagens aprendizagem conhecido aprendizagem língua natural nll conferência conll orgão central signll patrocinados acl reconhecendo ligações linguística computacional aquisição linguagem objetivo pesquisa aprendizagem linguagem computacional entender sobre aquisição linguagem humana psicolinguística nll sobrepõe campo relacionado psicolinguística computacional aplicações principais listagem seguir traz alguns trabalhos pesquisadas pln note alguns têm aplicações mundo real enquanto outras servem frequentemente tarefas secundárias usadas auxiliar resolução tarefas maiores distingue tarefas outras tarefas potenciais reais pln apenas volume pesquisa dedicado fato cada tipicamente definição problema bem especificada métrica padrão avaliar tarefa corpora padrão tarefa pode ser avaliada competições dedicadas tarefa específica sumarização automática produz resumo legível parte texto muitas vezes usado fornecer resumos texto tipo conhecido artigos seção financeira jornal resolução correferência dada frase pedaço maior texto determina quais palavras menções referem mesmos objetos entidades resolução anáfora exemplo específico dessa tarefa especificamente preocupada combinar pronomes substantivos nomes quais referem tarefa geral resolução correferência inclui identificação chamados relacionamentos ponte envolvendo expressões referência exemplo frase entrou casa joão porta frente porta frente expressão referência relação ponte ser identificada fato porta ser referida porta frente john's invés alguma outra estrutura pode ser referida análise discurso rubrica inclui série tarefas relacionadas tarefa identificar estrutura discursiva texto conectado natureza relações discursivas sentenças exemplo elaboração explicação contraste outra possível tarefa reconhecer classificar atos fala pedaço texto exemplo pergunta sim pergunta conteúdo frase afirmação etc maquina tradução traduzir automaticamente texto linguagem humana outra tarefas difíceis faz parte tipo problemas conhecidos ai complete exigindo todos diferentes tipos conhecimento humanos possuem gramática semântica fatos sobre mundo real etc resolvê lo adequadamente segmentação morfológica separa palavras morfemas individuais identifica classes morfemas dificuldade desta tarefa depende complexidade morfologia estrutura palavras linguagem sendo considerada inglês possui morfologia bastante simples especialmente morfologia flexional portanto possível ignorar tarefa inteiramente simplesmente modelar todas formas possíveis palavra exemplo open opens opened opening palavras separadas línguas turco meitei língua indiana fortemente aglutinada entanto tal abordagem possível vez cada entrada dicionário milhares formas palavras possíveis reconhecimento entidade nomeada ner dado fluxo texto determina quais itens mapa texto nomes próprios pessoas locais tipo cada nome exemplo pessoa local organização embora capitalização possa ajudar reconhecer entidades nomeadas idiomas inglês informações podem ajudar determinar tipo entidade nomeada alguns casos sãos imprecisas insuficientes exemplo primeira palavra frase capitalizada entidades nomeadas muitas vezes abrangem várias palavras apenas algumas capitalizadas além disso muitas outras linguagens scripts ocidentais exemplo chinês árabe têm nenhuma capitalização línguas maiúsculas podem distinguir nomes exemplo alemão capitaliza todos substantivos independentemente referirem nomes francês espanhol capitalizam nomes servem adjetivos geração língua natural converte informações bancos dados computador intenções semânticas linguagem humana legível compreensão língua natural converte pedaços texto representações formais estruturas lógica primeira ordem fáceis manipular programas computador compreensão língua natural envolve identificação semântica pretendida partir múltipla semântica possível pode ser derivada expressão língua natural geralmente toma forma notação organizada conceitos linguagens naturais entretanto introdução criação linguagem metamodelo ontologia eficientes soluções empíricas formalização explícita semântica línguas naturais confusões suposições implícitas closed world assumption cwa versus open world assumption subjetiva sim versus objetivo verdadeiro falso esperada construção base formalização semântica reconhecimento óptico caracteres ocr dada imagem representa texto impresso determina texto correspondente marcação classe gramatical dada sentença determina classe gramatical cada palavra muitas palavras especialmente comuns podem servir múltiplas partes discurso inglês exemplo book pode ser substantivo the book on the table verbo book flight set pode ser substantivo verbo adjetivo out pode ser qualquer menos cinco diferentes partes fala algumas línguas têm ambiguidade outras línguas pouca morfologia flexional inglês particularmente propensas tal ambiguidade chinês propenso tal ambiguidade porque língua tonal durante verbalização tal inflexão facilmente transmitida através entidades empregadas dentro ortografia transmitir significado pretendido análise sintática parsing determina árvore análise análise gramatical frase gramática linguagens naturais ambígua frases típicas têm múltiplas análises possíveis verdade surpreendentemente frase típica pode haver milhares análises potencial maioria quais parecerá completamente absurda ser humano respostas perguntas dada questão linguagem humana determina resposta perguntas típicas têm resposta correta específica capital canadá vezes perguntas abertas consideradas significado vida trabalhos recentes têm analisado questões ainda complexas extração relacionamento identifica relações entidades nomeadas exemplo casado base textos quebra frases sentence boundary disambiguation encontra limites frase pedaço texto limites frases normalmente marcadas pontos outros sinais pontuação mesmos caracteres podem servir outros propósitos análise subjetividade sentiment analysis opinion mining extrai informações subjetivas geralmente conjunto documentos muitas vezes usando revisões online determinar polaridade sobre objetos específicos especialmente útil identificar tendências opinião pública mídias sociais fins marketing reconhecimento fala dado clipe som pessoa pessoas falando determina representação textual discurso oposto síntese fala áreas difíceis conhecida ai complete fala natural quase pausas palavras sucessivas segmentação fala subtarefa necessária reconhecimento fala nota maioria linguagens faladas sons representam letras sucessivas misturam si processo denominado coarticulação modo conversão sinal analógico caracteres discretos pode ser processo difícil ser realizado segmentação fala dado clipe som pessoa pessoas falando separa palavras subaplicação reconhecimento fala normalmente agrupada análise morfológica reconhecimento tópicos dado pedaço texto separa segmentos cada quais dedicado tópico identifica tópico segmento análise morfológica segmentação palavras separa pedaço texto contínuo palavras separadas língua inglês bastante trivial vez palavras normalmente separadas espaços entanto algumas línguas escritas chinês japonês tailandês marcam limites palavras tal forma nessas línguas segmentação texto tarefa significativa requer conhecimento vocabulário morfologia palavras língua desambiguação muitas palavras têm significado assim selecionar significado faz sentido contexto problema geral dada lista palavras sentidos palavras associadas dicionário recurso online wordnet alguns casos conjuntos tarefas relacionadas agrupados subcampos pln frequentemente considerados separadamente pln todo exemplos seguir recuperação informação ir trata armazenar pesquisar recuperar informações campo separado dentro ciência computação perto bancos dados ir baseia alguns métodos pln exemplo stemming algumas pesquisas aplicações atuais procuram preencher lacuna ir pln extração informação ie trata geral extração informação semântica partir texto abrange tarefas reconhecimento entidade mencionada resolução correferência relacionamento extração etc processamento voz abrange reconhecimento fala síntese fala tarefas relacionadas outras tarefas incluem identificação língua materna stemização simplificação texto síntese fala revisão texto pesquisa língua natural expansão consulta pontuação ensaio automatizado truecasing estatística artigo principal gramática estocástica processamento estatístico língua natural utiliza métodos estocásticos probabilísticos estatísticos resolver algumas dificuldades discutidas acima especialmente surgem porque frases longas ambíguas processadas gramáticas realistas produzindo milhares milhões análises possíveis métodos desambiguação envolvem muitas vezes uso corpora modelos markov projeto esprit p liderado cselt explorou problema reconhecimento fala comparando abordagem baseada conhecimento estatística resultado escolhido modelo completamente estatístico primeiros modelos compreensão estatística língua natural introduzido roberto pieraccini esther levin chin hui lee bell laboratories pln compreende todas abordagens quantitativas processamento automatizado linguagem incluindo modelagem probabilística teoria informação álgebra linear tecnologia pln estatístico vem principalmente aprendizagem automática mineração dados campos inteligência artificial envolvem aprendizado partir dados avaliação objetivo avaliação pln medida qualidades algoritmo sistema fim determinar algoritmo atende metas projetistas sistema atendimento necessidades usuários investigação avaliação pln ganhado atenção porque definição critérios avaliação forma especificar precisamente problemas pln métrica avaliação pln sistema algorítmico permite integração compreensão linguagem geração linguagem conjunto preciso critérios avaliação pode ser aplicado principalmente avaliações métricas podendo permitir várias equipes comparem soluções determinado problema pln cronologia avaliação iniciou projecto esprit p avaliou tecnologias fala incluindo tópicos gerais sintaxe semântica comparando abordagens baseadas regras estatísticas primeira campanha avaliação textos escritos parece ser campanha dedicada compreensão mensagem pallet projeto parseval geig comparou gramáticas frase estrutura black série campanhas projeto tipster sobre tarefas resumo tradução pesquisa hirschman alemanha morpholympics comparou marcadores morfológicos alemães campanhas senseval romanseval realizadas objetivos desambiguação semântica campanha sparkle comparou analisadores sintáticos quatro idiomas diferentes inglês francês alemão italiano frança projeto grace comparou conjunto marcadores francês adda durante projeto technolangue easy comparados analisadores francês avaliação larga escala analisadores dependência realizada contexto tarefas compartilhadas conll frança âmbito projecto anr passage final comparados analisadores francês itália campanha evalita realizada comparar várias ferramentas pln voz site italiano evalita diferentes tipos avaliação avaliação intrínseca vs extrínseca avaliação intrínseca considera sistema pnl isolado caracteriza desempenho relação resultado padrão excelência conforme definido avaliadores avaliação extrínseca chamada avaliação uso considera sistema pln cenário complexo sistema embutido função precisa usuário humano desempenho extrínseco sistema então caracterizado termos utilidade relação tarefa global sistema estranho utilizador humano exemplo considere analisador sintático baseado saída alguma parte tagger fala pos avaliação intrínseca executaria marcador pos dados estruturados compararia saída sistema marcador pos saída padrão ouro avaliação extrínseca executaria analisador algum outro marcador pos seguida marcador pos novo compara precisão análise caixa preta vs avaliação caixa vidro avaliação caixa preta requer alguém execute sistema pln conjunto dados amostra medir série parâmetros relacionados qualidade processo velocidade confiabilidade consumo recursos principalmente qualidade resultado precisão anotação dados fidelidade tradução avaliação caixa vidro examina concepção sistema algoritmos implementados recursos linguísticos utiliza tamanho vocabulário expressão definida cardinalidade dada complexidade problemas pln muitas vezes difícil prever desempenho apenas base avaliação caixa vidro tipo avaliação informativo diz respeito análise erros desenvolvimentos futuros sistema automática vs avaliação manual muitos casos procedimentos automáticos podem ser definidos avaliar sistema pln comparando saída padrão excelência embora custo reproduzir padrão excelência possa ser bastante elevado avaliação automática bootstrapping sobre mesmos dados entrada pode ser repetida quantas vezes necessário custos adicionais desordenados entanto muitos problemas pln definição precisa padrão excelência tarefa complexa pode revelar impossível acordo inter anotador insuficiente avaliação manual melhor realizada juízes humanos instruídos estimar qualidade sistema frequentemente amostra produção base série critérios embora graças competência linguística juízes humanos possam ser considerados referência série tarefas processamento linguagem variação considerável classificações avaliação automática vezes referida avaliação objetiva enquanto avaliação humana perspectiva padronização subcomitê iso trabalhando facilitar interoperabilidade recursos lexicais programas pln subcomitê faz parte iso tc chamado iso tc sc alguns padrões iso publicados maioria construção principalmente representação léxico ver lmf anotação registro categoria dados ferramentas expert system s p general architecture text engineering modular audio recognition framework natural language toolkit nltk biblioteca python opennlp veja mineração texto biomédica processo processamento composto revisão assistida computador linguagem natural controlada processamento linguístico profundo auxílio leitura línguas estrangeiras auxílio escrita língua estrangeira tecnologia linguagem alocação dirichlet latente lda indexação semântica latente lista ferramentas processamento língua natural mapa lre programação língua natural reificação linguística dobradura semântica sistema diálogo falado vetor pensamento pesquisa transderivacional wordvec referências leitura adicional steven bird ewan klein and edward loper natural language processing with python o'reilly media isbn daniel jurafsky and james h martin speech and language processing nd edition pearson prentice hall isbn christopher d manning prabhakar raghavan and hinrich schütze introduction to information retrieval cambridge university press isbn official html and pdf versions available without charge christopher d manning and hinrich schütze foundations of statistical natural language processing the mit press isbn david m w powers and christopher c r turk machine learning of natural language springer verlag isbn\n"
          ],
          "name": "stdout"
        }
      ]
    },
    {
      "cell_type": "code",
      "metadata": {
        "id": "ZOe5nKehE2XN"
      },
      "source": [
        "token_lemm = [t.lemma_ for t in doc]"
      ],
      "execution_count": 181,
      "outputs": []
    },
    {
      "cell_type": "code",
      "metadata": {
        "id": "mUw_Qlkow3Zk",
        "outputId": "049f39e8-4d18-42ff-e232-321c56acb811",
        "colab": {
          "base_uri": "https://localhost:8080/",
          "height": 53
        }
      },
      "source": [
        "print(token_lemm)"
      ],
      "execution_count": 183,
      "outputs": [
        {
          "output_type": "stream",
          "text": [
            "['processamento', 'língua', 'natural', 'pln', 'subárea', 'ciência', 'computação', 'inteligência', 'artificial', 'linguístico', 'estudar', 'problema', 'geração', 'compreensão', 'automático', 'língua', 'humano', 'natural', 'sistema', 'geração', 'língua', 'natural', 'converter', 'informação', 'banco', 'dar', 'computador', 'linguagem', 'compreensível', 'ser', 'humanar', 'sistema', 'compreensão', 'língua', 'natural', 'converter', 'ocorrência', 'linguagem', 'humano', 'representação', 'formar', 'facilmente', 'manipulável', 'programar', 'computador', 'algum', 'desafio', 'pln', 'compreensão', 'língua', 'natural', 'fazer', 'computador', 'extrair', 'sentir', 'linguagem', 'humano', 'natural', 'geração', 'língua', 'natural', 'história', 'história', 'pln', 'começar', 'década', 'alan', 'turing', 'publicar', 'artigo', 'computing', 'machinery', 'and', 'intelligence', 'propor', 'agora', 'chamar', 'testar', 'turing', 'critério', 'inteligência', 'experiência', 'georgetown', 'envolver', 'tradução', 'automático', 'sessenta', 'frase', 'russo', 'inglês', 'autor', 'afirmar', 'dentro', 'três', 'cincar', 'ano', 'tradução', 'automático', 'problema', 'resolver', 'entanto', 'avanço', 'real', 'lento', 'prever', 'após', 'relatório', 'alpac', 'constatar', 'pesquisar', 'dez', 'ano', 'conseguir', 'satisfazer', 'expectativa', 'financiamento', 'estudar', 'tradução', 'automático', 'reduzir', 'drasticamente', 'pouco', 'pesquisar', 'tradução', 'automático', 'conduzir', 'final', 'ano', 'primeiro', 'sistema', 'estatístico', 'tradução', 'desenvolvido', 'algum', 'sistema', 'pln', 'bem', 'sucedido', 'desenvolvido', 'ano', 'shrdlu', 'sistema', 'língua', 'natural', 'trabalhar', 'blocks', 'worlds', 'vocabulário', 'restrito', 'eliza', 'simulação', 'psicoterapeuta', 'escrito', 'joseph', 'weizenbaum', 'usar', 'pouco', 'informação', 'sobrar', 'pensamento', 'emoção', 'humano', 'eliza', 'criar', 'algum', 'caso', 'interações', 'surpreendentemente', 'humano', 'paciente', 'exceder', 'base', 'conhecimento', 'programar', 'eliza', 'fornecer', 'respostar', 'genérico', 'exemplo', 'responder', 'cabeça', 'doer', 'dizer', 'cabeça', 'doer', 'durante', 'década', 'muito', 'programador', 'começar', 'escrever', 'ontologia', 'conceituar', 'estruturar', 'informação', 'mundo', 'real', 'dar', 'compreensível', 'computador', 'exemplo', 'margie', 'schank', 'sam', 'cullingford', 'pam', 'wilensky', 'talespin', 'meehan', 'qualm', 'lehnert', 'politics', 'carbonell', 'plot', 'units', 'lehnert', 'n', 'este', 'período', 'muito', 'chatterbots', 'escrito', 'parry', 'racter', 'jabberwacky', 'década', 'maioria', 'sistema', 'pln', 'basear', 'conjunto', 'complexo', 'regrar', 'manuscrito', 'partir', 'final', 'ano', 'entanto', 'revolução', 'pln', 'introdução', 'algoritmo', 'aprendizagem', 'automático', 'aprendizado', 'máquina', 'processamento', 'linguagem', 'dever', 'tanto', 'aumentar', 'constante', 'poder', 'computacional', 'ver', 'lei', 'moore', 'quantum', 'diminuição', 'gradual', 'dominância', 'teoria', 'linguístico', 'chomskyanas', 'gramático', 'gerativo', 'cujo', 'fundamento', 'teórico', 'desestimularam', 'tipo', 'corpus', 'linguístico', 'subjacente', 'abordagem', 'aprendizagem', 'automático', 'processamento', 'linguagem', 'algum', 'algoritmo', 'aprendizado', 'máquina', 'antigo', 'árvore', 'decisão', 'produzir', 'sistema', 'regrar', 'rígido', 'então', 'semelhante', 'regrar', 'existente', 'escrito', 'mão', 'entanto', 'marcação', 'partir', 'falir', 'part', 'of', 'speech', 'tagging', 'introduzir', 'usar', 'modelo', 'oculto', 'markov', 'pln', 'cada', 'vez', 'pesquisar', 'concentrar', 'modelo', 'estatístico', 'tomar', 'decisão', 'suave', 'probabilístico', 'basear', 'atribuição', 'peso', 'real', 'recurso', 'compor', 'dar', 'entrar', 'modelo', 'linguagem', 'cachar', 'sobrar', 'qual', 'muito', 'sistema', 'reconhecimento', 'falir', 'agora', 'depender', 'exemplo', 'tal', 'modelo', 'estatístico', 'modelo', 'geralmente', 'robusto', 'dar', 'informação', 'desconhecido', 'especialmente', 'entrar', 'conter', 'erro', 'comum', 'dar', 'mundo', 'real', 'produzir', 'resultar', 'confiar', 'integrar', 'sistema', 'maior', 'compreender', 'múltiplo', 'tarefar', 'muito', 'sucesso', 'iniciar', 'notável', 'ocorrer', 'campar', 'tradução', 'automático', 'dever', 'especialmente', 'trabalhar', 'pesquisar', 'ibm', 'desenvolver', 'modelo', 'estatístico', 'elaborar', 'sistema', 'capaz', 'tirar', 'proveito', 'corpus', 'textual', 'multilíngue', 'existente', 'produzir', 'parlamentar', 'canadá', 'união', 'europeu', 'resultar', 'lei', 'exigir', 'tradução', 'todo', 'processo', 'governamental', 'todo', 'língua', 'oficiar', 'país', 'entanto', 'maioria', 'sistema', 'depender', 'corpus', 'desenvolver', 'especificamente', 'tarefar', 'implementar', 'sistema', 'muito', 'vezar', 'continuar', 'ser', 'grande', 'limitação', 'sucesso', 'resultar', 'grande', 'quantidade', 'pesquisar', 'passar', 'quantidade', 'dar', 'limitar', 'método', 'aprendizagem', 'eficaz', 'pesquisar', 'recente', 'ter', 'concentrar', 'cada', 'vez', 'algoritmo', 'aprendizagem', 'semi', 'supervisionar', 'supervisão', 'algoritmo', 'capaz', 'aprender', 'dar', 'anotar', 'manualmente', 'respostar', 'desejar', 'usar', 'combinação', 'dar', 'anotar', 'anotar', 'geralmente', 'tarefar', 'trabalhoso', 'aprendizagem', 'supervisionar', 'normalmente', 'produzir', 'resultar', 'menos', 'preciso', 'quantidade', 'específico', 'dar', 'entrar', 'entanto', 'enorme', 'quantidade', 'dar', 'anotar', 'disponível', 'incluir', 'outro', 'coisa', 'todo', 'conteúdo', 'world', 'wide', 'web', 'muito', 'vezar', 'poder', 'compensar', 'resultar', 'inferior', 'usar', 'aprendizagem', 'automático', 'aprendizado', 'máquina', 'algoritmo', 'moderno', 'pln', 'basear', 'aprendizagem', 'mecânico', 'especialmente', 'aprendizagem', 'máquina', 'estatístico', 'paradigma', 'aprendizagem', 'mecânico', 'diferente', 'maioria', 'tentativo', 'anterior', 'processamento', 'linguagem', 'anteriormente', 'implementação', 'tarefar', 'processamento', 'linguagem', 'envolver', 'codificação', 'direta', 'grande', 'conjunto', 'regrar', 'paradigma', 'aprendizagem', 'automático', 'aprendizagem', 'automático', 'induzir', 'aprendizagem', 'automático', 'regrar', 'através', 'análise', 'corpus', 'exemplo', 'típico', 'mundo', 'real', 'invés', 'usar', 'algoritmo', 'gerar', 'aprendizagem', 'muito', 'vezar', 'embora', 'sempre', 'basear', 'inferência', 'estatístico', 'corpus', 'plural', 'corpus', 'conjuntar', 'documento', 'frase', 'individuar', 'anotar', 'mão', 'valorar', 'corretos', 'ser', 'aprendido', 'muito', 'classe', 'diferente', 'algoritmo', 'aprendizado', 'máquina', 'aplicar', 'tarefar', 'pln', 'algoritmo', 'tomar', 'entrar', 'grande', 'conjuntar', 'recurso', 'gerar', 'partir', 'dar', 'entrar', 'algum', 'algoritmo', 'usar', 'árvore', 'decisão', 'produzir', 'sistema', 'regrar', 'rígido', 'semelhante', 'sistema', 'regrar', 'manuscrito', 'comum', 'entanto', 'cada', 'vez', 'pesquisar', 'concentrar', 'modelo', 'estatístico', 'tomar', 'decisão', 'flexível', 'probabilístico', 'basear', 'agregar', 'peso', 'real', 'cada', 'característico', 'entrar', 'tal', 'modelo', 'ter', 'vantagem', 'poder', 'expressar', 'certeza', 'relativo', 'muito', 'respostar', 'possível', 'diferente', 'vez', 'apenas', 'produzir', 'resultar', 'confiar', 'modelar', 'incluir', 'componente', 'sistema', 'maior', 'sistema', 'basear', 'algoritmo', 'aprendizagem', 'mecânico', 'ter', 'muito', 'vantagem', 'relação', 'regrar', 'produzir', 'manualmente', 'procedimento', 'aprendizagem', 'usar', 'durante', 'aprendizagem', 'máquina', 'focar', 'automaticamente', 'caso', 'comum', 'passar', 'escrever', 'regrar', 'mão', 'óbvio', 'sentir', 'esforçar', 'dever', 'ser', 'dirigir', 'procedimento', 'aprendizagem', 'automático', 'poder', 'fazer', 'usar', 'algoritmo', 'inferência', 'estatístico', 'produzir', 'modelo', 'robusto', 'entrar', 'familiar', 'exemplo', 'conter', 'palavra', 'estruturar', 'visto', 'antar', 'entrar', 'errôneas', 'exemplo', 'palavra', 'palavra', 'incorretamente', 'omitir', 'geralmente', 'lidar', 'entrar', 'formar', 'regrar', 'manuscrito', 'sistema', 'regrar', 'manuscrito', 'tomar', 'decisão', 'suave', 'extremamente', 'trabalhoso', 'propenso', 'erro', 'demorar', 'sistema', 'basear', 'aprender', 'automaticamente', 'regrar', 'poder', 'ser', 'preciso', 'simplesmente', 'fornecer', 'dar', 'entrar', 'entanto', 'sistema', 'basear', 'regrar', 'escrito', 'mão', 'poder', 'ser', 'tornar', 'preciso', 'aumentar', 'complexidade', 'regrar', 'tarefar', 'difícil', 'particular', 'limitar', 'complexidade', 'sistema', 'basear', 'regrar', 'artesanal', 'além', 'qual', 'sistema', 'tornar', 'cada', 'vez', 'incontrolável', 'entanto', 'criação', 'dar', 'entrar', 'sistema', 'aprendizado', 'máquina', 'requerer', 'simplesmente', 'aumentar', 'correspondente', 'número', 'horar', 'trabalhar', 'humano', 'geralmente', 'aumento', 'significativo', 'complexidade', 'processar', 'anotação', 'subcampo', 'pln', 'dedicar', 'abordagem', 'aprendizagem', 'conhecer', 'aprendizagem', 'língua', 'natural', 'nll', 'conferência', 'conll', 'orgão', 'central', 'signll', 'patrocinar', 'acl', 'reconhecer', 'ligação', 'linguístico', 'computacional', 'aquisição', 'linguagem', 'objetivo', 'pesquisar', 'aprendizagem', 'linguagem', 'computacional', 'entender', 'sobrar', 'aquisição', 'linguagem', 'humano', 'psicolinguística', 'nll', 'sobrepor', 'campar', 'relacionar', 'psicolinguística', 'computacional', 'aplicação', 'principal', 'listagem', 'seguir', 'trazer', 'algum', 'trabalho', 'pesquisar', 'pln', 'notar', 'algum', 'ter', 'aplicação', 'mundo', 'real', 'enquanto', 'outro', 'servir', 'frequentemente', 'tarefar', 'secundário', 'usar', 'auxiliar', 'resolução', 'tarefar', 'maior', 'distinguir', 'tarefar', 'outro', 'tarefar', 'potenciar', 'real', 'pln', 'apenas', 'volumar', 'pesquisar', 'dedicar', 'fato', 'cada', 'tipicamente', 'definição', 'problema', 'bem', 'especificar', 'métrico', 'padrão', 'avaliar', 'tarefar', 'corpus', 'padrão', 'tarefar', 'poder', 'ser', 'avaliar', 'competição', 'dedicar', 'tarefar', 'específico', 'sumarização', 'automático', 'produzir', 'resumir', 'legível', 'partir', 'texto', 'muito', 'vezar', 'usar', 'fornecer', 'resumo', 'texto', 'tipo', 'conhecer', 'artigo', 'seção', 'financeiro', 'jornal', 'resolução', 'correferência', 'dar', 'frase', 'pedaço', 'maior', 'texto', 'determinar', 'qual', 'palavra', 'menção', 'referir', 'mesmo', 'objetos', 'entidade', 'resolução', 'anáfora', 'exemplo', 'específico', 'd', 'esse', 'tarefar', 'especificamente', 'preocupar', 'combinar', 'pronome', 'substantivo', 'nome', 'qual', 'referir', 'tarefar', 'geral', 'resolução', 'correferência', 'incluir', 'identificação', 'chamar', 'relacionamento', 'pontar', 'envolver', 'expressão', 'referência', 'exemplo', 'frase', 'entrar', 'casar', 'joão', 'portar', 'frente', 'portar', 'frente', 'expressão', 'referência', 'relação', 'pontar', 'ser', 'identificar', 'fato', 'portar', 'ser', 'referir', 'portar', 'frente', 'john', \"'s\", 'invés', 'algum', 'outro', 'estruturar', 'poder', 'ser', 'referir', 'análise', 'discursar', 'rubricar', 'incluir', 'série', 'tarefar', 'relacionar', 'tarefar', 'identificar', 'estruturar', 'discursivo', 'texto', 'conectar', 'natureza', 'relação', 'discursivo', 'sentença', 'exemplo', 'elaboração', 'explicação', 'contrastar', 'outro', 'possível', 'tarefar', 'reconhecer', 'classificar', 'atos', 'falir', 'pedaço', 'texto', 'exemplo', 'perguntar', 'sim', 'perguntar', 'conteúdo', 'frase', 'afirmação', 'etc', 'maquinar', 'tradução', 'traduzir', 'automaticamente', 'texto', 'linguagem', 'humano', 'outro', 'tarefar', 'difícil', 'fazer', 'partir', 'tipo', 'problema', 'conhecido', 'ai', 'completar', 'exigir', 'todo', 'diferente', 'tipo', 'conhecimento', 'humano', 'possuir', 'gramático', 'semântico', 'fato', 'sobrar', 'mundo', 'real', 'etc', 'resolver', 'o', 'adequadamente', 'segmentação', 'morfológico', 'separar', 'palavra', 'morfema', 'individuar', 'identificar', 'classe', 'morfema', 'dificuldade', 'd', 'este', 'tarefar', 'depender', 'complexidade', 'morfologia', 'estruturar', 'palavra', 'linguagem', 'ser', 'considerar', 'inglês', 'possuir', 'morfologia', 'bastante', 'simples', 'especialmente', 'morfologia', 'flexional', 'portanto', 'possível', 'ignorar', 'tarefar', 'inteiramente', 'simplesmente', 'modelar', 'todo', 'formar', 'possível', 'palavra', 'exemplo', 'open', 'open', 'opened', 'opening', 'palavra', 'separar', 'língua', 'turco', 'meitei', 'língua', 'indiano', 'fortemente', 'aglutinar', 'entanto', 'tal', 'abordagem', 'possível', 'vez', 'cada', 'entrar', 'dicionário', 'milhar', 'formar', 'palavra', 'possível', 'reconhecimento', 'entidade', 'nomear', 'ner', 'dar', 'fluxo', 'texto', 'determinar', 'qual', 'item', 'mapa', 'texto', 'nome', 'próprio', 'pessoa', 'locar', 'tipo', 'cada', 'nome', 'exemplo', 'pessoa', 'local', 'organização', 'embora', 'capitalização', 'poder', 'ajudar', 'reconhecer', 'entidade', 'nomear', 'idioma', 'inglês', 'informação', 'poder', 'ajudar', 'determinar', 'tipo', 'entidade', 'nomear', 'algum', 'caso', 'são', 'impreciso', 'insuficiente', 'exemplo', 'primeiro', 'palavra', 'frase', 'capitalizar', 'entidade', 'nomear', 'muito', 'vezar', 'abranger', 'vários', 'palavra', 'apenas', 'algum', 'capitalizar', 'além', 'd', 'isso', 'muito', 'outro', 'linguagem', 'scripts', 'ocidental', 'exemplo', 'chinês', 'árabe', 'ter', 'nenhum', 'capitalização', 'língua', 'maiúsculo', 'poder', 'distinguir', 'nome', 'exemplo', 'alemão', 'capitalizar', 'todo', 'substantivo', 'independentemente', 'referir', 'nome', 'francês', 'espanhol', 'capitalizar', 'nome', 'servir', 'adjetivo', 'geração', 'língua', 'natural', 'converter', 'informação', 'banco', 'dar', 'computador', 'intenção', 'semântico', 'linguagem', 'humano', 'legível', 'compreensão', 'língua', 'natural', 'converter', 'pedaço', 'texto', 'representação', 'formar', 'estruturar', 'lógico', 'primeiro', 'ordem', 'fácil', 'manipular', 'programar', 'computador', 'compreensão', 'língua', 'natural', 'envolver', 'identificação', 'semântico', 'pretendido', 'partir', 'múltiplo', 'semântico', 'possível', 'poder', 'ser', 'derivar', 'expressão', 'língua', 'natural', 'geralmente', 'tomar', 'formar', 'notação', 'organizar', 'conceito', 'linguagem', 'natural', 'entretanto', 'introdução', 'criação', 'linguagem', 'metamodelo', 'ontologia', 'eficiente', 'solução', 'empírico', 'formalização', 'explícito', 'semântico', 'língua', 'natural', 'confusão', 'suposição', 'implícito', 'closed', 'world', 'assumption', 'cwa', 'versus', 'open', 'world', 'assumption', 'subjetiva', 'sim', 'versus', 'objetivo', 'verdadeiro', 'falsar', 'esperar', 'construção', 'base', 'formalização', 'semântico', 'reconhecimento', 'óptico', 'caractere', 'ocr', 'dar', 'imagem', 'representar', 'texto', 'impresso', 'determinar', 'texto', 'correspondente', 'marcação', 'classe', 'gramatical', 'dar', 'sentença', 'determinar', 'classe', 'gramatical', 'cada', 'palavra', 'muito', 'palavra', 'especialmente', 'comum', 'poder', 'servir', 'múltiplo', 'partir', 'discursar', 'inglês', 'exemplo', 'book', 'poder', 'ser', 'substantivar', 'the', 'book', 'on', 'the', 'table', 'verbo', 'book', 'flight', 'set', 'poder', 'ser', 'substantivar', 'verbo', 'adjetivo', 'out', 'poder', 'ser', 'qualquer', 'menos', 'cincar', 'diferente', 'partir', 'falir', 'algum', 'língua', 'ter', 'ambiguidade', 'outro', 'língua', 'pouco', 'morfologia', 'flexional', 'inglês', 'particularmente', 'propenso', 'tal', 'ambiguidade', 'chinês', 'propenso', 'tal', 'ambiguidade', 'porque', 'língua', 'tonal', 'durante', 'verbalização', 'tal', 'inflexão', 'facilmente', 'transmitir', 'através', 'entidade', 'empregar', 'dentro', 'ortografia', 'transmitir', 'significar', 'pretender', 'análise', 'sintática', 'parsing', 'determinar', 'árvore', 'análise', 'análise', 'gramatical', 'frase', 'gramático', 'linguagem', 'natural', 'ambíguo', 'frase', 'típico', 'ter', 'múltiplo', 'análise', 'possível', 'verdade', 'surpreendentemente', 'frase', 'típico', 'poder', 'haver', 'milhar', 'análise', 'potencial', 'maioria', 'qual', 'parecer', 'completamente', 'absurdo', 'ser', 'humanar', 'respostar', 'perguntar', 'dar', 'questão', 'linguagem', 'humano', 'determinar', 'respostar', 'perguntar', 'típico', 'ter', 'respostar', 'corretar', 'específico', 'capital', 'canadá', 'vezar', 'perguntar', 'aberto', 'considerar', 'significar', 'vidar', 'trabalho', 'recente', 'ter', 'analisar', 'questão', 'ainda', 'complexo', 'extração', 'relacionamento', 'identificar', 'relação', 'entidade', 'nomear', 'exemplo', 'casar', 'base', 'texto', 'quebrar', 'frase', 'sentence', 'boundary', 'disambiguation', 'encontrar', 'limite', 'frase', 'pedaço', 'texto', 'limite', 'frase', 'normalmente', 'marcar', 'ponto', 'outro', 'sinal', 'pontuação', 'mesmo', 'caractere', 'poder', 'servir', 'outro', 'propósito', 'análise', 'subjetividade', 'sentiment', 'analysis', 'opinion', 'mining', 'extrair', 'informação', 'subjetivas', 'geralmente', 'conjuntar', 'documento', 'muito', 'vezar', 'usar', 'revisão', 'online', 'determinar', 'polaridade', 'sobrar', 'objetos', 'específico', 'especialmente', 'útil', 'identificar', 'tendência', 'opinião', 'público', 'mídias', 'social', 'fim', 'marketing', 'reconhecimento', 'falir', 'dar', 'clipe', 'som', 'pessoa', 'pessoa', 'falar', 'determinar', 'representação', 'textual', 'discursar', 'opor', 'síntese', 'falir', 'área', 'difícil', 'conhecido', 'ai', 'completar', 'falir', 'natural', 'quase', 'pausar', 'palavra', 'sucessivo', 'segmentação', 'falir', 'subtarefa', 'necessário', 'reconhecimento', 'falir', 'noto', 'maioria', 'linguagem', 'falar', 'som', 'representar', 'letra', 'sucessivo', 'misturar', 'si', 'processar', 'denominar', 'coarticulação', 'modo', 'conversão', 'sinal', 'analógico', 'caractere', 'discreto', 'poder', 'ser', 'processar', 'difícil', 'ser', 'realizar', 'segmentação', 'falir', 'dar', 'clipe', 'som', 'pessoa', 'pessoa', 'falar', 'separar', 'palavra', 'subaplicação', 'reconhecimento', 'falir', 'normalmente', 'agrupar', 'análise', 'morfológico', 'reconhecimento', 'tópico', 'dar', 'pedaço', 'texto', 'separar', 'segmento', 'cada', 'qual', 'dedicar', 'tópico', 'identificar', 'tópico', 'segmentar', 'análise', 'morfológico', 'segmentação', 'palavra', 'separar', 'pedaço', 'texto', 'contínuo', 'palavra', 'separar', 'língua', 'inglês', 'bastante', 'trivial', 'vez', 'palavra', 'normalmente', 'separar', 'espaço', 'entanto', 'algum', 'língua', 'escrito', 'chinês', 'japonês', 'tailandês', 'marcar', 'limite', 'palavra', 'tal', 'formar', 'n', 'esse', 'língua', 'segmentação', 'texto', 'tarefar', 'significativo', 'requerer', 'conhecimento', 'vocabulário', 'morfologia', 'palavra', 'língua', 'desambiguação', 'muito', 'palavra', 'ter', 'significar', 'assim', 'selecionar', 'significar', 'fazer', 'sentir', 'contexto', 'problema', 'geral', 'dar', 'lista', 'palavra', 'sentir', 'palavra', 'associar', 'dicionário', 'recurso', 'online', 'wordnet', 'algum', 'caso', 'conjunto', 'tarefar', 'relacionar', 'agrupar', 'subcampos', 'pln', 'frequentemente', 'considerar', 'separadamente', 'pln', 'todo', 'exemplo', 'seguir', 'recuperação', 'informação', 'ir', 'tratar', 'armazenar', 'pesquisar', 'recuperar', 'informação', 'campar', 'separar', 'dentro', 'ciência', 'computação', 'perto', 'banco', 'dar', 'ir', 'basear', 'algum', 'método', 'pln', 'exemplo', 'stemming', 'algum', 'pesquisar', 'aplicação', 'atuais', 'procurar', 'preencher', 'lacuna', 'ir', 'pln', 'extração', 'informação', 'ie', 'tratar', 'geral', 'extração', 'informação', 'semântico', 'partir', 'texto', 'abranger', 'tarefar', 'reconhecimento', 'entidade', 'mencionar', 'resolução', 'correferência', 'relacionamento', 'extração', 'etc', 'processamento', 'voz', 'abranger', 'reconhecimento', 'falir', 'síntese', 'falir', 'tarefar', 'relacionar', 'outro', 'tarefar', 'incluir', 'identificação', 'língua', 'materno', 'stemização', 'simplificação', 'texto', 'síntese', 'falir', 'revisão', 'texto', 'pesquisar', 'língua', 'natural', 'expansão', 'consulto', 'pontuação', 'ensaiar', 'automatizar', 'truecasing', 'estatístico', 'artigo', 'principal', 'gramático', 'estocástico', 'processamento', 'estatístico', 'língua', 'natural', 'utilizar', 'método', 'estocástico', 'probabilístico', 'estatístico', 'resolver', 'algum', 'dificuldade', 'discutir', 'acima', 'especialmente', 'surgir', 'porque', 'frase', 'longo', 'ambíguo', 'processar', 'gramático', 'realistar', 'produzir', 'milhar', 'milhão', 'análise', 'possível', 'método', 'desambiguação', 'envolver', 'muito', 'vezar', 'usar', 'corpus', 'modelo', 'markov', 'projeto', 'esprit', 'p', 'liderar', 'cselt', 'explorar', 'problema', 'reconhecimento', 'falir', 'comparar', 'abordagem', 'basear', 'conhecimento', 'estatístico', 'resultar', 'escolher', 'modelar', 'completamente', 'estatístico', 'primeiro', 'modelo', 'compreensão', 'estatístico', 'língua', 'natural', 'introduzir', 'roberto', 'pieraccini', 'esther', 'levin', 'chin', 'hui', 'lee', 'bell', 'laboratories', 'pln', 'compreender', 'todo', 'abordagem', 'quantitativo', 'processamento', 'automatizar', 'linguagem', 'incluir', 'modelagem', 'probabilístico', 'teoria', 'informação', 'álgebra', 'linear', 'tecnologia', 'pln', 'estatístico', 'vir', 'principalmente', 'aprendizagem', 'automático', 'mineração', 'dar', 'campo', 'inteligência', 'artificial', 'envolver', 'aprendizado', 'partir', 'dar', 'avaliação', 'objetivo', 'avaliação', 'pln', 'medir', 'qualidade', 'algoritmo', 'sistema', 'fim', 'determinar', 'algoritmo', 'ater', 'meter', 'projetistas', 'sistema', 'atendimento', 'necessidade', 'usuário', 'investigação', 'avaliação', 'pln', 'ganhar', 'atenção', 'porque', 'definição', 'critério', 'avaliação', 'formar', 'especificar', 'precisamente', 'problema', 'pln', 'métrico', 'avaliação', 'pln', 'sistema', 'algorítmico', 'permitir', 'integração', 'compreensão', 'linguagem', 'geração', 'linguagem', 'conjuntar', 'precisar', 'critério', 'avaliação', 'poder', 'ser', 'aplicar', 'principalmente', 'avaliação', 'métrico', 'poder', 'permitir', 'vários', 'equipar', 'comparar', 'solução', 'determinar', 'problema', 'pln', 'cronologia', 'avaliação', 'iniciar', 'projectar', 'esprit', 'p', 'avaliar', 'tecnologia', 'falir', 'incluir', 'tópico', 'gerar', 'sintaxe', 'semântico', 'comparar', 'abordagem', 'basear', 'regrar', 'estatístico', 'primeiro', 'campanha', 'avaliação', 'texto', 'escrito', 'parecer', 'ser', 'campanha', 'dedicar', 'compreensão', 'mensagem', 'pallet', 'projeto', 'parseval', 'geig', 'comparar', 'gramático', 'frase', 'estruturar', 'black', 'série', 'campanha', 'projeto', 'tipster', 'sobrar', 'tarefar', 'resumir', 'tradução', 'pesquisar', 'hirschman', 'alemanha', 'morpholympics', 'comparar', 'marcador', 'morfológico', 'alemão', 'campanha', 'senseval', 'romanseval', 'realizar', 'objetivos', 'desambiguação', 'semântico', 'campanha', 'sparkle', 'comparar', 'analisador', 'sintáticos', 'quatro', 'idioma', 'diferente', 'inglês', 'francês', 'alemão', 'italiano', 'frança', 'projeto', 'grace', 'comparar', 'conjuntar', 'marcador', 'francês', 'adda', 'durante', 'projeto', 'technolangue', 'easy', 'comparar', 'analisador', 'francês', 'avaliação', 'largo', 'escalar', 'analisador', 'dependência', 'realizar', 'contexto', 'tarefar', 'compartilhar', 'conll', 'frança', 'âmbito', 'projectar', 'anr', 'passage', 'final', 'comparar', 'analisador', 'francês', 'itália', 'campanha', 'evalita', 'realizar', 'comparar', 'vários', 'ferramenta', 'pln', 'voz', 'site', 'italiano', 'evalita', 'diferente', 'tipo', 'avaliação', 'avaliação', 'intrínseco', 'vs', 'extrínseco', 'avaliação', 'intrínseco', 'considerar', 'sistema', 'pnl', 'isolar', 'caracterizar', 'desempenhar', 'relação', 'resultar', 'padrão', 'excelência', 'conformar', 'definir', 'avaliador', 'avaliação', 'extrínseco', 'chamar', 'avaliação', 'usar', 'considerar', 'sistema', 'pln', 'cenário', 'complexo', 'sistema', 'embutir', 'função', 'preciso', 'usuário', 'humanar', 'desempenhar', 'extrínseco', 'sistema', 'então', 'caracterizar', 'termo', 'utilidade', 'relação', 'tarefar', 'global', 'sistema', 'estranhar', 'utilizador', 'humanar', 'exemplo', 'considerar', 'analisador', 'sintático', 'basear', 'sair', 'algum', 'partir', 'tagger', 'falir', 'pos', 'avaliação', 'intrínseco', 'executar', 'marcador', 'pos', 'dar', 'estruturar', 'comparar', 'sair', 'sistema', 'marcador', 'pos', 'sair', 'padrão', 'ourar', 'avaliação', 'extrínseco', 'executar', 'analisador', 'algum', 'outro', 'marcador', 'pos', 'seguir', 'marcador', 'pos', 'novo', 'comparar', 'precisão', 'análise', 'caixa', 'preto', 'vs', 'avaliação', 'caixa', 'vidrar', 'avaliação', 'caixa', 'preto', 'requerer', 'alguém', 'executar', 'sistema', 'pln', 'conjuntar', 'dar', 'amostrar', 'medir', 'série', 'parâmetro', 'relacionar', 'qualidade', 'processar', 'velocidade', 'confiabilidade', 'consumir', 'recurso', 'principalmente', 'qualidade', 'resultar', 'precisão', 'anotação', 'dar', 'fidelidade', 'tradução', 'avaliação', 'caixa', 'vidrar', 'examinar', 'concepção', 'sistema', 'algoritmo', 'implementar', 'recurso', 'linguístico', 'utilizar', 'tamanho', 'vocabulário', 'expressão', 'definir', 'cardinalidade', 'dar', 'complexidade', 'problema', 'pln', 'muito', 'vezar', 'difícil', 'prever', 'desempenhar', 'apenas', 'base', 'avaliação', 'caixa', 'vidrar', 'tipo', 'avaliação', 'informativo', 'dizer', 'respeitar', 'análise', 'erro', 'desenvolvimento', 'futuro', 'sistema', 'automático', 'vs', 'avaliação', 'manual', 'muito', 'caso', 'procedimento', 'automático', 'poder', 'ser', 'definir', 'avaliar', 'sistema', 'pln', 'comparar', 'sair', 'padrão', 'excelência', 'embora', 'custar', 'reproduzir', 'padrão', 'excelência', 'poder', 'ser', 'bastante', 'elevar', 'avaliação', 'automático', 'bootstrapping', 'sobrar', 'mesmo', 'dar', 'entrar', 'poder', 'ser', 'repetir', 'quanto', 'vezar', 'necessário', 'custo', 'adicionar', 'desordenar', 'entanto', 'muito', 'problema', 'pln', 'definição', 'preciso', 'padrão', 'excelência', 'tarefar', 'complexo', 'poder', 'revelar', 'impossível', 'acordar', 'inter', 'anotador', 'insuficiente', 'avaliação', 'manual', 'melhor', 'realizar', 'juiz', 'humano', 'instruir', 'estimar', 'qualidade', 'sistema', 'frequentemente', 'amostrar', 'produção', 'base', 'série', 'critério', 'embora', 'graça', 'competência', 'linguístico', 'juiz', 'humano', 'poder', 'ser', 'considerar', 'referência', 'série', 'tarefar', 'processamento', 'linguagem', 'variação', 'considerável', 'classificação', 'avaliação', 'automático', 'vezar', 'referir', 'avaliação', 'objetiva', 'enquanto', 'avaliação', 'humano', 'perspectivo', 'padronização', 'subcomitê', 'iso', 'trabalhar', 'facilitar', 'interoperabilidade', 'recurso', 'lexical', 'programar', 'pln', 'subcomitê', 'fazer', 'partir', 'iso', 'tc', 'chamar', 'iso', 'tc', 'sc', 'algum', 'padrão', 'iso', 'publicar', 'maioria', 'construção', 'principalmente', 'representação', 'léxico', 'ver', 'lmf', 'anotação', 'registrar', 'categoria', 'dar', 'ferramenta', 'expert', 'system', 's', 'p', 'general', 'architecture', 'text', 'engineering', 'modular', 'audio', 'recognition', 'framework', 'natural', 'language', 'toolkit', 'nltk', 'biblioteca', 'python', 'opennlp', 'ver', 'mineração', 'texto', 'biomédico', 'processar', 'processamento', 'compor', 'revisão', 'assistir', 'computador', 'linguagem', 'natural', 'controlar', 'processamento', 'linguístico', 'profundar', 'auxílio', 'leitura', 'língua', 'estrangeiro', 'auxílio', 'escrito', 'língua', 'estrangeiro', 'tecnologia', 'linguagem', 'alocação', 'dirichlet', 'latente', 'lda', 'indexação', 'semântico', 'latente', 'lista', 'ferramenta', 'processamento', 'língua', 'natural', 'mapa', 'lre', 'programação', 'língua', 'natural', 'reificação', 'linguístico', 'dobradura', 'semântico', 'sistema', 'diálogo', 'falar', 'vetor', 'pensamento', 'pesquisar', 'transderivacional', 'wordvec', 'referência', 'leitura', 'adicional', 'steven', 'bird', 'ewan', 'klein', 'and', 'edward', 'loper', 'natural', 'language', 'processing', 'with', 'python', \"o'reilly\", 'medir', 'isbn', 'daniel', 'jurafsky', 'and', 'james', 'h', 'martin', 'speech', 'and', 'language', 'processing', 'nd', 'edition', 'pearson', 'prentice', 'hall', 'isbn', 'christopher', 'd', 'manning', 'prabhakar', 'raghavan', 'and', 'hinrich', 'schütze', 'introduction', 'to', 'information', 'retrieval', 'cambridge', 'university', 'press', 'isbn', 'official', 'html', 'and', 'pdf', 'versions', 'available', 'without', 'charge', 'christopher', 'd', 'manning', 'and', 'hinrich', 'schütze', 'foundations', 'of', 'statistical', 'natural', 'language', 'processing', 'the', 'mit', 'press', 'isbn', 'david', 'm', 'w', 'powers', 'and', 'christopher', 'c', 'r', 'turk', 'machine', 'learning', 'of', 'natural', 'language', 'springer', 'verlag', 'isbn']\n"
          ],
          "name": "stdout"
        }
      ]
    },
    {
      "cell_type": "code",
      "metadata": {
        "id": "P78mZ_giE2XP",
        "outputId": "b5c22206-c0de-4590-ae57-ecc1de1318c0",
        "colab": {
          "base_uri": "https://localhost:8080/",
          "height": 33
        }
      },
      "source": [
        "len(token_lemm)"
      ],
      "execution_count": 182,
      "outputs": [
        {
          "output_type": "execute_result",
          "data": {
            "text/plain": [
              "2528"
            ]
          },
          "metadata": {
            "tags": []
          },
          "execution_count": 182
        }
      ]
    },
    {
      "cell_type": "markdown",
      "metadata": {
        "id": "rv5WvPOdE2XR"
      },
      "source": [
        "###  Plote a frequência dos tokens após o processo de lematização. Utilize o método plot_frequencia_tokens() para plotar o gráfico. Também imprima o tamanho desta lista. "
      ]
    },
    {
      "cell_type": "code",
      "metadata": {
        "id": "u30lz0JhE2XR",
        "outputId": "9366421b-8df5-4d1b-965f-b70987e65143",
        "colab": {
          "base_uri": "https://localhost:8080/",
          "height": 341
        }
      },
      "source": [
        "#token_lemm\n",
        "plot_frequencia_tokens(token_lemm)"
      ],
      "execution_count": 184,
      "outputs": [
        {
          "output_type": "display_data",
          "data": {
            "image/png": "[encoded data removed]",
            "text/plain": [
              "<Figure size 432x288 with 1 Axes>"
            ]
          },
          "metadata": {
            "tags": [],
            "needs_background": "light"
          }
        }
      ]
    },
    {
      "cell_type": "markdown",
      "metadata": {
        "id": "3QKv9pFGE2XT"
      },
      "source": [
        "# Perguntas?"
      ]
    },
    {
      "cell_type": "markdown",
      "metadata": {
        "id": "LlBxPaX5E2XT"
      },
      "source": [
        "## 1. Quais diferenças você entrou entre os métodos de tokenização. Cite ao menos 3 tokens com resultados diferentes."
      ]
    },
    {
      "cell_type": "markdown",
      "metadata": {
        "id": "1eZfsGAnE2XU"
      },
      "source": [
        "Na tokenização por split um token foi '(PLN)' e no método por regex foi '(', 'PLN', ')'. Outra diferença foi '==' na primeira tokenização e '=' na segunda.\n",
        "Mais uma foi '(CULLINGFORD,' na primeira tokenização e 'CULLINGFORD' na segunda."
      ]
    },
    {
      "cell_type": "markdown",
      "metadata": {
        "id": "BOTrcV8QE2XU"
      },
      "source": [
        "## 2. Qual a principal diferença que você verificou entre o processo de stemming e de lematização?"
      ]
    },
    {
      "cell_type": "markdown",
      "metadata": {
        "id": "FR8SbTvXyZCM"
      },
      "source": [
        "No processo de stemming as palavras foram reduzidas ao seu radical. Já na lematização as palavras foram convertidas em uma palavra padronizadas, como por exemplo 'automática' virou 'automático'."
      ]
    },
    {
      "cell_type": "code",
      "metadata": {
        "id": "IbnNTA-HE2XV"
      },
      "source": [
        ""
      ],
      "execution_count": null,
      "outputs": []
    }
  ]
}