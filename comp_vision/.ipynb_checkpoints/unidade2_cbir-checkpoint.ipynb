{
 "cells": [
  {
   "cell_type": "markdown",
   "metadata": {
    "colab_type": "text",
    "id": "AkrJCyemE2Lz"
   },
   "source": [
    "Recuperação de Informação com base no Conteúdo Visual\n",
    "\n",
    "Descrição de imagens\n",
    "\n",
    "Descritor representa a propriedade de uma imagem. O descritor deve ser invariante a rotação, escala, etc.\n",
    "\n",
    "Exemplo de uma forma (muito simples) de se obter uma representação númerica sobre a imagem por meio de histograma de cor."
   ]
  },
  {
   "cell_type": "code",
   "execution_count": 1,
   "metadata": {
    "colab": {},
    "colab_type": "code",
    "executionInfo": {
     "elapsed": 876,
     "status": "ok",
     "timestamp": 1600195430962,
     "user": {
      "displayName": "Henrique Batista",
      "photoUrl": "",
      "userId": "00958607791887871482"
     },
     "user_tz": 180
    },
    "id": "mP-CW-pzSkM5"
   },
   "outputs": [
    {
     "ename": "ModuleNotFoundError",
     "evalue": "No module named 'numpy'",
     "output_type": "error",
     "traceback": [
      "\u001b[0;31m---------------------------------------------------------------------------\u001b[0m",
      "\u001b[0;31mModuleNotFoundError\u001b[0m                       Traceback (most recent call last)",
      "\u001b[0;32m<ipython-input-1-50612a339fda>\u001b[0m in \u001b[0;36m<module>\u001b[0;34m\u001b[0m\n\u001b[0;32m----> 1\u001b[0;31m \u001b[0;32mimport\u001b[0m \u001b[0mnumpy\u001b[0m \u001b[0;32mas\u001b[0m \u001b[0mnp\u001b[0m\u001b[0;34m\u001b[0m\u001b[0;34m\u001b[0m\u001b[0m\n\u001b[0m\u001b[1;32m      2\u001b[0m \u001b[0;32mimport\u001b[0m \u001b[0mcv2\u001b[0m\u001b[0;34m\u001b[0m\u001b[0;34m\u001b[0m\u001b[0m\n\u001b[1;32m      3\u001b[0m \u001b[0;32mfrom\u001b[0m \u001b[0mgoogle\u001b[0m\u001b[0;34m.\u001b[0m\u001b[0mcolab\u001b[0m\u001b[0;34m.\u001b[0m\u001b[0mpatches\u001b[0m \u001b[0;32mimport\u001b[0m \u001b[0mcv2_imshow\u001b[0m\u001b[0;34m\u001b[0m\u001b[0;34m\u001b[0m\u001b[0m\n",
      "\u001b[0;31mModuleNotFoundError\u001b[0m: No module named 'numpy'"
     ]
    }
   ],
   "source": [
    "import numpy as np\n",
    "import cv2\n",
    "from google.colab.patches import cv2_imshow"
   ]
  },
  {
   "cell_type": "code",
   "execution_count": 5,
   "metadata": {
    "colab": {},
    "colab_type": "code",
    "executionInfo": {
     "elapsed": 575,
     "status": "ok",
     "timestamp": 1600196231884,
     "user": {
      "displayName": "Henrique Batista",
      "photoUrl": "",
      "userId": "00958607791887871482"
     },
     "user_tz": 180
    },
    "id": "JjVLRbY3IG7f"
   },
   "outputs": [],
   "source": [
    "img_lena = cv2.imread('/content/drive/My Drive/Visao/02_cbir/lena.png',0)\n",
    "img_lena_bgr = cv2.imread('/content/drive/My Drive/Visao/02_cbir/lena.png')"
   ]
  },
  {
   "cell_type": "code",
   "execution_count": null,
   "metadata": {
    "colab": {},
    "colab_type": "code",
    "id": "_K6I45OlE_Rt"
   },
   "outputs": [],
   "source": [
    "%%time\n",
    "cv2_imshow(img_lena)\n",
    "# cv2.imshow(img)\n",
    "# cv2.waitKey(0)\n",
    "# cv2.destroyAllWindows()\n",
    "\n",
    "hist, bins = np.histogram(img_lena.ravel(),256,[0,256])\n",
    "\n",
    "print(bins)\n",
    "print(hist)"
   ]
  },
  {
   "cell_type": "markdown",
   "metadata": {
    "colab_type": "text",
    "id": "hG71RofSFWZ-"
   },
   "source": [
    "Plotting Histograms"
   ]
  },
  {
   "cell_type": "code",
   "execution_count": 3,
   "metadata": {
    "colab": {},
    "colab_type": "code",
    "executionInfo": {
     "elapsed": 604,
     "status": "ok",
     "timestamp": 1600196138270,
     "user": {
      "displayName": "Henrique Batista",
      "photoUrl": "",
      "userId": "00958607791887871482"
     },
     "user_tz": 180
    },
    "id": "BhfY28XjFX48"
   },
   "outputs": [],
   "source": [
    "from matplotlib import pyplot as plt"
   ]
  },
  {
   "cell_type": "code",
   "execution_count": null,
   "metadata": {
    "colab": {},
    "colab_type": "code",
    "id": "38DbdMsMFbTx"
   },
   "outputs": [],
   "source": [
    "plt.hist(img_lena.ravel(),256,[0,256]); plt.show()"
   ]
  },
  {
   "cell_type": "markdown",
   "metadata": {
    "colab_type": "text",
    "id": "IAJPTKZOH49h"
   },
   "source": [
    "Histograma de cor da imagem nos três canais RGB"
   ]
  },
  {
   "cell_type": "code",
   "execution_count": null,
   "metadata": {
    "colab": {},
    "colab_type": "code",
    "id": "D5ehEp4TH5gg"
   },
   "outputs": [],
   "source": [
    "cv2_imshow(img_lena_bgr)\n",
    "\n",
    "color = ('b','g','r')\n",
    "for i,col in enumerate(color):\n",
    "    histr = cv2.calcHist([img_lena_bgr],[i],None,[256],[0,256])\n",
    "    plt.plot(histr,color = col)\n",
    "    plt.xlim([0,256])\n",
    "\n",
    "plt.show()"
   ]
  },
  {
   "cell_type": "markdown",
   "metadata": {
    "colab_type": "text",
    "id": "FDu-vgiJITNh"
   },
   "source": [
    "**Feature Detection and Description**\n",
    "\n",
    "**Features Locais**\n",
    "\n",
    "Features locais: Padrão que se difere da vizinhança local. Pontos de interesse: cantos (corners), regiões, etc..\n",
    "\n",
    "BRIEF (Binary Robust Independent Elementary Features)"
   ]
  },
  {
   "cell_type": "code",
   "execution_count": 8,
   "metadata": {
    "colab": {},
    "colab_type": "code",
    "executionInfo": {
     "elapsed": 603,
     "status": "ok",
     "timestamp": 1600196329463,
     "user": {
      "displayName": "Henrique Batista",
      "photoUrl": "",
      "userId": "00958607791887871482"
     },
     "user_tz": 180
    },
    "id": "OLZncBX4IXMF"
   },
   "outputs": [],
   "source": [
    "import sys\n",
    "np.set_printoptions(threshold=sys.maxsize)"
   ]
  },
  {
   "cell_type": "code",
   "execution_count": 9,
   "metadata": {
    "colab": {},
    "colab_type": "code",
    "executionInfo": {
     "elapsed": 583,
     "status": "ok",
     "timestamp": 1600196330766,
     "user": {
      "displayName": "Henrique Batista",
      "photoUrl": "",
      "userId": "00958607791887871482"
     },
     "user_tz": 180
    },
    "id": "WB1HMJ08IbIb"
   },
   "outputs": [],
   "source": [
    "# BRIEF não possui detector de pontos de interesse\n",
    "# Initiate STAR detector\n",
    "star = cv2.xfeatures2d.StarDetector_create()\n",
    "\n",
    "# Initiate BRIEF extractor\n",
    "brief = cv2.xfeatures2d.BriefDescriptorExtractor_create()"
   ]
  },
  {
   "cell_type": "code",
   "execution_count": 10,
   "metadata": {
    "colab": {},
    "colab_type": "code",
    "executionInfo": {
     "elapsed": 592,
     "status": "ok",
     "timestamp": 1600196332171,
     "user": {
      "displayName": "Henrique Batista",
      "photoUrl": "",
      "userId": "00958607791887871482"
     },
     "user_tz": 180
    },
    "id": "VwSvLFt2Icnh"
   },
   "outputs": [],
   "source": [
    "img_baggage = cv2.imread('/content/drive/My Drive/Visao/02_cbir/baggage_claim.jpg')    \n",
    "gray = cv2.cvtColor(img_baggage,cv2.COLOR_BGR2GRAY)"
   ]
  },
  {
   "cell_type": "code",
   "execution_count": null,
   "metadata": {
    "colab": {},
    "colab_type": "code",
    "id": "fg-Jk6I3Iejz"
   },
   "outputs": [],
   "source": [
    "# find the keypoints with STAR\n",
    "kp = star.detect(gray,None)\n",
    "\n",
    "# compute the descriptors with BRIEF\n",
    "kp, feat = brief.compute(gray, kp)\n",
    "\n",
    "print(len(kp))\n",
    "print(feat.shape)\n",
    "print(feat)"
   ]
  },
  {
   "cell_type": "markdown",
   "metadata": {
    "colab_type": "text",
    "id": "er4vg2FqIo2E"
   },
   "source": [
    "ORB (Oriented FAST and Rotated BRIEF)"
   ]
  },
  {
   "cell_type": "code",
   "execution_count": null,
   "metadata": {
    "colab": {},
    "colab_type": "code",
    "id": "wKLAH1ZdIr8R"
   },
   "outputs": [],
   "source": [
    "# Initiate ORB detector\n",
    "orb = cv2.ORB_create()\n",
    "\n",
    "# find the keypoints and descriptors with SIFT\n",
    "kp1, des1 = orb.detectAndCompute(gray,None)\n",
    "\n",
    "print(np.shape(des1))\n",
    "print(des1)"
   ]
  },
  {
   "cell_type": "markdown",
   "metadata": {
    "colab_type": "text",
    "id": "-k7tJYZCJNrm"
   },
   "source": [
    "Matching de features locais entre duas imagens"
   ]
  },
  {
   "cell_type": "code",
   "execution_count": 13,
   "metadata": {
    "colab": {},
    "colab_type": "code",
    "executionInfo": {
     "elapsed": 613,
     "status": "ok",
     "timestamp": 1600197358515,
     "user": {
      "displayName": "Henrique Batista",
      "photoUrl": "",
      "userId": "00958607791887871482"
     },
     "user_tz": 180
    },
    "id": "9DcDsWhqJPkp"
   },
   "outputs": [],
   "source": [
    "import imutils"
   ]
  },
  {
   "cell_type": "code",
   "execution_count": 14,
   "metadata": {
    "colab": {},
    "colab_type": "code",
    "executionInfo": {
     "elapsed": 565,
     "status": "ok",
     "timestamp": 1600197360031,
     "user": {
      "displayName": "Henrique Batista",
      "photoUrl": "",
      "userId": "00958607791887871482"
     },
     "user_tz": 180
    },
    "id": "vc76h_UTJUB6"
   },
   "outputs": [],
   "source": [
    "# create BFMatcher object\n",
    "bf = cv2.BFMatcher(cv2.NORM_HAMMING, crossCheck=True)"
   ]
  },
  {
   "cell_type": "code",
   "execution_count": 15,
   "metadata": {
    "colab": {},
    "colab_type": "code",
    "executionInfo": {
     "elapsed": 637,
     "status": "ok",
     "timestamp": 1600197363029,
     "user": {
      "displayName": "Henrique Batista",
      "photoUrl": "",
      "userId": "00958607791887871482"
     },
     "user_tz": 180
    },
    "id": "xvyKCyqhJVXW"
   },
   "outputs": [],
   "source": [
    "img1 = cv2.imread('/content/drive/My Drive/Visao/02_cbir/baggage_claim.jpg',0)             \n",
    "img2 = cv2.imread('/content/drive/My Drive/Visao/02_cbir/baggage_claim.jpg',0)  \n",
    "\n",
    "# rotate image 180° \n",
    "rotated = imutils.rotate(img2, 180)\n",
    "img2 = rotated"
   ]
  },
  {
   "cell_type": "code",
   "execution_count": null,
   "metadata": {
    "colab": {},
    "colab_type": "code",
    "id": "OzPtDePKMiZS"
   },
   "outputs": [],
   "source": [
    "# find the keypoints and descriptors with SIFT\n",
    "kp1, desc1 = orb.detectAndCompute(img1,None)\n",
    "kp2, desc2 = orb.detectAndCompute(img2,None)\n",
    "\n",
    "# Match descriptors.\n",
    "matches = bf.match(desc1,desc2)\n",
    "\n",
    "# Sort them in the order of their distance.\n",
    "matches = sorted(matches, key = lambda x:x.distance)\n",
    "\n",
    "# Draw first 10 matches.\n",
    "img3 = cv2.drawMatches(img1,kp1,img2,kp2,matches[:10],None,flags=2)\n",
    "\n",
    "plt.imshow(img3),plt.show()"
   ]
  },
  {
   "cell_type": "code",
   "execution_count": null,
   "metadata": {
    "colab": {},
    "colab_type": "code",
    "id": "PoVaojDBMlPK"
   },
   "outputs": [],
   "source": [
    "# rotate image 180° \n",
    "rotated = imutils.rotate(img_lena, 180)\n",
    "img_lena_rotated = rotated\n",
    "\n",
    "# find the keypoints and descriptors with SIFT\n",
    "kp1, desc1 = orb.detectAndCompute(img_lena,None)\n",
    "kp2, desc2 = orb.detectAndCompute(img_lena_rotated,None)\n",
    "\n",
    "# Match descriptors.\n",
    "matches = bf.match(desc1,desc2)\n",
    "\n",
    "# Sort them in the order of their distance.\n",
    "matches = sorted(matches, key = lambda x:x.distance)\n",
    "\n",
    "# Draw first 10 matches.\n",
    "img_lena_matches = cv2.drawMatches(img_lena,kp1,img_lena_rotated,kp2,matches[:10],None,flags=2)\n",
    "\n",
    "plt.imshow(img_lena_matches),plt.show()"
   ]
  },
  {
   "cell_type": "markdown",
   "metadata": {
    "colab_type": "text",
    "id": "Zch7yAf0MpXM"
   },
   "source": [
    "**Busca de vídeo com base em conteúdo visual**\n",
    "\n",
    "Lendo um vídeo em OpenCV\n",
    "\n",
    "Abre e extrai keyframes do vídeo salvando em disco"
   ]
  },
  {
   "cell_type": "code",
   "execution_count": 18,
   "metadata": {
    "colab": {},
    "colab_type": "code",
    "executionInfo": {
     "elapsed": 544,
     "status": "ok",
     "timestamp": 1600198174741,
     "user": {
      "displayName": "Henrique Batista",
      "photoUrl": "",
      "userId": "00958607791887871482"
     },
     "user_tz": 180
    },
    "id": "Jn3tPBe2Msmg"
   },
   "outputs": [],
   "source": [
    "from os import listdir\n",
    "from os.path import isfile, join\n",
    "import os\n",
    "import os.path\n",
    "import sys\n",
    "import pickle"
   ]
  },
  {
   "cell_type": "code",
   "execution_count": 19,
   "metadata": {
    "colab": {},
    "colab_type": "code",
    "executionInfo": {
     "elapsed": 602,
     "status": "ok",
     "timestamp": 1600198180520,
     "user": {
      "displayName": "Henrique Batista",
      "photoUrl": "",
      "userId": "00958607791887871482"
     },
     "user_tz": 180
    },
    "id": "1Mg-txsdPCSW"
   },
   "outputs": [],
   "source": [
    "frames_dir = \"frames/\"\n",
    "\n",
    "features_dir = \"features/\"\n",
    "\n",
    "cluster_dir = \"cluster/\"\n",
    "\n",
    "bow_dir = \"bow/\"\n",
    "\n",
    "if not os.path.exists(frames_dir):\n",
    "    os.makedirs(frames_dir)  \n",
    "\n",
    "if not os.path.exists(features_dir):\n",
    "    os.makedirs(features_dir)  \n",
    "  \n",
    "if not os.path.exists(cluster_dir):\n",
    "    os.makedirs(cluster_dir)  \n",
    "\n",
    "if not os.path.exists(bow_dir):\n",
    "    os.makedirs(bow_dir)"
   ]
  },
  {
   "cell_type": "code",
   "execution_count": null,
   "metadata": {
    "colab": {},
    "colab_type": "code",
    "id": "yVRsX3WgPQiH"
   },
   "outputs": [],
   "source": [
    "# video path\n",
    "video_dir = \"videos/\"\n",
    "\n",
    "# video file\n",
    "video = \"/content/drive/My Drive/Visao/02_cbir/airport.mp4\"\n",
    "\n",
    "# create VideoCapture object and read from video file\n",
    "cap = cv2.VideoCapture(video)\n",
    "\n",
    "# frames per second\n",
    "video_frames = 30\n",
    "\n",
    "# frame id\n",
    "id_frame = 0\n",
    "\n",
    "ret = True\n",
    "while ret:\n",
    "    # capture frame by frame\n",
    "    ret, frame = cap.read()\n",
    "\n",
    "    # video length\n",
    "    length = int(cap.get(cv2.CAP_PROP_FRAME_COUNT))\n",
    "\n",
    "    if (id_frame % video_frames) == 0 and ret:\n",
    "\n",
    "        print(\"Proccessing frame \" + str(id_frame) + \" of \" + str(length))\n",
    "\n",
    "        frame_path = os.path.join(frames_dir, str(id_frame) + \".png\")\n",
    "\n",
    "        # salva a imagem (frame) no disco\n",
    "        cv2.imwrite(frame_path, frame)\n",
    "    \n",
    "    id_frame += 1\n",
    "  \n",
    "print(\"Done\")"
   ]
  },
  {
   "cell_type": "code",
   "execution_count": null,
   "metadata": {
    "colab": {},
    "colab_type": "code",
    "id": "DqaOFXG_Pc97"
   },
   "outputs": [],
   "source": [
    "frame = cv2.imread('frames/480.png')\n",
    "cv2_imshow(frame)"
   ]
  },
  {
   "cell_type": "markdown",
   "metadata": {
    "colab_type": "text",
    "id": "dzUabD_WPfJF"
   },
   "source": [
    "Extraindo descritores do frames do vídeo usando BRIEF Descriptor"
   ]
  },
  {
   "cell_type": "code",
   "execution_count": null,
   "metadata": {
    "colab": {},
    "colab_type": "code",
    "id": "j4HE3XwfPfhn"
   },
   "outputs": [],
   "source": [
    "# leitura das imagens do diretório\n",
    "onlyfiles = []\n",
    "if os.path.exists(frames_dir):\n",
    "    onlyfiles = [f for f in listdir(frames_dir) if isfile(join(frames_dir, f))]\n",
    "    \n",
    "    # processa cada arquivo de imagem de um diretório\n",
    "    for file in onlyfiles:\n",
    "\n",
    "        print(file)\n",
    "    \n",
    "        img_path = join(frames_dir, file)\n",
    "\n",
    "        img = cv2.imread(img_path)\n",
    "\n",
    "        # opcional: redimensiona a imagem\n",
    "        # img = cv2.resize(\n",
    "        #  img, (160, 160), interpolation=cv2.INTER_CUBIC)\n",
    "        \n",
    "        # Initiate STAR detector\n",
    "        star = cv2.xfeatures2d.StarDetector_create()\n",
    "\n",
    "        # Initiate BRIEF extractor\n",
    "        brief = cv2.xfeatures2d.BriefDescriptorExtractor_create()\n",
    "\n",
    "        # find the keypoints with STAR\n",
    "        kp = star.detect(img,None)\n",
    "\n",
    "        # compute the descriptors with BRIEF\n",
    "        kp, feat = brief.compute(img, kp)        \n",
    "\n",
    "        print(len(kp))\n",
    "        print(np.shape(feat))\n",
    "        # print(feat)\n",
    "\n",
    "        feat_path = join(features_dir, file)\n",
    "\n",
    "        # store the data as binary data stream\n",
    "        with open(feat_path + \".brief\", \"wb\") as f:            \n",
    "            pickle.dump(feat.tolist(), f)        \n",
    "\n",
    "        # f = open(feat_path + \".brief.txt\", \"w\")\n",
    "        # f.write(str(feat.tolist()))\n",
    "        # f.close()"
   ]
  },
  {
   "cell_type": "markdown",
   "metadata": {
    "colab_type": "text",
    "id": "ZvxMOYBNPjo9"
   },
   "source": [
    "Criação do vocabulário visual\n",
    "\n",
    "1. Clusterização"
   ]
  },
  {
   "cell_type": "code",
   "execution_count": 23,
   "metadata": {
    "colab": {},
    "colab_type": "code",
    "executionInfo": {
     "elapsed": 1348,
     "status": "ok",
     "timestamp": 1600198267359,
     "user": {
      "displayName": "Henrique Batista",
      "photoUrl": "",
      "userId": "00958607791887871482"
     },
     "user_tz": 180
    },
    "id": "tP-lzakwP0oL"
   },
   "outputs": [],
   "source": [
    "from sklearn.cluster import KMeans\n",
    "import time"
   ]
  },
  {
   "cell_type": "code",
   "execution_count": 24,
   "metadata": {
    "colab": {},
    "colab_type": "code",
    "executionInfo": {
     "elapsed": 538,
     "status": "ok",
     "timestamp": 1600198270802,
     "user": {
      "displayName": "Henrique Batista",
      "photoUrl": "",
      "userId": "00958607791887871482"
     },
     "user_tz": 180
    },
    "id": "Ae4JvGcqP2EB"
   },
   "outputs": [],
   "source": [
    "cluster_file = cluster_dir + \"cluster.cluster\""
   ]
  },
  {
   "cell_type": "code",
   "execution_count": 25,
   "metadata": {
    "colab": {},
    "colab_type": "code",
    "executionInfo": {
     "elapsed": 542,
     "status": "ok",
     "timestamp": 1600198275603,
     "user": {
      "displayName": "Henrique Batista",
      "photoUrl": "",
      "userId": "00958607791887871482"
     },
     "user_tz": 180
    },
    "id": "x4lQo_MGP39s"
   },
   "outputs": [],
   "source": [
    "# número de clusters\n",
    "k = 32\n",
    "\n",
    "# núimeros de dimensões das features\n",
    "dim = 32"
   ]
  },
  {
   "cell_type": "code",
   "execution_count": 26,
   "metadata": {
    "colab": {},
    "colab_type": "code",
    "executionInfo": {
     "elapsed": 653,
     "status": "ok",
     "timestamp": 1600198277931,
     "user": {
      "displayName": "Henrique Batista",
      "photoUrl": "",
      "userId": "00958607791887871482"
     },
     "user_tz": 180
    },
    "id": "ClWwTUfyP5iy"
   },
   "outputs": [],
   "source": [
    "# salva o vocabulário criado (centroids) em disco\n",
    "def saveCentroids (kmeans, output_file, dim):\n",
    "    i = 0\n",
    "    desc = \"\"\n",
    "\n",
    "    for k in np.nditer(kmeans.cluster_centers_):        \n",
    "        a = np.array(k).round(2)\n",
    "        desc += str(a) + \" \"\n",
    "        i += 1        \n",
    "\n",
    "        if (i % dim) == 0:\n",
    "            desc += \"\\n\" \n",
    "\n",
    "    output_file.write(desc)"
   ]
  },
  {
   "cell_type": "code",
   "execution_count": null,
   "metadata": {
    "colab": {},
    "colab_type": "code",
    "id": "831BqQNNP6IC"
   },
   "outputs": [],
   "source": [
    "listOfFeat = []\n",
    "\n",
    "# leitura das imagens do diretório\n",
    "onlyfiles = []\n",
    "if os.path.exists(features_dir):\n",
    "    onlyfiles = [f for f in listdir(features_dir) if isfile(join(features_dir, f))]\n",
    "    \n",
    "    # processa cada arquivo de imagem de um diretório\n",
    "    for file in onlyfiles:\n",
    "        # print(file)\n",
    "    \n",
    "        feat_path = join(features_dir, file)\n",
    "\n",
    "        with open(feat_path, 'rb') as f:\n",
    "            # read the data as binary data stream\n",
    "            feat = pickle.load(f)\n",
    "\n",
    "        # print(feat)\n",
    "\n",
    "        for item in feat:\n",
    "            listOfFeat.append(item)\n",
    "\n",
    "output_file = open(cluster_file, 'w')\n",
    "\n",
    "# print( np.asarray(listOfFeat) )\n",
    "print( np.asarray(listOfFeat).shape )\n",
    "# output_file.write(np.asarray(listOfFeat[0]))\n",
    "    \n",
    "t1 = time.time()  \n",
    "kmeans = KMeans(n_clusters=k, random_state=0).fit(np.asarray(listOfFeat))\n",
    "t2 = time.time()\n",
    "tf = t2 - t1\n",
    "\n",
    "print(tf)\n",
    "\n",
    "saveCentroids (kmeans, output_file, dim)  \n",
    "output_file.close()"
   ]
  },
  {
   "cell_type": "markdown",
   "metadata": {
    "colab_type": "text",
    "id": "szOGaixmQOkI"
   },
   "source": [
    "2. Bag of Visual Word"
   ]
  },
  {
   "cell_type": "code",
   "execution_count": null,
   "metadata": {
    "colab": {},
    "colab_type": "code",
    "id": "ZRDUn_VlQSwP"
   },
   "outputs": [],
   "source": [
    "%%time\n",
    "# leitura dos centroids do arquivo\n",
    "centroids = np.loadtxt(cluster_file)\n",
    "\n",
    "# obtem o número de centroids (palavras visuais)\n",
    "clusters = centroids.shape[0]\n",
    "\n",
    "# leitura das imagens do diretório\n",
    "onlyfiles = []\n",
    "if os.path.exists(features_dir):\n",
    "    onlyfiles = [f for f in listdir(features_dir) if isfile(join(features_dir, f))]\n",
    "\n",
    "    bowOfImages = []    \n",
    "    \n",
    "    # processa cada arquivo de imagem de um diretório\n",
    "    for file in onlyfiles:\n",
    "    \n",
    "        feat_path = join(features_dir, file)\n",
    "\n",
    "        with open(feat_path, 'rb') as f:\n",
    "            # read the data as binary data stream\n",
    "            feat = pickle.load(f)        \n",
    "\n",
    "        # inicializa o BoW da imagem com zero para cada dimensão\n",
    "        bow = [0] * clusters\n",
    "\n",
    "        # procedimento força bruta para cálculo de distância (euclidean distance)\n",
    "        for item in feat:\n",
    "            result = sys.float_info.max\n",
    "            centroid_id = 0\n",
    "\n",
    "            for id, c in enumerate(centroids):\n",
    "               # Euclidean Distance \n",
    "               dist = np.sqrt(np.sum(np.square(np.subtract(item, c))))\n",
    "               if dist < result:\n",
    "                  result = dist\n",
    "                  centroid_id = id\n",
    "\n",
    "            bow[centroid_id] += 1                     \n",
    "        \n",
    "        bow_path = join(bow_dir, file)\n",
    "\n",
    "        with open(bow_path + \".bow\", 'w') as f:\n",
    "            for item in bow:\n",
    "                f.write(\"%s \" % item)\n",
    "\n",
    "print(\"Done\")"
   ]
  },
  {
   "cell_type": "markdown",
   "metadata": {
    "colab_type": "text",
    "id": "5KmCvWMSQd6U"
   },
   "source": [
    "Busca\n",
    "\n",
    "Utilizando um arquivo de BoW de uma imagem do próprio vídeo"
   ]
  },
  {
   "cell_type": "code",
   "execution_count": null,
   "metadata": {
    "colab": {},
    "colab_type": "code",
    "id": "ZgqEB7ECQebC"
   },
   "outputs": [],
   "source": [
    "%%time\n",
    "# leitura das imagens do diretório\n",
    "\n",
    "q = np.loadtxt(bow_dir + \"450.png.brief.bow\")\n",
    "\n",
    "onlyfiles = []\n",
    "if os.path.exists(bow_dir):\n",
    "    onlyfiles = [f for f in listdir(bow_dir) if isfile(join(bow_dir, f))]\n",
    "\n",
    "    # processa cada arquivo de imagem de um diretório\n",
    "    for file in onlyfiles:\n",
    "\n",
    "        feat_path = join(bow_dir, file)\n",
    "\n",
    "        item = np.loadtxt(feat_path)\n",
    "\n",
    "        # print(item)\n",
    "        # print(item.shape)\n",
    "\n",
    "        dist = np.sqrt(np.sum(np.square(np.subtract(item, q))))\n",
    "\n",
    "        print(str(file) + \": \" + str(dist))"
   ]
  },
  {
   "cell_type": "markdown",
   "metadata": {
    "colab_type": "text",
    "id": "-v4Sf5PIQx0J"
   },
   "source": [
    "Altere a quantidade de clsuter para k = 64 e repita o procedimento acima, compare os resultados de cálculo de distância. O que mudou em relação às distâncias calculadas?"
   ]
  },
  {
   "cell_type": "markdown",
   "metadata": {
    "colab_type": "text",
    "id": "6LfxlygqQ9dK"
   },
   "source": [
    "Utilizando uma nova imagem qualquer\n",
    "\n",
    "Calculando features locais da imagem de consulta"
   ]
  },
  {
   "cell_type": "code",
   "execution_count": null,
   "metadata": {
    "colab": {},
    "colab_type": "code",
    "id": "obel5CFTQk2o"
   },
   "outputs": [],
   "source": [
    "frame = cv2.imread('/content/drive/My Drive/Visao/02_cbir/beluga.jpg')\n",
    "cv2_imshow(frame)"
   ]
  },
  {
   "cell_type": "code",
   "execution_count": 32,
   "metadata": {
    "colab": {},
    "colab_type": "code",
    "executionInfo": {
     "elapsed": 604,
     "status": "ok",
     "timestamp": 1600198623677,
     "user": {
      "displayName": "Henrique Batista",
      "photoUrl": "",
      "userId": "00958607791887871482"
     },
     "user_tz": 180
    },
    "id": "-3whF53bRBhr"
   },
   "outputs": [],
   "source": [
    "q = '/content/drive/My Drive/Visao/02_cbir/beluga.jpg'\n",
    "q_feature = q + \".brief\"\n",
    "q_bow = q_feature + \".bow\""
   ]
  },
  {
   "cell_type": "code",
   "execution_count": null,
   "metadata": {
    "colab": {},
    "colab_type": "code",
    "id": "Zlvcp__WRGnV"
   },
   "outputs": [],
   "source": [
    "img_search = cv2.imread(q)\n",
    "\n",
    "# Initiate STAR detector\n",
    "star = cv2.xfeatures2d.StarDetector_create()\n",
    "\n",
    "# Initiate BRIEF extractor\n",
    "brief = cv2.xfeatures2d.BriefDescriptorExtractor_create()\n",
    "\n",
    "# find the keypoints with STAR\n",
    "kp = star.detect(img_search,None)\n",
    "\n",
    "# compute the descriptors with BRIEF\n",
    "kp, feat = brief.compute(img_search, kp)        \n",
    "\n",
    "print(len(kp))\n",
    "print(np.shape(feat))\n",
    "# print(feat)\n",
    "\n",
    "# store the data as binary data stream\n",
    "with open(q_feature, \"wb\") as f:            \n",
    "  pickle.dump(feat.tolist(), f)        "
   ]
  },
  {
   "cell_type": "markdown",
   "metadata": {
    "colab_type": "text",
    "id": "DK2BahEKRarT"
   },
   "source": [
    "Calculando BoW da imagem de consulta (observe que o mesmo vocabulário visual calculado anteriormente é utilizado)"
   ]
  },
  {
   "cell_type": "code",
   "execution_count": null,
   "metadata": {
    "colab": {},
    "colab_type": "code",
    "id": "0YMBtRRnRbKp"
   },
   "outputs": [],
   "source": [
    "# leitura dos centroids do arquivo\n",
    "centroids = np.loadtxt(cluster_file)\n",
    "\n",
    "# obtem o número de centroids (palavras visuais)\n",
    "clusters = centroids.shape[0]\n",
    "\n",
    "with open(q_feature, 'rb') as f:\n",
    "    # read the data as binary data stream\n",
    "    feat = pickle.load(f)        \n",
    "\n",
    "    # inicializa o BoW da imagem com zero para cada dimensão\n",
    "    bow = [0] * clusters\n",
    "\n",
    "    # procedimento força bruta para cálculo de distância (euclidean distance)\n",
    "    for item in feat:\n",
    "        result = sys.float_info.max\n",
    "        centroid_id = 0\n",
    "\n",
    "        for id, c in enumerate(centroids):\n",
    "            dist = np.sqrt(np.sum(np.square(np.subtract(item, c))))\n",
    "            if dist < result:\n",
    "              result = dist\n",
    "              centroid_id = id\n",
    "\n",
    "        bow[centroid_id] += 1                     \n",
    "\n",
    "    with open(q_bow, 'w') as f:\n",
    "        for item in bow:\n",
    "            f.write(\"%s \" % item)\n",
    "\n",
    "print(\"Done\")"
   ]
  },
  {
   "cell_type": "markdown",
   "metadata": {
    "colab_type": "text",
    "id": "NjPNehUrRfKS"
   },
   "source": [
    "Realizando a consulta"
   ]
  },
  {
   "cell_type": "code",
   "execution_count": null,
   "metadata": {
    "colab": {},
    "colab_type": "code",
    "id": "50-dxvCrRffM"
   },
   "outputs": [],
   "source": [
    "# leitura das imagens do diretório\n",
    "\n",
    "q = np.loadtxt(q_bow)\n",
    "\n",
    "onlyfiles = []\n",
    "if os.path.exists(bow_dir):\n",
    "    onlyfiles = [f for f in listdir(bow_dir) if isfile(join(bow_dir, f))]\n",
    "\n",
    "    # processa cada arquivo de imagem de um diretório\n",
    "    for file in onlyfiles:\n",
    "\n",
    "        feat_path = join(bow_dir, file)\n",
    "\n",
    "        item = np.loadtxt(feat_path)\n",
    "\n",
    "        # print(item)\n",
    "        # print(item.shape)\n",
    "\n",
    "        dist = np.sqrt(np.sum(np.square(np.subtract(item, q))))\n",
    "\n",
    "        print(str(file) + \": \" + str(dist))"
   ]
  },
  {
   "cell_type": "code",
   "execution_count": null,
   "metadata": {
    "colab": {},
    "colab_type": "code",
    "id": "MLT_3uOURlHS"
   },
   "outputs": [],
   "source": [
    "frame = cv2.imread('frames/450.png')\n",
    "cv2_imshow(frame)"
   ]
  }
 ],
 "metadata": {
  "colab": {
   "authorship_tag": "ABX9TyMAFmXQwW7bt1lQio6Tn6a1",
   "collapsed_sections": [],
   "mount_file_id": "1LCu5FoFbVcEa4tysVBtGy23mYgFRF_0H",
   "name": "unidade2_cbir.ipynb",
   "provenance": []
  },
  "kernelspec": {
   "display_name": "Python 3",
   "language": "python",
   "name": "python3"
  },
  "language_info": {
   "codemirror_mode": {
    "name": "ipython",
    "version": 3
   },
   "file_extension": ".py",
   "mimetype": "text/x-python",
   "name": "python",
   "nbconvert_exporter": "python",
   "pygments_lexer": "ipython3",
   "version": "3.8.5"
  }
 },
 "nbformat": 4,
 "nbformat_minor": 1
}
